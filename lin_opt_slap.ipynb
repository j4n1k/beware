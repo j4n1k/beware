{
 "cells": [
  {
   "cell_type": "code",
   "execution_count": 1,
   "metadata": {},
   "outputs": [],
   "source": [
    "from layout import Layout\n",
    "from pulp import *\n",
    "import numpy as np\n",
    "import random\n",
    "from copy import deepcopy\n",
    "import plotly.graph_objects as go\n",
    "import networkx as nx\n",
    "import pickle\n",
    "from ortools.constraint_solver import routing_enums_pb2\n",
    "from ortools.constraint_solver import pywrapcp"
   ]
  },
  {
   "cell_type": "code",
   "execution_count": 2,
   "metadata": {},
   "outputs": [],
   "source": [
    "def render_warehouse(warehouse: Layout, assignment, product_frequency):\n",
    "    storage_assignment = deepcopy(warehouse.layout_grid)\n",
    "    walkable_locs = np.where(warehouse.layout_grid == 0)\n",
    "\n",
    "    for x, y, z in zip(walkable_locs[0], walkable_locs[1], walkable_locs[2]):\n",
    "        storage_assignment[x,y,z] = -100\n",
    "\n",
    "    for i, loc in enumerate(assignment):\n",
    "        storage_assignment[warehouse.nodes_list[loc]] = i \n",
    "\n",
    "    storage_frequence = deepcopy(warehouse.layout_grid)\n",
    "    for i, loc in enumerate(assignment):\n",
    "        storage_frequence[warehouse.nodes_list[loc]] = product_frequency[i]\n",
    "    \n",
    "    node_xyz = np.array([warehouse.pos_dict[v] for v in sorted(warehouse.graph)])\n",
    "    edge_xyz = np.array([(warehouse.pos_dict[u], warehouse.pos_dict[v]) for u, v in warehouse.graph.edges()])\n",
    "\n",
    "    data = []\n",
    "    for x, y, z in zip(node_xyz.T[0], node_xyz.T[1], node_xyz.T[2]):\n",
    "        data_point = storage_frequence[x,y,z]\n",
    "        data.append(data_point)\n",
    "\n",
    "    assignment_plt = []\n",
    "    for x, y, z in zip(node_xyz.T[0], node_xyz.T[1], node_xyz.T[2]):\n",
    "        assignment_point = storage_assignment[x,y,z]\n",
    "        assignment_plt.append(assignment_point)\n",
    "\n",
    "    # data_names = []\n",
    "    # # print(assignment_plt)\n",
    "    # for i in assignment_plt:\n",
    "    #     # print(i)\n",
    "    #     if i == -100.0 or i == -1:\n",
    "    #         data_names.append(i)\n",
    "    #     else:\n",
    "    #         data_names.append(product_names[int(i)])\n",
    "\n",
    "\n",
    "    trace = go.Scatter3d(customdata=np.stack((data,assignment_plt),axis=-1), hovertemplate = 'x: %{x}<br>y: %{y}<br>z: %{z}<br>Order Frequency: %{customdata[0]}<br>Product: %{customdata[1]}}',\n",
    "        x = node_xyz.T[0], y = node_xyz.T[1], z = node_xyz.T[2],mode = 'markers', marker = dict(symbol=\"square\",\n",
    "            size = 12,\n",
    "            color = data, # set color to an array/list of desired values\n",
    "            colorscale = 'thermal')\n",
    "        )\n",
    "    layout = go.Layout(title = 'Warehouse Visualization')\n",
    "    fig = go.Figure(data = [trace], layout = layout)\n",
    "    fig.update_traces(marker_size = 5)\n",
    "    return fig"
   ]
  },
  {
   "cell_type": "code",
   "execution_count": 3,
   "metadata": {},
   "outputs": [],
   "source": [
    "warehouse = Layout(5, 3, 1, False, False, None) \n",
    "double_deep = \"False\"\n",
    "path = os.path.join(\"data/cache/dist_mats/\", \"dist_mat_\" + str(warehouse.layout_grid.shape) + \"_\" + str(double_deep) + \".npy\")\n",
    "if os.path.exists(path):\n",
    "    dist_mat = np.load(path)\n",
    "else:\n",
    "    dist_mat = warehouse.gen_dist_mat(path)"
   ]
  },
  {
   "cell_type": "code",
   "execution_count": 4,
   "metadata": {},
   "outputs": [
    {
     "data": {
      "text/plain": [
       "array([[ 0.,  0.,  0.],\n",
       "       [-1.,  0., -1.],\n",
       "       [-1.,  0., -1.],\n",
       "       [-1.,  0., -1.],\n",
       "       [ 0.,  0.,  0.]])"
      ]
     },
     "execution_count": 4,
     "metadata": {},
     "output_type": "execute_result"
    }
   ],
   "source": [
    "warehouse.layout_grid[:,:,0]"
   ]
  },
  {
   "cell_type": "code",
   "execution_count": 5,
   "metadata": {},
   "outputs": [],
   "source": [
    "size = len(warehouse.storage_locs)\n",
    "product_pairs_frequency = np.zeros((size, size))\n",
    "upper_bound = 9\n",
    "for i in range(size):\n",
    "    for j in range(size):\n",
    "        if i == j: \n",
    "            product_pairs_frequency[i][j] = 0\n",
    "        # since problem is a one-one problem, mapping (1,2) == (2,1) so there's no need to create duplicate mappings\n",
    "        #if (j,i) in product_pairs_frequency: continue\n",
    "        else:\n",
    "            product_pairs_frequency[i][j] = random.randrange(0, upper_bound)"
   ]
  },
  {
   "cell_type": "code",
   "execution_count": 6,
   "metadata": {},
   "outputs": [],
   "source": [
    "product_frequency = {}\n",
    "for i in range(size):\n",
    "    product_frequency[i] = product_pairs_frequency[i].sum()"
   ]
  },
  {
   "cell_type": "code",
   "execution_count": 7,
   "metadata": {},
   "outputs": [],
   "source": [
    "n_storage_locs = len(warehouse.storage_locs)\n",
    "#n_products = len(warehouse.storage_locs)\n",
    "n_products = len(product_frequency.keys())\n",
    "\n",
    "storage_locs = [warehouse.nodes_list.index(loc) for loc in warehouse.storage_locs]\n",
    "products = [p for p in range(n_products)]\n",
    "storage_loc_mapping = {i:loc for i,loc in enumerate(storage_locs)}\n",
    "storage_locs_new = [i for i in storage_loc_mapping.keys()]\n",
    "depot = 0"
   ]
  },
  {
   "cell_type": "code",
   "execution_count": 8,
   "metadata": {},
   "outputs": [
    {
     "data": {
      "text/plain": [
       "[6, 5, 9, 8, 12, 11]"
      ]
     },
     "execution_count": 8,
     "metadata": {},
     "output_type": "execute_result"
    }
   ],
   "source": [
    "storage_locs"
   ]
  },
  {
   "cell_type": "code",
   "execution_count": 9,
   "metadata": {},
   "outputs": [
    {
     "data": {
      "text/plain": [
       "[0, 1, 2, 3, 4, 5]"
      ]
     },
     "execution_count": 9,
     "metadata": {},
     "output_type": "execute_result"
    }
   ],
   "source": [
    "storage_locs_new"
   ]
  },
  {
   "cell_type": "code",
   "execution_count": 10,
   "metadata": {},
   "outputs": [],
   "source": [
    "assignment = storage_locs"
   ]
  },
  {
   "cell_type": "code",
   "execution_count": 11,
   "metadata": {},
   "outputs": [],
   "source": [
    "fig = render_warehouse(warehouse, assignment, product_frequency)"
   ]
  },
  {
   "cell_type": "code",
   "execution_count": 12,
   "metadata": {},
   "outputs": [
    {
     "data": {
      "application/vnd.plotly.v1+json": {
       "config": {
        "plotlyServerURL": "https://plot.ly"
       },
       "data": [
        {
         "customdata": [
          [
           0,
           -100
          ],
          [
           0,
           -100
          ],
          [
           0,
           -100
          ],
          [
           18,
           0
          ],
          [
           0,
           -100
          ],
          [
           19,
           1
          ],
          [
           16,
           2
          ],
          [
           0,
           -100
          ],
          [
           16,
           3
          ],
          [
           20,
           4
          ],
          [
           0,
           -100
          ],
          [
           29,
           5
          ],
          [
           0,
           -100
          ],
          [
           0,
           -100
          ],
          [
           0,
           -100
          ]
         ],
         "hovertemplate": "x: %{x}<br>y: %{y}<br>z: %{z}<br>Order Frequency: %{customdata[0]}<br>Product: %{customdata[1]}}",
         "marker": {
          "color": [
           0,
           0,
           0,
           18,
           0,
           19,
           16,
           0,
           16,
           20,
           0,
           29,
           0,
           0,
           0
          ],
          "colorscale": [
           [
            0,
            "rgb(3, 35, 51)"
           ],
           [
            0.09090909090909091,
            "rgb(13, 48, 100)"
           ],
           [
            0.18181818181818182,
            "rgb(53, 50, 155)"
           ],
           [
            0.2727272727272727,
            "rgb(93, 62, 153)"
           ],
           [
            0.36363636363636365,
            "rgb(126, 77, 143)"
           ],
           [
            0.45454545454545453,
            "rgb(158, 89, 135)"
           ],
           [
            0.5454545454545454,
            "rgb(193, 100, 121)"
           ],
           [
            0.6363636363636364,
            "rgb(225, 113, 97)"
           ],
           [
            0.7272727272727273,
            "rgb(246, 139, 69)"
           ],
           [
            0.8181818181818182,
            "rgb(251, 173, 60)"
           ],
           [
            0.9090909090909091,
            "rgb(246, 211, 70)"
           ],
           [
            1,
            "rgb(231, 250, 90)"
           ]
          ],
          "size": 5,
          "symbol": "square"
         },
         "mode": "markers",
         "type": "scatter3d",
         "x": [
          0,
          0,
          0,
          1,
          1,
          1,
          2,
          2,
          2,
          3,
          3,
          3,
          4,
          4,
          4
         ],
         "y": [
          0,
          1,
          2,
          0,
          1,
          2,
          0,
          1,
          2,
          0,
          1,
          2,
          0,
          1,
          2
         ],
         "z": [
          0,
          0,
          0,
          0,
          0,
          0,
          0,
          0,
          0,
          0,
          0,
          0,
          0,
          0,
          0
         ]
        }
       ],
       "layout": {
        "template": {
         "data": {
          "bar": [
           {
            "error_x": {
             "color": "#2a3f5f"
            },
            "error_y": {
             "color": "#2a3f5f"
            },
            "marker": {
             "line": {
              "color": "#E5ECF6",
              "width": 0.5
             },
             "pattern": {
              "fillmode": "overlay",
              "size": 10,
              "solidity": 0.2
             }
            },
            "type": "bar"
           }
          ],
          "barpolar": [
           {
            "marker": {
             "line": {
              "color": "#E5ECF6",
              "width": 0.5
             },
             "pattern": {
              "fillmode": "overlay",
              "size": 10,
              "solidity": 0.2
             }
            },
            "type": "barpolar"
           }
          ],
          "carpet": [
           {
            "aaxis": {
             "endlinecolor": "#2a3f5f",
             "gridcolor": "white",
             "linecolor": "white",
             "minorgridcolor": "white",
             "startlinecolor": "#2a3f5f"
            },
            "baxis": {
             "endlinecolor": "#2a3f5f",
             "gridcolor": "white",
             "linecolor": "white",
             "minorgridcolor": "white",
             "startlinecolor": "#2a3f5f"
            },
            "type": "carpet"
           }
          ],
          "choropleth": [
           {
            "colorbar": {
             "outlinewidth": 0,
             "ticks": ""
            },
            "type": "choropleth"
           }
          ],
          "contour": [
           {
            "colorbar": {
             "outlinewidth": 0,
             "ticks": ""
            },
            "colorscale": [
             [
              0,
              "#0d0887"
             ],
             [
              0.1111111111111111,
              "#46039f"
             ],
             [
              0.2222222222222222,
              "#7201a8"
             ],
             [
              0.3333333333333333,
              "#9c179e"
             ],
             [
              0.4444444444444444,
              "#bd3786"
             ],
             [
              0.5555555555555556,
              "#d8576b"
             ],
             [
              0.6666666666666666,
              "#ed7953"
             ],
             [
              0.7777777777777778,
              "#fb9f3a"
             ],
             [
              0.8888888888888888,
              "#fdca26"
             ],
             [
              1,
              "#f0f921"
             ]
            ],
            "type": "contour"
           }
          ],
          "contourcarpet": [
           {
            "colorbar": {
             "outlinewidth": 0,
             "ticks": ""
            },
            "type": "contourcarpet"
           }
          ],
          "heatmap": [
           {
            "colorbar": {
             "outlinewidth": 0,
             "ticks": ""
            },
            "colorscale": [
             [
              0,
              "#0d0887"
             ],
             [
              0.1111111111111111,
              "#46039f"
             ],
             [
              0.2222222222222222,
              "#7201a8"
             ],
             [
              0.3333333333333333,
              "#9c179e"
             ],
             [
              0.4444444444444444,
              "#bd3786"
             ],
             [
              0.5555555555555556,
              "#d8576b"
             ],
             [
              0.6666666666666666,
              "#ed7953"
             ],
             [
              0.7777777777777778,
              "#fb9f3a"
             ],
             [
              0.8888888888888888,
              "#fdca26"
             ],
             [
              1,
              "#f0f921"
             ]
            ],
            "type": "heatmap"
           }
          ],
          "heatmapgl": [
           {
            "colorbar": {
             "outlinewidth": 0,
             "ticks": ""
            },
            "colorscale": [
             [
              0,
              "#0d0887"
             ],
             [
              0.1111111111111111,
              "#46039f"
             ],
             [
              0.2222222222222222,
              "#7201a8"
             ],
             [
              0.3333333333333333,
              "#9c179e"
             ],
             [
              0.4444444444444444,
              "#bd3786"
             ],
             [
              0.5555555555555556,
              "#d8576b"
             ],
             [
              0.6666666666666666,
              "#ed7953"
             ],
             [
              0.7777777777777778,
              "#fb9f3a"
             ],
             [
              0.8888888888888888,
              "#fdca26"
             ],
             [
              1,
              "#f0f921"
             ]
            ],
            "type": "heatmapgl"
           }
          ],
          "histogram": [
           {
            "marker": {
             "pattern": {
              "fillmode": "overlay",
              "size": 10,
              "solidity": 0.2
             }
            },
            "type": "histogram"
           }
          ],
          "histogram2d": [
           {
            "colorbar": {
             "outlinewidth": 0,
             "ticks": ""
            },
            "colorscale": [
             [
              0,
              "#0d0887"
             ],
             [
              0.1111111111111111,
              "#46039f"
             ],
             [
              0.2222222222222222,
              "#7201a8"
             ],
             [
              0.3333333333333333,
              "#9c179e"
             ],
             [
              0.4444444444444444,
              "#bd3786"
             ],
             [
              0.5555555555555556,
              "#d8576b"
             ],
             [
              0.6666666666666666,
              "#ed7953"
             ],
             [
              0.7777777777777778,
              "#fb9f3a"
             ],
             [
              0.8888888888888888,
              "#fdca26"
             ],
             [
              1,
              "#f0f921"
             ]
            ],
            "type": "histogram2d"
           }
          ],
          "histogram2dcontour": [
           {
            "colorbar": {
             "outlinewidth": 0,
             "ticks": ""
            },
            "colorscale": [
             [
              0,
              "#0d0887"
             ],
             [
              0.1111111111111111,
              "#46039f"
             ],
             [
              0.2222222222222222,
              "#7201a8"
             ],
             [
              0.3333333333333333,
              "#9c179e"
             ],
             [
              0.4444444444444444,
              "#bd3786"
             ],
             [
              0.5555555555555556,
              "#d8576b"
             ],
             [
              0.6666666666666666,
              "#ed7953"
             ],
             [
              0.7777777777777778,
              "#fb9f3a"
             ],
             [
              0.8888888888888888,
              "#fdca26"
             ],
             [
              1,
              "#f0f921"
             ]
            ],
            "type": "histogram2dcontour"
           }
          ],
          "mesh3d": [
           {
            "colorbar": {
             "outlinewidth": 0,
             "ticks": ""
            },
            "type": "mesh3d"
           }
          ],
          "parcoords": [
           {
            "line": {
             "colorbar": {
              "outlinewidth": 0,
              "ticks": ""
             }
            },
            "type": "parcoords"
           }
          ],
          "pie": [
           {
            "automargin": true,
            "type": "pie"
           }
          ],
          "scatter": [
           {
            "fillpattern": {
             "fillmode": "overlay",
             "size": 10,
             "solidity": 0.2
            },
            "type": "scatter"
           }
          ],
          "scatter3d": [
           {
            "line": {
             "colorbar": {
              "outlinewidth": 0,
              "ticks": ""
             }
            },
            "marker": {
             "colorbar": {
              "outlinewidth": 0,
              "ticks": ""
             }
            },
            "type": "scatter3d"
           }
          ],
          "scattercarpet": [
           {
            "marker": {
             "colorbar": {
              "outlinewidth": 0,
              "ticks": ""
             }
            },
            "type": "scattercarpet"
           }
          ],
          "scattergeo": [
           {
            "marker": {
             "colorbar": {
              "outlinewidth": 0,
              "ticks": ""
             }
            },
            "type": "scattergeo"
           }
          ],
          "scattergl": [
           {
            "marker": {
             "colorbar": {
              "outlinewidth": 0,
              "ticks": ""
             }
            },
            "type": "scattergl"
           }
          ],
          "scattermapbox": [
           {
            "marker": {
             "colorbar": {
              "outlinewidth": 0,
              "ticks": ""
             }
            },
            "type": "scattermapbox"
           }
          ],
          "scatterpolar": [
           {
            "marker": {
             "colorbar": {
              "outlinewidth": 0,
              "ticks": ""
             }
            },
            "type": "scatterpolar"
           }
          ],
          "scatterpolargl": [
           {
            "marker": {
             "colorbar": {
              "outlinewidth": 0,
              "ticks": ""
             }
            },
            "type": "scatterpolargl"
           }
          ],
          "scatterternary": [
           {
            "marker": {
             "colorbar": {
              "outlinewidth": 0,
              "ticks": ""
             }
            },
            "type": "scatterternary"
           }
          ],
          "surface": [
           {
            "colorbar": {
             "outlinewidth": 0,
             "ticks": ""
            },
            "colorscale": [
             [
              0,
              "#0d0887"
             ],
             [
              0.1111111111111111,
              "#46039f"
             ],
             [
              0.2222222222222222,
              "#7201a8"
             ],
             [
              0.3333333333333333,
              "#9c179e"
             ],
             [
              0.4444444444444444,
              "#bd3786"
             ],
             [
              0.5555555555555556,
              "#d8576b"
             ],
             [
              0.6666666666666666,
              "#ed7953"
             ],
             [
              0.7777777777777778,
              "#fb9f3a"
             ],
             [
              0.8888888888888888,
              "#fdca26"
             ],
             [
              1,
              "#f0f921"
             ]
            ],
            "type": "surface"
           }
          ],
          "table": [
           {
            "cells": {
             "fill": {
              "color": "#EBF0F8"
             },
             "line": {
              "color": "white"
             }
            },
            "header": {
             "fill": {
              "color": "#C8D4E3"
             },
             "line": {
              "color": "white"
             }
            },
            "type": "table"
           }
          ]
         },
         "layout": {
          "annotationdefaults": {
           "arrowcolor": "#2a3f5f",
           "arrowhead": 0,
           "arrowwidth": 1
          },
          "autotypenumbers": "strict",
          "coloraxis": {
           "colorbar": {
            "outlinewidth": 0,
            "ticks": ""
           }
          },
          "colorscale": {
           "diverging": [
            [
             0,
             "#8e0152"
            ],
            [
             0.1,
             "#c51b7d"
            ],
            [
             0.2,
             "#de77ae"
            ],
            [
             0.3,
             "#f1b6da"
            ],
            [
             0.4,
             "#fde0ef"
            ],
            [
             0.5,
             "#f7f7f7"
            ],
            [
             0.6,
             "#e6f5d0"
            ],
            [
             0.7,
             "#b8e186"
            ],
            [
             0.8,
             "#7fbc41"
            ],
            [
             0.9,
             "#4d9221"
            ],
            [
             1,
             "#276419"
            ]
           ],
           "sequential": [
            [
             0,
             "#0d0887"
            ],
            [
             0.1111111111111111,
             "#46039f"
            ],
            [
             0.2222222222222222,
             "#7201a8"
            ],
            [
             0.3333333333333333,
             "#9c179e"
            ],
            [
             0.4444444444444444,
             "#bd3786"
            ],
            [
             0.5555555555555556,
             "#d8576b"
            ],
            [
             0.6666666666666666,
             "#ed7953"
            ],
            [
             0.7777777777777778,
             "#fb9f3a"
            ],
            [
             0.8888888888888888,
             "#fdca26"
            ],
            [
             1,
             "#f0f921"
            ]
           ],
           "sequentialminus": [
            [
             0,
             "#0d0887"
            ],
            [
             0.1111111111111111,
             "#46039f"
            ],
            [
             0.2222222222222222,
             "#7201a8"
            ],
            [
             0.3333333333333333,
             "#9c179e"
            ],
            [
             0.4444444444444444,
             "#bd3786"
            ],
            [
             0.5555555555555556,
             "#d8576b"
            ],
            [
             0.6666666666666666,
             "#ed7953"
            ],
            [
             0.7777777777777778,
             "#fb9f3a"
            ],
            [
             0.8888888888888888,
             "#fdca26"
            ],
            [
             1,
             "#f0f921"
            ]
           ]
          },
          "colorway": [
           "#636efa",
           "#EF553B",
           "#00cc96",
           "#ab63fa",
           "#FFA15A",
           "#19d3f3",
           "#FF6692",
           "#B6E880",
           "#FF97FF",
           "#FECB52"
          ],
          "font": {
           "color": "#2a3f5f"
          },
          "geo": {
           "bgcolor": "white",
           "lakecolor": "white",
           "landcolor": "#E5ECF6",
           "showlakes": true,
           "showland": true,
           "subunitcolor": "white"
          },
          "hoverlabel": {
           "align": "left"
          },
          "hovermode": "closest",
          "mapbox": {
           "style": "light"
          },
          "paper_bgcolor": "white",
          "plot_bgcolor": "#E5ECF6",
          "polar": {
           "angularaxis": {
            "gridcolor": "white",
            "linecolor": "white",
            "ticks": ""
           },
           "bgcolor": "#E5ECF6",
           "radialaxis": {
            "gridcolor": "white",
            "linecolor": "white",
            "ticks": ""
           }
          },
          "scene": {
           "xaxis": {
            "backgroundcolor": "#E5ECF6",
            "gridcolor": "white",
            "gridwidth": 2,
            "linecolor": "white",
            "showbackground": true,
            "ticks": "",
            "zerolinecolor": "white"
           },
           "yaxis": {
            "backgroundcolor": "#E5ECF6",
            "gridcolor": "white",
            "gridwidth": 2,
            "linecolor": "white",
            "showbackground": true,
            "ticks": "",
            "zerolinecolor": "white"
           },
           "zaxis": {
            "backgroundcolor": "#E5ECF6",
            "gridcolor": "white",
            "gridwidth": 2,
            "linecolor": "white",
            "showbackground": true,
            "ticks": "",
            "zerolinecolor": "white"
           }
          },
          "shapedefaults": {
           "line": {
            "color": "#2a3f5f"
           }
          },
          "ternary": {
           "aaxis": {
            "gridcolor": "white",
            "linecolor": "white",
            "ticks": ""
           },
           "baxis": {
            "gridcolor": "white",
            "linecolor": "white",
            "ticks": ""
           },
           "bgcolor": "#E5ECF6",
           "caxis": {
            "gridcolor": "white",
            "linecolor": "white",
            "ticks": ""
           }
          },
          "title": {
           "x": 0.05
          },
          "xaxis": {
           "automargin": true,
           "gridcolor": "white",
           "linecolor": "white",
           "ticks": "",
           "title": {
            "standoff": 15
           },
           "zerolinecolor": "white",
           "zerolinewidth": 2
          },
          "yaxis": {
           "automargin": true,
           "gridcolor": "white",
           "linecolor": "white",
           "ticks": "",
           "title": {
            "standoff": 15
           },
           "zerolinecolor": "white",
           "zerolinewidth": 2
          }
         }
        },
        "title": {
         "text": "Warehouse Visualization"
        }
       }
      }
     },
     "metadata": {},
     "output_type": "display_data"
    }
   ],
   "source": [
    "fig.show()"
   ]
  },
  {
   "cell_type": "code",
   "execution_count": 13,
   "metadata": {},
   "outputs": [],
   "source": [
    "dist_mat_storage = dist_mat[storage_locs][:, storage_locs]"
   ]
  },
  {
   "cell_type": "code",
   "execution_count": 14,
   "metadata": {},
   "outputs": [
    {
     "name": "stdout",
     "output_type": "stream",
     "text": [
      "Restricted license - for non-production use only - expires 2024-10-28\n",
      "Gurobi Optimizer version 10.0.3 build v10.0.3rc0 (mac64[x86])\n",
      "\n",
      "CPU model: Intel(R) Core(TM) i5-7360U CPU @ 2.30GHz\n",
      "Thread count: 2 physical cores, 4 logical processors, using up to 4 threads\n",
      "\n",
      "Optimize a model with 12 rows, 36 columns and 72 nonzeros\n",
      "Model fingerprint: 0x0680ee1c\n",
      "Model has 450 quadratic objective terms\n",
      "Variable types: 0 continuous, 36 integer (36 binary)\n",
      "Coefficient statistics:\n",
      "  Matrix range     [1e+00, 1e+00]\n",
      "  Objective range  [0e+00, 0e+00]\n",
      "  QObjective range [8e+00, 1e+02]\n",
      "  Bounds range     [1e+00, 1e+00]\n",
      "  RHS range        [1e+00, 1e+00]\n",
      "Found heuristic solution: objective 360.0000000\n",
      "Presolve time: 0.01s\n",
      "Presolved: 462 rows, 486 columns, 1422 nonzeros\n",
      "Variable types: 0 continuous, 486 integer (486 binary)\n"
     ]
    },
    {
     "name": "stdout",
     "output_type": "stream",
     "text": [
      "\n",
      "Root relaxation: objective 0.000000e+00, 23 iterations, 0.00 seconds (0.00 work units)\n",
      "\n",
      "    Nodes    |    Current Node    |     Objective Bounds      |     Work\n",
      " Expl Unexpl |  Obj  Depth IntInf | Incumbent    BestBd   Gap | It/Node Time\n",
      "\n",
      "     0     0    0.00000    0   12  360.00000    0.00000   100%     -    0s\n",
      "H    0     0                     353.0000000    0.00000   100%     -    0s\n",
      "     0     0    0.00000    0   12  353.00000    0.00000   100%     -    0s\n",
      "     0     0    0.00000    0   12  353.00000    0.00000   100%     -    0s\n",
      "     0     0    0.00000    0   12  353.00000    0.00000   100%     -    0s\n",
      "     0     2   24.00000    0   12  353.00000   24.00000  93.2%     -    0s\n",
      "*   25     9               8     346.0000000  209.00000  39.6%  60.8    0s\n",
      "\n",
      "Cutting planes:\n",
      "  Zero half: 1\n",
      "  RLT: 218\n",
      "\n",
      "Explored 53 nodes (2332 simplex iterations) in 0.22 seconds (0.16 work units)\n",
      "Thread count was 4 (of 4 available processors)\n",
      "\n",
      "Solution count 3: 346 353 360 \n",
      "\n",
      "Optimal solution found (tolerance 1.00e-04)\n",
      "Best objective 3.460000000000e+02, best bound 3.460000000000e+02, gap 0.0000%\n"
     ]
    }
   ],
   "source": [
    "import gurobipy as gp\n",
    "from gurobipy import GRB\n",
    "\n",
    "model = gp.Model(\"SLAP_PA\")\n",
    "\n",
    "# decision variables\n",
    "y_i_j = {}\n",
    "for i in products:\n",
    "    for j in storage_locs: \n",
    "        y_i_j[i, j] = model.addVar(vtype=GRB.BINARY, name=f\"Produkt{i}_an_LP_{j}\") \n",
    "\n",
    "# objective function\n",
    "\n",
    "model.setObjective(gp.quicksum(y_i_j[h, j] * y_i_j[i, k] * dist_mat[j, k] * product_pairs_frequency[h, i] \n",
    "                               for h in products for i in products for j in storage_locs for k in storage_locs),  GRB.MINIMIZE)\n",
    "#+ gp.quicksum(y_i_j[i,j] * dist_mat[0, j] * product_frequency[i] for i in products for j in storage_locs\n",
    "# constraints\n",
    "for j in storage_locs: #storage_locs_new\n",
    "    model.addConstr(gp.quicksum(y_i_j[i, j] for i in products) == 1, name=f\"Lagerplatz_{i}_constraint\")\n",
    "\n",
    "for i in products:\n",
    "    model.addConstr(gp.quicksum(y_i_j[i, j] for j in storage_locs) == 1, name=f\"Produkt_{j}_constraint\")\n",
    "\n",
    "model.optimize()"
   ]
  },
  {
   "cell_type": "code",
   "execution_count": 15,
   "metadata": {},
   "outputs": [],
   "source": [
    "import gurobipy as gp\n",
    "from gurobipy import GRB\n",
    "\n",
    "model = gp.Model(\"SLAP_PA\")\n",
    "\n",
    "# decision variables\n",
    "y_i_j = {}\n",
    "for i in products:\n",
    "    for j in storage_locs: #storage_locs_new\n",
    "        y_i_j[i, j] = model.addVar(vtype=GRB.BINARY, name=f\"Produkt{i}_an_LP_{j}\") \n",
    "\n",
    "# objective function\n",
    "# model.setObjective(gp.quicksum(y_i_j[h, j] * y_i_j[i, k] * dist_mat_storage[j, k] * product_pairs_frequency[h, i]\n",
    "#                                for h in products for i in products for j in storage_locs_new for k in storage_locs_new), GRB.MINIMIZE)\n",
    "\n",
    "model.setObjective(gp.quicksum(y_i_j[h, j] * y_i_j[i, k] * dist_mat[j, k] * product_pairs_frequency[h, i]\n",
    "                               for h in products for i in products for j in storage_locs for k in storage_locs) + gp.quicksum(y_i_j[i,j] * dist_mat[0, j] * product_frequency[i] for i in products for j in storage_locs),  GRB.MINIMIZE)\n",
    "#                      \n",
    "\n",
    "# constraints\n",
    "for j in storage_locs: #storage_locs_new\n",
    "    model.addConstr(gp.quicksum(y_i_j[i, j] for i in products) == 1, name=f\"Lagerplatz_{i}_constraint\")\n",
    "\n",
    "for i in products:\n",
    "    model.addConstr(gp.quicksum(y_i_j[i, j] for j in storage_locs) == 1, name=f\"Produkt_{j}_constraint\") #storage_locs_new\n"
   ]
  },
  {
   "cell_type": "code",
   "execution_count": 16,
   "metadata": {},
   "outputs": [
    {
     "name": "stdout",
     "output_type": "stream",
     "text": [
      "Gurobi Optimizer version 10.0.3 build v10.0.3rc0 (mac64[x86])\n",
      "\n",
      "CPU model: Intel(R) Core(TM) i5-7360U CPU @ 2.30GHz\n",
      "Thread count: 2 physical cores, 4 logical processors, using up to 4 threads\n",
      "\n",
      "Optimize a model with 12 rows, 36 columns and 72 nonzeros\n",
      "Model fingerprint: 0xe09dc5fa\n",
      "Model has 450 quadratic objective terms\n",
      "Variable types: 0 continuous, 36 integer (36 binary)\n",
      "Coefficient statistics:\n",
      "  Matrix range     [1e+00, 1e+00]\n",
      "  Objective range  [5e+01, 1e+02]\n",
      "  QObjective range [8e+00, 1e+02]\n",
      "  Bounds range     [1e+00, 1e+00]\n",
      "  RHS range        [1e+00, 1e+00]\n",
      "Found heuristic solution: objective 822.0000000\n",
      "Presolve time: 0.00s\n",
      "Presolved: 462 rows, 486 columns, 1422 nonzeros\n",
      "Variable types: 0 continuous, 486 integer (486 binary)\n",
      "\n",
      "Root relaxation: objective 4.550000e+02, 24 iterations, 0.00 seconds (0.00 work units)\n",
      "\n",
      "    Nodes    |    Current Node    |     Objective Bounds      |     Work\n",
      " Expl Unexpl |  Obj  Depth IntInf | Incumbent    BestBd   Gap | It/Node Time\n",
      "\n",
      "     0     0  455.00000    0   12  822.00000  455.00000  44.6%     -    0s\n",
      "H    0     0                     810.0000000  455.00000  43.8%     -    0s\n",
      "     0     0  475.00000    0   12  810.00000  475.00000  41.4%     -    0s\n",
      "     0     0  486.00000    0   12  810.00000  486.00000  40.0%     -    0s\n",
      "     0     0  486.00000    0   12  810.00000  486.00000  40.0%     -    0s\n",
      "     0     2  510.00000    0   12  810.00000  510.00000  37.0%     -    0s\n",
      "\n",
      "Cutting planes:\n",
      "  RLT: 216\n",
      "\n",
      "Explored 39 nodes (2775 simplex iterations) in 0.21 seconds (0.17 work units)\n",
      "Thread count was 4 (of 4 available processors)\n",
      "\n",
      "Solution count 2: 810 822 \n",
      "\n",
      "Optimal solution found (tolerance 1.00e-04)\n",
      "Best objective 8.100000000000e+02, best bound 8.100000000000e+02, gap 0.0000%\n"
     ]
    }
   ],
   "source": [
    "# Optimize the model\n",
    "model.optimize()"
   ]
  },
  {
   "cell_type": "code",
   "execution_count": 17,
   "metadata": {},
   "outputs": [
    {
     "data": {
      "text/plain": [
       "810.0"
      ]
     },
     "execution_count": 17,
     "metadata": {},
     "output_type": "execute_result"
    }
   ],
   "source": [
    "model.objVal"
   ]
  },
  {
   "cell_type": "code",
   "execution_count": 18,
   "metadata": {},
   "outputs": [
    {
     "name": "stdout",
     "output_type": "stream",
     "text": [
      "Optimal Solution Found:\n",
      "Item 0 stored at storage location 9\n",
      "Item 1 stored at storage location 8\n",
      "Item 2 stored at storage location 12\n",
      "Item 3 stored at storage location 11\n",
      "Item 4 stored at storage location 6\n",
      "Item 5 stored at storage location 5\n"
     ]
    }
   ],
   "source": [
    "# Print the optimal solution\n",
    "if model.status == GRB.OPTIMAL:\n",
    "    print(\"Optimal Solution Found:\")\n",
    "    for i in products:\n",
    "        for j in storage_locs:\n",
    "            if y_i_j[i, j].x > 0.5:  # Check if the variable is assigned to 1 (approximately)\n",
    "                print(f\"Item {i} stored at storage location {j}\")\n",
    "else:\n",
    "    print(\"No optimal solution found.\") "
   ]
  },
  {
   "cell_type": "code",
   "execution_count": 19,
   "metadata": {},
   "outputs": [
    {
     "data": {
      "text/plain": [
       "array([[0., 4., 2., 4., 2., 6.],\n",
       "       [8., 0., 1., 6., 4., 0.],\n",
       "       [0., 5., 0., 5., 4., 2.],\n",
       "       [6., 0., 5., 0., 2., 3.],\n",
       "       [3., 6., 3., 6., 0., 2.],\n",
       "       [5., 3., 8., 5., 8., 0.]])"
      ]
     },
     "execution_count": 19,
     "metadata": {},
     "output_type": "execute_result"
    }
   ],
   "source": [
    "product_pairs_frequency"
   ]
  },
  {
   "cell_type": "code",
   "execution_count": 20,
   "metadata": {},
   "outputs": [],
   "source": [
    "# Close the Gurobi model\n",
    "model.close()"
   ]
  },
  {
   "cell_type": "code",
   "execution_count": 21,
   "metadata": {},
   "outputs": [],
   "source": [
    "import ga"
   ]
  },
  {
   "cell_type": "code",
   "execution_count": 22,
   "metadata": {},
   "outputs": [],
   "source": [
    "def fitness_pf_pa(individual, dist_mat, product_affinity):\n",
    "    affinity_score = 0\n",
    "    for p in range(len(individual)):\n",
    "        for p2 in range(len(individual)):\n",
    "            if p == p2 or product_affinity[p][p2] == 0:\n",
    "                continue\n",
    "            else:\n",
    "                affinity_score += product_affinity[p][p2] * dist_mat[individual[p]][individual[p2]]\n",
    "    return affinity_score"
   ]
  },
  {
   "cell_type": "code",
   "execution_count": 23,
   "metadata": {},
   "outputs": [],
   "source": [
    "def generate_genome(products, locations_list, layout: Layout):\n",
    "    chromosome = []\n",
    "   \n",
    "    random.shuffle(locations_list)\n",
    "    for i in range(len(products)):\n",
    "        storage_loc = locations_list[i]\n",
    "        chromosome.append(storage_loc)\n",
    "    return chromosome"
   ]
  },
  {
   "cell_type": "code",
   "execution_count": 24,
   "metadata": {},
   "outputs": [],
   "source": [
    "initial_population = [generate_genome(products, storage_locs, warehouse) for i in range(200)]"
   ]
  },
  {
   "cell_type": "code",
   "execution_count": 25,
   "metadata": {},
   "outputs": [
    {
     "data": {
      "text/plain": [
       "{0: 18.0, 1: 19.0, 2: 16.0, 3: 16.0, 4: 20.0, 5: 29.0}"
      ]
     },
     "execution_count": 25,
     "metadata": {},
     "output_type": "execute_result"
    }
   ],
   "source": [
    "product_frequency"
   ]
  },
  {
   "cell_type": "code",
   "execution_count": 26,
   "metadata": {},
   "outputs": [
    {
     "name": "stdout",
     "output_type": "stream",
     "text": [
      "0 810.0\n",
      "1 810.0\n",
      "2 810.0\n",
      "3 810.0\n",
      "4 810.0\n",
      "5 810.0\n",
      "6 810.0\n",
      "7 810.0\n",
      "8 810.0\n",
      "9 810.0\n",
      "10 810.0\n",
      "11 810.0\n",
      "12 810.0\n",
      "13 810.0\n",
      "14 810.0\n",
      "15 810.0\n",
      "16 810.0\n",
      "17 810.0\n",
      "18 810.0\n",
      "19 810.0\n",
      "20 810.0\n",
      "21 810.0\n",
      "22 810.0\n",
      "23 810.0\n",
      "24 810.0\n",
      "25 810.0\n",
      "26 810.0\n",
      "27 810.0\n",
      "28 810.0\n",
      "29 810.0\n",
      "30 810.0\n",
      "31 810.0\n",
      "32 810.0\n",
      "33 810.0\n",
      "34 810.0\n",
      "35 810.0\n",
      "36 810.0\n",
      "37 810.0\n",
      "38 810.0\n",
      "39 810.0\n",
      "40 810.0\n",
      "41 810.0\n",
      "42 810.0\n",
      "43 810.0\n",
      "44 810.0\n",
      "45 810.0\n",
      "46 810.0\n",
      "47 810.0\n",
      "48 810.0\n",
      "49 810.0\n",
      "50 810.0\n",
      "51 810.0\n",
      "52 810.0\n",
      "53 810.0\n",
      "54 810.0\n",
      "55 810.0\n",
      "56 810.0\n",
      "57 810.0\n",
      "58 810.0\n",
      "59 810.0\n",
      "60 810.0\n",
      "61 810.0\n",
      "62 810.0\n",
      "63 810.0\n",
      "64 810.0\n",
      "65 810.0\n",
      "66 810.0\n",
      "67 810.0\n",
      "68 810.0\n",
      "69 810.0\n",
      "70 810.0\n",
      "71 810.0\n",
      "72 810.0\n",
      "73 810.0\n",
      "74 810.0\n",
      "75 810.0\n",
      "76 810.0\n",
      "77 810.0\n",
      "78 810.0\n",
      "79 810.0\n",
      "80 810.0\n",
      "81 810.0\n",
      "82 810.0\n",
      "83 810.0\n",
      "84 810.0\n",
      "85 810.0\n",
      "86 810.0\n",
      "87 810.0\n",
      "88 810.0\n",
      "89 810.0\n",
      "90 810.0\n",
      "91 810.0\n",
      "92 810.0\n",
      "93 810.0\n",
      "94 810.0\n",
      "95 810.0\n",
      "96 810.0\n",
      "97 810.0\n",
      "98 810.0\n",
      "99 810.0\n",
      "100 810.0\n",
      "101 810.0\n",
      "102 810.0\n",
      "103 810.0\n",
      "104 810.0\n",
      "105 810.0\n",
      "106 810.0\n",
      "107 810.0\n",
      "108 810.0\n",
      "109 810.0\n",
      "110 810.0\n",
      "111 810.0\n",
      "112 810.0\n",
      "113 810.0\n",
      "114 810.0\n",
      "115 810.0\n",
      "116 810.0\n",
      "117 810.0\n",
      "118 810.0\n",
      "119 810.0\n",
      "120 810.0\n",
      "121 810.0\n",
      "122 810.0\n",
      "123 810.0\n",
      "124 810.0\n",
      "125 810.0\n",
      "126 810.0\n",
      "127 810.0\n",
      "128 810.0\n",
      "129 810.0\n",
      "130 810.0\n",
      "131 810.0\n",
      "132 810.0\n",
      "133 810.0\n",
      "134 810.0\n",
      "135 810.0\n",
      "136 810.0\n",
      "137 810.0\n",
      "138 810.0\n",
      "139 810.0\n",
      "140 810.0\n",
      "141 810.0\n",
      "142 810.0\n",
      "143 810.0\n",
      "144 810.0\n",
      "145 810.0\n",
      "146 810.0\n",
      "147 810.0\n",
      "148 810.0\n",
      "149 810.0\n",
      "150 810.0\n",
      "151 810.0\n",
      "152 810.0\n",
      "153 810.0\n",
      "154 810.0\n",
      "155 810.0\n",
      "156 810.0\n",
      "157 810.0\n",
      "158 810.0\n",
      "159 810.0\n",
      "160 810.0\n",
      "161 810.0\n",
      "162 810.0\n",
      "163 810.0\n",
      "164 810.0\n",
      "165 810.0\n",
      "166 810.0\n",
      "167 810.0\n",
      "168 810.0\n",
      "169 810.0\n",
      "170 810.0\n",
      "171 810.0\n",
      "172 810.0\n",
      "173 810.0\n",
      "174 810.0\n",
      "175 810.0\n",
      "176 810.0\n",
      "177 810.0\n",
      "178 810.0\n",
      "179 810.0\n",
      "180 810.0\n",
      "181 810.0\n",
      "182 810.0\n",
      "183 810.0\n",
      "184 810.0\n",
      "185 810.0\n",
      "186 810.0\n",
      "187 810.0\n",
      "188 810.0\n",
      "189 810.0\n",
      "190 810.0\n",
      "191 810.0\n",
      "192 810.0\n",
      "193 810.0\n",
      "194 810.0\n",
      "195 810.0\n",
      "196 810.0\n",
      "197 810.0\n",
      "198 810.0\n",
      "199 810.0\n",
      "200 810.0\n",
      "201 810.0\n",
      "202 810.0\n",
      "203 810.0\n",
      "204 810.0\n",
      "205 810.0\n",
      "206 810.0\n",
      "207 810.0\n",
      "208 810.0\n",
      "209 810.0\n",
      "210 810.0\n",
      "211 810.0\n",
      "212 810.0\n",
      "213 810.0\n",
      "214 810.0\n",
      "215 810.0\n",
      "216 810.0\n",
      "217 810.0\n",
      "218 810.0\n",
      "219 810.0\n",
      "220 810.0\n",
      "221 810.0\n",
      "222 810.0\n",
      "223 810.0\n",
      "224 810.0\n",
      "225 810.0\n",
      "226 810.0\n",
      "227 810.0\n",
      "228 810.0\n",
      "229 810.0\n",
      "230 810.0\n",
      "231 810.0\n",
      "232 810.0\n",
      "233 810.0\n",
      "234 810.0\n",
      "235 810.0\n",
      "236 810.0\n",
      "237 810.0\n",
      "238 810.0\n",
      "239 810.0\n",
      "240 810.0\n",
      "241 810.0\n",
      "242 810.0\n",
      "243 810.0\n",
      "244 810.0\n",
      "245 810.0\n",
      "246 810.0\n",
      "247 810.0\n",
      "248 810.0\n",
      "249 810.0\n",
      "250 810.0\n",
      "251 810.0\n",
      "252 810.0\n",
      "253 810.0\n",
      "254 810.0\n",
      "255 810.0\n",
      "256 810.0\n",
      "257 810.0\n",
      "258 810.0\n",
      "259 810.0\n",
      "260 810.0\n",
      "261 810.0\n",
      "262 810.0\n",
      "263 810.0\n",
      "264 810.0\n",
      "265 810.0\n",
      "266 810.0\n",
      "267 810.0\n",
      "268 810.0\n",
      "269 810.0\n",
      "270 810.0\n",
      "271 810.0\n",
      "272 810.0\n",
      "273 810.0\n",
      "274 810.0\n",
      "275 810.0\n",
      "276 810.0\n",
      "277 810.0\n",
      "278 810.0\n",
      "279 810.0\n",
      "280 810.0\n",
      "281 810.0\n",
      "282 810.0\n",
      "283 810.0\n",
      "284 810.0\n",
      "285 810.0\n",
      "286 810.0\n",
      "287 810.0\n",
      "288 810.0\n",
      "289 810.0\n",
      "290 810.0\n",
      "291 810.0\n",
      "292 810.0\n",
      "293 810.0\n",
      "294 810.0\n",
      "295 810.0\n",
      "296 810.0\n",
      "297 810.0\n",
      "298 810.0\n",
      "299 810.0\n",
      "300 810.0\n",
      "301 810.0\n",
      "302 810.0\n",
      "303 810.0\n",
      "304 810.0\n",
      "305 810.0\n",
      "306 810.0\n",
      "307 810.0\n",
      "308 810.0\n",
      "309 810.0\n",
      "310 810.0\n",
      "311 810.0\n",
      "312 810.0\n",
      "313 810.0\n",
      "314 810.0\n",
      "315 810.0\n",
      "316 810.0\n",
      "317 810.0\n",
      "318 810.0\n",
      "319 810.0\n",
      "320 810.0\n",
      "321 810.0\n",
      "322 810.0\n",
      "323 810.0\n",
      "324 810.0\n",
      "325 810.0\n",
      "326 810.0\n",
      "327 810.0\n",
      "328 810.0\n",
      "329 810.0\n",
      "330 810.0\n",
      "331 810.0\n",
      "332 810.0\n",
      "333 810.0\n",
      "334 810.0\n",
      "335 810.0\n",
      "336 810.0\n",
      "337 810.0\n",
      "338 810.0\n",
      "339 810.0\n",
      "340 810.0\n",
      "341 810.0\n",
      "342 810.0\n",
      "343 810.0\n",
      "344 810.0\n",
      "345 810.0\n",
      "346 810.0\n",
      "347 810.0\n",
      "348 810.0\n",
      "349 810.0\n",
      "350 810.0\n",
      "351 810.0\n",
      "352 810.0\n",
      "353 810.0\n",
      "354 810.0\n",
      "355 810.0\n",
      "356 810.0\n",
      "357 810.0\n",
      "358 810.0\n",
      "359 810.0\n",
      "360 810.0\n",
      "361 810.0\n",
      "362 810.0\n",
      "363 810.0\n",
      "364 810.0\n",
      "365 810.0\n",
      "366 810.0\n",
      "367 810.0\n",
      "368 810.0\n",
      "369 810.0\n",
      "370 810.0\n",
      "371 810.0\n",
      "372 810.0\n",
      "373 810.0\n",
      "374 810.0\n",
      "375 810.0\n",
      "376 810.0\n",
      "377 810.0\n",
      "378 810.0\n",
      "379 810.0\n",
      "380 810.0\n",
      "381 810.0\n",
      "382 810.0\n",
      "383 810.0\n",
      "384 810.0\n",
      "385 810.0\n",
      "386 810.0\n",
      "387 810.0\n",
      "388 810.0\n",
      "389 810.0\n",
      "390 810.0\n",
      "391 810.0\n",
      "392 810.0\n",
      "393 810.0\n",
      "394 810.0\n",
      "395 810.0\n",
      "396 810.0\n",
      "397 810.0\n",
      "398 810.0\n",
      "399 810.0\n",
      "400 810.0\n",
      "401 810.0\n",
      "402 810.0\n",
      "403 810.0\n",
      "404 810.0\n",
      "405 810.0\n",
      "406 810.0\n",
      "407 810.0\n",
      "408 810.0\n",
      "409 810.0\n",
      "410 810.0\n",
      "411 810.0\n",
      "412 810.0\n",
      "413 810.0\n",
      "414 810.0\n",
      "415 810.0\n",
      "416 810.0\n",
      "417 810.0\n",
      "418 810.0\n",
      "419 810.0\n",
      "420 810.0\n",
      "421 810.0\n",
      "422 810.0\n",
      "423 810.0\n",
      "424 810.0\n",
      "425 810.0\n",
      "426 810.0\n",
      "427 810.0\n",
      "428 810.0\n",
      "429 810.0\n",
      "430 810.0\n",
      "431 810.0\n",
      "432 810.0\n",
      "433 810.0\n",
      "434 810.0\n",
      "435 810.0\n",
      "436 810.0\n",
      "437 810.0\n",
      "438 810.0\n",
      "439 810.0\n",
      "440 810.0\n",
      "441 810.0\n",
      "442 810.0\n",
      "443 810.0\n",
      "444 810.0\n",
      "445 810.0\n",
      "446 810.0\n",
      "447 810.0\n",
      "448 810.0\n",
      "449 810.0\n",
      "450 810.0\n",
      "451 810.0\n",
      "452 810.0\n",
      "453 810.0\n",
      "454 810.0\n",
      "455 810.0\n",
      "456 810.0\n",
      "457 810.0\n",
      "458 810.0\n",
      "459 810.0\n",
      "460 810.0\n",
      "461 810.0\n",
      "462 810.0\n",
      "463 810.0\n",
      "464 810.0\n",
      "465 810.0\n",
      "466 810.0\n",
      "467 810.0\n",
      "468 810.0\n",
      "469 810.0\n",
      "470 810.0\n",
      "471 810.0\n",
      "472 810.0\n",
      "473 810.0\n",
      "474 810.0\n",
      "475 810.0\n",
      "476 810.0\n",
      "477 810.0\n",
      "478 810.0\n",
      "479 810.0\n",
      "480 810.0\n",
      "481 810.0\n",
      "482 810.0\n",
      "483 810.0\n",
      "484 810.0\n",
      "485 810.0\n",
      "486 810.0\n",
      "487 810.0\n",
      "488 810.0\n",
      "489 810.0\n",
      "490 810.0\n",
      "491 810.0\n",
      "492 810.0\n",
      "493 810.0\n",
      "494 810.0\n",
      "495 810.0\n",
      "496 810.0\n",
      "497 810.0\n",
      "498 810.0\n",
      "499 810.0\n"
     ]
    }
   ],
   "source": [
    "# initial_population = [ga.generate_genome(products, warehouse) for i in range(1000)]\n",
    "\n",
    "    \n",
    "#product_pairs_frequency = calc_product_affinity(orders)\n",
    "# product_frequency_pf_pa = [0 for i in range(len(product_frequency.keys()))]\n",
    "# for i in list(product_frequency.values()):\n",
    "product_frequency_pf_pa = list(product_frequency.values())\n",
    "\n",
    "\n",
    "\n",
    "# product_pairs_np = np.zeros((n_products, n_products))\n",
    "# for key in product_pairs_frequency.keys():\n",
    "#     for pair in product_pairs_frequency[key].keys():\n",
    "#         product_pairs_np[key][pair] = product_pairs_frequency[key][pair]\n",
    "\n",
    "fitness_tracker = []\n",
    "min_fitness = np.inf\n",
    "for g in range(500):\n",
    "    new_pop = []\n",
    "    pop_results = []\n",
    "    \n",
    "   \n",
    "    fitness_result = [ga.fitness_pf_pa(pop, dist_mat, product_frequency_pf_pa, product_pairs_frequency) for pop in initial_population]\n",
    "    print(g, min(fitness_result))\n",
    "    fitness_tracker.append(min(fitness_result))\n",
    "    for _ in range(100):\n",
    "        selected = ga.selection(initial_population, fitness_result)\n",
    "        child = ga.crossover(selected)\n",
    "        mutated = ga.mutation(child)\n",
    "        new_pop.append(mutated)\n",
    "    initial_population = new_pop\n",
    "\n",
    "min_fitness = min(fitness_result)\n",
    "min_child = initial_population[fitness_result.index(min_fitness)]"
   ]
  },
  {
   "cell_type": "code",
   "execution_count": 27,
   "metadata": {},
   "outputs": [
    {
     "data": {
      "text/plain": [
       "[8, 12, 11, 9, 5, 6]"
      ]
     },
     "execution_count": 27,
     "metadata": {},
     "output_type": "execute_result"
    }
   ],
   "source": [
    "min_child"
   ]
  },
  {
   "cell_type": "code",
   "execution_count": null,
   "metadata": {},
   "outputs": [],
   "source": []
  }
 ],
 "metadata": {
  "kernelspec": {
   "display_name": "Python 3",
   "language": "python",
   "name": "python3"
  },
  "language_info": {
   "codemirror_mode": {
    "name": "ipython",
    "version": 3
   },
   "file_extension": ".py",
   "mimetype": "text/x-python",
   "name": "python",
   "nbconvert_exporter": "python",
   "pygments_lexer": "ipython3",
   "version": "3.11.6"
  },
  "orig_nbformat": 4
 },
 "nbformat": 4,
 "nbformat_minor": 2
}
