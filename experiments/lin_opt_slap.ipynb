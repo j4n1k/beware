{
 "cells": [
  {
   "cell_type": "code",
   "metadata": {
    "ExecuteTime": {
     "end_time": "2024-07-18T19:32:47.755059Z",
     "start_time": "2024-07-18T19:32:46.246236Z"
    }
   },
   "source": [
    "from warehouse_model.layout import Layout\n",
    "from pulp import *\n",
    "import numpy as np\n",
    "import random\n",
    "from math import ceil\n",
    "from copy import deepcopy\n",
    "import plotly.graph_objects as go\n",
    "import plotly.express as px\n",
    "import matplotlib.pyplot as plt \n",
    "import networkx as nx\n",
    "import pickle\n",
    "import os\n",
    "from solver.slap_models import SLAP, SLAP_PA, SLAP_QA\n",
    "import solver.ga as ga\n",
    "from warehouse_model.graph_tools import viz_graph"
   ],
   "outputs": [],
   "execution_count": 1
  },
  {
   "cell_type": "code",
   "metadata": {
    "ExecuteTime": {
     "end_time": "2024-07-18T19:32:47.763350Z",
     "start_time": "2024-07-18T19:32:47.756070Z"
    }
   },
   "source": [
    "def render_warehouse(warehouse: Layout, assignment, product_frequency):\n",
    "    storage_assignment = deepcopy(warehouse.layout_grid)\n",
    "    walkable_locs = np.where(warehouse.layout_grid == 0)\n",
    "\n",
    "    for x, y, z in zip(walkable_locs[0], walkable_locs[1], walkable_locs[2]):\n",
    "        storage_assignment[x,y,z] = -100\n",
    "\n",
    "    for i, loc in enumerate(assignment):\n",
    "        storage_assignment[warehouse.nodes_list[loc]] = i \n",
    "\n",
    "    storage_frequence = deepcopy(warehouse.layout_grid)\n",
    "    for i, loc in enumerate(assignment):\n",
    "        storage_frequence[warehouse.nodes_list[loc]] = product_frequency[i]\n",
    "    \n",
    "    node_xyz = np.array([warehouse.pos_dict[v] for v in sorted(warehouse.graph)])\n",
    "    edge_xyz = np.array([(warehouse.pos_dict[u], warehouse.pos_dict[v]) for u, v in warehouse.graph.edges()])\n",
    "\n",
    "    data = []\n",
    "    for x, y, z in zip(node_xyz.T[0], node_xyz.T[1], node_xyz.T[2]):\n",
    "        data_point = storage_frequence[x,y,z]\n",
    "        data.append(data_point)\n",
    "\n",
    "    assignment_plt = []\n",
    "    for x, y, z in zip(node_xyz.T[0], node_xyz.T[1], node_xyz.T[2]):\n",
    "        assignment_point = storage_assignment[x,y,z]\n",
    "        assignment_plt.append(assignment_point)\n",
    "\n",
    "    trace = go.Scatter3d(customdata=np.stack((data,assignment_plt),axis=-1), hovertemplate = 'x: %{x}<br>y: %{y}<br>z: %{z}<br>Order Frequency: %{customdata[0]}<br>Product: %{customdata[1]}}',\n",
    "        x = node_xyz.T[0], y = node_xyz.T[1], z = node_xyz.T[2],mode = 'markers', marker = dict(symbol=\"square\",\n",
    "            size = 12,\n",
    "            color = data, # set color to an array/list of desired values\n",
    "            colorscale = 'thermal')\n",
    "        )\n",
    "    layout = go.Layout(title = 'Warehouse Visualization')\n",
    "    fig = go.Figure(data = [trace], layout = layout)\n",
    "    fig.update_traces(marker_size = 5)\n",
    "    return fig"
   ],
   "outputs": [],
   "execution_count": 2
  },
  {
   "cell_type": "code",
   "execution_count": 3,
   "metadata": {},
   "outputs": [],
   "source": [
    "x = 3\n",
    "z = 1\n",
    "n_products = 14 \n",
    "storage_per_aisle = x \n",
    "y = ceil(n_products / storage_per_aisle / z) * 2"
   ]
  },
  {
   "cell_type": "code",
   "execution_count": 55,
   "metadata": {},
   "outputs": [],
   "source": [
    "warehouse = Layout(5, 3, 1, False, False, None) # two rows reserved for walking\n",
    "double_deep = \"False\"\n",
    "path = os.path.join(\"data/cache/dist_mats/\", \"dist_mat_\" + str(warehouse.layout_grid.shape) + \"_\" + str(double_deep) + \".npy\")\n",
    "if os.path.exists(path):\n",
    "    dist_mat = np.load(path)\n",
    "else:\n",
    "    dist_mat = warehouse.gen_dist_mat(path)"
   ]
  },
  {
   "cell_type": "code",
   "execution_count": 56,
   "metadata": {},
   "outputs": [],
   "source": [
    "warehouse_heatmap = px.imshow(warehouse.layout_grid[:,:,0])"
   ]
  },
  {
   "cell_type": "code",
   "execution_count": 57,
   "metadata": {},
   "outputs": [],
   "source": [
    "warehouse_heatmap.write_json(\"render/warehouse_heatmap.json\")"
   ]
  },
  {
   "cell_type": "code",
   "execution_count": 47,
   "metadata": {},
   "outputs": [],
   "source": [
    "size = len(warehouse.storage_locs)\n",
    "product_pairs_frequency = np.zeros((size, size))\n",
    "upper_bound = 9\n",
    "for i in range(size):\n",
    "    for j in range(size):\n",
    "        if i == j: \n",
    "            product_pairs_frequency[i][j] = 0\n",
    "        # since problem is a one-one problem, mapping (1,2) == (2,1) so there's no need to create duplicate mappings\n",
    "        #if (j,i) in product_pairs_frequency: continue\n",
    "        else:\n",
    "            product_pairs_frequency[i][j] = random.randrange(0, upper_bound)"
   ]
  },
  {
   "cell_type": "code",
   "execution_count": 48,
   "metadata": {},
   "outputs": [],
   "source": [
    "product_frequency = {}\n",
    "for i in range(size):\n",
    "    product_frequency[i] = product_pairs_frequency[i].sum()"
   ]
  },
  {
   "cell_type": "code",
   "execution_count": 49,
   "metadata": {},
   "outputs": [],
   "source": [
    "n_storage_locs = len(warehouse.storage_locs)\n",
    "#n_products = len(warehouse.storage_locs)\n",
    "n_products = len(product_frequency.keys())\n",
    "\n",
    "storage_locs = [warehouse.nodes_list.index(loc) for loc in warehouse.storage_locs]\n",
    "products = [p for p in range(n_products)]\n",
    "storage_loc_mapping = {i:loc for i,loc in enumerate(storage_locs)}\n",
    "storage_locs_new = [i for i in storage_loc_mapping.keys()]\n",
    "depot = 0"
   ]
  },
  {
   "cell_type": "code",
   "execution_count": 50,
   "metadata": {},
   "outputs": [],
   "source": [
    "assignment = storage_locs"
   ]
  },
  {
   "cell_type": "code",
   "execution_count": 51,
   "metadata": {},
   "outputs": [
    {
     "data": {
      "text/plain": [
       "{0: 40.0,\n",
       " 1: 73.0,\n",
       " 2: 54.0,\n",
       " 3: 50.0,\n",
       " 4: 64.0,\n",
       " 5: 56.0,\n",
       " 6: 83.0,\n",
       " 7: 66.0,\n",
       " 8: 55.0,\n",
       " 9: 60.0,\n",
       " 10: 53.0,\n",
       " 11: 41.0,\n",
       " 12: 61.0,\n",
       " 13: 45.0,\n",
       " 14: 63.0}"
      ]
     },
     "execution_count": 51,
     "metadata": {},
     "output_type": "execute_result"
    }
   ],
   "source": [
    "product_frequency"
   ]
  },
  {
   "cell_type": "code",
   "execution_count": 39,
   "metadata": {},
   "outputs": [],
   "source": [
    "fig = render_warehouse(warehouse, assignment, product_frequency)"
   ]
  },
  {
   "cell_type": "code",
   "execution_count": 40,
   "metadata": {},
   "outputs": [
    {
     "data": {
      "application/vnd.plotly.v1+json": {
       "config": {
        "plotlyServerURL": "https://plot.ly"
       },
       "data": [
        {
         "customdata": [
          [
           0,
           -100
          ],
          [
           0,
           -100
          ],
          [
           0,
           -100
          ],
          [
           0,
           -100
          ],
          [
           0,
           -100
          ],
          [
           0,
           -100
          ],
          [
           0,
           -100
          ],
          [
           0,
           -100
          ],
          [
           0,
           -100
          ],
          [
           0,
           -100
          ],
          [
           0,
           -100
          ],
          [
           0,
           -100
          ],
          [
           0,
           -100
          ],
          [
           0,
           -100
          ],
          [
           0,
           -100
          ],
          [
           0,
           -100
          ],
          [
           0,
           -100
          ],
          [
           0,
           -100
          ],
          [
           0,
           -100
          ],
          [
           0,
           -100
          ],
          [
           0,
           -100
          ],
          [
           0,
           -100
          ],
          [
           0,
           -100
          ],
          [
           0,
           -100
          ],
          [
           0,
           -100
          ],
          [
           0,
           -100
          ],
          [
           0,
           -100
          ],
          [
           0,
           -100
          ],
          [
           0,
           -100
          ],
          [
           0,
           -100
          ],
          [
           0,
           -100
          ],
          [
           0,
           -100
          ],
          [
           0,
           -100
          ],
          [
           0,
           -100
          ],
          [
           0,
           -100
          ],
          [
           0,
           -100
          ],
          [
           0,
           -100
          ],
          [
           0,
           -100
          ],
          [
           0,
           -100
          ],
          [
           0,
           -100
          ],
          [
           9100,
           0
          ],
          [
           9236,
           1
          ],
          [
           9311,
           2
          ],
          [
           0,
           -100
          ],
          [
           9237,
           3
          ],
          [
           9009,
           4
          ],
          [
           8785,
           5
          ],
          [
           0,
           -100
          ],
          [
           9101,
           6
          ],
          [
           9017,
           7
          ],
          [
           8858,
           8
          ],
          [
           0,
           -100
          ],
          [
           9041,
           9
          ],
          [
           9089,
           10
          ],
          [
           9286,
           11
          ],
          [
           0,
           -100
          ],
          [
           8865,
           12
          ],
          [
           9178,
           13
          ],
          [
           9272,
           14
          ],
          [
           0,
           -100
          ],
          [
           9180,
           15
          ],
          [
           9230,
           16
          ],
          [
           8918,
           17
          ],
          [
           0,
           -100
          ],
          [
           9261,
           18
          ],
          [
           9231,
           19
          ],
          [
           9305,
           20
          ],
          [
           0,
           -100
          ],
          [
           8991,
           21
          ],
          [
           9082,
           22
          ],
          [
           9126,
           23
          ],
          [
           0,
           -100
          ],
          [
           9098,
           24
          ],
          [
           9042,
           25
          ],
          [
           9001,
           26
          ],
          [
           0,
           -100
          ],
          [
           9179,
           27
          ],
          [
           9031,
           28
          ],
          [
           9329,
           29
          ],
          [
           0,
           -100
          ],
          [
           9060,
           30
          ],
          [
           8991,
           31
          ],
          [
           9283,
           32
          ],
          [
           0,
           -100
          ],
          [
           9043,
           33
          ],
          [
           9209,
           34
          ],
          [
           9093,
           35
          ],
          [
           0,
           -100
          ],
          [
           9093,
           36
          ],
          [
           9225,
           37
          ],
          [
           9217,
           38
          ],
          [
           0,
           -100
          ],
          [
           9356,
           39
          ],
          [
           9334,
           40
          ],
          [
           9079,
           41
          ],
          [
           0,
           -100
          ],
          [
           9092,
           42
          ],
          [
           9281,
           43
          ],
          [
           8938,
           44
          ],
          [
           0,
           -100
          ],
          [
           9156,
           45
          ],
          [
           9166,
           46
          ],
          [
           9282,
           47
          ],
          [
           0,
           -100
          ],
          [
           9246,
           48
          ],
          [
           9275,
           49
          ],
          [
           9176,
           50
          ],
          [
           0,
           -100
          ],
          [
           9206,
           51
          ],
          [
           9122,
           52
          ],
          [
           8947,
           53
          ],
          [
           0,
           -100
          ],
          [
           9209,
           54
          ],
          [
           9213,
           55
          ],
          [
           9226,
           56
          ],
          [
           0,
           -100
          ],
          [
           9006,
           57
          ],
          [
           9253,
           58
          ],
          [
           8995,
           59
          ],
          [
           0,
           -100
          ],
          [
           9178,
           60
          ],
          [
           8959,
           61
          ],
          [
           9043,
           62
          ],
          [
           0,
           -100
          ],
          [
           9113,
           63
          ],
          [
           9188,
           64
          ],
          [
           9167,
           65
          ],
          [
           0,
           -100
          ],
          [
           9204,
           66
          ],
          [
           9091,
           67
          ],
          [
           9040,
           68
          ],
          [
           0,
           -100
          ],
          [
           9193,
           69
          ],
          [
           9060,
           70
          ],
          [
           9025,
           71
          ],
          [
           0,
           -100
          ],
          [
           9179,
           72
          ],
          [
           9221,
           73
          ],
          [
           9117,
           74
          ],
          [
           0,
           -100
          ],
          [
           9015,
           75
          ],
          [
           8833,
           76
          ],
          [
           9109,
           77
          ],
          [
           0,
           -100
          ],
          [
           9244,
           78
          ],
          [
           8952,
           79
          ],
          [
           8989,
           80
          ],
          [
           0,
           -100
          ],
          [
           9014,
           81
          ],
          [
           8981,
           82
          ],
          [
           8851,
           83
          ],
          [
           0,
           -100
          ],
          [
           9098,
           84
          ],
          [
           8980,
           85
          ],
          [
           9031,
           86
          ],
          [
           0,
           -100
          ],
          [
           9286,
           87
          ],
          [
           9145,
           88
          ],
          [
           9112,
           89
          ],
          [
           0,
           -100
          ],
          [
           9180,
           90
          ],
          [
           9198,
           91
          ],
          [
           8928,
           92
          ],
          [
           0,
           -100
          ],
          [
           9224,
           93
          ],
          [
           9249,
           94
          ],
          [
           9056,
           95
          ],
          [
           0,
           -100
          ],
          [
           8735,
           96
          ],
          [
           9253,
           97
          ],
          [
           9247,
           98
          ],
          [
           0,
           -100
          ],
          [
           8908,
           99
          ],
          [
           9025,
           100
          ],
          [
           8815,
           101
          ],
          [
           0,
           -100
          ],
          [
           9131,
           102
          ],
          [
           9135,
           103
          ],
          [
           8934,
           104
          ],
          [
           0,
           -100
          ],
          [
           9137,
           105
          ],
          [
           9315,
           106
          ],
          [
           9161,
           107
          ],
          [
           0,
           -100
          ],
          [
           9081,
           108
          ],
          [
           9270,
           109
          ],
          [
           9032,
           110
          ],
          [
           0,
           -100
          ],
          [
           9311,
           111
          ],
          [
           9032,
           112
          ],
          [
           9045,
           113
          ],
          [
           0,
           -100
          ],
          [
           8969,
           114
          ],
          [
           9083,
           115
          ],
          [
           9059,
           116
          ],
          [
           0,
           -100
          ],
          [
           9040,
           117
          ],
          [
           8904,
           118
          ],
          [
           9240,
           119
          ],
          [
           0,
           -100
          ],
          [
           9187,
           120
          ],
          [
           9072,
           121
          ],
          [
           9135,
           122
          ],
          [
           0,
           -100
          ],
          [
           9322,
           123
          ],
          [
           8926,
           124
          ],
          [
           9114,
           125
          ],
          [
           0,
           -100
          ],
          [
           9278,
           126
          ],
          [
           9086,
           127
          ],
          [
           9175,
           128
          ],
          [
           0,
           -100
          ],
          [
           9337,
           129
          ],
          [
           8956,
           130
          ],
          [
           9158,
           131
          ],
          [
           0,
           -100
          ],
          [
           9245,
           132
          ],
          [
           8898,
           133
          ],
          [
           9239,
           134
          ],
          [
           0,
           -100
          ],
          [
           9258,
           135
          ],
          [
           9115,
           136
          ],
          [
           9120,
           137
          ],
          [
           0,
           -100
          ],
          [
           8974,
           138
          ],
          [
           9047,
           139
          ],
          [
           8937,
           140
          ],
          [
           0,
           -100
          ],
          [
           9101,
           141
          ],
          [
           9298,
           142
          ],
          [
           9131,
           143
          ],
          [
           0,
           -100
          ],
          [
           9016,
           144
          ],
          [
           9256,
           145
          ],
          [
           9155,
           146
          ],
          [
           0,
           -100
          ],
          [
           9046,
           147
          ],
          [
           9111,
           148
          ],
          [
           9091,
           149
          ],
          [
           0,
           -100
          ],
          [
           9088,
           150
          ],
          [
           8752,
           151
          ],
          [
           8754,
           152
          ],
          [
           0,
           -100
          ],
          [
           9098,
           153
          ],
          [
           9067,
           154
          ],
          [
           9122,
           155
          ],
          [
           0,
           -100
          ],
          [
           9273,
           156
          ],
          [
           9129,
           157
          ],
          [
           9067,
           158
          ],
          [
           0,
           -100
          ],
          [
           8848,
           159
          ],
          [
           9171,
           160
          ],
          [
           9148,
           161
          ],
          [
           0,
           -100
          ],
          [
           9113,
           162
          ],
          [
           9315,
           163
          ],
          [
           9255,
           164
          ],
          [
           0,
           -100
          ],
          [
           9267,
           165
          ],
          [
           9252,
           166
          ],
          [
           9115,
           167
          ],
          [
           0,
           -100
          ],
          [
           9062,
           168
          ],
          [
           8989,
           169
          ],
          [
           9082,
           170
          ],
          [
           0,
           -100
          ],
          [
           8974,
           171
          ],
          [
           9386,
           172
          ],
          [
           9079,
           173
          ],
          [
           0,
           -100
          ],
          [
           9048,
           174
          ],
          [
           9023,
           175
          ],
          [
           8958,
           176
          ],
          [
           0,
           -100
          ],
          [
           9329,
           177
          ],
          [
           9154,
           178
          ],
          [
           9218,
           179
          ],
          [
           0,
           -100
          ],
          [
           9193,
           180
          ],
          [
           9189,
           181
          ],
          [
           8883,
           182
          ],
          [
           0,
           -100
          ],
          [
           9107,
           183
          ],
          [
           8832,
           184
          ],
          [
           9140,
           185
          ],
          [
           0,
           -100
          ],
          [
           9243,
           186
          ],
          [
           9173,
           187
          ],
          [
           9064,
           188
          ],
          [
           0,
           -100
          ],
          [
           9280,
           189
          ],
          [
           8953,
           190
          ],
          [
           9176,
           191
          ],
          [
           0,
           -100
          ],
          [
           9249,
           192
          ],
          [
           9129,
           193
          ],
          [
           9151,
           194
          ],
          [
           0,
           -100
          ],
          [
           8821,
           195
          ],
          [
           9109,
           196
          ],
          [
           9271,
           197
          ],
          [
           0,
           -100
          ],
          [
           9095,
           198
          ],
          [
           9133,
           199
          ],
          [
           9198,
           200
          ],
          [
           0,
           -100
          ],
          [
           9202,
           201
          ],
          [
           8864,
           202
          ],
          [
           9402,
           203
          ],
          [
           0,
           -100
          ],
          [
           9029,
           204
          ],
          [
           8934,
           205
          ],
          [
           9206,
           206
          ],
          [
           0,
           -100
          ],
          [
           9176,
           207
          ],
          [
           9101,
           208
          ],
          [
           9189,
           209
          ],
          [
           0,
           -100
          ],
          [
           9084,
           210
          ],
          [
           9095,
           211
          ],
          [
           9143,
           212
          ],
          [
           0,
           -100
          ],
          [
           9080,
           213
          ],
          [
           9212,
           214
          ],
          [
           9224,
           215
          ],
          [
           0,
           -100
          ],
          [
           9069,
           216
          ],
          [
           9245,
           217
          ],
          [
           9216,
           218
          ],
          [
           0,
           -100
          ],
          [
           9118,
           219
          ],
          [
           8963,
           220
          ],
          [
           8770,
           221
          ],
          [
           0,
           -100
          ],
          [
           9450,
           222
          ],
          [
           9054,
           223
          ],
          [
           8913,
           224
          ],
          [
           0,
           -100
          ],
          [
           8954,
           225
          ],
          [
           9205,
           226
          ],
          [
           8985,
           227
          ],
          [
           0,
           -100
          ],
          [
           9144,
           228
          ],
          [
           9095,
           229
          ],
          [
           8911,
           230
          ],
          [
           0,
           -100
          ],
          [
           9218,
           231
          ],
          [
           9177,
           232
          ],
          [
           9085,
           233
          ],
          [
           0,
           -100
          ],
          [
           9046,
           234
          ],
          [
           9183,
           235
          ],
          [
           9125,
           236
          ],
          [
           0,
           -100
          ],
          [
           9099,
           237
          ],
          [
           8813,
           238
          ],
          [
           9464,
           239
          ],
          [
           0,
           -100
          ],
          [
           8933,
           240
          ],
          [
           9127,
           241
          ],
          [
           8968,
           242
          ],
          [
           0,
           -100
          ],
          [
           9083,
           243
          ],
          [
           8961,
           244
          ],
          [
           9116,
           245
          ],
          [
           0,
           -100
          ],
          [
           9051,
           246
          ],
          [
           9146,
           247
          ],
          [
           9327,
           248
          ],
          [
           0,
           -100
          ],
          [
           9114,
           249
          ],
          [
           9177,
           250
          ],
          [
           9172,
           251
          ],
          [
           0,
           -100
          ],
          [
           9222,
           252
          ],
          [
           9171,
           253
          ],
          [
           9001,
           254
          ],
          [
           0,
           -100
          ],
          [
           9165,
           255
          ],
          [
           9165,
           256
          ],
          [
           9250,
           257
          ],
          [
           0,
           -100
          ],
          [
           8987,
           258
          ],
          [
           8912,
           259
          ],
          [
           9114,
           260
          ],
          [
           0,
           -100
          ],
          [
           9135,
           261
          ],
          [
           9060,
           262
          ],
          [
           9209,
           263
          ],
          [
           0,
           -100
          ],
          [
           9076,
           264
          ],
          [
           8945,
           265
          ],
          [
           9184,
           266
          ],
          [
           0,
           -100
          ],
          [
           8980,
           267
          ],
          [
           8974,
           268
          ],
          [
           9125,
           269
          ],
          [
           0,
           -100
          ],
          [
           9110,
           270
          ],
          [
           8970,
           271
          ],
          [
           9102,
           272
          ],
          [
           0,
           -100
          ],
          [
           9202,
           273
          ],
          [
           8980,
           274
          ],
          [
           9022,
           275
          ],
          [
           0,
           -100
          ],
          [
           9093,
           276
          ],
          [
           9172,
           277
          ],
          [
           9319,
           278
          ],
          [
           0,
           -100
          ],
          [
           9167,
           279
          ],
          [
           8996,
           280
          ],
          [
           9149,
           281
          ],
          [
           0,
           -100
          ],
          [
           9030,
           282
          ],
          [
           9153,
           283
          ],
          [
           9133,
           284
          ],
          [
           0,
           -100
          ],
          [
           8966,
           285
          ],
          [
           8913,
           286
          ],
          [
           9001,
           287
          ],
          [
           0,
           -100
          ],
          [
           9218,
           288
          ],
          [
           9098,
           289
          ],
          [
           9136,
           290
          ],
          [
           0,
           -100
          ],
          [
           9115,
           291
          ],
          [
           9203,
           292
          ],
          [
           9063,
           293
          ],
          [
           0,
           -100
          ],
          [
           9085,
           294
          ],
          [
           9169,
           295
          ],
          [
           9272,
           296
          ],
          [
           0,
           -100
          ],
          [
           9146,
           297
          ],
          [
           9088,
           298
          ],
          [
           9026,
           299
          ],
          [
           0,
           -100
          ],
          [
           9112,
           300
          ],
          [
           9113,
           301
          ],
          [
           9315,
           302
          ],
          [
           0,
           -100
          ],
          [
           8931,
           303
          ],
          [
           9091,
           304
          ],
          [
           9323,
           305
          ],
          [
           0,
           -100
          ],
          [
           8974,
           306
          ],
          [
           9242,
           307
          ],
          [
           9261,
           308
          ],
          [
           0,
           -100
          ],
          [
           9224,
           309
          ],
          [
           8983,
           310
          ],
          [
           9134,
           311
          ],
          [
           0,
           -100
          ],
          [
           9004,
           312
          ],
          [
           9102,
           313
          ],
          [
           9145,
           314
          ],
          [
           0,
           -100
          ],
          [
           9176,
           315
          ],
          [
           9233,
           316
          ],
          [
           9307,
           317
          ],
          [
           0,
           -100
          ],
          [
           8960,
           318
          ],
          [
           8884,
           319
          ],
          [
           8956,
           320
          ],
          [
           0,
           -100
          ],
          [
           8867,
           321
          ],
          [
           8966,
           322
          ],
          [
           9128,
           323
          ],
          [
           0,
           -100
          ],
          [
           9151,
           324
          ],
          [
           8844,
           325
          ],
          [
           8897,
           326
          ],
          [
           0,
           -100
          ],
          [
           9085,
           327
          ],
          [
           8920,
           328
          ],
          [
           9387,
           329
          ],
          [
           0,
           -100
          ],
          [
           9296,
           330
          ],
          [
           9078,
           331
          ],
          [
           9108,
           332
          ],
          [
           0,
           -100
          ],
          [
           9212,
           333
          ],
          [
           9294,
           334
          ],
          [
           9102,
           335
          ],
          [
           0,
           -100
          ],
          [
           9243,
           336
          ],
          [
           9188,
           337
          ],
          [
           9146,
           338
          ],
          [
           0,
           -100
          ],
          [
           9160,
           339
          ],
          [
           8937,
           340
          ],
          [
           9231,
           341
          ],
          [
           0,
           -100
          ],
          [
           9089,
           342
          ],
          [
           8936,
           343
          ],
          [
           9129,
           344
          ],
          [
           0,
           -100
          ],
          [
           9193,
           345
          ],
          [
           9241,
           346
          ],
          [
           9286,
           347
          ],
          [
           0,
           -100
          ],
          [
           9052,
           348
          ],
          [
           9045,
           349
          ],
          [
           9016,
           350
          ],
          [
           0,
           -100
          ],
          [
           8986,
           351
          ],
          [
           8948,
           352
          ],
          [
           8848,
           353
          ],
          [
           0,
           -100
          ],
          [
           8975,
           354
          ],
          [
           9013,
           355
          ],
          [
           8977,
           356
          ],
          [
           0,
           -100
          ],
          [
           9108,
           357
          ],
          [
           9095,
           358
          ],
          [
           9009,
           359
          ],
          [
           0,
           -100
          ],
          [
           9291,
           360
          ],
          [
           9136,
           361
          ],
          [
           8956,
           362
          ],
          [
           0,
           -100
          ],
          [
           8997,
           363
          ],
          [
           8982,
           364
          ],
          [
           9197,
           365
          ],
          [
           0,
           -100
          ],
          [
           9005,
           366
          ],
          [
           9177,
           367
          ],
          [
           9065,
           368
          ],
          [
           0,
           -100
          ],
          [
           8956,
           369
          ],
          [
           9173,
           370
          ],
          [
           9146,
           371
          ],
          [
           0,
           -100
          ],
          [
           9043,
           372
          ],
          [
           8990,
           373
          ],
          [
           9228,
           374
          ],
          [
           0,
           -100
          ],
          [
           9075,
           375
          ],
          [
           9033,
           376
          ],
          [
           9215,
           377
          ],
          [
           0,
           -100
          ],
          [
           9179,
           378
          ],
          [
           9222,
           379
          ],
          [
           8996,
           380
          ],
          [
           0,
           -100
          ],
          [
           9178,
           381
          ],
          [
           9176,
           382
          ],
          [
           9305,
           383
          ],
          [
           0,
           -100
          ],
          [
           9399,
           384
          ],
          [
           9061,
           385
          ],
          [
           9338,
           386
          ],
          [
           0,
           -100
          ],
          [
           9131,
           387
          ],
          [
           9269,
           388
          ],
          [
           9073,
           389
          ],
          [
           0,
           -100
          ],
          [
           9226,
           390
          ],
          [
           9085,
           391
          ],
          [
           9109,
           392
          ],
          [
           0,
           -100
          ],
          [
           9197,
           393
          ],
          [
           9021,
           394
          ],
          [
           9040,
           395
          ],
          [
           0,
           -100
          ],
          [
           9066,
           396
          ],
          [
           9108,
           397
          ],
          [
           8939,
           398
          ],
          [
           0,
           -100
          ],
          [
           9232,
           399
          ],
          [
           9152,
           400
          ],
          [
           9100,
           401
          ],
          [
           0,
           -100
          ],
          [
           9127,
           402
          ],
          [
           9220,
           403
          ],
          [
           9050,
           404
          ],
          [
           0,
           -100
          ],
          [
           9069,
           405
          ],
          [
           8922,
           406
          ],
          [
           9226,
           407
          ],
          [
           0,
           -100
          ],
          [
           9251,
           408
          ],
          [
           9199,
           409
          ],
          [
           8982,
           410
          ],
          [
           0,
           -100
          ],
          [
           8970,
           411
          ],
          [
           9171,
           412
          ],
          [
           9089,
           413
          ],
          [
           0,
           -100
          ],
          [
           9049,
           414
          ],
          [
           9172,
           415
          ],
          [
           9094,
           416
          ],
          [
           0,
           -100
          ],
          [
           9268,
           417
          ],
          [
           9193,
           418
          ],
          [
           9102,
           419
          ],
          [
           0,
           -100
          ],
          [
           9044,
           420
          ],
          [
           9182,
           421
          ],
          [
           8969,
           422
          ],
          [
           0,
           -100
          ],
          [
           9222,
           423
          ],
          [
           8945,
           424
          ],
          [
           9047,
           425
          ],
          [
           0,
           -100
          ],
          [
           9089,
           426
          ],
          [
           9174,
           427
          ],
          [
           9154,
           428
          ],
          [
           0,
           -100
          ],
          [
           9118,
           429
          ],
          [
           9103,
           430
          ],
          [
           9104,
           431
          ],
          [
           0,
           -100
          ],
          [
           9274,
           432
          ],
          [
           9333,
           433
          ],
          [
           9062,
           434
          ],
          [
           0,
           -100
          ],
          [
           9229,
           435
          ],
          [
           9254,
           436
          ],
          [
           9083,
           437
          ],
          [
           0,
           -100
          ],
          [
           9408,
           438
          ],
          [
           8932,
           439
          ],
          [
           9251,
           440
          ],
          [
           0,
           -100
          ],
          [
           9165,
           441
          ],
          [
           9198,
           442
          ],
          [
           9343,
           443
          ],
          [
           0,
           -100
          ],
          [
           8995,
           444
          ],
          [
           9235,
           445
          ],
          [
           9133,
           446
          ],
          [
           0,
           -100
          ],
          [
           9118,
           447
          ],
          [
           9087,
           448
          ],
          [
           9194,
           449
          ],
          [
           0,
           -100
          ],
          [
           8982,
           450
          ],
          [
           9146,
           451
          ],
          [
           9122,
           452
          ],
          [
           0,
           -100
          ],
          [
           9214,
           453
          ],
          [
           9095,
           454
          ],
          [
           8933,
           455
          ],
          [
           0,
           -100
          ],
          [
           9121,
           456
          ],
          [
           9002,
           457
          ],
          [
           9100,
           458
          ],
          [
           0,
           -100
          ],
          [
           9218,
           459
          ],
          [
           9020,
           460
          ],
          [
           9150,
           461
          ],
          [
           0,
           -100
          ],
          [
           9156,
           462
          ],
          [
           9269,
           463
          ],
          [
           9238,
           464
          ],
          [
           0,
           -100
          ],
          [
           8954,
           465
          ],
          [
           9041,
           466
          ],
          [
           9057,
           467
          ],
          [
           0,
           -100
          ],
          [
           9114,
           468
          ],
          [
           8972,
           469
          ],
          [
           9090,
           470
          ],
          [
           0,
           -100
          ],
          [
           9386,
           471
          ],
          [
           9289,
           472
          ],
          [
           9127,
           473
          ],
          [
           0,
           -100
          ],
          [
           9116,
           474
          ],
          [
           9240,
           475
          ],
          [
           9349,
           476
          ],
          [
           0,
           -100
          ],
          [
           9242,
           477
          ],
          [
           9032,
           478
          ],
          [
           9307,
           479
          ],
          [
           0,
           -100
          ],
          [
           8909,
           480
          ],
          [
           8989,
           481
          ],
          [
           9060,
           482
          ],
          [
           0,
           -100
          ],
          [
           9040,
           483
          ],
          [
           9060,
           484
          ],
          [
           9354,
           485
          ],
          [
           0,
           -100
          ],
          [
           9117,
           486
          ],
          [
           9066,
           487
          ],
          [
           9106,
           488
          ],
          [
           0,
           -100
          ],
          [
           9152,
           489
          ],
          [
           9129,
           490
          ],
          [
           9150,
           491
          ],
          [
           0,
           -100
          ],
          [
           9391,
           492
          ],
          [
           9040,
           493
          ],
          [
           9244,
           494
          ],
          [
           0,
           -100
          ],
          [
           9329,
           495
          ],
          [
           8973,
           496
          ],
          [
           9075,
           497
          ],
          [
           0,
           -100
          ],
          [
           9120,
           498
          ],
          [
           9158,
           499
          ],
          [
           9151,
           500
          ],
          [
           0,
           -100
          ],
          [
           9150,
           501
          ],
          [
           9166,
           502
          ],
          [
           9138,
           503
          ],
          [
           0,
           -100
          ],
          [
           8987,
           504
          ],
          [
           9157,
           505
          ],
          [
           9437,
           506
          ],
          [
           0,
           -100
          ],
          [
           9047,
           507
          ],
          [
           9283,
           508
          ],
          [
           9159,
           509
          ],
          [
           0,
           -100
          ],
          [
           9148,
           510
          ],
          [
           9121,
           511
          ],
          [
           9030,
           512
          ],
          [
           0,
           -100
          ],
          [
           9064,
           513
          ],
          [
           9069,
           514
          ],
          [
           8970,
           515
          ],
          [
           0,
           -100
          ],
          [
           9278,
           516
          ],
          [
           9112,
           517
          ],
          [
           9209,
           518
          ],
          [
           0,
           -100
          ],
          [
           9070,
           519
          ],
          [
           9023,
           520
          ],
          [
           9119,
           521
          ],
          [
           0,
           -100
          ],
          [
           9008,
           522
          ],
          [
           9236,
           523
          ],
          [
           9150,
           524
          ],
          [
           0,
           -100
          ],
          [
           9346,
           525
          ],
          [
           9238,
           526
          ],
          [
           8972,
           527
          ],
          [
           0,
           -100
          ],
          [
           9160,
           528
          ],
          [
           9115,
           529
          ],
          [
           9227,
           530
          ],
          [
           0,
           -100
          ],
          [
           9013,
           531
          ],
          [
           9072,
           532
          ],
          [
           9221,
           533
          ],
          [
           0,
           -100
          ],
          [
           9035,
           534
          ],
          [
           8925,
           535
          ],
          [
           9159,
           536
          ],
          [
           0,
           -100
          ],
          [
           9239,
           537
          ],
          [
           8904,
           538
          ],
          [
           9257,
           539
          ],
          [
           0,
           -100
          ],
          [
           9071,
           540
          ],
          [
           9114,
           541
          ],
          [
           9078,
           542
          ],
          [
           0,
           -100
          ],
          [
           9172,
           543
          ],
          [
           9156,
           544
          ],
          [
           9073,
           545
          ],
          [
           0,
           -100
          ],
          [
           9031,
           546
          ],
          [
           8979,
           547
          ],
          [
           9286,
           548
          ],
          [
           0,
           -100
          ],
          [
           9046,
           549
          ],
          [
           9050,
           550
          ],
          [
           9181,
           551
          ],
          [
           0,
           -100
          ],
          [
           9139,
           552
          ],
          [
           9084,
           553
          ],
          [
           9274,
           554
          ],
          [
           0,
           -100
          ],
          [
           9159,
           555
          ],
          [
           8971,
           556
          ],
          [
           8941,
           557
          ],
          [
           0,
           -100
          ],
          [
           9089,
           558
          ],
          [
           8933,
           559
          ],
          [
           9142,
           560
          ],
          [
           0,
           -100
          ],
          [
           9284,
           561
          ],
          [
           9040,
           562
          ],
          [
           9072,
           563
          ],
          [
           0,
           -100
          ],
          [
           9032,
           564
          ],
          [
           9211,
           565
          ],
          [
           8893,
           566
          ],
          [
           0,
           -100
          ],
          [
           9139,
           567
          ],
          [
           8996,
           568
          ],
          [
           8976,
           569
          ],
          [
           0,
           -100
          ],
          [
           9131,
           570
          ],
          [
           9016,
           571
          ],
          [
           9101,
           572
          ],
          [
           0,
           -100
          ],
          [
           8986,
           573
          ],
          [
           9292,
           574
          ],
          [
           8968,
           575
          ],
          [
           0,
           -100
          ],
          [
           9259,
           576
          ],
          [
           9058,
           577
          ],
          [
           9159,
           578
          ],
          [
           0,
           -100
          ],
          [
           8946,
           579
          ],
          [
           9219,
           580
          ],
          [
           9085,
           581
          ],
          [
           0,
           -100
          ],
          [
           9022,
           582
          ],
          [
           9067,
           583
          ],
          [
           9162,
           584
          ],
          [
           0,
           -100
          ],
          [
           9098,
           585
          ],
          [
           8895,
           586
          ],
          [
           9121,
           587
          ],
          [
           0,
           -100
          ],
          [
           8958,
           588
          ],
          [
           9136,
           589
          ],
          [
           9220,
           590
          ],
          [
           0,
           -100
          ],
          [
           8881,
           591
          ],
          [
           8967,
           592
          ],
          [
           9033,
           593
          ],
          [
           0,
           -100
          ],
          [
           8983,
           594
          ],
          [
           9232,
           595
          ],
          [
           9116,
           596
          ],
          [
           0,
           -100
          ],
          [
           9181,
           597
          ],
          [
           9038,
           598
          ],
          [
           9296,
           599
          ],
          [
           0,
           -100
          ],
          [
           9159,
           600
          ],
          [
           9145,
           601
          ],
          [
           9248,
           602
          ],
          [
           0,
           -100
          ],
          [
           9067,
           603
          ],
          [
           9157,
           604
          ],
          [
           9243,
           605
          ],
          [
           0,
           -100
          ],
          [
           9016,
           606
          ],
          [
           9181,
           607
          ],
          [
           9086,
           608
          ],
          [
           0,
           -100
          ],
          [
           9191,
           609
          ],
          [
           9015,
           610
          ],
          [
           9218,
           611
          ],
          [
           0,
           -100
          ],
          [
           9042,
           612
          ],
          [
           8956,
           613
          ],
          [
           9249,
           614
          ],
          [
           0,
           -100
          ],
          [
           9002,
           615
          ],
          [
           9302,
           616
          ],
          [
           9137,
           617
          ],
          [
           0,
           -100
          ],
          [
           9333,
           618
          ],
          [
           9158,
           619
          ],
          [
           9219,
           620
          ],
          [
           0,
           -100
          ],
          [
           9103,
           621
          ],
          [
           9082,
           622
          ],
          [
           9098,
           623
          ],
          [
           0,
           -100
          ],
          [
           9214,
           624
          ],
          [
           9053,
           625
          ],
          [
           9237,
           626
          ],
          [
           0,
           -100
          ],
          [
           9268,
           627
          ],
          [
           9046,
           628
          ],
          [
           9368,
           629
          ],
          [
           0,
           -100
          ],
          [
           9241,
           630
          ],
          [
           9115,
           631
          ],
          [
           8980,
           632
          ],
          [
           0,
           -100
          ],
          [
           9028,
           633
          ],
          [
           9079,
           634
          ],
          [
           9071,
           635
          ],
          [
           0,
           -100
          ],
          [
           8885,
           636
          ],
          [
           9241,
           637
          ],
          [
           9052,
           638
          ],
          [
           0,
           -100
          ],
          [
           9226,
           639
          ],
          [
           9303,
           640
          ],
          [
           9155,
           641
          ],
          [
           0,
           -100
          ],
          [
           9042,
           642
          ],
          [
           9216,
           643
          ],
          [
           8813,
           644
          ],
          [
           0,
           -100
          ],
          [
           9152,
           645
          ],
          [
           9170,
           646
          ],
          [
           9087,
           647
          ],
          [
           0,
           -100
          ],
          [
           9047,
           648
          ],
          [
           9158,
           649
          ],
          [
           8998,
           650
          ],
          [
           0,
           -100
          ],
          [
           9173,
           651
          ],
          [
           9184,
           652
          ],
          [
           9156,
           653
          ],
          [
           0,
           -100
          ],
          [
           8972,
           654
          ],
          [
           9137,
           655
          ],
          [
           9088,
           656
          ],
          [
           0,
           -100
          ],
          [
           9111,
           657
          ],
          [
           9114,
           658
          ],
          [
           9149,
           659
          ],
          [
           0,
           -100
          ],
          [
           8962,
           660
          ],
          [
           9201,
           661
          ],
          [
           9073,
           662
          ],
          [
           0,
           -100
          ],
          [
           9129,
           663
          ],
          [
           8990,
           664
          ],
          [
           9305,
           665
          ],
          [
           0,
           -100
          ],
          [
           9221,
           666
          ],
          [
           8959,
           667
          ],
          [
           9002,
           668
          ],
          [
           0,
           -100
          ],
          [
           9215,
           669
          ],
          [
           9017,
           670
          ],
          [
           9118,
           671
          ],
          [
           0,
           -100
          ],
          [
           9183,
           672
          ],
          [
           9270,
           673
          ],
          [
           9180,
           674
          ],
          [
           0,
           -100
          ],
          [
           9219,
           675
          ],
          [
           9210,
           676
          ],
          [
           9165,
           677
          ],
          [
           0,
           -100
          ],
          [
           9052,
           678
          ],
          [
           9014,
           679
          ],
          [
           9229,
           680
          ],
          [
           0,
           -100
          ],
          [
           9164,
           681
          ],
          [
           9233,
           682
          ],
          [
           9199,
           683
          ],
          [
           0,
           -100
          ],
          [
           8848,
           684
          ],
          [
           9325,
           685
          ],
          [
           9233,
           686
          ],
          [
           0,
           -100
          ],
          [
           9347,
           687
          ],
          [
           9163,
           688
          ],
          [
           9117,
           689
          ],
          [
           0,
           -100
          ],
          [
           9067,
           690
          ],
          [
           9087,
           691
          ],
          [
           8952,
           692
          ],
          [
           0,
           -100
          ],
          [
           9281,
           693
          ],
          [
           9202,
           694
          ],
          [
           9003,
           695
          ],
          [
           0,
           -100
          ],
          [
           9046,
           696
          ],
          [
           9099,
           697
          ],
          [
           9053,
           698
          ],
          [
           0,
           -100
          ],
          [
           9203,
           699
          ],
          [
           8972,
           700
          ],
          [
           9167,
           701
          ],
          [
           0,
           -100
          ],
          [
           9084,
           702
          ],
          [
           9032,
           703
          ],
          [
           8993,
           704
          ],
          [
           0,
           -100
          ],
          [
           8995,
           705
          ],
          [
           9187,
           706
          ],
          [
           8993,
           707
          ],
          [
           0,
           -100
          ],
          [
           9185,
           708
          ],
          [
           9180,
           709
          ],
          [
           9338,
           710
          ],
          [
           0,
           -100
          ],
          [
           9202,
           711
          ],
          [
           9226,
           712
          ],
          [
           9088,
           713
          ],
          [
           0,
           -100
          ],
          [
           8914,
           714
          ],
          [
           9201,
           715
          ],
          [
           9194,
           716
          ],
          [
           0,
           -100
          ],
          [
           9115,
           717
          ],
          [
           9101,
           718
          ],
          [
           9141,
           719
          ],
          [
           0,
           -100
          ],
          [
           9179,
           720
          ],
          [
           9321,
           721
          ],
          [
           9130,
           722
          ],
          [
           0,
           -100
          ],
          [
           9071,
           723
          ],
          [
           9166,
           724
          ],
          [
           9137,
           725
          ],
          [
           0,
           -100
          ],
          [
           9258,
           726
          ],
          [
           9071,
           727
          ],
          [
           8955,
           728
          ],
          [
           0,
           -100
          ],
          [
           8869,
           729
          ],
          [
           9030,
           730
          ],
          [
           8979,
           731
          ],
          [
           0,
           -100
          ],
          [
           8966,
           732
          ],
          [
           9151,
           733
          ],
          [
           9170,
           734
          ],
          [
           0,
           -100
          ],
          [
           9269,
           735
          ],
          [
           9097,
           736
          ],
          [
           8981,
           737
          ],
          [
           0,
           -100
          ],
          [
           9183,
           738
          ],
          [
           9042,
           739
          ],
          [
           8979,
           740
          ],
          [
           0,
           -100
          ],
          [
           8937,
           741
          ],
          [
           9252,
           742
          ],
          [
           9188,
           743
          ],
          [
           0,
           -100
          ],
          [
           8960,
           744
          ],
          [
           9216,
           745
          ],
          [
           9083,
           746
          ],
          [
           0,
           -100
          ],
          [
           8945,
           747
          ],
          [
           9031,
           748
          ],
          [
           9139,
           749
          ],
          [
           0,
           -100
          ],
          [
           9156,
           750
          ],
          [
           9231,
           751
          ],
          [
           9090,
           752
          ],
          [
           0,
           -100
          ],
          [
           9198,
           753
          ],
          [
           9129,
           754
          ],
          [
           9068,
           755
          ],
          [
           0,
           -100
          ],
          [
           8882,
           756
          ],
          [
           8868,
           757
          ],
          [
           9234,
           758
          ],
          [
           0,
           -100
          ],
          [
           8840,
           759
          ],
          [
           8971,
           760
          ],
          [
           8835,
           761
          ],
          [
           0,
           -100
          ],
          [
           9254,
           762
          ],
          [
           9267,
           763
          ],
          [
           9068,
           764
          ],
          [
           0,
           -100
          ],
          [
           9005,
           765
          ],
          [
           9026,
           766
          ],
          [
           9183,
           767
          ],
          [
           0,
           -100
          ],
          [
           9134,
           768
          ],
          [
           9115,
           769
          ],
          [
           8916,
           770
          ],
          [
           0,
           -100
          ],
          [
           8934,
           771
          ],
          [
           9097,
           772
          ],
          [
           9078,
           773
          ],
          [
           0,
           -100
          ],
          [
           9027,
           774
          ],
          [
           9111,
           775
          ],
          [
           9413,
           776
          ],
          [
           0,
           -100
          ],
          [
           9264,
           777
          ],
          [
           8966,
           778
          ],
          [
           9113,
           779
          ],
          [
           0,
           -100
          ],
          [
           9023,
           780
          ],
          [
           9144,
           781
          ],
          [
           9310,
           782
          ],
          [
           0,
           -100
          ],
          [
           9095,
           783
          ],
          [
           9399,
           784
          ],
          [
           9067,
           785
          ],
          [
           0,
           -100
          ],
          [
           9052,
           786
          ],
          [
           8917,
           787
          ],
          [
           9077,
           788
          ],
          [
           0,
           -100
          ],
          [
           9060,
           789
          ],
          [
           9290,
           790
          ],
          [
           9220,
           791
          ],
          [
           0,
           -100
          ],
          [
           9005,
           792
          ],
          [
           9122,
           793
          ],
          [
           9106,
           794
          ],
          [
           0,
           -100
          ],
          [
           9203,
           795
          ],
          [
           9072,
           796
          ],
          [
           9047,
           797
          ],
          [
           0,
           -100
          ],
          [
           9195,
           798
          ],
          [
           9010,
           799
          ],
          [
           9036,
           800
          ],
          [
           0,
           -100
          ],
          [
           9011,
           801
          ],
          [
           8997,
           802
          ],
          [
           8952,
           803
          ],
          [
           0,
           -100
          ],
          [
           9297,
           804
          ],
          [
           9139,
           805
          ],
          [
           9042,
           806
          ],
          [
           0,
           -100
          ],
          [
           9169,
           807
          ],
          [
           9048,
           808
          ],
          [
           9244,
           809
          ],
          [
           0,
           -100
          ],
          [
           9156,
           810
          ],
          [
           9142,
           811
          ],
          [
           8986,
           812
          ],
          [
           0,
           -100
          ],
          [
           9098,
           813
          ],
          [
           9123,
           814
          ],
          [
           9005,
           815
          ],
          [
           0,
           -100
          ],
          [
           9240,
           816
          ],
          [
           8935,
           817
          ],
          [
           8932,
           818
          ],
          [
           0,
           -100
          ],
          [
           9230,
           819
          ],
          [
           8945,
           820
          ],
          [
           9019,
           821
          ],
          [
           0,
           -100
          ],
          [
           9053,
           822
          ],
          [
           9025,
           823
          ],
          [
           8941,
           824
          ],
          [
           0,
           -100
          ],
          [
           8985,
           825
          ],
          [
           9328,
           826
          ],
          [
           8989,
           827
          ],
          [
           0,
           -100
          ],
          [
           9150,
           828
          ],
          [
           9157,
           829
          ],
          [
           8988,
           830
          ],
          [
           0,
           -100
          ],
          [
           9198,
           831
          ],
          [
           9157,
           832
          ],
          [
           9073,
           833
          ],
          [
           0,
           -100
          ],
          [
           9114,
           834
          ],
          [
           9112,
           835
          ],
          [
           9106,
           836
          ],
          [
           0,
           -100
          ],
          [
           9116,
           837
          ],
          [
           9238,
           838
          ],
          [
           9221,
           839
          ],
          [
           0,
           -100
          ],
          [
           9071,
           840
          ],
          [
           9220,
           841
          ],
          [
           8905,
           842
          ],
          [
           0,
           -100
          ],
          [
           9165,
           843
          ],
          [
           8942,
           844
          ],
          [
           9051,
           845
          ],
          [
           0,
           -100
          ],
          [
           9299,
           846
          ],
          [
           9418,
           847
          ],
          [
           9159,
           848
          ],
          [
           0,
           -100
          ],
          [
           9136,
           849
          ],
          [
           9198,
           850
          ],
          [
           8981,
           851
          ],
          [
           0,
           -100
          ],
          [
           9184,
           852
          ],
          [
           9192,
           853
          ],
          [
           8822,
           854
          ],
          [
           0,
           -100
          ],
          [
           9223,
           855
          ],
          [
           9358,
           856
          ],
          [
           8970,
           857
          ],
          [
           0,
           -100
          ],
          [
           9181,
           858
          ],
          [
           9121,
           859
          ],
          [
           9116,
           860
          ],
          [
           0,
           -100
          ],
          [
           8959,
           861
          ],
          [
           9166,
           862
          ],
          [
           9191,
           863
          ],
          [
           0,
           -100
          ],
          [
           9105,
           864
          ],
          [
           8985,
           865
          ],
          [
           9105,
           866
          ],
          [
           0,
           -100
          ],
          [
           9187,
           867
          ],
          [
           8989,
           868
          ],
          [
           9145,
           869
          ],
          [
           0,
           -100
          ],
          [
           9009,
           870
          ],
          [
           9149,
           871
          ],
          [
           9125,
           872
          ],
          [
           0,
           -100
          ],
          [
           9135,
           873
          ],
          [
           8910,
           874
          ],
          [
           9178,
           875
          ],
          [
           0,
           -100
          ],
          [
           8937,
           876
          ],
          [
           9056,
           877
          ],
          [
           9183,
           878
          ],
          [
           0,
           -100
          ],
          [
           9221,
           879
          ],
          [
           9099,
           880
          ],
          [
           9244,
           881
          ],
          [
           0,
           -100
          ],
          [
           9329,
           882
          ],
          [
           8946,
           883
          ],
          [
           8901,
           884
          ],
          [
           0,
           -100
          ],
          [
           9174,
           885
          ],
          [
           9026,
           886
          ],
          [
           9078,
           887
          ],
          [
           0,
           -100
          ],
          [
           9146,
           888
          ],
          [
           9193,
           889
          ],
          [
           9154,
           890
          ],
          [
           0,
           -100
          ],
          [
           9198,
           891
          ],
          [
           9181,
           892
          ],
          [
           9103,
           893
          ],
          [
           0,
           -100
          ],
          [
           8822,
           894
          ],
          [
           9301,
           895
          ],
          [
           9308,
           896
          ],
          [
           0,
           -100
          ],
          [
           8990,
           897
          ],
          [
           9084,
           898
          ],
          [
           8968,
           899
          ],
          [
           0,
           -100
          ],
          [
           9190,
           900
          ],
          [
           9128,
           901
          ],
          [
           8800,
           902
          ],
          [
           0,
           -100
          ],
          [
           9299,
           903
          ],
          [
           9251,
           904
          ],
          [
           9073,
           905
          ],
          [
           0,
           -100
          ],
          [
           9032,
           906
          ],
          [
           9007,
           907
          ],
          [
           9064,
           908
          ],
          [
           0,
           -100
          ],
          [
           8961,
           909
          ],
          [
           9146,
           910
          ],
          [
           9094,
           911
          ],
          [
           0,
           -100
          ],
          [
           9176,
           912
          ],
          [
           9024,
           913
          ],
          [
           9049,
           914
          ],
          [
           0,
           -100
          ],
          [
           9117,
           915
          ],
          [
           9238,
           916
          ],
          [
           8823,
           917
          ],
          [
           0,
           -100
          ],
          [
           9105,
           918
          ],
          [
           9103,
           919
          ],
          [
           9183,
           920
          ],
          [
           0,
           -100
          ],
          [
           9060,
           921
          ],
          [
           9108,
           922
          ],
          [
           9224,
           923
          ],
          [
           0,
           -100
          ],
          [
           9076,
           924
          ],
          [
           9250,
           925
          ],
          [
           9149,
           926
          ],
          [
           0,
           -100
          ],
          [
           9024,
           927
          ],
          [
           9240,
           928
          ],
          [
           9161,
           929
          ],
          [
           0,
           -100
          ],
          [
           9138,
           930
          ],
          [
           8977,
           931
          ],
          [
           9120,
           932
          ],
          [
           0,
           -100
          ],
          [
           8931,
           933
          ],
          [
           9157,
           934
          ],
          [
           9322,
           935
          ],
          [
           0,
           -100
          ],
          [
           9075,
           936
          ],
          [
           8876,
           937
          ],
          [
           9052,
           938
          ],
          [
           0,
           -100
          ],
          [
           9190,
           939
          ],
          [
           9041,
           940
          ],
          [
           9167,
           941
          ],
          [
           0,
           -100
          ],
          [
           9316,
           942
          ],
          [
           9028,
           943
          ],
          [
           9154,
           944
          ],
          [
           0,
           -100
          ],
          [
           9394,
           945
          ],
          [
           9114,
           946
          ],
          [
           9234,
           947
          ],
          [
           0,
           -100
          ],
          [
           9285,
           948
          ],
          [
           9122,
           949
          ],
          [
           9161,
           950
          ],
          [
           0,
           -100
          ],
          [
           8998,
           951
          ],
          [
           9179,
           952
          ],
          [
           8969,
           953
          ],
          [
           0,
           -100
          ],
          [
           9098,
           954
          ],
          [
           8896,
           955
          ],
          [
           9161,
           956
          ],
          [
           0,
           -100
          ],
          [
           8930,
           957
          ],
          [
           9097,
           958
          ],
          [
           9170,
           959
          ],
          [
           0,
           -100
          ],
          [
           9168,
           960
          ],
          [
           9183,
           961
          ],
          [
           9286,
           962
          ],
          [
           0,
           -100
          ],
          [
           9158,
           963
          ],
          [
           9223,
           964
          ],
          [
           9065,
           965
          ],
          [
           0,
           -100
          ],
          [
           9205,
           966
          ],
          [
           9243,
           967
          ],
          [
           9176,
           968
          ],
          [
           0,
           -100
          ],
          [
           9164,
           969
          ],
          [
           9025,
           970
          ],
          [
           9234,
           971
          ],
          [
           0,
           -100
          ],
          [
           8957,
           972
          ],
          [
           8800,
           973
          ],
          [
           9028,
           974
          ],
          [
           0,
           -100
          ],
          [
           9365,
           975
          ],
          [
           8975,
           976
          ],
          [
           8737,
           977
          ],
          [
           0,
           -100
          ],
          [
           9116,
           978
          ],
          [
           9156,
           979
          ],
          [
           9179,
           980
          ],
          [
           0,
           -100
          ],
          [
           8938,
           981
          ],
          [
           9091,
           982
          ],
          [
           9149,
           983
          ],
          [
           0,
           -100
          ],
          [
           8956,
           984
          ],
          [
           9099,
           985
          ],
          [
           9186,
           986
          ],
          [
           0,
           -100
          ],
          [
           9035,
           987
          ],
          [
           8943,
           988
          ],
          [
           9319,
           989
          ],
          [
           0,
           -100
          ],
          [
           9002,
           990
          ],
          [
           9270,
           991
          ],
          [
           9225,
           992
          ],
          [
           0,
           -100
          ],
          [
           9145,
           993
          ],
          [
           9014,
           994
          ],
          [
           9111,
           995
          ],
          [
           0,
           -100
          ],
          [
           9200,
           996
          ],
          [
           9180,
           997
          ],
          [
           9005,
           998
          ],
          [
           0,
           -100
          ],
          [
           9215,
           999
          ],
          [
           8893,
           1000
          ],
          [
           9111,
           1001
          ],
          [
           0,
           -100
          ],
          [
           9021,
           1002
          ],
          [
           9154,
           1003
          ],
          [
           9092,
           1004
          ],
          [
           0,
           -100
          ],
          [
           9083,
           1005
          ],
          [
           9058,
           1006
          ],
          [
           9014,
           1007
          ],
          [
           0,
           -100
          ],
          [
           8893,
           1008
          ],
          [
           8944,
           1009
          ],
          [
           9429,
           1010
          ],
          [
           0,
           -100
          ],
          [
           9065,
           1011
          ],
          [
           9171,
           1012
          ],
          [
           9147,
           1013
          ],
          [
           0,
           -100
          ],
          [
           9105,
           1014
          ],
          [
           8997,
           1015
          ],
          [
           8965,
           1016
          ],
          [
           0,
           -100
          ],
          [
           9155,
           1017
          ],
          [
           9322,
           1018
          ],
          [
           9167,
           1019
          ],
          [
           0,
           -100
          ],
          [
           9111,
           1020
          ],
          [
           9152,
           1021
          ],
          [
           9124,
           1022
          ],
          [
           0,
           -100
          ],
          [
           9184,
           1023
          ],
          [
           9223,
           1024
          ],
          [
           9102,
           1025
          ],
          [
           0,
           -100
          ],
          [
           9048,
           1026
          ],
          [
           9268,
           1027
          ],
          [
           9028,
           1028
          ],
          [
           0,
           -100
          ],
          [
           9201,
           1029
          ],
          [
           9260,
           1030
          ],
          [
           9132,
           1031
          ],
          [
           0,
           -100
          ],
          [
           8945,
           1032
          ],
          [
           9159,
           1033
          ],
          [
           8832,
           1034
          ],
          [
           0,
           -100
          ],
          [
           8918,
           1035
          ],
          [
           9032,
           1036
          ],
          [
           9093,
           1037
          ],
          [
           0,
           -100
          ],
          [
           8972,
           1038
          ],
          [
           9151,
           1039
          ],
          [
           9179,
           1040
          ],
          [
           0,
           -100
          ],
          [
           9084,
           1041
          ],
          [
           9083,
           1042
          ],
          [
           9130,
           1043
          ],
          [
           0,
           -100
          ],
          [
           9038,
           1044
          ],
          [
           9363,
           1045
          ],
          [
           8891,
           1046
          ],
          [
           0,
           -100
          ],
          [
           8827,
           1047
          ],
          [
           9098,
           1048
          ],
          [
           9141,
           1049
          ],
          [
           0,
           -100
          ],
          [
           9246,
           1050
          ],
          [
           8922,
           1051
          ],
          [
           9224,
           1052
          ],
          [
           0,
           -100
          ],
          [
           8867,
           1053
          ],
          [
           8917,
           1054
          ],
          [
           9173,
           1055
          ],
          [
           0,
           -100
          ],
          [
           9047,
           1056
          ],
          [
           9289,
           1057
          ],
          [
           9111,
           1058
          ],
          [
           0,
           -100
          ],
          [
           9140,
           1059
          ],
          [
           9118,
           1060
          ],
          [
           8987,
           1061
          ],
          [
           0,
           -100
          ],
          [
           9224,
           1062
          ],
          [
           9195,
           1063
          ],
          [
           9052,
           1064
          ],
          [
           0,
           -100
          ],
          [
           9037,
           1065
          ],
          [
           9086,
           1066
          ],
          [
           9104,
           1067
          ],
          [
           0,
           -100
          ],
          [
           9320,
           1068
          ],
          [
           9146,
           1069
          ],
          [
           9116,
           1070
          ],
          [
           0,
           -100
          ],
          [
           8892,
           1071
          ],
          [
           9268,
           1072
          ],
          [
           8908,
           1073
          ],
          [
           0,
           -100
          ],
          [
           8974,
           1074
          ],
          [
           8914,
           1075
          ],
          [
           9137,
           1076
          ],
          [
           0,
           -100
          ],
          [
           8939,
           1077
          ],
          [
           9160,
           1078
          ],
          [
           8982,
           1079
          ],
          [
           0,
           -100
          ],
          [
           9152,
           1080
          ],
          [
           9160,
           1081
          ],
          [
           9132,
           1082
          ],
          [
           0,
           -100
          ],
          [
           9091,
           1083
          ],
          [
           8943,
           1084
          ],
          [
           9176,
           1085
          ],
          [
           0,
           -100
          ],
          [
           9090,
           1086
          ],
          [
           9136,
           1087
          ],
          [
           8942,
           1088
          ],
          [
           0,
           -100
          ],
          [
           9168,
           1089
          ],
          [
           8979,
           1090
          ],
          [
           9218,
           1091
          ],
          [
           0,
           -100
          ],
          [
           9294,
           1092
          ],
          [
           9052,
           1093
          ],
          [
           9056,
           1094
          ],
          [
           0,
           -100
          ],
          [
           9247,
           1095
          ],
          [
           9173,
           1096
          ],
          [
           9086,
           1097
          ],
          [
           0,
           -100
          ],
          [
           9179,
           1098
          ],
          [
           9264,
           1099
          ],
          [
           9250,
           1100
          ],
          [
           0,
           -100
          ],
          [
           9064,
           1101
          ],
          [
           9096,
           1102
          ],
          [
           8965,
           1103
          ],
          [
           0,
           -100
          ],
          [
           9081,
           1104
          ],
          [
           9177,
           1105
          ],
          [
           9255,
           1106
          ],
          [
           0,
           -100
          ],
          [
           8779,
           1107
          ],
          [
           9070,
           1108
          ],
          [
           9334,
           1109
          ],
          [
           0,
           -100
          ],
          [
           9177,
           1110
          ],
          [
           9165,
           1111
          ],
          [
           9254,
           1112
          ],
          [
           0,
           -100
          ],
          [
           9223,
           1113
          ],
          [
           8968,
           1114
          ],
          [
           9313,
           1115
          ],
          [
           0,
           -100
          ],
          [
           9230,
           1116
          ],
          [
           8962,
           1117
          ],
          [
           9169,
           1118
          ],
          [
           0,
           -100
          ],
          [
           9053,
           1119
          ],
          [
           9260,
           1120
          ],
          [
           9170,
           1121
          ],
          [
           0,
           -100
          ],
          [
           9045,
           1122
          ],
          [
           8986,
           1123
          ],
          [
           9263,
           1124
          ],
          [
           0,
           -100
          ],
          [
           9011,
           1125
          ],
          [
           9103,
           1126
          ],
          [
           9069,
           1127
          ],
          [
           0,
           -100
          ],
          [
           9338,
           1128
          ],
          [
           9402,
           1129
          ],
          [
           9177,
           1130
          ],
          [
           0,
           -100
          ],
          [
           9236,
           1131
          ],
          [
           9300,
           1132
          ],
          [
           9097,
           1133
          ],
          [
           0,
           -100
          ],
          [
           9138,
           1134
          ],
          [
           9100,
           1135
          ],
          [
           9270,
           1136
          ],
          [
           0,
           -100
          ],
          [
           9157,
           1137
          ],
          [
           9100,
           1138
          ],
          [
           9150,
           1139
          ],
          [
           0,
           -100
          ],
          [
           8876,
           1140
          ],
          [
           9060,
           1141
          ],
          [
           9291,
           1142
          ],
          [
           0,
           -100
          ],
          [
           8879,
           1143
          ],
          [
           9113,
           1144
          ],
          [
           8987,
           1145
          ],
          [
           0,
           -100
          ],
          [
           9360,
           1146
          ],
          [
           9090,
           1147
          ],
          [
           9071,
           1148
          ],
          [
           0,
           -100
          ],
          [
           8839,
           1149
          ],
          [
           9070,
           1150
          ],
          [
           9337,
           1151
          ],
          [
           0,
           -100
          ],
          [
           8844,
           1152
          ],
          [
           8950,
           1153
          ],
          [
           9211,
           1154
          ],
          [
           0,
           -100
          ],
          [
           9132,
           1155
          ],
          [
           9170,
           1156
          ],
          [
           9470,
           1157
          ],
          [
           0,
           -100
          ],
          [
           9127,
           1158
          ],
          [
           9104,
           1159
          ],
          [
           9033,
           1160
          ],
          [
           0,
           -100
          ],
          [
           8882,
           1161
          ],
          [
           9115,
           1162
          ],
          [
           9027,
           1163
          ],
          [
           0,
           -100
          ],
          [
           9128,
           1164
          ],
          [
           8974,
           1165
          ],
          [
           9031,
           1166
          ],
          [
           0,
           -100
          ],
          [
           9236,
           1167
          ],
          [
           9122,
           1168
          ],
          [
           9113,
           1169
          ],
          [
           0,
           -100
          ],
          [
           9022,
           1170
          ],
          [
           9056,
           1171
          ],
          [
           9095,
           1172
          ],
          [
           0,
           -100
          ],
          [
           9241,
           1173
          ],
          [
           9248,
           1174
          ],
          [
           9136,
           1175
          ],
          [
           0,
           -100
          ],
          [
           9167,
           1176
          ],
          [
           9157,
           1177
          ],
          [
           8966,
           1178
          ],
          [
           0,
           -100
          ],
          [
           9157,
           1179
          ],
          [
           8929,
           1180
          ],
          [
           9116,
           1181
          ],
          [
           0,
           -100
          ],
          [
           9144,
           1182
          ],
          [
           9245,
           1183
          ],
          [
           9122,
           1184
          ],
          [
           0,
           -100
          ],
          [
           8922,
           1185
          ],
          [
           9017,
           1186
          ],
          [
           9215,
           1187
          ],
          [
           0,
           -100
          ],
          [
           9069,
           1188
          ],
          [
           9002,
           1189
          ],
          [
           8990,
           1190
          ],
          [
           0,
           -100
          ],
          [
           9205,
           1191
          ],
          [
           9109,
           1192
          ],
          [
           9100,
           1193
          ],
          [
           0,
           -100
          ],
          [
           8849,
           1194
          ],
          [
           9268,
           1195
          ],
          [
           9066,
           1196
          ],
          [
           0,
           -100
          ],
          [
           9257,
           1197
          ],
          [
           8978,
           1198
          ],
          [
           9029,
           1199
          ],
          [
           0,
           -100
          ],
          [
           9195,
           1200
          ],
          [
           9042,
           1201
          ],
          [
           9221,
           1202
          ],
          [
           0,
           -100
          ],
          [
           8791,
           1203
          ],
          [
           9219,
           1204
          ],
          [
           9153,
           1205
          ],
          [
           0,
           -100
          ],
          [
           8923,
           1206
          ],
          [
           9207,
           1207
          ],
          [
           9122,
           1208
          ],
          [
           0,
           -100
          ],
          [
           9062,
           1209
          ],
          [
           9025,
           1210
          ],
          [
           9030,
           1211
          ],
          [
           0,
           -100
          ],
          [
           9134,
           1212
          ],
          [
           9141,
           1213
          ],
          [
           9151,
           1214
          ],
          [
           0,
           -100
          ],
          [
           9148,
           1215
          ],
          [
           8982,
           1216
          ],
          [
           9076,
           1217
          ],
          [
           0,
           -100
          ],
          [
           9307,
           1218
          ],
          [
           8964,
           1219
          ],
          [
           9068,
           1220
          ],
          [
           0,
           -100
          ],
          [
           9121,
           1221
          ],
          [
           9368,
           1222
          ],
          [
           9094,
           1223
          ],
          [
           0,
           -100
          ],
          [
           9195,
           1224
          ],
          [
           9117,
           1225
          ],
          [
           9134,
           1226
          ],
          [
           0,
           -100
          ],
          [
           9111,
           1227
          ],
          [
           8963,
           1228
          ],
          [
           9342,
           1229
          ],
          [
           0,
           -100
          ],
          [
           8916,
           1230
          ],
          [
           9032,
           1231
          ],
          [
           9239,
           1232
          ],
          [
           0,
           -100
          ],
          [
           9172,
           1233
          ],
          [
           9043,
           1234
          ],
          [
           9219,
           1235
          ],
          [
           0,
           -100
          ],
          [
           9060,
           1236
          ],
          [
           8992,
           1237
          ],
          [
           9255,
           1238
          ],
          [
           0,
           -100
          ],
          [
           9098,
           1239
          ],
          [
           8982,
           1240
          ],
          [
           9241,
           1241
          ],
          [
           0,
           -100
          ],
          [
           9391,
           1242
          ],
          [
           9242,
           1243
          ],
          [
           8979,
           1244
          ],
          [
           0,
           -100
          ],
          [
           8997,
           1245
          ],
          [
           9100,
           1246
          ],
          [
           9010,
           1247
          ],
          [
           0,
           -100
          ],
          [
           9154,
           1248
          ],
          [
           9118,
           1249
          ],
          [
           8853,
           1250
          ],
          [
           0,
           -100
          ],
          [
           9248,
           1251
          ],
          [
           8915,
           1252
          ],
          [
           9143,
           1253
          ],
          [
           0,
           -100
          ],
          [
           9137,
           1254
          ],
          [
           9227,
           1255
          ],
          [
           9100,
           1256
          ],
          [
           0,
           -100
          ],
          [
           8993,
           1257
          ],
          [
           8980,
           1258
          ],
          [
           9043,
           1259
          ],
          [
           0,
           -100
          ],
          [
           9114,
           1260
          ],
          [
           9049,
           1261
          ],
          [
           9290,
           1262
          ],
          [
           0,
           -100
          ],
          [
           9112,
           1263
          ],
          [
           9095,
           1264
          ],
          [
           8983,
           1265
          ],
          [
           0,
           -100
          ],
          [
           9046,
           1266
          ],
          [
           9085,
           1267
          ],
          [
           9217,
           1268
          ],
          [
           0,
           -100
          ],
          [
           9125,
           1269
          ],
          [
           9202,
           1270
          ],
          [
           9070,
           1271
          ],
          [
           0,
           -100
          ],
          [
           9164,
           1272
          ],
          [
           9181,
           1273
          ],
          [
           9198,
           1274
          ],
          [
           0,
           -100
          ],
          [
           9107,
           1275
          ],
          [
           9207,
           1276
          ],
          [
           8986,
           1277
          ],
          [
           0,
           -100
          ],
          [
           9108,
           1278
          ],
          [
           9093,
           1279
          ],
          [
           9044,
           1280
          ],
          [
           0,
           -100
          ],
          [
           9092,
           1281
          ],
          [
           9332,
           1282
          ],
          [
           9124,
           1283
          ],
          [
           0,
           -100
          ],
          [
           9227,
           1284
          ],
          [
           9109,
           1285
          ],
          [
           8879,
           1286
          ],
          [
           0,
           -100
          ],
          [
           9028,
           1287
          ],
          [
           9270,
           1288
          ],
          [
           9235,
           1289
          ],
          [
           0,
           -100
          ],
          [
           9147,
           1290
          ],
          [
           8981,
           1291
          ],
          [
           9108,
           1292
          ],
          [
           0,
           -100
          ],
          [
           9065,
           1293
          ],
          [
           9258,
           1294
          ],
          [
           8990,
           1295
          ],
          [
           0,
           -100
          ],
          [
           8977,
           1296
          ],
          [
           9256,
           1297
          ],
          [
           9078,
           1298
          ],
          [
           0,
           -100
          ],
          [
           9223,
           1299
          ],
          [
           9272,
           1300
          ],
          [
           9326,
           1301
          ],
          [
           0,
           -100
          ],
          [
           9140,
           1302
          ],
          [
           8976,
           1303
          ],
          [
           8947,
           1304
          ],
          [
           0,
           -100
          ],
          [
           9101,
           1305
          ],
          [
           8888,
           1306
          ],
          [
           9005,
           1307
          ],
          [
           0,
           -100
          ],
          [
           9055,
           1308
          ],
          [
           9087,
           1309
          ],
          [
           9293,
           1310
          ],
          [
           0,
           -100
          ],
          [
           9152,
           1311
          ],
          [
           8871,
           1312
          ],
          [
           9009,
           1313
          ],
          [
           0,
           -100
          ],
          [
           9289,
           1314
          ],
          [
           9113,
           1315
          ],
          [
           9125,
           1316
          ],
          [
           0,
           -100
          ],
          [
           9116,
           1317
          ],
          [
           9302,
           1318
          ],
          [
           9265,
           1319
          ],
          [
           0,
           -100
          ],
          [
           9000,
           1320
          ],
          [
           9377,
           1321
          ],
          [
           9094,
           1322
          ],
          [
           0,
           -100
          ],
          [
           9280,
           1323
          ],
          [
           9094,
           1324
          ],
          [
           9192,
           1325
          ],
          [
           0,
           -100
          ],
          [
           9077,
           1326
          ],
          [
           9169,
           1327
          ],
          [
           9144,
           1328
          ],
          [
           0,
           -100
          ],
          [
           9288,
           1329
          ],
          [
           9034,
           1330
          ],
          [
           9186,
           1331
          ],
          [
           0,
           -100
          ],
          [
           9376,
           1332
          ],
          [
           8947,
           1333
          ],
          [
           9112,
           1334
          ],
          [
           0,
           -100
          ],
          [
           9150,
           1335
          ],
          [
           9203,
           1336
          ],
          [
           9054,
           1337
          ],
          [
           0,
           -100
          ],
          [
           9161,
           1338
          ],
          [
           9277,
           1339
          ],
          [
           9065,
           1340
          ],
          [
           0,
           -100
          ],
          [
           9081,
           1341
          ],
          [
           9362,
           1342
          ],
          [
           9353,
           1343
          ],
          [
           0,
           -100
          ],
          [
           9182,
           1344
          ],
          [
           9147,
           1345
          ],
          [
           8990,
           1346
          ],
          [
           0,
           -100
          ],
          [
           9232,
           1347
          ],
          [
           8940,
           1348
          ],
          [
           9078,
           1349
          ],
          [
           0,
           -100
          ],
          [
           9058,
           1350
          ],
          [
           9329,
           1351
          ],
          [
           9263,
           1352
          ],
          [
           0,
           -100
          ],
          [
           9096,
           1353
          ],
          [
           9093,
           1354
          ],
          [
           9294,
           1355
          ],
          [
           0,
           -100
          ],
          [
           9064,
           1356
          ],
          [
           9064,
           1357
          ],
          [
           9072,
           1358
          ],
          [
           0,
           -100
          ],
          [
           8894,
           1359
          ],
          [
           9249,
           1360
          ],
          [
           9122,
           1361
          ],
          [
           0,
           -100
          ],
          [
           9047,
           1362
          ],
          [
           9188,
           1363
          ],
          [
           8891,
           1364
          ],
          [
           0,
           -100
          ],
          [
           9237,
           1365
          ],
          [
           9129,
           1366
          ],
          [
           9154,
           1367
          ],
          [
           0,
           -100
          ],
          [
           8975,
           1368
          ],
          [
           9172,
           1369
          ],
          [
           8980,
           1370
          ],
          [
           0,
           -100
          ],
          [
           9178,
           1371
          ],
          [
           8985,
           1372
          ],
          [
           8974,
           1373
          ],
          [
           0,
           -100
          ],
          [
           9218,
           1374
          ],
          [
           8975,
           1375
          ],
          [
           9235,
           1376
          ],
          [
           0,
           -100
          ],
          [
           9117,
           1377
          ],
          [
           9115,
           1378
          ],
          [
           9018,
           1379
          ],
          [
           0,
           -100
          ],
          [
           9135,
           1380
          ],
          [
           9198,
           1381
          ],
          [
           9096,
           1382
          ],
          [
           0,
           -100
          ],
          [
           8985,
           1383
          ],
          [
           9042,
           1384
          ],
          [
           9302,
           1385
          ],
          [
           0,
           -100
          ],
          [
           8981,
           1386
          ],
          [
           9041,
           1387
          ],
          [
           9231,
           1388
          ],
          [
           0,
           -100
          ],
          [
           9175,
           1389
          ],
          [
           8988,
           1390
          ],
          [
           9198,
           1391
          ],
          [
           0,
           -100
          ],
          [
           9003,
           1392
          ],
          [
           9176,
           1393
          ],
          [
           9073,
           1394
          ],
          [
           0,
           -100
          ],
          [
           9034,
           1395
          ],
          [
           9141,
           1396
          ],
          [
           8983,
           1397
          ],
          [
           0,
           -100
          ],
          [
           9084,
           1398
          ],
          [
           9105,
           1399
          ],
          [
           9286,
           1400
          ],
          [
           0,
           -100
          ],
          [
           9152,
           1401
          ],
          [
           9270,
           1402
          ],
          [
           8896,
           1403
          ],
          [
           0,
           -100
          ],
          [
           9064,
           1404
          ],
          [
           8852,
           1405
          ],
          [
           9036,
           1406
          ],
          [
           0,
           -100
          ],
          [
           9319,
           1407
          ],
          [
           9281,
           1408
          ],
          [
           9042,
           1409
          ],
          [
           0,
           -100
          ],
          [
           9206,
           1410
          ],
          [
           8936,
           1411
          ],
          [
           9059,
           1412
          ],
          [
           0,
           -100
          ],
          [
           9221,
           1413
          ],
          [
           9027,
           1414
          ],
          [
           9073,
           1415
          ],
          [
           0,
           -100
          ],
          [
           9211,
           1416
          ],
          [
           9227,
           1417
          ],
          [
           9195,
           1418
          ],
          [
           0,
           -100
          ],
          [
           9157,
           1419
          ],
          [
           8981,
           1420
          ],
          [
           9172,
           1421
          ],
          [
           0,
           -100
          ],
          [
           8879,
           1422
          ],
          [
           9240,
           1423
          ],
          [
           9032,
           1424
          ],
          [
           0,
           -100
          ],
          [
           9241,
           1425
          ],
          [
           8957,
           1426
          ],
          [
           8877,
           1427
          ],
          [
           0,
           -100
          ],
          [
           9198,
           1428
          ],
          [
           9441,
           1429
          ],
          [
           9315,
           1430
          ],
          [
           0,
           -100
          ],
          [
           9180,
           1431
          ],
          [
           9113,
           1432
          ],
          [
           9097,
           1433
          ],
          [
           0,
           -100
          ],
          [
           8996,
           1434
          ],
          [
           9112,
           1435
          ],
          [
           9043,
           1436
          ],
          [
           0,
           -100
          ],
          [
           9167,
           1437
          ],
          [
           8950,
           1438
          ],
          [
           9126,
           1439
          ],
          [
           0,
           -100
          ],
          [
           9279,
           1440
          ],
          [
           8968,
           1441
          ],
          [
           8917,
           1442
          ],
          [
           0,
           -100
          ],
          [
           9131,
           1443
          ],
          [
           9307,
           1444
          ],
          [
           9248,
           1445
          ],
          [
           0,
           -100
          ],
          [
           9239,
           1446
          ],
          [
           9161,
           1447
          ],
          [
           9178,
           1448
          ],
          [
           0,
           -100
          ],
          [
           9088,
           1449
          ],
          [
           9047,
           1450
          ],
          [
           9242,
           1451
          ],
          [
           0,
           -100
          ],
          [
           9190,
           1452
          ],
          [
           9087,
           1453
          ],
          [
           9173,
           1454
          ],
          [
           0,
           -100
          ],
          [
           8953,
           1455
          ],
          [
           9051,
           1456
          ],
          [
           9116,
           1457
          ],
          [
           0,
           -100
          ],
          [
           9120,
           1458
          ],
          [
           8958,
           1459
          ],
          [
           9332,
           1460
          ],
          [
           0,
           -100
          ],
          [
           8979,
           1461
          ],
          [
           9122,
           1462
          ],
          [
           8980,
           1463
          ],
          [
           0,
           -100
          ],
          [
           9024,
           1464
          ],
          [
           9132,
           1465
          ],
          [
           9013,
           1466
          ],
          [
           0,
           -100
          ],
          [
           9267,
           1467
          ],
          [
           9022,
           1468
          ],
          [
           9070,
           1469
          ],
          [
           0,
           -100
          ],
          [
           9160,
           1470
          ],
          [
           9074,
           1471
          ],
          [
           9049,
           1472
          ],
          [
           0,
           -100
          ],
          [
           9305,
           1473
          ],
          [
           9247,
           1474
          ],
          [
           9042,
           1475
          ],
          [
           0,
           -100
          ],
          [
           9066,
           1476
          ],
          [
           8993,
           1477
          ],
          [
           9026,
           1478
          ],
          [
           0,
           -100
          ],
          [
           9304,
           1479
          ],
          [
           9044,
           1480
          ],
          [
           9345,
           1481
          ],
          [
           0,
           -100
          ],
          [
           9095,
           1482
          ],
          [
           9090,
           1483
          ],
          [
           9069,
           1484
          ],
          [
           0,
           -100
          ],
          [
           9411,
           1485
          ],
          [
           8957,
           1486
          ],
          [
           9109,
           1487
          ],
          [
           0,
           -100
          ],
          [
           9183,
           1488
          ],
          [
           9285,
           1489
          ],
          [
           9036,
           1490
          ],
          [
           0,
           -100
          ],
          [
           9221,
           1491
          ],
          [
           9172,
           1492
          ],
          [
           8995,
           1493
          ],
          [
           0,
           -100
          ],
          [
           8901,
           1494
          ],
          [
           9125,
           1495
          ],
          [
           9145,
           1496
          ],
          [
           0,
           -100
          ],
          [
           9187,
           1497
          ],
          [
           8898,
           1498
          ],
          [
           8914,
           1499
          ],
          [
           0,
           -100
          ],
          [
           9378,
           1500
          ],
          [
           9140,
           1501
          ],
          [
           9059,
           1502
          ],
          [
           0,
           -100
          ],
          [
           9239,
           1503
          ],
          [
           9236,
           1504
          ],
          [
           9041,
           1505
          ],
          [
           0,
           -100
          ],
          [
           9193,
           1506
          ],
          [
           9049,
           1507
          ],
          [
           8977,
           1508
          ],
          [
           0,
           -100
          ],
          [
           9161,
           1509
          ],
          [
           9074,
           1510
          ],
          [
           9220,
           1511
          ],
          [
           0,
           -100
          ],
          [
           8957,
           1512
          ],
          [
           8935,
           1513
          ],
          [
           9006,
           1514
          ],
          [
           0,
           -100
          ],
          [
           9009,
           1515
          ],
          [
           9198,
           1516
          ],
          [
           9331,
           1517
          ],
          [
           0,
           -100
          ],
          [
           8948,
           1518
          ],
          [
           8985,
           1519
          ],
          [
           9226,
           1520
          ],
          [
           0,
           -100
          ],
          [
           8735,
           1521
          ],
          [
           9168,
           1522
          ],
          [
           9026,
           1523
          ],
          [
           0,
           -100
          ],
          [
           9216,
           1524
          ],
          [
           9010,
           1525
          ],
          [
           9197,
           1526
          ],
          [
           0,
           -100
          ],
          [
           9155,
           1527
          ],
          [
           9135,
           1528
          ],
          [
           9145,
           1529
          ],
          [
           0,
           -100
          ],
          [
           9145,
           1530
          ],
          [
           9200,
           1531
          ],
          [
           8991,
           1532
          ],
          [
           0,
           -100
          ],
          [
           9376,
           1533
          ],
          [
           8900,
           1534
          ],
          [
           9092,
           1535
          ],
          [
           0,
           -100
          ],
          [
           9052,
           1536
          ],
          [
           9078,
           1537
          ],
          [
           9103,
           1538
          ],
          [
           0,
           -100
          ],
          [
           9263,
           1539
          ],
          [
           9318,
           1540
          ],
          [
           9001,
           1541
          ],
          [
           0,
           -100
          ],
          [
           9095,
           1542
          ],
          [
           9209,
           1543
          ],
          [
           9113,
           1544
          ],
          [
           0,
           -100
          ],
          [
           9330,
           1545
          ],
          [
           9051,
           1546
          ],
          [
           9343,
           1547
          ],
          [
           0,
           -100
          ],
          [
           9135,
           1548
          ],
          [
           9138,
           1549
          ],
          [
           9105,
           1550
          ],
          [
           0,
           -100
          ],
          [
           8996,
           1551
          ],
          [
           9086,
           1552
          ],
          [
           9247,
           1553
          ],
          [
           0,
           -100
          ],
          [
           9127,
           1554
          ],
          [
           8978,
           1555
          ],
          [
           9200,
           1556
          ],
          [
           0,
           -100
          ],
          [
           9181,
           1557
          ],
          [
           9096,
           1558
          ],
          [
           9127,
           1559
          ],
          [
           0,
           -100
          ],
          [
           8963,
           1560
          ],
          [
           9022,
           1561
          ],
          [
           9229,
           1562
          ],
          [
           0,
           -100
          ],
          [
           9229,
           1563
          ],
          [
           8973,
           1564
          ],
          [
           9102,
           1565
          ],
          [
           0,
           -100
          ],
          [
           9267,
           1566
          ],
          [
           8808,
           1567
          ],
          [
           9183,
           1568
          ],
          [
           0,
           -100
          ],
          [
           9074,
           1569
          ],
          [
           9028,
           1570
          ],
          [
           9205,
           1571
          ],
          [
           0,
           -100
          ],
          [
           9173,
           1572
          ],
          [
           9067,
           1573
          ],
          [
           8975,
           1574
          ],
          [
           0,
           -100
          ],
          [
           8989,
           1575
          ],
          [
           9256,
           1576
          ],
          [
           9093,
           1577
          ],
          [
           0,
           -100
          ],
          [
           9191,
           1578
          ],
          [
           9173,
           1579
          ],
          [
           9254,
           1580
          ],
          [
           0,
           -100
          ],
          [
           9096,
           1581
          ],
          [
           9139,
           1582
          ],
          [
           8937,
           1583
          ],
          [
           0,
           -100
          ],
          [
           8977,
           1584
          ],
          [
           9075,
           1585
          ],
          [
           9086,
           1586
          ],
          [
           0,
           -100
          ],
          [
           9194,
           1587
          ],
          [
           9367,
           1588
          ],
          [
           9069,
           1589
          ],
          [
           0,
           -100
          ],
          [
           9268,
           1590
          ],
          [
           9109,
           1591
          ],
          [
           9075,
           1592
          ],
          [
           0,
           -100
          ],
          [
           9255,
           1593
          ],
          [
           9254,
           1594
          ],
          [
           9237,
           1595
          ],
          [
           0,
           -100
          ],
          [
           9065,
           1596
          ],
          [
           9176,
           1597
          ],
          [
           8813,
           1598
          ],
          [
           0,
           -100
          ],
          [
           9063,
           1599
          ],
          [
           9011,
           1600
          ],
          [
           8979,
           1601
          ],
          [
           0,
           -100
          ],
          [
           8985,
           1602
          ],
          [
           9296,
           1603
          ],
          [
           9248,
           1604
          ],
          [
           0,
           -100
          ],
          [
           9073,
           1605
          ],
          [
           9140,
           1606
          ],
          [
           9201,
           1607
          ],
          [
           0,
           -100
          ],
          [
           9145,
           1608
          ],
          [
           9214,
           1609
          ],
          [
           8925,
           1610
          ],
          [
           0,
           -100
          ],
          [
           9093,
           1611
          ],
          [
           9074,
           1612
          ],
          [
           9017,
           1613
          ],
          [
           0,
           -100
          ],
          [
           9052,
           1614
          ],
          [
           9109,
           1615
          ],
          [
           9052,
           1616
          ],
          [
           0,
           -100
          ],
          [
           9290,
           1617
          ],
          [
           9001,
           1618
          ],
          [
           9195,
           1619
          ],
          [
           0,
           -100
          ],
          [
           9243,
           1620
          ],
          [
           9228,
           1621
          ],
          [
           9246,
           1622
          ],
          [
           0,
           -100
          ],
          [
           9280,
           1623
          ],
          [
           9182,
           1624
          ],
          [
           9050,
           1625
          ],
          [
           0,
           -100
          ],
          [
           9341,
           1626
          ],
          [
           9117,
           1627
          ],
          [
           8843,
           1628
          ],
          [
           0,
           -100
          ],
          [
           9034,
           1629
          ],
          [
           8995,
           1630
          ],
          [
           9164,
           1631
          ],
          [
           0,
           -100
          ],
          [
           9092,
           1632
          ],
          [
           9070,
           1633
          ],
          [
           9154,
           1634
          ],
          [
           0,
           -100
          ],
          [
           9063,
           1635
          ],
          [
           9098,
           1636
          ],
          [
           9144,
           1637
          ],
          [
           0,
           -100
          ],
          [
           8959,
           1638
          ],
          [
           9157,
           1639
          ],
          [
           9071,
           1640
          ],
          [
           0,
           -100
          ],
          [
           9325,
           1641
          ],
          [
           9075,
           1642
          ],
          [
           9103,
           1643
          ],
          [
           0,
           -100
          ],
          [
           9058,
           1644
          ],
          [
           8933,
           1645
          ],
          [
           9198,
           1646
          ],
          [
           0,
           -100
          ],
          [
           9126,
           1647
          ],
          [
           9124,
           1648
          ],
          [
           9029,
           1649
          ],
          [
           0,
           -100
          ],
          [
           8962,
           1650
          ],
          [
           9088,
           1651
          ],
          [
           9005,
           1652
          ],
          [
           0,
           -100
          ],
          [
           9091,
           1653
          ],
          [
           8858,
           1654
          ],
          [
           9278,
           1655
          ],
          [
           0,
           -100
          ],
          [
           9230,
           1656
          ],
          [
           9042,
           1657
          ],
          [
           9212,
           1658
          ],
          [
           0,
           -100
          ],
          [
           9157,
           1659
          ],
          [
           9115,
           1660
          ],
          [
           9021,
           1661
          ],
          [
           0,
           -100
          ],
          [
           9080,
           1662
          ],
          [
           9229,
           1663
          ],
          [
           9241,
           1664
          ],
          [
           0,
           -100
          ],
          [
           9101,
           1665
          ],
          [
           9328,
           1666
          ],
          [
           9138,
           1667
          ],
          [
           0,
           -100
          ],
          [
           9209,
           1668
          ],
          [
           9081,
           1669
          ],
          [
           9054,
           1670
          ],
          [
           0,
           -100
          ],
          [
           9292,
           1671
          ],
          [
           9187,
           1672
          ],
          [
           9236,
           1673
          ],
          [
           0,
           -100
          ],
          [
           9194,
           1674
          ],
          [
           9301,
           1675
          ],
          [
           9106,
           1676
          ],
          [
           0,
           -100
          ],
          [
           9167,
           1677
          ],
          [
           9125,
           1678
          ],
          [
           8997,
           1679
          ],
          [
           0,
           -100
          ],
          [
           9067,
           1680
          ],
          [
           9063,
           1681
          ],
          [
           8921,
           1682
          ],
          [
           0,
           -100
          ],
          [
           9064,
           1683
          ],
          [
           9097,
           1684
          ],
          [
           9332,
           1685
          ],
          [
           0,
           -100
          ],
          [
           9311,
           1686
          ],
          [
           9145,
           1687
          ],
          [
           9223,
           1688
          ],
          [
           0,
           -100
          ],
          [
           9225,
           1689
          ],
          [
           9043,
           1690
          ],
          [
           9198,
           1691
          ],
          [
           0,
           -100
          ],
          [
           9159,
           1692
          ],
          [
           9171,
           1693
          ],
          [
           9009,
           1694
          ],
          [
           0,
           -100
          ],
          [
           9177,
           1695
          ],
          [
           9383,
           1696
          ],
          [
           9030,
           1697
          ],
          [
           0,
           -100
          ],
          [
           9239,
           1698
          ],
          [
           9211,
           1699
          ],
          [
           9020,
           1700
          ],
          [
           0,
           -100
          ],
          [
           9153,
           1701
          ],
          [
           8871,
           1702
          ],
          [
           9227,
           1703
          ],
          [
           0,
           -100
          ],
          [
           9020,
           1704
          ],
          [
           9408,
           1705
          ],
          [
           9329,
           1706
          ],
          [
           0,
           -100
          ],
          [
           9171,
           1707
          ],
          [
           9178,
           1708
          ],
          [
           8840,
           1709
          ],
          [
           0,
           -100
          ],
          [
           8916,
           1710
          ],
          [
           8964,
           1711
          ],
          [
           9077,
           1712
          ],
          [
           0,
           -100
          ],
          [
           9018,
           1713
          ],
          [
           9240,
           1714
          ],
          [
           9136,
           1715
          ],
          [
           0,
           -100
          ],
          [
           9208,
           1716
          ],
          [
           9186,
           1717
          ],
          [
           8858,
           1718
          ],
          [
           0,
           -100
          ],
          [
           9171,
           1719
          ],
          [
           8963,
           1720
          ],
          [
           9159,
           1721
          ],
          [
           0,
           -100
          ],
          [
           9248,
           1722
          ],
          [
           8971,
           1723
          ],
          [
           9151,
           1724
          ],
          [
           0,
           -100
          ],
          [
           9101,
           1725
          ],
          [
           9437,
           1726
          ],
          [
           9099,
           1727
          ],
          [
           0,
           -100
          ],
          [
           9244,
           1728
          ],
          [
           9071,
           1729
          ],
          [
           8949,
           1730
          ],
          [
           0,
           -100
          ],
          [
           9130,
           1731
          ],
          [
           9029,
           1732
          ],
          [
           9078,
           1733
          ],
          [
           0,
           -100
          ],
          [
           9095,
           1734
          ],
          [
           9048,
           1735
          ],
          [
           9226,
           1736
          ],
          [
           0,
           -100
          ],
          [
           9164,
           1737
          ],
          [
           9185,
           1738
          ],
          [
           8923,
           1739
          ],
          [
           0,
           -100
          ],
          [
           9103,
           1740
          ],
          [
           9109,
           1741
          ],
          [
           8950,
           1742
          ],
          [
           0,
           -100
          ],
          [
           9241,
           1743
          ],
          [
           9021,
           1744
          ],
          [
           9140,
           1745
          ],
          [
           0,
           -100
          ],
          [
           8922,
           1746
          ],
          [
           9187,
           1747
          ],
          [
           9143,
           1748
          ],
          [
           0,
           -100
          ],
          [
           9017,
           1749
          ],
          [
           9249,
           1750
          ],
          [
           9218,
           1751
          ],
          [
           0,
           -100
          ],
          [
           9196,
           1752
          ],
          [
           9100,
           1753
          ],
          [
           9238,
           1754
          ],
          [
           0,
           -100
          ],
          [
           9094,
           1755
          ],
          [
           9306,
           1756
          ],
          [
           9279,
           1757
          ],
          [
           0,
           -100
          ],
          [
           8905,
           1758
          ],
          [
           8968,
           1759
          ],
          [
           9172,
           1760
          ],
          [
           0,
           -100
          ],
          [
           9259,
           1761
          ],
          [
           9087,
           1762
          ],
          [
           8965,
           1763
          ],
          [
           0,
           -100
          ],
          [
           9194,
           1764
          ],
          [
           9260,
           1765
          ],
          [
           9165,
           1766
          ],
          [
           0,
           -100
          ],
          [
           9139,
           1767
          ],
          [
           8931,
           1768
          ],
          [
           9045,
           1769
          ],
          [
           0,
           -100
          ],
          [
           9226,
           1770
          ],
          [
           9232,
           1771
          ],
          [
           9366,
           1772
          ],
          [
           0,
           -100
          ],
          [
           8942,
           1773
          ],
          [
           8840,
           1774
          ],
          [
           9146,
           1775
          ],
          [
           0,
           -100
          ],
          [
           8885,
           1776
          ],
          [
           9171,
           1777
          ],
          [
           9110,
           1778
          ],
          [
           0,
           -100
          ],
          [
           9080,
           1779
          ],
          [
           9073,
           1780
          ],
          [
           8949,
           1781
          ],
          [
           0,
           -100
          ],
          [
           9171,
           1782
          ],
          [
           8934,
           1783
          ],
          [
           9070,
           1784
          ],
          [
           0,
           -100
          ],
          [
           9199,
           1785
          ],
          [
           8831,
           1786
          ],
          [
           9344,
           1787
          ],
          [
           0,
           -100
          ],
          [
           9301,
           1788
          ],
          [
           9306,
           1789
          ],
          [
           9280,
           1790
          ],
          [
           0,
           -100
          ],
          [
           9013,
           1791
          ],
          [
           9193,
           1792
          ],
          [
           8909,
           1793
          ],
          [
           0,
           -100
          ],
          [
           9180,
           1794
          ],
          [
           9062,
           1795
          ],
          [
           8911,
           1796
          ],
          [
           0,
           -100
          ],
          [
           8886,
           1797
          ],
          [
           9137,
           1798
          ],
          [
           9285,
           1799
          ],
          [
           0,
           -100
          ],
          [
           9288,
           1800
          ],
          [
           9242,
           1801
          ],
          [
           8888,
           1802
          ],
          [
           0,
           -100
          ],
          [
           9140,
           1803
          ],
          [
           8767,
           1804
          ],
          [
           9144,
           1805
          ],
          [
           0,
           -100
          ],
          [
           9255,
           1806
          ],
          [
           9109,
           1807
          ],
          [
           8961,
           1808
          ],
          [
           0,
           -100
          ],
          [
           9074,
           1809
          ],
          [
           8951,
           1810
          ],
          [
           9127,
           1811
          ],
          [
           0,
           -100
          ],
          [
           9149,
           1812
          ],
          [
           8943,
           1813
          ],
          [
           9021,
           1814
          ],
          [
           0,
           -100
          ],
          [
           9055,
           1815
          ],
          [
           9216,
           1816
          ],
          [
           9041,
           1817
          ],
          [
           0,
           -100
          ],
          [
           9111,
           1818
          ],
          [
           9195,
           1819
          ],
          [
           9210,
           1820
          ],
          [
           0,
           -100
          ],
          [
           8946,
           1821
          ],
          [
           8998,
           1822
          ],
          [
           9220,
           1823
          ],
          [
           0,
           -100
          ],
          [
           9281,
           1824
          ],
          [
           8978,
           1825
          ],
          [
           9055,
           1826
          ],
          [
           0,
           -100
          ],
          [
           9142,
           1827
          ],
          [
           9157,
           1828
          ],
          [
           9141,
           1829
          ],
          [
           0,
           -100
          ],
          [
           9010,
           1830
          ],
          [
           9068,
           1831
          ],
          [
           8890,
           1832
          ],
          [
           0,
           -100
          ],
          [
           9027,
           1833
          ],
          [
           9258,
           1834
          ],
          [
           9155,
           1835
          ],
          [
           0,
           -100
          ],
          [
           9163,
           1836
          ],
          [
           9188,
           1837
          ],
          [
           9031,
           1838
          ],
          [
           0,
           -100
          ],
          [
           9191,
           1839
          ],
          [
           9149,
           1840
          ],
          [
           8947,
           1841
          ],
          [
           0,
           -100
          ],
          [
           9241,
           1842
          ],
          [
           9043,
           1843
          ],
          [
           9190,
           1844
          ],
          [
           0,
           -100
          ],
          [
           8963,
           1845
          ],
          [
           9084,
           1846
          ],
          [
           9023,
           1847
          ],
          [
           0,
           -100
          ],
          [
           9113,
           1848
          ],
          [
           9218,
           1849
          ],
          [
           9123,
           1850
          ],
          [
           0,
           -100
          ],
          [
           9176,
           1851
          ],
          [
           9157,
           1852
          ],
          [
           9043,
           1853
          ],
          [
           0,
           -100
          ],
          [
           9021,
           1854
          ],
          [
           9216,
           1855
          ],
          [
           9131,
           1856
          ],
          [
           0,
           -100
          ],
          [
           9157,
           1857
          ],
          [
           9111,
           1858
          ],
          [
           9238,
           1859
          ],
          [
           0,
           -100
          ],
          [
           9327,
           1860
          ],
          [
           9136,
           1861
          ],
          [
           9074,
           1862
          ],
          [
           0,
           -100
          ],
          [
           9065,
           1863
          ],
          [
           8891,
           1864
          ],
          [
           9007,
           1865
          ],
          [
           0,
           -100
          ],
          [
           8894,
           1866
          ],
          [
           9164,
           1867
          ],
          [
           8960,
           1868
          ],
          [
           0,
           -100
          ],
          [
           9134,
           1869
          ],
          [
           9179,
           1870
          ],
          [
           9126,
           1871
          ],
          [
           0,
           -100
          ],
          [
           9089,
           1872
          ],
          [
           8890,
           1873
          ],
          [
           9139,
           1874
          ],
          [
           0,
           -100
          ],
          [
           8913,
           1875
          ],
          [
           9250,
           1876
          ],
          [
           8885,
           1877
          ],
          [
           0,
           -100
          ],
          [
           9091,
           1878
          ],
          [
           8911,
           1879
          ],
          [
           9126,
           1880
          ],
          [
           0,
           -100
          ],
          [
           9261,
           1881
          ],
          [
           9268,
           1882
          ],
          [
           8975,
           1883
          ],
          [
           0,
           -100
          ],
          [
           9334,
           1884
          ],
          [
           9078,
           1885
          ],
          [
           8959,
           1886
          ],
          [
           0,
           -100
          ],
          [
           9067,
           1887
          ],
          [
           9262,
           1888
          ],
          [
           9068,
           1889
          ],
          [
           0,
           -100
          ],
          [
           9015,
           1890
          ],
          [
           9275,
           1891
          ],
          [
           9235,
           1892
          ],
          [
           0,
           -100
          ],
          [
           8992,
           1893
          ],
          [
           9294,
           1894
          ],
          [
           9253,
           1895
          ],
          [
           0,
           -100
          ],
          [
           9123,
           1896
          ],
          [
           9040,
           1897
          ],
          [
           9090,
           1898
          ],
          [
           0,
           -100
          ],
          [
           9157,
           1899
          ],
          [
           9198,
           1900
          ],
          [
           9141,
           1901
          ],
          [
           0,
           -100
          ],
          [
           9088,
           1902
          ],
          [
           9313,
           1903
          ],
          [
           9113,
           1904
          ],
          [
           0,
           -100
          ],
          [
           9131,
           1905
          ],
          [
           8964,
           1906
          ],
          [
           8947,
           1907
          ],
          [
           0,
           -100
          ],
          [
           9182,
           1908
          ],
          [
           8910,
           1909
          ],
          [
           9204,
           1910
          ],
          [
           0,
           -100
          ],
          [
           9028,
           1911
          ],
          [
           9007,
           1912
          ],
          [
           9245,
           1913
          ],
          [
           0,
           -100
          ],
          [
           8961,
           1914
          ],
          [
           8883,
           1915
          ],
          [
           9108,
           1916
          ],
          [
           0,
           -100
          ],
          [
           9186,
           1917
          ],
          [
           8895,
           1918
          ],
          [
           9336,
           1919
          ],
          [
           0,
           -100
          ],
          [
           9174,
           1920
          ],
          [
           9173,
           1921
          ],
          [
           9208,
           1922
          ],
          [
           0,
           -100
          ],
          [
           9143,
           1923
          ],
          [
           9288,
           1924
          ],
          [
           8909,
           1925
          ],
          [
           0,
           -100
          ],
          [
           9050,
           1926
          ],
          [
           9141,
           1927
          ],
          [
           9201,
           1928
          ],
          [
           0,
           -100
          ],
          [
           9265,
           1929
          ],
          [
           9163,
           1930
          ],
          [
           9015,
           1931
          ],
          [
           0,
           -100
          ],
          [
           9338,
           1932
          ],
          [
           9175,
           1933
          ],
          [
           8999,
           1934
          ],
          [
           0,
           -100
          ],
          [
           8976,
           1935
          ],
          [
           9129,
           1936
          ],
          [
           9231,
           1937
          ],
          [
           0,
           -100
          ],
          [
           9217,
           1938
          ],
          [
           9221,
           1939
          ],
          [
           9010,
           1940
          ],
          [
           0,
           -100
          ],
          [
           9230,
           1941
          ],
          [
           8984,
           1942
          ],
          [
           9284,
           1943
          ],
          [
           0,
           -100
          ],
          [
           8806,
           1944
          ],
          [
           9180,
           1945
          ],
          [
           9159,
           1946
          ],
          [
           0,
           -100
          ],
          [
           9165,
           1947
          ],
          [
           8916,
           1948
          ],
          [
           9099,
           1949
          ],
          [
           0,
           -100
          ],
          [
           9073,
           1950
          ],
          [
           9048,
           1951
          ],
          [
           8989,
           1952
          ],
          [
           0,
           -100
          ],
          [
           8945,
           1953
          ],
          [
           9103,
           1954
          ],
          [
           9187,
           1955
          ],
          [
           0,
           -100
          ],
          [
           9016,
           1956
          ],
          [
           9109,
           1957
          ],
          [
           9104,
           1958
          ],
          [
           0,
           -100
          ],
          [
           8965,
           1959
          ],
          [
           9301,
           1960
          ],
          [
           9166,
           1961
          ],
          [
           0,
           -100
          ],
          [
           9123,
           1962
          ],
          [
           8846,
           1963
          ],
          [
           9025,
           1964
          ],
          [
           0,
           -100
          ],
          [
           9032,
           1965
          ],
          [
           9016,
           1966
          ],
          [
           9361,
           1967
          ],
          [
           0,
           -100
          ],
          [
           9121,
           1968
          ],
          [
           9132,
           1969
          ],
          [
           9164,
           1970
          ],
          [
           0,
           -100
          ],
          [
           9269,
           1971
          ],
          [
           9052,
           1972
          ],
          [
           9381,
           1973
          ],
          [
           0,
           -100
          ],
          [
           9416,
           1974
          ],
          [
           9183,
           1975
          ],
          [
           8979,
           1976
          ],
          [
           0,
           -100
          ],
          [
           9021,
           1977
          ],
          [
           9132,
           1978
          ],
          [
           9131,
           1979
          ],
          [
           0,
           -100
          ],
          [
           9016,
           1980
          ],
          [
           8954,
           1981
          ],
          [
           9270,
           1982
          ],
          [
           0,
           -100
          ],
          [
           9123,
           1983
          ],
          [
           9216,
           1984
          ],
          [
           9174,
           1985
          ],
          [
           0,
           -100
          ],
          [
           8999,
           1986
          ],
          [
           9081,
           1987
          ],
          [
           9150,
           1988
          ],
          [
           0,
           -100
          ],
          [
           9162,
           1989
          ],
          [
           9221,
           1990
          ],
          [
           9166,
           1991
          ],
          [
           0,
           -100
          ],
          [
           9234,
           1992
          ],
          [
           9037,
           1993
          ],
          [
           9118,
           1994
          ],
          [
           0,
           -100
          ],
          [
           9106,
           1995
          ],
          [
           9101,
           1996
          ],
          [
           9029,
           1997
          ],
          [
           0,
           -100
          ],
          [
           9207,
           1998
          ],
          [
           9019,
           1999
          ],
          [
           9215,
           2000
          ],
          [
           0,
           -100
          ],
          [
           9191,
           2001
          ],
          [
           9263,
           2002
          ],
          [
           9170,
           2003
          ],
          [
           0,
           -100
          ],
          [
           9186,
           2004
          ],
          [
           9249,
           2005
          ],
          [
           9057,
           2006
          ],
          [
           0,
           -100
          ],
          [
           9039,
           2007
          ],
          [
           9086,
           2008
          ],
          [
           9179,
           2009
          ],
          [
           0,
           -100
          ],
          [
           9081,
           2010
          ],
          [
           9035,
           2011
          ],
          [
           9047,
           2012
          ],
          [
           0,
           -100
          ],
          [
           8882,
           2013
          ],
          [
           8838,
           2014
          ],
          [
           9418,
           2015
          ],
          [
           0,
           -100
          ],
          [
           9059,
           2016
          ],
          [
           9431,
           2017
          ],
          [
           9133,
           2018
          ],
          [
           0,
           -100
          ],
          [
           8811,
           2019
          ],
          [
           9128,
           2020
          ],
          [
           9204,
           2021
          ],
          [
           0,
           -100
          ],
          [
           9175,
           2022
          ],
          [
           9165,
           2023
          ],
          [
           9089,
           2024
          ],
          [
           0,
           -100
          ],
          [
           9237,
           2025
          ],
          [
           9070,
           2026
          ],
          [
           8948,
           2027
          ],
          [
           0,
           -100
          ],
          [
           8885,
           2028
          ],
          [
           8959,
           2029
          ],
          [
           8961,
           2030
          ],
          [
           0,
           -100
          ],
          [
           9263,
           2031
          ],
          [
           8927,
           2032
          ],
          [
           9118,
           2033
          ],
          [
           0,
           -100
          ],
          [
           9097,
           2034
          ],
          [
           9202,
           2035
          ],
          [
           9175,
           2036
          ],
          [
           0,
           -100
          ],
          [
           8968,
           2037
          ],
          [
           9415,
           2038
          ],
          [
           9147,
           2039
          ],
          [
           0,
           -100
          ],
          [
           9005,
           2040
          ],
          [
           9313,
           2041
          ],
          [
           9279,
           2042
          ],
          [
           0,
           -100
          ],
          [
           9368,
           2043
          ],
          [
           9195,
           2044
          ],
          [
           9107,
           2045
          ],
          [
           0,
           -100
          ],
          [
           8904,
           2046
          ],
          [
           9206,
           2047
          ],
          [
           8988,
           2048
          ],
          [
           0,
           -100
          ],
          [
           9085,
           2049
          ],
          [
           9101,
           2050
          ],
          [
           9278,
           2051
          ],
          [
           0,
           -100
          ],
          [
           9405,
           2052
          ],
          [
           9336,
           2053
          ],
          [
           9262,
           2054
          ],
          [
           0,
           -100
          ],
          [
           9179,
           2055
          ],
          [
           9043,
           2056
          ],
          [
           9121,
           2057
          ],
          [
           0,
           -100
          ],
          [
           9267,
           2058
          ],
          [
           9101,
           2059
          ],
          [
           9147,
           2060
          ],
          [
           0,
           -100
          ],
          [
           9185,
           2061
          ],
          [
           9162,
           2062
          ],
          [
           9121,
           2063
          ],
          [
           0,
           -100
          ],
          [
           9154,
           2064
          ],
          [
           9202,
           2065
          ],
          [
           9296,
           2066
          ],
          [
           0,
           -100
          ],
          [
           9116,
           2067
          ],
          [
           9170,
           2068
          ],
          [
           9096,
           2069
          ],
          [
           0,
           -100
          ],
          [
           9264,
           2070
          ],
          [
           9019,
           2071
          ],
          [
           9099,
           2072
          ],
          [
           0,
           -100
          ],
          [
           8970,
           2073
          ],
          [
           9119,
           2074
          ],
          [
           9322,
           2075
          ],
          [
           0,
           -100
          ],
          [
           9102,
           2076
          ],
          [
           8897,
           2077
          ],
          [
           9043,
           2078
          ],
          [
           0,
           -100
          ],
          [
           9295,
           2079
          ],
          [
           9116,
           2080
          ],
          [
           9020,
           2081
          ],
          [
           0,
           -100
          ],
          [
           9227,
           2082
          ],
          [
           9196,
           2083
          ],
          [
           9141,
           2084
          ],
          [
           0,
           -100
          ],
          [
           8950,
           2085
          ],
          [
           9396,
           2086
          ],
          [
           9047,
           2087
          ],
          [
           0,
           -100
          ],
          [
           9041,
           2088
          ],
          [
           9129,
           2089
          ],
          [
           9315,
           2090
          ],
          [
           0,
           -100
          ],
          [
           9014,
           2091
          ],
          [
           9144,
           2092
          ],
          [
           9255,
           2093
          ],
          [
           0,
           -100
          ],
          [
           9048,
           2094
          ],
          [
           9086,
           2095
          ],
          [
           9201,
           2096
          ],
          [
           0,
           -100
          ],
          [
           9348,
           2097
          ],
          [
           9005,
           2098
          ],
          [
           9080,
           2099
          ],
          [
           0,
           -100
          ],
          [
           9064,
           2100
          ],
          [
           8952,
           2101
          ],
          [
           9129,
           2102
          ],
          [
           0,
           -100
          ],
          [
           9049,
           2103
          ],
          [
           8930,
           2104
          ],
          [
           9177,
           2105
          ],
          [
           0,
           -100
          ],
          [
           9116,
           2106
          ],
          [
           9358,
           2107
          ],
          [
           9212,
           2108
          ],
          [
           0,
           -100
          ],
          [
           9061,
           2109
          ],
          [
           8891,
           2110
          ],
          [
           8974,
           2111
          ],
          [
           0,
           -100
          ],
          [
           9373,
           2112
          ],
          [
           9239,
           2113
          ],
          [
           9130,
           2114
          ],
          [
           0,
           -100
          ],
          [
           8994,
           2115
          ],
          [
           9409,
           2116
          ],
          [
           9410,
           2117
          ],
          [
           0,
           -100
          ],
          [
           9199,
           2118
          ],
          [
           9102,
           2119
          ],
          [
           8926,
           2120
          ],
          [
           0,
           -100
          ],
          [
           9160,
           2121
          ],
          [
           9083,
           2122
          ],
          [
           9061,
           2123
          ],
          [
           0,
           -100
          ],
          [
           8961,
           2124
          ],
          [
           9026,
           2125
          ],
          [
           9285,
           2126
          ],
          [
           0,
           -100
          ],
          [
           9063,
           2127
          ],
          [
           9136,
           2128
          ],
          [
           9068,
           2129
          ],
          [
           0,
           -100
          ],
          [
           9280,
           2130
          ],
          [
           9164,
           2131
          ],
          [
           8813,
           2132
          ],
          [
           0,
           -100
          ],
          [
           8909,
           2133
          ],
          [
           9106,
           2134
          ],
          [
           9209,
           2135
          ],
          [
           0,
           -100
          ],
          [
           9190,
           2136
          ],
          [
           9364,
           2137
          ],
          [
           8992,
           2138
          ],
          [
           0,
           -100
          ],
          [
           9010,
           2139
          ],
          [
           9220,
           2140
          ],
          [
           8934,
           2141
          ],
          [
           0,
           -100
          ],
          [
           9141,
           2142
          ],
          [
           8960,
           2143
          ],
          [
           9162,
           2144
          ],
          [
           0,
           -100
          ],
          [
           9286,
           2145
          ],
          [
           9049,
           2146
          ],
          [
           9105,
           2147
          ],
          [
           0,
           -100
          ],
          [
           9187,
           2148
          ],
          [
           8865,
           2149
          ],
          [
           9065,
           2150
          ],
          [
           0,
           -100
          ],
          [
           8910,
           2151
          ],
          [
           9030,
           2152
          ],
          [
           9074,
           2153
          ],
          [
           0,
           -100
          ],
          [
           9141,
           2154
          ],
          [
           9212,
           2155
          ],
          [
           9158,
           2156
          ],
          [
           0,
           -100
          ],
          [
           9300,
           2157
          ],
          [
           9030,
           2158
          ],
          [
           9120,
           2159
          ],
          [
           0,
           -100
          ],
          [
           9339,
           2160
          ],
          [
           9037,
           2161
          ],
          [
           9190,
           2162
          ],
          [
           0,
           -100
          ],
          [
           9248,
           2163
          ],
          [
           8977,
           2164
          ],
          [
           9087,
           2165
          ],
          [
           0,
           -100
          ],
          [
           8842,
           2166
          ],
          [
           8814,
           2167
          ],
          [
           9066,
           2168
          ],
          [
           0,
           -100
          ],
          [
           9046,
           2169
          ],
          [
           9111,
           2170
          ],
          [
           8973,
           2171
          ],
          [
           0,
           -100
          ],
          [
           9082,
           2172
          ],
          [
           9012,
           2173
          ],
          [
           9140,
           2174
          ],
          [
           0,
           -100
          ],
          [
           9130,
           2175
          ],
          [
           9034,
           2176
          ],
          [
           9321,
           2177
          ],
          [
           0,
           -100
          ],
          [
           9213,
           2178
          ],
          [
           9240,
           2179
          ],
          [
           9090,
           2180
          ],
          [
           0,
           -100
          ],
          [
           9148,
           2181
          ],
          [
           9258,
           2182
          ],
          [
           9117,
           2183
          ],
          [
           0,
           -100
          ],
          [
           9215,
           2184
          ],
          [
           9024,
           2185
          ],
          [
           9009,
           2186
          ],
          [
           0,
           -100
          ],
          [
           9109,
           2187
          ],
          [
           8861,
           2188
          ],
          [
           8966,
           2189
          ],
          [
           0,
           -100
          ],
          [
           8996,
           2190
          ],
          [
           8972,
           2191
          ],
          [
           9001,
           2192
          ],
          [
           0,
           -100
          ],
          [
           9025,
           2193
          ],
          [
           8929,
           2194
          ],
          [
           9097,
           2195
          ],
          [
           0,
           -100
          ],
          [
           8992,
           2196
          ],
          [
           9198,
           2197
          ],
          [
           9169,
           2198
          ],
          [
           0,
           -100
          ],
          [
           9017,
           2199
          ],
          [
           8976,
           2200
          ],
          [
           8903,
           2201
          ],
          [
           0,
           -100
          ],
          [
           9019,
           2202
          ],
          [
           9122,
           2203
          ],
          [
           9142,
           2204
          ],
          [
           0,
           -100
          ],
          [
           8938,
           2205
          ],
          [
           8973,
           2206
          ],
          [
           9099,
           2207
          ],
          [
           0,
           -100
          ],
          [
           9237,
           2208
          ],
          [
           9028,
           2209
          ],
          [
           9130,
           2210
          ],
          [
           0,
           -100
          ],
          [
           9067,
           2211
          ],
          [
           9019,
           2212
          ],
          [
           9081,
           2213
          ],
          [
           0,
           -100
          ],
          [
           9046,
           2214
          ],
          [
           9043,
           2215
          ],
          [
           9140,
           2216
          ],
          [
           0,
           -100
          ],
          [
           9018,
           2217
          ],
          [
           8970,
           2218
          ],
          [
           9064,
           2219
          ],
          [
           0,
           -100
          ],
          [
           9100,
           2220
          ],
          [
           9084,
           2221
          ],
          [
           9123,
           2222
          ],
          [
           0,
           -100
          ],
          [
           9251,
           2223
          ],
          [
           9122,
           2224
          ],
          [
           8947,
           2225
          ],
          [
           0,
           -100
          ],
          [
           9105,
           2226
          ],
          [
           8892,
           2227
          ],
          [
           9256,
           2228
          ],
          [
           0,
           -100
          ],
          [
           9053,
           2229
          ],
          [
           9097,
           2230
          ],
          [
           9157,
           2231
          ],
          [
           0,
           -100
          ],
          [
           8823,
           2232
          ],
          [
           9249,
           2233
          ],
          [
           8907,
           2234
          ],
          [
           0,
           -100
          ],
          [
           9154,
           2235
          ],
          [
           8895,
           2236
          ],
          [
           8982,
           2237
          ],
          [
           0,
           -100
          ],
          [
           8980,
           2238
          ],
          [
           8860,
           2239
          ],
          [
           8920,
           2240
          ],
          [
           0,
           -100
          ],
          [
           9142,
           2241
          ],
          [
           9184,
           2242
          ],
          [
           9250,
           2243
          ],
          [
           0,
           -100
          ],
          [
           8777,
           2244
          ],
          [
           9039,
           2245
          ],
          [
           8974,
           2246
          ],
          [
           0,
           -100
          ],
          [
           9140,
           2247
          ],
          [
           9124,
           2248
          ],
          [
           9150,
           2249
          ],
          [
           0,
           -100
          ],
          [
           9027,
           2250
          ],
          [
           8928,
           2251
          ],
          [
           8997,
           2252
          ],
          [
           0,
           -100
          ],
          [
           9370,
           2253
          ],
          [
           9116,
           2254
          ],
          [
           9305,
           2255
          ],
          [
           0,
           -100
          ],
          [
           9264,
           2256
          ],
          [
           9187,
           2257
          ],
          [
           9108,
           2258
          ],
          [
           0,
           -100
          ],
          [
           9100,
           2259
          ],
          [
           9266,
           2260
          ],
          [
           8932,
           2261
          ],
          [
           0,
           -100
          ],
          [
           9146,
           2262
          ],
          [
           9212,
           2263
          ],
          [
           9215,
           2264
          ],
          [
           0,
           -100
          ],
          [
           9131,
           2265
          ],
          [
           9012,
           2266
          ],
          [
           9108,
           2267
          ],
          [
           0,
           -100
          ],
          [
           8838,
           2268
          ],
          [
           9213,
           2269
          ],
          [
           9025,
           2270
          ],
          [
           0,
           -100
          ],
          [
           9201,
           2271
          ],
          [
           9069,
           2272
          ],
          [
           9279,
           2273
          ],
          [
           0,
           -100
          ],
          [
           9007,
           2274
          ],
          [
           9082,
           2275
          ],
          [
           8952,
           2276
          ],
          [
           0,
           -100
          ],
          [
           9211,
           2277
          ],
          [
           9027,
           2278
          ],
          [
           9169,
           2279
          ],
          [
           0,
           -100
          ],
          [
           0,
           -100
          ],
          [
           0,
           -100
          ],
          [
           0,
           -100
          ],
          [
           0,
           -100
          ],
          [
           0,
           -100
          ],
          [
           0,
           -100
          ],
          [
           0,
           -100
          ],
          [
           0,
           -100
          ],
          [
           0,
           -100
          ],
          [
           0,
           -100
          ],
          [
           0,
           -100
          ],
          [
           0,
           -100
          ],
          [
           0,
           -100
          ],
          [
           0,
           -100
          ],
          [
           0,
           -100
          ],
          [
           0,
           -100
          ],
          [
           0,
           -100
          ],
          [
           0,
           -100
          ],
          [
           0,
           -100
          ],
          [
           0,
           -100
          ],
          [
           0,
           -100
          ],
          [
           0,
           -100
          ],
          [
           0,
           -100
          ],
          [
           0,
           -100
          ],
          [
           0,
           -100
          ],
          [
           0,
           -100
          ],
          [
           0,
           -100
          ],
          [
           0,
           -100
          ],
          [
           0,
           -100
          ],
          [
           0,
           -100
          ],
          [
           0,
           -100
          ],
          [
           0,
           -100
          ],
          [
           0,
           -100
          ],
          [
           0,
           -100
          ],
          [
           0,
           -100
          ],
          [
           0,
           -100
          ],
          [
           0,
           -100
          ],
          [
           0,
           -100
          ],
          [
           0,
           -100
          ],
          [
           0,
           -100
          ]
         ],
         "hovertemplate": "x: %{x}<br>y: %{y}<br>z: %{z}<br>Order Frequency: %{customdata[0]}<br>Product: %{customdata[1]}}",
         "marker": {
          "color": [
           0,
           0,
           0,
           0,
           0,
           0,
           0,
           0,
           0,
           0,
           0,
           0,
           0,
           0,
           0,
           0,
           0,
           0,
           0,
           0,
           0,
           0,
           0,
           0,
           0,
           0,
           0,
           0,
           0,
           0,
           0,
           0,
           0,
           0,
           0,
           0,
           0,
           0,
           0,
           0,
           9100,
           9236,
           9311,
           0,
           9237,
           9009,
           8785,
           0,
           9101,
           9017,
           8858,
           0,
           9041,
           9089,
           9286,
           0,
           8865,
           9178,
           9272,
           0,
           9180,
           9230,
           8918,
           0,
           9261,
           9231,
           9305,
           0,
           8991,
           9082,
           9126,
           0,
           9098,
           9042,
           9001,
           0,
           9179,
           9031,
           9329,
           0,
           9060,
           8991,
           9283,
           0,
           9043,
           9209,
           9093,
           0,
           9093,
           9225,
           9217,
           0,
           9356,
           9334,
           9079,
           0,
           9092,
           9281,
           8938,
           0,
           9156,
           9166,
           9282,
           0,
           9246,
           9275,
           9176,
           0,
           9206,
           9122,
           8947,
           0,
           9209,
           9213,
           9226,
           0,
           9006,
           9253,
           8995,
           0,
           9178,
           8959,
           9043,
           0,
           9113,
           9188,
           9167,
           0,
           9204,
           9091,
           9040,
           0,
           9193,
           9060,
           9025,
           0,
           9179,
           9221,
           9117,
           0,
           9015,
           8833,
           9109,
           0,
           9244,
           8952,
           8989,
           0,
           9014,
           8981,
           8851,
           0,
           9098,
           8980,
           9031,
           0,
           9286,
           9145,
           9112,
           0,
           9180,
           9198,
           8928,
           0,
           9224,
           9249,
           9056,
           0,
           8735,
           9253,
           9247,
           0,
           8908,
           9025,
           8815,
           0,
           9131,
           9135,
           8934,
           0,
           9137,
           9315,
           9161,
           0,
           9081,
           9270,
           9032,
           0,
           9311,
           9032,
           9045,
           0,
           8969,
           9083,
           9059,
           0,
           9040,
           8904,
           9240,
           0,
           9187,
           9072,
           9135,
           0,
           9322,
           8926,
           9114,
           0,
           9278,
           9086,
           9175,
           0,
           9337,
           8956,
           9158,
           0,
           9245,
           8898,
           9239,
           0,
           9258,
           9115,
           9120,
           0,
           8974,
           9047,
           8937,
           0,
           9101,
           9298,
           9131,
           0,
           9016,
           9256,
           9155,
           0,
           9046,
           9111,
           9091,
           0,
           9088,
           8752,
           8754,
           0,
           9098,
           9067,
           9122,
           0,
           9273,
           9129,
           9067,
           0,
           8848,
           9171,
           9148,
           0,
           9113,
           9315,
           9255,
           0,
           9267,
           9252,
           9115,
           0,
           9062,
           8989,
           9082,
           0,
           8974,
           9386,
           9079,
           0,
           9048,
           9023,
           8958,
           0,
           9329,
           9154,
           9218,
           0,
           9193,
           9189,
           8883,
           0,
           9107,
           8832,
           9140,
           0,
           9243,
           9173,
           9064,
           0,
           9280,
           8953,
           9176,
           0,
           9249,
           9129,
           9151,
           0,
           8821,
           9109,
           9271,
           0,
           9095,
           9133,
           9198,
           0,
           9202,
           8864,
           9402,
           0,
           9029,
           8934,
           9206,
           0,
           9176,
           9101,
           9189,
           0,
           9084,
           9095,
           9143,
           0,
           9080,
           9212,
           9224,
           0,
           9069,
           9245,
           9216,
           0,
           9118,
           8963,
           8770,
           0,
           9450,
           9054,
           8913,
           0,
           8954,
           9205,
           8985,
           0,
           9144,
           9095,
           8911,
           0,
           9218,
           9177,
           9085,
           0,
           9046,
           9183,
           9125,
           0,
           9099,
           8813,
           9464,
           0,
           8933,
           9127,
           8968,
           0,
           9083,
           8961,
           9116,
           0,
           9051,
           9146,
           9327,
           0,
           9114,
           9177,
           9172,
           0,
           9222,
           9171,
           9001,
           0,
           9165,
           9165,
           9250,
           0,
           8987,
           8912,
           9114,
           0,
           9135,
           9060,
           9209,
           0,
           9076,
           8945,
           9184,
           0,
           8980,
           8974,
           9125,
           0,
           9110,
           8970,
           9102,
           0,
           9202,
           8980,
           9022,
           0,
           9093,
           9172,
           9319,
           0,
           9167,
           8996,
           9149,
           0,
           9030,
           9153,
           9133,
           0,
           8966,
           8913,
           9001,
           0,
           9218,
           9098,
           9136,
           0,
           9115,
           9203,
           9063,
           0,
           9085,
           9169,
           9272,
           0,
           9146,
           9088,
           9026,
           0,
           9112,
           9113,
           9315,
           0,
           8931,
           9091,
           9323,
           0,
           8974,
           9242,
           9261,
           0,
           9224,
           8983,
           9134,
           0,
           9004,
           9102,
           9145,
           0,
           9176,
           9233,
           9307,
           0,
           8960,
           8884,
           8956,
           0,
           8867,
           8966,
           9128,
           0,
           9151,
           8844,
           8897,
           0,
           9085,
           8920,
           9387,
           0,
           9296,
           9078,
           9108,
           0,
           9212,
           9294,
           9102,
           0,
           9243,
           9188,
           9146,
           0,
           9160,
           8937,
           9231,
           0,
           9089,
           8936,
           9129,
           0,
           9193,
           9241,
           9286,
           0,
           9052,
           9045,
           9016,
           0,
           8986,
           8948,
           8848,
           0,
           8975,
           9013,
           8977,
           0,
           9108,
           9095,
           9009,
           0,
           9291,
           9136,
           8956,
           0,
           8997,
           8982,
           9197,
           0,
           9005,
           9177,
           9065,
           0,
           8956,
           9173,
           9146,
           0,
           9043,
           8990,
           9228,
           0,
           9075,
           9033,
           9215,
           0,
           9179,
           9222,
           8996,
           0,
           9178,
           9176,
           9305,
           0,
           9399,
           9061,
           9338,
           0,
           9131,
           9269,
           9073,
           0,
           9226,
           9085,
           9109,
           0,
           9197,
           9021,
           9040,
           0,
           9066,
           9108,
           8939,
           0,
           9232,
           9152,
           9100,
           0,
           9127,
           9220,
           9050,
           0,
           9069,
           8922,
           9226,
           0,
           9251,
           9199,
           8982,
           0,
           8970,
           9171,
           9089,
           0,
           9049,
           9172,
           9094,
           0,
           9268,
           9193,
           9102,
           0,
           9044,
           9182,
           8969,
           0,
           9222,
           8945,
           9047,
           0,
           9089,
           9174,
           9154,
           0,
           9118,
           9103,
           9104,
           0,
           9274,
           9333,
           9062,
           0,
           9229,
           9254,
           9083,
           0,
           9408,
           8932,
           9251,
           0,
           9165,
           9198,
           9343,
           0,
           8995,
           9235,
           9133,
           0,
           9118,
           9087,
           9194,
           0,
           8982,
           9146,
           9122,
           0,
           9214,
           9095,
           8933,
           0,
           9121,
           9002,
           9100,
           0,
           9218,
           9020,
           9150,
           0,
           9156,
           9269,
           9238,
           0,
           8954,
           9041,
           9057,
           0,
           9114,
           8972,
           9090,
           0,
           9386,
           9289,
           9127,
           0,
           9116,
           9240,
           9349,
           0,
           9242,
           9032,
           9307,
           0,
           8909,
           8989,
           9060,
           0,
           9040,
           9060,
           9354,
           0,
           9117,
           9066,
           9106,
           0,
           9152,
           9129,
           9150,
           0,
           9391,
           9040,
           9244,
           0,
           9329,
           8973,
           9075,
           0,
           9120,
           9158,
           9151,
           0,
           9150,
           9166,
           9138,
           0,
           8987,
           9157,
           9437,
           0,
           9047,
           9283,
           9159,
           0,
           9148,
           9121,
           9030,
           0,
           9064,
           9069,
           8970,
           0,
           9278,
           9112,
           9209,
           0,
           9070,
           9023,
           9119,
           0,
           9008,
           9236,
           9150,
           0,
           9346,
           9238,
           8972,
           0,
           9160,
           9115,
           9227,
           0,
           9013,
           9072,
           9221,
           0,
           9035,
           8925,
           9159,
           0,
           9239,
           8904,
           9257,
           0,
           9071,
           9114,
           9078,
           0,
           9172,
           9156,
           9073,
           0,
           9031,
           8979,
           9286,
           0,
           9046,
           9050,
           9181,
           0,
           9139,
           9084,
           9274,
           0,
           9159,
           8971,
           8941,
           0,
           9089,
           8933,
           9142,
           0,
           9284,
           9040,
           9072,
           0,
           9032,
           9211,
           8893,
           0,
           9139,
           8996,
           8976,
           0,
           9131,
           9016,
           9101,
           0,
           8986,
           9292,
           8968,
           0,
           9259,
           9058,
           9159,
           0,
           8946,
           9219,
           9085,
           0,
           9022,
           9067,
           9162,
           0,
           9098,
           8895,
           9121,
           0,
           8958,
           9136,
           9220,
           0,
           8881,
           8967,
           9033,
           0,
           8983,
           9232,
           9116,
           0,
           9181,
           9038,
           9296,
           0,
           9159,
           9145,
           9248,
           0,
           9067,
           9157,
           9243,
           0,
           9016,
           9181,
           9086,
           0,
           9191,
           9015,
           9218,
           0,
           9042,
           8956,
           9249,
           0,
           9002,
           9302,
           9137,
           0,
           9333,
           9158,
           9219,
           0,
           9103,
           9082,
           9098,
           0,
           9214,
           9053,
           9237,
           0,
           9268,
           9046,
           9368,
           0,
           9241,
           9115,
           8980,
           0,
           9028,
           9079,
           9071,
           0,
           8885,
           9241,
           9052,
           0,
           9226,
           9303,
           9155,
           0,
           9042,
           9216,
           8813,
           0,
           9152,
           9170,
           9087,
           0,
           9047,
           9158,
           8998,
           0,
           9173,
           9184,
           9156,
           0,
           8972,
           9137,
           9088,
           0,
           9111,
           9114,
           9149,
           0,
           8962,
           9201,
           9073,
           0,
           9129,
           8990,
           9305,
           0,
           9221,
           8959,
           9002,
           0,
           9215,
           9017,
           9118,
           0,
           9183,
           9270,
           9180,
           0,
           9219,
           9210,
           9165,
           0,
           9052,
           9014,
           9229,
           0,
           9164,
           9233,
           9199,
           0,
           8848,
           9325,
           9233,
           0,
           9347,
           9163,
           9117,
           0,
           9067,
           9087,
           8952,
           0,
           9281,
           9202,
           9003,
           0,
           9046,
           9099,
           9053,
           0,
           9203,
           8972,
           9167,
           0,
           9084,
           9032,
           8993,
           0,
           8995,
           9187,
           8993,
           0,
           9185,
           9180,
           9338,
           0,
           9202,
           9226,
           9088,
           0,
           8914,
           9201,
           9194,
           0,
           9115,
           9101,
           9141,
           0,
           9179,
           9321,
           9130,
           0,
           9071,
           9166,
           9137,
           0,
           9258,
           9071,
           8955,
           0,
           8869,
           9030,
           8979,
           0,
           8966,
           9151,
           9170,
           0,
           9269,
           9097,
           8981,
           0,
           9183,
           9042,
           8979,
           0,
           8937,
           9252,
           9188,
           0,
           8960,
           9216,
           9083,
           0,
           8945,
           9031,
           9139,
           0,
           9156,
           9231,
           9090,
           0,
           9198,
           9129,
           9068,
           0,
           8882,
           8868,
           9234,
           0,
           8840,
           8971,
           8835,
           0,
           9254,
           9267,
           9068,
           0,
           9005,
           9026,
           9183,
           0,
           9134,
           9115,
           8916,
           0,
           8934,
           9097,
           9078,
           0,
           9027,
           9111,
           9413,
           0,
           9264,
           8966,
           9113,
           0,
           9023,
           9144,
           9310,
           0,
           9095,
           9399,
           9067,
           0,
           9052,
           8917,
           9077,
           0,
           9060,
           9290,
           9220,
           0,
           9005,
           9122,
           9106,
           0,
           9203,
           9072,
           9047,
           0,
           9195,
           9010,
           9036,
           0,
           9011,
           8997,
           8952,
           0,
           9297,
           9139,
           9042,
           0,
           9169,
           9048,
           9244,
           0,
           9156,
           9142,
           8986,
           0,
           9098,
           9123,
           9005,
           0,
           9240,
           8935,
           8932,
           0,
           9230,
           8945,
           9019,
           0,
           9053,
           9025,
           8941,
           0,
           8985,
           9328,
           8989,
           0,
           9150,
           9157,
           8988,
           0,
           9198,
           9157,
           9073,
           0,
           9114,
           9112,
           9106,
           0,
           9116,
           9238,
           9221,
           0,
           9071,
           9220,
           8905,
           0,
           9165,
           8942,
           9051,
           0,
           9299,
           9418,
           9159,
           0,
           9136,
           9198,
           8981,
           0,
           9184,
           9192,
           8822,
           0,
           9223,
           9358,
           8970,
           0,
           9181,
           9121,
           9116,
           0,
           8959,
           9166,
           9191,
           0,
           9105,
           8985,
           9105,
           0,
           9187,
           8989,
           9145,
           0,
           9009,
           9149,
           9125,
           0,
           9135,
           8910,
           9178,
           0,
           8937,
           9056,
           9183,
           0,
           9221,
           9099,
           9244,
           0,
           9329,
           8946,
           8901,
           0,
           9174,
           9026,
           9078,
           0,
           9146,
           9193,
           9154,
           0,
           9198,
           9181,
           9103,
           0,
           8822,
           9301,
           9308,
           0,
           8990,
           9084,
           8968,
           0,
           9190,
           9128,
           8800,
           0,
           9299,
           9251,
           9073,
           0,
           9032,
           9007,
           9064,
           0,
           8961,
           9146,
           9094,
           0,
           9176,
           9024,
           9049,
           0,
           9117,
           9238,
           8823,
           0,
           9105,
           9103,
           9183,
           0,
           9060,
           9108,
           9224,
           0,
           9076,
           9250,
           9149,
           0,
           9024,
           9240,
           9161,
           0,
           9138,
           8977,
           9120,
           0,
           8931,
           9157,
           9322,
           0,
           9075,
           8876,
           9052,
           0,
           9190,
           9041,
           9167,
           0,
           9316,
           9028,
           9154,
           0,
           9394,
           9114,
           9234,
           0,
           9285,
           9122,
           9161,
           0,
           8998,
           9179,
           8969,
           0,
           9098,
           8896,
           9161,
           0,
           8930,
           9097,
           9170,
           0,
           9168,
           9183,
           9286,
           0,
           9158,
           9223,
           9065,
           0,
           9205,
           9243,
           9176,
           0,
           9164,
           9025,
           9234,
           0,
           8957,
           8800,
           9028,
           0,
           9365,
           8975,
           8737,
           0,
           9116,
           9156,
           9179,
           0,
           8938,
           9091,
           9149,
           0,
           8956,
           9099,
           9186,
           0,
           9035,
           8943,
           9319,
           0,
           9002,
           9270,
           9225,
           0,
           9145,
           9014,
           9111,
           0,
           9200,
           9180,
           9005,
           0,
           9215,
           8893,
           9111,
           0,
           9021,
           9154,
           9092,
           0,
           9083,
           9058,
           9014,
           0,
           8893,
           8944,
           9429,
           0,
           9065,
           9171,
           9147,
           0,
           9105,
           8997,
           8965,
           0,
           9155,
           9322,
           9167,
           0,
           9111,
           9152,
           9124,
           0,
           9184,
           9223,
           9102,
           0,
           9048,
           9268,
           9028,
           0,
           9201,
           9260,
           9132,
           0,
           8945,
           9159,
           8832,
           0,
           8918,
           9032,
           9093,
           0,
           8972,
           9151,
           9179,
           0,
           9084,
           9083,
           9130,
           0,
           9038,
           9363,
           8891,
           0,
           8827,
           9098,
           9141,
           0,
           9246,
           8922,
           9224,
           0,
           8867,
           8917,
           9173,
           0,
           9047,
           9289,
           9111,
           0,
           9140,
           9118,
           8987,
           0,
           9224,
           9195,
           9052,
           0,
           9037,
           9086,
           9104,
           0,
           9320,
           9146,
           9116,
           0,
           8892,
           9268,
           8908,
           0,
           8974,
           8914,
           9137,
           0,
           8939,
           9160,
           8982,
           0,
           9152,
           9160,
           9132,
           0,
           9091,
           8943,
           9176,
           0,
           9090,
           9136,
           8942,
           0,
           9168,
           8979,
           9218,
           0,
           9294,
           9052,
           9056,
           0,
           9247,
           9173,
           9086,
           0,
           9179,
           9264,
           9250,
           0,
           9064,
           9096,
           8965,
           0,
           9081,
           9177,
           9255,
           0,
           8779,
           9070,
           9334,
           0,
           9177,
           9165,
           9254,
           0,
           9223,
           8968,
           9313,
           0,
           9230,
           8962,
           9169,
           0,
           9053,
           9260,
           9170,
           0,
           9045,
           8986,
           9263,
           0,
           9011,
           9103,
           9069,
           0,
           9338,
           9402,
           9177,
           0,
           9236,
           9300,
           9097,
           0,
           9138,
           9100,
           9270,
           0,
           9157,
           9100,
           9150,
           0,
           8876,
           9060,
           9291,
           0,
           8879,
           9113,
           8987,
           0,
           9360,
           9090,
           9071,
           0,
           8839,
           9070,
           9337,
           0,
           8844,
           8950,
           9211,
           0,
           9132,
           9170,
           9470,
           0,
           9127,
           9104,
           9033,
           0,
           8882,
           9115,
           9027,
           0,
           9128,
           8974,
           9031,
           0,
           9236,
           9122,
           9113,
           0,
           9022,
           9056,
           9095,
           0,
           9241,
           9248,
           9136,
           0,
           9167,
           9157,
           8966,
           0,
           9157,
           8929,
           9116,
           0,
           9144,
           9245,
           9122,
           0,
           8922,
           9017,
           9215,
           0,
           9069,
           9002,
           8990,
           0,
           9205,
           9109,
           9100,
           0,
           8849,
           9268,
           9066,
           0,
           9257,
           8978,
           9029,
           0,
           9195,
           9042,
           9221,
           0,
           8791,
           9219,
           9153,
           0,
           8923,
           9207,
           9122,
           0,
           9062,
           9025,
           9030,
           0,
           9134,
           9141,
           9151,
           0,
           9148,
           8982,
           9076,
           0,
           9307,
           8964,
           9068,
           0,
           9121,
           9368,
           9094,
           0,
           9195,
           9117,
           9134,
           0,
           9111,
           8963,
           9342,
           0,
           8916,
           9032,
           9239,
           0,
           9172,
           9043,
           9219,
           0,
           9060,
           8992,
           9255,
           0,
           9098,
           8982,
           9241,
           0,
           9391,
           9242,
           8979,
           0,
           8997,
           9100,
           9010,
           0,
           9154,
           9118,
           8853,
           0,
           9248,
           8915,
           9143,
           0,
           9137,
           9227,
           9100,
           0,
           8993,
           8980,
           9043,
           0,
           9114,
           9049,
           9290,
           0,
           9112,
           9095,
           8983,
           0,
           9046,
           9085,
           9217,
           0,
           9125,
           9202,
           9070,
           0,
           9164,
           9181,
           9198,
           0,
           9107,
           9207,
           8986,
           0,
           9108,
           9093,
           9044,
           0,
           9092,
           9332,
           9124,
           0,
           9227,
           9109,
           8879,
           0,
           9028,
           9270,
           9235,
           0,
           9147,
           8981,
           9108,
           0,
           9065,
           9258,
           8990,
           0,
           8977,
           9256,
           9078,
           0,
           9223,
           9272,
           9326,
           0,
           9140,
           8976,
           8947,
           0,
           9101,
           8888,
           9005,
           0,
           9055,
           9087,
           9293,
           0,
           9152,
           8871,
           9009,
           0,
           9289,
           9113,
           9125,
           0,
           9116,
           9302,
           9265,
           0,
           9000,
           9377,
           9094,
           0,
           9280,
           9094,
           9192,
           0,
           9077,
           9169,
           9144,
           0,
           9288,
           9034,
           9186,
           0,
           9376,
           8947,
           9112,
           0,
           9150,
           9203,
           9054,
           0,
           9161,
           9277,
           9065,
           0,
           9081,
           9362,
           9353,
           0,
           9182,
           9147,
           8990,
           0,
           9232,
           8940,
           9078,
           0,
           9058,
           9329,
           9263,
           0,
           9096,
           9093,
           9294,
           0,
           9064,
           9064,
           9072,
           0,
           8894,
           9249,
           9122,
           0,
           9047,
           9188,
           8891,
           0,
           9237,
           9129,
           9154,
           0,
           8975,
           9172,
           8980,
           0,
           9178,
           8985,
           8974,
           0,
           9218,
           8975,
           9235,
           0,
           9117,
           9115,
           9018,
           0,
           9135,
           9198,
           9096,
           0,
           8985,
           9042,
           9302,
           0,
           8981,
           9041,
           9231,
           0,
           9175,
           8988,
           9198,
           0,
           9003,
           9176,
           9073,
           0,
           9034,
           9141,
           8983,
           0,
           9084,
           9105,
           9286,
           0,
           9152,
           9270,
           8896,
           0,
           9064,
           8852,
           9036,
           0,
           9319,
           9281,
           9042,
           0,
           9206,
           8936,
           9059,
           0,
           9221,
           9027,
           9073,
           0,
           9211,
           9227,
           9195,
           0,
           9157,
           8981,
           9172,
           0,
           8879,
           9240,
           9032,
           0,
           9241,
           8957,
           8877,
           0,
           9198,
           9441,
           9315,
           0,
           9180,
           9113,
           9097,
           0,
           8996,
           9112,
           9043,
           0,
           9167,
           8950,
           9126,
           0,
           9279,
           8968,
           8917,
           0,
           9131,
           9307,
           9248,
           0,
           9239,
           9161,
           9178,
           0,
           9088,
           9047,
           9242,
           0,
           9190,
           9087,
           9173,
           0,
           8953,
           9051,
           9116,
           0,
           9120,
           8958,
           9332,
           0,
           8979,
           9122,
           8980,
           0,
           9024,
           9132,
           9013,
           0,
           9267,
           9022,
           9070,
           0,
           9160,
           9074,
           9049,
           0,
           9305,
           9247,
           9042,
           0,
           9066,
           8993,
           9026,
           0,
           9304,
           9044,
           9345,
           0,
           9095,
           9090,
           9069,
           0,
           9411,
           8957,
           9109,
           0,
           9183,
           9285,
           9036,
           0,
           9221,
           9172,
           8995,
           0,
           8901,
           9125,
           9145,
           0,
           9187,
           8898,
           8914,
           0,
           9378,
           9140,
           9059,
           0,
           9239,
           9236,
           9041,
           0,
           9193,
           9049,
           8977,
           0,
           9161,
           9074,
           9220,
           0,
           8957,
           8935,
           9006,
           0,
           9009,
           9198,
           9331,
           0,
           8948,
           8985,
           9226,
           0,
           8735,
           9168,
           9026,
           0,
           9216,
           9010,
           9197,
           0,
           9155,
           9135,
           9145,
           0,
           9145,
           9200,
           8991,
           0,
           9376,
           8900,
           9092,
           0,
           9052,
           9078,
           9103,
           0,
           9263,
           9318,
           9001,
           0,
           9095,
           9209,
           9113,
           0,
           9330,
           9051,
           9343,
           0,
           9135,
           9138,
           9105,
           0,
           8996,
           9086,
           9247,
           0,
           9127,
           8978,
           9200,
           0,
           9181,
           9096,
           9127,
           0,
           8963,
           9022,
           9229,
           0,
           9229,
           8973,
           9102,
           0,
           9267,
           8808,
           9183,
           0,
           9074,
           9028,
           9205,
           0,
           9173,
           9067,
           8975,
           0,
           8989,
           9256,
           9093,
           0,
           9191,
           9173,
           9254,
           0,
           9096,
           9139,
           8937,
           0,
           8977,
           9075,
           9086,
           0,
           9194,
           9367,
           9069,
           0,
           9268,
           9109,
           9075,
           0,
           9255,
           9254,
           9237,
           0,
           9065,
           9176,
           8813,
           0,
           9063,
           9011,
           8979,
           0,
           8985,
           9296,
           9248,
           0,
           9073,
           9140,
           9201,
           0,
           9145,
           9214,
           8925,
           0,
           9093,
           9074,
           9017,
           0,
           9052,
           9109,
           9052,
           0,
           9290,
           9001,
           9195,
           0,
           9243,
           9228,
           9246,
           0,
           9280,
           9182,
           9050,
           0,
           9341,
           9117,
           8843,
           0,
           9034,
           8995,
           9164,
           0,
           9092,
           9070,
           9154,
           0,
           9063,
           9098,
           9144,
           0,
           8959,
           9157,
           9071,
           0,
           9325,
           9075,
           9103,
           0,
           9058,
           8933,
           9198,
           0,
           9126,
           9124,
           9029,
           0,
           8962,
           9088,
           9005,
           0,
           9091,
           8858,
           9278,
           0,
           9230,
           9042,
           9212,
           0,
           9157,
           9115,
           9021,
           0,
           9080,
           9229,
           9241,
           0,
           9101,
           9328,
           9138,
           0,
           9209,
           9081,
           9054,
           0,
           9292,
           9187,
           9236,
           0,
           9194,
           9301,
           9106,
           0,
           9167,
           9125,
           8997,
           0,
           9067,
           9063,
           8921,
           0,
           9064,
           9097,
           9332,
           0,
           9311,
           9145,
           9223,
           0,
           9225,
           9043,
           9198,
           0,
           9159,
           9171,
           9009,
           0,
           9177,
           9383,
           9030,
           0,
           9239,
           9211,
           9020,
           0,
           9153,
           8871,
           9227,
           0,
           9020,
           9408,
           9329,
           0,
           9171,
           9178,
           8840,
           0,
           8916,
           8964,
           9077,
           0,
           9018,
           9240,
           9136,
           0,
           9208,
           9186,
           8858,
           0,
           9171,
           8963,
           9159,
           0,
           9248,
           8971,
           9151,
           0,
           9101,
           9437,
           9099,
           0,
           9244,
           9071,
           8949,
           0,
           9130,
           9029,
           9078,
           0,
           9095,
           9048,
           9226,
           0,
           9164,
           9185,
           8923,
           0,
           9103,
           9109,
           8950,
           0,
           9241,
           9021,
           9140,
           0,
           8922,
           9187,
           9143,
           0,
           9017,
           9249,
           9218,
           0,
           9196,
           9100,
           9238,
           0,
           9094,
           9306,
           9279,
           0,
           8905,
           8968,
           9172,
           0,
           9259,
           9087,
           8965,
           0,
           9194,
           9260,
           9165,
           0,
           9139,
           8931,
           9045,
           0,
           9226,
           9232,
           9366,
           0,
           8942,
           8840,
           9146,
           0,
           8885,
           9171,
           9110,
           0,
           9080,
           9073,
           8949,
           0,
           9171,
           8934,
           9070,
           0,
           9199,
           8831,
           9344,
           0,
           9301,
           9306,
           9280,
           0,
           9013,
           9193,
           8909,
           0,
           9180,
           9062,
           8911,
           0,
           8886,
           9137,
           9285,
           0,
           9288,
           9242,
           8888,
           0,
           9140,
           8767,
           9144,
           0,
           9255,
           9109,
           8961,
           0,
           9074,
           8951,
           9127,
           0,
           9149,
           8943,
           9021,
           0,
           9055,
           9216,
           9041,
           0,
           9111,
           9195,
           9210,
           0,
           8946,
           8998,
           9220,
           0,
           9281,
           8978,
           9055,
           0,
           9142,
           9157,
           9141,
           0,
           9010,
           9068,
           8890,
           0,
           9027,
           9258,
           9155,
           0,
           9163,
           9188,
           9031,
           0,
           9191,
           9149,
           8947,
           0,
           9241,
           9043,
           9190,
           0,
           8963,
           9084,
           9023,
           0,
           9113,
           9218,
           9123,
           0,
           9176,
           9157,
           9043,
           0,
           9021,
           9216,
           9131,
           0,
           9157,
           9111,
           9238,
           0,
           9327,
           9136,
           9074,
           0,
           9065,
           8891,
           9007,
           0,
           8894,
           9164,
           8960,
           0,
           9134,
           9179,
           9126,
           0,
           9089,
           8890,
           9139,
           0,
           8913,
           9250,
           8885,
           0,
           9091,
           8911,
           9126,
           0,
           9261,
           9268,
           8975,
           0,
           9334,
           9078,
           8959,
           0,
           9067,
           9262,
           9068,
           0,
           9015,
           9275,
           9235,
           0,
           8992,
           9294,
           9253,
           0,
           9123,
           9040,
           9090,
           0,
           9157,
           9198,
           9141,
           0,
           9088,
           9313,
           9113,
           0,
           9131,
           8964,
           8947,
           0,
           9182,
           8910,
           9204,
           0,
           9028,
           9007,
           9245,
           0,
           8961,
           8883,
           9108,
           0,
           9186,
           8895,
           9336,
           0,
           9174,
           9173,
           9208,
           0,
           9143,
           9288,
           8909,
           0,
           9050,
           9141,
           9201,
           0,
           9265,
           9163,
           9015,
           0,
           9338,
           9175,
           8999,
           0,
           8976,
           9129,
           9231,
           0,
           9217,
           9221,
           9010,
           0,
           9230,
           8984,
           9284,
           0,
           8806,
           9180,
           9159,
           0,
           9165,
           8916,
           9099,
           0,
           9073,
           9048,
           8989,
           0,
           8945,
           9103,
           9187,
           0,
           9016,
           9109,
           9104,
           0,
           8965,
           9301,
           9166,
           0,
           9123,
           8846,
           9025,
           0,
           9032,
           9016,
           9361,
           0,
           9121,
           9132,
           9164,
           0,
           9269,
           9052,
           9381,
           0,
           9416,
           9183,
           8979,
           0,
           9021,
           9132,
           9131,
           0,
           9016,
           8954,
           9270,
           0,
           9123,
           9216,
           9174,
           0,
           8999,
           9081,
           9150,
           0,
           9162,
           9221,
           9166,
           0,
           9234,
           9037,
           9118,
           0,
           9106,
           9101,
           9029,
           0,
           9207,
           9019,
           9215,
           0,
           9191,
           9263,
           9170,
           0,
           9186,
           9249,
           9057,
           0,
           9039,
           9086,
           9179,
           0,
           9081,
           9035,
           9047,
           0,
           8882,
           8838,
           9418,
           0,
           9059,
           9431,
           9133,
           0,
           8811,
           9128,
           9204,
           0,
           9175,
           9165,
           9089,
           0,
           9237,
           9070,
           8948,
           0,
           8885,
           8959,
           8961,
           0,
           9263,
           8927,
           9118,
           0,
           9097,
           9202,
           9175,
           0,
           8968,
           9415,
           9147,
           0,
           9005,
           9313,
           9279,
           0,
           9368,
           9195,
           9107,
           0,
           8904,
           9206,
           8988,
           0,
           9085,
           9101,
           9278,
           0,
           9405,
           9336,
           9262,
           0,
           9179,
           9043,
           9121,
           0,
           9267,
           9101,
           9147,
           0,
           9185,
           9162,
           9121,
           0,
           9154,
           9202,
           9296,
           0,
           9116,
           9170,
           9096,
           0,
           9264,
           9019,
           9099,
           0,
           8970,
           9119,
           9322,
           0,
           9102,
           8897,
           9043,
           0,
           9295,
           9116,
           9020,
           0,
           9227,
           9196,
           9141,
           0,
           8950,
           9396,
           9047,
           0,
           9041,
           9129,
           9315,
           0,
           9014,
           9144,
           9255,
           0,
           9048,
           9086,
           9201,
           0,
           9348,
           9005,
           9080,
           0,
           9064,
           8952,
           9129,
           0,
           9049,
           8930,
           9177,
           0,
           9116,
           9358,
           9212,
           0,
           9061,
           8891,
           8974,
           0,
           9373,
           9239,
           9130,
           0,
           8994,
           9409,
           9410,
           0,
           9199,
           9102,
           8926,
           0,
           9160,
           9083,
           9061,
           0,
           8961,
           9026,
           9285,
           0,
           9063,
           9136,
           9068,
           0,
           9280,
           9164,
           8813,
           0,
           8909,
           9106,
           9209,
           0,
           9190,
           9364,
           8992,
           0,
           9010,
           9220,
           8934,
           0,
           9141,
           8960,
           9162,
           0,
           9286,
           9049,
           9105,
           0,
           9187,
           8865,
           9065,
           0,
           8910,
           9030,
           9074,
           0,
           9141,
           9212,
           9158,
           0,
           9300,
           9030,
           9120,
           0,
           9339,
           9037,
           9190,
           0,
           9248,
           8977,
           9087,
           0,
           8842,
           8814,
           9066,
           0,
           9046,
           9111,
           8973,
           0,
           9082,
           9012,
           9140,
           0,
           9130,
           9034,
           9321,
           0,
           9213,
           9240,
           9090,
           0,
           9148,
           9258,
           9117,
           0,
           9215,
           9024,
           9009,
           0,
           9109,
           8861,
           8966,
           0,
           8996,
           8972,
           9001,
           0,
           9025,
           8929,
           9097,
           0,
           8992,
           9198,
           9169,
           0,
           9017,
           8976,
           8903,
           0,
           9019,
           9122,
           9142,
           0,
           8938,
           8973,
           9099,
           0,
           9237,
           9028,
           9130,
           0,
           9067,
           9019,
           9081,
           0,
           9046,
           9043,
           9140,
           0,
           9018,
           8970,
           9064,
           0,
           9100,
           9084,
           9123,
           0,
           9251,
           9122,
           8947,
           0,
           9105,
           8892,
           9256,
           0,
           9053,
           9097,
           9157,
           0,
           8823,
           9249,
           8907,
           0,
           9154,
           8895,
           8982,
           0,
           8980,
           8860,
           8920,
           0,
           9142,
           9184,
           9250,
           0,
           8777,
           9039,
           8974,
           0,
           9140,
           9124,
           9150,
           0,
           9027,
           8928,
           8997,
           0,
           9370,
           9116,
           9305,
           0,
           9264,
           9187,
           9108,
           0,
           9100,
           9266,
           8932,
           0,
           9146,
           9212,
           9215,
           0,
           9131,
           9012,
           9108,
           0,
           8838,
           9213,
           9025,
           0,
           9201,
           9069,
           9279,
           0,
           9007,
           9082,
           8952,
           0,
           9211,
           9027,
           9169,
           0,
           0,
           0,
           0,
           0,
           0,
           0,
           0,
           0,
           0,
           0,
           0,
           0,
           0,
           0,
           0,
           0,
           0,
           0,
           0,
           0,
           0,
           0,
           0,
           0,
           0,
           0,
           0,
           0,
           0,
           0,
           0,
           0,
           0,
           0,
           0,
           0,
           0,
           0,
           0,
           0
          ],
          "colorscale": [
           [
            0,
            "rgb(3, 35, 51)"
           ],
           [
            0.09090909090909091,
            "rgb(13, 48, 100)"
           ],
           [
            0.18181818181818182,
            "rgb(53, 50, 155)"
           ],
           [
            0.2727272727272727,
            "rgb(93, 62, 153)"
           ],
           [
            0.36363636363636365,
            "rgb(126, 77, 143)"
           ],
           [
            0.45454545454545453,
            "rgb(158, 89, 135)"
           ],
           [
            0.5454545454545454,
            "rgb(193, 100, 121)"
           ],
           [
            0.6363636363636364,
            "rgb(225, 113, 97)"
           ],
           [
            0.7272727272727273,
            "rgb(246, 139, 69)"
           ],
           [
            0.8181818181818182,
            "rgb(251, 173, 60)"
           ],
           [
            0.9090909090909091,
            "rgb(246, 211, 70)"
           ],
           [
            1,
            "rgb(231, 250, 90)"
           ]
          ],
          "size": 5,
          "symbol": "square"
         },
         "mode": "markers",
         "type": "scatter3d",
         "x": [
          0,
          0,
          0,
          0,
          0,
          0,
          0,
          0,
          0,
          0,
          0,
          0,
          0,
          0,
          0,
          0,
          0,
          0,
          0,
          0,
          0,
          0,
          0,
          0,
          0,
          0,
          0,
          0,
          0,
          0,
          0,
          0,
          0,
          0,
          0,
          0,
          0,
          0,
          0,
          0,
          1,
          1,
          1,
          1,
          1,
          1,
          1,
          1,
          1,
          1,
          1,
          1,
          1,
          1,
          1,
          1,
          1,
          1,
          1,
          1,
          1,
          1,
          1,
          1,
          1,
          1,
          1,
          1,
          1,
          1,
          1,
          1,
          1,
          1,
          1,
          1,
          1,
          1,
          1,
          1,
          1,
          1,
          1,
          1,
          1,
          1,
          1,
          1,
          1,
          1,
          1,
          1,
          1,
          1,
          1,
          1,
          1,
          1,
          1,
          1,
          1,
          1,
          1,
          1,
          1,
          1,
          1,
          1,
          1,
          1,
          1,
          1,
          1,
          1,
          1,
          1,
          1,
          1,
          1,
          1,
          2,
          2,
          2,
          2,
          2,
          2,
          2,
          2,
          2,
          2,
          2,
          2,
          2,
          2,
          2,
          2,
          2,
          2,
          2,
          2,
          2,
          2,
          2,
          2,
          2,
          2,
          2,
          2,
          2,
          2,
          2,
          2,
          2,
          2,
          2,
          2,
          2,
          2,
          2,
          2,
          2,
          2,
          2,
          2,
          2,
          2,
          2,
          2,
          2,
          2,
          2,
          2,
          2,
          2,
          2,
          2,
          2,
          2,
          2,
          2,
          2,
          2,
          2,
          2,
          2,
          2,
          2,
          2,
          2,
          2,
          2,
          2,
          2,
          2,
          2,
          2,
          2,
          2,
          2,
          2,
          3,
          3,
          3,
          3,
          3,
          3,
          3,
          3,
          3,
          3,
          3,
          3,
          3,
          3,
          3,
          3,
          3,
          3,
          3,
          3,
          3,
          3,
          3,
          3,
          3,
          3,
          3,
          3,
          3,
          3,
          3,
          3,
          3,
          3,
          3,
          3,
          3,
          3,
          3,
          3,
          3,
          3,
          3,
          3,
          3,
          3,
          3,
          3,
          3,
          3,
          3,
          3,
          3,
          3,
          3,
          3,
          3,
          3,
          3,
          3,
          3,
          3,
          3,
          3,
          3,
          3,
          3,
          3,
          3,
          3,
          3,
          3,
          3,
          3,
          3,
          3,
          3,
          3,
          3,
          3,
          4,
          4,
          4,
          4,
          4,
          4,
          4,
          4,
          4,
          4,
          4,
          4,
          4,
          4,
          4,
          4,
          4,
          4,
          4,
          4,
          4,
          4,
          4,
          4,
          4,
          4,
          4,
          4,
          4,
          4,
          4,
          4,
          4,
          4,
          4,
          4,
          4,
          4,
          4,
          4,
          4,
          4,
          4,
          4,
          4,
          4,
          4,
          4,
          4,
          4,
          4,
          4,
          4,
          4,
          4,
          4,
          4,
          4,
          4,
          4,
          4,
          4,
          4,
          4,
          4,
          4,
          4,
          4,
          4,
          4,
          4,
          4,
          4,
          4,
          4,
          4,
          4,
          4,
          4,
          4,
          5,
          5,
          5,
          5,
          5,
          5,
          5,
          5,
          5,
          5,
          5,
          5,
          5,
          5,
          5,
          5,
          5,
          5,
          5,
          5,
          5,
          5,
          5,
          5,
          5,
          5,
          5,
          5,
          5,
          5,
          5,
          5,
          5,
          5,
          5,
          5,
          5,
          5,
          5,
          5,
          5,
          5,
          5,
          5,
          5,
          5,
          5,
          5,
          5,
          5,
          5,
          5,
          5,
          5,
          5,
          5,
          5,
          5,
          5,
          5,
          5,
          5,
          5,
          5,
          5,
          5,
          5,
          5,
          5,
          5,
          5,
          5,
          5,
          5,
          5,
          5,
          5,
          5,
          5,
          5,
          6,
          6,
          6,
          6,
          6,
          6,
          6,
          6,
          6,
          6,
          6,
          6,
          6,
          6,
          6,
          6,
          6,
          6,
          6,
          6,
          6,
          6,
          6,
          6,
          6,
          6,
          6,
          6,
          6,
          6,
          6,
          6,
          6,
          6,
          6,
          6,
          6,
          6,
          6,
          6,
          6,
          6,
          6,
          6,
          6,
          6,
          6,
          6,
          6,
          6,
          6,
          6,
          6,
          6,
          6,
          6,
          6,
          6,
          6,
          6,
          6,
          6,
          6,
          6,
          6,
          6,
          6,
          6,
          6,
          6,
          6,
          6,
          6,
          6,
          6,
          6,
          6,
          6,
          6,
          6,
          7,
          7,
          7,
          7,
          7,
          7,
          7,
          7,
          7,
          7,
          7,
          7,
          7,
          7,
          7,
          7,
          7,
          7,
          7,
          7,
          7,
          7,
          7,
          7,
          7,
          7,
          7,
          7,
          7,
          7,
          7,
          7,
          7,
          7,
          7,
          7,
          7,
          7,
          7,
          7,
          7,
          7,
          7,
          7,
          7,
          7,
          7,
          7,
          7,
          7,
          7,
          7,
          7,
          7,
          7,
          7,
          7,
          7,
          7,
          7,
          7,
          7,
          7,
          7,
          7,
          7,
          7,
          7,
          7,
          7,
          7,
          7,
          7,
          7,
          7,
          7,
          7,
          7,
          7,
          7,
          8,
          8,
          8,
          8,
          8,
          8,
          8,
          8,
          8,
          8,
          8,
          8,
          8,
          8,
          8,
          8,
          8,
          8,
          8,
          8,
          8,
          8,
          8,
          8,
          8,
          8,
          8,
          8,
          8,
          8,
          8,
          8,
          8,
          8,
          8,
          8,
          8,
          8,
          8,
          8,
          8,
          8,
          8,
          8,
          8,
          8,
          8,
          8,
          8,
          8,
          8,
          8,
          8,
          8,
          8,
          8,
          8,
          8,
          8,
          8,
          8,
          8,
          8,
          8,
          8,
          8,
          8,
          8,
          8,
          8,
          8,
          8,
          8,
          8,
          8,
          8,
          8,
          8,
          8,
          8,
          9,
          9,
          9,
          9,
          9,
          9,
          9,
          9,
          9,
          9,
          9,
          9,
          9,
          9,
          9,
          9,
          9,
          9,
          9,
          9,
          9,
          9,
          9,
          9,
          9,
          9,
          9,
          9,
          9,
          9,
          9,
          9,
          9,
          9,
          9,
          9,
          9,
          9,
          9,
          9,
          9,
          9,
          9,
          9,
          9,
          9,
          9,
          9,
          9,
          9,
          9,
          9,
          9,
          9,
          9,
          9,
          9,
          9,
          9,
          9,
          9,
          9,
          9,
          9,
          9,
          9,
          9,
          9,
          9,
          9,
          9,
          9,
          9,
          9,
          9,
          9,
          9,
          9,
          9,
          9,
          10,
          10,
          10,
          10,
          10,
          10,
          10,
          10,
          10,
          10,
          10,
          10,
          10,
          10,
          10,
          10,
          10,
          10,
          10,
          10,
          10,
          10,
          10,
          10,
          10,
          10,
          10,
          10,
          10,
          10,
          10,
          10,
          10,
          10,
          10,
          10,
          10,
          10,
          10,
          10,
          10,
          10,
          10,
          10,
          10,
          10,
          10,
          10,
          10,
          10,
          10,
          10,
          10,
          10,
          10,
          10,
          10,
          10,
          10,
          10,
          10,
          10,
          10,
          10,
          10,
          10,
          10,
          10,
          10,
          10,
          10,
          10,
          10,
          10,
          10,
          10,
          10,
          10,
          10,
          10,
          11,
          11,
          11,
          11,
          11,
          11,
          11,
          11,
          11,
          11,
          11,
          11,
          11,
          11,
          11,
          11,
          11,
          11,
          11,
          11,
          11,
          11,
          11,
          11,
          11,
          11,
          11,
          11,
          11,
          11,
          11,
          11,
          11,
          11,
          11,
          11,
          11,
          11,
          11,
          11,
          11,
          11,
          11,
          11,
          11,
          11,
          11,
          11,
          11,
          11,
          11,
          11,
          11,
          11,
          11,
          11,
          11,
          11,
          11,
          11,
          11,
          11,
          11,
          11,
          11,
          11,
          11,
          11,
          11,
          11,
          11,
          11,
          11,
          11,
          11,
          11,
          11,
          11,
          11,
          11,
          12,
          12,
          12,
          12,
          12,
          12,
          12,
          12,
          12,
          12,
          12,
          12,
          12,
          12,
          12,
          12,
          12,
          12,
          12,
          12,
          12,
          12,
          12,
          12,
          12,
          12,
          12,
          12,
          12,
          12,
          12,
          12,
          12,
          12,
          12,
          12,
          12,
          12,
          12,
          12,
          12,
          12,
          12,
          12,
          12,
          12,
          12,
          12,
          12,
          12,
          12,
          12,
          12,
          12,
          12,
          12,
          12,
          12,
          12,
          12,
          12,
          12,
          12,
          12,
          12,
          12,
          12,
          12,
          12,
          12,
          12,
          12,
          12,
          12,
          12,
          12,
          12,
          12,
          12,
          12,
          13,
          13,
          13,
          13,
          13,
          13,
          13,
          13,
          13,
          13,
          13,
          13,
          13,
          13,
          13,
          13,
          13,
          13,
          13,
          13,
          13,
          13,
          13,
          13,
          13,
          13,
          13,
          13,
          13,
          13,
          13,
          13,
          13,
          13,
          13,
          13,
          13,
          13,
          13,
          13,
          13,
          13,
          13,
          13,
          13,
          13,
          13,
          13,
          13,
          13,
          13,
          13,
          13,
          13,
          13,
          13,
          13,
          13,
          13,
          13,
          13,
          13,
          13,
          13,
          13,
          13,
          13,
          13,
          13,
          13,
          13,
          13,
          13,
          13,
          13,
          13,
          13,
          13,
          13,
          13,
          14,
          14,
          14,
          14,
          14,
          14,
          14,
          14,
          14,
          14,
          14,
          14,
          14,
          14,
          14,
          14,
          14,
          14,
          14,
          14,
          14,
          14,
          14,
          14,
          14,
          14,
          14,
          14,
          14,
          14,
          14,
          14,
          14,
          14,
          14,
          14,
          14,
          14,
          14,
          14,
          14,
          14,
          14,
          14,
          14,
          14,
          14,
          14,
          14,
          14,
          14,
          14,
          14,
          14,
          14,
          14,
          14,
          14,
          14,
          14,
          14,
          14,
          14,
          14,
          14,
          14,
          14,
          14,
          14,
          14,
          14,
          14,
          14,
          14,
          14,
          14,
          14,
          14,
          14,
          14,
          15,
          15,
          15,
          15,
          15,
          15,
          15,
          15,
          15,
          15,
          15,
          15,
          15,
          15,
          15,
          15,
          15,
          15,
          15,
          15,
          15,
          15,
          15,
          15,
          15,
          15,
          15,
          15,
          15,
          15,
          15,
          15,
          15,
          15,
          15,
          15,
          15,
          15,
          15,
          15,
          15,
          15,
          15,
          15,
          15,
          15,
          15,
          15,
          15,
          15,
          15,
          15,
          15,
          15,
          15,
          15,
          15,
          15,
          15,
          15,
          15,
          15,
          15,
          15,
          15,
          15,
          15,
          15,
          15,
          15,
          15,
          15,
          15,
          15,
          15,
          15,
          15,
          15,
          15,
          15,
          16,
          16,
          16,
          16,
          16,
          16,
          16,
          16,
          16,
          16,
          16,
          16,
          16,
          16,
          16,
          16,
          16,
          16,
          16,
          16,
          16,
          16,
          16,
          16,
          16,
          16,
          16,
          16,
          16,
          16,
          16,
          16,
          16,
          16,
          16,
          16,
          16,
          16,
          16,
          16,
          16,
          16,
          16,
          16,
          16,
          16,
          16,
          16,
          16,
          16,
          16,
          16,
          16,
          16,
          16,
          16,
          16,
          16,
          16,
          16,
          16,
          16,
          16,
          16,
          16,
          16,
          16,
          16,
          16,
          16,
          16,
          16,
          16,
          16,
          16,
          16,
          16,
          16,
          16,
          16,
          17,
          17,
          17,
          17,
          17,
          17,
          17,
          17,
          17,
          17,
          17,
          17,
          17,
          17,
          17,
          17,
          17,
          17,
          17,
          17,
          17,
          17,
          17,
          17,
          17,
          17,
          17,
          17,
          17,
          17,
          17,
          17,
          17,
          17,
          17,
          17,
          17,
          17,
          17,
          17,
          17,
          17,
          17,
          17,
          17,
          17,
          17,
          17,
          17,
          17,
          17,
          17,
          17,
          17,
          17,
          17,
          17,
          17,
          17,
          17,
          17,
          17,
          17,
          17,
          17,
          17,
          17,
          17,
          17,
          17,
          17,
          17,
          17,
          17,
          17,
          17,
          17,
          17,
          17,
          17,
          18,
          18,
          18,
          18,
          18,
          18,
          18,
          18,
          18,
          18,
          18,
          18,
          18,
          18,
          18,
          18,
          18,
          18,
          18,
          18,
          18,
          18,
          18,
          18,
          18,
          18,
          18,
          18,
          18,
          18,
          18,
          18,
          18,
          18,
          18,
          18,
          18,
          18,
          18,
          18,
          18,
          18,
          18,
          18,
          18,
          18,
          18,
          18,
          18,
          18,
          18,
          18,
          18,
          18,
          18,
          18,
          18,
          18,
          18,
          18,
          18,
          18,
          18,
          18,
          18,
          18,
          18,
          18,
          18,
          18,
          18,
          18,
          18,
          18,
          18,
          18,
          18,
          18,
          18,
          18,
          19,
          19,
          19,
          19,
          19,
          19,
          19,
          19,
          19,
          19,
          19,
          19,
          19,
          19,
          19,
          19,
          19,
          19,
          19,
          19,
          19,
          19,
          19,
          19,
          19,
          19,
          19,
          19,
          19,
          19,
          19,
          19,
          19,
          19,
          19,
          19,
          19,
          19,
          19,
          19,
          19,
          19,
          19,
          19,
          19,
          19,
          19,
          19,
          19,
          19,
          19,
          19,
          19,
          19,
          19,
          19,
          19,
          19,
          19,
          19,
          19,
          19,
          19,
          19,
          19,
          19,
          19,
          19,
          19,
          19,
          19,
          19,
          19,
          19,
          19,
          19,
          19,
          19,
          19,
          19,
          20,
          20,
          20,
          20,
          20,
          20,
          20,
          20,
          20,
          20,
          20,
          20,
          20,
          20,
          20,
          20,
          20,
          20,
          20,
          20,
          20,
          20,
          20,
          20,
          20,
          20,
          20,
          20,
          20,
          20,
          20,
          20,
          20,
          20,
          20,
          20,
          20,
          20,
          20,
          20,
          20,
          20,
          20,
          20,
          20,
          20,
          20,
          20,
          20,
          20,
          20,
          20,
          20,
          20,
          20,
          20,
          20,
          20,
          20,
          20,
          20,
          20,
          20,
          20,
          20,
          20,
          20,
          20,
          20,
          20,
          20,
          20,
          20,
          20,
          20,
          20,
          20,
          20,
          20,
          20,
          21,
          21,
          21,
          21,
          21,
          21,
          21,
          21,
          21,
          21,
          21,
          21,
          21,
          21,
          21,
          21,
          21,
          21,
          21,
          21,
          21,
          21,
          21,
          21,
          21,
          21,
          21,
          21,
          21,
          21,
          21,
          21,
          21,
          21,
          21,
          21,
          21,
          21,
          21,
          21,
          21,
          21,
          21,
          21,
          21,
          21,
          21,
          21,
          21,
          21,
          21,
          21,
          21,
          21,
          21,
          21,
          21,
          21,
          21,
          21,
          21,
          21,
          21,
          21,
          21,
          21,
          21,
          21,
          21,
          21,
          21,
          21,
          21,
          21,
          21,
          21,
          21,
          21,
          21,
          21,
          22,
          22,
          22,
          22,
          22,
          22,
          22,
          22,
          22,
          22,
          22,
          22,
          22,
          22,
          22,
          22,
          22,
          22,
          22,
          22,
          22,
          22,
          22,
          22,
          22,
          22,
          22,
          22,
          22,
          22,
          22,
          22,
          22,
          22,
          22,
          22,
          22,
          22,
          22,
          22,
          22,
          22,
          22,
          22,
          22,
          22,
          22,
          22,
          22,
          22,
          22,
          22,
          22,
          22,
          22,
          22,
          22,
          22,
          22,
          22,
          22,
          22,
          22,
          22,
          22,
          22,
          22,
          22,
          22,
          22,
          22,
          22,
          22,
          22,
          22,
          22,
          22,
          22,
          22,
          22,
          23,
          23,
          23,
          23,
          23,
          23,
          23,
          23,
          23,
          23,
          23,
          23,
          23,
          23,
          23,
          23,
          23,
          23,
          23,
          23,
          23,
          23,
          23,
          23,
          23,
          23,
          23,
          23,
          23,
          23,
          23,
          23,
          23,
          23,
          23,
          23,
          23,
          23,
          23,
          23,
          23,
          23,
          23,
          23,
          23,
          23,
          23,
          23,
          23,
          23,
          23,
          23,
          23,
          23,
          23,
          23,
          23,
          23,
          23,
          23,
          23,
          23,
          23,
          23,
          23,
          23,
          23,
          23,
          23,
          23,
          23,
          23,
          23,
          23,
          23,
          23,
          23,
          23,
          23,
          23,
          24,
          24,
          24,
          24,
          24,
          24,
          24,
          24,
          24,
          24,
          24,
          24,
          24,
          24,
          24,
          24,
          24,
          24,
          24,
          24,
          24,
          24,
          24,
          24,
          24,
          24,
          24,
          24,
          24,
          24,
          24,
          24,
          24,
          24,
          24,
          24,
          24,
          24,
          24,
          24,
          24,
          24,
          24,
          24,
          24,
          24,
          24,
          24,
          24,
          24,
          24,
          24,
          24,
          24,
          24,
          24,
          24,
          24,
          24,
          24,
          24,
          24,
          24,
          24,
          24,
          24,
          24,
          24,
          24,
          24,
          24,
          24,
          24,
          24,
          24,
          24,
          24,
          24,
          24,
          24,
          25,
          25,
          25,
          25,
          25,
          25,
          25,
          25,
          25,
          25,
          25,
          25,
          25,
          25,
          25,
          25,
          25,
          25,
          25,
          25,
          25,
          25,
          25,
          25,
          25,
          25,
          25,
          25,
          25,
          25,
          25,
          25,
          25,
          25,
          25,
          25,
          25,
          25,
          25,
          25,
          25,
          25,
          25,
          25,
          25,
          25,
          25,
          25,
          25,
          25,
          25,
          25,
          25,
          25,
          25,
          25,
          25,
          25,
          25,
          25,
          25,
          25,
          25,
          25,
          25,
          25,
          25,
          25,
          25,
          25,
          25,
          25,
          25,
          25,
          25,
          25,
          25,
          25,
          25,
          25,
          26,
          26,
          26,
          26,
          26,
          26,
          26,
          26,
          26,
          26,
          26,
          26,
          26,
          26,
          26,
          26,
          26,
          26,
          26,
          26,
          26,
          26,
          26,
          26,
          26,
          26,
          26,
          26,
          26,
          26,
          26,
          26,
          26,
          26,
          26,
          26,
          26,
          26,
          26,
          26,
          26,
          26,
          26,
          26,
          26,
          26,
          26,
          26,
          26,
          26,
          26,
          26,
          26,
          26,
          26,
          26,
          26,
          26,
          26,
          26,
          26,
          26,
          26,
          26,
          26,
          26,
          26,
          26,
          26,
          26,
          26,
          26,
          26,
          26,
          26,
          26,
          26,
          26,
          26,
          26,
          27,
          27,
          27,
          27,
          27,
          27,
          27,
          27,
          27,
          27,
          27,
          27,
          27,
          27,
          27,
          27,
          27,
          27,
          27,
          27,
          27,
          27,
          27,
          27,
          27,
          27,
          27,
          27,
          27,
          27,
          27,
          27,
          27,
          27,
          27,
          27,
          27,
          27,
          27,
          27,
          27,
          27,
          27,
          27,
          27,
          27,
          27,
          27,
          27,
          27,
          27,
          27,
          27,
          27,
          27,
          27,
          27,
          27,
          27,
          27,
          27,
          27,
          27,
          27,
          27,
          27,
          27,
          27,
          27,
          27,
          27,
          27,
          27,
          27,
          27,
          27,
          27,
          27,
          27,
          27,
          28,
          28,
          28,
          28,
          28,
          28,
          28,
          28,
          28,
          28,
          28,
          28,
          28,
          28,
          28,
          28,
          28,
          28,
          28,
          28,
          28,
          28,
          28,
          28,
          28,
          28,
          28,
          28,
          28,
          28,
          28,
          28,
          28,
          28,
          28,
          28,
          28,
          28,
          28,
          28,
          28,
          28,
          28,
          28,
          28,
          28,
          28,
          28,
          28,
          28,
          28,
          28,
          28,
          28,
          28,
          28,
          28,
          28,
          28,
          28,
          28,
          28,
          28,
          28,
          28,
          28,
          28,
          28,
          28,
          28,
          28,
          28,
          28,
          28,
          28,
          28,
          28,
          28,
          28,
          28,
          29,
          29,
          29,
          29,
          29,
          29,
          29,
          29,
          29,
          29,
          29,
          29,
          29,
          29,
          29,
          29,
          29,
          29,
          29,
          29,
          29,
          29,
          29,
          29,
          29,
          29,
          29,
          29,
          29,
          29,
          29,
          29,
          29,
          29,
          29,
          29,
          29,
          29,
          29,
          29,
          29,
          29,
          29,
          29,
          29,
          29,
          29,
          29,
          29,
          29,
          29,
          29,
          29,
          29,
          29,
          29,
          29,
          29,
          29,
          29,
          29,
          29,
          29,
          29,
          29,
          29,
          29,
          29,
          29,
          29,
          29,
          29,
          29,
          29,
          29,
          29,
          29,
          29,
          29,
          29,
          30,
          30,
          30,
          30,
          30,
          30,
          30,
          30,
          30,
          30,
          30,
          30,
          30,
          30,
          30,
          30,
          30,
          30,
          30,
          30,
          30,
          30,
          30,
          30,
          30,
          30,
          30,
          30,
          30,
          30,
          30,
          30,
          30,
          30,
          30,
          30,
          30,
          30,
          30,
          30,
          30,
          30,
          30,
          30,
          30,
          30,
          30,
          30,
          30,
          30,
          30,
          30,
          30,
          30,
          30,
          30,
          30,
          30,
          30,
          30,
          30,
          30,
          30,
          30,
          30,
          30,
          30,
          30,
          30,
          30,
          30,
          30,
          30,
          30,
          30,
          30,
          30,
          30,
          30,
          30,
          31,
          31,
          31,
          31,
          31,
          31,
          31,
          31,
          31,
          31,
          31,
          31,
          31,
          31,
          31,
          31,
          31,
          31,
          31,
          31,
          31,
          31,
          31,
          31,
          31,
          31,
          31,
          31,
          31,
          31,
          31,
          31,
          31,
          31,
          31,
          31,
          31,
          31,
          31,
          31,
          31,
          31,
          31,
          31,
          31,
          31,
          31,
          31,
          31,
          31,
          31,
          31,
          31,
          31,
          31,
          31,
          31,
          31,
          31,
          31,
          31,
          31,
          31,
          31,
          31,
          31,
          31,
          31,
          31,
          31,
          31,
          31,
          31,
          31,
          31,
          31,
          31,
          31,
          31,
          31,
          32,
          32,
          32,
          32,
          32,
          32,
          32,
          32,
          32,
          32,
          32,
          32,
          32,
          32,
          32,
          32,
          32,
          32,
          32,
          32,
          32,
          32,
          32,
          32,
          32,
          32,
          32,
          32,
          32,
          32,
          32,
          32,
          32,
          32,
          32,
          32,
          32,
          32,
          32,
          32,
          32,
          32,
          32,
          32,
          32,
          32,
          32,
          32,
          32,
          32,
          32,
          32,
          32,
          32,
          32,
          32,
          32,
          32,
          32,
          32,
          32,
          32,
          32,
          32,
          32,
          32,
          32,
          32,
          32,
          32,
          32,
          32,
          32,
          32,
          32,
          32,
          32,
          32,
          32,
          32,
          33,
          33,
          33,
          33,
          33,
          33,
          33,
          33,
          33,
          33,
          33,
          33,
          33,
          33,
          33,
          33,
          33,
          33,
          33,
          33,
          33,
          33,
          33,
          33,
          33,
          33,
          33,
          33,
          33,
          33,
          33,
          33,
          33,
          33,
          33,
          33,
          33,
          33,
          33,
          33,
          33,
          33,
          33,
          33,
          33,
          33,
          33,
          33,
          33,
          33,
          33,
          33,
          33,
          33,
          33,
          33,
          33,
          33,
          33,
          33,
          33,
          33,
          33,
          33,
          33,
          33,
          33,
          33,
          33,
          33,
          33,
          33,
          33,
          33,
          33,
          33,
          33,
          33,
          33,
          33,
          34,
          34,
          34,
          34,
          34,
          34,
          34,
          34,
          34,
          34,
          34,
          34,
          34,
          34,
          34,
          34,
          34,
          34,
          34,
          34,
          34,
          34,
          34,
          34,
          34,
          34,
          34,
          34,
          34,
          34,
          34,
          34,
          34,
          34,
          34,
          34,
          34,
          34,
          34,
          34,
          34,
          34,
          34,
          34,
          34,
          34,
          34,
          34,
          34,
          34,
          34,
          34,
          34,
          34,
          34,
          34,
          34,
          34,
          34,
          34,
          34,
          34,
          34,
          34,
          34,
          34,
          34,
          34,
          34,
          34,
          34,
          34,
          34,
          34,
          34,
          34,
          34,
          34,
          34,
          34,
          35,
          35,
          35,
          35,
          35,
          35,
          35,
          35,
          35,
          35,
          35,
          35,
          35,
          35,
          35,
          35,
          35,
          35,
          35,
          35,
          35,
          35,
          35,
          35,
          35,
          35,
          35,
          35,
          35,
          35,
          35,
          35,
          35,
          35,
          35,
          35,
          35,
          35,
          35,
          35,
          35,
          35,
          35,
          35,
          35,
          35,
          35,
          35,
          35,
          35,
          35,
          35,
          35,
          35,
          35,
          35,
          35,
          35,
          35,
          35,
          35,
          35,
          35,
          35,
          35,
          35,
          35,
          35,
          35,
          35,
          35,
          35,
          35,
          35,
          35,
          35,
          35,
          35,
          35,
          35,
          36,
          36,
          36,
          36,
          36,
          36,
          36,
          36,
          36,
          36,
          36,
          36,
          36,
          36,
          36,
          36,
          36,
          36,
          36,
          36,
          36,
          36,
          36,
          36,
          36,
          36,
          36,
          36,
          36,
          36,
          36,
          36,
          36,
          36,
          36,
          36,
          36,
          36,
          36,
          36,
          36,
          36,
          36,
          36,
          36,
          36,
          36,
          36,
          36,
          36,
          36,
          36,
          36,
          36,
          36,
          36,
          36,
          36,
          36,
          36,
          36,
          36,
          36,
          36,
          36,
          36,
          36,
          36,
          36,
          36,
          36,
          36,
          36,
          36,
          36,
          36,
          36,
          36,
          36,
          36,
          37,
          37,
          37,
          37,
          37,
          37,
          37,
          37,
          37,
          37,
          37,
          37,
          37,
          37,
          37,
          37,
          37,
          37,
          37,
          37,
          37,
          37,
          37,
          37,
          37,
          37,
          37,
          37,
          37,
          37,
          37,
          37,
          37,
          37,
          37,
          37,
          37,
          37,
          37,
          37,
          37,
          37,
          37,
          37,
          37,
          37,
          37,
          37,
          37,
          37,
          37,
          37,
          37,
          37,
          37,
          37,
          37,
          37,
          37,
          37,
          37,
          37,
          37,
          37,
          37,
          37,
          37,
          37,
          37,
          37,
          37,
          37,
          37,
          37,
          37,
          37,
          37,
          37,
          37,
          37,
          38,
          38,
          38,
          38,
          38,
          38,
          38,
          38,
          38,
          38,
          38,
          38,
          38,
          38,
          38,
          38,
          38,
          38,
          38,
          38,
          38,
          38,
          38,
          38,
          38,
          38,
          38,
          38,
          38,
          38,
          38,
          38,
          38,
          38,
          38,
          38,
          38,
          38,
          38,
          38,
          38,
          38,
          38,
          38,
          38,
          38,
          38,
          38,
          38,
          38,
          38,
          38,
          38,
          38,
          38,
          38,
          38,
          38,
          38,
          38,
          38,
          38,
          38,
          38,
          38,
          38,
          38,
          38,
          38,
          38,
          38,
          38,
          38,
          38,
          38,
          38,
          38,
          38,
          38,
          38,
          39,
          39,
          39,
          39,
          39,
          39,
          39,
          39,
          39,
          39,
          39,
          39,
          39,
          39,
          39,
          39,
          39,
          39,
          39,
          39,
          39,
          39,
          39,
          39,
          39,
          39,
          39,
          39,
          39,
          39,
          39,
          39,
          39,
          39,
          39,
          39,
          39,
          39,
          39,
          39
         ],
         "y": [
          0,
          1,
          2,
          3,
          4,
          5,
          6,
          7,
          8,
          9,
          10,
          11,
          12,
          13,
          14,
          15,
          16,
          17,
          18,
          19,
          20,
          21,
          22,
          23,
          24,
          25,
          26,
          27,
          28,
          29,
          30,
          31,
          32,
          33,
          34,
          35,
          36,
          37,
          38,
          39,
          0,
          0,
          0,
          1,
          2,
          2,
          2,
          3,
          4,
          4,
          4,
          5,
          6,
          6,
          6,
          7,
          8,
          8,
          8,
          9,
          10,
          10,
          10,
          11,
          12,
          12,
          12,
          13,
          14,
          14,
          14,
          15,
          16,
          16,
          16,
          17,
          18,
          18,
          18,
          19,
          20,
          20,
          20,
          21,
          22,
          22,
          22,
          23,
          24,
          24,
          24,
          25,
          26,
          26,
          26,
          27,
          28,
          28,
          28,
          29,
          30,
          30,
          30,
          31,
          32,
          32,
          32,
          33,
          34,
          34,
          34,
          35,
          36,
          36,
          36,
          37,
          38,
          38,
          38,
          39,
          0,
          0,
          0,
          1,
          2,
          2,
          2,
          3,
          4,
          4,
          4,
          5,
          6,
          6,
          6,
          7,
          8,
          8,
          8,
          9,
          10,
          10,
          10,
          11,
          12,
          12,
          12,
          13,
          14,
          14,
          14,
          15,
          16,
          16,
          16,
          17,
          18,
          18,
          18,
          19,
          20,
          20,
          20,
          21,
          22,
          22,
          22,
          23,
          24,
          24,
          24,
          25,
          26,
          26,
          26,
          27,
          28,
          28,
          28,
          29,
          30,
          30,
          30,
          31,
          32,
          32,
          32,
          33,
          34,
          34,
          34,
          35,
          36,
          36,
          36,
          37,
          38,
          38,
          38,
          39,
          0,
          0,
          0,
          1,
          2,
          2,
          2,
          3,
          4,
          4,
          4,
          5,
          6,
          6,
          6,
          7,
          8,
          8,
          8,
          9,
          10,
          10,
          10,
          11,
          12,
          12,
          12,
          13,
          14,
          14,
          14,
          15,
          16,
          16,
          16,
          17,
          18,
          18,
          18,
          19,
          20,
          20,
          20,
          21,
          22,
          22,
          22,
          23,
          24,
          24,
          24,
          25,
          26,
          26,
          26,
          27,
          28,
          28,
          28,
          29,
          30,
          30,
          30,
          31,
          32,
          32,
          32,
          33,
          34,
          34,
          34,
          35,
          36,
          36,
          36,
          37,
          38,
          38,
          38,
          39,
          0,
          0,
          0,
          1,
          2,
          2,
          2,
          3,
          4,
          4,
          4,
          5,
          6,
          6,
          6,
          7,
          8,
          8,
          8,
          9,
          10,
          10,
          10,
          11,
          12,
          12,
          12,
          13,
          14,
          14,
          14,
          15,
          16,
          16,
          16,
          17,
          18,
          18,
          18,
          19,
          20,
          20,
          20,
          21,
          22,
          22,
          22,
          23,
          24,
          24,
          24,
          25,
          26,
          26,
          26,
          27,
          28,
          28,
          28,
          29,
          30,
          30,
          30,
          31,
          32,
          32,
          32,
          33,
          34,
          34,
          34,
          35,
          36,
          36,
          36,
          37,
          38,
          38,
          38,
          39,
          0,
          0,
          0,
          1,
          2,
          2,
          2,
          3,
          4,
          4,
          4,
          5,
          6,
          6,
          6,
          7,
          8,
          8,
          8,
          9,
          10,
          10,
          10,
          11,
          12,
          12,
          12,
          13,
          14,
          14,
          14,
          15,
          16,
          16,
          16,
          17,
          18,
          18,
          18,
          19,
          20,
          20,
          20,
          21,
          22,
          22,
          22,
          23,
          24,
          24,
          24,
          25,
          26,
          26,
          26,
          27,
          28,
          28,
          28,
          29,
          30,
          30,
          30,
          31,
          32,
          32,
          32,
          33,
          34,
          34,
          34,
          35,
          36,
          36,
          36,
          37,
          38,
          38,
          38,
          39,
          0,
          0,
          0,
          1,
          2,
          2,
          2,
          3,
          4,
          4,
          4,
          5,
          6,
          6,
          6,
          7,
          8,
          8,
          8,
          9,
          10,
          10,
          10,
          11,
          12,
          12,
          12,
          13,
          14,
          14,
          14,
          15,
          16,
          16,
          16,
          17,
          18,
          18,
          18,
          19,
          20,
          20,
          20,
          21,
          22,
          22,
          22,
          23,
          24,
          24,
          24,
          25,
          26,
          26,
          26,
          27,
          28,
          28,
          28,
          29,
          30,
          30,
          30,
          31,
          32,
          32,
          32,
          33,
          34,
          34,
          34,
          35,
          36,
          36,
          36,
          37,
          38,
          38,
          38,
          39,
          0,
          0,
          0,
          1,
          2,
          2,
          2,
          3,
          4,
          4,
          4,
          5,
          6,
          6,
          6,
          7,
          8,
          8,
          8,
          9,
          10,
          10,
          10,
          11,
          12,
          12,
          12,
          13,
          14,
          14,
          14,
          15,
          16,
          16,
          16,
          17,
          18,
          18,
          18,
          19,
          20,
          20,
          20,
          21,
          22,
          22,
          22,
          23,
          24,
          24,
          24,
          25,
          26,
          26,
          26,
          27,
          28,
          28,
          28,
          29,
          30,
          30,
          30,
          31,
          32,
          32,
          32,
          33,
          34,
          34,
          34,
          35,
          36,
          36,
          36,
          37,
          38,
          38,
          38,
          39,
          0,
          0,
          0,
          1,
          2,
          2,
          2,
          3,
          4,
          4,
          4,
          5,
          6,
          6,
          6,
          7,
          8,
          8,
          8,
          9,
          10,
          10,
          10,
          11,
          12,
          12,
          12,
          13,
          14,
          14,
          14,
          15,
          16,
          16,
          16,
          17,
          18,
          18,
          18,
          19,
          20,
          20,
          20,
          21,
          22,
          22,
          22,
          23,
          24,
          24,
          24,
          25,
          26,
          26,
          26,
          27,
          28,
          28,
          28,
          29,
          30,
          30,
          30,
          31,
          32,
          32,
          32,
          33,
          34,
          34,
          34,
          35,
          36,
          36,
          36,
          37,
          38,
          38,
          38,
          39,
          0,
          0,
          0,
          1,
          2,
          2,
          2,
          3,
          4,
          4,
          4,
          5,
          6,
          6,
          6,
          7,
          8,
          8,
          8,
          9,
          10,
          10,
          10,
          11,
          12,
          12,
          12,
          13,
          14,
          14,
          14,
          15,
          16,
          16,
          16,
          17,
          18,
          18,
          18,
          19,
          20,
          20,
          20,
          21,
          22,
          22,
          22,
          23,
          24,
          24,
          24,
          25,
          26,
          26,
          26,
          27,
          28,
          28,
          28,
          29,
          30,
          30,
          30,
          31,
          32,
          32,
          32,
          33,
          34,
          34,
          34,
          35,
          36,
          36,
          36,
          37,
          38,
          38,
          38,
          39,
          0,
          0,
          0,
          1,
          2,
          2,
          2,
          3,
          4,
          4,
          4,
          5,
          6,
          6,
          6,
          7,
          8,
          8,
          8,
          9,
          10,
          10,
          10,
          11,
          12,
          12,
          12,
          13,
          14,
          14,
          14,
          15,
          16,
          16,
          16,
          17,
          18,
          18,
          18,
          19,
          20,
          20,
          20,
          21,
          22,
          22,
          22,
          23,
          24,
          24,
          24,
          25,
          26,
          26,
          26,
          27,
          28,
          28,
          28,
          29,
          30,
          30,
          30,
          31,
          32,
          32,
          32,
          33,
          34,
          34,
          34,
          35,
          36,
          36,
          36,
          37,
          38,
          38,
          38,
          39,
          0,
          0,
          0,
          1,
          2,
          2,
          2,
          3,
          4,
          4,
          4,
          5,
          6,
          6,
          6,
          7,
          8,
          8,
          8,
          9,
          10,
          10,
          10,
          11,
          12,
          12,
          12,
          13,
          14,
          14,
          14,
          15,
          16,
          16,
          16,
          17,
          18,
          18,
          18,
          19,
          20,
          20,
          20,
          21,
          22,
          22,
          22,
          23,
          24,
          24,
          24,
          25,
          26,
          26,
          26,
          27,
          28,
          28,
          28,
          29,
          30,
          30,
          30,
          31,
          32,
          32,
          32,
          33,
          34,
          34,
          34,
          35,
          36,
          36,
          36,
          37,
          38,
          38,
          38,
          39,
          0,
          0,
          0,
          1,
          2,
          2,
          2,
          3,
          4,
          4,
          4,
          5,
          6,
          6,
          6,
          7,
          8,
          8,
          8,
          9,
          10,
          10,
          10,
          11,
          12,
          12,
          12,
          13,
          14,
          14,
          14,
          15,
          16,
          16,
          16,
          17,
          18,
          18,
          18,
          19,
          20,
          20,
          20,
          21,
          22,
          22,
          22,
          23,
          24,
          24,
          24,
          25,
          26,
          26,
          26,
          27,
          28,
          28,
          28,
          29,
          30,
          30,
          30,
          31,
          32,
          32,
          32,
          33,
          34,
          34,
          34,
          35,
          36,
          36,
          36,
          37,
          38,
          38,
          38,
          39,
          0,
          0,
          0,
          1,
          2,
          2,
          2,
          3,
          4,
          4,
          4,
          5,
          6,
          6,
          6,
          7,
          8,
          8,
          8,
          9,
          10,
          10,
          10,
          11,
          12,
          12,
          12,
          13,
          14,
          14,
          14,
          15,
          16,
          16,
          16,
          17,
          18,
          18,
          18,
          19,
          20,
          20,
          20,
          21,
          22,
          22,
          22,
          23,
          24,
          24,
          24,
          25,
          26,
          26,
          26,
          27,
          28,
          28,
          28,
          29,
          30,
          30,
          30,
          31,
          32,
          32,
          32,
          33,
          34,
          34,
          34,
          35,
          36,
          36,
          36,
          37,
          38,
          38,
          38,
          39,
          0,
          0,
          0,
          1,
          2,
          2,
          2,
          3,
          4,
          4,
          4,
          5,
          6,
          6,
          6,
          7,
          8,
          8,
          8,
          9,
          10,
          10,
          10,
          11,
          12,
          12,
          12,
          13,
          14,
          14,
          14,
          15,
          16,
          16,
          16,
          17,
          18,
          18,
          18,
          19,
          20,
          20,
          20,
          21,
          22,
          22,
          22,
          23,
          24,
          24,
          24,
          25,
          26,
          26,
          26,
          27,
          28,
          28,
          28,
          29,
          30,
          30,
          30,
          31,
          32,
          32,
          32,
          33,
          34,
          34,
          34,
          35,
          36,
          36,
          36,
          37,
          38,
          38,
          38,
          39,
          0,
          0,
          0,
          1,
          2,
          2,
          2,
          3,
          4,
          4,
          4,
          5,
          6,
          6,
          6,
          7,
          8,
          8,
          8,
          9,
          10,
          10,
          10,
          11,
          12,
          12,
          12,
          13,
          14,
          14,
          14,
          15,
          16,
          16,
          16,
          17,
          18,
          18,
          18,
          19,
          20,
          20,
          20,
          21,
          22,
          22,
          22,
          23,
          24,
          24,
          24,
          25,
          26,
          26,
          26,
          27,
          28,
          28,
          28,
          29,
          30,
          30,
          30,
          31,
          32,
          32,
          32,
          33,
          34,
          34,
          34,
          35,
          36,
          36,
          36,
          37,
          38,
          38,
          38,
          39,
          0,
          0,
          0,
          1,
          2,
          2,
          2,
          3,
          4,
          4,
          4,
          5,
          6,
          6,
          6,
          7,
          8,
          8,
          8,
          9,
          10,
          10,
          10,
          11,
          12,
          12,
          12,
          13,
          14,
          14,
          14,
          15,
          16,
          16,
          16,
          17,
          18,
          18,
          18,
          19,
          20,
          20,
          20,
          21,
          22,
          22,
          22,
          23,
          24,
          24,
          24,
          25,
          26,
          26,
          26,
          27,
          28,
          28,
          28,
          29,
          30,
          30,
          30,
          31,
          32,
          32,
          32,
          33,
          34,
          34,
          34,
          35,
          36,
          36,
          36,
          37,
          38,
          38,
          38,
          39,
          0,
          0,
          0,
          1,
          2,
          2,
          2,
          3,
          4,
          4,
          4,
          5,
          6,
          6,
          6,
          7,
          8,
          8,
          8,
          9,
          10,
          10,
          10,
          11,
          12,
          12,
          12,
          13,
          14,
          14,
          14,
          15,
          16,
          16,
          16,
          17,
          18,
          18,
          18,
          19,
          20,
          20,
          20,
          21,
          22,
          22,
          22,
          23,
          24,
          24,
          24,
          25,
          26,
          26,
          26,
          27,
          28,
          28,
          28,
          29,
          30,
          30,
          30,
          31,
          32,
          32,
          32,
          33,
          34,
          34,
          34,
          35,
          36,
          36,
          36,
          37,
          38,
          38,
          38,
          39,
          0,
          0,
          0,
          1,
          2,
          2,
          2,
          3,
          4,
          4,
          4,
          5,
          6,
          6,
          6,
          7,
          8,
          8,
          8,
          9,
          10,
          10,
          10,
          11,
          12,
          12,
          12,
          13,
          14,
          14,
          14,
          15,
          16,
          16,
          16,
          17,
          18,
          18,
          18,
          19,
          20,
          20,
          20,
          21,
          22,
          22,
          22,
          23,
          24,
          24,
          24,
          25,
          26,
          26,
          26,
          27,
          28,
          28,
          28,
          29,
          30,
          30,
          30,
          31,
          32,
          32,
          32,
          33,
          34,
          34,
          34,
          35,
          36,
          36,
          36,
          37,
          38,
          38,
          38,
          39,
          0,
          0,
          0,
          1,
          2,
          2,
          2,
          3,
          4,
          4,
          4,
          5,
          6,
          6,
          6,
          7,
          8,
          8,
          8,
          9,
          10,
          10,
          10,
          11,
          12,
          12,
          12,
          13,
          14,
          14,
          14,
          15,
          16,
          16,
          16,
          17,
          18,
          18,
          18,
          19,
          20,
          20,
          20,
          21,
          22,
          22,
          22,
          23,
          24,
          24,
          24,
          25,
          26,
          26,
          26,
          27,
          28,
          28,
          28,
          29,
          30,
          30,
          30,
          31,
          32,
          32,
          32,
          33,
          34,
          34,
          34,
          35,
          36,
          36,
          36,
          37,
          38,
          38,
          38,
          39,
          0,
          0,
          0,
          1,
          2,
          2,
          2,
          3,
          4,
          4,
          4,
          5,
          6,
          6,
          6,
          7,
          8,
          8,
          8,
          9,
          10,
          10,
          10,
          11,
          12,
          12,
          12,
          13,
          14,
          14,
          14,
          15,
          16,
          16,
          16,
          17,
          18,
          18,
          18,
          19,
          20,
          20,
          20,
          21,
          22,
          22,
          22,
          23,
          24,
          24,
          24,
          25,
          26,
          26,
          26,
          27,
          28,
          28,
          28,
          29,
          30,
          30,
          30,
          31,
          32,
          32,
          32,
          33,
          34,
          34,
          34,
          35,
          36,
          36,
          36,
          37,
          38,
          38,
          38,
          39,
          0,
          0,
          0,
          1,
          2,
          2,
          2,
          3,
          4,
          4,
          4,
          5,
          6,
          6,
          6,
          7,
          8,
          8,
          8,
          9,
          10,
          10,
          10,
          11,
          12,
          12,
          12,
          13,
          14,
          14,
          14,
          15,
          16,
          16,
          16,
          17,
          18,
          18,
          18,
          19,
          20,
          20,
          20,
          21,
          22,
          22,
          22,
          23,
          24,
          24,
          24,
          25,
          26,
          26,
          26,
          27,
          28,
          28,
          28,
          29,
          30,
          30,
          30,
          31,
          32,
          32,
          32,
          33,
          34,
          34,
          34,
          35,
          36,
          36,
          36,
          37,
          38,
          38,
          38,
          39,
          0,
          0,
          0,
          1,
          2,
          2,
          2,
          3,
          4,
          4,
          4,
          5,
          6,
          6,
          6,
          7,
          8,
          8,
          8,
          9,
          10,
          10,
          10,
          11,
          12,
          12,
          12,
          13,
          14,
          14,
          14,
          15,
          16,
          16,
          16,
          17,
          18,
          18,
          18,
          19,
          20,
          20,
          20,
          21,
          22,
          22,
          22,
          23,
          24,
          24,
          24,
          25,
          26,
          26,
          26,
          27,
          28,
          28,
          28,
          29,
          30,
          30,
          30,
          31,
          32,
          32,
          32,
          33,
          34,
          34,
          34,
          35,
          36,
          36,
          36,
          37,
          38,
          38,
          38,
          39,
          0,
          0,
          0,
          1,
          2,
          2,
          2,
          3,
          4,
          4,
          4,
          5,
          6,
          6,
          6,
          7,
          8,
          8,
          8,
          9,
          10,
          10,
          10,
          11,
          12,
          12,
          12,
          13,
          14,
          14,
          14,
          15,
          16,
          16,
          16,
          17,
          18,
          18,
          18,
          19,
          20,
          20,
          20,
          21,
          22,
          22,
          22,
          23,
          24,
          24,
          24,
          25,
          26,
          26,
          26,
          27,
          28,
          28,
          28,
          29,
          30,
          30,
          30,
          31,
          32,
          32,
          32,
          33,
          34,
          34,
          34,
          35,
          36,
          36,
          36,
          37,
          38,
          38,
          38,
          39,
          0,
          0,
          0,
          1,
          2,
          2,
          2,
          3,
          4,
          4,
          4,
          5,
          6,
          6,
          6,
          7,
          8,
          8,
          8,
          9,
          10,
          10,
          10,
          11,
          12,
          12,
          12,
          13,
          14,
          14,
          14,
          15,
          16,
          16,
          16,
          17,
          18,
          18,
          18,
          19,
          20,
          20,
          20,
          21,
          22,
          22,
          22,
          23,
          24,
          24,
          24,
          25,
          26,
          26,
          26,
          27,
          28,
          28,
          28,
          29,
          30,
          30,
          30,
          31,
          32,
          32,
          32,
          33,
          34,
          34,
          34,
          35,
          36,
          36,
          36,
          37,
          38,
          38,
          38,
          39,
          0,
          0,
          0,
          1,
          2,
          2,
          2,
          3,
          4,
          4,
          4,
          5,
          6,
          6,
          6,
          7,
          8,
          8,
          8,
          9,
          10,
          10,
          10,
          11,
          12,
          12,
          12,
          13,
          14,
          14,
          14,
          15,
          16,
          16,
          16,
          17,
          18,
          18,
          18,
          19,
          20,
          20,
          20,
          21,
          22,
          22,
          22,
          23,
          24,
          24,
          24,
          25,
          26,
          26,
          26,
          27,
          28,
          28,
          28,
          29,
          30,
          30,
          30,
          31,
          32,
          32,
          32,
          33,
          34,
          34,
          34,
          35,
          36,
          36,
          36,
          37,
          38,
          38,
          38,
          39,
          0,
          0,
          0,
          1,
          2,
          2,
          2,
          3,
          4,
          4,
          4,
          5,
          6,
          6,
          6,
          7,
          8,
          8,
          8,
          9,
          10,
          10,
          10,
          11,
          12,
          12,
          12,
          13,
          14,
          14,
          14,
          15,
          16,
          16,
          16,
          17,
          18,
          18,
          18,
          19,
          20,
          20,
          20,
          21,
          22,
          22,
          22,
          23,
          24,
          24,
          24,
          25,
          26,
          26,
          26,
          27,
          28,
          28,
          28,
          29,
          30,
          30,
          30,
          31,
          32,
          32,
          32,
          33,
          34,
          34,
          34,
          35,
          36,
          36,
          36,
          37,
          38,
          38,
          38,
          39,
          0,
          0,
          0,
          1,
          2,
          2,
          2,
          3,
          4,
          4,
          4,
          5,
          6,
          6,
          6,
          7,
          8,
          8,
          8,
          9,
          10,
          10,
          10,
          11,
          12,
          12,
          12,
          13,
          14,
          14,
          14,
          15,
          16,
          16,
          16,
          17,
          18,
          18,
          18,
          19,
          20,
          20,
          20,
          21,
          22,
          22,
          22,
          23,
          24,
          24,
          24,
          25,
          26,
          26,
          26,
          27,
          28,
          28,
          28,
          29,
          30,
          30,
          30,
          31,
          32,
          32,
          32,
          33,
          34,
          34,
          34,
          35,
          36,
          36,
          36,
          37,
          38,
          38,
          38,
          39,
          0,
          0,
          0,
          1,
          2,
          2,
          2,
          3,
          4,
          4,
          4,
          5,
          6,
          6,
          6,
          7,
          8,
          8,
          8,
          9,
          10,
          10,
          10,
          11,
          12,
          12,
          12,
          13,
          14,
          14,
          14,
          15,
          16,
          16,
          16,
          17,
          18,
          18,
          18,
          19,
          20,
          20,
          20,
          21,
          22,
          22,
          22,
          23,
          24,
          24,
          24,
          25,
          26,
          26,
          26,
          27,
          28,
          28,
          28,
          29,
          30,
          30,
          30,
          31,
          32,
          32,
          32,
          33,
          34,
          34,
          34,
          35,
          36,
          36,
          36,
          37,
          38,
          38,
          38,
          39,
          0,
          0,
          0,
          1,
          2,
          2,
          2,
          3,
          4,
          4,
          4,
          5,
          6,
          6,
          6,
          7,
          8,
          8,
          8,
          9,
          10,
          10,
          10,
          11,
          12,
          12,
          12,
          13,
          14,
          14,
          14,
          15,
          16,
          16,
          16,
          17,
          18,
          18,
          18,
          19,
          20,
          20,
          20,
          21,
          22,
          22,
          22,
          23,
          24,
          24,
          24,
          25,
          26,
          26,
          26,
          27,
          28,
          28,
          28,
          29,
          30,
          30,
          30,
          31,
          32,
          32,
          32,
          33,
          34,
          34,
          34,
          35,
          36,
          36,
          36,
          37,
          38,
          38,
          38,
          39,
          0,
          0,
          0,
          1,
          2,
          2,
          2,
          3,
          4,
          4,
          4,
          5,
          6,
          6,
          6,
          7,
          8,
          8,
          8,
          9,
          10,
          10,
          10,
          11,
          12,
          12,
          12,
          13,
          14,
          14,
          14,
          15,
          16,
          16,
          16,
          17,
          18,
          18,
          18,
          19,
          20,
          20,
          20,
          21,
          22,
          22,
          22,
          23,
          24,
          24,
          24,
          25,
          26,
          26,
          26,
          27,
          28,
          28,
          28,
          29,
          30,
          30,
          30,
          31,
          32,
          32,
          32,
          33,
          34,
          34,
          34,
          35,
          36,
          36,
          36,
          37,
          38,
          38,
          38,
          39,
          0,
          0,
          0,
          1,
          2,
          2,
          2,
          3,
          4,
          4,
          4,
          5,
          6,
          6,
          6,
          7,
          8,
          8,
          8,
          9,
          10,
          10,
          10,
          11,
          12,
          12,
          12,
          13,
          14,
          14,
          14,
          15,
          16,
          16,
          16,
          17,
          18,
          18,
          18,
          19,
          20,
          20,
          20,
          21,
          22,
          22,
          22,
          23,
          24,
          24,
          24,
          25,
          26,
          26,
          26,
          27,
          28,
          28,
          28,
          29,
          30,
          30,
          30,
          31,
          32,
          32,
          32,
          33,
          34,
          34,
          34,
          35,
          36,
          36,
          36,
          37,
          38,
          38,
          38,
          39,
          0,
          0,
          0,
          1,
          2,
          2,
          2,
          3,
          4,
          4,
          4,
          5,
          6,
          6,
          6,
          7,
          8,
          8,
          8,
          9,
          10,
          10,
          10,
          11,
          12,
          12,
          12,
          13,
          14,
          14,
          14,
          15,
          16,
          16,
          16,
          17,
          18,
          18,
          18,
          19,
          20,
          20,
          20,
          21,
          22,
          22,
          22,
          23,
          24,
          24,
          24,
          25,
          26,
          26,
          26,
          27,
          28,
          28,
          28,
          29,
          30,
          30,
          30,
          31,
          32,
          32,
          32,
          33,
          34,
          34,
          34,
          35,
          36,
          36,
          36,
          37,
          38,
          38,
          38,
          39,
          0,
          0,
          0,
          1,
          2,
          2,
          2,
          3,
          4,
          4,
          4,
          5,
          6,
          6,
          6,
          7,
          8,
          8,
          8,
          9,
          10,
          10,
          10,
          11,
          12,
          12,
          12,
          13,
          14,
          14,
          14,
          15,
          16,
          16,
          16,
          17,
          18,
          18,
          18,
          19,
          20,
          20,
          20,
          21,
          22,
          22,
          22,
          23,
          24,
          24,
          24,
          25,
          26,
          26,
          26,
          27,
          28,
          28,
          28,
          29,
          30,
          30,
          30,
          31,
          32,
          32,
          32,
          33,
          34,
          34,
          34,
          35,
          36,
          36,
          36,
          37,
          38,
          38,
          38,
          39,
          0,
          0,
          0,
          1,
          2,
          2,
          2,
          3,
          4,
          4,
          4,
          5,
          6,
          6,
          6,
          7,
          8,
          8,
          8,
          9,
          10,
          10,
          10,
          11,
          12,
          12,
          12,
          13,
          14,
          14,
          14,
          15,
          16,
          16,
          16,
          17,
          18,
          18,
          18,
          19,
          20,
          20,
          20,
          21,
          22,
          22,
          22,
          23,
          24,
          24,
          24,
          25,
          26,
          26,
          26,
          27,
          28,
          28,
          28,
          29,
          30,
          30,
          30,
          31,
          32,
          32,
          32,
          33,
          34,
          34,
          34,
          35,
          36,
          36,
          36,
          37,
          38,
          38,
          38,
          39,
          0,
          0,
          0,
          1,
          2,
          2,
          2,
          3,
          4,
          4,
          4,
          5,
          6,
          6,
          6,
          7,
          8,
          8,
          8,
          9,
          10,
          10,
          10,
          11,
          12,
          12,
          12,
          13,
          14,
          14,
          14,
          15,
          16,
          16,
          16,
          17,
          18,
          18,
          18,
          19,
          20,
          20,
          20,
          21,
          22,
          22,
          22,
          23,
          24,
          24,
          24,
          25,
          26,
          26,
          26,
          27,
          28,
          28,
          28,
          29,
          30,
          30,
          30,
          31,
          32,
          32,
          32,
          33,
          34,
          34,
          34,
          35,
          36,
          36,
          36,
          37,
          38,
          38,
          38,
          39,
          0,
          0,
          0,
          1,
          2,
          2,
          2,
          3,
          4,
          4,
          4,
          5,
          6,
          6,
          6,
          7,
          8,
          8,
          8,
          9,
          10,
          10,
          10,
          11,
          12,
          12,
          12,
          13,
          14,
          14,
          14,
          15,
          16,
          16,
          16,
          17,
          18,
          18,
          18,
          19,
          20,
          20,
          20,
          21,
          22,
          22,
          22,
          23,
          24,
          24,
          24,
          25,
          26,
          26,
          26,
          27,
          28,
          28,
          28,
          29,
          30,
          30,
          30,
          31,
          32,
          32,
          32,
          33,
          34,
          34,
          34,
          35,
          36,
          36,
          36,
          37,
          38,
          38,
          38,
          39,
          0,
          0,
          0,
          1,
          2,
          2,
          2,
          3,
          4,
          4,
          4,
          5,
          6,
          6,
          6,
          7,
          8,
          8,
          8,
          9,
          10,
          10,
          10,
          11,
          12,
          12,
          12,
          13,
          14,
          14,
          14,
          15,
          16,
          16,
          16,
          17,
          18,
          18,
          18,
          19,
          20,
          20,
          20,
          21,
          22,
          22,
          22,
          23,
          24,
          24,
          24,
          25,
          26,
          26,
          26,
          27,
          28,
          28,
          28,
          29,
          30,
          30,
          30,
          31,
          32,
          32,
          32,
          33,
          34,
          34,
          34,
          35,
          36,
          36,
          36,
          37,
          38,
          38,
          38,
          39,
          0,
          0,
          0,
          1,
          2,
          2,
          2,
          3,
          4,
          4,
          4,
          5,
          6,
          6,
          6,
          7,
          8,
          8,
          8,
          9,
          10,
          10,
          10,
          11,
          12,
          12,
          12,
          13,
          14,
          14,
          14,
          15,
          16,
          16,
          16,
          17,
          18,
          18,
          18,
          19,
          20,
          20,
          20,
          21,
          22,
          22,
          22,
          23,
          24,
          24,
          24,
          25,
          26,
          26,
          26,
          27,
          28,
          28,
          28,
          29,
          30,
          30,
          30,
          31,
          32,
          32,
          32,
          33,
          34,
          34,
          34,
          35,
          36,
          36,
          36,
          37,
          38,
          38,
          38,
          39,
          0,
          1,
          2,
          3,
          4,
          5,
          6,
          7,
          8,
          9,
          10,
          11,
          12,
          13,
          14,
          15,
          16,
          17,
          18,
          19,
          20,
          21,
          22,
          23,
          24,
          25,
          26,
          27,
          28,
          29,
          30,
          31,
          32,
          33,
          34,
          35,
          36,
          37,
          38,
          39
         ],
         "z": [
          0,
          0,
          0,
          0,
          0,
          0,
          0,
          0,
          0,
          0,
          0,
          0,
          0,
          0,
          0,
          0,
          0,
          0,
          0,
          0,
          0,
          0,
          0,
          0,
          0,
          0,
          0,
          0,
          0,
          0,
          0,
          0,
          0,
          0,
          0,
          0,
          0,
          0,
          0,
          0,
          0,
          1,
          2,
          0,
          0,
          1,
          2,
          0,
          0,
          1,
          2,
          0,
          0,
          1,
          2,
          0,
          0,
          1,
          2,
          0,
          0,
          1,
          2,
          0,
          0,
          1,
          2,
          0,
          0,
          1,
          2,
          0,
          0,
          1,
          2,
          0,
          0,
          1,
          2,
          0,
          0,
          1,
          2,
          0,
          0,
          1,
          2,
          0,
          0,
          1,
          2,
          0,
          0,
          1,
          2,
          0,
          0,
          1,
          2,
          0,
          0,
          1,
          2,
          0,
          0,
          1,
          2,
          0,
          0,
          1,
          2,
          0,
          0,
          1,
          2,
          0,
          0,
          1,
          2,
          0,
          0,
          1,
          2,
          0,
          0,
          1,
          2,
          0,
          0,
          1,
          2,
          0,
          0,
          1,
          2,
          0,
          0,
          1,
          2,
          0,
          0,
          1,
          2,
          0,
          0,
          1,
          2,
          0,
          0,
          1,
          2,
          0,
          0,
          1,
          2,
          0,
          0,
          1,
          2,
          0,
          0,
          1,
          2,
          0,
          0,
          1,
          2,
          0,
          0,
          1,
          2,
          0,
          0,
          1,
          2,
          0,
          0,
          1,
          2,
          0,
          0,
          1,
          2,
          0,
          0,
          1,
          2,
          0,
          0,
          1,
          2,
          0,
          0,
          1,
          2,
          0,
          0,
          1,
          2,
          0,
          0,
          1,
          2,
          0,
          0,
          1,
          2,
          0,
          0,
          1,
          2,
          0,
          0,
          1,
          2,
          0,
          0,
          1,
          2,
          0,
          0,
          1,
          2,
          0,
          0,
          1,
          2,
          0,
          0,
          1,
          2,
          0,
          0,
          1,
          2,
          0,
          0,
          1,
          2,
          0,
          0,
          1,
          2,
          0,
          0,
          1,
          2,
          0,
          0,
          1,
          2,
          0,
          0,
          1,
          2,
          0,
          0,
          1,
          2,
          0,
          0,
          1,
          2,
          0,
          0,
          1,
          2,
          0,
          0,
          1,
          2,
          0,
          0,
          1,
          2,
          0,
          0,
          1,
          2,
          0,
          0,
          1,
          2,
          0,
          0,
          1,
          2,
          0,
          0,
          1,
          2,
          0,
          0,
          1,
          2,
          0,
          0,
          1,
          2,
          0,
          0,
          1,
          2,
          0,
          0,
          1,
          2,
          0,
          0,
          1,
          2,
          0,
          0,
          1,
          2,
          0,
          0,
          1,
          2,
          0,
          0,
          1,
          2,
          0,
          0,
          1,
          2,
          0,
          0,
          1,
          2,
          0,
          0,
          1,
          2,
          0,
          0,
          1,
          2,
          0,
          0,
          1,
          2,
          0,
          0,
          1,
          2,
          0,
          0,
          1,
          2,
          0,
          0,
          1,
          2,
          0,
          0,
          1,
          2,
          0,
          0,
          1,
          2,
          0,
          0,
          1,
          2,
          0,
          0,
          1,
          2,
          0,
          0,
          1,
          2,
          0,
          0,
          1,
          2,
          0,
          0,
          1,
          2,
          0,
          0,
          1,
          2,
          0,
          0,
          1,
          2,
          0,
          0,
          1,
          2,
          0,
          0,
          1,
          2,
          0,
          0,
          1,
          2,
          0,
          0,
          1,
          2,
          0,
          0,
          1,
          2,
          0,
          0,
          1,
          2,
          0,
          0,
          1,
          2,
          0,
          0,
          1,
          2,
          0,
          0,
          1,
          2,
          0,
          0,
          1,
          2,
          0,
          0,
          1,
          2,
          0,
          0,
          1,
          2,
          0,
          0,
          1,
          2,
          0,
          0,
          1,
          2,
          0,
          0,
          1,
          2,
          0,
          0,
          1,
          2,
          0,
          0,
          1,
          2,
          0,
          0,
          1,
          2,
          0,
          0,
          1,
          2,
          0,
          0,
          1,
          2,
          0,
          0,
          1,
          2,
          0,
          0,
          1,
          2,
          0,
          0,
          1,
          2,
          0,
          0,
          1,
          2,
          0,
          0,
          1,
          2,
          0,
          0,
          1,
          2,
          0,
          0,
          1,
          2,
          0,
          0,
          1,
          2,
          0,
          0,
          1,
          2,
          0,
          0,
          1,
          2,
          0,
          0,
          1,
          2,
          0,
          0,
          1,
          2,
          0,
          0,
          1,
          2,
          0,
          0,
          1,
          2,
          0,
          0,
          1,
          2,
          0,
          0,
          1,
          2,
          0,
          0,
          1,
          2,
          0,
          0,
          1,
          2,
          0,
          0,
          1,
          2,
          0,
          0,
          1,
          2,
          0,
          0,
          1,
          2,
          0,
          0,
          1,
          2,
          0,
          0,
          1,
          2,
          0,
          0,
          1,
          2,
          0,
          0,
          1,
          2,
          0,
          0,
          1,
          2,
          0,
          0,
          1,
          2,
          0,
          0,
          1,
          2,
          0,
          0,
          1,
          2,
          0,
          0,
          1,
          2,
          0,
          0,
          1,
          2,
          0,
          0,
          1,
          2,
          0,
          0,
          1,
          2,
          0,
          0,
          1,
          2,
          0,
          0,
          1,
          2,
          0,
          0,
          1,
          2,
          0,
          0,
          1,
          2,
          0,
          0,
          1,
          2,
          0,
          0,
          1,
          2,
          0,
          0,
          1,
          2,
          0,
          0,
          1,
          2,
          0,
          0,
          1,
          2,
          0,
          0,
          1,
          2,
          0,
          0,
          1,
          2,
          0,
          0,
          1,
          2,
          0,
          0,
          1,
          2,
          0,
          0,
          1,
          2,
          0,
          0,
          1,
          2,
          0,
          0,
          1,
          2,
          0,
          0,
          1,
          2,
          0,
          0,
          1,
          2,
          0,
          0,
          1,
          2,
          0,
          0,
          1,
          2,
          0,
          0,
          1,
          2,
          0,
          0,
          1,
          2,
          0,
          0,
          1,
          2,
          0,
          0,
          1,
          2,
          0,
          0,
          1,
          2,
          0,
          0,
          1,
          2,
          0,
          0,
          1,
          2,
          0,
          0,
          1,
          2,
          0,
          0,
          1,
          2,
          0,
          0,
          1,
          2,
          0,
          0,
          1,
          2,
          0,
          0,
          1,
          2,
          0,
          0,
          1,
          2,
          0,
          0,
          1,
          2,
          0,
          0,
          1,
          2,
          0,
          0,
          1,
          2,
          0,
          0,
          1,
          2,
          0,
          0,
          1,
          2,
          0,
          0,
          1,
          2,
          0,
          0,
          1,
          2,
          0,
          0,
          1,
          2,
          0,
          0,
          1,
          2,
          0,
          0,
          1,
          2,
          0,
          0,
          1,
          2,
          0,
          0,
          1,
          2,
          0,
          0,
          1,
          2,
          0,
          0,
          1,
          2,
          0,
          0,
          1,
          2,
          0,
          0,
          1,
          2,
          0,
          0,
          1,
          2,
          0,
          0,
          1,
          2,
          0,
          0,
          1,
          2,
          0,
          0,
          1,
          2,
          0,
          0,
          1,
          2,
          0,
          0,
          1,
          2,
          0,
          0,
          1,
          2,
          0,
          0,
          1,
          2,
          0,
          0,
          1,
          2,
          0,
          0,
          1,
          2,
          0,
          0,
          1,
          2,
          0,
          0,
          1,
          2,
          0,
          0,
          1,
          2,
          0,
          0,
          1,
          2,
          0,
          0,
          1,
          2,
          0,
          0,
          1,
          2,
          0,
          0,
          1,
          2,
          0,
          0,
          1,
          2,
          0,
          0,
          1,
          2,
          0,
          0,
          1,
          2,
          0,
          0,
          1,
          2,
          0,
          0,
          1,
          2,
          0,
          0,
          1,
          2,
          0,
          0,
          1,
          2,
          0,
          0,
          1,
          2,
          0,
          0,
          1,
          2,
          0,
          0,
          1,
          2,
          0,
          0,
          1,
          2,
          0,
          0,
          1,
          2,
          0,
          0,
          1,
          2,
          0,
          0,
          1,
          2,
          0,
          0,
          1,
          2,
          0,
          0,
          1,
          2,
          0,
          0,
          1,
          2,
          0,
          0,
          1,
          2,
          0,
          0,
          1,
          2,
          0,
          0,
          1,
          2,
          0,
          0,
          1,
          2,
          0,
          0,
          1,
          2,
          0,
          0,
          1,
          2,
          0,
          0,
          1,
          2,
          0,
          0,
          1,
          2,
          0,
          0,
          1,
          2,
          0,
          0,
          1,
          2,
          0,
          0,
          1,
          2,
          0,
          0,
          1,
          2,
          0,
          0,
          1,
          2,
          0,
          0,
          1,
          2,
          0,
          0,
          1,
          2,
          0,
          0,
          1,
          2,
          0,
          0,
          1,
          2,
          0,
          0,
          1,
          2,
          0,
          0,
          1,
          2,
          0,
          0,
          1,
          2,
          0,
          0,
          1,
          2,
          0,
          0,
          1,
          2,
          0,
          0,
          1,
          2,
          0,
          0,
          1,
          2,
          0,
          0,
          1,
          2,
          0,
          0,
          1,
          2,
          0,
          0,
          1,
          2,
          0,
          0,
          1,
          2,
          0,
          0,
          1,
          2,
          0,
          0,
          1,
          2,
          0,
          0,
          1,
          2,
          0,
          0,
          1,
          2,
          0,
          0,
          1,
          2,
          0,
          0,
          1,
          2,
          0,
          0,
          1,
          2,
          0,
          0,
          1,
          2,
          0,
          0,
          1,
          2,
          0,
          0,
          1,
          2,
          0,
          0,
          1,
          2,
          0,
          0,
          1,
          2,
          0,
          0,
          1,
          2,
          0,
          0,
          1,
          2,
          0,
          0,
          1,
          2,
          0,
          0,
          1,
          2,
          0,
          0,
          1,
          2,
          0,
          0,
          1,
          2,
          0,
          0,
          1,
          2,
          0,
          0,
          1,
          2,
          0,
          0,
          1,
          2,
          0,
          0,
          1,
          2,
          0,
          0,
          1,
          2,
          0,
          0,
          1,
          2,
          0,
          0,
          1,
          2,
          0,
          0,
          1,
          2,
          0,
          0,
          1,
          2,
          0,
          0,
          1,
          2,
          0,
          0,
          1,
          2,
          0,
          0,
          1,
          2,
          0,
          0,
          1,
          2,
          0,
          0,
          1,
          2,
          0,
          0,
          1,
          2,
          0,
          0,
          1,
          2,
          0,
          0,
          1,
          2,
          0,
          0,
          1,
          2,
          0,
          0,
          1,
          2,
          0,
          0,
          1,
          2,
          0,
          0,
          1,
          2,
          0,
          0,
          1,
          2,
          0,
          0,
          1,
          2,
          0,
          0,
          1,
          2,
          0,
          0,
          1,
          2,
          0,
          0,
          1,
          2,
          0,
          0,
          1,
          2,
          0,
          0,
          1,
          2,
          0,
          0,
          1,
          2,
          0,
          0,
          1,
          2,
          0,
          0,
          1,
          2,
          0,
          0,
          1,
          2,
          0,
          0,
          1,
          2,
          0,
          0,
          1,
          2,
          0,
          0,
          1,
          2,
          0,
          0,
          1,
          2,
          0,
          0,
          1,
          2,
          0,
          0,
          1,
          2,
          0,
          0,
          1,
          2,
          0,
          0,
          1,
          2,
          0,
          0,
          1,
          2,
          0,
          0,
          1,
          2,
          0,
          0,
          1,
          2,
          0,
          0,
          1,
          2,
          0,
          0,
          1,
          2,
          0,
          0,
          1,
          2,
          0,
          0,
          1,
          2,
          0,
          0,
          1,
          2,
          0,
          0,
          1,
          2,
          0,
          0,
          1,
          2,
          0,
          0,
          1,
          2,
          0,
          0,
          1,
          2,
          0,
          0,
          1,
          2,
          0,
          0,
          1,
          2,
          0,
          0,
          1,
          2,
          0,
          0,
          1,
          2,
          0,
          0,
          1,
          2,
          0,
          0,
          1,
          2,
          0,
          0,
          1,
          2,
          0,
          0,
          1,
          2,
          0,
          0,
          1,
          2,
          0,
          0,
          1,
          2,
          0,
          0,
          1,
          2,
          0,
          0,
          1,
          2,
          0,
          0,
          1,
          2,
          0,
          0,
          1,
          2,
          0,
          0,
          1,
          2,
          0,
          0,
          1,
          2,
          0,
          0,
          1,
          2,
          0,
          0,
          1,
          2,
          0,
          0,
          1,
          2,
          0,
          0,
          1,
          2,
          0,
          0,
          1,
          2,
          0,
          0,
          1,
          2,
          0,
          0,
          1,
          2,
          0,
          0,
          1,
          2,
          0,
          0,
          1,
          2,
          0,
          0,
          1,
          2,
          0,
          0,
          1,
          2,
          0,
          0,
          1,
          2,
          0,
          0,
          1,
          2,
          0,
          0,
          1,
          2,
          0,
          0,
          1,
          2,
          0,
          0,
          1,
          2,
          0,
          0,
          1,
          2,
          0,
          0,
          1,
          2,
          0,
          0,
          1,
          2,
          0,
          0,
          1,
          2,
          0,
          0,
          1,
          2,
          0,
          0,
          1,
          2,
          0,
          0,
          1,
          2,
          0,
          0,
          1,
          2,
          0,
          0,
          1,
          2,
          0,
          0,
          1,
          2,
          0,
          0,
          1,
          2,
          0,
          0,
          1,
          2,
          0,
          0,
          1,
          2,
          0,
          0,
          1,
          2,
          0,
          0,
          1,
          2,
          0,
          0,
          1,
          2,
          0,
          0,
          1,
          2,
          0,
          0,
          1,
          2,
          0,
          0,
          1,
          2,
          0,
          0,
          1,
          2,
          0,
          0,
          1,
          2,
          0,
          0,
          1,
          2,
          0,
          0,
          1,
          2,
          0,
          0,
          1,
          2,
          0,
          0,
          1,
          2,
          0,
          0,
          1,
          2,
          0,
          0,
          1,
          2,
          0,
          0,
          1,
          2,
          0,
          0,
          1,
          2,
          0,
          0,
          1,
          2,
          0,
          0,
          1,
          2,
          0,
          0,
          1,
          2,
          0,
          0,
          1,
          2,
          0,
          0,
          1,
          2,
          0,
          0,
          1,
          2,
          0,
          0,
          1,
          2,
          0,
          0,
          1,
          2,
          0,
          0,
          1,
          2,
          0,
          0,
          1,
          2,
          0,
          0,
          1,
          2,
          0,
          0,
          1,
          2,
          0,
          0,
          1,
          2,
          0,
          0,
          1,
          2,
          0,
          0,
          1,
          2,
          0,
          0,
          1,
          2,
          0,
          0,
          1,
          2,
          0,
          0,
          1,
          2,
          0,
          0,
          1,
          2,
          0,
          0,
          1,
          2,
          0,
          0,
          1,
          2,
          0,
          0,
          1,
          2,
          0,
          0,
          1,
          2,
          0,
          0,
          1,
          2,
          0,
          0,
          1,
          2,
          0,
          0,
          1,
          2,
          0,
          0,
          1,
          2,
          0,
          0,
          1,
          2,
          0,
          0,
          1,
          2,
          0,
          0,
          1,
          2,
          0,
          0,
          1,
          2,
          0,
          0,
          1,
          2,
          0,
          0,
          1,
          2,
          0,
          0,
          1,
          2,
          0,
          0,
          1,
          2,
          0,
          0,
          1,
          2,
          0,
          0,
          1,
          2,
          0,
          0,
          1,
          2,
          0,
          0,
          1,
          2,
          0,
          0,
          1,
          2,
          0,
          0,
          1,
          2,
          0,
          0,
          1,
          2,
          0,
          0,
          1,
          2,
          0,
          0,
          1,
          2,
          0,
          0,
          1,
          2,
          0,
          0,
          1,
          2,
          0,
          0,
          1,
          2,
          0,
          0,
          1,
          2,
          0,
          0,
          1,
          2,
          0,
          0,
          1,
          2,
          0,
          0,
          1,
          2,
          0,
          0,
          1,
          2,
          0,
          0,
          1,
          2,
          0,
          0,
          1,
          2,
          0,
          0,
          1,
          2,
          0,
          0,
          1,
          2,
          0,
          0,
          1,
          2,
          0,
          0,
          1,
          2,
          0,
          0,
          1,
          2,
          0,
          0,
          1,
          2,
          0,
          0,
          1,
          2,
          0,
          0,
          1,
          2,
          0,
          0,
          1,
          2,
          0,
          0,
          1,
          2,
          0,
          0,
          1,
          2,
          0,
          0,
          1,
          2,
          0,
          0,
          1,
          2,
          0,
          0,
          1,
          2,
          0,
          0,
          1,
          2,
          0,
          0,
          1,
          2,
          0,
          0,
          1,
          2,
          0,
          0,
          1,
          2,
          0,
          0,
          1,
          2,
          0,
          0,
          1,
          2,
          0,
          0,
          1,
          2,
          0,
          0,
          1,
          2,
          0,
          0,
          1,
          2,
          0,
          0,
          1,
          2,
          0,
          0,
          1,
          2,
          0,
          0,
          1,
          2,
          0,
          0,
          1,
          2,
          0,
          0,
          1,
          2,
          0,
          0,
          1,
          2,
          0,
          0,
          1,
          2,
          0,
          0,
          1,
          2,
          0,
          0,
          1,
          2,
          0,
          0,
          1,
          2,
          0,
          0,
          1,
          2,
          0,
          0,
          1,
          2,
          0,
          0,
          1,
          2,
          0,
          0,
          1,
          2,
          0,
          0,
          1,
          2,
          0,
          0,
          1,
          2,
          0,
          0,
          1,
          2,
          0,
          0,
          1,
          2,
          0,
          0,
          1,
          2,
          0,
          0,
          1,
          2,
          0,
          0,
          1,
          2,
          0,
          0,
          1,
          2,
          0,
          0,
          1,
          2,
          0,
          0,
          1,
          2,
          0,
          0,
          1,
          2,
          0,
          0,
          1,
          2,
          0,
          0,
          1,
          2,
          0,
          0,
          1,
          2,
          0,
          0,
          1,
          2,
          0,
          0,
          1,
          2,
          0,
          0,
          1,
          2,
          0,
          0,
          1,
          2,
          0,
          0,
          1,
          2,
          0,
          0,
          1,
          2,
          0,
          0,
          1,
          2,
          0,
          0,
          1,
          2,
          0,
          0,
          1,
          2,
          0,
          0,
          1,
          2,
          0,
          0,
          1,
          2,
          0,
          0,
          1,
          2,
          0,
          0,
          1,
          2,
          0,
          0,
          1,
          2,
          0,
          0,
          1,
          2,
          0,
          0,
          1,
          2,
          0,
          0,
          1,
          2,
          0,
          0,
          1,
          2,
          0,
          0,
          1,
          2,
          0,
          0,
          1,
          2,
          0,
          0,
          1,
          2,
          0,
          0,
          1,
          2,
          0,
          0,
          1,
          2,
          0,
          0,
          1,
          2,
          0,
          0,
          1,
          2,
          0,
          0,
          1,
          2,
          0,
          0,
          1,
          2,
          0,
          0,
          1,
          2,
          0,
          0,
          1,
          2,
          0,
          0,
          1,
          2,
          0,
          0,
          1,
          2,
          0,
          0,
          1,
          2,
          0,
          0,
          1,
          2,
          0,
          0,
          1,
          2,
          0,
          0,
          1,
          2,
          0,
          0,
          1,
          2,
          0,
          0,
          1,
          2,
          0,
          0,
          1,
          2,
          0,
          0,
          1,
          2,
          0,
          0,
          1,
          2,
          0,
          0,
          1,
          2,
          0,
          0,
          1,
          2,
          0,
          0,
          1,
          2,
          0,
          0,
          1,
          2,
          0,
          0,
          1,
          2,
          0,
          0,
          1,
          2,
          0,
          0,
          1,
          2,
          0,
          0,
          1,
          2,
          0,
          0,
          1,
          2,
          0,
          0,
          1,
          2,
          0,
          0,
          1,
          2,
          0,
          0,
          1,
          2,
          0,
          0,
          1,
          2,
          0,
          0,
          1,
          2,
          0,
          0,
          1,
          2,
          0,
          0,
          1,
          2,
          0,
          0,
          1,
          2,
          0,
          0,
          1,
          2,
          0,
          0,
          1,
          2,
          0,
          0,
          1,
          2,
          0,
          0,
          1,
          2,
          0,
          0,
          1,
          2,
          0,
          0,
          1,
          2,
          0,
          0,
          1,
          2,
          0,
          0,
          1,
          2,
          0,
          0,
          1,
          2,
          0,
          0,
          1,
          2,
          0,
          0,
          1,
          2,
          0,
          0,
          1,
          2,
          0,
          0,
          1,
          2,
          0,
          0,
          1,
          2,
          0,
          0,
          1,
          2,
          0,
          0,
          1,
          2,
          0,
          0,
          1,
          2,
          0,
          0,
          1,
          2,
          0,
          0,
          1,
          2,
          0,
          0,
          1,
          2,
          0,
          0,
          1,
          2,
          0,
          0,
          1,
          2,
          0,
          0,
          1,
          2,
          0,
          0,
          1,
          2,
          0,
          0,
          1,
          2,
          0,
          0,
          1,
          2,
          0,
          0,
          1,
          2,
          0,
          0,
          1,
          2,
          0,
          0,
          1,
          2,
          0,
          0,
          1,
          2,
          0,
          0,
          1,
          2,
          0,
          0,
          1,
          2,
          0,
          0,
          1,
          2,
          0,
          0,
          1,
          2,
          0,
          0,
          1,
          2,
          0,
          0,
          1,
          2,
          0,
          0,
          1,
          2,
          0,
          0,
          1,
          2,
          0,
          0,
          1,
          2,
          0,
          0,
          1,
          2,
          0,
          0,
          1,
          2,
          0,
          0,
          1,
          2,
          0,
          0,
          1,
          2,
          0,
          0,
          1,
          2,
          0,
          0,
          1,
          2,
          0,
          0,
          1,
          2,
          0,
          0,
          1,
          2,
          0,
          0,
          1,
          2,
          0,
          0,
          1,
          2,
          0,
          0,
          1,
          2,
          0,
          0,
          1,
          2,
          0,
          0,
          1,
          2,
          0,
          0,
          1,
          2,
          0,
          0,
          1,
          2,
          0,
          0,
          1,
          2,
          0,
          0,
          1,
          2,
          0,
          0,
          1,
          2,
          0,
          0,
          1,
          2,
          0,
          0,
          1,
          2,
          0,
          0,
          1,
          2,
          0,
          0,
          1,
          2,
          0,
          0,
          1,
          2,
          0,
          0,
          1,
          2,
          0,
          0,
          1,
          2,
          0,
          0,
          1,
          2,
          0,
          0,
          1,
          2,
          0,
          0,
          1,
          2,
          0,
          0,
          1,
          2,
          0,
          0,
          1,
          2,
          0,
          0,
          1,
          2,
          0,
          0,
          1,
          2,
          0,
          0,
          1,
          2,
          0,
          0,
          1,
          2,
          0,
          0,
          1,
          2,
          0,
          0,
          1,
          2,
          0,
          0,
          1,
          2,
          0,
          0,
          1,
          2,
          0,
          0,
          1,
          2,
          0,
          0,
          1,
          2,
          0,
          0,
          1,
          2,
          0,
          0,
          1,
          2,
          0,
          0,
          1,
          2,
          0,
          0,
          1,
          2,
          0,
          0,
          1,
          2,
          0,
          0,
          1,
          2,
          0,
          0,
          1,
          2,
          0,
          0,
          1,
          2,
          0,
          0,
          1,
          2,
          0,
          0,
          1,
          2,
          0,
          0,
          1,
          2,
          0,
          0,
          1,
          2,
          0,
          0,
          1,
          2,
          0,
          0,
          1,
          2,
          0,
          0,
          1,
          2,
          0,
          0,
          1,
          2,
          0,
          0,
          1,
          2,
          0,
          0,
          1,
          2,
          0,
          0,
          1,
          2,
          0,
          0,
          1,
          2,
          0,
          0,
          1,
          2,
          0,
          0,
          1,
          2,
          0,
          0,
          1,
          2,
          0,
          0,
          1,
          2,
          0,
          0,
          1,
          2,
          0,
          0,
          1,
          2,
          0,
          0,
          1,
          2,
          0,
          0,
          1,
          2,
          0,
          0,
          1,
          2,
          0,
          0,
          1,
          2,
          0,
          0,
          1,
          2,
          0,
          0,
          1,
          2,
          0,
          0,
          1,
          2,
          0,
          0,
          1,
          2,
          0,
          0,
          1,
          2,
          0,
          0,
          1,
          2,
          0,
          0,
          1,
          2,
          0,
          0,
          1,
          2,
          0,
          0,
          1,
          2,
          0,
          0,
          1,
          2,
          0,
          0,
          1,
          2,
          0,
          0,
          1,
          2,
          0,
          0,
          1,
          2,
          0,
          0,
          1,
          2,
          0,
          0,
          1,
          2,
          0,
          0,
          1,
          2,
          0,
          0,
          1,
          2,
          0,
          0,
          1,
          2,
          0,
          0,
          1,
          2,
          0,
          0,
          1,
          2,
          0,
          0,
          1,
          2,
          0,
          0,
          1,
          2,
          0,
          0,
          1,
          2,
          0,
          0,
          1,
          2,
          0,
          0,
          1,
          2,
          0,
          0,
          1,
          2,
          0,
          0,
          1,
          2,
          0,
          0,
          1,
          2,
          0,
          0,
          1,
          2,
          0,
          0,
          1,
          2,
          0,
          0,
          1,
          2,
          0,
          0,
          1,
          2,
          0,
          0,
          1,
          2,
          0,
          0,
          1,
          2,
          0,
          0,
          1,
          2,
          0,
          0,
          1,
          2,
          0,
          0,
          1,
          2,
          0,
          0,
          1,
          2,
          0,
          0,
          1,
          2,
          0,
          0,
          1,
          2,
          0,
          0,
          1,
          2,
          0,
          0,
          1,
          2,
          0,
          0,
          1,
          2,
          0,
          0,
          1,
          2,
          0,
          0,
          1,
          2,
          0,
          0,
          1,
          2,
          0,
          0,
          1,
          2,
          0,
          0,
          1,
          2,
          0,
          0,
          1,
          2,
          0,
          0,
          1,
          2,
          0,
          0,
          1,
          2,
          0,
          0,
          1,
          2,
          0,
          0,
          1,
          2,
          0,
          0,
          1,
          2,
          0,
          0,
          1,
          2,
          0,
          0,
          1,
          2,
          0,
          0,
          1,
          2,
          0,
          0,
          1,
          2,
          0,
          0,
          1,
          2,
          0,
          0,
          1,
          2,
          0,
          0,
          1,
          2,
          0,
          0,
          1,
          2,
          0,
          0,
          1,
          2,
          0,
          0,
          1,
          2,
          0,
          0,
          1,
          2,
          0,
          0,
          1,
          2,
          0,
          0,
          1,
          2,
          0,
          0,
          1,
          2,
          0,
          0,
          1,
          2,
          0,
          0,
          1,
          2,
          0,
          0,
          1,
          2,
          0,
          0,
          1,
          2,
          0,
          0,
          1,
          2,
          0,
          0,
          1,
          2,
          0,
          0,
          1,
          2,
          0,
          0,
          1,
          2,
          0,
          0,
          1,
          2,
          0,
          0,
          1,
          2,
          0,
          0,
          1,
          2,
          0,
          0,
          1,
          2,
          0,
          0,
          1,
          2,
          0,
          0,
          1,
          2,
          0,
          0,
          1,
          2,
          0,
          0,
          1,
          2,
          0,
          0,
          1,
          2,
          0,
          0,
          1,
          2,
          0,
          0,
          1,
          2,
          0,
          0,
          1,
          2,
          0,
          0,
          1,
          2,
          0,
          0,
          1,
          2,
          0,
          0,
          1,
          2,
          0,
          0,
          1,
          2,
          0,
          0,
          1,
          2,
          0,
          0,
          1,
          2,
          0,
          0,
          1,
          2,
          0,
          0,
          1,
          2,
          0,
          0,
          1,
          2,
          0,
          0,
          1,
          2,
          0,
          0,
          1,
          2,
          0,
          0,
          1,
          2,
          0,
          0,
          1,
          2,
          0,
          0,
          1,
          2,
          0,
          0,
          1,
          2,
          0,
          0,
          1,
          2,
          0,
          0,
          1,
          2,
          0,
          0,
          1,
          2,
          0,
          0,
          0,
          0,
          0,
          0,
          0,
          0,
          0,
          0,
          0,
          0,
          0,
          0,
          0,
          0,
          0,
          0,
          0,
          0,
          0,
          0,
          0,
          0,
          0,
          0,
          0,
          0,
          0,
          0,
          0,
          0,
          0,
          0,
          0,
          0,
          0,
          0,
          0,
          0,
          0
         ]
        }
       ],
       "layout": {
        "template": {
         "data": {
          "bar": [
           {
            "error_x": {
             "color": "#2a3f5f"
            },
            "error_y": {
             "color": "#2a3f5f"
            },
            "marker": {
             "line": {
              "color": "#E5ECF6",
              "width": 0.5
             },
             "pattern": {
              "fillmode": "overlay",
              "size": 10,
              "solidity": 0.2
             }
            },
            "type": "bar"
           }
          ],
          "barpolar": [
           {
            "marker": {
             "line": {
              "color": "#E5ECF6",
              "width": 0.5
             },
             "pattern": {
              "fillmode": "overlay",
              "size": 10,
              "solidity": 0.2
             }
            },
            "type": "barpolar"
           }
          ],
          "carpet": [
           {
            "aaxis": {
             "endlinecolor": "#2a3f5f",
             "gridcolor": "white",
             "linecolor": "white",
             "minorgridcolor": "white",
             "startlinecolor": "#2a3f5f"
            },
            "baxis": {
             "endlinecolor": "#2a3f5f",
             "gridcolor": "white",
             "linecolor": "white",
             "minorgridcolor": "white",
             "startlinecolor": "#2a3f5f"
            },
            "type": "carpet"
           }
          ],
          "choropleth": [
           {
            "colorbar": {
             "outlinewidth": 0,
             "ticks": ""
            },
            "type": "choropleth"
           }
          ],
          "contour": [
           {
            "colorbar": {
             "outlinewidth": 0,
             "ticks": ""
            },
            "colorscale": [
             [
              0,
              "#0d0887"
             ],
             [
              0.1111111111111111,
              "#46039f"
             ],
             [
              0.2222222222222222,
              "#7201a8"
             ],
             [
              0.3333333333333333,
              "#9c179e"
             ],
             [
              0.4444444444444444,
              "#bd3786"
             ],
             [
              0.5555555555555556,
              "#d8576b"
             ],
             [
              0.6666666666666666,
              "#ed7953"
             ],
             [
              0.7777777777777778,
              "#fb9f3a"
             ],
             [
              0.8888888888888888,
              "#fdca26"
             ],
             [
              1,
              "#f0f921"
             ]
            ],
            "type": "contour"
           }
          ],
          "contourcarpet": [
           {
            "colorbar": {
             "outlinewidth": 0,
             "ticks": ""
            },
            "type": "contourcarpet"
           }
          ],
          "heatmap": [
           {
            "colorbar": {
             "outlinewidth": 0,
             "ticks": ""
            },
            "colorscale": [
             [
              0,
              "#0d0887"
             ],
             [
              0.1111111111111111,
              "#46039f"
             ],
             [
              0.2222222222222222,
              "#7201a8"
             ],
             [
              0.3333333333333333,
              "#9c179e"
             ],
             [
              0.4444444444444444,
              "#bd3786"
             ],
             [
              0.5555555555555556,
              "#d8576b"
             ],
             [
              0.6666666666666666,
              "#ed7953"
             ],
             [
              0.7777777777777778,
              "#fb9f3a"
             ],
             [
              0.8888888888888888,
              "#fdca26"
             ],
             [
              1,
              "#f0f921"
             ]
            ],
            "type": "heatmap"
           }
          ],
          "heatmapgl": [
           {
            "colorbar": {
             "outlinewidth": 0,
             "ticks": ""
            },
            "colorscale": [
             [
              0,
              "#0d0887"
             ],
             [
              0.1111111111111111,
              "#46039f"
             ],
             [
              0.2222222222222222,
              "#7201a8"
             ],
             [
              0.3333333333333333,
              "#9c179e"
             ],
             [
              0.4444444444444444,
              "#bd3786"
             ],
             [
              0.5555555555555556,
              "#d8576b"
             ],
             [
              0.6666666666666666,
              "#ed7953"
             ],
             [
              0.7777777777777778,
              "#fb9f3a"
             ],
             [
              0.8888888888888888,
              "#fdca26"
             ],
             [
              1,
              "#f0f921"
             ]
            ],
            "type": "heatmapgl"
           }
          ],
          "histogram": [
           {
            "marker": {
             "pattern": {
              "fillmode": "overlay",
              "size": 10,
              "solidity": 0.2
             }
            },
            "type": "histogram"
           }
          ],
          "histogram2d": [
           {
            "colorbar": {
             "outlinewidth": 0,
             "ticks": ""
            },
            "colorscale": [
             [
              0,
              "#0d0887"
             ],
             [
              0.1111111111111111,
              "#46039f"
             ],
             [
              0.2222222222222222,
              "#7201a8"
             ],
             [
              0.3333333333333333,
              "#9c179e"
             ],
             [
              0.4444444444444444,
              "#bd3786"
             ],
             [
              0.5555555555555556,
              "#d8576b"
             ],
             [
              0.6666666666666666,
              "#ed7953"
             ],
             [
              0.7777777777777778,
              "#fb9f3a"
             ],
             [
              0.8888888888888888,
              "#fdca26"
             ],
             [
              1,
              "#f0f921"
             ]
            ],
            "type": "histogram2d"
           }
          ],
          "histogram2dcontour": [
           {
            "colorbar": {
             "outlinewidth": 0,
             "ticks": ""
            },
            "colorscale": [
             [
              0,
              "#0d0887"
             ],
             [
              0.1111111111111111,
              "#46039f"
             ],
             [
              0.2222222222222222,
              "#7201a8"
             ],
             [
              0.3333333333333333,
              "#9c179e"
             ],
             [
              0.4444444444444444,
              "#bd3786"
             ],
             [
              0.5555555555555556,
              "#d8576b"
             ],
             [
              0.6666666666666666,
              "#ed7953"
             ],
             [
              0.7777777777777778,
              "#fb9f3a"
             ],
             [
              0.8888888888888888,
              "#fdca26"
             ],
             [
              1,
              "#f0f921"
             ]
            ],
            "type": "histogram2dcontour"
           }
          ],
          "mesh3d": [
           {
            "colorbar": {
             "outlinewidth": 0,
             "ticks": ""
            },
            "type": "mesh3d"
           }
          ],
          "parcoords": [
           {
            "line": {
             "colorbar": {
              "outlinewidth": 0,
              "ticks": ""
             }
            },
            "type": "parcoords"
           }
          ],
          "pie": [
           {
            "automargin": true,
            "type": "pie"
           }
          ],
          "scatter": [
           {
            "fillpattern": {
             "fillmode": "overlay",
             "size": 10,
             "solidity": 0.2
            },
            "type": "scatter"
           }
          ],
          "scatter3d": [
           {
            "line": {
             "colorbar": {
              "outlinewidth": 0,
              "ticks": ""
             }
            },
            "marker": {
             "colorbar": {
              "outlinewidth": 0,
              "ticks": ""
             }
            },
            "type": "scatter3d"
           }
          ],
          "scattercarpet": [
           {
            "marker": {
             "colorbar": {
              "outlinewidth": 0,
              "ticks": ""
             }
            },
            "type": "scattercarpet"
           }
          ],
          "scattergeo": [
           {
            "marker": {
             "colorbar": {
              "outlinewidth": 0,
              "ticks": ""
             }
            },
            "type": "scattergeo"
           }
          ],
          "scattergl": [
           {
            "marker": {
             "colorbar": {
              "outlinewidth": 0,
              "ticks": ""
             }
            },
            "type": "scattergl"
           }
          ],
          "scattermapbox": [
           {
            "marker": {
             "colorbar": {
              "outlinewidth": 0,
              "ticks": ""
             }
            },
            "type": "scattermapbox"
           }
          ],
          "scatterpolar": [
           {
            "marker": {
             "colorbar": {
              "outlinewidth": 0,
              "ticks": ""
             }
            },
            "type": "scatterpolar"
           }
          ],
          "scatterpolargl": [
           {
            "marker": {
             "colorbar": {
              "outlinewidth": 0,
              "ticks": ""
             }
            },
            "type": "scatterpolargl"
           }
          ],
          "scatterternary": [
           {
            "marker": {
             "colorbar": {
              "outlinewidth": 0,
              "ticks": ""
             }
            },
            "type": "scatterternary"
           }
          ],
          "surface": [
           {
            "colorbar": {
             "outlinewidth": 0,
             "ticks": ""
            },
            "colorscale": [
             [
              0,
              "#0d0887"
             ],
             [
              0.1111111111111111,
              "#46039f"
             ],
             [
              0.2222222222222222,
              "#7201a8"
             ],
             [
              0.3333333333333333,
              "#9c179e"
             ],
             [
              0.4444444444444444,
              "#bd3786"
             ],
             [
              0.5555555555555556,
              "#d8576b"
             ],
             [
              0.6666666666666666,
              "#ed7953"
             ],
             [
              0.7777777777777778,
              "#fb9f3a"
             ],
             [
              0.8888888888888888,
              "#fdca26"
             ],
             [
              1,
              "#f0f921"
             ]
            ],
            "type": "surface"
           }
          ],
          "table": [
           {
            "cells": {
             "fill": {
              "color": "#EBF0F8"
             },
             "line": {
              "color": "white"
             }
            },
            "header": {
             "fill": {
              "color": "#C8D4E3"
             },
             "line": {
              "color": "white"
             }
            },
            "type": "table"
           }
          ]
         },
         "layout": {
          "annotationdefaults": {
           "arrowcolor": "#2a3f5f",
           "arrowhead": 0,
           "arrowwidth": 1
          },
          "autotypenumbers": "strict",
          "coloraxis": {
           "colorbar": {
            "outlinewidth": 0,
            "ticks": ""
           }
          },
          "colorscale": {
           "diverging": [
            [
             0,
             "#8e0152"
            ],
            [
             0.1,
             "#c51b7d"
            ],
            [
             0.2,
             "#de77ae"
            ],
            [
             0.3,
             "#f1b6da"
            ],
            [
             0.4,
             "#fde0ef"
            ],
            [
             0.5,
             "#f7f7f7"
            ],
            [
             0.6,
             "#e6f5d0"
            ],
            [
             0.7,
             "#b8e186"
            ],
            [
             0.8,
             "#7fbc41"
            ],
            [
             0.9,
             "#4d9221"
            ],
            [
             1,
             "#276419"
            ]
           ],
           "sequential": [
            [
             0,
             "#0d0887"
            ],
            [
             0.1111111111111111,
             "#46039f"
            ],
            [
             0.2222222222222222,
             "#7201a8"
            ],
            [
             0.3333333333333333,
             "#9c179e"
            ],
            [
             0.4444444444444444,
             "#bd3786"
            ],
            [
             0.5555555555555556,
             "#d8576b"
            ],
            [
             0.6666666666666666,
             "#ed7953"
            ],
            [
             0.7777777777777778,
             "#fb9f3a"
            ],
            [
             0.8888888888888888,
             "#fdca26"
            ],
            [
             1,
             "#f0f921"
            ]
           ],
           "sequentialminus": [
            [
             0,
             "#0d0887"
            ],
            [
             0.1111111111111111,
             "#46039f"
            ],
            [
             0.2222222222222222,
             "#7201a8"
            ],
            [
             0.3333333333333333,
             "#9c179e"
            ],
            [
             0.4444444444444444,
             "#bd3786"
            ],
            [
             0.5555555555555556,
             "#d8576b"
            ],
            [
             0.6666666666666666,
             "#ed7953"
            ],
            [
             0.7777777777777778,
             "#fb9f3a"
            ],
            [
             0.8888888888888888,
             "#fdca26"
            ],
            [
             1,
             "#f0f921"
            ]
           ]
          },
          "colorway": [
           "#636efa",
           "#EF553B",
           "#00cc96",
           "#ab63fa",
           "#FFA15A",
           "#19d3f3",
           "#FF6692",
           "#B6E880",
           "#FF97FF",
           "#FECB52"
          ],
          "font": {
           "color": "#2a3f5f"
          },
          "geo": {
           "bgcolor": "white",
           "lakecolor": "white",
           "landcolor": "#E5ECF6",
           "showlakes": true,
           "showland": true,
           "subunitcolor": "white"
          },
          "hoverlabel": {
           "align": "left"
          },
          "hovermode": "closest",
          "mapbox": {
           "style": "light"
          },
          "paper_bgcolor": "white",
          "plot_bgcolor": "#E5ECF6",
          "polar": {
           "angularaxis": {
            "gridcolor": "white",
            "linecolor": "white",
            "ticks": ""
           },
           "bgcolor": "#E5ECF6",
           "radialaxis": {
            "gridcolor": "white",
            "linecolor": "white",
            "ticks": ""
           }
          },
          "scene": {
           "xaxis": {
            "backgroundcolor": "#E5ECF6",
            "gridcolor": "white",
            "gridwidth": 2,
            "linecolor": "white",
            "showbackground": true,
            "ticks": "",
            "zerolinecolor": "white"
           },
           "yaxis": {
            "backgroundcolor": "#E5ECF6",
            "gridcolor": "white",
            "gridwidth": 2,
            "linecolor": "white",
            "showbackground": true,
            "ticks": "",
            "zerolinecolor": "white"
           },
           "zaxis": {
            "backgroundcolor": "#E5ECF6",
            "gridcolor": "white",
            "gridwidth": 2,
            "linecolor": "white",
            "showbackground": true,
            "ticks": "",
            "zerolinecolor": "white"
           }
          },
          "shapedefaults": {
           "line": {
            "color": "#2a3f5f"
           }
          },
          "ternary": {
           "aaxis": {
            "gridcolor": "white",
            "linecolor": "white",
            "ticks": ""
           },
           "baxis": {
            "gridcolor": "white",
            "linecolor": "white",
            "ticks": ""
           },
           "bgcolor": "#E5ECF6",
           "caxis": {
            "gridcolor": "white",
            "linecolor": "white",
            "ticks": ""
           }
          },
          "title": {
           "x": 0.05
          },
          "xaxis": {
           "automargin": true,
           "gridcolor": "white",
           "linecolor": "white",
           "ticks": "",
           "title": {
            "standoff": 15
           },
           "zerolinecolor": "white",
           "zerolinewidth": 2
          },
          "yaxis": {
           "automargin": true,
           "gridcolor": "white",
           "linecolor": "white",
           "ticks": "",
           "title": {
            "standoff": 15
           },
           "zerolinecolor": "white",
           "zerolinewidth": 2
          }
         }
        },
        "title": {
         "text": "Warehouse Visualization"
        }
       }
      }
     },
     "metadata": {},
     "output_type": "display_data"
    }
   ],
   "source": [
    "fig.show()"
   ]
  },
  {
   "cell_type": "code",
   "execution_count": 41,
   "metadata": {},
   "outputs": [],
   "source": [
    "fig.write_json(\"render/warehouse_3d.json\")"
   ]
  },
  {
   "cell_type": "code",
   "execution_count": 54,
   "metadata": {},
   "outputs": [
    {
     "data": {
      "text/plain": [
       "Text(0.5, 0, 'z-axis')"
      ]
     },
     "execution_count": 54,
     "metadata": {},
     "output_type": "execute_result"
    },
    {
     "data": {
      "image/png": "[encoded data removed]",
      "text/plain": [
       "<Figure size 640x480 with 1 Axes>"
      ]
     },
     "metadata": {},
     "output_type": "display_data"
    }
   ],
   "source": [
    "node_xyz = np.array([warehouse.pos_dict[v] for v in sorted(warehouse.graph)])\n",
    "edge_xyz = np.array([(warehouse.pos_dict[u], warehouse.pos_dict[v]) for u, v in warehouse.graph.edges()])\n",
    "fig = plt.figure()\n",
    "ax = fig.add_subplot(111, projection=\"3d\")\n",
    "\n",
    "#plot nodes\n",
    "ax.scatter(node_xyz.T[0], node_xyz.T[1], node_xyz.T[2], s=10)\n",
    "\n",
    "# Plot the edges\n",
    "for vizedge in edge_xyz:\n",
    "    ax.plot(*vizedge.T, color=\"tab:gray\")\n",
    "\n",
    "ax.set_box_aspect([1,1,1])\n",
    "ax.set_title(\"Graph representation\")\n",
    "ax.set_xlabel('x-axis')\n",
    "ax.set_ylabel('y-axis')\n",
    "ax.set_zlabel('z-axis')"
   ]
  },
  {
   "cell_type": "code",
   "execution_count": 14,
   "metadata": {},
   "outputs": [],
   "source": [
    "dist_mat_storage = dist_mat[storage_locs][:, storage_locs]"
   ]
  },
  {
   "cell_type": "code",
   "execution_count": 17,
   "metadata": {},
   "outputs": [],
   "source": [
    "products = [0, 1, 2, 3]\n",
    "storage_locs = [0, 1, 2, 3]\n",
    "w = np.array([[0,3,0,2], \n",
    "     [3,0,0,1], #Flow matrix (between assignees)\n",
    "     [0,0,0,4],\n",
    "     [2,1,4,0]])\n",
    "\n",
    "d = np.array([[0,22,53,53],\n",
    "     [22,0,40,62], #Distance matrix (between assignments)\n",
    "     [53,40,0,55],\n",
    "     [53,62,55,0]])\n",
    "\n",
    "slap = SLAP_QA(d, products, w, storage_locs, depot)"
   ]
  },
  {
   "cell_type": "code",
   "execution_count": 18,
   "metadata": {},
   "outputs": [
    {
     "name": "stdout",
     "output_type": "stream",
     "text": [
      "Set parameter Username\n",
      "Academic license - for non-commercial use only - expires 2025-01-22\n",
      "Gurobi Optimizer version 11.0.0 build v11.0.0rc2 (mac64[x86] - Darwin 21.6.0 21G816)\n",
      "\n",
      "CPU model: Intel(R) Core(TM) i5-7360U CPU @ 2.30GHz\n",
      "Thread count: 2 physical cores, 4 logical processors, using up to 4 threads\n",
      "\n",
      "Optimize a model with 8 rows, 16 columns and 32 nonzeros\n",
      "Model fingerprint: 0x93cffeac\n",
      "Model has 48 quadratic objective terms\n",
      "Variable types: 0 continuous, 16 integer (16 binary)\n",
      "Coefficient statistics:\n",
      "  Matrix range     [1e+00, 1e+00]\n",
      "  Objective range  [0e+00, 0e+00]\n",
      "  QObjective range [9e+01, 1e+03]\n",
      "  Bounds range     [1e+00, 1e+00]\n",
      "  RHS range        [1e+00, 1e+00]\n"
     ]
    },
    {
     "name": "stdout",
     "output_type": "stream",
     "text": [
      "Found heuristic solution: objective 1022.0000000\n",
      "Presolve time: 0.01s\n",
      "Presolved: 56 rows, 64 columns, 176 nonzeros\n",
      "Variable types: 0 continuous, 64 integer (64 binary)\n",
      "\n",
      "Root relaxation: objective 0.000000e+00, 12 iterations, 0.00 seconds (0.00 work units)\n",
      "\n",
      "    Nodes    |    Current Node    |     Objective Bounds      |     Work\n",
      " Expl Unexpl |  Obj  Depth IntInf | Incumbent    BestBd   Gap | It/Node Time\n",
      "\n",
      "     0     0    0.00000    0    8 1022.00000    0.00000   100%     -    0s\n",
      "H    0     0                     824.0000000    0.00000   100%     -    0s\n",
      "     0     0    0.00000    0    8  824.00000    0.00000   100%     -    0s\n",
      "     0     0  324.00000    0   14  824.00000  324.00000  60.7%     -    0s\n",
      "H    0     0                     790.0000000  324.00000  59.0%     -    0s\n",
      "     0     0  424.80000    0   26  790.00000  424.80000  46.2%     -    0s\n",
      "     0     0  425.50000    0   23  790.00000  425.50000  46.1%     -    0s\n",
      "     0     0  740.00000    0   16  790.00000  740.00000  6.33%     -    0s\n",
      "     0     0  744.00000    0   16  790.00000  744.00000  5.82%     -    0s\n",
      "     0     0 infeasible    0       790.00000  790.00000  0.00%     -    0s\n",
      "\n",
      "Cutting planes:\n",
      "  MIR: 7\n",
      "  Zero half: 1\n",
      "  Mod-K: 5\n",
      "  RLT: 35\n",
      "  BQP: 8\n",
      "\n",
      "Explored 1 nodes (97 simplex iterations) in 0.21 seconds (0.00 work units)\n",
      "Thread count was 4 (of 4 available processors)\n",
      "\n",
      "Solution count 3: 790 824 1022 \n",
      "\n",
      "Optimal solution found (tolerance 1.00e-04)\n",
      "Best objective 7.900000000000e+02, best bound 7.900000000000e+02, gap 0.0000%\n",
      "Optimal Solution Found:\n",
      "Item 0 stored at storage location 2\n",
      "Item 1 stored at storage location 3\n",
      "Item 2 stored at storage location 0\n",
      "Item 3 stored at storage location 1\n"
     ]
    }
   ],
   "source": [
    "slap.report()"
   ]
  },
  {
   "cell_type": "code",
   "execution_count": 28,
   "metadata": {},
   "outputs": [],
   "source": [
    "slap = SLAP(dist_mat, products, product_frequency, storage_locs, depot)"
   ]
  },
  {
   "cell_type": "code",
   "execution_count": 29,
   "metadata": {},
   "outputs": [
    {
     "name": "stdout",
     "output_type": "stream",
     "text": [
      "Set parameter Username\n",
      "Academic license - for non-commercial use only - expires 2025-01-22\n",
      "Gurobi Optimizer version 11.0.0 build v11.0.0rc2 (mac64[x86] - Darwin 21.6.0 21G816)\n",
      "\n",
      "CPU model: Intel(R) Core(TM) i5-7360U CPU @ 2.30GHz\n",
      "Thread count: 2 physical cores, 4 logical processors, using up to 4 threads\n",
      "\n",
      "Optimize a model with 30 rows, 225 columns and 450 nonzeros\n",
      "Model fingerprint: 0xc0bf4ee5\n",
      "Variable types: 0 continuous, 225 integer (225 binary)\n",
      "Coefficient statistics:\n",
      "  Matrix range     [1e+00, 1e+00]\n",
      "  Objective range  [1e+02, 8e+02]\n",
      "  Bounds range     [1e+00, 1e+00]\n",
      "  RHS range        [1e+00, 1e+00]\n",
      "Found heuristic solution: objective 5799.0000000\n",
      "Presolve time: 0.00s\n",
      "Presolved: 30 rows, 225 columns, 450 nonzeros\n",
      "Variable types: 0 continuous, 225 integer (225 binary)\n",
      "\n",
      "Root relaxation: objective 5.372000e+03, 90 iterations, 0.00 seconds (0.00 work units)\n",
      "\n",
      "    Nodes    |    Current Node    |     Objective Bounds      |     Work\n",
      " Expl Unexpl |  Obj  Depth IntInf | Incumbent    BestBd   Gap | It/Node Time\n",
      "\n",
      "*    0     0               0    5372.0000000 5372.00000  0.00%     -    0s\n",
      "\n",
      "Explored 1 nodes (90 simplex iterations) in 0.05 seconds (0.00 work units)\n",
      "Thread count was 4 (of 4 available processors)\n",
      "\n",
      "Solution count 2: 5372 5799 \n",
      "\n",
      "Optimal solution found (tolerance 1.00e-04)\n",
      "Best objective 5.372000000000e+03, best bound 5.372000000000e+03, gap 0.0000%\n",
      "Optimal Solution Found:\n",
      "Item 0 stored at storage location 26\n",
      "Item 1 stored at storage location 29\n",
      "Item 2 stored at storage location 23\n",
      "Item 3 stored at storage location 19\n",
      "Item 4 stored at storage location 41\n",
      "Item 5 stored at storage location 37\n",
      "Item 6 stored at storage location 36\n",
      "Item 7 stored at storage location 39\n",
      "Item 8 stored at storage location 21\n",
      "Item 9 stored at storage location 16\n",
      "Item 10 stored at storage location 27\n",
      "Item 11 stored at storage location 17\n",
      "Item 12 stored at storage location 43\n",
      "Item 13 stored at storage location 33\n",
      "Item 14 stored at storage location 31\n"
     ]
    }
   ],
   "source": [
    "slap.report() "
   ]
  },
  {
   "cell_type": "code",
   "execution_count": 30,
   "metadata": {},
   "outputs": [],
   "source": [
    "slap = SLAP_PA(dist_mat, products, product_frequency, product_pairs_frequency, storage_locs, depot)"
   ]
  },
  {
   "cell_type": "code",
   "execution_count": 31,
   "metadata": {},
   "outputs": [
    {
     "name": "stdout",
     "output_type": "stream",
     "text": [
      "Gurobi Optimizer version 11.0.0 build v11.0.0rc2 (mac64[x86] - Darwin 21.6.0 21G816)\n",
      "\n",
      "CPU model: Intel(R) Core(TM) i5-7360U CPU @ 2.30GHz\n",
      "Thread count: 2 physical cores, 4 logical processors, using up to 4 threads\n",
      "\n",
      "Optimize a model with 30 rows, 225 columns and 450 nonzeros\n",
      "Model fingerprint: 0x99d4f748\n",
      "Model has 22050 quadratic objective terms\n",
      "Variable types: 0 continuous, 225 integer (225 binary)\n",
      "Coefficient statistics:\n",
      "  Matrix range     [1e+00, 1e+00]\n",
      "  Objective range  [1e+02, 8e+02]\n",
      "  QObjective range [4e+00, 3e+02]\n",
      "  Bounds range     [1e+00, 1e+00]\n",
      "  RHS range        [1e+00, 1e+00]\n",
      "Found heuristic solution: objective 10044.000000\n",
      "Presolve time: 0.32s\n",
      "Presolved: 30 rows, 225 columns, 450 nonzeros\n",
      "Presolved model has 22275 quadratic objective terms\n",
      "Variable types: 0 continuous, 225 integer (225 binary)\n",
      "\n",
      "Root relaxation: objective -1.360954e+04, 256 iterations, 0.04 seconds (0.03 work units)\n",
      "\n",
      "    Nodes    |    Current Node    |     Objective Bounds      |     Work\n",
      " Expl Unexpl |  Obj  Depth IntInf | Incumbent    BestBd   Gap | It/Node Time\n",
      "\n",
      "     0     0 -13609.536    0  225 10044.0000    0.00000   100%     -    0s\n",
      "H    0     0                    9873.0000000    0.00000   100%     -    0s\n",
      "H    0     0                    9604.0000000    0.00000   100%     -    0s\n",
      "H    0     0                    9572.0000000    0.00000   100%     -    0s\n",
      "     0     0 -13599.643    0  225 9572.00000    0.00000   100%     -    0s\n",
      "H    0     0                    9438.0000000    0.00000   100%     -    0s\n",
      "H    0     0                    9381.0000000    0.00000   100%     -    0s\n",
      "H    0     0                    9369.0000000    0.00000   100%     -    0s\n",
      "H    0     2                    9365.0000000    0.00000   100%     -    0s\n",
      "     0     2 -13598.763    0  225 9365.00000    0.00000   100%     -    0s\n",
      "H   32    36                    9351.0000000    0.00000   100%   3.2    0s\n",
      "  1359  1121 -6684.2249   67  113 9351.00000    0.00000   100%   5.9    5s\n",
      "H 1839  1372                    9335.0000000    0.00000   100%   6.5    6s\n",
      "H 2863  1873                    9329.0000000    0.00000   100%   5.8    8s\n",
      "H 2864  1873                    9321.0000000    0.00000   100%   5.8    8s\n",
      "H 3037  1942                    9320.0000000 5386.53233  42.2%   5.7    9s\n",
      "  3120  2017 5494.48575   56   51 9320.00000 5405.02559  42.0%   6.0   10s\n",
      "H 3278  2013                    9318.0000000 5405.02559  42.0%   6.3   10s\n",
      "H 4258  2401                    9313.0000000 5442.77145  41.6%   8.6   12s\n",
      "  5019  2916 7387.01800  141   42 9313.00000 5563.18109  40.3%  11.5   15s\n",
      " 12503  7129 8372.15724  119   35 9313.00000 5751.65746  38.2%  13.5   20s\n",
      " 20746 13633 8206.53481  115  225 9313.00000 5881.43273  36.8%  14.2   39s\n",
      " 20748 13634 6485.62695   83   62 9313.00000 5881.43273  36.8%  14.2   40s\n",
      " 20790 13667 6398.52663   65  142 9313.00000 6397.90810  31.3%  14.4   45s\n",
      " 21113 13912 6919.99446   94  101 9313.00000 6686.17462  28.2%  15.1   50s\n",
      " 24027 15596 7221.40429   89   87 9313.00000 6850.50693  26.4%  16.5   55s\n",
      " 29164 18029     cutoff  124      9313.00000 6986.58155  25.0%  17.3   60s\n",
      " 33695 20176 8653.08399  145   46 9313.00000 7026.32401  24.6%  17.9   65s\n",
      " 36716 21591 8443.72018  118   64 9313.00000 7047.27098  24.3%  18.1   70s\n",
      " 40627 23200 8509.94013  119   53 9313.00000 7070.78849  24.1%  18.2   75s\n",
      " 43722 24634 7791.01334   97   78 9313.00000 7089.23341  23.9%  18.2   80s\n",
      " 47613 26374 8490.55151   99   60 9313.00000 7108.79425  23.7%  18.4   85s\n",
      " 50443 27596 8120.67492   99   70 9313.00000 7121.70353  23.5%  18.4   90s\n",
      " 53834 29057 7584.44152   98   75 9313.00000 7137.68475  23.4%  18.5   95s\n",
      " 56477 30333 7919.86052   94   67 9313.00000 7150.67194  23.2%  18.4  100s\n",
      " 60225 31929 7534.06938  102   74 9313.00000 7167.12809  23.0%  18.4  105s\n",
      " 62871 33529 8155.46620   95   66 9313.00000 7176.15223  22.9%  18.4  110s\n",
      " 65951 35800 8382.51963  117   70 9313.00000 7189.95394  22.8%  18.4  115s\n",
      " 68747 38092 8363.01921  128   53 9313.00000 7198.83724  22.7%  18.5  120s\n",
      " 72659 40977 9233.81476  139   43 9313.00000 7217.96095  22.5%  18.4  125s\n",
      " 76878 44025 9235.19569  126   40 9313.00000 7234.61809  22.3%  18.3  130s\n",
      " 79973 46455 8527.27833  115   64 9313.00000 7242.67337  22.2%  18.4  135s\n",
      " 83095 48834 7675.43000   91   83 9313.00000 7250.90693  22.1%  18.4  141s\n",
      " 87732 52400 7272.21980   99   89 9313.00000 7262.99860  22.0%  18.4  145s\n",
      " 95182 58033 7722.26739  115   71 9313.00000 7282.32731  21.8%  18.4  150s\n",
      " 103846 64651 8370.28950  111   64 9313.00000 7302.57801  21.6%  18.3  155s\n",
      " 110393 69392 9157.39804  130   38 9313.00000 7312.91220  21.5%  18.3  160s\n",
      " 111607 70287 7791.73007   91   76 9313.00000 7316.02364  21.4%  18.3  186s\n",
      " 113179 71401 7733.57843   91   75 9313.00000 7318.80008  21.4%  18.3  190s\n",
      " 115559 73344 7859.60035  107   64 9313.00000 7322.51260  21.4%  18.3  195s\n",
      " 118970 75795 8282.06413  107   71 9313.00000 7327.72195  21.3%  18.3  200s\n",
      " 123658 79453 9057.63639  131   52 9313.00000 7333.11988  21.3%  18.3  205s\n",
      " 127647 82286 7535.28814  111   75 9313.00000 7338.08584  21.2%  18.2  210s\n",
      " 131819 85450 8946.00272  135   48 9313.00000 7343.83730  21.1%  18.2  215s\n",
      " 135802 88567 7948.37713  113   74 9313.00000 7348.39121  21.1%  18.3  220s\n",
      " 140850 92293 8345.26466  134   62 9313.00000 7356.80194  21.0%  18.2  225s\n",
      " 149143 98457 8028.53850  106   68 9313.00000 7367.42387  20.9%  18.2  230s\n",
      " 157790 104871 7673.20000  110   77 9313.00000 7378.91123  20.8%  18.2 2031s\n",
      " 161433 107613 9218.46190  140   35 9313.00000 7383.26315  20.7%  18.2 2035s\n",
      " 167251 111909 8463.28976  128   62 9313.00000 7390.17378  20.6%  18.1 2040s\n",
      " 171766 115449 8356.40649  131   71 9313.00000 7394.04089  20.6%  18.1 2045s\n",
      " 173075 116386 8043.92935   99   69 9313.00000 7395.09420  20.6%  18.1 2051s\n",
      " 176841 119248 8627.30154  130   41 9313.00000 7399.15019  20.6%  18.1 2055s\n",
      " 183707 124255 7868.11597  113   64 9313.00000 7407.13780  20.5%  18.1 2060s\n",
      " 187145 126889     cutoff  145      9313.00000 7410.79025  20.4%  18.0 2065s\n",
      " 191668 130216 8185.70389  107   60 9313.00000 7416.04185  20.4%  18.0 2070s\n",
      " 196991 134070 8002.40073   95   81 9313.00000 7421.79699  20.3%  18.0 2075s\n",
      " 201984 137771 7723.39563  108   67 9313.00000 7427.00821  20.3%  18.0 2080s\n",
      " 207666 141929 9249.46660   91   41 9313.00000 7432.35145  20.2%  17.9 2085s\n",
      " 212965 145931 9277.52874  149   27 9313.00000 7437.12735  20.1%  17.9 2090s\n",
      " 218352 149783 8734.51861  111   57 9313.00000 7441.74590  20.1%  17.9 2095s\n",
      " 222995 153249 9119.70527  137   41 9313.00000 7444.91999  20.1%  17.9 2100s\n",
      " 227629 156620 8281.00437  120   73 9313.00000 7448.67674  20.0%  17.9 2105s\n",
      " 231958 159776     cutoff  139      9313.00000 7451.85578  20.0%  17.8 2110s\n",
      " 236831 163390 8229.60481   99   63 9313.00000 7456.26528  19.9%  17.8 2115s\n",
      " 240677 166274 7532.43249   92   80 9313.00000 7458.84485  19.9%  17.8 2120s\n",
      " 246359 170503 9191.24627  135   36 9313.00000 7463.91727  19.9%  17.8 2125s\n",
      " 250662 173651 7778.87761  100   69 9313.00000 7467.61239  19.8%  17.8 2130s\n",
      " 254445 176515 8439.11377   96   68 9313.00000 7470.52001  19.8%  17.7 2135s\n",
      " 257911 179061 8043.78213   85   80 9313.00000 7472.57253  19.8%  17.7 2140s\n",
      " 261406 181621 8319.23881  111   65 9313.00000 7475.35696  19.7%  17.7 2145s\n",
      " 265384 184630 8619.23986  122   67 9313.00000 7477.66142  19.7%  17.7 2150s\n",
      " 269234 187650 8399.60417  117   60 9313.00000 7479.74247  19.7%  17.7 2155s\n",
      " 270932 188817 8214.37504  136   61 9313.00000 7480.88884  19.7%  17.7 2531s\n",
      " 272195 189718 8715.81547  124   61 9313.00000 7481.60563  19.7%  17.7 2535s\n",
      " 274129 191151 9066.00785  130   40 9313.00000 7482.89927  19.7%  17.7 2540s\n",
      " 276329 192742 9221.60911  119   44 9313.00000 7484.12311  19.6%  17.7 2545s\n",
      " 279649 195166 8651.95723  118   52 9313.00000 7485.94455  19.6%  17.7 2550s\n",
      " 282258 196953     cutoff  123      9313.00000 7487.64073  19.6%  17.7 2555s\n",
      " 287292 200734 8296.60744   99   59 9313.00000 7490.68871  19.6%  17.7 2560s\n",
      "H289738 202083                    9303.0000000 7492.37998  19.5%  17.6 2562s\n",
      " 291092 203410     cutoff  122      9303.00000 7493.08461  19.5%  17.6 2565s\n",
      " 296767 207551 8088.33282   94   61 9303.00000 7496.48868  19.4%  17.6 2570s\n",
      " 302116 211505 8163.16549  107   58 9303.00000 7499.62724  19.4%  17.6 2575s\n",
      " 305003 213552 7585.67296   98   91 9303.00000 7501.86068  19.4%  17.6 68837s\n",
      " 305394 213805 8300.92524  115   53 9303.00000 7502.09642  19.4%  17.6 68842s\n",
      " 305830 214123 8267.81586  120   65 9303.00000 7502.32033  19.4%  17.6 68845s\n",
      " 307546 215408 8875.45058   96   43 9303.00000 7503.39584  19.3%  17.6 68855s\n",
      " 308054 215742 7986.65670  128   62 9303.00000 7503.42954  19.3%  17.6 68860s\n",
      " 309393 216613 8892.98059  124   49 9303.00000 7504.37289  19.3%  17.6 68865s\n",
      " 311150 217955 7935.18456  124   66 9303.00000 7505.40850  19.3%  17.6 68870s\n",
      " 314988 220634 7864.86982  104   72 9303.00000 7507.93674  19.3%  17.6 68875s\n",
      " 320064 224293 8403.59113  131   55 9303.00000 7510.76319  19.3%  17.6 68880s\n",
      " 326507 228914 8614.87039  123   54 9303.00000 7514.08840  19.2%  17.5 68885s\n",
      " 333801 234071 8304.16927  121   51 9303.00000 7517.64753  19.2%  17.5 68890s\n",
      " 338306 237288     cutoff  128      9303.00000 7519.63258  19.2%  17.5 68895s\n",
      " 343488 241073 8497.77252  104   51 9303.00000 7522.76351  19.1%  17.5 68900s\n",
      " 350073 245945 8541.96558  137   60 9303.00000 7525.64760  19.1%  17.5 68905s\n",
      " 354518 249247 7894.76031  102   74 9303.00000 7527.97707  19.1%  17.4 68910s\n",
      " 358422 252213 8007.70347   99   69 9303.00000 7529.62558  19.1%  17.4 68915s\n",
      " 363864 256246 8091.51976  100   57 9303.00000 7531.69486  19.0%  17.4 68920s\n",
      " 369182 259894 9166.96365  144   39 9303.00000 7533.64231  19.0%  17.4 68925s\n",
      " 373513 262972 8476.45758  106   60 9303.00000 7535.06552  19.0%  17.4 68932s\n",
      " 376618 265113 7982.81067   83   76 9303.00000 7536.54213  19.0%  17.4 68935s\n",
      " 382590 269346 7777.70117   79   68 9303.00000 7539.10966  19.0%  17.4 68940s\n",
      " 387870 273497 8251.56422  127   52 9303.00000 7541.28212  18.9%  17.4 68945s\n",
      " 395533 278903 8650.15650  129   53 9303.00000 7544.36559  18.9%  17.4 68950s\n",
      " 400474 282407 8400.52288  108   49 9303.00000 7546.46088  18.9%  17.4 68955s\n",
      " 404432 285316 8998.34419  122   51 9303.00000 7547.90111  18.9%  17.4 68961s\n",
      " 404885 285655 8144.91330  109   60 9303.00000 7548.03309  18.9%  17.4 68970s\n",
      " 406258 286546 9095.24747  132   46 9303.00000 7548.67804  18.9%  17.4 69048s\n",
      " 408081 287974 7796.56714   95   82 9303.00000 7549.25124  18.9%  17.4 69050s\n",
      " 413537 291811 8713.95413  128   44 9303.00000 7551.04179  18.8%  17.3 69055s\n",
      " 417429 294800     cutoff  133      9303.00000 7552.02699  18.8%  17.3 69061s\n",
      " 419837 296461 8030.00458  130   66 9303.00000 7553.06101  18.8%  17.3 69065s\n",
      " 424433 299685 8762.72245  134   53 9303.00000 7554.60492  18.8%  17.3 69070s\n",
      " 428480 302614 8168.90916  108   66 9303.00000 7555.92762  18.8%  17.3 69075s\n",
      " 431145 304484 8116.86681  109   68 9303.00000 7556.93014  18.8%  17.3 69080s\n",
      " 434144 306700 9117.04837   90   43 9303.00000 7557.96165  18.8%  17.3 69085s\n",
      " 436379 308380 8512.34651  114   62 9303.00000 7558.96769  18.7%  17.3 69090s\n",
      " 440920 311608 8436.74320  137   54 9303.00000 7560.70124  18.7%  17.3 69095s\n",
      " 444339 314060 7784.09173  106   63 9303.00000 7561.87665  18.7%  17.3 69100s\n",
      " 448025 316620 7896.20969  113   69 9303.00000 7563.20377  18.7%  17.3 69105s\n",
      " 453148 320150     cutoff  136      9303.00000 7565.10725  18.7%  17.3 69110s\n",
      " 459395 324592 8601.80337  131   57 9303.00000 7567.06245  18.7%  17.2 69115s\n",
      " 464338 328156 8324.89895  101   63 9303.00000 7568.75980  18.6%  17.2 69120s\n",
      " 468180 331053 8720.82255  120   50 9303.00000 7570.04889  18.6%  17.2 69125s\n",
      " 472657 334081 8742.55181  140   50 9303.00000 7571.56511  18.6%  17.2 69130s\n",
      " 477320 337518 9084.37867   94   43 9303.00000 7573.27936  18.6%  17.2 69135s\n",
      " 479588 339198 8083.34016  127   57 9303.00000 7574.08120  18.6%  17.2 69140s\n",
      " 481908 340883 8824.42503  108   53 9303.00000 7574.79306  18.6%  17.2 69145s\n",
      " 485812 343507 8689.47317  127   44 9303.00000 7576.04019  18.6%  17.2 69150s\n",
      " 492032 348087 8162.49531   83   71 9303.00000 7577.75467  18.5%  17.2 69155s\n",
      " 500949 354250 8551.36584  104   62 9303.00000 7580.70420  18.5%  17.2 69160s\n",
      " 509824 360551 8745.07506  128   53 9303.00000 7583.19055  18.5%  17.2 69165s\n",
      " 517025 365474 8406.07752  113   57 9303.00000 7585.65765  18.5%  17.1 69170s\n",
      " 524967 371196 8073.88346  104   66 9303.00000 7587.86248  18.4%  17.1 69175s\n",
      " 533186 377039 8771.00499  128   50 9303.00000 7590.00978  18.4%  17.1 69180s\n",
      " 538313 380683 8146.65583  114   70 9303.00000 7591.05105  18.4%  17.1 69185s\n",
      " 543475 384335 8834.35245  116   48 9303.00000 7592.76665  18.4%  17.1 69190s\n",
      " 548506 387812 7751.83078  113   74 9303.00000 7593.99608  18.4%  17.1 69195s\n",
      " 552803 390973 9023.54478  122   47 9303.00000 7595.11500  18.4%  17.1 69200s\n",
      " 559331 395722 7802.73093   91   70 9303.00000 7597.16107  18.3%  17.1 69205s\n",
      " 567560 401582 8944.99071  122   48 9303.00000 7599.38349  18.3%  17.1 69210s\n",
      " 572077 404828 7807.00881  114   66 9303.00000 7600.85838  18.3%  17.1 69215s\n",
      " 580007 410471 8091.48706  115   69 9303.00000 7602.83290  18.3%  17.1 69220s\n",
      " 585351 414361 8391.21828  100   59 9303.00000 7604.00652  18.3%  17.1 69225s\n",
      " 590612 418054 infeasible  121      9303.00000 7605.42920  18.2%  17.1 69230s\n",
      " 594343 420542 9226.91754  146   34 9303.00000 7606.53862  18.2%  17.0 69235s\n",
      " 601220 425710 8523.55570  111   55 9303.00000 7608.36418  18.2%  17.0 69240s\n",
      " 607352 430110 8265.43029  118   62 9303.00000 7609.65963  18.2%  17.0 69245s\n",
      " 614972 435454 8560.57167  129   48 9303.00000 7611.85937  18.2%  17.0 69250s\n",
      " 621653 440313 8640.27774  119   52 9303.00000 7613.65460  18.2%  17.0 69255s\n",
      " 628897 445605 8271.23699  126   55 9303.00000 7615.47530  18.1%  17.0 69260s\n",
      " 634613 449863 9053.79871  133   43 9303.00000 7616.70161  18.1%  17.0 69265s\n",
      " 641458 454753 8061.40865  122   54 9303.00000 7618.42903  18.1%  17.0 69270s\n",
      " 647553 458917     cutoff  123      9303.00000 7619.91194  18.1%  17.0 69275s\n",
      " 654070 463560 8226.48940  126   61 9303.00000 7621.54450  18.1%  17.0 69280s\n",
      " 660131 467959 8399.43007   98   65 9303.00000 7623.12181  18.1%  17.0 69285s\n",
      " 666363 472382 8334.41101  105   58 9303.00000 7624.70310  18.0%  17.0 69290s\n",
      " 671707 476187 8019.27478   92   62 9303.00000 7625.97544  18.0%  17.0 69295s\n",
      " 675274 479067 7880.05946   92   67 9303.00000 7626.76745  18.0%  17.0 69300s\n",
      " 682309 483719 8236.48535  107   66 9303.00000 7628.50192  18.0%  16.9 69305s\n",
      " 690319 489422 9015.05204  135   38 9303.00000 7630.39763  18.0%  16.9 69310s\n",
      " 698767 495396 8791.57495  122   50 9303.00000 7632.68686  18.0%  16.9 69315s\n",
      " 707360 501306 8210.38287   95   58 9303.00000 7634.64695  17.9%  16.9 69320s\n",
      " 715689 507273 7992.23955   85   65 9303.00000 7636.51816  17.9%  16.9 69325s\n",
      " 723529 512964 7807.46472  118   60 9303.00000 7638.24724  17.9%  16.9 69330s\n",
      " 731185 518395 8398.83205  134   60 9303.00000 7639.66038  17.9%  16.9 69335s\n",
      " 739748 524424     cutoff  122      9303.00000 7641.79483  17.9%  16.9 69340s\n",
      " 748333 530727 8139.91442  123   67 9303.00000 7643.67586  17.8%  16.9 69345s\n",
      " 757134 537054 7902.32484   81   78 9303.00000 7645.61595  17.8%  16.9 69350s\n",
      " 765464 542831     cutoff  140      9303.00000 7647.43249  17.8%  16.9 69355s\n",
      " 772305 547562 8441.93359  100   59 9303.00000 7649.02043  17.8%  16.9 69360s\n",
      " 779603 552691 8895.92369  130   47 9303.00000 7650.92422  17.8%  16.9 69365s\n",
      " 788279 558970 7939.32480  105   66 9303.00000 7652.66695  17.7%  16.9 69370s\n",
      " 795566 564211 8093.92327  100   69 9303.00000 7654.04899  17.7%  16.9 69375s\n",
      " 798876 566564 8889.97945   90   53 9303.00000 7654.73150  17.7%  16.9 69380s\n",
      " 802423 569068 8064.27925  107   63 9303.00000 7655.43255  17.7%  16.8 69385s\n",
      " 807497 572605 7901.41455   88   66 9303.00000 7656.70903  17.7%  16.8 69390s\n",
      " 813487 576954 8224.35420   98   64 9303.00000 7658.00562  17.7%  16.8 69395s\n",
      " 820252 581761 8553.10583  100   58 9303.00000 7659.32329  17.7%  16.8 69400s\n",
      " 829064 588056     cutoff  120      9303.00000 7661.09853  17.6%  16.8 69405s\n",
      " 835995 592918 8416.63335  120   66 9303.00000 7662.35560  17.6%  16.8 69410s\n",
      " 843582 598214 8156.50717   95   63 9303.00000 7663.93535  17.6%  16.8 69415s\n",
      " 849559 602412 8372.15989   96   60 9303.00000 7664.99072  17.6%  16.8 69420s\n",
      " 851278 603657 8513.51901  114   65 9303.00000 7665.46085  17.6%  16.8 69425s\n",
      " 854778 606177 8666.66804  130   53 9303.00000 7666.27868  17.6%  16.8 69430s\n",
      " 860435 609875 8234.20186   66   63 9303.00000 7667.60150  17.6%  16.8 69435s\n",
      " 863688 612543 8676.67634  101   44 9303.00000 7668.38300  17.6%  16.8 69440s\n",
      " 866976 614807 9024.17791  132   51 9303.00000 7669.27140  17.6%  16.8 69445s\n",
      " 870397 617287 8819.90507  120   53 9303.00000 7669.94015  17.6%  16.8 69450s\n",
      " 873299 619296 8590.27426  135   63 9303.00000 7670.62526  17.5%  16.8 69455s\n",
      " 878565 622913 7892.46032  103   75 9303.00000 7671.61322  17.5%  16.8 69460s\n",
      " 883668 626923 7960.12398   92   68 9303.00000 7672.75603  17.5%  16.8 69465s\n",
      " 889254 630877     cutoff  114      9303.00000 7673.80776  17.5%  16.8 69470s\n",
      " 894992 635037 8003.20536   87   67 9303.00000 7675.04769  17.5%  16.8 69475s\n",
      " 902875 640473 9201.51195  140   30 9303.00000 7676.66378  17.5%  16.8 69480s\n",
      " 910007 645848 8525.37304  112   52 9303.00000 7678.11920  17.5%  16.8 69485s\n",
      " 917367 651063 8195.28873  132   67 9303.00000 7679.45252  17.5%  16.8 69490s\n",
      " 924035 655757 7931.18389   98   68 9303.00000 7680.59130  17.4%  16.8 69495s\n",
      " 928401 658810 8967.49266  107   58 9303.00000 7681.22133  17.4%  16.8 69500s\n",
      " 934079 662861 8054.85866   95   64 9303.00000 7682.23154  17.4%  16.8 69505s\n",
      " 939122 666528 8602.48511  116   74 9303.00000 7683.05110  17.4%  16.8 69510s\n",
      " 947617 672512 7949.59208  112   59 9303.00000 7684.72052  17.4%  16.7 69515s\n",
      " 952846 676167 7854.33486  114   66 9303.00000 7685.68761  17.4%  16.7 69520s\n",
      " 957514 679517 8564.35695  127   62 9303.00000 7686.46202  17.4%  16.7 69525s\n",
      " 959926 681226 8032.98482  101   73 9303.00000 7686.84069  17.4%  16.7 69530s\n",
      " 963424 683690     cutoff  145      9303.00000 7687.46570  17.4%  16.7 69535s\n",
      " 971224 689410 9158.85305  139   48 9303.00000 7688.78442  17.4%  16.7 69540s\n",
      " 978517 694408 8274.15881  117   71 9303.00000 7690.11743  17.3%  16.7 69545s\n",
      " 980566 695954 7952.09882  102   64 9303.00000 7690.48786  17.3%  16.7 69550s\n",
      " 983728 698180 8563.51630  103   62 9303.00000 7691.15495  17.3%  16.7 69555s\n",
      " 987924 701116 7899.99378  114   67 9303.00000 7691.74752  17.3%  16.7 69560s\n",
      " 992981 704863 7982.52525  117   63 9303.00000 7692.65412  17.3%  16.7 69565s\n",
      " 996538 707277 8738.96433  140   60 9303.00000 7693.29299  17.3%  16.7 69570s\n",
      " 999735 709493 8893.82437   99   51 9303.00000 7693.82184  17.3%  16.7 69575s\n",
      " 1005364 713580 8390.77894  118   54 9303.00000 7694.80147  17.3%  16.7 69580s\n",
      " 1010169 716977     cutoff  133      9303.00000 7695.66553  17.3%  16.7 69585s\n",
      " 1014564 720200 7892.56974  102   68 9303.00000 7696.40030  17.3%  16.7 69590s\n",
      " 1019342 723597 8272.92614  114   70 9303.00000 7697.11462  17.3%  16.7 69595s\n",
      " 1023951 726913 8940.71040  126   49 9303.00000 7697.81732  17.3%  16.7 69600s\n",
      " 1029068 730600 9141.21901  134   44 9303.00000 7698.57298  17.2%  16.7 69605s\n",
      " 1035942 735476 8983.52223  113   48 9303.00000 7699.55054  17.2%  16.7 69610s\n",
      " 1040950 738985 8527.26099  116   52 9303.00000 7700.48712  17.2%  16.7 69615s\n",
      " 1044430 741397 9145.83977  112   51 9303.00000 7701.07096  17.2%  16.7 69620s\n",
      " 1048983 744737 8703.91831  122   46 9303.00000 7701.81946  17.2%  16.7 69625s\n",
      " 1052861 747319 8649.78953  110   49 9303.00000 7702.46320  17.2%  16.7 69630s\n",
      " 1058929 751713 8679.86238  101   56 9303.00000 7703.48396  17.2%  16.7 69635s\n",
      " 1064129 755361 8561.25403  134   61 9303.00000 7704.32128  17.2%  16.7 69640s\n",
      " 1068308 758228 9118.92608  145   41 9303.00000 7704.87083  17.2%  16.7 69645s\n",
      " 1071122 760288 8481.03714  134   57 9303.00000 7705.35061  17.2%  16.7 69650s\n",
      " 1075370 763252 9154.12274  124   43 9303.00000 7706.03126  17.2%  16.7 69655s\n",
      " 1078809 765670 8265.76706  122   58 9303.00000 7706.75012  17.2%  16.7 69660s\n",
      " 1083409 768945 7990.20186   75   78 9303.00000 7707.49953  17.2%  16.7 69665s\n",
      " 1092207 775352 8579.59800  138   53 9303.00000 7708.87802  17.1%  16.7 69670s\n",
      " 1096495 778466     cutoff  127      9303.00000 7709.42625  17.1%  16.7 69675s\n",
      " 1100622 781347 8696.15657  123   51 9303.00000 7710.13424  17.1%  16.7 69680s\n",
      " 1105507 784918 8232.92304  123   74 9303.00000 7711.00074  17.1%  16.7 69685s\n",
      " 1109231 787503 8680.06147  117   76 9303.00000 7711.68472  17.1%  16.7 69690s\n",
      " 1114505 791309 8342.87567  104   55 9303.00000 7712.39536  17.1%  16.6 69695s\n",
      " 1124294 798185 8774.70406  120   54 9303.00000 7713.81094  17.1%  16.6 69700s\n",
      " 1133648 804859 8993.98932  123   51 9303.00000 7715.21989  17.1%  16.6 69705s\n",
      " 1144783 812667 8445.54116  116   52 9303.00000 7716.99935  17.0%  16.6 69710s\n",
      " 1151953 817818 8698.58196  109   50 9303.00000 7717.97096  17.0%  16.6 69715s\n",
      " 1161889 825027 8637.58536  136   42 9303.00000 7719.46717  17.0%  16.6 69720s\n",
      " 1168989 830115     cutoff  135      9303.00000 7720.59938  17.0%  16.6 69725s\n",
      " 1175447 834631 8683.80512  129   62 9303.00000 7721.39737  17.0%  16.6 69730s\n",
      " 1182534 839930     cutoff  145      9303.00000 7722.64258  17.0%  16.6 69735s\n",
      " 1191640 845896 8365.98643  131   67 9303.00000 7723.87285  17.0%  16.6 69740s\n",
      " 1198929 851194 8771.36370  130   48 9303.00000 7725.09467  17.0%  16.6 69745s\n",
      " 1203301 854332 8381.14902  124   56 9303.00000 7725.65850  17.0%  16.6 69750s\n",
      " 1207147 856945 8203.70272  115   57 9303.00000 7726.29965  16.9%  16.6 69755s\n",
      " 1212085 860411 8561.20885  106   57 9303.00000 7727.06120  16.9%  16.6 69760s\n",
      " 1215657 862855 8674.71990  125   45 9303.00000 7727.60753  16.9%  16.6 69765s\n",
      " 1221305 866904 8364.57389  122   53 9303.00000 7728.48509  16.9%  16.6 69770s\n",
      " 1225894 870071 9149.46961  133   39 9303.00000 7729.11240  16.9%  16.6 69775s\n",
      " 1228584 872140 8803.15509  122   53 9303.00000 7729.43744  16.9%  16.6 69780s\n",
      " 1233542 875609 8019.58067  101   71 9303.00000 7730.11604  16.9%  16.6 69785s\n",
      " 1238357 879016 8235.92125   93   63 9303.00000 7730.66343  16.9%  16.6 69790s\n",
      " 1243327 882621 8553.47753  100   62 9303.00000 7731.42730  16.9%  16.6 69795s\n",
      " 1248560 886463 8111.93985  125   76 9303.00000 7732.23098  16.9%  16.6 69800s\n",
      " 1254884 891067 8515.23500  117   66 9303.00000 7733.02983  16.9%  16.6 69805s\n",
      " 1260472 894940 8686.81190  107   59 9303.00000 7733.76344  16.9%  16.6 69811s\n",
      " 1263124 896653 8315.46221  136   77 9303.00000 7734.14648  16.9%  16.6 69815s\n",
      " 1267353 899720 8181.85194  126   62 9303.00000 7734.71027  16.9%  16.6 69820s\n",
      " 1272669 903521     cutoff  132      9303.00000 7735.39290  16.9%  16.6 69825s\n",
      " 1278360 907557 8902.00494  131   43 9303.00000 7736.15694  16.8%  16.6 69830s\n",
      " 1281557 910018 8373.20780  103   57 9303.00000 7736.63306  16.8%  16.6 69835s\n",
      " 1285137 912579 9226.87398  141   39 9303.00000 7737.10397  16.8%  16.6 69840s\n",
      " 1289414 915573 7956.91390  132   63 9303.00000 7737.79065  16.8%  16.6 69845s\n",
      " 1295814 920161 8417.53340  109   62 9303.00000 7738.65051  16.8%  16.6 69850s\n",
      " 1300673 923611 8489.92409  108   74 9303.00000 7739.35421  16.8%  16.6 69855s\n",
      " 1304880 926609 8227.32681   98   64 9303.00000 7739.87222  16.8%  16.6 69860s\n",
      " 1309022 929697 8724.99761  107   53 9303.00000 7740.43365  16.8%  16.6 69865s\n",
      " 1313659 932961 8637.71253  105   52 9303.00000 7740.97911  16.8%  16.6 69870s\n",
      " 1319783 937298 7898.99462  111   84 9303.00000 7741.56976  16.8%  16.6 69875s\n",
      " 1324342 940422 8514.19255  106   56 9303.00000 7742.24725  16.8%  16.6 69880s\n",
      " 1329554 944058 infeasible   89      9303.00000 7742.91144  16.8%  16.5 69885s\n",
      " 1334403 947538     cutoff  146      9303.00000 7743.70472  16.8%  16.5 69890s\n",
      " 1338764 950567 8116.54691   96   70 9303.00000 7744.28201  16.8%  16.5 69895s\n",
      " 1343104 953566 8660.68676  123   59 9303.00000 7744.87268  16.7%  16.5 69900s\n",
      " 1347635 956787 9012.93044  135   41 9303.00000 7745.44430  16.7%  16.5 69905s\n",
      " 1351801 959703 9131.94190  136   36 9303.00000 7745.98015  16.7%  16.5 69910s\n",
      " 1355276 962134 8427.86566  102   63 9303.00000 7746.40108  16.7%  16.5 69915s\n",
      " 1363245 967948 7979.73789  107   74 9303.00000 7747.23478  16.7%  16.5 69920s\n",
      " 1367641 970979 8243.01613  113   59 9303.00000 7747.82904  16.7%  16.5 69925s\n",
      " 1373683 975295 8605.87997  141   60 9303.00000 7748.57183  16.7%  16.5 69930s\n",
      " 1381892 981141 8225.70214  110   70 9303.00000 7749.62662  16.7%  16.5 69935s\n",
      " 1386316 984350 9170.64175  123   39 9303.00000 7750.08412  16.7%  16.5 69940s\n",
      " 1393406 989280 8373.32479  111   62 9303.00000 7751.00654  16.7%  16.5 69945s\n",
      " 1402287 995661 8288.12257  114   65 9303.00000 7752.02506  16.7%  16.5 69950s\n",
      " 1408333 1000037 8860.94602   88   47 9303.00000 7752.64558  16.7%  16.5 69955s\n",
      " 1413783 1003819 8622.07460   95   60 9303.00000 7753.26850  16.7%  16.5 69960s\n",
      " 1421744 1009260 8339.88298  106   66 9303.00000 7754.22702  16.6%  16.5 69965s\n",
      " 1430153 1015011 9133.85153  115   42 9303.00000 7755.20007  16.6%  16.5 69970s\n",
      " 1437976 1020523 9076.53031  111   51 9303.00000 7756.15589  16.6%  16.5 69975s\n",
      " 1442700 1023729     cutoff  137      9303.00000 7756.62802  16.6%  16.5 69980s\n",
      " 1449939 1028948 8411.98119  123   60 9303.00000 7757.50315  16.6%  16.5 69985s\n",
      " 1455974 1033098 9111.93908  128   37 9303.00000 7758.21408  16.6%  16.5 69990s\n",
      " 1462047 1037331 8178.94105  111   60 9303.00000 7758.94719  16.6%  16.5 69995s\n",
      " 1469946 1042809 8198.42144  119   59 9303.00000 7759.84919  16.6%  16.5 70000s\n",
      " 1480634 1050247 9019.29959  116   45 9303.00000 7760.99211  16.6%  16.5 70005s\n",
      " 1487521 1055121 8356.32854  111   69 9303.00000 7761.82049  16.6%  16.5 70010s\n",
      " 1496396 1061420 8643.39202  129   52 9303.00000 7762.87184  16.6%  16.5 70015s\n",
      " 1504157 1066806 8700.77031  101   53 9303.00000 7763.67363  16.5%  16.5 70020s\n",
      " 1509668 1070692 9262.93756  116   42 9303.00000 7764.32331  16.5%  16.5 70025s\n",
      " 1515451 1074783 8378.38614  106   61 9303.00000 7764.94757  16.5%  16.5 70030s\n",
      " 1523369 1080294 7986.79393  116   64 9303.00000 7765.79741  16.5%  16.5 70035s\n",
      " 1531744 1086143 8374.16995  126   61 9303.00000 7766.65339  16.5%  16.5 70040s\n",
      " 1536430 1089286 8987.16880  121   43 9303.00000 7767.15651  16.5%  16.4 70045s\n",
      " 1539368 1091449 8202.79044  101   60 9303.00000 7767.48763  16.5%  16.4 70050s\n",
      " 1543635 1094547 8612.58460   92   51 9303.00000 7767.92165  16.5%  16.4 70055s\n",
      " 1547240 1097033 8831.64620  123   51 9303.00000 7768.34237  16.5%  16.4 70060s\n",
      " 1550712 1099453 8247.78383  126   52 9303.00000 7768.81393  16.5%  16.4 70065s\n",
      " 1553711 1101496 9276.73159  134   37 9303.00000 7769.15983  16.5%  16.4 70070s\n",
      " 1556675 1103514 9038.82287  130   51 9303.00000 7769.42150  16.5%  16.4 70075s\n",
      " 1563155 1108037 8441.56064  121   61 9303.00000 7770.08461  16.5%  16.4 70081s\n",
      " 1570910 1113537 8086.11907   99   70 9303.00000 7770.79438  16.5%  16.4 70085s\n",
      " 1581406 1120951 8786.67345  132   45 9303.00000 7771.85570  16.5%  16.4 70090s\n",
      " 1589476 1126497 8218.29404  113   71 9303.00000 7772.72706  16.4%  16.4 70095s\n",
      " 1598079 1132502     cutoff  139      9303.00000 7773.63044  16.4%  16.4 70100s\n",
      " 1609684 1140622 8175.00106  102   63 9303.00000 7774.91795  16.4%  16.4 70105s\n",
      " 1618096 1146391 8129.40376   86   69 9303.00000 7775.80788  16.4%  16.4 70110s\n",
      " 1622876 1149699 9039.32779  136   39 9303.00000 7776.27992  16.4%  16.4 70115s\n",
      " 1628506 1153385 8567.17594  117   56 9303.00000 7776.93964  16.4%  16.4 70120s\n",
      " 1633540 1157011 9294.09817  120   36 9303.00000 7777.39904  16.4%  16.4 70125s\n",
      " 1640105 1161479 8451.75302   94   63 9303.00000 7778.13199  16.4%  16.4 70130s\n",
      " 1644089 1164261 8351.16606  100   61 9303.00000 7778.52146  16.4%  16.4 70136s\n",
      " 1650573 1168804 8181.99673  117   62 9303.00000 7779.23323  16.4%  16.4 70140s\n",
      " 1657447 1173489 8434.16003  104   69 9303.00000 7779.97358  16.4%  16.4 70145s\n",
      " 1661009 1176028 8546.50156  109   55 9303.00000 7780.33238  16.4%  16.4 70150s\n",
      " 1664874 1178554 8462.77502  103   62 9303.00000 7780.78385  16.4%  16.4 70155s\n",
      " 1666479 1179934 9170.36724  132   40 9303.00000 7781.02608  16.4%  16.4 70160s\n",
      " 1669554 1182060 9168.10197  142   34 9303.00000 7781.26656  16.4%  16.4 70165s\n",
      " 1674526 1185372 9046.52987  144   42 9303.00000 7781.71594  16.4%  16.4 70170s\n",
      " 1681161 1190204 9005.90233  144   41 9303.00000 7782.23775  16.3%  16.4 70175s\n",
      " 1690537 1196595 9000.63092  129   42 9303.00000 7783.20961  16.3%  16.4 70180s\n",
      " 1699190 1202655 8012.20556  119   62 9303.00000 7784.02419  16.3%  16.4 70185s\n",
      " 1704038 1206014 8875.16154  127   50 9303.00000 7784.56642  16.3%  16.4 70190s\n",
      " 1711877 1211415 8972.60592  135   43 9303.00000 7785.33377  16.3%  16.4 70195s\n",
      " 1719377 1216676 9195.92412  148   35 9303.00000 7785.96816  16.3%  16.3 70200s\n",
      " 1729079 1223217 8464.26457  120   49 9303.00000 7786.91930  16.3%  16.3 70205s\n",
      " 1739069 1229992 8355.79497  110   67 9303.00000 7787.86198  16.3%  16.3 70210s\n",
      " 1743693 1233262 8134.75817  112   68 9303.00000 7788.37374  16.3%  16.3 70215s\n",
      " 1750732 1238104 8102.33590  119   66 9303.00000 7789.03305  16.3%  16.3 70220s\n",
      " 1758954 1243841 8262.96596  106   55 9303.00000 7789.80550  16.3%  16.3 70225s\n",
      " 1767889 1249937 9234.58749  103   49 9303.00000 7790.67463  16.3%  16.3 70230s\n",
      " 1777698 1256731 8229.13386  103   58 9303.00000 7791.55902  16.2%  16.3 70235s\n",
      " 1788250 1263990 7982.20275   86   73 9303.00000 7792.56044  16.2%  16.3 70240s\n",
      " 1797833 1270640 8891.68169  111   53 9303.00000 7793.37617  16.2%  16.3 70245s\n",
      " 1804915 1275246 8519.42063   96   47 9303.00000 7793.96526  16.2%  16.3 70251s\n",
      " 1807020 1276930 8170.25707  101   64 9303.00000 7794.10276  16.2%  16.3 70256s\n",
      " 1809545 1278648 8396.65045  123   58 9303.00000 7794.34512  16.2%  16.3 70260s\n",
      " 1812450 1280734 8289.45515  109   64 9303.00000 7794.57961  16.2%  16.3 70266s\n",
      " 1816721 1283570 8348.58055  113   59 9303.00000 7794.93610  16.2%  16.3 70270s\n",
      " 1826269 1290240 9135.62048  120   41 9303.00000 7795.74076  16.2%  16.3 70275s\n",
      " 1836823 1297517 8434.81042   97   74 9303.00000 7796.59912  16.2%  16.3 70280s\n",
      " 1844540 1302886 8149.26076   88   68 9303.00000 7797.21370  16.2%  16.3 70285s\n",
      " 1850047 1306733 9169.93023  122   48 9303.00000 7797.61413  16.2%  16.3 70290s\n",
      " 1855491 1310403 8498.05631  101   64 9303.00000 7797.99586  16.2%  16.3 70295s\n",
      " 1864527 1316651     cutoff  134      9303.00000 7798.84671  16.2%  16.3 70300s\n",
      " 1874693 1323739 8998.13502  138   56 9303.00000 7799.64285  16.2%  16.3 70305s\n",
      " 1883320 1329444 8680.53391  113   49 9303.00000 7800.36798  16.2%  16.3 70310s\n",
      " 1892709 1336181 9009.66080  127   45 9303.00000 7801.06940  16.1%  16.3 70315s\n",
      " 1901855 1342339 9126.29479  141   36 9303.00000 7801.90638  16.1%  16.3 70320s\n",
      " 1909305 1347338 8673.00068  117   58 9303.00000 7802.57184  16.1%  16.3 70326s\n",
      " 1913606 1350324 8624.12167  113   53 9303.00000 7802.89192  16.1%  16.3 70330s\n",
      " 1916059 1351949 8264.60897  109   70 9303.00000 7803.14941  16.1%  16.3 70335s\n",
      " 1918988 1353966 8309.24783   98   69 9303.00000 7803.44552  16.1%  16.3 70340s\n",
      " 1923837 1357325 8578.95429   97   55 9303.00000 7803.87218  16.1%  16.3 70345s\n",
      " 1930701 1361841 8669.38506  118   54 9303.00000 7804.45435  16.1%  16.3 70350s\n",
      " 1936790 1366163 8306.26470  128   53 9303.00000 7805.05265  16.1%  16.2 70355s\n",
      " 1941237 1369230 9142.92532  128   49 9303.00000 7805.39604  16.1%  16.2 70360s\n",
      " 1946779 1372885 9184.38829  126   43 9303.00000 7805.94297  16.1%  16.2 70365s\n",
      " 1951824 1376296     cutoff  126      9303.00000 7806.34815  16.1%  16.2 70370s\n",
      " 1959931 1381710 9013.64493  114   41 9303.00000 7806.96885  16.1%  16.2 70375s\n",
      " 1969247 1388144 9078.86433  131   41 9303.00000 7807.72610  16.1%  16.2 70380s\n",
      " 1977173 1393455 8193.57214  108   59 9303.00000 7808.43938  16.1%  16.2 70385s\n",
      " 1985734 1399326 9151.23072  130   45 9303.00000 7809.09673  16.1%  16.2 70390s\n",
      " 1995201 1405850 9121.84289  111   38 9303.00000 7809.79223  16.1%  16.2 70395s\n",
      " 2004788 1412535 9189.14645  139   35 9303.00000 7810.39509  16.0%  16.2 70400s\n",
      " 2014543 1419198 8406.60935  110   62 9303.00000 7811.09263  16.0%  16.2 70405s\n",
      " 2022393 1424732 9077.48399  128   44 9303.00000 7811.73234  16.0%  16.2 70410s\n",
      " 2032348 1431342 7880.82480   97   76 9303.00000 7812.48704  16.0%  16.2 70415s\n",
      " 2038729 1435695 8719.20140  122   51 9303.00000 7812.92090  16.0%  16.2 70420s\n",
      " 2047223 1441463 8267.38532  119   66 9303.00000 7813.62832  16.0%  16.2 70425s\n",
      " 2054304 1446242 8949.29056  108   58 9303.00000 7814.16987  16.0%  16.2 70430s\n",
      " 2062818 1452242 9028.77873  127   49 9303.00000 7814.79668  16.0%  16.2 70435s\n",
      " 2072072 1458622 8939.96754  139   46 9303.00000 7815.48693  16.0%  16.2 70440s\n",
      " 2081014 1464768 8167.99918   93   69 9303.00000 7816.17921  16.0%  16.2 70445s\n",
      " 2091491 1472052     cutoff  146      9303.00000 7816.94320  16.0%  16.2 70450s\n",
      " 2096008 1475145 8494.61796  123   53 9303.00000 7817.25814  16.0%  16.2 70455s\n",
      " 2101519 1478788 8704.67427  129   58 9303.00000 7817.65365  16.0%  16.2 70460s\n",
      " 2108706 1483847 7908.29281  120   69 9303.00000 7818.24563  16.0%  16.2 70465s\n",
      " 2112934 1486594 8484.40421  132   46 9303.00000 7818.55149  16.0%  16.2 70470s\n",
      " 2117152 1489442 8390.11885  119   71 9303.00000 7818.90734  16.0%  16.2 70475s\n",
      " 2121930 1492504 8256.92848  113   55 9303.00000 7819.26299  15.9%  16.2 70480s\n",
      " 2128620 1497236 8289.30058  110   61 9303.00000 7819.73436  15.9%  16.2 70485s\n",
      " 2133486 1500560 9167.56657  132   37 9303.00000 7820.10447  15.9%  16.2 70490s\n",
      " 2139722 1504846     cutoff  142      9303.00000 7820.52361  15.9%  16.2 70495s\n",
      " 2148222 1510544 8630.45594  129   60 9303.00000 7821.20560  15.9%  16.2 70500s\n",
      "\n",
      "\n",
      "Interrupt request received\n",
      "Cutting planes:\n",
      "  Gomory: 7\n",
      "  Implied bound: 106\n",
      "  MIR: 29\n",
      "  Flow cover: 83\n",
      "  RLT: 2\n",
      "\n",
      "Explored 2149566 nodes (34736382 simplex iterations) in 70501.05 seconds (1157.34 work units)\n",
      "Thread count was 4 (of 4 available processors)\n",
      "\n",
      "Solution count 10: 9303 9313 9318 ... 9369\n",
      "\n",
      "Solve interrupted\n",
      "Best objective 9.303000000000e+03, best bound 7.822000000000e+03, gap 15.9196%\n",
      "No optimal solution found.\n"
     ]
    }
   ],
   "source": [
    "slap.report()"
   ]
  },
  {
   "cell_type": "code",
   "execution_count": null,
   "metadata": {},
   "outputs": [],
   "source": [
    "fig_new = render_warehouse(warehouse, [11, 12, 6, 9, 8, 5], product_frequency)"
   ]
  },
  {
   "cell_type": "code",
   "execution_count": null,
   "metadata": {},
   "outputs": [
    {
     "data": {
      "application/vnd.plotly.v1+json": {
       "config": {
        "plotlyServerURL": "https://plot.ly"
       },
       "data": [
        {
         "customdata": [
          [
           0,
           -100
          ],
          [
           0,
           -100
          ],
          [
           0,
           -100
          ],
          [
           15,
           2
          ],
          [
           0,
           -100
          ],
          [
           27,
           5
          ],
          [
           22,
           3
          ],
          [
           0,
           -100
          ],
          [
           8,
           4
          ],
          [
           13,
           1
          ],
          [
           0,
           -100
          ],
          [
           24,
           0
          ],
          [
           0,
           -100
          ],
          [
           0,
           -100
          ],
          [
           0,
           -100
          ]
         ],
         "hovertemplate": "x: %{x}<br>y: %{y}<br>z: %{z}<br>Order Frequency: %{customdata[0]}<br>Product: %{customdata[1]}}",
         "marker": {
          "color": [
           0,
           0,
           0,
           15,
           0,
           27,
           22,
           0,
           8,
           13,
           0,
           24,
           0,
           0,
           0
          ],
          "colorscale": [
           [
            0,
            "rgb(3, 35, 51)"
           ],
           [
            0.09090909090909091,
            "rgb(13, 48, 100)"
           ],
           [
            0.18181818181818182,
            "rgb(53, 50, 155)"
           ],
           [
            0.2727272727272727,
            "rgb(93, 62, 153)"
           ],
           [
            0.36363636363636365,
            "rgb(126, 77, 143)"
           ],
           [
            0.45454545454545453,
            "rgb(158, 89, 135)"
           ],
           [
            0.5454545454545454,
            "rgb(193, 100, 121)"
           ],
           [
            0.6363636363636364,
            "rgb(225, 113, 97)"
           ],
           [
            0.7272727272727273,
            "rgb(246, 139, 69)"
           ],
           [
            0.8181818181818182,
            "rgb(251, 173, 60)"
           ],
           [
            0.9090909090909091,
            "rgb(246, 211, 70)"
           ],
           [
            1,
            "rgb(231, 250, 90)"
           ]
          ],
          "size": 5,
          "symbol": "square"
         },
         "mode": "markers",
         "type": "scatter3d",
         "x": [
          0,
          0,
          0,
          1,
          1,
          1,
          2,
          2,
          2,
          3,
          3,
          3,
          4,
          4,
          4
         ],
         "y": [
          0,
          1,
          2,
          0,
          1,
          2,
          0,
          1,
          2,
          0,
          1,
          2,
          0,
          1,
          2
         ],
         "z": [
          0,
          0,
          0,
          0,
          0,
          0,
          0,
          0,
          0,
          0,
          0,
          0,
          0,
          0,
          0
         ]
        }
       ],
       "layout": {
        "template": {
         "data": {
          "bar": [
           {
            "error_x": {
             "color": "#2a3f5f"
            },
            "error_y": {
             "color": "#2a3f5f"
            },
            "marker": {
             "line": {
              "color": "#E5ECF6",
              "width": 0.5
             },
             "pattern": {
              "fillmode": "overlay",
              "size": 10,
              "solidity": 0.2
             }
            },
            "type": "bar"
           }
          ],
          "barpolar": [
           {
            "marker": {
             "line": {
              "color": "#E5ECF6",
              "width": 0.5
             },
             "pattern": {
              "fillmode": "overlay",
              "size": 10,
              "solidity": 0.2
             }
            },
            "type": "barpolar"
           }
          ],
          "carpet": [
           {
            "aaxis": {
             "endlinecolor": "#2a3f5f",
             "gridcolor": "white",
             "linecolor": "white",
             "minorgridcolor": "white",
             "startlinecolor": "#2a3f5f"
            },
            "baxis": {
             "endlinecolor": "#2a3f5f",
             "gridcolor": "white",
             "linecolor": "white",
             "minorgridcolor": "white",
             "startlinecolor": "#2a3f5f"
            },
            "type": "carpet"
           }
          ],
          "choropleth": [
           {
            "colorbar": {
             "outlinewidth": 0,
             "ticks": ""
            },
            "type": "choropleth"
           }
          ],
          "contour": [
           {
            "colorbar": {
             "outlinewidth": 0,
             "ticks": ""
            },
            "colorscale": [
             [
              0,
              "#0d0887"
             ],
             [
              0.1111111111111111,
              "#46039f"
             ],
             [
              0.2222222222222222,
              "#7201a8"
             ],
             [
              0.3333333333333333,
              "#9c179e"
             ],
             [
              0.4444444444444444,
              "#bd3786"
             ],
             [
              0.5555555555555556,
              "#d8576b"
             ],
             [
              0.6666666666666666,
              "#ed7953"
             ],
             [
              0.7777777777777778,
              "#fb9f3a"
             ],
             [
              0.8888888888888888,
              "#fdca26"
             ],
             [
              1,
              "#f0f921"
             ]
            ],
            "type": "contour"
           }
          ],
          "contourcarpet": [
           {
            "colorbar": {
             "outlinewidth": 0,
             "ticks": ""
            },
            "type": "contourcarpet"
           }
          ],
          "heatmap": [
           {
            "colorbar": {
             "outlinewidth": 0,
             "ticks": ""
            },
            "colorscale": [
             [
              0,
              "#0d0887"
             ],
             [
              0.1111111111111111,
              "#46039f"
             ],
             [
              0.2222222222222222,
              "#7201a8"
             ],
             [
              0.3333333333333333,
              "#9c179e"
             ],
             [
              0.4444444444444444,
              "#bd3786"
             ],
             [
              0.5555555555555556,
              "#d8576b"
             ],
             [
              0.6666666666666666,
              "#ed7953"
             ],
             [
              0.7777777777777778,
              "#fb9f3a"
             ],
             [
              0.8888888888888888,
              "#fdca26"
             ],
             [
              1,
              "#f0f921"
             ]
            ],
            "type": "heatmap"
           }
          ],
          "heatmapgl": [
           {
            "colorbar": {
             "outlinewidth": 0,
             "ticks": ""
            },
            "colorscale": [
             [
              0,
              "#0d0887"
             ],
             [
              0.1111111111111111,
              "#46039f"
             ],
             [
              0.2222222222222222,
              "#7201a8"
             ],
             [
              0.3333333333333333,
              "#9c179e"
             ],
             [
              0.4444444444444444,
              "#bd3786"
             ],
             [
              0.5555555555555556,
              "#d8576b"
             ],
             [
              0.6666666666666666,
              "#ed7953"
             ],
             [
              0.7777777777777778,
              "#fb9f3a"
             ],
             [
              0.8888888888888888,
              "#fdca26"
             ],
             [
              1,
              "#f0f921"
             ]
            ],
            "type": "heatmapgl"
           }
          ],
          "histogram": [
           {
            "marker": {
             "pattern": {
              "fillmode": "overlay",
              "size": 10,
              "solidity": 0.2
             }
            },
            "type": "histogram"
           }
          ],
          "histogram2d": [
           {
            "colorbar": {
             "outlinewidth": 0,
             "ticks": ""
            },
            "colorscale": [
             [
              0,
              "#0d0887"
             ],
             [
              0.1111111111111111,
              "#46039f"
             ],
             [
              0.2222222222222222,
              "#7201a8"
             ],
             [
              0.3333333333333333,
              "#9c179e"
             ],
             [
              0.4444444444444444,
              "#bd3786"
             ],
             [
              0.5555555555555556,
              "#d8576b"
             ],
             [
              0.6666666666666666,
              "#ed7953"
             ],
             [
              0.7777777777777778,
              "#fb9f3a"
             ],
             [
              0.8888888888888888,
              "#fdca26"
             ],
             [
              1,
              "#f0f921"
             ]
            ],
            "type": "histogram2d"
           }
          ],
          "histogram2dcontour": [
           {
            "colorbar": {
             "outlinewidth": 0,
             "ticks": ""
            },
            "colorscale": [
             [
              0,
              "#0d0887"
             ],
             [
              0.1111111111111111,
              "#46039f"
             ],
             [
              0.2222222222222222,
              "#7201a8"
             ],
             [
              0.3333333333333333,
              "#9c179e"
             ],
             [
              0.4444444444444444,
              "#bd3786"
             ],
             [
              0.5555555555555556,
              "#d8576b"
             ],
             [
              0.6666666666666666,
              "#ed7953"
             ],
             [
              0.7777777777777778,
              "#fb9f3a"
             ],
             [
              0.8888888888888888,
              "#fdca26"
             ],
             [
              1,
              "#f0f921"
             ]
            ],
            "type": "histogram2dcontour"
           }
          ],
          "mesh3d": [
           {
            "colorbar": {
             "outlinewidth": 0,
             "ticks": ""
            },
            "type": "mesh3d"
           }
          ],
          "parcoords": [
           {
            "line": {
             "colorbar": {
              "outlinewidth": 0,
              "ticks": ""
             }
            },
            "type": "parcoords"
           }
          ],
          "pie": [
           {
            "automargin": true,
            "type": "pie"
           }
          ],
          "scatter": [
           {
            "fillpattern": {
             "fillmode": "overlay",
             "size": 10,
             "solidity": 0.2
            },
            "type": "scatter"
           }
          ],
          "scatter3d": [
           {
            "line": {
             "colorbar": {
              "outlinewidth": 0,
              "ticks": ""
             }
            },
            "marker": {
             "colorbar": {
              "outlinewidth": 0,
              "ticks": ""
             }
            },
            "type": "scatter3d"
           }
          ],
          "scattercarpet": [
           {
            "marker": {
             "colorbar": {
              "outlinewidth": 0,
              "ticks": ""
             }
            },
            "type": "scattercarpet"
           }
          ],
          "scattergeo": [
           {
            "marker": {
             "colorbar": {
              "outlinewidth": 0,
              "ticks": ""
             }
            },
            "type": "scattergeo"
           }
          ],
          "scattergl": [
           {
            "marker": {
             "colorbar": {
              "outlinewidth": 0,
              "ticks": ""
             }
            },
            "type": "scattergl"
           }
          ],
          "scattermapbox": [
           {
            "marker": {
             "colorbar": {
              "outlinewidth": 0,
              "ticks": ""
             }
            },
            "type": "scattermapbox"
           }
          ],
          "scatterpolar": [
           {
            "marker": {
             "colorbar": {
              "outlinewidth": 0,
              "ticks": ""
             }
            },
            "type": "scatterpolar"
           }
          ],
          "scatterpolargl": [
           {
            "marker": {
             "colorbar": {
              "outlinewidth": 0,
              "ticks": ""
             }
            },
            "type": "scatterpolargl"
           }
          ],
          "scatterternary": [
           {
            "marker": {
             "colorbar": {
              "outlinewidth": 0,
              "ticks": ""
             }
            },
            "type": "scatterternary"
           }
          ],
          "surface": [
           {
            "colorbar": {
             "outlinewidth": 0,
             "ticks": ""
            },
            "colorscale": [
             [
              0,
              "#0d0887"
             ],
             [
              0.1111111111111111,
              "#46039f"
             ],
             [
              0.2222222222222222,
              "#7201a8"
             ],
             [
              0.3333333333333333,
              "#9c179e"
             ],
             [
              0.4444444444444444,
              "#bd3786"
             ],
             [
              0.5555555555555556,
              "#d8576b"
             ],
             [
              0.6666666666666666,
              "#ed7953"
             ],
             [
              0.7777777777777778,
              "#fb9f3a"
             ],
             [
              0.8888888888888888,
              "#fdca26"
             ],
             [
              1,
              "#f0f921"
             ]
            ],
            "type": "surface"
           }
          ],
          "table": [
           {
            "cells": {
             "fill": {
              "color": "#EBF0F8"
             },
             "line": {
              "color": "white"
             }
            },
            "header": {
             "fill": {
              "color": "#C8D4E3"
             },
             "line": {
              "color": "white"
             }
            },
            "type": "table"
           }
          ]
         },
         "layout": {
          "annotationdefaults": {
           "arrowcolor": "#2a3f5f",
           "arrowhead": 0,
           "arrowwidth": 1
          },
          "autotypenumbers": "strict",
          "coloraxis": {
           "colorbar": {
            "outlinewidth": 0,
            "ticks": ""
           }
          },
          "colorscale": {
           "diverging": [
            [
             0,
             "#8e0152"
            ],
            [
             0.1,
             "#c51b7d"
            ],
            [
             0.2,
             "#de77ae"
            ],
            [
             0.3,
             "#f1b6da"
            ],
            [
             0.4,
             "#fde0ef"
            ],
            [
             0.5,
             "#f7f7f7"
            ],
            [
             0.6,
             "#e6f5d0"
            ],
            [
             0.7,
             "#b8e186"
            ],
            [
             0.8,
             "#7fbc41"
            ],
            [
             0.9,
             "#4d9221"
            ],
            [
             1,
             "#276419"
            ]
           ],
           "sequential": [
            [
             0,
             "#0d0887"
            ],
            [
             0.1111111111111111,
             "#46039f"
            ],
            [
             0.2222222222222222,
             "#7201a8"
            ],
            [
             0.3333333333333333,
             "#9c179e"
            ],
            [
             0.4444444444444444,
             "#bd3786"
            ],
            [
             0.5555555555555556,
             "#d8576b"
            ],
            [
             0.6666666666666666,
             "#ed7953"
            ],
            [
             0.7777777777777778,
             "#fb9f3a"
            ],
            [
             0.8888888888888888,
             "#fdca26"
            ],
            [
             1,
             "#f0f921"
            ]
           ],
           "sequentialminus": [
            [
             0,
             "#0d0887"
            ],
            [
             0.1111111111111111,
             "#46039f"
            ],
            [
             0.2222222222222222,
             "#7201a8"
            ],
            [
             0.3333333333333333,
             "#9c179e"
            ],
            [
             0.4444444444444444,
             "#bd3786"
            ],
            [
             0.5555555555555556,
             "#d8576b"
            ],
            [
             0.6666666666666666,
             "#ed7953"
            ],
            [
             0.7777777777777778,
             "#fb9f3a"
            ],
            [
             0.8888888888888888,
             "#fdca26"
            ],
            [
             1,
             "#f0f921"
            ]
           ]
          },
          "colorway": [
           "#636efa",
           "#EF553B",
           "#00cc96",
           "#ab63fa",
           "#FFA15A",
           "#19d3f3",
           "#FF6692",
           "#B6E880",
           "#FF97FF",
           "#FECB52"
          ],
          "font": {
           "color": "#2a3f5f"
          },
          "geo": {
           "bgcolor": "white",
           "lakecolor": "white",
           "landcolor": "#E5ECF6",
           "showlakes": true,
           "showland": true,
           "subunitcolor": "white"
          },
          "hoverlabel": {
           "align": "left"
          },
          "hovermode": "closest",
          "mapbox": {
           "style": "light"
          },
          "paper_bgcolor": "white",
          "plot_bgcolor": "#E5ECF6",
          "polar": {
           "angularaxis": {
            "gridcolor": "white",
            "linecolor": "white",
            "ticks": ""
           },
           "bgcolor": "#E5ECF6",
           "radialaxis": {
            "gridcolor": "white",
            "linecolor": "white",
            "ticks": ""
           }
          },
          "scene": {
           "xaxis": {
            "backgroundcolor": "#E5ECF6",
            "gridcolor": "white",
            "gridwidth": 2,
            "linecolor": "white",
            "showbackground": true,
            "ticks": "",
            "zerolinecolor": "white"
           },
           "yaxis": {
            "backgroundcolor": "#E5ECF6",
            "gridcolor": "white",
            "gridwidth": 2,
            "linecolor": "white",
            "showbackground": true,
            "ticks": "",
            "zerolinecolor": "white"
           },
           "zaxis": {
            "backgroundcolor": "#E5ECF6",
            "gridcolor": "white",
            "gridwidth": 2,
            "linecolor": "white",
            "showbackground": true,
            "ticks": "",
            "zerolinecolor": "white"
           }
          },
          "shapedefaults": {
           "line": {
            "color": "#2a3f5f"
           }
          },
          "ternary": {
           "aaxis": {
            "gridcolor": "white",
            "linecolor": "white",
            "ticks": ""
           },
           "baxis": {
            "gridcolor": "white",
            "linecolor": "white",
            "ticks": ""
           },
           "bgcolor": "#E5ECF6",
           "caxis": {
            "gridcolor": "white",
            "linecolor": "white",
            "ticks": ""
           }
          },
          "title": {
           "x": 0.05
          },
          "xaxis": {
           "automargin": true,
           "gridcolor": "white",
           "linecolor": "white",
           "ticks": "",
           "title": {
            "standoff": 15
           },
           "zerolinecolor": "white",
           "zerolinewidth": 2
          },
          "yaxis": {
           "automargin": true,
           "gridcolor": "white",
           "linecolor": "white",
           "ticks": "",
           "title": {
            "standoff": 15
           },
           "zerolinecolor": "white",
           "zerolinewidth": 2
          }
         }
        },
        "title": {
         "text": "Warehouse Visualization"
        }
       }
      }
     },
     "metadata": {},
     "output_type": "display_data"
    }
   ],
   "source": [
    "fig_new.show()"
   ]
  },
  {
   "cell_type": "code",
   "execution_count": null,
   "metadata": {},
   "outputs": [],
   "source": [
    "#fig_new.write_json(\"new_layout.json\") "
   ]
  },
  {
   "cell_type": "code",
   "execution_count": 20,
   "metadata": {},
   "outputs": [],
   "source": [
    "def generate_genome(products, locations_list):\n",
    "    chromosome = []\n",
    "   \n",
    "    random.shuffle(locations_list)\n",
    "    for i in range(len(products)):\n",
    "        storage_loc = locations_list[i]\n",
    "        chromosome.append(storage_loc)\n",
    "    return chromosome"
   ]
  },
  {
   "cell_type": "code",
   "execution_count": 21,
   "metadata": {},
   "outputs": [],
   "source": [
    "initial_population = [generate_genome(products, storage_locs) for _ in range(200)]"
   ]
  },
  {
   "cell_type": "code",
   "execution_count": 23,
   "metadata": {},
   "outputs": [
    {
     "name": "stdout",
     "output_type": "stream",
     "text": [
      "0 790\n",
      "1 834\n",
      "2 790\n",
      "3 834\n",
      "4 790\n",
      "5 834\n",
      "6 790\n",
      "7 834\n",
      "8 790\n",
      "9 834\n",
      "10 790\n",
      "11 834\n",
      "12 790\n",
      "13 834\n",
      "14 790\n",
      "15 834\n",
      "16 790\n",
      "17 834\n",
      "18 790\n",
      "19 834\n",
      "20 790\n",
      "21 834\n",
      "22 790\n",
      "23 834\n",
      "24 790\n",
      "25 834\n",
      "26 790\n",
      "27 834\n",
      "28 790\n",
      "29 834\n",
      "30 790\n",
      "31 834\n",
      "32 790\n",
      "33 834\n",
      "34 790\n",
      "35 834\n",
      "36 790\n",
      "37 834\n",
      "38 790\n",
      "39 834\n",
      "40 790\n",
      "41 834\n",
      "42 790\n",
      "43 834\n",
      "44 790\n",
      "45 834\n",
      "46 790\n",
      "47 834\n",
      "48 790\n",
      "49 834\n",
      "50 790\n",
      "51 834\n",
      "52 790\n",
      "53 834\n",
      "54 790\n",
      "55 834\n",
      "56 790\n",
      "57 834\n",
      "58 790\n",
      "59 834\n",
      "60 790\n",
      "61 834\n",
      "62 790\n",
      "63 834\n",
      "64 790\n",
      "65 834\n",
      "66 790\n",
      "67 834\n",
      "68 790\n",
      "69 834\n",
      "70 790\n",
      "71 834\n",
      "72 790\n",
      "73 834\n",
      "74 790\n",
      "75 834\n",
      "76 790\n",
      "77 834\n",
      "78 790\n",
      "79 834\n",
      "80 790\n",
      "81 834\n",
      "82 790\n",
      "83 834\n",
      "84 790\n",
      "85 834\n",
      "86 790\n",
      "87 834\n",
      "88 790\n",
      "89 834\n",
      "90 790\n",
      "91 834\n",
      "92 790\n",
      "93 834\n",
      "94 790\n",
      "95 834\n",
      "96 790\n",
      "97 834\n",
      "98 790\n",
      "99 834\n",
      "100 790\n",
      "101 834\n",
      "102 790\n",
      "103 834\n",
      "104 790\n",
      "105 834\n",
      "106 790\n",
      "107 834\n",
      "108 790\n",
      "109 834\n",
      "110 790\n",
      "111 834\n",
      "112 790\n",
      "113 834\n",
      "114 790\n",
      "115 834\n",
      "116 790\n",
      "117 834\n",
      "118 790\n",
      "119 834\n",
      "120 790\n",
      "121 834\n",
      "122 790\n",
      "123 834\n",
      "124 790\n",
      "125 834\n",
      "126 790\n",
      "127 834\n",
      "128 790\n",
      "129 834\n",
      "130 790\n",
      "131 834\n",
      "132 790\n",
      "133 834\n",
      "134 790\n",
      "135 834\n",
      "136 790\n",
      "137 834\n",
      "138 790\n",
      "139 834\n",
      "140 790\n",
      "141 834\n",
      "142 790\n",
      "143 834\n",
      "144 790\n",
      "145 834\n",
      "146 790\n",
      "147 834\n",
      "148 790\n",
      "149 834\n",
      "150 790\n",
      "151 834\n",
      "152 790\n",
      "153 834\n",
      "154 790\n",
      "155 834\n",
      "156 790\n",
      "157 834\n",
      "158 790\n",
      "159 834\n",
      "160 790\n",
      "161 834\n",
      "162 790\n",
      "163 834\n",
      "164 790\n",
      "165 834\n",
      "166 790\n",
      "167 834\n",
      "168 790\n",
      "169 834\n",
      "170 790\n",
      "171 834\n",
      "172 790\n",
      "173 834\n",
      "174 790\n",
      "175 834\n",
      "176 790\n",
      "177 834\n",
      "178 790\n",
      "179 834\n",
      "180 790\n",
      "181 834\n",
      "182 790\n",
      "183 834\n",
      "184 790\n",
      "185 834\n",
      "186 790\n",
      "187 834\n",
      "188 790\n",
      "189 834\n",
      "190 790\n",
      "191 834\n",
      "192 790\n",
      "193 834\n",
      "194 790\n",
      "195 834\n",
      "196 790\n",
      "197 834\n",
      "198 790\n",
      "199 834\n",
      "200 790\n",
      "201 834\n",
      "202 790\n",
      "203 834\n",
      "204 790\n",
      "205 834\n",
      "206 790\n",
      "207 834\n",
      "208 790\n",
      "209 834\n",
      "210 790\n",
      "211 834\n",
      "212 790\n",
      "213 834\n",
      "214 790\n",
      "215 834\n",
      "216 790\n",
      "217 834\n",
      "218 790\n",
      "219 834\n",
      "220 790\n",
      "221 834\n",
      "222 790\n",
      "223 834\n",
      "224 790\n",
      "225 834\n",
      "226 790\n",
      "227 834\n",
      "228 790\n",
      "229 834\n",
      "230 790\n",
      "231 834\n",
      "232 790\n",
      "233 834\n",
      "234 790\n",
      "235 834\n",
      "236 790\n",
      "237 834\n",
      "238 790\n",
      "239 834\n",
      "240 790\n",
      "241 834\n",
      "242 790\n",
      "243 834\n",
      "244 790\n",
      "245 834\n",
      "246 790\n",
      "247 834\n",
      "248 790\n",
      "249 834\n",
      "250 790\n",
      "251 834\n",
      "252 790\n",
      "253 834\n",
      "254 790\n",
      "255 834\n",
      "256 790\n",
      "257 834\n",
      "258 790\n",
      "259 834\n",
      "260 790\n",
      "261 834\n",
      "262 790\n",
      "263 834\n",
      "264 790\n",
      "265 834\n",
      "266 790\n",
      "267 834\n",
      "268 790\n",
      "269 834\n",
      "270 790\n",
      "271 834\n",
      "272 790\n",
      "273 834\n",
      "274 790\n",
      "275 834\n",
      "276 790\n",
      "277 834\n",
      "278 790\n",
      "279 834\n",
      "280 790\n",
      "281 834\n",
      "282 790\n",
      "283 834\n",
      "284 790\n",
      "285 834\n",
      "286 790\n",
      "287 834\n",
      "288 790\n",
      "289 834\n",
      "290 790\n",
      "291 834\n",
      "292 790\n",
      "293 834\n",
      "294 790\n",
      "295 834\n",
      "296 790\n",
      "297 834\n",
      "298 790\n",
      "299 834\n",
      "300 790\n",
      "301 834\n",
      "302 790\n",
      "303 834\n",
      "304 790\n",
      "305 834\n",
      "306 790\n",
      "307 834\n",
      "308 790\n",
      "309 834\n",
      "310 790\n",
      "311 834\n",
      "312 790\n",
      "313 834\n",
      "314 790\n",
      "315 834\n",
      "316 790\n",
      "317 834\n",
      "318 790\n",
      "319 834\n",
      "320 790\n",
      "321 834\n",
      "322 790\n",
      "323 834\n",
      "324 790\n",
      "325 834\n",
      "326 790\n",
      "327 834\n",
      "328 790\n",
      "329 834\n",
      "330 790\n",
      "331 834\n",
      "332 790\n",
      "333 834\n",
      "334 790\n",
      "335 834\n",
      "336 790\n",
      "337 834\n",
      "338 790\n",
      "339 834\n",
      "340 790\n",
      "341 834\n",
      "342 790\n",
      "343 834\n",
      "344 790\n",
      "345 834\n",
      "346 790\n",
      "347 834\n",
      "348 790\n",
      "349 834\n",
      "350 790\n",
      "351 834\n",
      "352 790\n",
      "353 834\n",
      "354 790\n",
      "355 834\n",
      "356 790\n",
      "357 834\n",
      "358 790\n",
      "359 834\n",
      "360 790\n",
      "361 834\n",
      "362 790\n",
      "363 834\n",
      "364 790\n",
      "365 834\n",
      "366 790\n",
      "367 834\n",
      "368 790\n",
      "369 834\n",
      "370 790\n",
      "371 834\n",
      "372 790\n",
      "373 834\n",
      "374 790\n",
      "375 834\n",
      "376 790\n",
      "377 834\n",
      "378 790\n",
      "379 834\n",
      "380 790\n",
      "381 834\n",
      "382 790\n",
      "383 834\n",
      "384 790\n",
      "385 834\n",
      "386 790\n",
      "387 834\n",
      "388 790\n",
      "389 834\n",
      "390 790\n",
      "391 834\n",
      "392 790\n",
      "393 834\n",
      "394 790\n",
      "395 834\n",
      "396 790\n",
      "397 834\n",
      "398 790\n",
      "399 834\n",
      "400 790\n",
      "401 834\n",
      "402 790\n",
      "403 834\n",
      "404 790\n",
      "405 834\n",
      "406 790\n",
      "407 834\n",
      "408 790\n",
      "409 834\n",
      "410 790\n",
      "411 834\n",
      "412 790\n",
      "413 834\n",
      "414 790\n",
      "415 834\n",
      "416 790\n",
      "417 834\n",
      "418 790\n",
      "419 834\n",
      "420 790\n",
      "421 834\n",
      "422 790\n",
      "423 834\n",
      "424 790\n",
      "425 834\n",
      "426 790\n",
      "427 834\n",
      "428 790\n",
      "429 834\n",
      "430 790\n",
      "431 834\n",
      "432 790\n",
      "433 834\n",
      "434 790\n",
      "435 834\n",
      "436 790\n",
      "437 834\n",
      "438 790\n",
      "439 834\n",
      "440 790\n",
      "441 834\n",
      "442 790\n",
      "443 834\n",
      "444 790\n",
      "445 834\n",
      "446 790\n",
      "447 834\n",
      "448 790\n",
      "449 834\n",
      "450 790\n",
      "451 834\n",
      "452 790\n",
      "453 834\n",
      "454 790\n",
      "455 834\n",
      "456 790\n",
      "457 834\n",
      "458 790\n",
      "459 834\n",
      "460 790\n",
      "461 834\n",
      "462 790\n",
      "463 834\n",
      "464 790\n",
      "465 834\n",
      "466 790\n",
      "467 834\n",
      "468 790\n",
      "469 834\n",
      "470 790\n",
      "471 834\n",
      "472 790\n",
      "473 834\n",
      "474 790\n",
      "475 834\n",
      "476 790\n",
      "477 834\n",
      "478 790\n",
      "479 834\n",
      "480 790\n",
      "481 834\n",
      "482 790\n",
      "483 834\n",
      "484 790\n",
      "485 834\n",
      "486 790\n",
      "487 834\n",
      "488 790\n",
      "489 834\n",
      "490 790\n",
      "491 834\n",
      "492 790\n",
      "493 834\n",
      "494 790\n",
      "495 834\n",
      "496 790\n",
      "497 834\n",
      "498 790\n",
      "499 834\n",
      "500 790\n",
      "501 834\n",
      "502 790\n",
      "503 834\n",
      "504 790\n",
      "505 834\n",
      "506 790\n",
      "507 834\n",
      "508 790\n",
      "509 834\n",
      "510 790\n",
      "511 834\n",
      "512 790\n",
      "513 834\n",
      "514 790\n",
      "515 834\n",
      "516 790\n",
      "517 834\n",
      "518 790\n",
      "519 834\n",
      "520 790\n",
      "521 834\n",
      "522 790\n",
      "523 834\n",
      "524 790\n",
      "525 834\n",
      "526 790\n",
      "527 834\n",
      "528 790\n",
      "529 834\n",
      "530 790\n",
      "531 834\n",
      "532 790\n",
      "533 834\n",
      "534 790\n",
      "535 834\n",
      "536 790\n",
      "537 834\n",
      "538 790\n",
      "539 834\n",
      "540 790\n",
      "541 834\n",
      "542 790\n",
      "543 834\n",
      "544 790\n",
      "545 834\n",
      "546 790\n",
      "547 834\n",
      "548 790\n",
      "549 834\n",
      "550 790\n",
      "551 834\n",
      "552 790\n",
      "553 834\n",
      "554 790\n",
      "555 834\n",
      "556 790\n",
      "557 834\n",
      "558 790\n",
      "559 834\n",
      "560 790\n",
      "561 834\n",
      "562 790\n",
      "563 834\n",
      "564 790\n",
      "565 834\n",
      "566 790\n",
      "567 834\n",
      "568 790\n",
      "569 834\n",
      "570 790\n",
      "571 834\n",
      "572 790\n",
      "573 834\n",
      "574 790\n",
      "575 834\n",
      "576 790\n",
      "577 834\n",
      "578 790\n",
      "579 834\n",
      "580 790\n",
      "581 834\n",
      "582 790\n",
      "583 834\n",
      "584 790\n",
      "585 834\n",
      "586 790\n",
      "587 834\n",
      "588 790\n",
      "589 834\n",
      "590 790\n",
      "591 834\n",
      "592 790\n",
      "593 834\n",
      "594 790\n",
      "595 834\n",
      "596 790\n",
      "597 834\n",
      "598 790\n",
      "599 834\n",
      "600 790\n",
      "601 834\n",
      "602 790\n",
      "603 834\n",
      "604 790\n",
      "605 834\n",
      "606 790\n",
      "607 834\n",
      "608 790\n",
      "609 834\n",
      "610 790\n",
      "611 834\n",
      "612 790\n",
      "613 834\n",
      "614 790\n",
      "615 834\n",
      "616 790\n",
      "617 834\n",
      "618 790\n",
      "619 834\n",
      "620 790\n",
      "621 834\n",
      "622 790\n",
      "623 834\n",
      "624 790\n",
      "625 834\n",
      "626 790\n",
      "627 834\n",
      "628 790\n",
      "629 834\n",
      "630 790\n",
      "631 834\n",
      "632 790\n",
      "633 834\n",
      "634 790\n",
      "635 834\n",
      "636 790\n",
      "637 834\n",
      "638 790\n",
      "639 834\n",
      "640 790\n",
      "641 834\n",
      "642 790\n",
      "643 834\n",
      "644 790\n",
      "645 834\n",
      "646 790\n",
      "647 834\n",
      "648 790\n",
      "649 834\n",
      "650 790\n",
      "651 834\n",
      "652 790\n",
      "653 834\n",
      "654 790\n",
      "655 834\n",
      "656 790\n",
      "657 834\n",
      "658 790\n",
      "659 834\n",
      "660 790\n",
      "661 834\n",
      "662 790\n",
      "663 834\n",
      "664 790\n",
      "665 834\n",
      "666 790\n",
      "667 834\n",
      "668 790\n",
      "669 834\n",
      "670 790\n",
      "671 834\n",
      "672 790\n",
      "673 834\n",
      "674 790\n",
      "675 834\n",
      "676 790\n",
      "677 834\n",
      "678 790\n",
      "679 834\n",
      "680 790\n",
      "681 834\n",
      "682 790\n",
      "683 834\n",
      "684 790\n",
      "685 834\n",
      "686 790\n",
      "687 834\n",
      "688 790\n",
      "689 834\n",
      "690 790\n",
      "691 834\n",
      "692 790\n",
      "693 834\n",
      "694 790\n",
      "695 834\n",
      "696 790\n",
      "697 834\n",
      "698 790\n",
      "699 834\n",
      "700 790\n",
      "701 834\n",
      "702 790\n",
      "703 834\n",
      "704 790\n",
      "705 834\n",
      "706 790\n",
      "707 834\n",
      "708 790\n",
      "709 834\n",
      "710 790\n",
      "711 834\n",
      "712 790\n",
      "713 834\n",
      "714 790\n",
      "715 834\n",
      "716 790\n",
      "717 834\n",
      "718 790\n",
      "719 834\n",
      "720 790\n",
      "721 834\n",
      "722 790\n",
      "723 834\n",
      "724 790\n",
      "725 834\n",
      "726 790\n",
      "727 834\n",
      "728 790\n",
      "729 834\n",
      "730 790\n",
      "731 834\n",
      "732 790\n",
      "733 834\n",
      "734 790\n",
      "735 834\n",
      "736 790\n",
      "737 834\n",
      "738 790\n",
      "739 834\n",
      "740 790\n",
      "741 834\n",
      "742 790\n",
      "743 834\n",
      "744 790\n",
      "745 834\n",
      "746 790\n",
      "747 834\n",
      "748 790\n",
      "749 834\n",
      "750 790\n",
      "751 834\n",
      "752 790\n",
      "753 834\n",
      "754 790\n",
      "755 834\n",
      "756 790\n",
      "757 834\n",
      "758 790\n",
      "759 834\n",
      "760 790\n",
      "761 834\n",
      "762 790\n",
      "763 834\n",
      "764 790\n",
      "765 834\n",
      "766 790\n",
      "767 834\n",
      "768 790\n",
      "769 834\n",
      "770 790\n",
      "771 834\n",
      "772 790\n",
      "773 834\n",
      "774 790\n",
      "775 834\n",
      "776 790\n",
      "777 834\n",
      "778 790\n",
      "779 834\n",
      "780 790\n",
      "781 834\n",
      "782 790\n",
      "783 834\n",
      "784 790\n",
      "785 834\n",
      "786 790\n",
      "787 834\n",
      "788 790\n",
      "789 834\n",
      "790 790\n",
      "791 834\n",
      "792 790\n",
      "793 834\n",
      "794 790\n",
      "795 834\n",
      "796 790\n",
      "797 834\n",
      "798 790\n",
      "799 834\n",
      "800 790\n",
      "801 834\n",
      "802 790\n",
      "803 834\n",
      "804 790\n",
      "805 834\n",
      "806 790\n",
      "807 834\n",
      "808 790\n",
      "809 834\n",
      "810 790\n",
      "811 834\n",
      "812 790\n",
      "813 834\n",
      "814 790\n",
      "815 834\n",
      "816 790\n",
      "817 834\n",
      "818 790\n",
      "819 834\n",
      "820 790\n",
      "821 834\n",
      "822 790\n",
      "823 834\n",
      "824 790\n",
      "825 834\n",
      "826 790\n",
      "827 834\n",
      "828 790\n",
      "829 834\n",
      "830 790\n",
      "831 834\n",
      "832 790\n",
      "833 834\n",
      "834 790\n",
      "835 834\n",
      "836 790\n",
      "837 834\n",
      "838 790\n",
      "839 834\n",
      "840 790\n",
      "841 834\n",
      "842 790\n",
      "843 834\n",
      "844 790\n",
      "845 834\n",
      "846 790\n",
      "847 834\n",
      "848 790\n",
      "849 834\n",
      "850 790\n",
      "851 834\n",
      "852 790\n",
      "853 834\n",
      "854 790\n",
      "855 834\n",
      "856 790\n",
      "857 834\n",
      "858 790\n",
      "859 834\n",
      "860 790\n",
      "861 834\n",
      "862 790\n",
      "863 834\n",
      "864 790\n",
      "865 834\n",
      "866 790\n",
      "867 834\n",
      "868 790\n",
      "869 834\n",
      "870 790\n",
      "871 834\n",
      "872 790\n",
      "873 834\n",
      "874 790\n",
      "875 834\n",
      "876 790\n",
      "877 834\n",
      "878 790\n",
      "879 834\n",
      "880 790\n",
      "881 834\n",
      "882 790\n",
      "883 834\n",
      "884 790\n",
      "885 834\n",
      "886 790\n",
      "887 834\n",
      "888 790\n",
      "889 834\n",
      "890 790\n",
      "891 834\n",
      "892 790\n",
      "893 834\n",
      "894 790\n",
      "895 834\n",
      "896 790\n",
      "897 834\n",
      "898 790\n",
      "899 834\n",
      "900 790\n",
      "901 834\n",
      "902 790\n",
      "903 834\n",
      "904 790\n",
      "905 834\n",
      "906 790\n",
      "907 834\n",
      "908 790\n",
      "909 834\n",
      "910 790\n",
      "911 834\n",
      "912 790\n",
      "913 834\n",
      "914 790\n",
      "915 834\n",
      "916 790\n",
      "917 834\n",
      "918 790\n",
      "919 834\n",
      "920 790\n",
      "921 834\n",
      "922 790\n",
      "923 834\n",
      "924 790\n",
      "925 834\n",
      "926 790\n",
      "927 834\n",
      "928 790\n",
      "929 834\n",
      "930 790\n",
      "931 834\n",
      "932 790\n",
      "933 834\n",
      "934 790\n",
      "935 834\n",
      "936 790\n",
      "937 834\n",
      "938 790\n",
      "939 834\n",
      "940 790\n",
      "941 834\n",
      "942 790\n",
      "943 834\n",
      "944 790\n",
      "945 834\n",
      "946 790\n",
      "947 834\n",
      "948 790\n",
      "949 834\n",
      "950 790\n",
      "951 834\n",
      "952 790\n",
      "953 834\n",
      "954 790\n",
      "955 834\n",
      "956 790\n",
      "957 834\n",
      "958 790\n",
      "959 834\n",
      "960 790\n",
      "961 834\n",
      "962 790\n",
      "963 834\n",
      "964 790\n",
      "965 834\n",
      "966 790\n",
      "967 834\n",
      "968 790\n",
      "969 834\n",
      "970 790\n",
      "971 834\n",
      "972 790\n",
      "973 834\n",
      "974 790\n",
      "975 834\n",
      "976 790\n",
      "977 834\n",
      "978 790\n",
      "979 834\n",
      "980 790\n",
      "981 834\n",
      "982 790\n",
      "983 834\n",
      "984 790\n",
      "985 834\n",
      "986 790\n",
      "987 834\n",
      "988 790\n",
      "989 834\n",
      "990 790\n",
      "991 834\n",
      "992 790\n",
      "993 834\n",
      "994 790\n",
      "995 834\n",
      "996 790\n",
      "997 834\n",
      "998 790\n",
      "999 834\n",
      "1000 790\n",
      "1001 834\n",
      "1002 790\n",
      "1003 834\n",
      "1004 790\n",
      "1005 834\n",
      "1006 790\n",
      "1007 834\n",
      "1008 790\n",
      "1009 834\n",
      "1010 790\n",
      "1011 834\n",
      "1012 790\n",
      "1013 834\n",
      "1014 790\n",
      "1015 834\n",
      "1016 790\n",
      "1017 834\n",
      "1018 790\n",
      "1019 834\n",
      "1020 790\n",
      "1021 834\n",
      "1022 790\n",
      "1023 834\n",
      "1024 790\n",
      "1025 834\n",
      "1026 790\n",
      "1027 834\n",
      "1028 790\n",
      "1029 834\n",
      "1030 790\n",
      "1031 834\n",
      "1032 790\n",
      "1033 834\n",
      "1034 790\n",
      "1035 834\n",
      "1036 790\n",
      "1037 834\n",
      "1038 790\n",
      "1039 834\n",
      "1040 790\n",
      "1041 834\n",
      "1042 790\n",
      "1043 834\n",
      "1044 790\n",
      "1045 834\n",
      "1046 790\n",
      "1047 834\n",
      "1048 790\n",
      "1049 834\n",
      "1050 790\n",
      "1051 834\n",
      "1052 790\n",
      "1053 834\n",
      "1054 790\n",
      "1055 834\n",
      "1056 790\n",
      "1057 834\n",
      "1058 790\n",
      "1059 834\n",
      "1060 790\n",
      "1061 834\n",
      "1062 790\n",
      "1063 834\n",
      "1064 790\n",
      "1065 834\n",
      "1066 790\n",
      "1067 834\n",
      "1068 790\n",
      "1069 834\n",
      "1070 790\n",
      "1071 834\n",
      "1072 790\n",
      "1073 834\n",
      "1074 790\n",
      "1075 834\n",
      "1076 790\n",
      "1077 834\n",
      "1078 790\n",
      "1079 834\n",
      "1080 790\n",
      "1081 834\n",
      "1082 790\n",
      "1083 834\n",
      "1084 790\n",
      "1085 834\n",
      "1086 790\n",
      "1087 834\n",
      "1088 790\n",
      "1089 834\n",
      "1090 790\n",
      "1091 834\n",
      "1092 790\n",
      "1093 834\n",
      "1094 790\n",
      "1095 834\n",
      "1096 790\n",
      "1097 834\n",
      "1098 790\n",
      "1099 834\n",
      "1100 790\n",
      "1101 834\n",
      "1102 790\n",
      "1103 834\n",
      "1104 790\n",
      "1105 834\n",
      "1106 790\n",
      "1107 834\n",
      "1108 790\n",
      "1109 834\n",
      "1110 790\n",
      "1111 834\n",
      "1112 790\n",
      "1113 834\n",
      "1114 790\n",
      "1115 834\n",
      "1116 790\n",
      "1117 834\n",
      "1118 790\n",
      "1119 834\n",
      "1120 790\n",
      "1121 834\n",
      "1122 790\n",
      "1123 834\n",
      "1124 790\n",
      "1125 834\n",
      "1126 790\n",
      "1127 834\n",
      "1128 790\n",
      "1129 834\n",
      "1130 790\n",
      "1131 834\n",
      "1132 790\n",
      "1133 834\n",
      "1134 790\n",
      "1135 834\n",
      "1136 790\n",
      "1137 834\n",
      "1138 790\n",
      "1139 834\n",
      "1140 790\n",
      "1141 834\n",
      "1142 790\n",
      "1143 834\n",
      "1144 790\n",
      "1145 834\n",
      "1146 790\n",
      "1147 834\n",
      "1148 790\n",
      "1149 834\n",
      "1150 790\n",
      "1151 834\n",
      "1152 790\n",
      "1153 834\n",
      "1154 790\n",
      "1155 834\n",
      "1156 790\n",
      "1157 834\n",
      "1158 790\n",
      "1159 834\n",
      "1160 790\n",
      "1161 834\n",
      "1162 790\n",
      "1163 834\n",
      "1164 790\n",
      "1165 834\n",
      "1166 790\n",
      "1167 834\n",
      "1168 790\n",
      "1169 834\n",
      "1170 790\n",
      "1171 834\n",
      "1172 790\n",
      "1173 834\n",
      "1174 790\n",
      "1175 834\n",
      "1176 790\n",
      "1177 834\n",
      "1178 790\n",
      "1179 834\n",
      "1180 790\n",
      "1181 834\n",
      "1182 790\n",
      "1183 834\n",
      "1184 790\n",
      "1185 834\n",
      "1186 790\n",
      "1187 834\n",
      "1188 790\n",
      "1189 834\n",
      "1190 790\n",
      "1191 834\n",
      "1192 790\n",
      "1193 834\n",
      "1194 790\n",
      "1195 834\n",
      "1196 790\n",
      "1197 834\n",
      "1198 790\n",
      "1199 834\n",
      "1200 790\n",
      "1201 834\n",
      "1202 790\n",
      "1203 834\n",
      "1204 790\n",
      "1205 834\n",
      "1206 790\n",
      "1207 834\n",
      "1208 790\n",
      "1209 834\n",
      "1210 790\n",
      "1211 834\n",
      "1212 790\n",
      "1213 834\n",
      "1214 790\n",
      "1215 834\n",
      "1216 790\n",
      "1217 834\n",
      "1218 790\n",
      "1219 834\n",
      "1220 790\n",
      "1221 834\n",
      "1222 790\n",
      "1223 834\n",
      "1224 790\n",
      "1225 834\n",
      "1226 790\n",
      "1227 834\n",
      "1228 790\n",
      "1229 834\n",
      "1230 790\n",
      "1231 834\n",
      "1232 790\n",
      "1233 834\n",
      "1234 790\n",
      "1235 834\n",
      "1236 790\n",
      "1237 834\n",
      "1238 790\n",
      "1239 834\n",
      "1240 790\n",
      "1241 834\n",
      "1242 790\n",
      "1243 834\n",
      "1244 790\n",
      "1245 834\n",
      "1246 790\n",
      "1247 834\n",
      "1248 790\n",
      "1249 834\n",
      "1250 790\n",
      "1251 834\n",
      "1252 790\n",
      "1253 834\n",
      "1254 790\n",
      "1255 834\n",
      "1256 790\n",
      "1257 834\n",
      "1258 790\n",
      "1259 834\n",
      "1260 790\n",
      "1261 834\n",
      "1262 790\n",
      "1263 834\n",
      "1264 790\n",
      "1265 834\n",
      "1266 790\n",
      "1267 834\n",
      "1268 790\n",
      "1269 834\n",
      "1270 790\n",
      "1271 834\n",
      "1272 790\n",
      "1273 834\n",
      "1274 790\n",
      "1275 834\n",
      "1276 790\n",
      "1277 834\n",
      "1278 790\n",
      "1279 834\n",
      "1280 790\n",
      "1281 834\n",
      "1282 790\n",
      "1283 834\n",
      "1284 790\n",
      "1285 834\n",
      "1286 790\n",
      "1287 834\n",
      "1288 790\n",
      "1289 834\n",
      "1290 790\n",
      "1291 834\n",
      "1292 790\n",
      "1293 834\n",
      "1294 790\n",
      "1295 834\n",
      "1296 790\n",
      "1297 834\n",
      "1298 790\n",
      "1299 834\n",
      "1300 790\n",
      "1301 834\n",
      "1302 790\n",
      "1303 834\n",
      "1304 790\n",
      "1305 834\n",
      "1306 790\n",
      "1307 834\n",
      "1308 790\n",
      "1309 834\n",
      "1310 790\n",
      "1311 834\n",
      "1312 790\n",
      "1313 834\n",
      "1314 790\n",
      "1315 834\n",
      "1316 790\n",
      "1317 834\n",
      "1318 790\n",
      "1319 834\n",
      "1320 790\n",
      "1321 834\n",
      "1322 790\n",
      "1323 834\n",
      "1324 790\n",
      "1325 834\n",
      "1326 790\n",
      "1327 834\n",
      "1328 790\n",
      "1329 834\n",
      "1330 790\n",
      "1331 834\n",
      "1332 790\n",
      "1333 834\n",
      "1334 790\n",
      "1335 834\n",
      "1336 790\n",
      "1337 834\n",
      "1338 790\n",
      "1339 834\n",
      "1340 790\n",
      "1341 834\n",
      "1342 790\n",
      "1343 834\n",
      "1344 790\n",
      "1345 834\n",
      "1346 790\n",
      "1347 834\n",
      "1348 790\n",
      "1349 834\n",
      "1350 790\n",
      "1351 834\n",
      "1352 790\n",
      "1353 834\n",
      "1354 790\n",
      "1355 834\n",
      "1356 790\n",
      "1357 834\n",
      "1358 790\n",
      "1359 834\n",
      "1360 790\n",
      "1361 834\n",
      "1362 790\n",
      "1363 834\n",
      "1364 790\n",
      "1365 834\n",
      "1366 790\n",
      "1367 834\n",
      "1368 790\n",
      "1369 834\n",
      "1370 790\n",
      "1371 834\n",
      "1372 790\n",
      "1373 834\n",
      "1374 790\n",
      "1375 834\n",
      "1376 790\n",
      "1377 834\n",
      "1378 790\n",
      "1379 834\n",
      "1380 790\n",
      "1381 834\n",
      "1382 790\n",
      "1383 834\n",
      "1384 790\n",
      "1385 834\n",
      "1386 790\n",
      "1387 834\n",
      "1388 790\n",
      "1389 834\n",
      "1390 790\n",
      "1391 834\n",
      "1392 790\n",
      "1393 834\n",
      "1394 790\n",
      "1395 834\n",
      "1396 790\n",
      "1397 834\n",
      "1398 790\n",
      "1399 834\n",
      "1400 790\n",
      "1401 834\n",
      "1402 790\n",
      "1403 834\n",
      "1404 790\n",
      "1405 834\n",
      "1406 790\n",
      "1407 834\n",
      "1408 790\n",
      "1409 834\n",
      "1410 790\n",
      "1411 834\n",
      "1412 790\n",
      "1413 834\n",
      "1414 790\n",
      "1415 834\n",
      "1416 790\n",
      "1417 834\n",
      "1418 790\n",
      "1419 834\n",
      "1420 790\n",
      "1421 834\n",
      "1422 790\n",
      "1423 834\n",
      "1424 790\n",
      "1425 834\n",
      "1426 790\n",
      "1427 834\n",
      "1428 790\n",
      "1429 834\n",
      "1430 790\n",
      "1431 834\n",
      "1432 790\n",
      "1433 834\n",
      "1434 790\n",
      "1435 834\n",
      "1436 790\n",
      "1437 834\n",
      "1438 790\n",
      "1439 834\n",
      "1440 790\n",
      "1441 834\n",
      "1442 790\n",
      "1443 834\n",
      "1444 790\n",
      "1445 834\n",
      "1446 790\n",
      "1447 834\n",
      "1448 790\n",
      "1449 834\n",
      "1450 790\n",
      "1451 834\n",
      "1452 790\n",
      "1453 834\n",
      "1454 790\n",
      "1455 834\n",
      "1456 790\n",
      "1457 834\n",
      "1458 790\n",
      "1459 834\n",
      "1460 790\n",
      "1461 834\n",
      "1462 790\n",
      "1463 834\n",
      "1464 790\n",
      "1465 834\n",
      "1466 790\n",
      "1467 834\n",
      "1468 790\n",
      "1469 834\n",
      "1470 790\n",
      "1471 834\n",
      "1472 790\n",
      "1473 834\n",
      "1474 790\n",
      "1475 834\n",
      "1476 790\n",
      "1477 834\n",
      "1478 790\n",
      "1479 834\n",
      "1480 790\n",
      "1481 834\n",
      "1482 790\n",
      "1483 834\n",
      "1484 790\n",
      "1485 834\n",
      "1486 790\n",
      "1487 834\n",
      "1488 790\n",
      "1489 834\n",
      "1490 790\n",
      "1491 834\n",
      "1492 790\n",
      "1493 834\n",
      "1494 790\n",
      "1495 834\n",
      "1496 790\n",
      "1497 834\n",
      "1498 790\n",
      "1499 834\n",
      "1500 790\n",
      "1501 834\n",
      "1502 790\n",
      "1503 834\n",
      "1504 790\n",
      "1505 834\n",
      "1506 790\n",
      "1507 834\n",
      "1508 790\n",
      "1509 834\n",
      "1510 790\n",
      "1511 834\n",
      "1512 790\n",
      "1513 834\n",
      "1514 790\n",
      "1515 834\n",
      "1516 790\n",
      "1517 834\n",
      "1518 790\n",
      "1519 834\n",
      "1520 790\n",
      "1521 834\n",
      "1522 790\n",
      "1523 834\n",
      "1524 790\n",
      "1525 834\n",
      "1526 790\n",
      "1527 834\n",
      "1528 790\n",
      "1529 834\n",
      "1530 790\n",
      "1531 834\n",
      "1532 790\n",
      "1533 834\n",
      "1534 790\n",
      "1535 834\n",
      "1536 790\n",
      "1537 834\n",
      "1538 790\n",
      "1539 834\n",
      "1540 790\n",
      "1541 834\n",
      "1542 790\n",
      "1543 834\n",
      "1544 790\n",
      "1545 834\n",
      "1546 790\n",
      "1547 834\n",
      "1548 790\n",
      "1549 834\n",
      "1550 790\n",
      "1551 834\n",
      "1552 790\n",
      "1553 834\n",
      "1554 790\n",
      "1555 834\n",
      "1556 790\n",
      "1557 834\n",
      "1558 790\n",
      "1559 834\n",
      "1560 790\n",
      "1561 834\n",
      "1562 790\n",
      "1563 834\n",
      "1564 790\n",
      "1565 834\n",
      "1566 790\n",
      "1567 834\n",
      "1568 790\n",
      "1569 834\n",
      "1570 790\n",
      "1571 834\n",
      "1572 790\n",
      "1573 834\n",
      "1574 790\n",
      "1575 834\n",
      "1576 790\n",
      "1577 834\n",
      "1578 790\n",
      "1579 834\n",
      "1580 790\n",
      "1581 834\n",
      "1582 790\n",
      "1583 834\n",
      "1584 790\n",
      "1585 834\n",
      "1586 790\n",
      "1587 834\n",
      "1588 790\n",
      "1589 834\n",
      "1590 790\n",
      "1591 834\n",
      "1592 790\n",
      "1593 834\n",
      "1594 790\n",
      "1595 834\n",
      "1596 790\n",
      "1597 834\n",
      "1598 790\n",
      "1599 834\n",
      "1600 790\n",
      "1601 834\n",
      "1602 790\n",
      "1603 834\n",
      "1604 790\n",
      "1605 834\n",
      "1606 790\n",
      "1607 834\n",
      "1608 790\n",
      "1609 834\n",
      "1610 790\n",
      "1611 834\n",
      "1612 790\n",
      "1613 834\n",
      "1614 790\n",
      "1615 834\n",
      "1616 790\n",
      "1617 834\n",
      "1618 790\n",
      "1619 834\n",
      "1620 790\n",
      "1621 834\n",
      "1622 790\n",
      "1623 834\n",
      "1624 790\n",
      "1625 834\n",
      "1626 790\n",
      "1627 834\n",
      "1628 790\n",
      "1629 834\n",
      "1630 790\n",
      "1631 834\n",
      "1632 790\n",
      "1633 834\n",
      "1634 790\n",
      "1635 834\n",
      "1636 790\n",
      "1637 834\n",
      "1638 790\n",
      "1639 834\n",
      "1640 790\n",
      "1641 834\n",
      "1642 790\n",
      "1643 834\n",
      "1644 790\n",
      "1645 834\n",
      "1646 790\n",
      "1647 834\n",
      "1648 790\n",
      "1649 834\n",
      "1650 790\n",
      "1651 834\n",
      "1652 790\n",
      "1653 834\n",
      "1654 790\n",
      "1655 834\n",
      "1656 790\n",
      "1657 834\n",
      "1658 790\n",
      "1659 834\n",
      "1660 790\n",
      "1661 834\n",
      "1662 790\n",
      "1663 834\n",
      "1664 790\n",
      "1665 834\n",
      "1666 790\n",
      "1667 834\n",
      "1668 790\n",
      "1669 834\n",
      "1670 790\n",
      "1671 834\n",
      "1672 790\n",
      "1673 834\n",
      "1674 790\n",
      "1675 834\n",
      "1676 790\n",
      "1677 834\n",
      "1678 790\n",
      "1679 834\n",
      "1680 790\n",
      "1681 834\n",
      "1682 790\n",
      "1683 834\n",
      "1684 790\n",
      "1685 834\n",
      "1686 790\n",
      "1687 834\n",
      "1688 790\n",
      "1689 834\n",
      "1690 790\n",
      "1691 834\n",
      "1692 790\n",
      "1693 834\n",
      "1694 790\n",
      "1695 834\n",
      "1696 790\n",
      "1697 834\n",
      "1698 790\n",
      "1699 834\n",
      "1700 790\n",
      "1701 834\n",
      "1702 790\n",
      "1703 834\n",
      "1704 790\n",
      "1705 834\n",
      "1706 790\n",
      "1707 834\n",
      "1708 790\n",
      "1709 834\n",
      "1710 790\n",
      "1711 834\n",
      "1712 790\n",
      "1713 834\n",
      "1714 790\n",
      "1715 834\n",
      "1716 790\n",
      "1717 834\n",
      "1718 790\n",
      "1719 834\n",
      "1720 790\n",
      "1721 834\n",
      "1722 790\n",
      "1723 834\n",
      "1724 790\n",
      "1725 834\n",
      "1726 790\n",
      "1727 834\n",
      "1728 790\n",
      "1729 834\n",
      "1730 790\n",
      "1731 834\n",
      "1732 790\n",
      "1733 834\n",
      "1734 790\n",
      "1735 834\n",
      "1736 790\n",
      "1737 834\n",
      "1738 790\n",
      "1739 834\n",
      "1740 790\n",
      "1741 834\n",
      "1742 790\n",
      "1743 834\n",
      "1744 790\n",
      "1745 834\n",
      "1746 790\n",
      "1747 834\n",
      "1748 790\n",
      "1749 834\n",
      "1750 790\n",
      "1751 834\n",
      "1752 790\n",
      "1753 834\n",
      "1754 790\n",
      "1755 834\n",
      "1756 790\n",
      "1757 834\n",
      "1758 790\n",
      "1759 834\n",
      "1760 790\n",
      "1761 834\n",
      "1762 790\n",
      "1763 834\n",
      "1764 790\n",
      "1765 834\n",
      "1766 790\n",
      "1767 834\n",
      "1768 790\n",
      "1769 834\n",
      "1770 790\n",
      "1771 834\n",
      "1772 790\n",
      "1773 834\n",
      "1774 790\n",
      "1775 834\n",
      "1776 790\n",
      "1777 834\n",
      "1778 790\n",
      "1779 834\n",
      "1780 790\n",
      "1781 834\n",
      "1782 790\n",
      "1783 834\n",
      "1784 790\n",
      "1785 834\n",
      "1786 790\n",
      "1787 834\n",
      "1788 790\n",
      "1789 834\n",
      "1790 790\n",
      "1791 834\n",
      "1792 790\n",
      "1793 834\n",
      "1794 790\n",
      "1795 834\n",
      "1796 790\n",
      "1797 834\n",
      "1798 790\n",
      "1799 834\n",
      "1800 790\n",
      "1801 834\n",
      "1802 790\n",
      "1803 834\n",
      "1804 790\n",
      "1805 834\n",
      "1806 790\n",
      "1807 834\n",
      "1808 790\n",
      "1809 834\n",
      "1810 790\n",
      "1811 834\n",
      "1812 790\n",
      "1813 834\n",
      "1814 790\n",
      "1815 834\n",
      "1816 790\n",
      "1817 834\n",
      "1818 790\n",
      "1819 834\n",
      "1820 790\n",
      "1821 834\n",
      "1822 790\n",
      "1823 834\n",
      "1824 790\n",
      "1825 834\n",
      "1826 790\n",
      "1827 834\n",
      "1828 790\n",
      "1829 834\n",
      "1830 790\n",
      "1831 834\n",
      "1832 790\n",
      "1833 834\n",
      "1834 790\n",
      "1835 834\n",
      "1836 790\n",
      "1837 834\n",
      "1838 790\n",
      "1839 834\n",
      "1840 790\n",
      "1841 834\n",
      "1842 790\n",
      "1843 834\n",
      "1844 790\n",
      "1845 834\n",
      "1846 790\n",
      "1847 834\n",
      "1848 790\n",
      "1849 834\n",
      "1850 790\n",
      "1851 834\n",
      "1852 790\n",
      "1853 834\n",
      "1854 790\n",
      "1855 834\n",
      "1856 790\n",
      "1857 834\n",
      "1858 790\n",
      "1859 834\n",
      "1860 790\n",
      "1861 834\n",
      "1862 790\n",
      "1863 834\n",
      "1864 790\n",
      "1865 834\n",
      "1866 790\n",
      "1867 834\n",
      "1868 790\n",
      "1869 834\n",
      "1870 790\n",
      "1871 834\n",
      "1872 790\n",
      "1873 834\n",
      "1874 790\n",
      "1875 834\n",
      "1876 790\n",
      "1877 834\n",
      "1878 790\n",
      "1879 834\n",
      "1880 790\n",
      "1881 834\n",
      "1882 790\n",
      "1883 834\n",
      "1884 790\n",
      "1885 834\n",
      "1886 790\n",
      "1887 834\n",
      "1888 790\n",
      "1889 834\n",
      "1890 790\n",
      "1891 834\n",
      "1892 790\n",
      "1893 834\n",
      "1894 790\n",
      "1895 834\n",
      "1896 790\n",
      "1897 834\n",
      "1898 790\n",
      "1899 834\n",
      "1900 790\n",
      "1901 834\n",
      "1902 790\n",
      "1903 834\n",
      "1904 790\n",
      "1905 834\n",
      "1906 790\n",
      "1907 834\n",
      "1908 790\n",
      "1909 834\n",
      "1910 790\n",
      "1911 834\n",
      "1912 790\n",
      "1913 834\n",
      "1914 790\n",
      "1915 834\n",
      "1916 790\n",
      "1917 834\n",
      "1918 790\n",
      "1919 834\n",
      "1920 790\n",
      "1921 834\n",
      "1922 790\n",
      "1923 834\n",
      "1924 790\n",
      "1925 834\n",
      "1926 790\n",
      "1927 834\n",
      "1928 790\n",
      "1929 834\n",
      "1930 790\n",
      "1931 834\n",
      "1932 790\n",
      "1933 834\n",
      "1934 790\n",
      "1935 834\n",
      "1936 790\n",
      "1937 834\n",
      "1938 790\n",
      "1939 834\n",
      "1940 790\n",
      "1941 834\n",
      "1942 790\n",
      "1943 834\n",
      "1944 790\n",
      "1945 834\n",
      "1946 790\n",
      "1947 834\n",
      "1948 790\n",
      "1949 834\n",
      "1950 790\n",
      "1951 834\n",
      "1952 790\n",
      "1953 834\n",
      "1954 790\n",
      "1955 834\n",
      "1956 790\n",
      "1957 834\n",
      "1958 790\n",
      "1959 834\n",
      "1960 790\n",
      "1961 834\n",
      "1962 790\n",
      "1963 834\n",
      "1964 790\n",
      "1965 834\n",
      "1966 790\n",
      "1967 834\n",
      "1968 790\n",
      "1969 834\n",
      "1970 790\n",
      "1971 834\n",
      "1972 790\n",
      "1973 834\n",
      "1974 790\n",
      "1975 834\n",
      "1976 790\n",
      "1977 834\n",
      "1978 790\n",
      "1979 834\n",
      "1980 790\n",
      "1981 834\n",
      "1982 790\n",
      "1983 834\n",
      "1984 790\n",
      "1985 834\n",
      "1986 790\n",
      "1987 834\n",
      "1988 790\n",
      "1989 834\n",
      "1990 790\n",
      "1991 834\n",
      "1992 790\n",
      "1993 834\n",
      "1994 790\n",
      "1995 834\n",
      "1996 790\n",
      "1997 834\n",
      "1998 790\n",
      "1999 834\n",
      "2000 790\n",
      "2001 834\n",
      "2002 790\n",
      "2003 834\n",
      "2004 790\n",
      "2005 834\n",
      "2006 790\n",
      "2007 834\n",
      "2008 790\n",
      "2009 834\n",
      "2010 790\n",
      "2011 834\n",
      "2012 790\n",
      "2013 834\n",
      "2014 790\n",
      "2015 834\n",
      "2016 790\n",
      "2017 834\n",
      "2018 790\n",
      "2019 834\n",
      "2020 790\n",
      "2021 834\n",
      "2022 790\n",
      "2023 834\n",
      "2024 790\n",
      "2025 834\n",
      "2026 790\n",
      "2027 834\n",
      "2028 790\n",
      "2029 834\n",
      "2030 790\n",
      "2031 834\n",
      "2032 790\n",
      "2033 834\n",
      "2034 790\n",
      "2035 834\n",
      "2036 790\n",
      "2037 834\n",
      "2038 790\n",
      "2039 834\n",
      "2040 790\n",
      "2041 834\n",
      "2042 790\n",
      "2043 834\n",
      "2044 790\n",
      "2045 834\n",
      "2046 790\n",
      "2047 834\n",
      "2048 790\n",
      "2049 834\n",
      "2050 790\n",
      "2051 834\n",
      "2052 790\n",
      "2053 834\n",
      "2054 790\n",
      "2055 834\n",
      "2056 790\n",
      "2057 834\n",
      "2058 790\n",
      "2059 834\n",
      "2060 790\n",
      "2061 834\n",
      "2062 790\n",
      "2063 834\n",
      "2064 790\n",
      "2065 834\n",
      "2066 790\n",
      "2067 834\n",
      "2068 790\n",
      "2069 834\n",
      "2070 790\n",
      "2071 834\n",
      "2072 790\n",
      "2073 834\n",
      "2074 790\n",
      "2075 834\n",
      "2076 790\n",
      "2077 834\n",
      "2078 790\n",
      "2079 834\n",
      "2080 790\n",
      "2081 834\n",
      "2082 790\n",
      "2083 834\n",
      "2084 790\n",
      "2085 834\n",
      "2086 790\n",
      "2087 834\n",
      "2088 790\n",
      "2089 834\n",
      "2090 790\n",
      "2091 834\n",
      "2092 790\n",
      "2093 834\n",
      "2094 790\n",
      "2095 834\n",
      "2096 790\n",
      "2097 834\n",
      "2098 790\n",
      "2099 834\n",
      "2100 790\n",
      "2101 834\n",
      "2102 790\n",
      "2103 834\n",
      "2104 790\n",
      "2105 834\n",
      "2106 790\n",
      "2107 834\n",
      "2108 790\n",
      "2109 834\n",
      "2110 790\n",
      "2111 834\n",
      "2112 790\n",
      "2113 834\n",
      "2114 790\n",
      "2115 834\n",
      "2116 790\n",
      "2117 834\n",
      "2118 790\n",
      "2119 834\n",
      "2120 790\n",
      "2121 834\n",
      "2122 790\n",
      "2123 834\n",
      "2124 790\n",
      "2125 834\n",
      "2126 790\n",
      "2127 834\n",
      "2128 790\n",
      "2129 834\n",
      "2130 790\n",
      "2131 834\n",
      "2132 790\n",
      "2133 834\n",
      "2134 790\n",
      "2135 834\n",
      "2136 790\n",
      "2137 834\n",
      "2138 790\n",
      "2139 834\n",
      "2140 790\n",
      "2141 834\n",
      "2142 790\n",
      "2143 834\n",
      "2144 790\n",
      "2145 834\n",
      "2146 790\n",
      "2147 834\n",
      "2148 790\n",
      "2149 834\n",
      "2150 790\n",
      "2151 834\n",
      "2152 790\n",
      "2153 834\n",
      "2154 790\n",
      "2155 834\n",
      "2156 790\n",
      "2157 834\n",
      "2158 790\n",
      "2159 834\n",
      "2160 790\n",
      "2161 834\n",
      "2162 790\n",
      "2163 834\n",
      "2164 790\n",
      "2165 834\n",
      "2166 790\n",
      "2167 834\n",
      "2168 790\n",
      "2169 834\n",
      "2170 790\n",
      "2171 834\n",
      "2172 790\n",
      "2173 834\n",
      "2174 790\n",
      "2175 834\n",
      "2176 790\n",
      "2177 834\n",
      "2178 790\n",
      "2179 834\n",
      "2180 790\n",
      "2181 834\n",
      "2182 790\n",
      "2183 834\n",
      "2184 790\n",
      "2185 834\n",
      "2186 790\n",
      "2187 834\n",
      "2188 790\n",
      "2189 834\n",
      "2190 790\n",
      "2191 834\n",
      "2192 790\n",
      "2193 834\n",
      "2194 790\n",
      "2195 834\n",
      "2196 790\n",
      "2197 834\n",
      "2198 790\n",
      "2199 834\n",
      "2200 790\n",
      "2201 834\n",
      "2202 790\n",
      "2203 834\n",
      "2204 790\n",
      "2205 834\n",
      "2206 790\n",
      "2207 834\n",
      "2208 790\n",
      "2209 834\n",
      "2210 790\n",
      "2211 834\n",
      "2212 790\n",
      "2213 834\n",
      "2214 790\n",
      "2215 834\n",
      "2216 790\n",
      "2217 834\n",
      "2218 790\n",
      "2219 834\n",
      "2220 790\n",
      "2221 834\n",
      "2222 790\n",
      "2223 834\n",
      "2224 790\n",
      "2225 834\n",
      "2226 790\n",
      "2227 834\n",
      "2228 790\n",
      "2229 834\n",
      "2230 790\n",
      "2231 834\n",
      "2232 790\n",
      "2233 834\n",
      "2234 790\n",
      "2235 834\n",
      "2236 790\n",
      "2237 834\n",
      "2238 790\n",
      "2239 834\n",
      "2240 790\n",
      "2241 834\n",
      "2242 790\n",
      "2243 834\n",
      "2244 790\n",
      "2245 834\n",
      "2246 790\n",
      "2247 834\n",
      "2248 790\n",
      "2249 834\n",
      "2250 790\n",
      "2251 834\n",
      "2252 790\n",
      "2253 834\n",
      "2254 790\n",
      "2255 834\n",
      "2256 790\n",
      "2257 834\n",
      "2258 790\n",
      "2259 834\n",
      "2260 790\n",
      "2261 834\n",
      "2262 790\n",
      "2263 834\n",
      "2264 790\n",
      "2265 834\n",
      "2266 790\n",
      "2267 834\n",
      "2268 790\n",
      "2269 834\n",
      "2270 790\n",
      "2271 834\n",
      "2272 790\n",
      "2273 834\n",
      "2274 790\n",
      "2275 834\n",
      "2276 790\n",
      "2277 834\n",
      "2278 790\n",
      "2279 834\n",
      "2280 790\n",
      "2281 834\n",
      "2282 790\n",
      "2283 834\n",
      "2284 790\n",
      "2285 834\n",
      "2286 790\n",
      "2287 834\n",
      "2288 790\n",
      "2289 834\n",
      "2290 790\n",
      "2291 834\n",
      "2292 790\n",
      "2293 834\n",
      "2294 790\n",
      "2295 834\n",
      "2296 790\n",
      "2297 834\n",
      "2298 790\n",
      "2299 834\n",
      "2300 790\n",
      "2301 834\n",
      "2302 790\n",
      "2303 834\n",
      "2304 790\n",
      "2305 834\n",
      "2306 790\n",
      "2307 834\n",
      "2308 790\n",
      "2309 834\n",
      "2310 790\n",
      "2311 834\n",
      "2312 790\n",
      "2313 834\n",
      "2314 790\n",
      "2315 834\n",
      "2316 790\n",
      "2317 834\n",
      "2318 790\n",
      "2319 834\n",
      "2320 790\n",
      "2321 834\n",
      "2322 790\n",
      "2323 834\n",
      "2324 790\n",
      "2325 834\n",
      "2326 790\n",
      "2327 834\n",
      "2328 790\n",
      "2329 834\n",
      "2330 790\n",
      "2331 834\n",
      "2332 790\n",
      "2333 834\n",
      "2334 790\n",
      "2335 834\n",
      "2336 790\n",
      "2337 834\n",
      "2338 790\n",
      "2339 834\n",
      "2340 790\n",
      "2341 834\n",
      "2342 790\n",
      "2343 834\n",
      "2344 790\n",
      "2345 834\n",
      "2346 790\n",
      "2347 834\n",
      "2348 790\n",
      "2349 834\n",
      "2350 790\n",
      "2351 834\n",
      "2352 790\n",
      "2353 834\n",
      "2354 790\n",
      "2355 834\n",
      "2356 790\n",
      "2357 834\n",
      "2358 790\n",
      "2359 834\n",
      "2360 790\n",
      "2361 834\n",
      "2362 790\n",
      "2363 834\n",
      "2364 790\n",
      "2365 834\n",
      "2366 790\n",
      "2367 834\n",
      "2368 790\n",
      "2369 834\n",
      "2370 790\n",
      "2371 834\n",
      "2372 790\n",
      "2373 834\n",
      "2374 790\n",
      "2375 834\n",
      "2376 790\n",
      "2377 834\n",
      "2378 790\n",
      "2379 834\n",
      "2380 790\n",
      "2381 834\n",
      "2382 790\n",
      "2383 834\n",
      "2384 790\n",
      "2385 834\n",
      "2386 790\n",
      "2387 834\n",
      "2388 790\n",
      "2389 834\n",
      "2390 790\n",
      "2391 834\n",
      "2392 790\n",
      "2393 834\n",
      "2394 790\n",
      "2395 834\n",
      "2396 790\n",
      "2397 834\n",
      "2398 790\n",
      "2399 834\n",
      "2400 790\n",
      "2401 834\n",
      "2402 790\n",
      "2403 834\n",
      "2404 790\n",
      "2405 834\n",
      "2406 790\n",
      "2407 834\n",
      "2408 790\n",
      "2409 834\n",
      "2410 790\n",
      "2411 834\n",
      "2412 790\n",
      "2413 834\n",
      "2414 790\n",
      "2415 834\n",
      "2416 790\n",
      "2417 834\n",
      "2418 790\n",
      "2419 834\n",
      "2420 790\n",
      "2421 834\n",
      "2422 790\n",
      "2423 834\n",
      "2424 790\n",
      "2425 834\n",
      "2426 790\n",
      "2427 834\n",
      "2428 790\n",
      "2429 834\n",
      "2430 790\n",
      "2431 834\n",
      "2432 790\n",
      "2433 834\n",
      "2434 790\n",
      "2435 834\n",
      "2436 790\n",
      "2437 834\n",
      "2438 790\n",
      "2439 834\n",
      "2440 790\n",
      "2441 834\n",
      "2442 790\n",
      "2443 834\n",
      "2444 790\n",
      "2445 834\n",
      "2446 790\n",
      "2447 834\n",
      "2448 790\n",
      "2449 834\n",
      "2450 790\n",
      "2451 834\n",
      "2452 790\n",
      "2453 834\n",
      "2454 790\n",
      "2455 834\n",
      "2456 790\n",
      "2457 834\n",
      "2458 790\n",
      "2459 834\n",
      "2460 790\n",
      "2461 834\n",
      "2462 790\n",
      "2463 834\n",
      "2464 790\n",
      "2465 834\n",
      "2466 790\n",
      "2467 834\n",
      "2468 790\n",
      "2469 834\n",
      "2470 790\n",
      "2471 834\n",
      "2472 790\n",
      "2473 834\n",
      "2474 790\n",
      "2475 834\n",
      "2476 790\n",
      "2477 834\n",
      "2478 790\n",
      "2479 834\n",
      "2480 790\n",
      "2481 834\n",
      "2482 790\n",
      "2483 834\n",
      "2484 790\n",
      "2485 834\n",
      "2486 790\n",
      "2487 834\n",
      "2488 790\n",
      "2489 834\n",
      "2490 790\n",
      "2491 834\n",
      "2492 790\n",
      "2493 834\n",
      "2494 790\n",
      "2495 834\n",
      "2496 790\n",
      "2497 834\n",
      "2498 790\n",
      "2499 834\n",
      "2500 790\n",
      "2501 834\n",
      "2502 790\n",
      "2503 834\n",
      "2504 790\n",
      "2505 834\n",
      "2506 790\n",
      "2507 834\n",
      "2508 790\n",
      "2509 834\n",
      "2510 790\n",
      "2511 834\n",
      "2512 790\n",
      "2513 834\n",
      "2514 790\n",
      "2515 834\n",
      "2516 790\n",
      "2517 834\n",
      "2518 790\n",
      "2519 834\n",
      "2520 790\n",
      "2521 834\n",
      "2522 790\n",
      "2523 834\n",
      "2524 790\n",
      "2525 834\n",
      "2526 790\n",
      "2527 834\n",
      "2528 790\n",
      "2529 834\n",
      "2530 790\n",
      "2531 834\n",
      "2532 790\n",
      "2533 834\n",
      "2534 790\n",
      "2535 834\n",
      "2536 790\n",
      "2537 834\n",
      "2538 790\n",
      "2539 834\n",
      "2540 790\n",
      "2541 834\n",
      "2542 790\n",
      "2543 834\n",
      "2544 790\n",
      "2545 834\n",
      "2546 790\n",
      "2547 834\n",
      "2548 790\n",
      "2549 834\n",
      "2550 790\n",
      "2551 834\n",
      "2552 790\n",
      "2553 834\n",
      "2554 790\n",
      "2555 834\n",
      "2556 790\n",
      "2557 834\n",
      "2558 790\n",
      "2559 834\n",
      "2560 790\n",
      "2561 834\n",
      "2562 790\n",
      "2563 834\n",
      "2564 790\n",
      "2565 834\n",
      "2566 790\n",
      "2567 834\n",
      "2568 790\n",
      "2569 834\n",
      "2570 790\n",
      "2571 834\n",
      "2572 790\n",
      "2573 834\n",
      "2574 790\n",
      "2575 834\n",
      "2576 790\n",
      "2577 834\n",
      "2578 790\n",
      "2579 834\n",
      "2580 790\n",
      "2581 834\n",
      "2582 790\n",
      "2583 834\n",
      "2584 790\n",
      "2585 834\n",
      "2586 790\n",
      "2587 834\n",
      "2588 790\n",
      "2589 834\n",
      "2590 790\n",
      "2591 834\n",
      "2592 790\n",
      "2593 834\n",
      "2594 790\n",
      "2595 834\n",
      "2596 790\n",
      "2597 834\n",
      "2598 790\n",
      "2599 834\n",
      "2600 790\n",
      "2601 834\n",
      "2602 790\n",
      "2603 834\n",
      "2604 790\n",
      "2605 834\n",
      "2606 790\n",
      "2607 834\n",
      "2608 790\n",
      "2609 834\n",
      "2610 790\n",
      "2611 834\n",
      "2612 790\n",
      "2613 834\n",
      "2614 790\n",
      "2615 834\n",
      "2616 790\n",
      "2617 834\n",
      "2618 790\n",
      "2619 834\n",
      "2620 790\n",
      "2621 834\n",
      "2622 790\n",
      "2623 834\n",
      "2624 790\n",
      "2625 834\n",
      "2626 790\n",
      "2627 834\n",
      "2628 790\n",
      "2629 834\n",
      "2630 790\n",
      "2631 834\n",
      "2632 790\n",
      "2633 834\n",
      "2634 790\n",
      "2635 834\n",
      "2636 790\n",
      "2637 834\n",
      "2638 790\n",
      "2639 834\n",
      "2640 790\n",
      "2641 834\n",
      "2642 790\n",
      "2643 834\n",
      "2644 790\n",
      "2645 834\n",
      "2646 790\n",
      "2647 834\n",
      "2648 790\n",
      "2649 834\n",
      "2650 790\n",
      "2651 834\n",
      "2652 790\n",
      "2653 834\n",
      "2654 790\n",
      "2655 834\n",
      "2656 790\n",
      "2657 834\n",
      "2658 790\n",
      "2659 834\n",
      "2660 790\n",
      "2661 834\n",
      "2662 790\n",
      "2663 834\n",
      "2664 790\n",
      "2665 834\n",
      "2666 790\n",
      "2667 834\n",
      "2668 790\n",
      "2669 834\n",
      "2670 790\n",
      "2671 834\n",
      "2672 790\n",
      "2673 834\n",
      "2674 790\n",
      "2675 834\n",
      "2676 790\n",
      "2677 834\n",
      "2678 790\n",
      "2679 834\n",
      "2680 790\n",
      "2681 834\n",
      "2682 790\n",
      "2683 834\n",
      "2684 790\n",
      "2685 834\n",
      "2686 790\n",
      "2687 834\n",
      "2688 790\n",
      "2689 834\n",
      "2690 790\n",
      "2691 834\n",
      "2692 790\n",
      "2693 834\n",
      "2694 790\n",
      "2695 834\n",
      "2696 790\n",
      "2697 834\n",
      "2698 790\n",
      "2699 834\n",
      "2700 790\n",
      "2701 834\n",
      "2702 790\n",
      "2703 834\n",
      "2704 790\n",
      "2705 834\n",
      "2706 790\n",
      "2707 834\n",
      "2708 790\n",
      "2709 834\n",
      "2710 790\n",
      "2711 834\n",
      "2712 790\n",
      "2713 834\n",
      "2714 790\n",
      "2715 834\n",
      "2716 790\n",
      "2717 834\n",
      "2718 790\n",
      "2719 834\n",
      "2720 790\n",
      "2721 834\n",
      "2722 790\n",
      "2723 834\n",
      "2724 790\n",
      "2725 834\n",
      "2726 790\n",
      "2727 834\n",
      "2728 790\n",
      "2729 834\n",
      "2730 790\n",
      "2731 834\n",
      "2732 790\n",
      "2733 834\n",
      "2734 790\n",
      "2735 834\n",
      "2736 790\n",
      "2737 834\n",
      "2738 790\n",
      "2739 834\n",
      "2740 790\n",
      "2741 834\n",
      "2742 790\n",
      "2743 834\n",
      "2744 790\n",
      "2745 834\n",
      "2746 790\n",
      "2747 834\n",
      "2748 790\n",
      "2749 834\n",
      "2750 790\n",
      "2751 834\n",
      "2752 790\n",
      "2753 834\n",
      "2754 790\n",
      "2755 834\n",
      "2756 790\n",
      "2757 834\n",
      "2758 790\n",
      "2759 834\n",
      "2760 790\n",
      "2761 834\n",
      "2762 790\n",
      "2763 834\n",
      "2764 790\n",
      "2765 834\n",
      "2766 790\n",
      "2767 834\n",
      "2768 790\n",
      "2769 834\n",
      "2770 790\n",
      "2771 834\n",
      "2772 790\n",
      "2773 834\n",
      "2774 790\n",
      "2775 834\n",
      "2776 790\n",
      "2777 834\n",
      "2778 790\n",
      "2779 834\n",
      "2780 790\n",
      "2781 834\n",
      "2782 790\n",
      "2783 834\n",
      "2784 790\n",
      "2785 834\n",
      "2786 790\n",
      "2787 834\n",
      "2788 790\n",
      "2789 834\n",
      "2790 790\n",
      "2791 834\n",
      "2792 790\n",
      "2793 834\n",
      "2794 790\n",
      "2795 834\n",
      "2796 790\n",
      "2797 834\n",
      "2798 790\n",
      "2799 834\n",
      "2800 790\n",
      "2801 834\n",
      "2802 790\n",
      "2803 834\n",
      "2804 790\n",
      "2805 834\n",
      "2806 790\n",
      "2807 834\n",
      "2808 790\n",
      "2809 834\n",
      "2810 790\n",
      "2811 834\n",
      "2812 790\n",
      "2813 834\n",
      "2814 790\n",
      "2815 834\n",
      "2816 790\n",
      "2817 834\n",
      "2818 790\n",
      "2819 834\n",
      "2820 790\n",
      "2821 834\n",
      "2822 790\n",
      "2823 834\n",
      "2824 790\n",
      "2825 834\n",
      "2826 790\n",
      "2827 834\n",
      "2828 790\n",
      "2829 834\n",
      "2830 790\n",
      "2831 834\n",
      "2832 790\n",
      "2833 834\n",
      "2834 790\n",
      "2835 834\n",
      "2836 790\n",
      "2837 834\n",
      "2838 790\n",
      "2839 834\n",
      "2840 790\n",
      "2841 834\n",
      "2842 790\n",
      "2843 834\n",
      "2844 790\n",
      "2845 834\n",
      "2846 790\n",
      "2847 834\n",
      "2848 790\n",
      "2849 834\n",
      "2850 790\n",
      "2851 834\n",
      "2852 790\n",
      "2853 834\n",
      "2854 790\n",
      "2855 834\n",
      "2856 790\n",
      "2857 834\n",
      "2858 790\n",
      "2859 834\n",
      "2860 790\n",
      "2861 834\n",
      "2862 790\n",
      "2863 834\n",
      "2864 790\n",
      "2865 834\n",
      "2866 790\n",
      "2867 834\n",
      "2868 790\n",
      "2869 834\n",
      "2870 790\n",
      "2871 834\n",
      "2872 790\n",
      "2873 834\n",
      "2874 790\n",
      "2875 834\n",
      "2876 790\n",
      "2877 834\n",
      "2878 790\n",
      "2879 834\n",
      "2880 790\n",
      "2881 834\n",
      "2882 790\n",
      "2883 834\n",
      "2884 790\n",
      "2885 834\n",
      "2886 790\n",
      "2887 834\n",
      "2888 790\n",
      "2889 834\n",
      "2890 790\n",
      "2891 834\n",
      "2892 790\n",
      "2893 834\n",
      "2894 790\n",
      "2895 834\n",
      "2896 790\n",
      "2897 834\n",
      "2898 790\n",
      "2899 834\n",
      "2900 790\n",
      "2901 834\n",
      "2902 790\n",
      "2903 834\n",
      "2904 790\n",
      "2905 834\n",
      "2906 790\n",
      "2907 834\n",
      "2908 790\n",
      "2909 834\n",
      "2910 790\n",
      "2911 834\n",
      "2912 790\n",
      "2913 834\n",
      "2914 790\n",
      "2915 834\n",
      "2916 790\n",
      "2917 834\n",
      "2918 790\n",
      "2919 834\n",
      "2920 790\n",
      "2921 834\n",
      "2922 790\n",
      "2923 834\n",
      "2924 790\n",
      "2925 834\n",
      "2926 790\n",
      "2927 834\n",
      "2928 790\n",
      "2929 834\n",
      "2930 790\n",
      "2931 834\n",
      "2932 790\n",
      "2933 834\n",
      "2934 790\n",
      "2935 834\n",
      "2936 790\n",
      "2937 834\n",
      "2938 790\n",
      "2939 834\n",
      "2940 790\n",
      "2941 834\n",
      "2942 790\n",
      "2943 834\n",
      "2944 790\n",
      "2945 834\n",
      "2946 790\n",
      "2947 834\n",
      "2948 790\n",
      "2949 834\n",
      "2950 790\n",
      "2951 834\n",
      "2952 790\n",
      "2953 834\n",
      "2954 790\n",
      "2955 834\n",
      "2956 790\n",
      "2957 834\n",
      "2958 790\n",
      "2959 834\n",
      "2960 790\n",
      "2961 834\n",
      "2962 790\n",
      "2963 834\n",
      "2964 790\n",
      "2965 834\n",
      "2966 790\n",
      "2967 834\n",
      "2968 790\n",
      "2969 834\n",
      "2970 790\n",
      "2971 834\n",
      "2972 790\n",
      "2973 834\n",
      "2974 790\n",
      "2975 834\n",
      "2976 790\n",
      "2977 834\n",
      "2978 790\n",
      "2979 834\n",
      "2980 790\n",
      "2981 834\n",
      "2982 790\n",
      "2983 834\n",
      "2984 790\n",
      "2985 834\n",
      "2986 790\n",
      "2987 834\n",
      "2988 790\n",
      "2989 834\n",
      "2990 790\n",
      "2991 834\n",
      "2992 790\n",
      "2993 834\n",
      "2994 790\n",
      "2995 834\n",
      "2996 790\n",
      "2997 834\n",
      "2998 790\n",
      "2999 834\n",
      "3000 790\n",
      "3001 834\n",
      "3002 790\n",
      "3003 834\n",
      "3004 790\n",
      "3005 834\n",
      "3006 790\n",
      "3007 834\n",
      "3008 790\n",
      "3009 834\n",
      "3010 790\n",
      "3011 834\n",
      "3012 790\n",
      "3013 834\n",
      "3014 790\n",
      "3015 834\n",
      "3016 790\n",
      "3017 834\n",
      "3018 790\n",
      "3019 834\n",
      "3020 790\n",
      "3021 834\n",
      "3022 790\n",
      "3023 834\n",
      "3024 790\n",
      "3025 834\n",
      "3026 790\n",
      "3027 834\n",
      "3028 790\n",
      "3029 834\n",
      "3030 790\n",
      "3031 834\n",
      "3032 790\n",
      "3033 834\n",
      "3034 790\n",
      "3035 834\n",
      "3036 790\n",
      "3037 834\n",
      "3038 790\n",
      "3039 834\n",
      "3040 790\n",
      "3041 834\n",
      "3042 790\n",
      "3043 834\n",
      "3044 790\n",
      "3045 834\n",
      "3046 790\n",
      "3047 834\n",
      "3048 790\n",
      "3049 834\n",
      "3050 790\n",
      "3051 834\n",
      "3052 790\n",
      "3053 834\n",
      "3054 790\n",
      "3055 834\n",
      "3056 790\n",
      "3057 834\n",
      "3058 790\n",
      "3059 834\n",
      "3060 790\n",
      "3061 834\n",
      "3062 790\n",
      "3063 834\n",
      "3064 790\n",
      "3065 834\n",
      "3066 790\n",
      "3067 834\n",
      "3068 790\n",
      "3069 834\n",
      "3070 790\n",
      "3071 834\n",
      "3072 790\n",
      "3073 834\n",
      "3074 790\n",
      "3075 834\n",
      "3076 790\n",
      "3077 834\n",
      "3078 790\n",
      "3079 834\n",
      "3080 790\n",
      "3081 834\n",
      "3082 790\n",
      "3083 834\n",
      "3084 790\n",
      "3085 834\n",
      "3086 790\n",
      "3087 834\n",
      "3088 790\n",
      "3089 834\n",
      "3090 790\n",
      "3091 834\n",
      "3092 790\n",
      "3093 834\n",
      "3094 790\n",
      "3095 834\n",
      "3096 790\n",
      "3097 834\n",
      "3098 790\n",
      "3099 834\n",
      "3100 790\n",
      "3101 834\n",
      "3102 790\n",
      "3103 834\n",
      "3104 790\n",
      "3105 834\n",
      "3106 790\n",
      "3107 834\n",
      "3108 790\n",
      "3109 834\n",
      "3110 790\n",
      "3111 834\n",
      "3112 790\n",
      "3113 834\n",
      "3114 790\n",
      "3115 834\n",
      "3116 790\n",
      "3117 834\n",
      "3118 790\n",
      "3119 834\n",
      "3120 790\n",
      "3121 834\n",
      "3122 790\n",
      "3123 834\n",
      "3124 790\n",
      "3125 834\n",
      "3126 790\n",
      "3127 834\n",
      "3128 790\n",
      "3129 834\n",
      "3130 790\n",
      "3131 834\n",
      "3132 790\n",
      "3133 834\n",
      "3134 790\n",
      "3135 834\n",
      "3136 790\n",
      "3137 834\n",
      "3138 790\n",
      "3139 834\n",
      "3140 790\n",
      "3141 834\n",
      "3142 790\n",
      "3143 834\n",
      "3144 790\n",
      "3145 834\n",
      "3146 790\n",
      "3147 834\n",
      "3148 790\n",
      "3149 834\n",
      "3150 790\n",
      "3151 834\n",
      "3152 790\n",
      "3153 834\n",
      "3154 790\n",
      "3155 834\n",
      "3156 790\n",
      "3157 834\n",
      "3158 790\n",
      "3159 834\n",
      "3160 790\n",
      "3161 834\n",
      "3162 790\n",
      "3163 834\n",
      "3164 790\n",
      "3165 834\n",
      "3166 790\n",
      "3167 834\n",
      "3168 790\n",
      "3169 834\n",
      "3170 790\n",
      "3171 834\n",
      "3172 790\n",
      "3173 834\n",
      "3174 790\n",
      "3175 834\n",
      "3176 790\n",
      "3177 834\n",
      "3178 790\n",
      "3179 834\n",
      "3180 790\n",
      "3181 834\n",
      "3182 790\n",
      "3183 834\n",
      "3184 790\n",
      "3185 834\n",
      "3186 790\n",
      "3187 834\n",
      "3188 790\n",
      "3189 834\n",
      "3190 790\n",
      "3191 834\n",
      "3192 790\n",
      "3193 834\n",
      "3194 790\n",
      "3195 834\n",
      "3196 790\n",
      "3197 834\n",
      "3198 790\n",
      "3199 834\n",
      "3200 790\n",
      "3201 834\n",
      "3202 790\n",
      "3203 834\n",
      "3204 790\n",
      "3205 834\n",
      "3206 790\n",
      "3207 834\n",
      "3208 790\n",
      "3209 834\n",
      "3210 790\n",
      "3211 834\n",
      "3212 790\n",
      "3213 834\n",
      "3214 790\n",
      "3215 834\n",
      "3216 790\n",
      "3217 834\n",
      "3218 790\n",
      "3219 834\n",
      "3220 790\n",
      "3221 834\n",
      "3222 790\n",
      "3223 834\n",
      "3224 790\n",
      "3225 834\n",
      "3226 790\n",
      "3227 834\n",
      "3228 790\n",
      "3229 834\n",
      "3230 790\n",
      "3231 834\n",
      "3232 790\n",
      "3233 834\n",
      "3234 790\n",
      "3235 834\n",
      "3236 790\n",
      "3237 834\n",
      "3238 790\n",
      "3239 834\n",
      "3240 790\n",
      "3241 834\n",
      "3242 790\n",
      "3243 834\n",
      "3244 790\n",
      "3245 834\n",
      "3246 790\n",
      "3247 834\n",
      "3248 790\n",
      "3249 834\n",
      "3250 790\n",
      "3251 834\n",
      "3252 790\n",
      "3253 834\n",
      "3254 790\n",
      "3255 834\n",
      "3256 790\n",
      "3257 834\n",
      "3258 790\n",
      "3259 834\n",
      "3260 790\n",
      "3261 834\n",
      "3262 790\n",
      "3263 834\n",
      "3264 790\n",
      "3265 834\n",
      "3266 790\n",
      "3267 834\n",
      "3268 790\n",
      "3269 834\n",
      "3270 790\n",
      "3271 834\n",
      "3272 790\n",
      "3273 834\n",
      "3274 790\n",
      "3275 834\n",
      "3276 790\n",
      "3277 834\n",
      "3278 790\n",
      "3279 834\n",
      "3280 790\n",
      "3281 834\n",
      "3282 790\n",
      "3283 834\n",
      "3284 790\n",
      "3285 834\n",
      "3286 790\n",
      "3287 834\n",
      "3288 790\n",
      "3289 834\n",
      "3290 790\n",
      "3291 834\n",
      "3292 790\n",
      "3293 834\n",
      "3294 790\n",
      "3295 834\n",
      "3296 790\n",
      "3297 834\n",
      "3298 790\n",
      "3299 834\n",
      "3300 790\n",
      "3301 834\n",
      "3302 790\n",
      "3303 834\n",
      "3304 790\n",
      "3305 834\n",
      "3306 790\n",
      "3307 834\n",
      "3308 790\n",
      "3309 834\n",
      "3310 790\n",
      "3311 834\n",
      "3312 790\n",
      "3313 834\n",
      "3314 790\n",
      "3315 834\n",
      "3316 790\n",
      "3317 834\n",
      "3318 790\n",
      "3319 834\n",
      "3320 790\n",
      "3321 834\n",
      "3322 790\n",
      "3323 834\n",
      "3324 790\n",
      "3325 834\n",
      "3326 790\n",
      "3327 834\n",
      "3328 790\n",
      "3329 834\n",
      "3330 790\n",
      "3331 834\n",
      "3332 790\n",
      "3333 834\n",
      "3334 790\n",
      "3335 834\n",
      "3336 790\n",
      "3337 834\n",
      "3338 790\n",
      "3339 834\n",
      "3340 790\n",
      "3341 834\n",
      "3342 790\n",
      "3343 834\n",
      "3344 790\n",
      "3345 834\n",
      "3346 790\n",
      "3347 834\n",
      "3348 790\n",
      "3349 834\n",
      "3350 790\n",
      "3351 834\n",
      "3352 790\n",
      "3353 834\n",
      "3354 790\n",
      "3355 834\n",
      "3356 790\n",
      "3357 834\n",
      "3358 790\n",
      "3359 834\n",
      "3360 790\n",
      "3361 834\n",
      "3362 790\n",
      "3363 834\n",
      "3364 790\n",
      "3365 834\n",
      "3366 790\n",
      "3367 834\n",
      "3368 790\n",
      "3369 834\n",
      "3370 790\n",
      "3371 834\n",
      "3372 790\n",
      "3373 834\n",
      "3374 790\n",
      "3375 834\n",
      "3376 790\n",
      "3377 834\n",
      "3378 790\n",
      "3379 834\n",
      "3380 790\n",
      "3381 834\n",
      "3382 790\n",
      "3383 834\n",
      "3384 790\n",
      "3385 834\n",
      "3386 790\n",
      "3387 834\n",
      "3388 790\n",
      "3389 834\n",
      "3390 790\n",
      "3391 834\n",
      "3392 790\n",
      "3393 834\n",
      "3394 790\n",
      "3395 834\n",
      "3396 790\n",
      "3397 834\n",
      "3398 790\n",
      "3399 834\n",
      "3400 790\n",
      "3401 834\n",
      "3402 790\n",
      "3403 834\n",
      "3404 790\n",
      "3405 834\n",
      "3406 790\n",
      "3407 834\n",
      "3408 790\n",
      "3409 834\n",
      "3410 790\n",
      "3411 834\n",
      "3412 790\n",
      "3413 834\n",
      "3414 790\n",
      "3415 834\n",
      "3416 790\n",
      "3417 834\n",
      "3418 790\n",
      "3419 834\n",
      "3420 790\n",
      "3421 834\n",
      "3422 790\n",
      "3423 834\n",
      "3424 790\n",
      "3425 834\n",
      "3426 790\n",
      "3427 834\n",
      "3428 790\n",
      "3429 834\n",
      "3430 790\n",
      "3431 834\n",
      "3432 790\n",
      "3433 834\n",
      "3434 790\n",
      "3435 834\n",
      "3436 790\n",
      "3437 834\n",
      "3438 790\n",
      "3439 834\n",
      "3440 790\n",
      "3441 834\n",
      "3442 790\n",
      "3443 834\n",
      "3444 790\n",
      "3445 834\n",
      "3446 790\n",
      "3447 834\n",
      "3448 790\n",
      "3449 834\n",
      "3450 790\n",
      "3451 834\n",
      "3452 790\n",
      "3453 834\n",
      "3454 790\n",
      "3455 834\n",
      "3456 790\n",
      "3457 834\n",
      "3458 790\n",
      "3459 834\n",
      "3460 790\n",
      "3461 834\n",
      "3462 790\n",
      "3463 834\n",
      "3464 790\n",
      "3465 834\n",
      "3466 790\n",
      "3467 834\n",
      "3468 790\n",
      "3469 834\n",
      "3470 790\n",
      "3471 834\n",
      "3472 790\n",
      "3473 834\n",
      "3474 790\n",
      "3475 834\n",
      "3476 790\n",
      "3477 834\n",
      "3478 790\n",
      "3479 834\n",
      "3480 790\n",
      "3481 834\n",
      "3482 790\n",
      "3483 834\n",
      "3484 790\n",
      "3485 834\n",
      "3486 790\n",
      "3487 834\n",
      "3488 790\n",
      "3489 834\n",
      "3490 790\n",
      "3491 834\n",
      "3492 790\n",
      "3493 834\n",
      "3494 790\n",
      "3495 834\n",
      "3496 790\n",
      "3497 834\n",
      "3498 790\n",
      "3499 834\n",
      "3500 790\n",
      "3501 834\n",
      "3502 790\n",
      "3503 834\n",
      "3504 790\n",
      "3505 834\n",
      "3506 790\n",
      "3507 834\n",
      "3508 790\n",
      "3509 834\n",
      "3510 790\n",
      "3511 834\n",
      "3512 790\n",
      "3513 834\n",
      "3514 790\n",
      "3515 834\n",
      "3516 790\n",
      "3517 834\n",
      "3518 790\n",
      "3519 834\n",
      "3520 790\n",
      "3521 834\n",
      "3522 790\n",
      "3523 834\n",
      "3524 790\n",
      "3525 834\n",
      "3526 790\n",
      "3527 834\n",
      "3528 790\n",
      "3529 834\n",
      "3530 790\n",
      "3531 834\n",
      "3532 790\n",
      "3533 834\n",
      "3534 790\n",
      "3535 834\n",
      "3536 790\n",
      "3537 834\n",
      "3538 790\n",
      "3539 834\n",
      "3540 790\n",
      "3541 834\n",
      "3542 790\n",
      "3543 834\n",
      "3544 790\n",
      "3545 834\n",
      "3546 790\n",
      "3547 834\n",
      "3548 790\n",
      "3549 834\n",
      "3550 790\n",
      "3551 834\n",
      "3552 790\n",
      "3553 834\n",
      "3554 790\n",
      "3555 834\n",
      "3556 790\n",
      "3557 834\n",
      "3558 790\n",
      "3559 834\n",
      "3560 790\n",
      "3561 834\n",
      "3562 790\n",
      "3563 834\n",
      "3564 790\n",
      "3565 834\n",
      "3566 790\n",
      "3567 834\n",
      "3568 790\n",
      "3569 834\n",
      "3570 790\n",
      "3571 834\n",
      "3572 790\n",
      "3573 834\n",
      "3574 790\n",
      "3575 834\n",
      "3576 790\n",
      "3577 834\n",
      "3578 790\n",
      "3579 834\n",
      "3580 790\n",
      "3581 834\n",
      "3582 790\n",
      "3583 834\n",
      "3584 790\n",
      "3585 834\n",
      "3586 790\n",
      "3587 834\n",
      "3588 790\n",
      "3589 834\n",
      "3590 790\n",
      "3591 834\n",
      "3592 790\n",
      "3593 834\n",
      "3594 790\n",
      "3595 834\n",
      "3596 790\n",
      "3597 834\n",
      "3598 790\n",
      "3599 834\n",
      "3600 790\n",
      "3601 834\n",
      "3602 790\n",
      "3603 834\n",
      "3604 790\n",
      "3605 834\n",
      "3606 790\n",
      "3607 834\n",
      "3608 790\n",
      "3609 834\n",
      "3610 790\n",
      "3611 834\n",
      "3612 790\n",
      "3613 834\n",
      "3614 790\n",
      "3615 834\n",
      "3616 790\n",
      "3617 834\n",
      "3618 790\n",
      "3619 834\n",
      "3620 790\n",
      "3621 834\n",
      "3622 790\n",
      "3623 834\n",
      "3624 790\n",
      "3625 834\n",
      "3626 790\n",
      "3627 834\n",
      "3628 790\n",
      "3629 834\n",
      "3630 790\n",
      "3631 834\n",
      "3632 790\n",
      "3633 834\n",
      "3634 790\n",
      "3635 834\n",
      "3636 790\n",
      "3637 834\n",
      "3638 790\n",
      "3639 834\n",
      "3640 790\n",
      "3641 834\n",
      "3642 790\n",
      "3643 834\n",
      "3644 790\n",
      "3645 834\n",
      "3646 790\n",
      "3647 834\n",
      "3648 790\n",
      "3649 834\n",
      "3650 790\n",
      "3651 834\n",
      "3652 790\n",
      "3653 834\n",
      "3654 790\n",
      "3655 834\n",
      "3656 790\n",
      "3657 834\n",
      "3658 790\n",
      "3659 834\n",
      "3660 790\n",
      "3661 834\n",
      "3662 790\n",
      "3663 834\n",
      "3664 790\n",
      "3665 834\n",
      "3666 790\n",
      "3667 834\n",
      "3668 790\n",
      "3669 834\n",
      "3670 790\n",
      "3671 834\n",
      "3672 790\n",
      "3673 834\n",
      "3674 790\n",
      "3675 834\n",
      "3676 790\n",
      "3677 834\n",
      "3678 790\n",
      "3679 834\n",
      "3680 790\n",
      "3681 834\n",
      "3682 790\n",
      "3683 834\n",
      "3684 790\n",
      "3685 834\n",
      "3686 790\n",
      "3687 834\n",
      "3688 790\n",
      "3689 834\n",
      "3690 790\n",
      "3691 834\n",
      "3692 790\n",
      "3693 834\n",
      "3694 790\n",
      "3695 834\n",
      "3696 790\n",
      "3697 834\n",
      "3698 790\n",
      "3699 834\n",
      "3700 790\n",
      "3701 834\n",
      "3702 790\n",
      "3703 834\n",
      "3704 790\n",
      "3705 834\n",
      "3706 790\n",
      "3707 834\n",
      "3708 790\n",
      "3709 834\n",
      "3710 790\n",
      "3711 834\n",
      "3712 790\n",
      "3713 834\n",
      "3714 790\n",
      "3715 834\n",
      "3716 790\n",
      "3717 834\n",
      "3718 790\n",
      "3719 834\n",
      "3720 790\n",
      "3721 834\n",
      "3722 790\n",
      "3723 834\n",
      "3724 790\n",
      "3725 834\n",
      "3726 790\n",
      "3727 834\n",
      "3728 790\n",
      "3729 834\n",
      "3730 790\n",
      "3731 834\n",
      "3732 790\n",
      "3733 834\n",
      "3734 790\n",
      "3735 834\n",
      "3736 790\n",
      "3737 834\n",
      "3738 790\n",
      "3739 834\n",
      "3740 790\n",
      "3741 834\n",
      "3742 790\n",
      "3743 834\n",
      "3744 790\n",
      "3745 834\n",
      "3746 790\n",
      "3747 834\n",
      "3748 790\n",
      "3749 834\n",
      "3750 790\n",
      "3751 834\n",
      "3752 790\n",
      "3753 834\n",
      "3754 790\n",
      "3755 834\n",
      "3756 790\n",
      "3757 834\n",
      "3758 790\n",
      "3759 834\n",
      "3760 790\n",
      "3761 834\n",
      "3762 790\n",
      "3763 834\n",
      "3764 790\n",
      "3765 834\n",
      "3766 790\n",
      "3767 834\n",
      "3768 790\n",
      "3769 834\n",
      "3770 790\n",
      "3771 834\n",
      "3772 790\n",
      "3773 834\n",
      "3774 790\n",
      "3775 834\n",
      "3776 790\n",
      "3777 834\n",
      "3778 790\n",
      "3779 834\n",
      "3780 790\n",
      "3781 834\n",
      "3782 790\n",
      "3783 834\n",
      "3784 790\n",
      "3785 834\n",
      "3786 790\n",
      "3787 834\n",
      "3788 790\n",
      "3789 834\n",
      "3790 790\n",
      "3791 834\n",
      "3792 790\n",
      "3793 834\n",
      "3794 790\n",
      "3795 834\n",
      "3796 790\n",
      "3797 834\n",
      "3798 790\n",
      "3799 834\n",
      "3800 790\n",
      "3801 834\n",
      "3802 790\n",
      "3803 834\n",
      "3804 790\n",
      "3805 834\n",
      "3806 790\n",
      "3807 834\n",
      "3808 790\n",
      "3809 834\n",
      "3810 790\n",
      "3811 834\n",
      "3812 790\n",
      "3813 834\n",
      "3814 790\n",
      "3815 834\n",
      "3816 790\n",
      "3817 834\n",
      "3818 790\n",
      "3819 834\n",
      "3820 790\n",
      "3821 834\n",
      "3822 790\n",
      "3823 834\n",
      "3824 790\n",
      "3825 834\n",
      "3826 790\n",
      "3827 834\n",
      "3828 790\n",
      "3829 834\n",
      "3830 790\n",
      "3831 834\n",
      "3832 790\n",
      "3833 834\n",
      "3834 790\n",
      "3835 834\n",
      "3836 790\n",
      "3837 834\n",
      "3838 790\n",
      "3839 834\n",
      "3840 790\n",
      "3841 834\n",
      "3842 790\n",
      "3843 834\n",
      "3844 790\n",
      "3845 834\n",
      "3846 790\n",
      "3847 834\n",
      "3848 790\n",
      "3849 834\n",
      "3850 790\n",
      "3851 834\n",
      "3852 790\n",
      "3853 834\n",
      "3854 790\n",
      "3855 834\n",
      "3856 790\n",
      "3857 834\n",
      "3858 790\n",
      "3859 834\n",
      "3860 790\n",
      "3861 834\n",
      "3862 790\n",
      "3863 834\n",
      "3864 790\n",
      "3865 834\n",
      "3866 790\n",
      "3867 834\n",
      "3868 790\n",
      "3869 834\n",
      "3870 790\n",
      "3871 834\n",
      "3872 790\n",
      "3873 834\n",
      "3874 790\n",
      "3875 834\n",
      "3876 790\n",
      "3877 834\n",
      "3878 790\n",
      "3879 834\n",
      "3880 790\n",
      "3881 834\n",
      "3882 790\n",
      "3883 834\n",
      "3884 790\n",
      "3885 834\n",
      "3886 790\n",
      "3887 834\n",
      "3888 790\n",
      "3889 834\n",
      "3890 790\n",
      "3891 834\n",
      "3892 790\n",
      "3893 834\n",
      "3894 790\n",
      "3895 834\n",
      "3896 790\n",
      "3897 834\n",
      "3898 790\n",
      "3899 834\n",
      "3900 790\n",
      "3901 834\n",
      "3902 790\n",
      "3903 834\n",
      "3904 790\n",
      "3905 834\n",
      "3906 790\n",
      "3907 834\n",
      "3908 790\n",
      "3909 834\n",
      "3910 790\n",
      "3911 834\n",
      "3912 790\n",
      "3913 834\n",
      "3914 790\n",
      "3915 834\n",
      "3916 790\n",
      "3917 834\n",
      "3918 790\n",
      "3919 834\n",
      "3920 790\n",
      "3921 834\n",
      "3922 790\n",
      "3923 834\n",
      "3924 790\n",
      "3925 834\n",
      "3926 790\n",
      "3927 834\n",
      "3928 790\n",
      "3929 834\n",
      "3930 790\n",
      "3931 834\n",
      "3932 790\n",
      "3933 834\n",
      "3934 790\n",
      "3935 834\n",
      "3936 790\n",
      "3937 834\n",
      "3938 790\n",
      "3939 834\n",
      "3940 790\n",
      "3941 834\n",
      "3942 790\n",
      "3943 834\n",
      "3944 790\n",
      "3945 834\n",
      "3946 790\n",
      "3947 834\n",
      "3948 790\n",
      "3949 834\n",
      "3950 790\n",
      "3951 834\n",
      "3952 790\n",
      "3953 834\n",
      "3954 790\n",
      "3955 834\n",
      "3956 790\n",
      "3957 834\n",
      "3958 790\n",
      "3959 834\n",
      "3960 790\n",
      "3961 834\n",
      "3962 790\n",
      "3963 834\n",
      "3964 790\n",
      "3965 834\n",
      "3966 790\n",
      "3967 834\n",
      "3968 790\n",
      "3969 834\n",
      "3970 790\n",
      "3971 834\n",
      "3972 790\n",
      "3973 834\n",
      "3974 790\n",
      "3975 834\n",
      "3976 790\n",
      "3977 834\n",
      "3978 790\n",
      "3979 834\n",
      "3980 790\n",
      "3981 834\n",
      "3982 790\n",
      "3983 834\n",
      "3984 790\n",
      "3985 834\n",
      "3986 790\n",
      "3987 834\n",
      "3988 790\n",
      "3989 834\n",
      "3990 790\n",
      "3991 834\n",
      "3992 790\n",
      "3993 834\n",
      "3994 790\n",
      "3995 834\n",
      "3996 790\n",
      "3997 834\n",
      "3998 790\n",
      "3999 834\n",
      "4000 790\n",
      "4001 834\n",
      "4002 790\n",
      "4003 834\n",
      "4004 790\n",
      "4005 834\n",
      "4006 790\n",
      "4007 834\n",
      "4008 790\n",
      "4009 834\n",
      "4010 790\n",
      "4011 834\n",
      "4012 790\n",
      "4013 834\n",
      "4014 790\n",
      "4015 834\n",
      "4016 790\n",
      "4017 834\n",
      "4018 790\n",
      "4019 834\n",
      "4020 790\n",
      "4021 834\n",
      "4022 790\n",
      "4023 834\n",
      "4024 790\n",
      "4025 834\n",
      "4026 790\n",
      "4027 834\n",
      "4028 790\n",
      "4029 834\n",
      "4030 790\n",
      "4031 834\n",
      "4032 790\n",
      "4033 834\n",
      "4034 790\n",
      "4035 834\n",
      "4036 790\n",
      "4037 834\n",
      "4038 790\n",
      "4039 834\n",
      "4040 790\n",
      "4041 834\n",
      "4042 790\n",
      "4043 834\n",
      "4044 790\n",
      "4045 834\n",
      "4046 790\n",
      "4047 834\n",
      "4048 790\n",
      "4049 834\n",
      "4050 790\n",
      "4051 834\n",
      "4052 790\n",
      "4053 834\n",
      "4054 790\n",
      "4055 834\n",
      "4056 790\n",
      "4057 834\n",
      "4058 790\n",
      "4059 834\n",
      "4060 790\n",
      "4061 834\n",
      "4062 790\n",
      "4063 834\n",
      "4064 790\n",
      "4065 834\n",
      "4066 790\n",
      "4067 834\n",
      "4068 790\n",
      "4069 834\n",
      "4070 790\n",
      "4071 834\n",
      "4072 790\n",
      "4073 834\n",
      "4074 790\n",
      "4075 834\n",
      "4076 790\n",
      "4077 834\n",
      "4078 790\n",
      "4079 834\n",
      "4080 790\n",
      "4081 834\n",
      "4082 790\n",
      "4083 834\n",
      "4084 790\n",
      "4085 834\n",
      "4086 790\n",
      "4087 834\n",
      "4088 790\n",
      "4089 834\n",
      "4090 790\n",
      "4091 834\n",
      "4092 790\n",
      "4093 834\n",
      "4094 790\n",
      "4095 834\n",
      "4096 790\n",
      "4097 834\n",
      "4098 790\n",
      "4099 834\n",
      "4100 790\n",
      "4101 834\n",
      "4102 790\n",
      "4103 834\n",
      "4104 790\n",
      "4105 834\n",
      "4106 790\n",
      "4107 834\n",
      "4108 790\n",
      "4109 834\n",
      "4110 790\n",
      "4111 834\n",
      "4112 790\n",
      "4113 834\n",
      "4114 790\n",
      "4115 834\n",
      "4116 790\n",
      "4117 834\n",
      "4118 790\n",
      "4119 834\n",
      "4120 790\n",
      "4121 834\n",
      "4122 790\n",
      "4123 834\n",
      "4124 790\n",
      "4125 834\n",
      "4126 790\n",
      "4127 834\n",
      "4128 790\n",
      "4129 834\n",
      "4130 790\n",
      "4131 834\n",
      "4132 790\n",
      "4133 834\n",
      "4134 790\n",
      "4135 834\n",
      "4136 790\n",
      "4137 834\n",
      "4138 790\n",
      "4139 834\n",
      "4140 790\n",
      "4141 834\n",
      "4142 790\n",
      "4143 834\n",
      "4144 790\n",
      "4145 834\n",
      "4146 790\n",
      "4147 834\n",
      "4148 790\n",
      "4149 834\n",
      "4150 790\n",
      "4151 834\n",
      "4152 790\n",
      "4153 834\n",
      "4154 790\n",
      "4155 834\n",
      "4156 790\n",
      "4157 834\n",
      "4158 790\n",
      "4159 834\n",
      "4160 790\n",
      "4161 834\n",
      "4162 790\n",
      "4163 834\n",
      "4164 790\n",
      "4165 834\n",
      "4166 790\n",
      "4167 834\n",
      "4168 790\n",
      "4169 834\n",
      "4170 790\n",
      "4171 834\n",
      "4172 790\n",
      "4173 834\n",
      "4174 790\n",
      "4175 834\n",
      "4176 790\n",
      "4177 834\n",
      "4178 790\n",
      "4179 834\n",
      "4180 790\n",
      "4181 834\n",
      "4182 790\n",
      "4183 834\n",
      "4184 790\n",
      "4185 834\n",
      "4186 790\n",
      "4187 834\n",
      "4188 790\n",
      "4189 834\n",
      "4190 790\n",
      "4191 834\n",
      "4192 790\n",
      "4193 834\n",
      "4194 790\n",
      "4195 834\n",
      "4196 790\n",
      "4197 834\n",
      "4198 790\n",
      "4199 834\n",
      "4200 790\n",
      "4201 834\n",
      "4202 790\n",
      "4203 834\n",
      "4204 790\n",
      "4205 834\n",
      "4206 790\n",
      "4207 834\n",
      "4208 790\n",
      "4209 834\n",
      "4210 790\n",
      "4211 834\n",
      "4212 790\n",
      "4213 834\n",
      "4214 790\n",
      "4215 834\n",
      "4216 790\n",
      "4217 834\n",
      "4218 790\n",
      "4219 834\n",
      "4220 790\n",
      "4221 834\n",
      "4222 790\n",
      "4223 834\n",
      "4224 790\n",
      "4225 834\n",
      "4226 790\n",
      "4227 834\n",
      "4228 790\n",
      "4229 834\n",
      "4230 790\n",
      "4231 834\n",
      "4232 790\n",
      "4233 834\n",
      "4234 790\n",
      "4235 834\n",
      "4236 790\n",
      "4237 834\n",
      "4238 790\n",
      "4239 834\n",
      "4240 790\n",
      "4241 834\n",
      "4242 790\n",
      "4243 834\n",
      "4244 790\n",
      "4245 834\n",
      "4246 790\n",
      "4247 834\n",
      "4248 790\n",
      "4249 834\n",
      "4250 790\n",
      "4251 834\n",
      "4252 790\n",
      "4253 834\n",
      "4254 790\n",
      "4255 834\n",
      "4256 790\n",
      "4257 834\n",
      "4258 790\n",
      "4259 834\n",
      "4260 790\n",
      "4261 834\n",
      "4262 790\n",
      "4263 834\n",
      "4264 790\n",
      "4265 834\n",
      "4266 790\n",
      "4267 834\n",
      "4268 790\n",
      "4269 834\n",
      "4270 790\n",
      "4271 834\n",
      "4272 790\n",
      "4273 834\n",
      "4274 790\n",
      "4275 834\n",
      "4276 790\n",
      "4277 834\n",
      "4278 790\n",
      "4279 834\n",
      "4280 790\n",
      "4281 834\n",
      "4282 790\n",
      "4283 834\n",
      "4284 790\n",
      "4285 834\n",
      "4286 790\n",
      "4287 834\n",
      "4288 790\n",
      "4289 834\n",
      "4290 790\n",
      "4291 834\n",
      "4292 790\n",
      "4293 834\n",
      "4294 790\n",
      "4295 834\n",
      "4296 790\n",
      "4297 834\n",
      "4298 790\n",
      "4299 834\n",
      "4300 790\n",
      "4301 834\n",
      "4302 790\n",
      "4303 834\n",
      "4304 790\n",
      "4305 834\n",
      "4306 790\n",
      "4307 834\n",
      "4308 790\n",
      "4309 834\n",
      "4310 790\n",
      "4311 834\n",
      "4312 790\n",
      "4313 834\n",
      "4314 790\n",
      "4315 834\n",
      "4316 790\n",
      "4317 834\n",
      "4318 790\n",
      "4319 834\n",
      "4320 790\n",
      "4321 834\n",
      "4322 790\n",
      "4323 834\n",
      "4324 790\n",
      "4325 834\n",
      "4326 790\n",
      "4327 834\n",
      "4328 790\n",
      "4329 834\n",
      "4330 790\n",
      "4331 834\n",
      "4332 790\n",
      "4333 834\n",
      "4334 790\n",
      "4335 834\n",
      "4336 790\n",
      "4337 834\n",
      "4338 790\n",
      "4339 834\n",
      "4340 790\n",
      "4341 834\n",
      "4342 790\n",
      "4343 834\n",
      "4344 790\n",
      "4345 834\n",
      "4346 790\n",
      "4347 834\n",
      "4348 790\n",
      "4349 834\n",
      "4350 790\n",
      "4351 834\n",
      "4352 790\n",
      "4353 834\n",
      "4354 790\n",
      "4355 834\n",
      "4356 790\n",
      "4357 834\n",
      "4358 790\n",
      "4359 834\n",
      "4360 790\n",
      "4361 834\n",
      "4362 790\n",
      "4363 834\n",
      "4364 790\n",
      "4365 834\n",
      "4366 790\n",
      "4367 834\n",
      "4368 790\n",
      "4369 834\n",
      "4370 790\n",
      "4371 834\n",
      "4372 790\n",
      "4373 834\n",
      "4374 790\n",
      "4375 834\n",
      "4376 790\n",
      "4377 834\n",
      "4378 790\n",
      "4379 834\n",
      "4380 790\n",
      "4381 834\n",
      "4382 790\n",
      "4383 834\n",
      "4384 790\n",
      "4385 834\n",
      "4386 790\n",
      "4387 834\n",
      "4388 790\n",
      "4389 834\n",
      "4390 790\n",
      "4391 834\n",
      "4392 790\n",
      "4393 834\n",
      "4394 790\n",
      "4395 834\n",
      "4396 790\n",
      "4397 834\n",
      "4398 790\n",
      "4399 834\n",
      "4400 790\n",
      "4401 834\n",
      "4402 790\n",
      "4403 834\n",
      "4404 790\n",
      "4405 834\n",
      "4406 790\n",
      "4407 834\n",
      "4408 790\n",
      "4409 834\n",
      "4410 790\n",
      "4411 834\n",
      "4412 790\n",
      "4413 834\n",
      "4414 790\n",
      "4415 834\n",
      "4416 790\n",
      "4417 834\n",
      "4418 790\n",
      "4419 834\n",
      "4420 790\n",
      "4421 834\n",
      "4422 790\n",
      "4423 834\n",
      "4424 790\n",
      "4425 834\n",
      "4426 790\n",
      "4427 834\n",
      "4428 790\n",
      "4429 834\n",
      "4430 790\n",
      "4431 834\n",
      "4432 790\n",
      "4433 834\n",
      "4434 790\n",
      "4435 834\n",
      "4436 790\n",
      "4437 834\n",
      "4438 790\n",
      "4439 834\n",
      "4440 790\n",
      "4441 834\n",
      "4442 790\n",
      "4443 834\n",
      "4444 790\n",
      "4445 834\n",
      "4446 790\n",
      "4447 834\n",
      "4448 790\n",
      "4449 834\n",
      "4450 790\n",
      "4451 834\n",
      "4452 790\n",
      "4453 834\n",
      "4454 790\n",
      "4455 834\n",
      "4456 790\n",
      "4457 834\n",
      "4458 790\n",
      "4459 834\n",
      "4460 790\n",
      "4461 834\n",
      "4462 790\n",
      "4463 834\n",
      "4464 790\n",
      "4465 834\n",
      "4466 790\n",
      "4467 834\n",
      "4468 790\n",
      "4469 834\n",
      "4470 790\n",
      "4471 834\n",
      "4472 790\n",
      "4473 834\n",
      "4474 790\n",
      "4475 834\n",
      "4476 790\n",
      "4477 834\n",
      "4478 790\n",
      "4479 834\n",
      "4480 790\n",
      "4481 834\n",
      "4482 790\n",
      "4483 834\n",
      "4484 790\n",
      "4485 834\n",
      "4486 790\n",
      "4487 834\n",
      "4488 790\n",
      "4489 834\n",
      "4490 790\n",
      "4491 834\n",
      "4492 790\n",
      "4493 834\n",
      "4494 790\n",
      "4495 834\n",
      "4496 790\n",
      "4497 834\n",
      "4498 790\n",
      "4499 834\n",
      "4500 790\n",
      "4501 834\n",
      "4502 790\n",
      "4503 834\n",
      "4504 790\n",
      "4505 834\n",
      "4506 790\n",
      "4507 834\n",
      "4508 790\n",
      "4509 834\n",
      "4510 790\n",
      "4511 834\n",
      "4512 790\n",
      "4513 834\n",
      "4514 790\n",
      "4515 834\n",
      "4516 790\n",
      "4517 834\n",
      "4518 790\n",
      "4519 834\n",
      "4520 790\n",
      "4521 834\n",
      "4522 790\n",
      "4523 834\n",
      "4524 790\n",
      "4525 834\n",
      "4526 790\n",
      "4527 834\n",
      "4528 790\n",
      "4529 834\n",
      "4530 790\n",
      "4531 834\n",
      "4532 790\n",
      "4533 834\n",
      "4534 790\n",
      "4535 834\n",
      "4536 790\n",
      "4537 834\n",
      "4538 790\n",
      "4539 834\n",
      "4540 790\n",
      "4541 834\n",
      "4542 790\n",
      "4543 834\n",
      "4544 790\n",
      "4545 834\n",
      "4546 790\n",
      "4547 834\n",
      "4548 790\n",
      "4549 834\n",
      "4550 790\n",
      "4551 834\n",
      "4552 790\n",
      "4553 834\n",
      "4554 790\n",
      "4555 834\n",
      "4556 790\n",
      "4557 834\n",
      "4558 790\n",
      "4559 834\n",
      "4560 790\n",
      "4561 834\n",
      "4562 790\n",
      "4563 834\n",
      "4564 790\n",
      "4565 834\n",
      "4566 790\n",
      "4567 834\n",
      "4568 790\n",
      "4569 834\n",
      "4570 790\n",
      "4571 834\n",
      "4572 790\n",
      "4573 834\n",
      "4574 790\n",
      "4575 834\n",
      "4576 790\n",
      "4577 834\n",
      "4578 790\n",
      "4579 834\n",
      "4580 790\n",
      "4581 834\n",
      "4582 790\n",
      "4583 834\n",
      "4584 790\n",
      "4585 834\n",
      "4586 790\n",
      "4587 834\n",
      "4588 790\n",
      "4589 834\n",
      "4590 790\n",
      "4591 834\n",
      "4592 790\n",
      "4593 834\n",
      "4594 790\n",
      "4595 834\n",
      "4596 790\n",
      "4597 834\n",
      "4598 790\n",
      "4599 834\n",
      "4600 790\n",
      "4601 834\n",
      "4602 790\n",
      "4603 834\n",
      "4604 790\n",
      "4605 834\n",
      "4606 790\n",
      "4607 834\n",
      "4608 790\n",
      "4609 834\n",
      "4610 790\n",
      "4611 834\n",
      "4612 790\n",
      "4613 834\n",
      "4614 790\n",
      "4615 834\n",
      "4616 790\n",
      "4617 834\n",
      "4618 790\n",
      "4619 834\n",
      "4620 790\n",
      "4621 834\n",
      "4622 790\n",
      "4623 834\n",
      "4624 790\n",
      "4625 834\n",
      "4626 790\n",
      "4627 834\n",
      "4628 790\n",
      "4629 834\n",
      "4630 790\n",
      "4631 834\n",
      "4632 790\n",
      "4633 834\n",
      "4634 790\n",
      "4635 834\n",
      "4636 790\n",
      "4637 834\n",
      "4638 790\n",
      "4639 834\n",
      "4640 790\n",
      "4641 834\n",
      "4642 790\n",
      "4643 834\n",
      "4644 790\n",
      "4645 834\n",
      "4646 790\n",
      "4647 834\n",
      "4648 790\n",
      "4649 834\n",
      "4650 790\n",
      "4651 834\n",
      "4652 790\n",
      "4653 834\n",
      "4654 790\n",
      "4655 834\n",
      "4656 790\n",
      "4657 834\n",
      "4658 790\n",
      "4659 834\n",
      "4660 790\n",
      "4661 834\n",
      "4662 790\n",
      "4663 834\n",
      "4664 790\n",
      "4665 834\n",
      "4666 790\n",
      "4667 834\n",
      "4668 790\n",
      "4669 834\n",
      "4670 790\n",
      "4671 834\n",
      "4672 790\n",
      "4673 834\n",
      "4674 790\n",
      "4675 834\n",
      "4676 790\n",
      "4677 834\n",
      "4678 790\n",
      "4679 834\n",
      "4680 790\n",
      "4681 834\n",
      "4682 790\n",
      "4683 834\n",
      "4684 790\n",
      "4685 834\n",
      "4686 790\n",
      "4687 834\n",
      "4688 790\n",
      "4689 834\n",
      "4690 790\n",
      "4691 834\n",
      "4692 790\n",
      "4693 834\n",
      "4694 790\n",
      "4695 834\n",
      "4696 790\n",
      "4697 834\n",
      "4698 790\n",
      "4699 834\n",
      "4700 790\n",
      "4701 834\n",
      "4702 790\n",
      "4703 834\n",
      "4704 790\n",
      "4705 834\n",
      "4706 790\n",
      "4707 834\n",
      "4708 790\n",
      "4709 834\n",
      "4710 790\n",
      "4711 834\n",
      "4712 790\n",
      "4713 834\n",
      "4714 790\n",
      "4715 834\n",
      "4716 790\n",
      "4717 834\n",
      "4718 790\n",
      "4719 834\n",
      "4720 790\n",
      "4721 834\n",
      "4722 790\n",
      "4723 834\n",
      "4724 790\n",
      "4725 834\n",
      "4726 790\n",
      "4727 834\n",
      "4728 790\n",
      "4729 834\n",
      "4730 790\n",
      "4731 834\n",
      "4732 790\n",
      "4733 834\n",
      "4734 790\n",
      "4735 834\n",
      "4736 790\n",
      "4737 834\n",
      "4738 790\n",
      "4739 834\n",
      "4740 790\n",
      "4741 834\n",
      "4742 790\n",
      "4743 834\n",
      "4744 790\n",
      "4745 834\n",
      "4746 790\n",
      "4747 834\n",
      "4748 790\n",
      "4749 834\n",
      "4750 790\n",
      "4751 834\n",
      "4752 790\n",
      "4753 834\n",
      "4754 790\n",
      "4755 834\n",
      "4756 790\n",
      "4757 834\n",
      "4758 790\n",
      "4759 834\n",
      "4760 790\n",
      "4761 834\n",
      "4762 790\n",
      "4763 834\n",
      "4764 790\n",
      "4765 834\n",
      "4766 790\n",
      "4767 834\n",
      "4768 790\n",
      "4769 834\n",
      "4770 790\n",
      "4771 834\n",
      "4772 790\n",
      "4773 834\n",
      "4774 790\n",
      "4775 834\n",
      "4776 790\n",
      "4777 834\n",
      "4778 790\n",
      "4779 834\n",
      "4780 790\n",
      "4781 834\n",
      "4782 790\n",
      "4783 834\n",
      "4784 790\n",
      "4785 834\n",
      "4786 790\n",
      "4787 834\n",
      "4788 790\n",
      "4789 834\n",
      "4790 790\n",
      "4791 834\n",
      "4792 790\n",
      "4793 834\n",
      "4794 790\n",
      "4795 834\n",
      "4796 790\n",
      "4797 834\n",
      "4798 790\n",
      "4799 834\n",
      "4800 790\n",
      "4801 834\n",
      "4802 790\n",
      "4803 834\n",
      "4804 790\n",
      "4805 834\n",
      "4806 790\n",
      "4807 834\n",
      "4808 790\n",
      "4809 834\n",
      "4810 790\n",
      "4811 834\n",
      "4812 790\n",
      "4813 834\n",
      "4814 790\n",
      "4815 834\n",
      "4816 790\n",
      "4817 834\n",
      "4818 790\n",
      "4819 834\n",
      "4820 790\n",
      "4821 834\n",
      "4822 790\n",
      "4823 834\n",
      "4824 790\n",
      "4825 834\n",
      "4826 790\n",
      "4827 834\n",
      "4828 790\n",
      "4829 834\n",
      "4830 790\n",
      "4831 834\n",
      "4832 790\n",
      "4833 834\n",
      "4834 790\n",
      "4835 834\n",
      "4836 790\n",
      "4837 834\n",
      "4838 790\n",
      "4839 834\n",
      "4840 790\n",
      "4841 834\n",
      "4842 790\n",
      "4843 834\n",
      "4844 790\n",
      "4845 834\n",
      "4846 790\n",
      "4847 834\n",
      "4848 790\n",
      "4849 834\n",
      "4850 790\n",
      "4851 834\n",
      "4852 790\n",
      "4853 834\n",
      "4854 790\n",
      "4855 834\n",
      "4856 790\n",
      "4857 834\n",
      "4858 790\n",
      "4859 834\n",
      "4860 790\n",
      "4861 834\n",
      "4862 790\n",
      "4863 834\n",
      "4864 790\n",
      "4865 834\n",
      "4866 790\n",
      "4867 834\n",
      "4868 790\n",
      "4869 834\n",
      "4870 790\n",
      "4871 834\n",
      "4872 790\n",
      "4873 834\n",
      "4874 790\n",
      "4875 834\n",
      "4876 790\n",
      "4877 834\n",
      "4878 790\n",
      "4879 834\n",
      "4880 790\n",
      "4881 834\n",
      "4882 790\n",
      "4883 834\n",
      "4884 790\n",
      "4885 834\n",
      "4886 790\n",
      "4887 834\n",
      "4888 790\n",
      "4889 834\n",
      "4890 790\n",
      "4891 834\n",
      "4892 790\n",
      "4893 834\n",
      "4894 790\n",
      "4895 834\n",
      "4896 790\n",
      "4897 834\n",
      "4898 790\n",
      "4899 834\n",
      "4900 790\n",
      "4901 834\n",
      "4902 790\n",
      "4903 834\n",
      "4904 790\n",
      "4905 834\n",
      "4906 790\n",
      "4907 834\n",
      "4908 790\n",
      "4909 834\n",
      "4910 790\n",
      "4911 834\n",
      "4912 790\n",
      "4913 834\n",
      "4914 790\n",
      "4915 834\n",
      "4916 790\n",
      "4917 834\n",
      "4918 790\n",
      "4919 834\n",
      "4920 790\n",
      "4921 834\n",
      "4922 790\n",
      "4923 834\n",
      "4924 790\n",
      "4925 834\n",
      "4926 790\n",
      "4927 834\n",
      "4928 790\n",
      "4929 834\n",
      "4930 790\n",
      "4931 834\n",
      "4932 790\n",
      "4933 834\n",
      "4934 790\n",
      "4935 834\n",
      "4936 790\n",
      "4937 834\n",
      "4938 790\n",
      "4939 834\n",
      "4940 790\n",
      "4941 834\n",
      "4942 790\n",
      "4943 834\n",
      "4944 790\n",
      "4945 834\n",
      "4946 790\n",
      "4947 834\n",
      "4948 790\n",
      "4949 834\n",
      "4950 790\n",
      "4951 834\n",
      "4952 790\n",
      "4953 834\n",
      "4954 790\n",
      "4955 834\n",
      "4956 790\n",
      "4957 834\n",
      "4958 790\n",
      "4959 834\n",
      "4960 790\n",
      "4961 834\n",
      "4962 790\n",
      "4963 834\n",
      "4964 790\n",
      "4965 834\n",
      "4966 790\n",
      "4967 834\n",
      "4968 790\n",
      "4969 834\n",
      "4970 790\n",
      "4971 834\n",
      "4972 790\n",
      "4973 834\n",
      "4974 790\n",
      "4975 834\n",
      "4976 790\n",
      "4977 834\n",
      "4978 790\n",
      "4979 834\n",
      "4980 790\n",
      "4981 834\n",
      "4982 790\n",
      "4983 834\n",
      "4984 790\n",
      "4985 834\n",
      "4986 790\n",
      "4987 834\n",
      "4988 790\n",
      "4989 834\n",
      "4990 790\n",
      "4991 834\n",
      "4992 790\n",
      "4993 834\n",
      "4994 790\n",
      "4995 834\n",
      "4996 790\n",
      "4997 834\n",
      "4998 790\n",
      "4999 834\n"
     ]
    }
   ],
   "source": [
    "fitness_tracker = []\n",
    "min_fitness = np.inf\n",
    "for g in range(5000):\n",
    "    new_pop = []\n",
    "    pop_results = []\n",
    "    \n",
    "   \n",
    "    fitness_result = [ga.fitness_qa(pop, d, w) for pop in initial_population]\n",
    "    print(g, min(fitness_result))\n",
    "    fitness_tracker.append(min(fitness_result))\n",
    "    for _ in range(100):\n",
    "        selected = ga.selection(initial_population, fitness_result)\n",
    "        child = ga.crossover(selected)\n",
    "        mutated = ga.mutation(child)\n",
    "        new_pop.append(mutated)\n",
    "    initial_population = new_pop\n",
    "\n",
    "min_fitness = min(fitness_result)\n",
    "min_child = initial_population[fitness_result.index(min_fitness)]"
   ]
  },
  {
   "cell_type": "code",
   "execution_count": null,
   "metadata": {},
   "outputs": [
    {
     "name": "stdout",
     "output_type": "stream",
     "text": [
      "0 735.0\n",
      "1 735.0\n",
      "2 735.0\n",
      "3 735.0\n",
      "4 735.0\n",
      "5 735.0\n",
      "6 735.0\n",
      "7 735.0\n",
      "8 735.0\n",
      "9 735.0\n",
      "10 735.0\n",
      "11 735.0\n",
      "12 735.0\n",
      "13 735.0\n",
      "14 735.0\n",
      "15 735.0\n",
      "16 735.0\n",
      "17 735.0\n",
      "18 735.0\n",
      "19 735.0\n",
      "20 735.0\n",
      "21 735.0\n",
      "22 735.0\n",
      "23 735.0\n",
      "24 735.0\n",
      "25 735.0\n",
      "26 735.0\n",
      "27 735.0\n",
      "28 735.0\n",
      "29 735.0\n",
      "30 735.0\n",
      "31 735.0\n",
      "32 735.0\n",
      "33 735.0\n",
      "34 735.0\n",
      "35 735.0\n",
      "36 735.0\n",
      "37 735.0\n",
      "38 735.0\n",
      "39 735.0\n",
      "40 735.0\n",
      "41 735.0\n",
      "42 735.0\n",
      "43 735.0\n",
      "44 735.0\n",
      "45 735.0\n",
      "46 735.0\n",
      "47 735.0\n",
      "48 735.0\n",
      "49 735.0\n",
      "50 735.0\n",
      "51 735.0\n",
      "52 735.0\n",
      "53 735.0\n",
      "54 735.0\n",
      "55 735.0\n",
      "56 735.0\n",
      "57 735.0\n",
      "58 735.0\n",
      "59 735.0\n",
      "60 735.0\n",
      "61 735.0\n",
      "62 735.0\n",
      "63 735.0\n",
      "64 735.0\n",
      "65 735.0\n",
      "66 735.0\n",
      "67 735.0\n",
      "68 735.0\n",
      "69 735.0\n",
      "70 735.0\n",
      "71 735.0\n",
      "72 735.0\n",
      "73 735.0\n",
      "74 735.0\n",
      "75 735.0\n",
      "76 735.0\n",
      "77 735.0\n",
      "78 735.0\n",
      "79 735.0\n",
      "80 735.0\n",
      "81 735.0\n",
      "82 735.0\n",
      "83 735.0\n",
      "84 735.0\n",
      "85 735.0\n",
      "86 735.0\n",
      "87 735.0\n",
      "88 735.0\n",
      "89 735.0\n",
      "90 735.0\n",
      "91 735.0\n",
      "92 735.0\n",
      "93 735.0\n",
      "94 735.0\n",
      "95 735.0\n",
      "96 735.0\n",
      "97 735.0\n",
      "98 735.0\n",
      "99 735.0\n",
      "100 735.0\n",
      "101 735.0\n",
      "102 735.0\n",
      "103 735.0\n",
      "104 735.0\n",
      "105 735.0\n",
      "106 735.0\n",
      "107 735.0\n",
      "108 735.0\n",
      "109 735.0\n",
      "110 735.0\n",
      "111 735.0\n",
      "112 735.0\n",
      "113 735.0\n",
      "114 735.0\n",
      "115 735.0\n",
      "116 735.0\n",
      "117 735.0\n",
      "118 735.0\n",
      "119 735.0\n",
      "120 735.0\n",
      "121 735.0\n",
      "122 735.0\n",
      "123 735.0\n",
      "124 735.0\n",
      "125 735.0\n",
      "126 735.0\n",
      "127 735.0\n",
      "128 735.0\n",
      "129 735.0\n",
      "130 735.0\n",
      "131 735.0\n",
      "132 735.0\n",
      "133 735.0\n",
      "134 735.0\n",
      "135 735.0\n",
      "136 735.0\n",
      "137 735.0\n",
      "138 735.0\n",
      "139 735.0\n",
      "140 735.0\n",
      "141 735.0\n",
      "142 735.0\n",
      "143 735.0\n",
      "144 735.0\n",
      "145 735.0\n",
      "146 735.0\n",
      "147 735.0\n",
      "148 735.0\n",
      "149 735.0\n",
      "150 735.0\n",
      "151 735.0\n",
      "152 735.0\n",
      "153 735.0\n",
      "154 735.0\n",
      "155 735.0\n",
      "156 735.0\n",
      "157 735.0\n",
      "158 735.0\n",
      "159 735.0\n",
      "160 735.0\n",
      "161 735.0\n",
      "162 735.0\n",
      "163 735.0\n",
      "164 735.0\n",
      "165 735.0\n",
      "166 735.0\n",
      "167 735.0\n",
      "168 735.0\n",
      "169 735.0\n",
      "170 735.0\n",
      "171 735.0\n",
      "172 735.0\n",
      "173 735.0\n",
      "174 735.0\n",
      "175 735.0\n",
      "176 735.0\n",
      "177 735.0\n",
      "178 735.0\n",
      "179 735.0\n",
      "180 735.0\n",
      "181 735.0\n",
      "182 735.0\n",
      "183 735.0\n",
      "184 735.0\n",
      "185 735.0\n",
      "186 735.0\n",
      "187 735.0\n",
      "188 735.0\n",
      "189 735.0\n",
      "190 735.0\n",
      "191 735.0\n",
      "192 735.0\n",
      "193 735.0\n",
      "194 735.0\n",
      "195 735.0\n",
      "196 735.0\n",
      "197 735.0\n",
      "198 735.0\n",
      "199 735.0\n",
      "200 735.0\n",
      "201 735.0\n",
      "202 735.0\n",
      "203 735.0\n",
      "204 735.0\n",
      "205 735.0\n",
      "206 735.0\n",
      "207 735.0\n",
      "208 735.0\n",
      "209 735.0\n",
      "210 735.0\n",
      "211 735.0\n",
      "212 735.0\n",
      "213 735.0\n",
      "214 735.0\n",
      "215 735.0\n",
      "216 735.0\n",
      "217 735.0\n",
      "218 735.0\n",
      "219 735.0\n",
      "220 735.0\n",
      "221 735.0\n",
      "222 735.0\n",
      "223 735.0\n",
      "224 735.0\n",
      "225 735.0\n",
      "226 735.0\n",
      "227 735.0\n",
      "228 735.0\n",
      "229 735.0\n",
      "230 735.0\n",
      "231 735.0\n",
      "232 735.0\n",
      "233 735.0\n",
      "234 735.0\n",
      "235 735.0\n",
      "236 735.0\n",
      "237 735.0\n",
      "238 735.0\n",
      "239 735.0\n",
      "240 735.0\n",
      "241 735.0\n",
      "242 735.0\n",
      "243 735.0\n",
      "244 735.0\n",
      "245 735.0\n",
      "246 735.0\n",
      "247 735.0\n",
      "248 735.0\n",
      "249 735.0\n",
      "250 735.0\n",
      "251 735.0\n",
      "252 735.0\n",
      "253 735.0\n",
      "254 735.0\n",
      "255 735.0\n",
      "256 735.0\n",
      "257 735.0\n",
      "258 735.0\n",
      "259 735.0\n",
      "260 735.0\n",
      "261 735.0\n",
      "262 735.0\n",
      "263 735.0\n",
      "264 735.0\n",
      "265 735.0\n",
      "266 735.0\n",
      "267 735.0\n",
      "268 735.0\n",
      "269 735.0\n",
      "270 735.0\n",
      "271 735.0\n",
      "272 735.0\n",
      "273 735.0\n",
      "274 735.0\n",
      "275 735.0\n",
      "276 735.0\n",
      "277 735.0\n",
      "278 735.0\n",
      "279 735.0\n",
      "280 735.0\n",
      "281 735.0\n",
      "282 735.0\n",
      "283 735.0\n",
      "284 735.0\n",
      "285 735.0\n",
      "286 735.0\n",
      "287 735.0\n",
      "288 735.0\n",
      "289 735.0\n",
      "290 735.0\n",
      "291 735.0\n",
      "292 735.0\n",
      "293 735.0\n",
      "294 735.0\n",
      "295 735.0\n",
      "296 735.0\n",
      "297 735.0\n",
      "298 735.0\n",
      "299 735.0\n",
      "300 735.0\n",
      "301 735.0\n",
      "302 735.0\n",
      "303 735.0\n",
      "304 735.0\n",
      "305 735.0\n",
      "306 735.0\n",
      "307 735.0\n",
      "308 735.0\n",
      "309 735.0\n",
      "310 735.0\n",
      "311 735.0\n",
      "312 735.0\n",
      "313 735.0\n",
      "314 735.0\n",
      "315 735.0\n",
      "316 735.0\n",
      "317 735.0\n",
      "318 735.0\n",
      "319 735.0\n",
      "320 735.0\n",
      "321 735.0\n",
      "322 735.0\n",
      "323 735.0\n",
      "324 735.0\n",
      "325 735.0\n",
      "326 735.0\n",
      "327 735.0\n",
      "328 735.0\n",
      "329 735.0\n",
      "330 735.0\n",
      "331 735.0\n",
      "332 735.0\n",
      "333 735.0\n",
      "334 735.0\n",
      "335 735.0\n",
      "336 735.0\n",
      "337 735.0\n",
      "338 735.0\n",
      "339 735.0\n",
      "340 735.0\n",
      "341 735.0\n",
      "342 735.0\n",
      "343 735.0\n",
      "344 735.0\n",
      "345 735.0\n",
      "346 735.0\n",
      "347 735.0\n",
      "348 735.0\n",
      "349 735.0\n",
      "350 735.0\n",
      "351 735.0\n",
      "352 735.0\n",
      "353 735.0\n",
      "354 735.0\n",
      "355 735.0\n",
      "356 735.0\n",
      "357 735.0\n",
      "358 735.0\n",
      "359 735.0\n",
      "360 735.0\n",
      "361 735.0\n",
      "362 735.0\n",
      "363 735.0\n",
      "364 735.0\n",
      "365 735.0\n",
      "366 735.0\n",
      "367 735.0\n",
      "368 735.0\n",
      "369 735.0\n",
      "370 735.0\n",
      "371 735.0\n",
      "372 735.0\n",
      "373 735.0\n",
      "374 735.0\n",
      "375 735.0\n",
      "376 735.0\n",
      "377 735.0\n",
      "378 735.0\n",
      "379 735.0\n",
      "380 735.0\n",
      "381 735.0\n",
      "382 735.0\n",
      "383 735.0\n",
      "384 735.0\n",
      "385 735.0\n",
      "386 735.0\n",
      "387 735.0\n",
      "388 735.0\n",
      "389 735.0\n",
      "390 735.0\n",
      "391 735.0\n",
      "392 735.0\n",
      "393 735.0\n",
      "394 735.0\n",
      "395 735.0\n",
      "396 735.0\n",
      "397 735.0\n",
      "398 735.0\n",
      "399 735.0\n",
      "400 735.0\n",
      "401 735.0\n",
      "402 735.0\n",
      "403 735.0\n",
      "404 735.0\n",
      "405 735.0\n",
      "406 735.0\n",
      "407 735.0\n",
      "408 735.0\n",
      "409 735.0\n",
      "410 735.0\n",
      "411 735.0\n",
      "412 735.0\n",
      "413 735.0\n",
      "414 735.0\n",
      "415 735.0\n",
      "416 735.0\n",
      "417 735.0\n",
      "418 735.0\n",
      "419 735.0\n",
      "420 735.0\n",
      "421 735.0\n",
      "422 735.0\n",
      "423 735.0\n",
      "424 735.0\n",
      "425 735.0\n",
      "426 735.0\n",
      "427 735.0\n",
      "428 735.0\n",
      "429 735.0\n",
      "430 735.0\n",
      "431 735.0\n",
      "432 735.0\n",
      "433 735.0\n",
      "434 735.0\n",
      "435 735.0\n",
      "436 735.0\n",
      "437 735.0\n",
      "438 735.0\n",
      "439 735.0\n",
      "440 735.0\n",
      "441 735.0\n",
      "442 735.0\n",
      "443 735.0\n",
      "444 735.0\n",
      "445 735.0\n",
      "446 735.0\n",
      "447 735.0\n",
      "448 735.0\n",
      "449 735.0\n",
      "450 735.0\n",
      "451 735.0\n",
      "452 735.0\n",
      "453 735.0\n",
      "454 735.0\n",
      "455 735.0\n",
      "456 735.0\n",
      "457 735.0\n",
      "458 735.0\n",
      "459 735.0\n",
      "460 735.0\n",
      "461 735.0\n",
      "462 735.0\n",
      "463 735.0\n",
      "464 735.0\n",
      "465 735.0\n",
      "466 735.0\n",
      "467 735.0\n",
      "468 735.0\n",
      "469 735.0\n",
      "470 735.0\n",
      "471 735.0\n",
      "472 735.0\n",
      "473 735.0\n",
      "474 735.0\n",
      "475 735.0\n",
      "476 735.0\n",
      "477 735.0\n",
      "478 735.0\n",
      "479 735.0\n",
      "480 735.0\n",
      "481 735.0\n",
      "482 735.0\n",
      "483 735.0\n",
      "484 735.0\n",
      "485 735.0\n",
      "486 735.0\n",
      "487 735.0\n",
      "488 735.0\n",
      "489 735.0\n",
      "490 735.0\n",
      "491 735.0\n",
      "492 735.0\n",
      "493 735.0\n",
      "494 735.0\n",
      "495 735.0\n",
      "496 735.0\n",
      "497 735.0\n",
      "498 735.0\n",
      "499 735.0\n"
     ]
    }
   ],
   "source": [
    "# initial_population = [ga.generate_genome(products, warehouse) for i in range(1000)]\n",
    "\n",
    "    \n",
    "#product_pairs_frequency = calc_product_affinity(orders)\n",
    "# product_frequency_pf_pa = [0 for i in range(len(product_frequency.keys()))]\n",
    "# for i in list(product_frequency.values()):\n",
    "product_frequency_pf_pa = list(product_frequency.values())\n",
    "\n",
    "\n",
    "\n",
    "# product_pairs_np = np.zeros((n_products, n_products))\n",
    "# for key in product_pairs_frequency.keys():\n",
    "#     for pair in product_pairs_frequency[key].keys():\n",
    "#         product_pairs_np[key][pair] = product_pairs_frequency[key][pair]\n",
    "\n",
    "fitness_tracker = []\n",
    "min_fitness = np.inf\n",
    "for g in range(500):\n",
    "    new_pop = []\n",
    "    pop_results = []\n",
    "    \n",
    "   \n",
    "    fitness_result = [ga.fitness_pf_pa(pop, dist_mat, product_frequency_pf_pa, product_pairs_frequency) for pop in initial_population]\n",
    "    print(g, min(fitness_result))\n",
    "    fitness_tracker.append(min(fitness_result))\n",
    "    for _ in range(100):\n",
    "        selected = ga.selection(initial_population, fitness_result)\n",
    "        child = ga.crossover(selected)\n",
    "        mutated = ga.mutation(child)\n",
    "        new_pop.append(mutated)\n",
    "    initial_population = new_pop\n",
    "\n",
    "min_fitness = min(fitness_result)\n",
    "min_child = initial_population[fitness_result.index(min_fitness)]"
   ]
  }
 ],
 "metadata": {
  "kernelspec": {
   "display_name": "Python 3",
   "language": "python",
   "name": "python3"
  },
  "language_info": {
   "codemirror_mode": {
    "name": "ipython",
    "version": 3
   },
   "file_extension": ".py",
   "mimetype": "text/x-python",
   "name": "python",
   "nbconvert_exporter": "python",
   "pygments_lexer": "ipython3",
   "version": "3.11.6"
  },
  "orig_nbformat": 4
 },
 "nbformat": 4,
 "nbformat_minor": 2
}
