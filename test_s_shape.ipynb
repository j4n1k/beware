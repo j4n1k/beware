{
 "cells": [
  {
   "cell_type": "code",
   "metadata": {
    "ExecuteTime": {
     "end_time": "2024-07-15T14:24:25.402218Z",
     "start_time": "2024-07-15T14:24:24.299554Z"
    }
   },
   "source": [
    "import os \n",
    "import random\n",
    "import pickle\n",
    "from copy import deepcopy\n",
    "\n",
    "import networkx as nx \n",
    "import plotly.graph_objects as go\n",
    "import plotly.express as px\n",
    "import matplotlib.pyplot as plt\n",
    "import numpy as np\n",
    "import pandas as pd\n",
    "from pulp import *\n",
    "from layout_utils.layout import Layout\n",
    "from layout_utils.simulation import Order, OrderPickEvent, run_simulation, Agent, s_shape\n",
    "import datetime\n",
    "from layout_utils.simulation import sim_loop\n",
    "from layout_utils.graph_tools import viz_graph\n",
    "from utils import render_warehouse, calc_product_freq\n",
    "from data.instance_loader import InstanceLoader"
   ],
   "outputs": [],
   "execution_count": 1
  },
  {
   "cell_type": "code",
   "metadata": {
    "ExecuteTime": {
     "end_time": "2024-07-15T14:35:44.614063Z",
     "start_time": "2024-07-15T14:35:44.611241Z"
    }
   },
   "source": [
    "def gen_pos(G: nx.Graph):\n",
    "    pos_dict = {}\n",
    "    for node in G.nodes():\n",
    "        pos_dict[node] = np.array([node[0], node[1], node[2]])\n",
    "    return pos_dict"
   ],
   "outputs": [],
   "execution_count": 11
  },
  {
   "metadata": {},
   "cell_type": "code",
   "outputs": [],
   "execution_count": 5,
   "source": [
    "instance = InstanceLoader()\n",
    "instance.extract_info()"
   ]
  },
  {
   "metadata": {},
   "cell_type": "code",
   "outputs": [
    {
     "data": {
      "text/plain": [
       "{'NAME': 'Pr_20_1_20_Store1_01.txt',\n",
       " 'TYPE': 'Order_batching',\n",
       " 'COMMENT': 'Bahï¿½eci and ï¿½ncan (2021)',\n",
       " 'PICKER_CAPACITY': '20',\n",
       " 'LAYOUT': 'single-block',\n",
       " 'NUM_AISLES': '10',\n",
       " 'NUM_CELLS': '10',\n",
       " 'DEPOT_AISLE': '0',\n",
       " 'DEPOT_LOCATION': 'bottom',\n",
       " 'DISTANCE_AISLE_TO_AISLE': '2.4',\n",
       " 'DISTANCE_CELL_TO_CELL': '1',\n",
       " 'DISTANCE_TOP_TO_CELL': '1',\n",
       " 'DISTANCE_BOTTOM_TO_CELL': '1',\n",
       " 'DISTANCE_TOP_OR_BOTTOM_TO_DEPOT': '0'}"
      ]
     },
     "execution_count": 6,
     "metadata": {},
     "output_type": "execute_result"
    }
   ],
   "execution_count": 6,
   "source": "instance.general_info"
  },
  {
   "metadata": {
    "ExecuteTime": {
     "end_time": "2024-07-15T14:37:05.283513Z",
     "start_time": "2024-07-15T14:37:05.276156Z"
    }
   },
   "cell_type": "code",
   "source": [
    "layout_info = instance.general_info\n",
    "aisles = int(layout_info[\"NUM_AISLES\"])\n",
    "locations = int(layout_info[\"NUM_CELLS\"])\n",
    "inter_cell_dist = float(layout_info[\"DISTANCE_CELL_TO_CELL\"])\n",
    "inter_aisle_dist = float(layout_info[\"DISTANCE_AISLE_TO_AISLE\"])\n",
    "G = nx.Graph()\n",
    "G.add_node((0,0,0)) #depot\n",
    "G.add_node((1,1,0)) #first aisle\n",
    "G.add_node((1,2+locations,0)) #first aisle\n",
    "last_mid = (1,1,0)\n",
    "for l in range(locations):\n",
    "    location_left= (0, l+2, 0)\n",
    "    location_right = (2, l+2, 0)\n",
    "    location_mid = (1, l+2, 0)\n",
    "\n",
    "    G.add_node(location_left)\n",
    "    G.add_node(location_right)\n",
    "    G.add_node(location_mid)\n",
    "\n",
    "    G.add_edge(location_left, location_mid, weight=1)\n",
    "    G.add_edge(location_right, location_mid, weight=1)\n",
    "\n",
    "    G.add_edge(last_mid, location_mid, weight=1)\n",
    "    last_mid = location_mid\n",
    "G.add_edge(last_mid, (1,2+locations,0), weight=1)\n",
    "    \n",
    "start = 1\n",
    "last_aisle_start = (1,1,0)\n",
    "last_aisle_end = (1,2+locations,0)\n",
    "for a in range(aisles-1):\n",
    "    start += 3\n",
    "    aisle_start = (start, 1, 0)\n",
    "    aisle_end = (start, 2+locations, 0)\n",
    "    G.add_node(aisle_start)\n",
    "    G.add_node(aisle_end)\n",
    "    # if a > 0:\n",
    "    last_mid = aisle_start\n",
    "    for l in range(locations):\n",
    "        location_left = (start-1, l+2, 0)\n",
    "        location_right = (start+1, l+2, 0)\n",
    "        location_mid = (start, l+2, 0)\n",
    "\n",
    "        G.add_node(location_left)\n",
    "        G.add_node(location_right)\n",
    "        G.add_node(location_mid)\n",
    "\n",
    "        G.add_edge(location_left, location_mid, weight=1)\n",
    "        G.add_edge(location_right, location_mid, weight=1)\n",
    "\n",
    "        G.add_edge(last_mid, location_mid, weight=1)\n",
    "        last_mid = location_mid\n",
    "\n",
    "    G.add_edge(last_mid, aisle_end, weight=1)\n",
    "\n",
    "    #G.add_edge(aisle_start, aisle_end, weight=(locations+1)*inter_cell_dist)\n",
    "    G.add_edge(last_aisle_start, aisle_start, weight=inter_aisle_dist)\n",
    "    G.add_edge(last_aisle_end, aisle_end, weight=inter_aisle_dist)\n",
    "    last_aisle_start = aisle_start\n",
    "    last_aisle_end = aisle_end\n",
    "\n"
   ],
   "outputs": [],
   "execution_count": 15
  },
  {
   "metadata": {},
   "cell_type": "code",
   "outputs": [],
   "execution_count": 10,
   "source": [
    "aisles = 4\n",
    "locations = 5\n",
    "inter_cell_dist = 1\n",
    "inter_aisle_dist = 3\n",
    "G = nx.Graph()\n",
    "G.add_node((0,0,0)) #depot\n",
    "G.add_node((1,1,0)) #first aisle\n",
    "G.add_node((1,2+locations,0)) #first aisle\n",
    "last_mid = (1,1,0)\n",
    "for l in range(locations):\n",
    "    location_left= (0, l+2, 0)\n",
    "    location_right = (2, l+2, 0)\n",
    "    location_mid = (1, l+2, 0)\n",
    "\n",
    "    G.add_node(location_left)\n",
    "    G.add_node(location_right)\n",
    "    G.add_node(location_mid)\n",
    "\n",
    "    G.add_edge(location_left, location_mid, weight=1)\n",
    "    G.add_edge(location_right, location_mid, weight=1)\n",
    "\n",
    "    G.add_edge(last_mid, location_mid, weight=1)\n",
    "    last_mid = location_mid\n",
    "G.add_edge(last_mid, (1,2+locations,0), weight=1)\n",
    "    \n",
    "start = 1\n",
    "last_aisle_start = (1,1,0)\n",
    "last_aisle_end = (1,2+locations,0)\n",
    "for a in range(aisles-1):\n",
    "    start += 3\n",
    "    aisle_start = (start, 1, 0)\n",
    "    aisle_end = (start, 2+locations, 0)\n",
    "    G.add_node(aisle_start)\n",
    "    G.add_node(aisle_end)\n",
    "    # if a > 0:\n",
    "    last_mid = aisle_start\n",
    "    for l in range(locations):\n",
    "        location_left = (start-1, l+2, 0)\n",
    "        location_right = (start+1, l+2, 0)\n",
    "        location_mid = (start, l+2, 0)\n",
    "\n",
    "        G.add_node(location_left)\n",
    "        G.add_node(location_right)\n",
    "        G.add_node(location_mid)\n",
    "\n",
    "        G.add_edge(location_left, location_mid, weight=1)\n",
    "        G.add_edge(location_right, location_mid, weight=1)\n",
    "\n",
    "        G.add_edge(last_mid, location_mid, weight=1)\n",
    "        last_mid = location_mid\n",
    "\n",
    "    G.add_edge(last_mid, aisle_end, weight=1)\n",
    "\n",
    "    #G.add_edge(aisle_start, aisle_end, weight=(locations+1)*inter_cell_dist)\n",
    "    G.add_edge(last_aisle_start, aisle_start, weight=inter_aisle_dist)\n",
    "    G.add_edge(last_aisle_end, aisle_end, weight=inter_aisle_dist)\n",
    "    last_aisle_start = aisle_start\n",
    "    last_aisle_end = aisle_end\n",
    "\n"
   ]
  },
  {
   "metadata": {
    "ExecuteTime": {
     "end_time": "2024-07-15T14:37:08.868471Z",
     "start_time": "2024-07-15T14:37:08.865246Z"
    }
   },
   "cell_type": "code",
   "source": "pos_dict = gen_pos(G)",
   "outputs": [],
   "execution_count": 16
  },
  {
   "metadata": {
    "ExecuteTime": {
     "end_time": "2024-07-15T14:37:09.960044Z",
     "start_time": "2024-07-15T14:37:09.604318Z"
    }
   },
   "cell_type": "code",
   "source": "viz_graph(G, pos_dict)",
   "outputs": [
    {
     "data": {
      "text/plain": [
       "<Figure size 640x480 with 1 Axes>"
      ],
      "image/png": "[encoded data removed]"
     },
     "metadata": {},
     "output_type": "display_data"
    }
   ],
   "execution_count": 17
  },
  {
   "metadata": {
    "ExecuteTime": {
     "end_time": "2024-07-15T14:42:26.995349Z",
     "start_time": "2024-07-15T14:42:26.991325Z"
    }
   },
   "cell_type": "code",
   "source": "layout_info",
   "outputs": [
    {
     "data": {
      "text/plain": [
       "{'NAME': 'Pr_20_1_20_Store1_01.txt',\n",
       " 'TYPE': 'Order_batching',\n",
       " 'COMMENT': 'Bahï¿½eci and ï¿½ncan (2021)',\n",
       " 'PICKER_CAPACITY': '20',\n",
       " 'LAYOUT': 'single-block',\n",
       " 'NUM_AISLES': '10',\n",
       " 'NUM_CELLS': '10',\n",
       " 'DEPOT_AISLE': '0',\n",
       " 'DEPOT_LOCATION': 'bottom',\n",
       " 'DISTANCE_AISLE_TO_AISLE': '2.4',\n",
       " 'DISTANCE_CELL_TO_CELL': '1',\n",
       " 'DISTANCE_TOP_TO_CELL': '1',\n",
       " 'DISTANCE_BOTTOM_TO_CELL': '1',\n",
       " 'DISTANCE_TOP_OR_BOTTOM_TO_DEPOT': '0'}"
      ]
     },
     "execution_count": 22,
     "metadata": {},
     "output_type": "execute_result"
    }
   ],
   "execution_count": 22
  },
  {
   "cell_type": "code",
   "metadata": {
    "ExecuteTime": {
     "end_time": "2024-07-15T14:42:44.595148Z",
     "start_time": "2024-07-15T14:42:44.587940Z"
    }
   },
   "source": [
    "layout_info = instance.general_info\n",
    "aisles = int(layout_info[\"NUM_AISLES\"])\n",
    "locations = int(layout_info[\"NUM_CELLS\"])\n",
    "inter_cell_dist = float(layout_info[\"DISTANCE_CELL_TO_CELL\"])\n",
    "inter_aisle_dist = float(layout_info[\"DISTANCE_AISLE_TO_AISLE\"])\n",
    "G = nx.Graph()\n",
    "depot=(int(layout_info[\"DEPOT_AISLE\"]),0,0)\n",
    "G.add_node(depot) #depot\n",
    "    \n",
    "start = 1\n",
    "last_aisle_start = (start,1,0)\n",
    "last_aisle_end = (start,2+locations,0)\n",
    "G.add_edge(depot, (7, 1, 0), weight=1.5)\n",
    "for a in range(aisles):\n",
    "    aisle_start = (start, 1, 0)\n",
    "    aisle_end = (start, 2+locations, 0)\n",
    "    G.add_node(aisle_start)\n",
    "    G.add_node(aisle_end)\n",
    "    # if a > 0:\n",
    "    last_mid = aisle_start\n",
    "    for l in range(locations):\n",
    "        location_left = (start-1, l+2, 0)\n",
    "        location_right = (start+1, l+2, 0)\n",
    "        location_mid = (start, l+2, 0)\n",
    "\n",
    "        G.add_node(location_left)\n",
    "        G.add_node(location_right)\n",
    "        G.add_node(location_mid)\n",
    "\n",
    "        G.add_edge(location_left, location_mid, weight=1)\n",
    "        G.add_edge(location_right, location_mid, weight=1)\n",
    "\n",
    "        G.add_edge(last_mid, location_mid, weight=inter_cell_dist)\n",
    "        last_mid = location_mid\n",
    "\n",
    "    G.add_edge(last_mid, aisle_end, weight=1)\n",
    "\n",
    "    G.add_edge(last_aisle_start, aisle_start, weight=inter_aisle_dist)\n",
    "    G.add_edge(last_aisle_end, aisle_end, weight=inter_aisle_dist)\n",
    "    last_aisle_start = aisle_start\n",
    "    last_aisle_end = aisle_end\n",
    "    start += 3"
   ],
   "outputs": [],
   "execution_count": 24
  },
  {
   "cell_type": "code",
   "metadata": {
    "ExecuteTime": {
     "end_time": "2024-07-15T14:42:46.732993Z",
     "start_time": "2024-07-15T14:42:46.729479Z"
    }
   },
   "source": [
    "pos_dict = gen_pos(G)"
   ],
   "outputs": [],
   "execution_count": 25
  },
  {
   "cell_type": "code",
   "metadata": {
    "ExecuteTime": {
     "end_time": "2024-07-15T14:42:47.554874Z",
     "start_time": "2024-07-15T14:42:47.290555Z"
    }
   },
   "source": [
    "viz_graph(G, pos_dict)"
   ],
   "outputs": [
    {
     "data": {
      "text/plain": [
       "<Figure size 640x480 with 1 Axes>"
      ],
      "image/png": "[encoded data removed]"
     },
     "metadata": {},
     "output_type": "display_data"
    }
   ],
   "execution_count": 26
  },
  {
   "cell_type": "code",
   "metadata": {
    "ExecuteTime": {
     "end_time": "2024-07-15T14:48:28.180686Z",
     "start_time": "2024-07-15T14:48:22.128945Z"
    }
   },
   "source": [
    "import pyomo.environ as pyo "
   ],
   "outputs": [],
   "execution_count": 27
  },
  {
   "cell_type": "code",
   "execution_count": 22,
   "metadata": {},
   "outputs": [
    {
     "data": {
      "text/plain": [
       "4"
      ]
     },
     "execution_count": 22,
     "metadata": {},
     "output_type": "execute_result"
    }
   ],
   "source": [
    "aisles"
   ]
  },
  {
   "cell_type": "code",
   "metadata": {
    "ExecuteTime": {
     "end_time": "2024-07-15T14:48:36.748557Z",
     "start_time": "2024-07-15T14:48:36.169908Z"
    }
   },
   "source": [
    "n_orders = 5\n",
    "n_batches = 5\n",
    "capacity = 10\n",
    "\n",
    "model = pyo.ConcreteModel(\"BATCHING\")\n",
    "model.Aisles = pyo.RangeSet(1, aisles) \n",
    "model.Orders = pyo.RangeSet(1, n_orders)\n",
    "model.Batches = pyo.RangeSet(1, n_batches)\n",
    "\n",
    "weights = [2, 2, 2, 2, 3]\n",
    "model.mi = pyo.Param(model.Orders, initialize=dict(enumerate(weights, start=1)))\n",
    "model.dik = pyo.Param(model.Orders, model.Aisles, initialize={\n",
    "                                                              (1,1):1, (1,2):0, (1,3):1, (1,4):0,\n",
    "                                                              (2,1):1, (2,2):1, (2,3):0, (2,4):0,\n",
    "                                                              (3,1):0, (3,2):1, (3,3):1, (3,4):0,\n",
    "                                                              (4,1):0, (4,2):1, (4,3):0, (4,4):1,\n",
    "                                                              (5,1):1, (5,2):0, (5,3):1, (5,4):0,})\n",
    "model.M = pyo.Param(within=pyo.NonNegativeReals, initialize=1000)\n",
    "model.vj = pyo.Var(model.Batches, domain=pyo.Integers)\n",
    "\n",
    "model.yjk = pyo.Var(model.Batches, model.Aisles, domain=pyo.Binary)\n",
    "model.pjk = pyo.Var(model.Batches, model.Aisles, domain=pyo.Binary)\n",
    "\n",
    "model.cj = pyo.Var(model.Batches, domain=pyo.Binary)\n",
    "\n",
    "model.xij = pyo.Var(model.Orders, model.Batches, domain=pyo.Binary)\n",
    "model.hjR = pyo.Var(model.Batches, domain=pyo.PositiveReals)\n",
    "model.hjL = pyo.Var(model.Batches, domain=pyo.PositiveReals)\n",
    "model.ujk = pyo.Var(model.Batches, model.Aisles, domain=pyo.PositiveReals)\n",
    "\n",
    "def objective(model):\n",
    "    return 2 * pyo.quicksum(\n",
    "        model.ujk[j,k] for j in model.Batches for k in model.Aisles\n",
    ") \n",
    "+ 2 * pyo.quicksum(\n",
    "    model.hjR[j] * model.hjL[j] for j in model.Batches\n",
    ")\n",
    "+ 2 * inter_aisle_dist * pyo.quicksum(\n",
    "    model.vj[j] - model.cj[j] for j in model.Batches\n",
    ")\n",
    "\n",
    "model.obj = pyo.Objective(rule=objective, sense=pyo.minimize)\n",
    "\n",
    "def constraint_batch_assignment(model, i_order):\n",
    "    return pyo.quicksum(model.xij[i_order,j] for j in model.Batches) == 1\n",
    "model.constraint_batch_assignment = pyo.Constraint(model.Orders, rule=constraint_batch_assignment)\n",
    "\n",
    "def constraint_batch_capacity(model, i_order):\n",
    "    return pyo.quicksum(model.mi[i_order]*model.xij[i_order,j] for j in model.Batches) <= capacity\n",
    "model.constraint_batch_capacity = pyo.Constraint(model.Orders, rule=constraint_batch_capacity)\n",
    "\n",
    "# def constraint_batch_guarantee(model, i, j):\n",
    "#     model.xij[i,j] <= x[j,j] \n",
    "\n",
    "def constraint_1(model, j, k, i):\n",
    "    return model.yjk[j,k] <= pyo.quicksum(\n",
    "        model.dik[i,k] * model.xij[i,j] \n",
    "        for j in model.Batches \n",
    "        for k in model.Aisles)\n",
    "model.constraint_1 = pyo.Constraint(model.Batches, model.Aisles, model.Orders, rule=constraint_1)\n",
    "\n",
    "def constraint_2(model, j, k, i):\n",
    "    return pyo.quicksum(\n",
    "        model.dik[i,k] * model.xij[i,j] \n",
    "        for j in model.Batches \n",
    "        for k in model.Aisles) <= model.M*model.yjk[j,k]\n",
    "model.constraint_2 = pyo.Constraint(model.Batches, model.Aisles, model.Orders, rule=constraint_2)"
   ],
   "outputs": [
    {
     "name": "stdout",
     "output_type": "stream",
     "text": [
      "ERROR: Rule failed when generating expression for Constraint constraint_1 with\n",
      "index (1, 1, 1): ValueError: Error retrieving immutable Param value (dik[(1,\n",
      "5)]):\n",
      "            The Param value is undefined and no default value is specified.\n",
      "ERROR: Constructing component 'constraint_1' from data=None failed:\n",
      "        ValueError: Error retrieving immutable Param value (dik[(1, 5)]):\n",
      "    \tThe Param value is undefined and no default value is specified.\n"
     ]
    },
    {
     "ename": "ValueError",
     "evalue": "Error retrieving immutable Param value (dik[(1, 5)]):\n\tThe Param value is undefined and no default value is specified.",
     "output_type": "error",
     "traceback": [
      "\u001B[1;31m---------------------------------------------------------------------------\u001B[0m",
      "\u001B[1;31mValueError\u001B[0m                                Traceback (most recent call last)",
      "Cell \u001B[1;32mIn[28], line 60\u001B[0m\n\u001B[0;32m     55\u001B[0m \u001B[38;5;28;01mdef\u001B[39;00m \u001B[38;5;21mconstraint_1\u001B[39m(model, j, k, i):\n\u001B[0;32m     56\u001B[0m     \u001B[38;5;28;01mreturn\u001B[39;00m model\u001B[38;5;241m.\u001B[39myjk[j,k] \u001B[38;5;241m<\u001B[39m\u001B[38;5;241m=\u001B[39m pyo\u001B[38;5;241m.\u001B[39mquicksum(\n\u001B[0;32m     57\u001B[0m         model\u001B[38;5;241m.\u001B[39mdik[i,k] \u001B[38;5;241m*\u001B[39m model\u001B[38;5;241m.\u001B[39mxij[i,j] \n\u001B[0;32m     58\u001B[0m         \u001B[38;5;28;01mfor\u001B[39;00m j \u001B[38;5;129;01min\u001B[39;00m model\u001B[38;5;241m.\u001B[39mBatches \n\u001B[0;32m     59\u001B[0m         \u001B[38;5;28;01mfor\u001B[39;00m k \u001B[38;5;129;01min\u001B[39;00m model\u001B[38;5;241m.\u001B[39mAisles)\n\u001B[1;32m---> 60\u001B[0m \u001B[43mmodel\u001B[49m\u001B[38;5;241;43m.\u001B[39;49m\u001B[43mconstraint_1\u001B[49m \u001B[38;5;241m=\u001B[39m pyo\u001B[38;5;241m.\u001B[39mConstraint(model\u001B[38;5;241m.\u001B[39mBatches, model\u001B[38;5;241m.\u001B[39mAisles, model\u001B[38;5;241m.\u001B[39mOrders, rule\u001B[38;5;241m=\u001B[39mconstraint_1)\n\u001B[0;32m     62\u001B[0m \u001B[38;5;28;01mdef\u001B[39;00m \u001B[38;5;21mconstraint_2\u001B[39m(model, j, k, i):\n\u001B[0;32m     63\u001B[0m     \u001B[38;5;28;01mreturn\u001B[39;00m pyo\u001B[38;5;241m.\u001B[39mquicksum(\n\u001B[0;32m     64\u001B[0m         model\u001B[38;5;241m.\u001B[39mdik[i,k] \u001B[38;5;241m*\u001B[39m model\u001B[38;5;241m.\u001B[39mxij[i,j] \n\u001B[0;32m     65\u001B[0m         \u001B[38;5;28;01mfor\u001B[39;00m j \u001B[38;5;129;01min\u001B[39;00m model\u001B[38;5;241m.\u001B[39mBatches \n\u001B[0;32m     66\u001B[0m         \u001B[38;5;28;01mfor\u001B[39;00m k \u001B[38;5;129;01min\u001B[39;00m model\u001B[38;5;241m.\u001B[39mAisles) \u001B[38;5;241m<\u001B[39m\u001B[38;5;241m=\u001B[39m model\u001B[38;5;241m.\u001B[39mM\u001B[38;5;241m*\u001B[39mmodel\u001B[38;5;241m.\u001B[39myjk[j,k]\n",
      "File \u001B[1;32m~\\Documents\\Projekte\\beware\\venv\\Lib\\site-packages\\pyomo\\core\\base\\block.py:571\u001B[0m, in \u001B[0;36mBlockData.__setattr__\u001B[1;34m(self, name, val)\u001B[0m\n\u001B[0;32m    566\u001B[0m \u001B[38;5;28;01mif\u001B[39;00m name \u001B[38;5;129;01mnot\u001B[39;00m \u001B[38;5;129;01min\u001B[39;00m \u001B[38;5;28mself\u001B[39m\u001B[38;5;241m.\u001B[39m\u001B[38;5;18m__dict__\u001B[39m:\n\u001B[0;32m    567\u001B[0m     \u001B[38;5;28;01mif\u001B[39;00m \u001B[38;5;28misinstance\u001B[39m(val, Component):\n\u001B[0;32m    568\u001B[0m         \u001B[38;5;66;03m#\u001B[39;00m\n\u001B[0;32m    569\u001B[0m         \u001B[38;5;66;03m# Pyomo components are added with the add_component method.\u001B[39;00m\n\u001B[0;32m    570\u001B[0m         \u001B[38;5;66;03m#\u001B[39;00m\n\u001B[1;32m--> 571\u001B[0m         \u001B[38;5;28;43mself\u001B[39;49m\u001B[38;5;241;43m.\u001B[39;49m\u001B[43madd_component\u001B[49m\u001B[43m(\u001B[49m\u001B[43mname\u001B[49m\u001B[43m,\u001B[49m\u001B[43m \u001B[49m\u001B[43mval\u001B[49m\u001B[43m)\u001B[49m\n\u001B[0;32m    572\u001B[0m     \u001B[38;5;28;01melse\u001B[39;00m:\n\u001B[0;32m    573\u001B[0m         \u001B[38;5;66;03m#\u001B[39;00m\n\u001B[0;32m    574\u001B[0m         \u001B[38;5;66;03m# Other Python objects are added with the standard __setattr__\u001B[39;00m\n\u001B[0;32m    575\u001B[0m         \u001B[38;5;66;03m# method.\u001B[39;00m\n\u001B[0;32m    576\u001B[0m         \u001B[38;5;66;03m#\u001B[39;00m\n\u001B[0;32m    577\u001B[0m         \u001B[38;5;28msuper\u001B[39m(BlockData, \u001B[38;5;28mself\u001B[39m)\u001B[38;5;241m.\u001B[39m\u001B[38;5;21m__setattr__\u001B[39m(name, val)\n",
      "File \u001B[1;32m~\\Documents\\Projekte\\beware\\venv\\Lib\\site-packages\\pyomo\\core\\base\\block.py:1116\u001B[0m, in \u001B[0;36mBlockData.add_component\u001B[1;34m(self, name, val)\u001B[0m\n\u001B[0;32m   1108\u001B[0m     logger\u001B[38;5;241m.\u001B[39mdebug(\n\u001B[0;32m   1109\u001B[0m         \u001B[38;5;124m\"\u001B[39m\u001B[38;5;124mConstructing \u001B[39m\u001B[38;5;132;01m%s\u001B[39;00m\u001B[38;5;124m \u001B[39m\u001B[38;5;124m'\u001B[39m\u001B[38;5;132;01m%s\u001B[39;00m\u001B[38;5;124m'\u001B[39m\u001B[38;5;124m on \u001B[39m\u001B[38;5;132;01m%s\u001B[39;00m\u001B[38;5;124m from data=\u001B[39m\u001B[38;5;132;01m%s\u001B[39;00m\u001B[38;5;124m\"\u001B[39m,\n\u001B[0;32m   1110\u001B[0m         val\u001B[38;5;241m.\u001B[39m\u001B[38;5;18m__class__\u001B[39m\u001B[38;5;241m.\u001B[39m\u001B[38;5;18m__name__\u001B[39m,\n\u001B[1;32m   (...)\u001B[0m\n\u001B[0;32m   1113\u001B[0m         \u001B[38;5;28mstr\u001B[39m(data),\n\u001B[0;32m   1114\u001B[0m     )\n\u001B[0;32m   1115\u001B[0m \u001B[38;5;28;01mtry\u001B[39;00m:\n\u001B[1;32m-> 1116\u001B[0m     \u001B[43mval\u001B[49m\u001B[38;5;241;43m.\u001B[39;49m\u001B[43mconstruct\u001B[49m\u001B[43m(\u001B[49m\u001B[43mdata\u001B[49m\u001B[43m)\u001B[49m\n\u001B[0;32m   1117\u001B[0m \u001B[38;5;28;01mexcept\u001B[39;00m:\n\u001B[0;32m   1118\u001B[0m     err \u001B[38;5;241m=\u001B[39m sys\u001B[38;5;241m.\u001B[39mexc_info()[\u001B[38;5;241m1\u001B[39m]\n",
      "File \u001B[1;32m~\\Documents\\Projekte\\beware\\venv\\Lib\\site-packages\\pyomo\\core\\base\\constraint.py:720\u001B[0m, in \u001B[0;36mConstraint.construct\u001B[1;34m(self, data)\u001B[0m\n\u001B[0;32m    717\u001B[0m     \u001B[38;5;28;01melse\u001B[39;00m:\n\u001B[0;32m    718\u001B[0m         \u001B[38;5;66;03m# Bypass the index validation and create the member directly\u001B[39;00m\n\u001B[0;32m    719\u001B[0m         \u001B[38;5;28;01mfor\u001B[39;00m index \u001B[38;5;129;01min\u001B[39;00m \u001B[38;5;28mself\u001B[39m\u001B[38;5;241m.\u001B[39mindex_set():\n\u001B[1;32m--> 720\u001B[0m             \u001B[38;5;28mself\u001B[39m\u001B[38;5;241m.\u001B[39m_setitem_when_not_present(index, \u001B[43mrule\u001B[49m\u001B[43m(\u001B[49m\u001B[43mblock\u001B[49m\u001B[43m,\u001B[49m\u001B[43m \u001B[49m\u001B[43mindex\u001B[49m\u001B[43m)\u001B[49m)\n\u001B[0;32m    721\u001B[0m \u001B[38;5;28;01mexcept\u001B[39;00m \u001B[38;5;167;01mException\u001B[39;00m:\n\u001B[0;32m    722\u001B[0m     err \u001B[38;5;241m=\u001B[39m sys\u001B[38;5;241m.\u001B[39mexc_info()[\u001B[38;5;241m1\u001B[39m]\n",
      "File \u001B[1;32m~\\Documents\\Projekte\\beware\\venv\\Lib\\site-packages\\pyomo\\core\\base\\initializer.py:314\u001B[0m, in \u001B[0;36mIndexedCallInitializer.__call__\u001B[1;34m(self, parent, idx)\u001B[0m\n\u001B[0;32m    308\u001B[0m \u001B[38;5;28;01mdef\u001B[39;00m \u001B[38;5;21m__call__\u001B[39m(\u001B[38;5;28mself\u001B[39m, parent, idx):\n\u001B[0;32m    309\u001B[0m     \u001B[38;5;66;03m# Note: this is called by a component using data from a Set (so\u001B[39;00m\n\u001B[0;32m    310\u001B[0m     \u001B[38;5;66;03m# any tuple-like type should have already been checked and\u001B[39;00m\n\u001B[0;32m    311\u001B[0m     \u001B[38;5;66;03m# converted to a tuple; or flattening is turned off and it is\u001B[39;00m\n\u001B[0;32m    312\u001B[0m     \u001B[38;5;66;03m# the user's responsibility to sort things out.\u001B[39;00m\n\u001B[0;32m    313\u001B[0m     \u001B[38;5;28;01mif\u001B[39;00m idx\u001B[38;5;241m.\u001B[39m\u001B[38;5;18m__class__\u001B[39m \u001B[38;5;129;01mis\u001B[39;00m \u001B[38;5;28mtuple\u001B[39m:\n\u001B[1;32m--> 314\u001B[0m         \u001B[38;5;28;01mreturn\u001B[39;00m \u001B[38;5;28;43mself\u001B[39;49m\u001B[38;5;241;43m.\u001B[39;49m\u001B[43m_fcn\u001B[49m\u001B[43m(\u001B[49m\u001B[43mparent\u001B[49m\u001B[43m,\u001B[49m\u001B[43m \u001B[49m\u001B[38;5;241;43m*\u001B[39;49m\u001B[43midx\u001B[49m\u001B[43m)\u001B[49m\n\u001B[0;32m    315\u001B[0m     \u001B[38;5;28;01melse\u001B[39;00m:\n\u001B[0;32m    316\u001B[0m         \u001B[38;5;28;01mreturn\u001B[39;00m \u001B[38;5;28mself\u001B[39m\u001B[38;5;241m.\u001B[39m_fcn(parent, idx)\n",
      "Cell \u001B[1;32mIn[28], line 56\u001B[0m, in \u001B[0;36mconstraint_1\u001B[1;34m(model, j, k, i)\u001B[0m\n\u001B[0;32m     55\u001B[0m \u001B[38;5;28;01mdef\u001B[39;00m \u001B[38;5;21mconstraint_1\u001B[39m(model, j, k, i):\n\u001B[1;32m---> 56\u001B[0m     \u001B[38;5;28;01mreturn\u001B[39;00m model\u001B[38;5;241m.\u001B[39myjk[j,k] \u001B[38;5;241m<\u001B[39m\u001B[38;5;241m=\u001B[39m \u001B[43mpyo\u001B[49m\u001B[38;5;241;43m.\u001B[39;49m\u001B[43mquicksum\u001B[49m\u001B[43m(\u001B[49m\n\u001B[0;32m     57\u001B[0m \u001B[43m        \u001B[49m\u001B[43mmodel\u001B[49m\u001B[38;5;241;43m.\u001B[39;49m\u001B[43mdik\u001B[49m\u001B[43m[\u001B[49m\u001B[43mi\u001B[49m\u001B[43m,\u001B[49m\u001B[43mk\u001B[49m\u001B[43m]\u001B[49m\u001B[43m \u001B[49m\u001B[38;5;241;43m*\u001B[39;49m\u001B[43m \u001B[49m\u001B[43mmodel\u001B[49m\u001B[38;5;241;43m.\u001B[39;49m\u001B[43mxij\u001B[49m\u001B[43m[\u001B[49m\u001B[43mi\u001B[49m\u001B[43m,\u001B[49m\u001B[43mj\u001B[49m\u001B[43m]\u001B[49m\u001B[43m \u001B[49m\n\u001B[0;32m     58\u001B[0m \u001B[43m        \u001B[49m\u001B[38;5;28;43;01mfor\u001B[39;49;00m\u001B[43m \u001B[49m\u001B[43mj\u001B[49m\u001B[43m \u001B[49m\u001B[38;5;129;43;01min\u001B[39;49;00m\u001B[43m \u001B[49m\u001B[43mmodel\u001B[49m\u001B[38;5;241;43m.\u001B[39;49m\u001B[43mBatches\u001B[49m\u001B[43m \u001B[49m\n\u001B[0;32m     59\u001B[0m \u001B[43m        \u001B[49m\u001B[38;5;28;43;01mfor\u001B[39;49;00m\u001B[43m \u001B[49m\u001B[43mk\u001B[49m\u001B[43m \u001B[49m\u001B[38;5;129;43;01min\u001B[39;49;00m\u001B[43m \u001B[49m\u001B[43mmodel\u001B[49m\u001B[38;5;241;43m.\u001B[39;49m\u001B[43mAisles\u001B[49m\u001B[43m)\u001B[49m\n",
      "File \u001B[1;32mpyomo\\\\core\\\\util.pyx:91\u001B[0m, in \u001B[0;36mpyomo.core.util.quicksum\u001B[1;34m()\u001B[0m\n",
      "File \u001B[1;32mpyomo\\\\core\\\\util.pyx:93\u001B[0m, in \u001B[0;36mpyomo.core.util.quicksum\u001B[1;34m()\u001B[0m\n",
      "Cell \u001B[1;32mIn[28], line 57\u001B[0m, in \u001B[0;36m<genexpr>\u001B[1;34m(.0)\u001B[0m\n\u001B[0;32m     55\u001B[0m \u001B[38;5;28;01mdef\u001B[39;00m \u001B[38;5;21mconstraint_1\u001B[39m(model, j, k, i):\n\u001B[0;32m     56\u001B[0m     \u001B[38;5;28;01mreturn\u001B[39;00m model\u001B[38;5;241m.\u001B[39myjk[j,k] \u001B[38;5;241m<\u001B[39m\u001B[38;5;241m=\u001B[39m pyo\u001B[38;5;241m.\u001B[39mquicksum(\n\u001B[1;32m---> 57\u001B[0m         \u001B[43mmodel\u001B[49m\u001B[38;5;241;43m.\u001B[39;49m\u001B[43mdik\u001B[49m\u001B[43m[\u001B[49m\u001B[43mi\u001B[49m\u001B[43m,\u001B[49m\u001B[43mk\u001B[49m\u001B[43m]\u001B[49m \u001B[38;5;241m*\u001B[39m model\u001B[38;5;241m.\u001B[39mxij[i,j] \n\u001B[0;32m     58\u001B[0m         \u001B[38;5;28;01mfor\u001B[39;00m j \u001B[38;5;129;01min\u001B[39;00m model\u001B[38;5;241m.\u001B[39mBatches \n\u001B[0;32m     59\u001B[0m         \u001B[38;5;28;01mfor\u001B[39;00m k \u001B[38;5;129;01min\u001B[39;00m model\u001B[38;5;241m.\u001B[39mAisles)\n",
      "File \u001B[1;32m~\\Documents\\Projekte\\beware\\venv\\Lib\\site-packages\\pyomo\\core\\base\\param.py:1006\u001B[0m, in \u001B[0;36mIndexedParam.__getitem__\u001B[1;34m(self, args)\u001B[0m\n\u001B[0;32m   1004\u001B[0m \u001B[38;5;28;01mdef\u001B[39;00m \u001B[38;5;21m__getitem__\u001B[39m(\u001B[38;5;28mself\u001B[39m, args) \u001B[38;5;241m-\u001B[39m\u001B[38;5;241m>\u001B[39m ParamData:\n\u001B[0;32m   1005\u001B[0m     \u001B[38;5;28;01mtry\u001B[39;00m:\n\u001B[1;32m-> 1006\u001B[0m         \u001B[38;5;28;01mreturn\u001B[39;00m \u001B[38;5;28;43msuper\u001B[39;49m\u001B[43m(\u001B[49m\u001B[43m)\u001B[49m\u001B[38;5;241;43m.\u001B[39;49m\u001B[38;5;21;43m__getitem__\u001B[39;49m\u001B[43m(\u001B[49m\u001B[43margs\u001B[49m\u001B[43m)\u001B[49m\n\u001B[0;32m   1007\u001B[0m     \u001B[38;5;28;01mexcept\u001B[39;00m:\n\u001B[0;32m   1008\u001B[0m         tmp \u001B[38;5;241m=\u001B[39m args \u001B[38;5;28;01mif\u001B[39;00m args\u001B[38;5;241m.\u001B[39m\u001B[38;5;18m__class__\u001B[39m \u001B[38;5;129;01mis\u001B[39;00m \u001B[38;5;28mtuple\u001B[39m \u001B[38;5;28;01melse\u001B[39;00m (args,)\n",
      "File \u001B[1;32m~\\Documents\\Projekte\\beware\\venv\\Lib\\site-packages\\pyomo\\core\\base\\indexed_component.py:658\u001B[0m, in \u001B[0;36mIndexedComponent.__getitem__\u001B[1;34m(self, index)\u001B[0m\n\u001B[0;32m    653\u001B[0m     \u001B[38;5;66;03m#\u001B[39;00m\n\u001B[0;32m    654\u001B[0m     \u001B[38;5;66;03m# Call the _getitem_when_not_present helper to retrieve/return\u001B[39;00m\n\u001B[0;32m    655\u001B[0m     \u001B[38;5;66;03m# the default value\u001B[39;00m\n\u001B[0;32m    656\u001B[0m     \u001B[38;5;66;03m#\u001B[39;00m\n\u001B[0;32m    657\u001B[0m     \u001B[38;5;28;01mif\u001B[39;00m obj \u001B[38;5;129;01mis\u001B[39;00m _NotFound:\n\u001B[1;32m--> 658\u001B[0m         \u001B[38;5;28;01mreturn\u001B[39;00m \u001B[38;5;28;43mself\u001B[39;49m\u001B[38;5;241;43m.\u001B[39;49m\u001B[43m_getitem_when_not_present\u001B[49m\u001B[43m(\u001B[49m\u001B[43mindex\u001B[49m\u001B[43m)\u001B[49m\n\u001B[0;32m    660\u001B[0m \u001B[38;5;28;01mreturn\u001B[39;00m obj\n",
      "File \u001B[1;32m~\\Documents\\Projekte\\beware\\venv\\Lib\\site-packages\\pyomo\\core\\base\\param.py:620\u001B[0m, in \u001B[0;36mParam._getitem_when_not_present\u001B[1;34m(self, index)\u001B[0m\n\u001B[0;32m    618\u001B[0m     \u001B[38;5;28;01melse\u001B[39;00m:\n\u001B[0;32m    619\u001B[0m         idx_str \u001B[38;5;241m=\u001B[39m \u001B[38;5;124m'\u001B[39m\u001B[38;5;132;01m%s\u001B[39;00m\u001B[38;5;124m'\u001B[39m \u001B[38;5;241m%\u001B[39m (\u001B[38;5;28mself\u001B[39m\u001B[38;5;241m.\u001B[39mname,)\n\u001B[1;32m--> 620\u001B[0m     \u001B[38;5;28;01mraise\u001B[39;00m \u001B[38;5;167;01mValueError\u001B[39;00m(\n\u001B[0;32m    621\u001B[0m         \u001B[38;5;124m\"\u001B[39m\u001B[38;5;124mError retrieving immutable Param value (\u001B[39m\u001B[38;5;132;01m%s\u001B[39;00m\u001B[38;5;124m):\u001B[39m\u001B[38;5;130;01m\\n\u001B[39;00m\u001B[38;5;130;01m\\t\u001B[39;00m\u001B[38;5;124mThe Param \u001B[39m\u001B[38;5;124m\"\u001B[39m\n\u001B[0;32m    622\u001B[0m         \u001B[38;5;124m\"\u001B[39m\u001B[38;5;124mvalue is undefined and no default value is specified.\u001B[39m\u001B[38;5;124m\"\u001B[39m \u001B[38;5;241m%\u001B[39m (idx_str,)\n\u001B[0;32m    623\u001B[0m     )\n\u001B[0;32m    625\u001B[0m _default_type \u001B[38;5;241m=\u001B[39m \u001B[38;5;28mtype\u001B[39m(val)\n\u001B[0;32m    626\u001B[0m _check_value_domain \u001B[38;5;241m=\u001B[39m \u001B[38;5;28;01mTrue\u001B[39;00m\n",
      "\u001B[1;31mValueError\u001B[0m: Error retrieving immutable Param value (dik[(1, 5)]):\n\tThe Param value is undefined and no default value is specified."
     ]
    }
   ],
   "execution_count": 28
  },
  {
   "cell_type": "code",
   "execution_count": 27,
   "metadata": {},
   "outputs": [
    {
     "name": "stdout",
     "output_type": "stream",
     "text": [
      "WARNING: Could not locate the 'glpsol' executable, which is required for\n",
      "solver 'glpk'\n"
     ]
    },
    {
     "ename": "ApplicationError",
     "evalue": "No executable found for solver 'glpk'",
     "output_type": "error",
     "traceback": [
      "\u001B[1;31m---------------------------------------------------------------------------\u001B[0m",
      "\u001B[1;31mApplicationError\u001B[0m                          Traceback (most recent call last)",
      "Cell \u001B[1;32mIn[27], line 2\u001B[0m\n\u001B[0;32m      1\u001B[0m opt \u001B[38;5;241m=\u001B[39m pyo\u001B[38;5;241m.\u001B[39mSolverFactory(\u001B[38;5;124m'\u001B[39m\u001B[38;5;124mglpk\u001B[39m\u001B[38;5;124m'\u001B[39m)\n\u001B[1;32m----> 2\u001B[0m \u001B[43mopt\u001B[49m\u001B[38;5;241;43m.\u001B[39;49m\u001B[43msolve\u001B[49m\u001B[43m(\u001B[49m\u001B[43mmodel\u001B[49m\u001B[43m)\u001B[49m\n",
      "File \u001B[1;32mc:\\Users\\zm0714\\iCloudDrive\\Documents\\Programmieren\\beware\\.venv\\Lib\\site-packages\\pyomo\\opt\\base\\solvers.py:534\u001B[0m, in \u001B[0;36mOptSolver.solve\u001B[1;34m(self, *args, **kwds)\u001B[0m\n\u001B[0;32m    531\u001B[0m \u001B[38;5;28;01mdef\u001B[39;00m \u001B[38;5;21msolve\u001B[39m(\u001B[38;5;28mself\u001B[39m, \u001B[38;5;241m*\u001B[39margs, \u001B[38;5;241m*\u001B[39m\u001B[38;5;241m*\u001B[39mkwds):\n\u001B[0;32m    532\u001B[0m \u001B[38;5;250m    \u001B[39m\u001B[38;5;124;03m\"\"\"Solve the problem\"\"\"\u001B[39;00m\n\u001B[1;32m--> 534\u001B[0m     \u001B[38;5;28;43mself\u001B[39;49m\u001B[38;5;241;43m.\u001B[39;49m\u001B[43mavailable\u001B[49m\u001B[43m(\u001B[49m\u001B[43mexception_flag\u001B[49m\u001B[38;5;241;43m=\u001B[39;49m\u001B[38;5;28;43;01mTrue\u001B[39;49;00m\u001B[43m)\u001B[49m\n\u001B[0;32m    535\u001B[0m     \u001B[38;5;66;03m#\u001B[39;00m\n\u001B[0;32m    536\u001B[0m     \u001B[38;5;66;03m# If the inputs are models, then validate that they have been\u001B[39;00m\n\u001B[0;32m    537\u001B[0m     \u001B[38;5;66;03m# constructed! Collect suffix names to try and import from solution.\u001B[39;00m\n\u001B[0;32m    538\u001B[0m     \u001B[38;5;66;03m#\u001B[39;00m\n\u001B[0;32m    539\u001B[0m     \u001B[38;5;28;01mfrom\u001B[39;00m \u001B[38;5;21;01mpyomo\u001B[39;00m\u001B[38;5;21;01m.\u001B[39;00m\u001B[38;5;21;01mcore\u001B[39;00m\u001B[38;5;21;01m.\u001B[39;00m\u001B[38;5;21;01mbase\u001B[39;00m\u001B[38;5;21;01m.\u001B[39;00m\u001B[38;5;21;01mblock\u001B[39;00m \u001B[38;5;28;01mimport\u001B[39;00m BlockData\n",
      "File \u001B[1;32mc:\\Users\\zm0714\\iCloudDrive\\Documents\\Programmieren\\beware\\.venv\\Lib\\site-packages\\pyomo\\opt\\solver\\shellcmd.py:140\u001B[0m, in \u001B[0;36mSystemCallSolver.available\u001B[1;34m(self, exception_flag)\u001B[0m\n\u001B[0;32m    138\u001B[0m     \u001B[38;5;28;01mif\u001B[39;00m exception_flag:\n\u001B[0;32m    139\u001B[0m         msg \u001B[38;5;241m=\u001B[39m \u001B[38;5;124m\"\u001B[39m\u001B[38;5;124mNo executable found for solver \u001B[39m\u001B[38;5;124m'\u001B[39m\u001B[38;5;132;01m%s\u001B[39;00m\u001B[38;5;124m'\u001B[39m\u001B[38;5;124m\"\u001B[39m\n\u001B[1;32m--> 140\u001B[0m         \u001B[38;5;28;01mraise\u001B[39;00m ApplicationError(msg \u001B[38;5;241m%\u001B[39m \u001B[38;5;28mself\u001B[39m\u001B[38;5;241m.\u001B[39mname)\n\u001B[0;32m    141\u001B[0m     \u001B[38;5;28;01mreturn\u001B[39;00m \u001B[38;5;28;01mFalse\u001B[39;00m\n\u001B[0;32m    142\u001B[0m \u001B[38;5;28;01mreturn\u001B[39;00m \u001B[38;5;28;01mTrue\u001B[39;00m\n",
      "\u001B[1;31mApplicationError\u001B[0m: No executable found for solver 'glpk'"
     ]
    }
   ],
   "source": [
    "opt = pyo.SolverFactory('glpk')\n",
    "opt.solve(model)"
   ]
  },
  {
   "cell_type": "code",
   "execution_count": 14,
   "metadata": {},
   "outputs": [
    {
     "data": {
      "text/plain": [
       "45"
      ]
     },
     "execution_count": 14,
     "metadata": {},
     "output_type": "execute_result"
    }
   ],
   "source": [
    "warehouse.nodes_list.index((3,3,0))"
   ]
  },
  {
   "cell_type": "code",
   "execution_count": 15,
   "metadata": {},
   "outputs": [],
   "source": [
    "assignment = [18,30, 42, 21, 33, 45]"
   ]
  },
  {
   "cell_type": "code",
   "execution_count": 16,
   "metadata": {},
   "outputs": [],
   "source": [
    "warehouse.add_assignment(assignment)"
   ]
  },
  {
   "cell_type": "code",
   "execution_count": 17,
   "metadata": {},
   "outputs": [],
   "source": [
    "orders = [[0, 1, 2, 3, 4, 5]]"
   ]
  },
  {
   "cell_type": "code",
   "execution_count": 18,
   "metadata": {},
   "outputs": [],
   "source": [
    "product_freq = calc_product_freq([0, 1, 2, 3, 4, 5], orders)"
   ]
  },
  {
   "cell_type": "code",
   "execution_count": 19,
   "metadata": {},
   "outputs": [],
   "source": [
    "fig = render_warehouse(warehouse, warehouse.storage_assignment, product_freq)"
   ]
  },
  {
   "cell_type": "code",
   "execution_count": 20,
   "metadata": {},
   "outputs": [
    {
     "data": {
      "application/vnd.plotly.v1+json": {
       "config": {
        "plotlyServerURL": "https://plot.ly"
       },
       "data": [
        {
         "customdata": [
          [
           0,
           -100
          ],
          [
           0,
           -100
          ],
          [
           0,
           -100
          ],
          [
           0,
           -100
          ],
          [
           0,
           -100
          ],
          [
           0,
           -100
          ],
          [
           0,
           -100
          ],
          [
           0,
           -100
          ],
          [
           0,
           -100
          ],
          [
           0,
           -100
          ],
          [
           0,
           -100
          ],
          [
           0,
           -100
          ],
          [
           1,
           0
          ],
          [
           0,
           -100
          ],
          [
           -1,
           -1
          ],
          [
           1,
           3
          ],
          [
           0,
           -100
          ],
          [
           -1,
           -1
          ],
          [
           -1,
           -1
          ],
          [
           0,
           -100
          ],
          [
           -1,
           -1
          ],
          [
           -1,
           -1
          ],
          [
           0,
           -100
          ],
          [
           -1,
           -1
          ],
          [
           1,
           1
          ],
          [
           0,
           -100
          ],
          [
           -1,
           -1
          ],
          [
           1,
           4
          ],
          [
           0,
           -100
          ],
          [
           -1,
           -1
          ],
          [
           -1,
           -1
          ],
          [
           0,
           -100
          ],
          [
           -1,
           -1
          ],
          [
           -1,
           -1
          ],
          [
           0,
           -100
          ],
          [
           -1,
           -1
          ],
          [
           1,
           2
          ],
          [
           0,
           -100
          ],
          [
           -1,
           -1
          ],
          [
           1,
           5
          ],
          [
           0,
           -100
          ],
          [
           -1,
           -1
          ],
          [
           -1,
           -1
          ],
          [
           0,
           -100
          ],
          [
           -1,
           -1
          ],
          [
           -1,
           -1
          ],
          [
           0,
           -100
          ],
          [
           -1,
           -1
          ],
          [
           -1,
           -1
          ],
          [
           0,
           -100
          ],
          [
           -1,
           -1
          ],
          [
           -1,
           -1
          ],
          [
           0,
           -100
          ],
          [
           -1,
           -1
          ],
          [
           -1,
           -1
          ],
          [
           0,
           -100
          ],
          [
           -1,
           -1
          ],
          [
           -1,
           -1
          ],
          [
           0,
           -100
          ],
          [
           -1,
           -1
          ],
          [
           -1,
           -1
          ],
          [
           0,
           -100
          ],
          [
           -1,
           -1
          ],
          [
           -1,
           -1
          ],
          [
           0,
           -100
          ],
          [
           -1,
           -1
          ],
          [
           -1,
           -1
          ],
          [
           0,
           -100
          ],
          [
           -1,
           -1
          ],
          [
           -1,
           -1
          ],
          [
           0,
           -100
          ],
          [
           -1,
           -1
          ],
          [
           0,
           -100
          ],
          [
           0,
           -100
          ],
          [
           0,
           -100
          ],
          [
           0,
           -100
          ],
          [
           0,
           -100
          ],
          [
           0,
           -100
          ],
          [
           0,
           -100
          ],
          [
           0,
           -100
          ],
          [
           0,
           -100
          ],
          [
           0,
           -100
          ],
          [
           0,
           -100
          ],
          [
           0,
           -100
          ]
         ],
         "hovertemplate": "x: %{x}<br>y: %{y}<br>z: %{z}<br>Order Frequency: %{customdata[0]}<br>Product: %{customdata[1]}}",
         "marker": {
          "color": [
           0,
           0,
           0,
           0,
           0,
           0,
           0,
           0,
           0,
           0,
           0,
           0,
           1,
           0,
           -1,
           1,
           0,
           -1,
           -1,
           0,
           -1,
           -1,
           0,
           -1,
           1,
           0,
           -1,
           1,
           0,
           -1,
           -1,
           0,
           -1,
           -1,
           0,
           -1,
           1,
           0,
           -1,
           1,
           0,
           -1,
           -1,
           0,
           -1,
           -1,
           0,
           -1,
           -1,
           0,
           -1,
           -1,
           0,
           -1,
           -1,
           0,
           -1,
           -1,
           0,
           -1,
           -1,
           0,
           -1,
           -1,
           0,
           -1,
           -1,
           0,
           -1,
           -1,
           0,
           -1,
           0,
           0,
           0,
           0,
           0,
           0,
           0,
           0,
           0,
           0,
           0,
           0
          ],
          "colorscale": [
           [
            0,
            "rgb(3, 35, 51)"
           ],
           [
            0.09090909090909091,
            "rgb(13, 48, 100)"
           ],
           [
            0.18181818181818182,
            "rgb(53, 50, 155)"
           ],
           [
            0.2727272727272727,
            "rgb(93, 62, 153)"
           ],
           [
            0.36363636363636365,
            "rgb(126, 77, 143)"
           ],
           [
            0.45454545454545453,
            "rgb(158, 89, 135)"
           ],
           [
            0.5454545454545454,
            "rgb(193, 100, 121)"
           ],
           [
            0.6363636363636364,
            "rgb(225, 113, 97)"
           ],
           [
            0.7272727272727273,
            "rgb(246, 139, 69)"
           ],
           [
            0.8181818181818182,
            "rgb(251, 173, 60)"
           ],
           [
            0.9090909090909091,
            "rgb(246, 211, 70)"
           ],
           [
            1,
            "rgb(231, 250, 90)"
           ]
          ],
          "size": 5,
          "symbol": "square"
         },
         "mode": "markers",
         "type": "scatter3d",
         "x": [
          0,
          0,
          0,
          0,
          0,
          0,
          0,
          0,
          0,
          0,
          0,
          0,
          1,
          1,
          1,
          1,
          1,
          1,
          1,
          1,
          1,
          1,
          1,
          1,
          2,
          2,
          2,
          2,
          2,
          2,
          2,
          2,
          2,
          2,
          2,
          2,
          3,
          3,
          3,
          3,
          3,
          3,
          3,
          3,
          3,
          3,
          3,
          3,
          4,
          4,
          4,
          4,
          4,
          4,
          4,
          4,
          4,
          4,
          4,
          4,
          5,
          5,
          5,
          5,
          5,
          5,
          5,
          5,
          5,
          5,
          5,
          5,
          6,
          6,
          6,
          6,
          6,
          6,
          6,
          6,
          6,
          6,
          6,
          6
         ],
         "y": [
          0,
          1,
          2,
          3,
          4,
          5,
          6,
          7,
          8,
          9,
          10,
          11,
          0,
          1,
          2,
          3,
          4,
          5,
          6,
          7,
          8,
          9,
          10,
          11,
          0,
          1,
          2,
          3,
          4,
          5,
          6,
          7,
          8,
          9,
          10,
          11,
          0,
          1,
          2,
          3,
          4,
          5,
          6,
          7,
          8,
          9,
          10,
          11,
          0,
          1,
          2,
          3,
          4,
          5,
          6,
          7,
          8,
          9,
          10,
          11,
          0,
          1,
          2,
          3,
          4,
          5,
          6,
          7,
          8,
          9,
          10,
          11,
          0,
          1,
          2,
          3,
          4,
          5,
          6,
          7,
          8,
          9,
          10,
          11
         ],
         "z": [
          0,
          0,
          0,
          0,
          0,
          0,
          0,
          0,
          0,
          0,
          0,
          0,
          0,
          0,
          0,
          0,
          0,
          0,
          0,
          0,
          0,
          0,
          0,
          0,
          0,
          0,
          0,
          0,
          0,
          0,
          0,
          0,
          0,
          0,
          0,
          0,
          0,
          0,
          0,
          0,
          0,
          0,
          0,
          0,
          0,
          0,
          0,
          0,
          0,
          0,
          0,
          0,
          0,
          0,
          0,
          0,
          0,
          0,
          0,
          0,
          0,
          0,
          0,
          0,
          0,
          0,
          0,
          0,
          0,
          0,
          0,
          0,
          0,
          0,
          0,
          0,
          0,
          0,
          0,
          0,
          0,
          0,
          0,
          0
         ]
        }
       ],
       "layout": {
        "template": {
         "data": {
          "bar": [
           {
            "error_x": {
             "color": "#2a3f5f"
            },
            "error_y": {
             "color": "#2a3f5f"
            },
            "marker": {
             "line": {
              "color": "#E5ECF6",
              "width": 0.5
             },
             "pattern": {
              "fillmode": "overlay",
              "size": 10,
              "solidity": 0.2
             }
            },
            "type": "bar"
           }
          ],
          "barpolar": [
           {
            "marker": {
             "line": {
              "color": "#E5ECF6",
              "width": 0.5
             },
             "pattern": {
              "fillmode": "overlay",
              "size": 10,
              "solidity": 0.2
             }
            },
            "type": "barpolar"
           }
          ],
          "carpet": [
           {
            "aaxis": {
             "endlinecolor": "#2a3f5f",
             "gridcolor": "white",
             "linecolor": "white",
             "minorgridcolor": "white",
             "startlinecolor": "#2a3f5f"
            },
            "baxis": {
             "endlinecolor": "#2a3f5f",
             "gridcolor": "white",
             "linecolor": "white",
             "minorgridcolor": "white",
             "startlinecolor": "#2a3f5f"
            },
            "type": "carpet"
           }
          ],
          "choropleth": [
           {
            "colorbar": {
             "outlinewidth": 0,
             "ticks": ""
            },
            "type": "choropleth"
           }
          ],
          "contour": [
           {
            "colorbar": {
             "outlinewidth": 0,
             "ticks": ""
            },
            "colorscale": [
             [
              0,
              "#0d0887"
             ],
             [
              0.1111111111111111,
              "#46039f"
             ],
             [
              0.2222222222222222,
              "#7201a8"
             ],
             [
              0.3333333333333333,
              "#9c179e"
             ],
             [
              0.4444444444444444,
              "#bd3786"
             ],
             [
              0.5555555555555556,
              "#d8576b"
             ],
             [
              0.6666666666666666,
              "#ed7953"
             ],
             [
              0.7777777777777778,
              "#fb9f3a"
             ],
             [
              0.8888888888888888,
              "#fdca26"
             ],
             [
              1,
              "#f0f921"
             ]
            ],
            "type": "contour"
           }
          ],
          "contourcarpet": [
           {
            "colorbar": {
             "outlinewidth": 0,
             "ticks": ""
            },
            "type": "contourcarpet"
           }
          ],
          "heatmap": [
           {
            "colorbar": {
             "outlinewidth": 0,
             "ticks": ""
            },
            "colorscale": [
             [
              0,
              "#0d0887"
             ],
             [
              0.1111111111111111,
              "#46039f"
             ],
             [
              0.2222222222222222,
              "#7201a8"
             ],
             [
              0.3333333333333333,
              "#9c179e"
             ],
             [
              0.4444444444444444,
              "#bd3786"
             ],
             [
              0.5555555555555556,
              "#d8576b"
             ],
             [
              0.6666666666666666,
              "#ed7953"
             ],
             [
              0.7777777777777778,
              "#fb9f3a"
             ],
             [
              0.8888888888888888,
              "#fdca26"
             ],
             [
              1,
              "#f0f921"
             ]
            ],
            "type": "heatmap"
           }
          ],
          "heatmapgl": [
           {
            "colorbar": {
             "outlinewidth": 0,
             "ticks": ""
            },
            "colorscale": [
             [
              0,
              "#0d0887"
             ],
             [
              0.1111111111111111,
              "#46039f"
             ],
             [
              0.2222222222222222,
              "#7201a8"
             ],
             [
              0.3333333333333333,
              "#9c179e"
             ],
             [
              0.4444444444444444,
              "#bd3786"
             ],
             [
              0.5555555555555556,
              "#d8576b"
             ],
             [
              0.6666666666666666,
              "#ed7953"
             ],
             [
              0.7777777777777778,
              "#fb9f3a"
             ],
             [
              0.8888888888888888,
              "#fdca26"
             ],
             [
              1,
              "#f0f921"
             ]
            ],
            "type": "heatmapgl"
           }
          ],
          "histogram": [
           {
            "marker": {
             "pattern": {
              "fillmode": "overlay",
              "size": 10,
              "solidity": 0.2
             }
            },
            "type": "histogram"
           }
          ],
          "histogram2d": [
           {
            "colorbar": {
             "outlinewidth": 0,
             "ticks": ""
            },
            "colorscale": [
             [
              0,
              "#0d0887"
             ],
             [
              0.1111111111111111,
              "#46039f"
             ],
             [
              0.2222222222222222,
              "#7201a8"
             ],
             [
              0.3333333333333333,
              "#9c179e"
             ],
             [
              0.4444444444444444,
              "#bd3786"
             ],
             [
              0.5555555555555556,
              "#d8576b"
             ],
             [
              0.6666666666666666,
              "#ed7953"
             ],
             [
              0.7777777777777778,
              "#fb9f3a"
             ],
             [
              0.8888888888888888,
              "#fdca26"
             ],
             [
              1,
              "#f0f921"
             ]
            ],
            "type": "histogram2d"
           }
          ],
          "histogram2dcontour": [
           {
            "colorbar": {
             "outlinewidth": 0,
             "ticks": ""
            },
            "colorscale": [
             [
              0,
              "#0d0887"
             ],
             [
              0.1111111111111111,
              "#46039f"
             ],
             [
              0.2222222222222222,
              "#7201a8"
             ],
             [
              0.3333333333333333,
              "#9c179e"
             ],
             [
              0.4444444444444444,
              "#bd3786"
             ],
             [
              0.5555555555555556,
              "#d8576b"
             ],
             [
              0.6666666666666666,
              "#ed7953"
             ],
             [
              0.7777777777777778,
              "#fb9f3a"
             ],
             [
              0.8888888888888888,
              "#fdca26"
             ],
             [
              1,
              "#f0f921"
             ]
            ],
            "type": "histogram2dcontour"
           }
          ],
          "mesh3d": [
           {
            "colorbar": {
             "outlinewidth": 0,
             "ticks": ""
            },
            "type": "mesh3d"
           }
          ],
          "parcoords": [
           {
            "line": {
             "colorbar": {
              "outlinewidth": 0,
              "ticks": ""
             }
            },
            "type": "parcoords"
           }
          ],
          "pie": [
           {
            "automargin": true,
            "type": "pie"
           }
          ],
          "scatter": [
           {
            "fillpattern": {
             "fillmode": "overlay",
             "size": 10,
             "solidity": 0.2
            },
            "type": "scatter"
           }
          ],
          "scatter3d": [
           {
            "line": {
             "colorbar": {
              "outlinewidth": 0,
              "ticks": ""
             }
            },
            "marker": {
             "colorbar": {
              "outlinewidth": 0,
              "ticks": ""
             }
            },
            "type": "scatter3d"
           }
          ],
          "scattercarpet": [
           {
            "marker": {
             "colorbar": {
              "outlinewidth": 0,
              "ticks": ""
             }
            },
            "type": "scattercarpet"
           }
          ],
          "scattergeo": [
           {
            "marker": {
             "colorbar": {
              "outlinewidth": 0,
              "ticks": ""
             }
            },
            "type": "scattergeo"
           }
          ],
          "scattergl": [
           {
            "marker": {
             "colorbar": {
              "outlinewidth": 0,
              "ticks": ""
             }
            },
            "type": "scattergl"
           }
          ],
          "scattermapbox": [
           {
            "marker": {
             "colorbar": {
              "outlinewidth": 0,
              "ticks": ""
             }
            },
            "type": "scattermapbox"
           }
          ],
          "scatterpolar": [
           {
            "marker": {
             "colorbar": {
              "outlinewidth": 0,
              "ticks": ""
             }
            },
            "type": "scatterpolar"
           }
          ],
          "scatterpolargl": [
           {
            "marker": {
             "colorbar": {
              "outlinewidth": 0,
              "ticks": ""
             }
            },
            "type": "scatterpolargl"
           }
          ],
          "scatterternary": [
           {
            "marker": {
             "colorbar": {
              "outlinewidth": 0,
              "ticks": ""
             }
            },
            "type": "scatterternary"
           }
          ],
          "surface": [
           {
            "colorbar": {
             "outlinewidth": 0,
             "ticks": ""
            },
            "colorscale": [
             [
              0,
              "#0d0887"
             ],
             [
              0.1111111111111111,
              "#46039f"
             ],
             [
              0.2222222222222222,
              "#7201a8"
             ],
             [
              0.3333333333333333,
              "#9c179e"
             ],
             [
              0.4444444444444444,
              "#bd3786"
             ],
             [
              0.5555555555555556,
              "#d8576b"
             ],
             [
              0.6666666666666666,
              "#ed7953"
             ],
             [
              0.7777777777777778,
              "#fb9f3a"
             ],
             [
              0.8888888888888888,
              "#fdca26"
             ],
             [
              1,
              "#f0f921"
             ]
            ],
            "type": "surface"
           }
          ],
          "table": [
           {
            "cells": {
             "fill": {
              "color": "#EBF0F8"
             },
             "line": {
              "color": "white"
             }
            },
            "header": {
             "fill": {
              "color": "#C8D4E3"
             },
             "line": {
              "color": "white"
             }
            },
            "type": "table"
           }
          ]
         },
         "layout": {
          "annotationdefaults": {
           "arrowcolor": "#2a3f5f",
           "arrowhead": 0,
           "arrowwidth": 1
          },
          "autotypenumbers": "strict",
          "coloraxis": {
           "colorbar": {
            "outlinewidth": 0,
            "ticks": ""
           }
          },
          "colorscale": {
           "diverging": [
            [
             0,
             "#8e0152"
            ],
            [
             0.1,
             "#c51b7d"
            ],
            [
             0.2,
             "#de77ae"
            ],
            [
             0.3,
             "#f1b6da"
            ],
            [
             0.4,
             "#fde0ef"
            ],
            [
             0.5,
             "#f7f7f7"
            ],
            [
             0.6,
             "#e6f5d0"
            ],
            [
             0.7,
             "#b8e186"
            ],
            [
             0.8,
             "#7fbc41"
            ],
            [
             0.9,
             "#4d9221"
            ],
            [
             1,
             "#276419"
            ]
           ],
           "sequential": [
            [
             0,
             "#0d0887"
            ],
            [
             0.1111111111111111,
             "#46039f"
            ],
            [
             0.2222222222222222,
             "#7201a8"
            ],
            [
             0.3333333333333333,
             "#9c179e"
            ],
            [
             0.4444444444444444,
             "#bd3786"
            ],
            [
             0.5555555555555556,
             "#d8576b"
            ],
            [
             0.6666666666666666,
             "#ed7953"
            ],
            [
             0.7777777777777778,
             "#fb9f3a"
            ],
            [
             0.8888888888888888,
             "#fdca26"
            ],
            [
             1,
             "#f0f921"
            ]
           ],
           "sequentialminus": [
            [
             0,
             "#0d0887"
            ],
            [
             0.1111111111111111,
             "#46039f"
            ],
            [
             0.2222222222222222,
             "#7201a8"
            ],
            [
             0.3333333333333333,
             "#9c179e"
            ],
            [
             0.4444444444444444,
             "#bd3786"
            ],
            [
             0.5555555555555556,
             "#d8576b"
            ],
            [
             0.6666666666666666,
             "#ed7953"
            ],
            [
             0.7777777777777778,
             "#fb9f3a"
            ],
            [
             0.8888888888888888,
             "#fdca26"
            ],
            [
             1,
             "#f0f921"
            ]
           ]
          },
          "colorway": [
           "#636efa",
           "#EF553B",
           "#00cc96",
           "#ab63fa",
           "#FFA15A",
           "#19d3f3",
           "#FF6692",
           "#B6E880",
           "#FF97FF",
           "#FECB52"
          ],
          "font": {
           "color": "#2a3f5f"
          },
          "geo": {
           "bgcolor": "white",
           "lakecolor": "white",
           "landcolor": "#E5ECF6",
           "showlakes": true,
           "showland": true,
           "subunitcolor": "white"
          },
          "hoverlabel": {
           "align": "left"
          },
          "hovermode": "closest",
          "mapbox": {
           "style": "light"
          },
          "paper_bgcolor": "white",
          "plot_bgcolor": "#E5ECF6",
          "polar": {
           "angularaxis": {
            "gridcolor": "white",
            "linecolor": "white",
            "ticks": ""
           },
           "bgcolor": "#E5ECF6",
           "radialaxis": {
            "gridcolor": "white",
            "linecolor": "white",
            "ticks": ""
           }
          },
          "scene": {
           "xaxis": {
            "backgroundcolor": "#E5ECF6",
            "gridcolor": "white",
            "gridwidth": 2,
            "linecolor": "white",
            "showbackground": true,
            "ticks": "",
            "zerolinecolor": "white"
           },
           "yaxis": {
            "backgroundcolor": "#E5ECF6",
            "gridcolor": "white",
            "gridwidth": 2,
            "linecolor": "white",
            "showbackground": true,
            "ticks": "",
            "zerolinecolor": "white"
           },
           "zaxis": {
            "backgroundcolor": "#E5ECF6",
            "gridcolor": "white",
            "gridwidth": 2,
            "linecolor": "white",
            "showbackground": true,
            "ticks": "",
            "zerolinecolor": "white"
           }
          },
          "shapedefaults": {
           "line": {
            "color": "#2a3f5f"
           }
          },
          "ternary": {
           "aaxis": {
            "gridcolor": "white",
            "linecolor": "white",
            "ticks": ""
           },
           "baxis": {
            "gridcolor": "white",
            "linecolor": "white",
            "ticks": ""
           },
           "bgcolor": "#E5ECF6",
           "caxis": {
            "gridcolor": "white",
            "linecolor": "white",
            "ticks": ""
           }
          },
          "title": {
           "x": 0.05
          },
          "xaxis": {
           "automargin": true,
           "gridcolor": "white",
           "linecolor": "white",
           "ticks": "",
           "title": {
            "standoff": 15
           },
           "zerolinecolor": "white",
           "zerolinewidth": 2
          },
          "yaxis": {
           "automargin": true,
           "gridcolor": "white",
           "linecolor": "white",
           "ticks": "",
           "title": {
            "standoff": 15
           },
           "zerolinecolor": "white",
           "zerolinewidth": 2
          }
         }
        },
        "title": {
         "text": "Warehouse Visualization"
        }
       }
      }
     },
     "metadata": {},
     "output_type": "display_data"
    }
   ],
   "source": [
    "fig.show()"
   ]
  },
  {
   "cell_type": "code",
   "execution_count": 21,
   "metadata": {},
   "outputs": [],
   "source": [
    "from layout_utils.simulation import aisle_to_sku"
   ]
  },
  {
   "cell_type": "code",
   "execution_count": 81,
   "metadata": {},
   "outputs": [],
   "source": [
    "route, line, distance, zugriff = sim_loop(\"s_shape\", orders, warehouse, (6,1,0))"
   ]
  },
  {
   "cell_type": "code",
   "execution_count": 82,
   "metadata": {},
   "outputs": [
    {
     "data": {
      "text/plain": [
       "30.0"
      ]
     },
     "execution_count": 82,
     "metadata": {},
     "output_type": "execute_result"
    }
   ],
   "source": [
    "distance"
   ]
  },
  {
   "cell_type": "code",
   "execution_count": 83,
   "metadata": {},
   "outputs": [],
   "source": [
    "storage_assignment_heuristic = deepcopy(warehouse.layout_grid)\n",
    "walkable_locs = np.where(warehouse.layout_grid == 0)\n",
    "\n",
    "for i, loc in enumerate(assignment):\n",
    "    storage_assignment_heuristic[warehouse.nodes_list[loc]] = i \n"
   ]
  },
  {
   "cell_type": "code",
   "execution_count": 84,
   "metadata": {},
   "outputs": [
    {
     "data": {
      "application/vnd.plotly.v1+json": {
       "config": {
        "plotlyServerURL": "https://plot.ly"
       },
       "data": [
        {
         "customdata": [
          0,
          0,
          0,
          0,
          0,
          0,
          0,
          0,
          0,
          0,
          0,
          0,
          0,
          0,
          -1,
          3,
          0,
          -1,
          -1,
          0,
          -1,
          -1,
          0,
          -1,
          1,
          0,
          -1,
          4,
          0,
          -1,
          -1,
          0,
          -1,
          -1,
          0,
          -1,
          2,
          0,
          -1,
          5,
          0,
          -1,
          -1,
          0,
          -1,
          -1,
          0,
          -1,
          -1,
          0,
          -1,
          -1,
          0,
          -1,
          -1,
          0,
          -1,
          -1,
          0,
          -1,
          -1,
          0,
          -1,
          -1,
          0,
          -1,
          -1,
          0,
          -1,
          -1,
          0,
          -1,
          0,
          0,
          0,
          0,
          0,
          0,
          0,
          0,
          0,
          0,
          0,
          0
         ],
         "hovertemplate": "x: %{x}<br>y: %{y}<br>z: %{z}<br>Cluster<br>Product: %{customdata[1]}",
         "marker": {
          "size": 5
         },
         "mode": "markers",
         "type": "scatter3d",
         "x": [
          0,
          0,
          0,
          0,
          0,
          0,
          0,
          0,
          0,
          0,
          0,
          0,
          1,
          1,
          1,
          1,
          1,
          1,
          1,
          1,
          1,
          1,
          1,
          1,
          2,
          2,
          2,
          2,
          2,
          2,
          2,
          2,
          2,
          2,
          2,
          2,
          3,
          3,
          3,
          3,
          3,
          3,
          3,
          3,
          3,
          3,
          3,
          3,
          4,
          4,
          4,
          4,
          4,
          4,
          4,
          4,
          4,
          4,
          4,
          4,
          5,
          5,
          5,
          5,
          5,
          5,
          5,
          5,
          5,
          5,
          5,
          5,
          6,
          6,
          6,
          6,
          6,
          6,
          6,
          6,
          6,
          6,
          6,
          6
         ],
         "y": [
          0,
          1,
          2,
          3,
          4,
          5,
          6,
          7,
          8,
          9,
          10,
          11,
          0,
          1,
          2,
          3,
          4,
          5,
          6,
          7,
          8,
          9,
          10,
          11,
          0,
          1,
          2,
          3,
          4,
          5,
          6,
          7,
          8,
          9,
          10,
          11,
          0,
          1,
          2,
          3,
          4,
          5,
          6,
          7,
          8,
          9,
          10,
          11,
          0,
          1,
          2,
          3,
          4,
          5,
          6,
          7,
          8,
          9,
          10,
          11,
          0,
          1,
          2,
          3,
          4,
          5,
          6,
          7,
          8,
          9,
          10,
          11,
          0,
          1,
          2,
          3,
          4,
          5,
          6,
          7,
          8,
          9,
          10,
          11
         ],
         "z": [
          0,
          0,
          0,
          0,
          0,
          0,
          0,
          0,
          0,
          0,
          0,
          0,
          0,
          0,
          0,
          0,
          0,
          0,
          0,
          0,
          0,
          0,
          0,
          0,
          0,
          0,
          0,
          0,
          0,
          0,
          0,
          0,
          0,
          0,
          0,
          0,
          0,
          0,
          0,
          0,
          0,
          0,
          0,
          0,
          0,
          0,
          0,
          0,
          0,
          0,
          0,
          0,
          0,
          0,
          0,
          0,
          0,
          0,
          0,
          0,
          0,
          0,
          0,
          0,
          0,
          0,
          0,
          0,
          0,
          0,
          0,
          0,
          0,
          0,
          0,
          0,
          0,
          0,
          0,
          0,
          0,
          0,
          0,
          0
         ]
        },
        {
         "line": {
          "color": "red",
          "width": 10
         },
         "marker": {
          "size": 5
         },
         "mode": "lines",
         "type": "scatter3d",
         "x": [
          6,
          0,
          1,
          2,
          3,
          6,
          6,
          3,
          2,
          1,
          0,
          6
         ],
         "y": [
          1,
          1,
          1,
          1,
          1,
          1,
          4,
          4,
          4,
          4,
          4,
          1
         ],
         "z": [
          0,
          0,
          0,
          0,
          0,
          0,
          0,
          0,
          0,
          0,
          0,
          0
         ]
        }
       ],
       "frames": [
        {
         "data": [
          {
           "marker": {
            "color": "blue",
            "size": 10
           },
           "mode": "markers",
           "type": "scatter3d",
           "x": [
            6
           ],
           "y": [
            1
           ],
           "z": [
            0
           ]
          }
         ]
        },
        {
         "data": [
          {
           "marker": {
            "color": "blue",
            "size": 10
           },
           "mode": "markers",
           "type": "scatter3d",
           "x": [
            0
           ],
           "y": [
            1
           ],
           "z": [
            0
           ]
          }
         ]
        },
        {
         "data": [
          {
           "marker": {
            "color": "blue",
            "size": 10
           },
           "mode": "markers",
           "type": "scatter3d",
           "x": [
            1
           ],
           "y": [
            1
           ],
           "z": [
            0
           ]
          }
         ]
        },
        {
         "data": [
          {
           "marker": {
            "color": "blue",
            "size": 10
           },
           "mode": "markers",
           "type": "scatter3d",
           "x": [
            1
           ],
           "y": [
            0
           ],
           "z": [
            0
           ]
          }
         ]
        },
        {
         "data": [
          {
           "marker": {
            "color": "blue",
            "size": 10
           },
           "mode": "markers",
           "type": "scatter3d",
           "x": [
            1
           ],
           "y": [
            1
           ],
           "z": [
            0
           ]
          }
         ]
        },
        {
         "data": [
          {
           "marker": {
            "color": "blue",
            "size": 10
           },
           "mode": "markers",
           "type": "scatter3d",
           "x": [
            2
           ],
           "y": [
            1
           ],
           "z": [
            0
           ]
          }
         ]
        },
        {
         "data": [
          {
           "marker": {
            "color": "blue",
            "size": 10
           },
           "mode": "markers",
           "type": "scatter3d",
           "x": [
            2
           ],
           "y": [
            0
           ],
           "z": [
            0
           ]
          }
         ]
        },
        {
         "data": [
          {
           "marker": {
            "color": "blue",
            "size": 10
           },
           "mode": "markers",
           "type": "scatter3d",
           "x": [
            2
           ],
           "y": [
            1
           ],
           "z": [
            0
           ]
          }
         ]
        },
        {
         "data": [
          {
           "marker": {
            "color": "blue",
            "size": 10
           },
           "mode": "markers",
           "type": "scatter3d",
           "x": [
            3
           ],
           "y": [
            1
           ],
           "z": [
            0
           ]
          }
         ]
        },
        {
         "data": [
          {
           "marker": {
            "color": "blue",
            "size": 10
           },
           "mode": "markers",
           "type": "scatter3d",
           "x": [
            3
           ],
           "y": [
            0
           ],
           "z": [
            0
           ]
          }
         ]
        },
        {
         "data": [
          {
           "marker": {
            "color": "blue",
            "size": 10
           },
           "mode": "markers",
           "type": "scatter3d",
           "x": [
            3
           ],
           "y": [
            1
           ],
           "z": [
            0
           ]
          }
         ]
        },
        {
         "data": [
          {
           "marker": {
            "color": "blue",
            "size": 10
           },
           "mode": "markers",
           "type": "scatter3d",
           "x": [
            6
           ],
           "y": [
            1
           ],
           "z": [
            0
           ]
          }
         ]
        },
        {
         "data": [
          {
           "marker": {
            "color": "blue",
            "size": 10
           },
           "mode": "markers",
           "type": "scatter3d",
           "x": [
            6
           ],
           "y": [
            4
           ],
           "z": [
            0
           ]
          }
         ]
        },
        {
         "data": [
          {
           "marker": {
            "color": "blue",
            "size": 10
           },
           "mode": "markers",
           "type": "scatter3d",
           "x": [
            3
           ],
           "y": [
            4
           ],
           "z": [
            0
           ]
          }
         ]
        },
        {
         "data": [
          {
           "marker": {
            "color": "blue",
            "size": 10
           },
           "mode": "markers",
           "type": "scatter3d",
           "x": [
            3
           ],
           "y": [
            3
           ],
           "z": [
            0
           ]
          }
         ]
        },
        {
         "data": [
          {
           "marker": {
            "color": "blue",
            "size": 10
           },
           "mode": "markers",
           "type": "scatter3d",
           "x": [
            3
           ],
           "y": [
            4
           ],
           "z": [
            0
           ]
          }
         ]
        },
        {
         "data": [
          {
           "marker": {
            "color": "blue",
            "size": 10
           },
           "mode": "markers",
           "type": "scatter3d",
           "x": [
            2
           ],
           "y": [
            4
           ],
           "z": [
            0
           ]
          }
         ]
        },
        {
         "data": [
          {
           "marker": {
            "color": "blue",
            "size": 10
           },
           "mode": "markers",
           "type": "scatter3d",
           "x": [
            2
           ],
           "y": [
            3
           ],
           "z": [
            0
           ]
          }
         ]
        },
        {
         "data": [
          {
           "marker": {
            "color": "blue",
            "size": 10
           },
           "mode": "markers",
           "type": "scatter3d",
           "x": [
            2
           ],
           "y": [
            4
           ],
           "z": [
            0
           ]
          }
         ]
        },
        {
         "data": [
          {
           "marker": {
            "color": "blue",
            "size": 10
           },
           "mode": "markers",
           "type": "scatter3d",
           "x": [
            1
           ],
           "y": [
            4
           ],
           "z": [
            0
           ]
          }
         ]
        },
        {
         "data": [
          {
           "marker": {
            "color": "blue",
            "size": 10
           },
           "mode": "markers",
           "type": "scatter3d",
           "x": [
            1
           ],
           "y": [
            3
           ],
           "z": [
            0
           ]
          }
         ]
        },
        {
         "data": [
          {
           "marker": {
            "color": "blue",
            "size": 10
           },
           "mode": "markers",
           "type": "scatter3d",
           "x": [
            1
           ],
           "y": [
            4
           ],
           "z": [
            0
           ]
          }
         ]
        },
        {
         "data": [
          {
           "marker": {
            "color": "blue",
            "size": 10
           },
           "mode": "markers",
           "type": "scatter3d",
           "x": [
            0
           ],
           "y": [
            4
           ],
           "z": [
            0
           ]
          }
         ]
        }
       ],
       "layout": {
        "template": {
         "data": {
          "bar": [
           {
            "error_x": {
             "color": "#2a3f5f"
            },
            "error_y": {
             "color": "#2a3f5f"
            },
            "marker": {
             "line": {
              "color": "#E5ECF6",
              "width": 0.5
             },
             "pattern": {
              "fillmode": "overlay",
              "size": 10,
              "solidity": 0.2
             }
            },
            "type": "bar"
           }
          ],
          "barpolar": [
           {
            "marker": {
             "line": {
              "color": "#E5ECF6",
              "width": 0.5
             },
             "pattern": {
              "fillmode": "overlay",
              "size": 10,
              "solidity": 0.2
             }
            },
            "type": "barpolar"
           }
          ],
          "carpet": [
           {
            "aaxis": {
             "endlinecolor": "#2a3f5f",
             "gridcolor": "white",
             "linecolor": "white",
             "minorgridcolor": "white",
             "startlinecolor": "#2a3f5f"
            },
            "baxis": {
             "endlinecolor": "#2a3f5f",
             "gridcolor": "white",
             "linecolor": "white",
             "minorgridcolor": "white",
             "startlinecolor": "#2a3f5f"
            },
            "type": "carpet"
           }
          ],
          "choropleth": [
           {
            "colorbar": {
             "outlinewidth": 0,
             "ticks": ""
            },
            "type": "choropleth"
           }
          ],
          "contour": [
           {
            "colorbar": {
             "outlinewidth": 0,
             "ticks": ""
            },
            "colorscale": [
             [
              0,
              "#0d0887"
             ],
             [
              0.1111111111111111,
              "#46039f"
             ],
             [
              0.2222222222222222,
              "#7201a8"
             ],
             [
              0.3333333333333333,
              "#9c179e"
             ],
             [
              0.4444444444444444,
              "#bd3786"
             ],
             [
              0.5555555555555556,
              "#d8576b"
             ],
             [
              0.6666666666666666,
              "#ed7953"
             ],
             [
              0.7777777777777778,
              "#fb9f3a"
             ],
             [
              0.8888888888888888,
              "#fdca26"
             ],
             [
              1,
              "#f0f921"
             ]
            ],
            "type": "contour"
           }
          ],
          "contourcarpet": [
           {
            "colorbar": {
             "outlinewidth": 0,
             "ticks": ""
            },
            "type": "contourcarpet"
           }
          ],
          "heatmap": [
           {
            "colorbar": {
             "outlinewidth": 0,
             "ticks": ""
            },
            "colorscale": [
             [
              0,
              "#0d0887"
             ],
             [
              0.1111111111111111,
              "#46039f"
             ],
             [
              0.2222222222222222,
              "#7201a8"
             ],
             [
              0.3333333333333333,
              "#9c179e"
             ],
             [
              0.4444444444444444,
              "#bd3786"
             ],
             [
              0.5555555555555556,
              "#d8576b"
             ],
             [
              0.6666666666666666,
              "#ed7953"
             ],
             [
              0.7777777777777778,
              "#fb9f3a"
             ],
             [
              0.8888888888888888,
              "#fdca26"
             ],
             [
              1,
              "#f0f921"
             ]
            ],
            "type": "heatmap"
           }
          ],
          "heatmapgl": [
           {
            "colorbar": {
             "outlinewidth": 0,
             "ticks": ""
            },
            "colorscale": [
             [
              0,
              "#0d0887"
             ],
             [
              0.1111111111111111,
              "#46039f"
             ],
             [
              0.2222222222222222,
              "#7201a8"
             ],
             [
              0.3333333333333333,
              "#9c179e"
             ],
             [
              0.4444444444444444,
              "#bd3786"
             ],
             [
              0.5555555555555556,
              "#d8576b"
             ],
             [
              0.6666666666666666,
              "#ed7953"
             ],
             [
              0.7777777777777778,
              "#fb9f3a"
             ],
             [
              0.8888888888888888,
              "#fdca26"
             ],
             [
              1,
              "#f0f921"
             ]
            ],
            "type": "heatmapgl"
           }
          ],
          "histogram": [
           {
            "marker": {
             "pattern": {
              "fillmode": "overlay",
              "size": 10,
              "solidity": 0.2
             }
            },
            "type": "histogram"
           }
          ],
          "histogram2d": [
           {
            "colorbar": {
             "outlinewidth": 0,
             "ticks": ""
            },
            "colorscale": [
             [
              0,
              "#0d0887"
             ],
             [
              0.1111111111111111,
              "#46039f"
             ],
             [
              0.2222222222222222,
              "#7201a8"
             ],
             [
              0.3333333333333333,
              "#9c179e"
             ],
             [
              0.4444444444444444,
              "#bd3786"
             ],
             [
              0.5555555555555556,
              "#d8576b"
             ],
             [
              0.6666666666666666,
              "#ed7953"
             ],
             [
              0.7777777777777778,
              "#fb9f3a"
             ],
             [
              0.8888888888888888,
              "#fdca26"
             ],
             [
              1,
              "#f0f921"
             ]
            ],
            "type": "histogram2d"
           }
          ],
          "histogram2dcontour": [
           {
            "colorbar": {
             "outlinewidth": 0,
             "ticks": ""
            },
            "colorscale": [
             [
              0,
              "#0d0887"
             ],
             [
              0.1111111111111111,
              "#46039f"
             ],
             [
              0.2222222222222222,
              "#7201a8"
             ],
             [
              0.3333333333333333,
              "#9c179e"
             ],
             [
              0.4444444444444444,
              "#bd3786"
             ],
             [
              0.5555555555555556,
              "#d8576b"
             ],
             [
              0.6666666666666666,
              "#ed7953"
             ],
             [
              0.7777777777777778,
              "#fb9f3a"
             ],
             [
              0.8888888888888888,
              "#fdca26"
             ],
             [
              1,
              "#f0f921"
             ]
            ],
            "type": "histogram2dcontour"
           }
          ],
          "mesh3d": [
           {
            "colorbar": {
             "outlinewidth": 0,
             "ticks": ""
            },
            "type": "mesh3d"
           }
          ],
          "parcoords": [
           {
            "line": {
             "colorbar": {
              "outlinewidth": 0,
              "ticks": ""
             }
            },
            "type": "parcoords"
           }
          ],
          "pie": [
           {
            "automargin": true,
            "type": "pie"
           }
          ],
          "scatter": [
           {
            "fillpattern": {
             "fillmode": "overlay",
             "size": 10,
             "solidity": 0.2
            },
            "type": "scatter"
           }
          ],
          "scatter3d": [
           {
            "line": {
             "colorbar": {
              "outlinewidth": 0,
              "ticks": ""
             }
            },
            "marker": {
             "colorbar": {
              "outlinewidth": 0,
              "ticks": ""
             }
            },
            "type": "scatter3d"
           }
          ],
          "scattercarpet": [
           {
            "marker": {
             "colorbar": {
              "outlinewidth": 0,
              "ticks": ""
             }
            },
            "type": "scattercarpet"
           }
          ],
          "scattergeo": [
           {
            "marker": {
             "colorbar": {
              "outlinewidth": 0,
              "ticks": ""
             }
            },
            "type": "scattergeo"
           }
          ],
          "scattergl": [
           {
            "marker": {
             "colorbar": {
              "outlinewidth": 0,
              "ticks": ""
             }
            },
            "type": "scattergl"
           }
          ],
          "scattermapbox": [
           {
            "marker": {
             "colorbar": {
              "outlinewidth": 0,
              "ticks": ""
             }
            },
            "type": "scattermapbox"
           }
          ],
          "scatterpolar": [
           {
            "marker": {
             "colorbar": {
              "outlinewidth": 0,
              "ticks": ""
             }
            },
            "type": "scatterpolar"
           }
          ],
          "scatterpolargl": [
           {
            "marker": {
             "colorbar": {
              "outlinewidth": 0,
              "ticks": ""
             }
            },
            "type": "scatterpolargl"
           }
          ],
          "scatterternary": [
           {
            "marker": {
             "colorbar": {
              "outlinewidth": 0,
              "ticks": ""
             }
            },
            "type": "scatterternary"
           }
          ],
          "surface": [
           {
            "colorbar": {
             "outlinewidth": 0,
             "ticks": ""
            },
            "colorscale": [
             [
              0,
              "#0d0887"
             ],
             [
              0.1111111111111111,
              "#46039f"
             ],
             [
              0.2222222222222222,
              "#7201a8"
             ],
             [
              0.3333333333333333,
              "#9c179e"
             ],
             [
              0.4444444444444444,
              "#bd3786"
             ],
             [
              0.5555555555555556,
              "#d8576b"
             ],
             [
              0.6666666666666666,
              "#ed7953"
             ],
             [
              0.7777777777777778,
              "#fb9f3a"
             ],
             [
              0.8888888888888888,
              "#fdca26"
             ],
             [
              1,
              "#f0f921"
             ]
            ],
            "type": "surface"
           }
          ],
          "table": [
           {
            "cells": {
             "fill": {
              "color": "#EBF0F8"
             },
             "line": {
              "color": "white"
             }
            },
            "header": {
             "fill": {
              "color": "#C8D4E3"
             },
             "line": {
              "color": "white"
             }
            },
            "type": "table"
           }
          ]
         },
         "layout": {
          "annotationdefaults": {
           "arrowcolor": "#2a3f5f",
           "arrowhead": 0,
           "arrowwidth": 1
          },
          "autotypenumbers": "strict",
          "coloraxis": {
           "colorbar": {
            "outlinewidth": 0,
            "ticks": ""
           }
          },
          "colorscale": {
           "diverging": [
            [
             0,
             "#8e0152"
            ],
            [
             0.1,
             "#c51b7d"
            ],
            [
             0.2,
             "#de77ae"
            ],
            [
             0.3,
             "#f1b6da"
            ],
            [
             0.4,
             "#fde0ef"
            ],
            [
             0.5,
             "#f7f7f7"
            ],
            [
             0.6,
             "#e6f5d0"
            ],
            [
             0.7,
             "#b8e186"
            ],
            [
             0.8,
             "#7fbc41"
            ],
            [
             0.9,
             "#4d9221"
            ],
            [
             1,
             "#276419"
            ]
           ],
           "sequential": [
            [
             0,
             "#0d0887"
            ],
            [
             0.1111111111111111,
             "#46039f"
            ],
            [
             0.2222222222222222,
             "#7201a8"
            ],
            [
             0.3333333333333333,
             "#9c179e"
            ],
            [
             0.4444444444444444,
             "#bd3786"
            ],
            [
             0.5555555555555556,
             "#d8576b"
            ],
            [
             0.6666666666666666,
             "#ed7953"
            ],
            [
             0.7777777777777778,
             "#fb9f3a"
            ],
            [
             0.8888888888888888,
             "#fdca26"
            ],
            [
             1,
             "#f0f921"
            ]
           ],
           "sequentialminus": [
            [
             0,
             "#0d0887"
            ],
            [
             0.1111111111111111,
             "#46039f"
            ],
            [
             0.2222222222222222,
             "#7201a8"
            ],
            [
             0.3333333333333333,
             "#9c179e"
            ],
            [
             0.4444444444444444,
             "#bd3786"
            ],
            [
             0.5555555555555556,
             "#d8576b"
            ],
            [
             0.6666666666666666,
             "#ed7953"
            ],
            [
             0.7777777777777778,
             "#fb9f3a"
            ],
            [
             0.8888888888888888,
             "#fdca26"
            ],
            [
             1,
             "#f0f921"
            ]
           ]
          },
          "colorway": [
           "#636efa",
           "#EF553B",
           "#00cc96",
           "#ab63fa",
           "#FFA15A",
           "#19d3f3",
           "#FF6692",
           "#B6E880",
           "#FF97FF",
           "#FECB52"
          ],
          "font": {
           "color": "#2a3f5f"
          },
          "geo": {
           "bgcolor": "white",
           "lakecolor": "white",
           "landcolor": "#E5ECF6",
           "showlakes": true,
           "showland": true,
           "subunitcolor": "white"
          },
          "hoverlabel": {
           "align": "left"
          },
          "hovermode": "closest",
          "mapbox": {
           "style": "light"
          },
          "paper_bgcolor": "white",
          "plot_bgcolor": "#E5ECF6",
          "polar": {
           "angularaxis": {
            "gridcolor": "white",
            "linecolor": "white",
            "ticks": ""
           },
           "bgcolor": "#E5ECF6",
           "radialaxis": {
            "gridcolor": "white",
            "linecolor": "white",
            "ticks": ""
           }
          },
          "scene": {
           "xaxis": {
            "backgroundcolor": "#E5ECF6",
            "gridcolor": "white",
            "gridwidth": 2,
            "linecolor": "white",
            "showbackground": true,
            "ticks": "",
            "zerolinecolor": "white"
           },
           "yaxis": {
            "backgroundcolor": "#E5ECF6",
            "gridcolor": "white",
            "gridwidth": 2,
            "linecolor": "white",
            "showbackground": true,
            "ticks": "",
            "zerolinecolor": "white"
           },
           "zaxis": {
            "backgroundcolor": "#E5ECF6",
            "gridcolor": "white",
            "gridwidth": 2,
            "linecolor": "white",
            "showbackground": true,
            "ticks": "",
            "zerolinecolor": "white"
           }
          },
          "shapedefaults": {
           "line": {
            "color": "#2a3f5f"
           }
          },
          "ternary": {
           "aaxis": {
            "gridcolor": "white",
            "linecolor": "white",
            "ticks": ""
           },
           "baxis": {
            "gridcolor": "white",
            "linecolor": "white",
            "ticks": ""
           },
           "bgcolor": "#E5ECF6",
           "caxis": {
            "gridcolor": "white",
            "linecolor": "white",
            "ticks": ""
           }
          },
          "title": {
           "x": 0.05
          },
          "xaxis": {
           "automargin": true,
           "gridcolor": "white",
           "linecolor": "white",
           "ticks": "",
           "title": {
            "standoff": 15
           },
           "zerolinecolor": "white",
           "zerolinewidth": 2
          },
          "yaxis": {
           "automargin": true,
           "gridcolor": "white",
           "linecolor": "white",
           "ticks": "",
           "title": {
            "standoff": 15
           },
           "zerolinecolor": "white",
           "zerolinewidth": 2
          }
         }
        },
        "title": {
         "text": "Start Title"
        },
        "updatemenus": [
         {
          "buttons": [
           {
            "args": [
             null
            ],
            "label": "Play",
            "method": "animate"
           }
          ],
          "type": "buttons"
         }
        ],
        "xaxis": {
         "autorange": false,
         "range": [
          0,
          40
         ]
        },
        "yaxis": {
         "autorange": false,
         "range": [
          0,
          40
         ]
        }
       }
      }
     },
     "metadata": {},
     "output_type": "display_data"
    }
   ],
   "source": [
    "route = np.array(route[0])\n",
    "line = np.array(line[0])\n",
    "\n",
    "node_xyz = np.array([warehouse.pos_dict[v] for v in sorted(warehouse.graph)])\n",
    "edge_xyz = np.array([(warehouse.pos_dict[u], warehouse.pos_dict[v]) for u, v in warehouse.graph.edges()])\n",
    "\n",
    "# data = []\n",
    "# for x, y, z in zip(node_xyz.T[0], node_xyz.T[1], node_xyz.T[2]):\n",
    "#     data_point = storage_frequence_heu[x,y,z]\n",
    "#     data.append(data_point)\n",
    "\n",
    "assignment = []\n",
    "for x, y, z in zip(node_xyz.T[0], node_xyz.T[1], node_xyz.T[2]):\n",
    "    assignment_point = storage_assignment_heuristic[x,y,z]\n",
    "    assignment.append(assignment_point)\n",
    "\n",
    "trace = go.Scatter3d(customdata=np.stack((assignment),axis=-1), hovertemplate = 'x: %{x}<br>y: %{y}<br>z: %{z}<br>Cluster<br>Product: %{customdata[1]}',\n",
    "x = node_xyz.T[0], y = node_xyz.T[1], z = node_xyz.T[2],mode = 'markers', marker = dict(\n",
    "    size = 12)\n",
    ")\n",
    "\n",
    "lines = go.Scatter3d(\n",
    "    x=line.T[0],\n",
    "    y=line.T[1],\n",
    "    z=line.T[2],\n",
    "    mode='lines',\n",
    "    line=dict(color='red', width=10),  # Customize line properties\n",
    ")\n",
    "\n",
    "frames=[go.Frame(data=[go.Scatter3d(\n",
    "    x=[route.T[0][i]],\n",
    "    y=[route.T[1][i]],\n",
    "    z=[route.T[2][i]],\n",
    "    mode='markers',\n",
    "    marker=dict(color='blue', size=10),  # Customize line properties\n",
    ") ]) for i in range(len(route.T[0])-1)]\n",
    "\n",
    "layout=go.Layout(\n",
    "        xaxis=dict(range=[0, 40], autorange=False),\n",
    "        yaxis=dict(range=[0, 40], autorange=False),\n",
    "        title=\"Start Title\",\n",
    "        updatemenus=[dict(\n",
    "            type=\"buttons\",\n",
    "            buttons=[dict(label=\"Play\",\n",
    "                          method=\"animate\",\n",
    "                          args=[None])])]\n",
    "    )\n",
    "fig = go.Figure(data = [trace, lines], layout = layout, frames = frames)\n",
    "fig.update_traces(marker_size = 5)\n",
    "fig.show()"
   ]
  },
  {
   "cell_type": "code",
   "execution_count": 85,
   "metadata": {},
   "outputs": [
    {
     "data": {
      "application/vnd.plotly.v1+json": {
       "config": {
        "plotlyServerURL": "https://plot.ly"
       },
       "data": [
        {
         "coloraxis": "coloraxis",
         "hovertemplate": "x: %{x}<br>y: %{y}<br>color: %{z}<extra></extra>",
         "name": "0",
         "type": "heatmap",
         "xaxis": "x",
         "yaxis": "y",
         "z": [
          [
           0,
           0,
           0,
           0,
           0,
           0,
           0,
           0,
           0,
           0,
           0,
           0
          ],
          [
           -1,
           0,
           -1,
           -1,
           0,
           -1,
           -1,
           0,
           -1,
           -1,
           0,
           -1
          ],
          [
           -1,
           0,
           -1,
           -1,
           0,
           -1,
           -1,
           0,
           -1,
           -1,
           0,
           -1
          ],
          [
           -1,
           0,
           -1,
           -1,
           0,
           -1,
           -1,
           0,
           -1,
           -1,
           0,
           -1
          ],
          [
           -1,
           0,
           -1,
           -1,
           0,
           -1,
           -1,
           0,
           -1,
           -1,
           0,
           -1
          ],
          [
           -1,
           0,
           -1,
           -1,
           0,
           -1,
           -1,
           0,
           -1,
           -1,
           0,
           -1
          ],
          [
           0,
           0,
           0,
           0,
           0,
           0,
           0,
           0,
           0,
           0,
           0,
           0
          ]
         ]
        }
       ],
       "layout": {
        "coloraxis": {
         "colorscale": [
          [
           0,
           "#0d0887"
          ],
          [
           0.1111111111111111,
           "#46039f"
          ],
          [
           0.2222222222222222,
           "#7201a8"
          ],
          [
           0.3333333333333333,
           "#9c179e"
          ],
          [
           0.4444444444444444,
           "#bd3786"
          ],
          [
           0.5555555555555556,
           "#d8576b"
          ],
          [
           0.6666666666666666,
           "#ed7953"
          ],
          [
           0.7777777777777778,
           "#fb9f3a"
          ],
          [
           0.8888888888888888,
           "#fdca26"
          ],
          [
           1,
           "#f0f921"
          ]
         ]
        },
        "margin": {
         "t": 60
        },
        "template": {
         "data": {
          "bar": [
           {
            "error_x": {
             "color": "#2a3f5f"
            },
            "error_y": {
             "color": "#2a3f5f"
            },
            "marker": {
             "line": {
              "color": "#E5ECF6",
              "width": 0.5
             },
             "pattern": {
              "fillmode": "overlay",
              "size": 10,
              "solidity": 0.2
             }
            },
            "type": "bar"
           }
          ],
          "barpolar": [
           {
            "marker": {
             "line": {
              "color": "#E5ECF6",
              "width": 0.5
             },
             "pattern": {
              "fillmode": "overlay",
              "size": 10,
              "solidity": 0.2
             }
            },
            "type": "barpolar"
           }
          ],
          "carpet": [
           {
            "aaxis": {
             "endlinecolor": "#2a3f5f",
             "gridcolor": "white",
             "linecolor": "white",
             "minorgridcolor": "white",
             "startlinecolor": "#2a3f5f"
            },
            "baxis": {
             "endlinecolor": "#2a3f5f",
             "gridcolor": "white",
             "linecolor": "white",
             "minorgridcolor": "white",
             "startlinecolor": "#2a3f5f"
            },
            "type": "carpet"
           }
          ],
          "choropleth": [
           {
            "colorbar": {
             "outlinewidth": 0,
             "ticks": ""
            },
            "type": "choropleth"
           }
          ],
          "contour": [
           {
            "colorbar": {
             "outlinewidth": 0,
             "ticks": ""
            },
            "colorscale": [
             [
              0,
              "#0d0887"
             ],
             [
              0.1111111111111111,
              "#46039f"
             ],
             [
              0.2222222222222222,
              "#7201a8"
             ],
             [
              0.3333333333333333,
              "#9c179e"
             ],
             [
              0.4444444444444444,
              "#bd3786"
             ],
             [
              0.5555555555555556,
              "#d8576b"
             ],
             [
              0.6666666666666666,
              "#ed7953"
             ],
             [
              0.7777777777777778,
              "#fb9f3a"
             ],
             [
              0.8888888888888888,
              "#fdca26"
             ],
             [
              1,
              "#f0f921"
             ]
            ],
            "type": "contour"
           }
          ],
          "contourcarpet": [
           {
            "colorbar": {
             "outlinewidth": 0,
             "ticks": ""
            },
            "type": "contourcarpet"
           }
          ],
          "heatmap": [
           {
            "colorbar": {
             "outlinewidth": 0,
             "ticks": ""
            },
            "colorscale": [
             [
              0,
              "#0d0887"
             ],
             [
              0.1111111111111111,
              "#46039f"
             ],
             [
              0.2222222222222222,
              "#7201a8"
             ],
             [
              0.3333333333333333,
              "#9c179e"
             ],
             [
              0.4444444444444444,
              "#bd3786"
             ],
             [
              0.5555555555555556,
              "#d8576b"
             ],
             [
              0.6666666666666666,
              "#ed7953"
             ],
             [
              0.7777777777777778,
              "#fb9f3a"
             ],
             [
              0.8888888888888888,
              "#fdca26"
             ],
             [
              1,
              "#f0f921"
             ]
            ],
            "type": "heatmap"
           }
          ],
          "heatmapgl": [
           {
            "colorbar": {
             "outlinewidth": 0,
             "ticks": ""
            },
            "colorscale": [
             [
              0,
              "#0d0887"
             ],
             [
              0.1111111111111111,
              "#46039f"
             ],
             [
              0.2222222222222222,
              "#7201a8"
             ],
             [
              0.3333333333333333,
              "#9c179e"
             ],
             [
              0.4444444444444444,
              "#bd3786"
             ],
             [
              0.5555555555555556,
              "#d8576b"
             ],
             [
              0.6666666666666666,
              "#ed7953"
             ],
             [
              0.7777777777777778,
              "#fb9f3a"
             ],
             [
              0.8888888888888888,
              "#fdca26"
             ],
             [
              1,
              "#f0f921"
             ]
            ],
            "type": "heatmapgl"
           }
          ],
          "histogram": [
           {
            "marker": {
             "pattern": {
              "fillmode": "overlay",
              "size": 10,
              "solidity": 0.2
             }
            },
            "type": "histogram"
           }
          ],
          "histogram2d": [
           {
            "colorbar": {
             "outlinewidth": 0,
             "ticks": ""
            },
            "colorscale": [
             [
              0,
              "#0d0887"
             ],
             [
              0.1111111111111111,
              "#46039f"
             ],
             [
              0.2222222222222222,
              "#7201a8"
             ],
             [
              0.3333333333333333,
              "#9c179e"
             ],
             [
              0.4444444444444444,
              "#bd3786"
             ],
             [
              0.5555555555555556,
              "#d8576b"
             ],
             [
              0.6666666666666666,
              "#ed7953"
             ],
             [
              0.7777777777777778,
              "#fb9f3a"
             ],
             [
              0.8888888888888888,
              "#fdca26"
             ],
             [
              1,
              "#f0f921"
             ]
            ],
            "type": "histogram2d"
           }
          ],
          "histogram2dcontour": [
           {
            "colorbar": {
             "outlinewidth": 0,
             "ticks": ""
            },
            "colorscale": [
             [
              0,
              "#0d0887"
             ],
             [
              0.1111111111111111,
              "#46039f"
             ],
             [
              0.2222222222222222,
              "#7201a8"
             ],
             [
              0.3333333333333333,
              "#9c179e"
             ],
             [
              0.4444444444444444,
              "#bd3786"
             ],
             [
              0.5555555555555556,
              "#d8576b"
             ],
             [
              0.6666666666666666,
              "#ed7953"
             ],
             [
              0.7777777777777778,
              "#fb9f3a"
             ],
             [
              0.8888888888888888,
              "#fdca26"
             ],
             [
              1,
              "#f0f921"
             ]
            ],
            "type": "histogram2dcontour"
           }
          ],
          "mesh3d": [
           {
            "colorbar": {
             "outlinewidth": 0,
             "ticks": ""
            },
            "type": "mesh3d"
           }
          ],
          "parcoords": [
           {
            "line": {
             "colorbar": {
              "outlinewidth": 0,
              "ticks": ""
             }
            },
            "type": "parcoords"
           }
          ],
          "pie": [
           {
            "automargin": true,
            "type": "pie"
           }
          ],
          "scatter": [
           {
            "fillpattern": {
             "fillmode": "overlay",
             "size": 10,
             "solidity": 0.2
            },
            "type": "scatter"
           }
          ],
          "scatter3d": [
           {
            "line": {
             "colorbar": {
              "outlinewidth": 0,
              "ticks": ""
             }
            },
            "marker": {
             "colorbar": {
              "outlinewidth": 0,
              "ticks": ""
             }
            },
            "type": "scatter3d"
           }
          ],
          "scattercarpet": [
           {
            "marker": {
             "colorbar": {
              "outlinewidth": 0,
              "ticks": ""
             }
            },
            "type": "scattercarpet"
           }
          ],
          "scattergeo": [
           {
            "marker": {
             "colorbar": {
              "outlinewidth": 0,
              "ticks": ""
             }
            },
            "type": "scattergeo"
           }
          ],
          "scattergl": [
           {
            "marker": {
             "colorbar": {
              "outlinewidth": 0,
              "ticks": ""
             }
            },
            "type": "scattergl"
           }
          ],
          "scattermapbox": [
           {
            "marker": {
             "colorbar": {
              "outlinewidth": 0,
              "ticks": ""
             }
            },
            "type": "scattermapbox"
           }
          ],
          "scatterpolar": [
           {
            "marker": {
             "colorbar": {
              "outlinewidth": 0,
              "ticks": ""
             }
            },
            "type": "scatterpolar"
           }
          ],
          "scatterpolargl": [
           {
            "marker": {
             "colorbar": {
              "outlinewidth": 0,
              "ticks": ""
             }
            },
            "type": "scatterpolargl"
           }
          ],
          "scatterternary": [
           {
            "marker": {
             "colorbar": {
              "outlinewidth": 0,
              "ticks": ""
             }
            },
            "type": "scatterternary"
           }
          ],
          "surface": [
           {
            "colorbar": {
             "outlinewidth": 0,
             "ticks": ""
            },
            "colorscale": [
             [
              0,
              "#0d0887"
             ],
             [
              0.1111111111111111,
              "#46039f"
             ],
             [
              0.2222222222222222,
              "#7201a8"
             ],
             [
              0.3333333333333333,
              "#9c179e"
             ],
             [
              0.4444444444444444,
              "#bd3786"
             ],
             [
              0.5555555555555556,
              "#d8576b"
             ],
             [
              0.6666666666666666,
              "#ed7953"
             ],
             [
              0.7777777777777778,
              "#fb9f3a"
             ],
             [
              0.8888888888888888,
              "#fdca26"
             ],
             [
              1,
              "#f0f921"
             ]
            ],
            "type": "surface"
           }
          ],
          "table": [
           {
            "cells": {
             "fill": {
              "color": "#EBF0F8"
             },
             "line": {
              "color": "white"
             }
            },
            "header": {
             "fill": {
              "color": "#C8D4E3"
             },
             "line": {
              "color": "white"
             }
            },
            "type": "table"
           }
          ]
         },
         "layout": {
          "annotationdefaults": {
           "arrowcolor": "#2a3f5f",
           "arrowhead": 0,
           "arrowwidth": 1
          },
          "autotypenumbers": "strict",
          "coloraxis": {
           "colorbar": {
            "outlinewidth": 0,
            "ticks": ""
           }
          },
          "colorscale": {
           "diverging": [
            [
             0,
             "#8e0152"
            ],
            [
             0.1,
             "#c51b7d"
            ],
            [
             0.2,
             "#de77ae"
            ],
            [
             0.3,
             "#f1b6da"
            ],
            [
             0.4,
             "#fde0ef"
            ],
            [
             0.5,
             "#f7f7f7"
            ],
            [
             0.6,
             "#e6f5d0"
            ],
            [
             0.7,
             "#b8e186"
            ],
            [
             0.8,
             "#7fbc41"
            ],
            [
             0.9,
             "#4d9221"
            ],
            [
             1,
             "#276419"
            ]
           ],
           "sequential": [
            [
             0,
             "#0d0887"
            ],
            [
             0.1111111111111111,
             "#46039f"
            ],
            [
             0.2222222222222222,
             "#7201a8"
            ],
            [
             0.3333333333333333,
             "#9c179e"
            ],
            [
             0.4444444444444444,
             "#bd3786"
            ],
            [
             0.5555555555555556,
             "#d8576b"
            ],
            [
             0.6666666666666666,
             "#ed7953"
            ],
            [
             0.7777777777777778,
             "#fb9f3a"
            ],
            [
             0.8888888888888888,
             "#fdca26"
            ],
            [
             1,
             "#f0f921"
            ]
           ],
           "sequentialminus": [
            [
             0,
             "#0d0887"
            ],
            [
             0.1111111111111111,
             "#46039f"
            ],
            [
             0.2222222222222222,
             "#7201a8"
            ],
            [
             0.3333333333333333,
             "#9c179e"
            ],
            [
             0.4444444444444444,
             "#bd3786"
            ],
            [
             0.5555555555555556,
             "#d8576b"
            ],
            [
             0.6666666666666666,
             "#ed7953"
            ],
            [
             0.7777777777777778,
             "#fb9f3a"
            ],
            [
             0.8888888888888888,
             "#fdca26"
            ],
            [
             1,
             "#f0f921"
            ]
           ]
          },
          "colorway": [
           "#636efa",
           "#EF553B",
           "#00cc96",
           "#ab63fa",
           "#FFA15A",
           "#19d3f3",
           "#FF6692",
           "#B6E880",
           "#FF97FF",
           "#FECB52"
          ],
          "font": {
           "color": "#2a3f5f"
          },
          "geo": {
           "bgcolor": "white",
           "lakecolor": "white",
           "landcolor": "#E5ECF6",
           "showlakes": true,
           "showland": true,
           "subunitcolor": "white"
          },
          "hoverlabel": {
           "align": "left"
          },
          "hovermode": "closest",
          "mapbox": {
           "style": "light"
          },
          "paper_bgcolor": "white",
          "plot_bgcolor": "#E5ECF6",
          "polar": {
           "angularaxis": {
            "gridcolor": "white",
            "linecolor": "white",
            "ticks": ""
           },
           "bgcolor": "#E5ECF6",
           "radialaxis": {
            "gridcolor": "white",
            "linecolor": "white",
            "ticks": ""
           }
          },
          "scene": {
           "xaxis": {
            "backgroundcolor": "#E5ECF6",
            "gridcolor": "white",
            "gridwidth": 2,
            "linecolor": "white",
            "showbackground": true,
            "ticks": "",
            "zerolinecolor": "white"
           },
           "yaxis": {
            "backgroundcolor": "#E5ECF6",
            "gridcolor": "white",
            "gridwidth": 2,
            "linecolor": "white",
            "showbackground": true,
            "ticks": "",
            "zerolinecolor": "white"
           },
           "zaxis": {
            "backgroundcolor": "#E5ECF6",
            "gridcolor": "white",
            "gridwidth": 2,
            "linecolor": "white",
            "showbackground": true,
            "ticks": "",
            "zerolinecolor": "white"
           }
          },
          "shapedefaults": {
           "line": {
            "color": "#2a3f5f"
           }
          },
          "ternary": {
           "aaxis": {
            "gridcolor": "white",
            "linecolor": "white",
            "ticks": ""
           },
           "baxis": {
            "gridcolor": "white",
            "linecolor": "white",
            "ticks": ""
           },
           "bgcolor": "#E5ECF6",
           "caxis": {
            "gridcolor": "white",
            "linecolor": "white",
            "ticks": ""
           }
          },
          "title": {
           "x": 0.05
          },
          "xaxis": {
           "automargin": true,
           "gridcolor": "white",
           "linecolor": "white",
           "ticks": "",
           "title": {
            "standoff": 15
           },
           "zerolinecolor": "white",
           "zerolinewidth": 2
          },
          "yaxis": {
           "automargin": true,
           "gridcolor": "white",
           "linecolor": "white",
           "ticks": "",
           "title": {
            "standoff": 15
           },
           "zerolinecolor": "white",
           "zerolinewidth": 2
          }
         }
        },
        "xaxis": {
         "anchor": "y",
         "constrain": "domain",
         "domain": [
          0,
          1
         ],
         "scaleanchor": "y"
        },
        "yaxis": {
         "anchor": "x",
         "autorange": "reversed",
         "constrain": "domain",
         "domain": [
          0,
          1
         ]
        }
       }
      }
     },
     "metadata": {},
     "output_type": "display_data"
    }
   ],
   "source": [
    "warehouse_heatmap = px.imshow(warehouse.layout_grid[:,:,0])\n",
    "warehouse_heatmap"
   ]
  },
  {
   "cell_type": "code",
   "execution_count": null,
   "metadata": {},
   "outputs": [],
   "source": []
  }
 ],
 "metadata": {
  "kernelspec": {
   "display_name": "Python 3",
   "language": "python",
   "name": "python3"
  },
  "language_info": {
   "codemirror_mode": {
    "name": "ipython",
    "version": 3
   },
   "file_extension": ".py",
   "mimetype": "text/x-python",
   "name": "python",
   "nbconvert_exporter": "python",
   "pygments_lexer": "ipython3",
   "version": "3.11.9"
  },
  "orig_nbformat": 4
 },
 "nbformat": 4,
 "nbformat_minor": 2
}
