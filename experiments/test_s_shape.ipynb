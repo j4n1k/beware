{
 "cells": [
  {
   "cell_type": "code",
   "metadata": {
    "ExecuteTime": {
     "end_time": "2024-07-19T17:41:45.006824Z",
     "start_time": "2024-07-19T17:41:45.000757Z"
    }
   },
   "source": [
    "import os \n",
    "import random\n",
    "import pickle\n",
    "from copy import deepcopy\n",
    "\n",
    "import networkx as nx \n",
    "import plotly.graph_objects as go\n",
    "import plotly.express as px\n",
    "import matplotlib.pyplot as plt\n",
    "import numpy as np\n",
    "import pyomo as pyo\n",
    "import highspy \n",
    "import pandas as pd\n",
    "from pulp import *\n",
    "from warehouse_model.layout import Layout\n",
    "from warehouse_model.simulation import Order, OrderPickEvent, run_simulation, Agent, s_shape\n",
    "import datetime\n",
    "from warehouse_model.simulation import sim_loop\n",
    "from warehouse_model.graph_tools import viz_graph\n",
    "from utils import render_warehouse, calc_product_freq\n",
    "from data.instance_loader import InstanceLoader"
   ],
   "outputs": [],
   "execution_count": 9
  },
  {
   "cell_type": "code",
   "metadata": {
    "ExecuteTime": {
     "end_time": "2024-07-19T17:41:45.341860Z",
     "start_time": "2024-07-19T17:41:45.337364Z"
    }
   },
   "source": [
    "def gen_pos(G: nx.Graph):\n",
    "    pos_dict = {}\n",
    "    for node in G.nodes():\n",
    "        pos_dict[node] = np.array([node[0], node[1], node[2]])\n",
    "    return pos_dict"
   ],
   "outputs": [],
   "execution_count": 10
  },
  {
   "metadata": {
    "ExecuteTime": {
     "end_time": "2024-07-19T17:41:45.484423Z",
     "start_time": "2024-07-19T17:41:45.480192Z"
    }
   },
   "cell_type": "code",
   "source": "h = highspy.Highs()",
   "outputs": [],
   "execution_count": 11
  },
  {
   "metadata": {
    "ExecuteTime": {
     "end_time": "2024-07-19T17:41:45.540243Z",
     "start_time": "2024-07-19T17:41:45.523482Z"
    }
   },
   "cell_type": "code",
   "source": [
    "instance = InstanceLoader()\n",
    "instance.load_instance()"
   ],
   "outputs": [],
   "execution_count": 12
  },
  {
   "metadata": {
    "ExecuteTime": {
     "end_time": "2024-07-19T17:41:45.590178Z",
     "start_time": "2024-07-19T17:41:45.582002Z"
    }
   },
   "cell_type": "code",
   "source": "instance.orders[0]",
   "outputs": [
    {
     "data": {
      "text/plain": [
       "[[0, 1], [1, 1]]"
      ]
     },
     "execution_count": 13,
     "metadata": {},
     "output_type": "execute_result"
    }
   ],
   "execution_count": 13
  },
  {
   "metadata": {
    "ExecuteTime": {
     "end_time": "2024-07-19T17:41:45.631307Z",
     "start_time": "2024-07-19T17:41:45.625664Z"
    }
   },
   "cell_type": "code",
   "source": "instance.skus[instance.orders[0][0][0]]",
   "outputs": [
    {
     "data": {
      "text/plain": [
       "{'aisle': 0, 'cell': 1, 'quantity': 1, 'side': 'left'}"
      ]
     },
     "execution_count": 14,
     "metadata": {},
     "output_type": "execute_result"
    }
   ],
   "execution_count": 14
  },
  {
   "metadata": {
    "ExecuteTime": {
     "end_time": "2024-07-19T17:41:45.716452Z",
     "start_time": "2024-07-19T17:41:45.710824Z"
    }
   },
   "cell_type": "code",
   "source": "instance.general_info",
   "outputs": [
    {
     "data": {
      "text/plain": [
       "{'NAME': 'Pr_20_1_20_Store1_01.txt',\n",
       " 'TYPE': 'Order_batching',\n",
       " 'COMMENT': 'Bahï¿½eci and ï¿½ncan (2021)',\n",
       " 'PICKER_CAPACITY': '20',\n",
       " 'LAYOUT': 'single-block',\n",
       " 'NUM_AISLES': '10',\n",
       " 'NUM_CELLS': '10',\n",
       " 'DEPOT_AISLE': '0',\n",
       " 'DEPOT_LOCATION': 'bottom',\n",
       " 'DISTANCE_AISLE_TO_AISLE': '2.4',\n",
       " 'DISTANCE_CELL_TO_CELL': '1',\n",
       " 'DISTANCE_TOP_TO_CELL': '1',\n",
       " 'DISTANCE_BOTTOM_TO_CELL': '1',\n",
       " 'DISTANCE_TOP_OR_BOTTOM_TO_DEPOT': '0'}"
      ]
     },
     "execution_count": 15,
     "metadata": {},
     "output_type": "execute_result"
    }
   ],
   "execution_count": 15
  },
  {
   "metadata": {
    "ExecuteTime": {
     "end_time": "2024-07-19T17:41:45.782457Z",
     "start_time": "2024-07-19T17:41:45.773934Z"
    }
   },
   "cell_type": "code",
   "source": [
    "layout_info = instance.general_info\n",
    "aisles = int(layout_info[\"NUM_AISLES\"])\n",
    "locations = int(layout_info[\"NUM_CELLS\"])\n",
    "inter_cell_dist = float(layout_info[\"DISTANCE_CELL_TO_CELL\"])\n",
    "inter_aisle_dist = float(layout_info[\"DISTANCE_AISLE_TO_AISLE\"])\n",
    "G = nx.Graph()\n",
    "G.add_node((0,0,0)) #depot\n",
    "G.add_node((1,1,0)) #first aisle\n",
    "G.add_node((1,2+locations,0)) #first aisle\n",
    "last_mid = (1,1,0)\n",
    "for l in range(locations):\n",
    "    location_left= (0, l+2, 0)\n",
    "    location_right = (2, l+2, 0)\n",
    "    location_mid = (1, l+2, 0)\n",
    "\n",
    "    G.add_node(location_left)\n",
    "    G.add_node(location_right)\n",
    "    G.add_node(location_mid)\n",
    "\n",
    "    G.add_edge(location_left, location_mid, weight=1)\n",
    "    G.add_edge(location_right, location_mid, weight=1)\n",
    "\n",
    "    G.add_edge(last_mid, location_mid, weight=1)\n",
    "    last_mid = location_mid\n",
    "G.add_edge(last_mid, (1,2+locations,0), weight=1)\n",
    "    \n",
    "start = 1\n",
    "last_aisle_start = (1,1,0)\n",
    "last_aisle_end = (1,2+locations,0)\n",
    "for a in range(aisles-1):\n",
    "    start += 3\n",
    "    aisle_start = (start, 1, 0)\n",
    "    aisle_end = (start, 2+locations, 0)\n",
    "    G.add_node(aisle_start)\n",
    "    G.add_node(aisle_end)\n",
    "    # if a > 0:\n",
    "    last_mid = aisle_start\n",
    "    for l in range(locations):\n",
    "        location_left = (start-1, l+2, 0)\n",
    "        location_right = (start+1, l+2, 0)\n",
    "        location_mid = (start, l+2, 0)\n",
    "\n",
    "        G.add_node(location_left)\n",
    "        G.add_node(location_right)\n",
    "        G.add_node(location_mid)\n",
    "\n",
    "        G.add_edge(location_left, location_mid, weight=1)\n",
    "        G.add_edge(location_right, location_mid, weight=1)\n",
    "\n",
    "        G.add_edge(last_mid, location_mid, weight=1)\n",
    "        last_mid = location_mid\n",
    "\n",
    "    G.add_edge(last_mid, aisle_end, weight=1)\n",
    "\n",
    "    #G.add_edge(aisle_start, aisle_end, weight=(locations+1)*inter_cell_dist)\n",
    "    G.add_edge(last_aisle_start, aisle_start, weight=inter_aisle_dist)\n",
    "    G.add_edge(last_aisle_end, aisle_end, weight=inter_aisle_dist)\n",
    "    last_aisle_start = aisle_start\n",
    "    last_aisle_end = aisle_end\n",
    "\n"
   ],
   "outputs": [],
   "execution_count": 16
  },
  {
   "metadata": {
    "ExecuteTime": {
     "end_time": "2024-07-19T17:41:45.857962Z",
     "start_time": "2024-07-19T17:41:45.850301Z"
    }
   },
   "cell_type": "code",
   "source": [
    "aisles = 4\n",
    "locations = 5\n",
    "inter_cell_dist = 1\n",
    "inter_aisle_dist = 3\n",
    "G = nx.Graph()\n",
    "#G.add_node((0,0,0)) #depot\n",
    "G.add_node((1,1,0)) #first aisle\n",
    "G.add_node((1,2+locations,0)) #first aisle\n",
    "last_mid = (1,1,0)\n",
    "for l in range(locations):\n",
    "    #location_left= (0, l+2, 0)\n",
    "    #location_right = (2, l+2, 0)\n",
    "    location_mid = (1, l+2, 0)\n",
    "\n",
    "    #G.add_node(location_left)\n",
    "    #G.add_node(location_right)\n",
    "    G.add_node(location_mid)\n",
    "\n",
    "    # G.add_edge(location_left, location_mid, weight=1)\n",
    "    # G.add_edge(location_right, location_mid, weight=1)\n",
    "\n",
    "    G.add_edge(last_mid, location_mid, weight=1)\n",
    "    last_mid = location_mid\n",
    "G.add_edge(last_mid, (1,2+locations,0), weight=1)\n",
    "    \n",
    "start = 1\n",
    "last_aisle_start = (1,1,0)\n",
    "last_aisle_end = (1,2+locations,0)\n",
    "for a in range(aisles-1):\n",
    "    start += 3\n",
    "    aisle_start = (start, 1, 0)\n",
    "    aisle_end = (start, 2+locations, 0)\n",
    "    G.add_node(aisle_start)\n",
    "    G.add_node(aisle_end)\n",
    "    # if a > 0:\n",
    "    last_mid = aisle_start\n",
    "    for l in range(locations):\n",
    "        # location_left = (start-1, l+2, 0)\n",
    "        # location_right = (start+1, l+2, 0)\n",
    "        location_mid = (start, l+2, 0)\n",
    "\n",
    "        # G.add_node(location_left)\n",
    "        # G.add_node(location_right)\n",
    "        G.add_node(location_mid)\n",
    "\n",
    "        # G.add_edge(location_left, location_mid, weight=1)\n",
    "        # G.add_edge(location_right, location_mid, weight=1)\n",
    "\n",
    "        G.add_edge(last_mid, location_mid, weight=1)\n",
    "        last_mid = location_mid\n",
    "\n",
    "    G.add_edge(last_mid, aisle_end, weight=1)\n",
    "\n",
    "    #G.add_edge(aisle_start, aisle_end, weight=(locations+1)*inter_cell_dist)\n",
    "    G.add_edge(last_aisle_start, aisle_start, weight=inter_aisle_dist)\n",
    "    G.add_edge(last_aisle_end, aisle_end, weight=inter_aisle_dist)\n",
    "    last_aisle_start = aisle_start\n",
    "    last_aisle_end = aisle_end\n",
    "\n"
   ],
   "outputs": [],
   "execution_count": 17
  },
  {
   "metadata": {
    "ExecuteTime": {
     "end_time": "2024-07-19T17:41:45.902048Z",
     "start_time": "2024-07-19T17:41:45.897513Z"
    }
   },
   "cell_type": "code",
   "source": "layout_info",
   "outputs": [
    {
     "data": {
      "text/plain": [
       "{'NAME': 'Pr_20_1_20_Store1_01.txt',\n",
       " 'TYPE': 'Order_batching',\n",
       " 'COMMENT': 'Bahï¿½eci and ï¿½ncan (2021)',\n",
       " 'PICKER_CAPACITY': '20',\n",
       " 'LAYOUT': 'single-block',\n",
       " 'NUM_AISLES': '10',\n",
       " 'NUM_CELLS': '10',\n",
       " 'DEPOT_AISLE': '0',\n",
       " 'DEPOT_LOCATION': 'bottom',\n",
       " 'DISTANCE_AISLE_TO_AISLE': '2.4',\n",
       " 'DISTANCE_CELL_TO_CELL': '1',\n",
       " 'DISTANCE_TOP_TO_CELL': '1',\n",
       " 'DISTANCE_BOTTOM_TO_CELL': '1',\n",
       " 'DISTANCE_TOP_OR_BOTTOM_TO_DEPOT': '0'}"
      ]
     },
     "execution_count": 18,
     "metadata": {},
     "output_type": "execute_result"
    }
   ],
   "execution_count": 18
  },
  {
   "metadata": {
    "ExecuteTime": {
     "end_time": "2024-07-19T17:41:45.944729Z",
     "start_time": "2024-07-19T17:41:45.938221Z"
    }
   },
   "cell_type": "code",
   "source": [
    "layout_info = instance.general_info\n",
    "aisles = int(layout_info[\"NUM_AISLES\"])\n",
    "locations = int(layout_info[\"NUM_CELLS\"])\n",
    "inter_cell_dist = float(layout_info[\"DISTANCE_CELL_TO_CELL\"])\n",
    "inter_aisle_dist = float(layout_info[\"DISTANCE_AISLE_TO_AISLE\"])\n",
    "G = nx.Graph()\n",
    "#depot=(int(layout_info[\"DEPOT_AISLE\"]),0,0)\n",
    "#G.add_node(depot) #depot\n",
    "    \n",
    "start = 0\n",
    "last_aisle_start = (start,0,0)\n",
    "last_aisle_end = (start,locations-1,0)\n",
    "#G.add_edge(depot, (7, 1, 0), weight=1.5)\n",
    "for a in range(aisles):\n",
    "    aisle_start = (start, 0, 0)\n",
    "    aisle_end = (start, locations-1, 0)\n",
    "    G.add_node(aisle_start)\n",
    "    G.add_node(aisle_end)\n",
    "    # if a > 0:\n",
    "    last_mid = aisle_start\n",
    "    for l in range(locations):\n",
    "        # location_left = (start-1, l+2, 0)\n",
    "        # location_right = (start+1, l+2, 0)\n",
    "        location_mid = (start, l, 0)\n",
    "\n",
    "        # G.add_node(location_left)\n",
    "        # G.add_node(location_right)\n",
    "        G.add_node(location_mid)\n",
    "\n",
    "        # G.add_edge(location_left, location_mid, weight=1)\n",
    "        # G.add_edge(location_right, location_mid, weight=1)\n",
    "\n",
    "        G.add_edge(last_mid, location_mid, weight=inter_cell_dist)\n",
    "        last_mid = location_mid\n",
    "\n",
    "    G.add_edge(last_mid, aisle_end, weight=1)\n",
    "\n",
    "    G.add_edge(last_aisle_start, aisle_start, weight=inter_aisle_dist)\n",
    "    G.add_edge(last_aisle_end, aisle_end, weight=inter_aisle_dist)\n",
    "    last_aisle_start = aisle_start\n",
    "    last_aisle_end = aisle_end\n",
    "    start += 3"
   ],
   "outputs": [],
   "execution_count": 19
  },
  {
   "metadata": {
    "ExecuteTime": {
     "end_time": "2024-07-19T17:41:46.040796Z",
     "start_time": "2024-07-19T17:41:46.036805Z"
    }
   },
   "cell_type": "code",
   "source": "pos_dict = gen_pos(G)",
   "outputs": [],
   "execution_count": 20
  },
  {
   "metadata": {
    "ExecuteTime": {
     "end_time": "2024-07-19T17:41:46.388088Z",
     "start_time": "2024-07-19T17:41:46.116047Z"
    }
   },
   "cell_type": "code",
   "source": "viz_graph(G, pos_dict)",
   "outputs": [
    {
     "data": {
      "text/plain": [
       "<Figure size 640x480 with 1 Axes>"
      ],
      "image/png": "[encoded data removed]"
     },
     "metadata": {},
     "output_type": "display_data"
    }
   ],
   "execution_count": 21
  },
  {
   "metadata": {
    "ExecuteTime": {
     "end_time": "2024-07-19T17:41:46.395918Z",
     "start_time": "2024-07-19T17:41:46.389475Z"
    }
   },
   "cell_type": "code",
   "source": "layout_info",
   "outputs": [
    {
     "data": {
      "text/plain": [
       "{'NAME': 'Pr_20_1_20_Store1_01.txt',\n",
       " 'TYPE': 'Order_batching',\n",
       " 'COMMENT': 'Bahï¿½eci and ï¿½ncan (2021)',\n",
       " 'PICKER_CAPACITY': '20',\n",
       " 'LAYOUT': 'single-block',\n",
       " 'NUM_AISLES': '10',\n",
       " 'NUM_CELLS': '10',\n",
       " 'DEPOT_AISLE': '0',\n",
       " 'DEPOT_LOCATION': 'bottom',\n",
       " 'DISTANCE_AISLE_TO_AISLE': '2.4',\n",
       " 'DISTANCE_CELL_TO_CELL': '1',\n",
       " 'DISTANCE_TOP_TO_CELL': '1',\n",
       " 'DISTANCE_BOTTOM_TO_CELL': '1',\n",
       " 'DISTANCE_TOP_OR_BOTTOM_TO_DEPOT': '0'}"
      ]
     },
     "execution_count": 22,
     "metadata": {},
     "output_type": "execute_result"
    }
   ],
   "execution_count": 22
  },
  {
   "metadata": {
    "ExecuteTime": {
     "end_time": "2024-07-19T17:41:46.402924Z",
     "start_time": "2024-07-19T17:41:46.397334Z"
    }
   },
   "cell_type": "code",
   "source": "len(instance.orders)",
   "outputs": [
    {
     "data": {
      "text/plain": [
       "8"
      ]
     },
     "execution_count": 23,
     "metadata": {},
     "output_type": "execute_result"
    }
   ],
   "execution_count": 23
  },
  {
   "metadata": {
    "ExecuteTime": {
     "end_time": "2024-07-19T17:41:46.409593Z",
     "start_time": "2024-07-19T17:41:46.403939Z"
    }
   },
   "cell_type": "code",
   "source": "instance.articles",
   "outputs": [
    {
     "data": {
      "text/plain": [
       "{0: {'weight': 1},\n",
       " 1: {'weight': 1},\n",
       " 2: {'weight': 1},\n",
       " 3: {'weight': 1},\n",
       " 4: {'weight': 1},\n",
       " 5: {'weight': 1},\n",
       " 6: {'weight': 1},\n",
       " 7: {'weight': 1},\n",
       " 8: {'weight': 1},\n",
       " 9: {'weight': 1},\n",
       " 10: {'weight': 1},\n",
       " 11: {'weight': 1},\n",
       " 12: {'weight': 1},\n",
       " 13: {'weight': 1},\n",
       " 14: {'weight': 1},\n",
       " 15: {'weight': 1},\n",
       " 16: {'weight': 1},\n",
       " 17: {'weight': 1}}"
      ]
     },
     "execution_count": 24,
     "metadata": {},
     "output_type": "execute_result"
    }
   ],
   "execution_count": 24
  },
  {
   "metadata": {
    "ExecuteTime": {
     "end_time": "2024-07-19T17:41:46.415797Z",
     "start_time": "2024-07-19T17:41:46.410811Z"
    }
   },
   "cell_type": "code",
   "source": [
    "product_frequency = {i: 0 for i in instance.articles}\n",
    "for order in instance.orders:\n",
    "    print(order)\n",
    "    for orderline in order:\n",
    "        product_frequency[orderline[0]] += 1"
   ],
   "outputs": [
    {
     "name": "stdout",
     "output_type": "stream",
     "text": [
      "[[0, 1], [1, 1]]\n",
      "[[2, 1], [3, 1], [4, 1]]\n",
      "[[5, 1], [6, 1]]\n",
      "[[7, 1], [8, 1], [9, 1]]\n",
      "[[10, 1], [11, 1]]\n",
      "[[12, 1], [13, 1], [14, 1]]\n",
      "[[15, 1], [11, 1]]\n",
      "[[16, 1], [17, 2]]\n"
     ]
    }
   ],
   "execution_count": 25
  },
  {
   "metadata": {
    "ExecuteTime": {
     "end_time": "2024-07-19T17:41:46.422632Z",
     "start_time": "2024-07-19T17:41:46.417299Z"
    }
   },
   "cell_type": "code",
   "source": [
    "from collections import defaultdict\n",
    "\n",
    "product_pairs_frequency = defaultdict(lambda: defaultdict(int))\n",
    "\n",
    "# Iterate through each order list\n",
    "for order in instance.orders:\n",
    "    # Generate all possible pairs of products in the order\n",
    "    for i in range(len(order)):\n",
    "        for j in range(i + 1, len(order)):\n",
    "            product_pairs_frequency[order[i][0]][order[j][0]] += 1\n",
    "            product_pairs_frequency[order[j][0]][order[i][0]] += 1"
   ],
   "outputs": [],
   "execution_count": 26
  },
  {
   "metadata": {
    "ExecuteTime": {
     "end_time": "2024-07-19T17:41:46.434179Z",
     "start_time": "2024-07-19T17:41:46.424640Z"
    }
   },
   "cell_type": "code",
   "source": "product_pairs_frequency",
   "outputs": [
    {
     "data": {
      "text/plain": [
       "defaultdict(<function __main__.<lambda>()>,\n",
       "            {0: defaultdict(int, {1: 1}),\n",
       "             1: defaultdict(int, {0: 1}),\n",
       "             2: defaultdict(int, {3: 1, 4: 1}),\n",
       "             3: defaultdict(int, {2: 1, 4: 1}),\n",
       "             4: defaultdict(int, {2: 1, 3: 1}),\n",
       "             5: defaultdict(int, {6: 1}),\n",
       "             6: defaultdict(int, {5: 1}),\n",
       "             7: defaultdict(int, {8: 1, 9: 1}),\n",
       "             8: defaultdict(int, {7: 1, 9: 1}),\n",
       "             9: defaultdict(int, {7: 1, 8: 1}),\n",
       "             10: defaultdict(int, {11: 1}),\n",
       "             11: defaultdict(int, {10: 1, 15: 1}),\n",
       "             12: defaultdict(int, {13: 1, 14: 1}),\n",
       "             13: defaultdict(int, {12: 1, 14: 1}),\n",
       "             14: defaultdict(int, {12: 1, 13: 1}),\n",
       "             15: defaultdict(int, {11: 1}),\n",
       "             16: defaultdict(int, {17: 1}),\n",
       "             17: defaultdict(int, {16: 1})})"
      ]
     },
     "execution_count": 27,
     "metadata": {},
     "output_type": "execute_result"
    }
   ],
   "execution_count": 27
  },
  {
   "metadata": {
    "ExecuteTime": {
     "end_time": "2024-07-19T17:41:46.440565Z",
     "start_time": "2024-07-19T17:41:46.435188Z"
    }
   },
   "cell_type": "code",
   "source": "product_pairs_frequency[0][0]",
   "outputs": [
    {
     "data": {
      "text/plain": [
       "0"
      ]
     },
     "execution_count": 28,
     "metadata": {},
     "output_type": "execute_result"
    }
   ],
   "execution_count": 28
  },
  {
   "metadata": {
    "ExecuteTime": {
     "end_time": "2024-07-19T17:41:46.449084Z",
     "start_time": "2024-07-19T17:41:46.442574Z"
    }
   },
   "cell_type": "code",
   "source": [
    "product_pairs_frequency = {}\n",
    "\n",
    "# Collect all unique products\n",
    "unique_products = set()\n",
    "for order in instance.orders:\n",
    "    for product in order:\n",
    "        unique_products.add(product[0])\n",
    "\n",
    "# Initialize all possible pairs with zero, including self-pairs\n",
    "for product1 in unique_products:\n",
    "    product_pairs_frequency[product1] = {}\n",
    "    for product2 in unique_products:\n",
    "        product_pairs_frequency[product1][product2] = 0\n",
    "\n",
    "# Iterate through each order list\n",
    "for order in instance.orders:\n",
    "    # Generate all possible pairs of products in the order, including self-pairs\n",
    "    for i in range(len(order)):\n",
    "        for j in range(i, len(order)):\n",
    "            product1, product2 = order[i][0], order[j][0]\n",
    "\n",
    "            # Update the frequency for product1 -> product2\n",
    "            product_pairs_frequency[product1][product2] += 1\n",
    "            if product1 != product2:\n",
    "                # Update the frequency for product2 -> product1, but only if they are different\n",
    "                product_pairs_frequency[product2][product1] += 1"
   ],
   "outputs": [],
   "execution_count": 29
  },
  {
   "metadata": {
    "ExecuteTime": {
     "end_time": "2024-07-19T17:41:47.454230Z",
     "start_time": "2024-07-19T17:41:46.535726Z"
    }
   },
   "cell_type": "code",
   "source": [
    "import pyomo.environ as pyo\n",
    "\n",
    "# Create a model\n",
    "model = pyo.ConcreteModel()\n",
    "n_orders = len(instance.orders)\n",
    "max_batches = 11\n",
    "# Define the set of values\n",
    "model.orders = pyo.RangeSet(1, n_orders)\n",
    "model.batches = pyo.RangeSet(1, max_batches)\n",
    "model.tours = pyo.RangeSet(1, max_batches)\n",
    "  \n",
    "# Parameter a, read from the file 'a.txt'\n",
    "# Assuming 'a.txt' contains one value per line for a[1] to a[11]\n",
    "with open('a.txt') as f:\n",
    "    a_values = [float(line.strip()) for line in f]\n",
    "\n",
    "# Capacities, assuming each batch has the same capacity of 10\n",
    "capacities = [10 for _ in range(max_batches)] \n",
    "\n",
    "# Initialize parameter a\n",
    "model.order_weight = pyo.Param(model.orders, initialize=dict(enumerate(a_values, start=1)))\n",
    "model.capacities = pyo.Param(model.batches, initialize=dict(enumerate(capacities, start=1)))\n",
    "\n",
    "# Binary variable x -> order i in batch j?\n",
    "model.x = pyo.Var(model.orders, model.batches, domain=pyo.Binary)\n",
    "\n",
    "# Binary variable y -> batch j used?\n",
    "model.y = pyo.Var(model.batches, domain=pyo.Binary) \n",
    "\n",
    "# Binary variable y -> tour k used?\n",
    "#model.z = pyo.Var(model.tours, domain=pyo.Binary)\n",
    "\n",
    "# Binary variable tour -> order i in tour k?\n",
    "#model.tour = pyo.Var(model.orders, model.tours, domain=pyo.Binary)\n",
    "\n",
    "# Objective: Minimize the number of batches used\n",
    "def objective(model):\n",
    "    return pyo.summation(model.y) \n",
    "\n",
    "model.objective = pyo.Objective(rule=objective, sense=pyo.minimize)\n",
    "\n",
    "# Constraint: Each order assigned to exactly one batch\n",
    "def constraint_one_batch_max(model, order):\n",
    "    return sum(model.x[order, batch] for batch in model.batches) == 1\n",
    "\n",
    "model.constraint_one_batch_max = pyo.Constraint(model.orders, rule=constraint_one_batch_max)\n",
    "\n",
    "# Constraint: Batch capacity not exceeded\n",
    "def constraint_capacity(model, batch):\n",
    "    return sum(model.x[order, batch] * model.order_weight[order] for order in model.orders) <= model.capacities[batch] * model.y[batch]\n",
    "\n",
    "model.constraint_capacity = pyo.Constraint(model.batches, rule=constraint_capacity)\n",
    "\n",
    "# Constraint: Orders assigned to one tour\n",
    "# def constraint_one_tour_max(model, order):\n",
    "#     return sum(model.tour[order, tour] for tour in model.batches) == 1\n",
    "\n",
    "# model.constraint_one_tour_max = pyo.Constraint(model.orders, rule=constraint_one_tour_max)"
   ],
   "outputs": [
    {
     "ename": "FileNotFoundError",
     "evalue": "[Errno 2] No such file or directory: 'a.txt'",
     "output_type": "error",
     "traceback": [
      "\u001B[1;31m---------------------------------------------------------------------------\u001B[0m",
      "\u001B[1;31mFileNotFoundError\u001B[0m                         Traceback (most recent call last)",
      "Cell \u001B[1;32mIn[30], line 14\u001B[0m\n\u001B[0;32m     10\u001B[0m model\u001B[38;5;241m.\u001B[39mtours \u001B[38;5;241m=\u001B[39m pyo\u001B[38;5;241m.\u001B[39mRangeSet(\u001B[38;5;241m1\u001B[39m, max_batches)\n\u001B[0;32m     12\u001B[0m \u001B[38;5;66;03m# Parameter a, read from the file 'a.txt'\u001B[39;00m\n\u001B[0;32m     13\u001B[0m \u001B[38;5;66;03m# Assuming 'a.txt' contains one value per line for a[1] to a[11]\u001B[39;00m\n\u001B[1;32m---> 14\u001B[0m \u001B[38;5;28;01mwith\u001B[39;00m \u001B[38;5;28;43mopen\u001B[39;49m\u001B[43m(\u001B[49m\u001B[38;5;124;43m'\u001B[39;49m\u001B[38;5;124;43ma.txt\u001B[39;49m\u001B[38;5;124;43m'\u001B[39;49m\u001B[43m)\u001B[49m \u001B[38;5;28;01mas\u001B[39;00m f:\n\u001B[0;32m     15\u001B[0m     a_values \u001B[38;5;241m=\u001B[39m [\u001B[38;5;28mfloat\u001B[39m(line\u001B[38;5;241m.\u001B[39mstrip()) \u001B[38;5;28;01mfor\u001B[39;00m line \u001B[38;5;129;01min\u001B[39;00m f]\n\u001B[0;32m     17\u001B[0m \u001B[38;5;66;03m# Capacities, assuming each batch has the same capacity of 10\u001B[39;00m\n",
      "File \u001B[1;32m~\\Documents\\Projekte\\beware\\venv\\Lib\\site-packages\\IPython\\core\\interactiveshell.py:286\u001B[0m, in \u001B[0;36m_modified_open\u001B[1;34m(file, *args, **kwargs)\u001B[0m\n\u001B[0;32m    279\u001B[0m \u001B[38;5;28;01mif\u001B[39;00m file \u001B[38;5;129;01min\u001B[39;00m {\u001B[38;5;241m0\u001B[39m, \u001B[38;5;241m1\u001B[39m, \u001B[38;5;241m2\u001B[39m}:\n\u001B[0;32m    280\u001B[0m     \u001B[38;5;28;01mraise\u001B[39;00m \u001B[38;5;167;01mValueError\u001B[39;00m(\n\u001B[0;32m    281\u001B[0m         \u001B[38;5;124mf\u001B[39m\u001B[38;5;124m\"\u001B[39m\u001B[38;5;124mIPython won\u001B[39m\u001B[38;5;124m'\u001B[39m\u001B[38;5;124mt let you open fd=\u001B[39m\u001B[38;5;132;01m{\u001B[39;00mfile\u001B[38;5;132;01m}\u001B[39;00m\u001B[38;5;124m by default \u001B[39m\u001B[38;5;124m\"\u001B[39m\n\u001B[0;32m    282\u001B[0m         \u001B[38;5;124m\"\u001B[39m\u001B[38;5;124mas it is likely to crash IPython. If you know what you are doing, \u001B[39m\u001B[38;5;124m\"\u001B[39m\n\u001B[0;32m    283\u001B[0m         \u001B[38;5;124m\"\u001B[39m\u001B[38;5;124myou can use builtins\u001B[39m\u001B[38;5;124m'\u001B[39m\u001B[38;5;124m open.\u001B[39m\u001B[38;5;124m\"\u001B[39m\n\u001B[0;32m    284\u001B[0m     )\n\u001B[1;32m--> 286\u001B[0m \u001B[38;5;28;01mreturn\u001B[39;00m \u001B[43mio_open\u001B[49m\u001B[43m(\u001B[49m\u001B[43mfile\u001B[49m\u001B[43m,\u001B[49m\u001B[43m \u001B[49m\u001B[38;5;241;43m*\u001B[39;49m\u001B[43margs\u001B[49m\u001B[43m,\u001B[49m\u001B[43m \u001B[49m\u001B[38;5;241;43m*\u001B[39;49m\u001B[38;5;241;43m*\u001B[39;49m\u001B[43mkwargs\u001B[49m\u001B[43m)\u001B[49m\n",
      "\u001B[1;31mFileNotFoundError\u001B[0m: [Errno 2] No such file or directory: 'a.txt'"
     ]
    }
   ],
   "execution_count": 30
  },
  {
   "cell_type": "code",
   "metadata": {
    "ExecuteTime": {
     "end_time": "2024-07-19T17:41:57.933978Z",
     "start_time": "2024-07-19T17:41:57.925216Z"
    }
   },
   "source": [
    "layout_info = instance.general_info\n",
    "aisles = int(layout_info[\"NUM_AISLES\"])\n",
    "locations = int(layout_info[\"NUM_CELLS\"])\n",
    "inter_cell_dist = float(layout_info[\"DISTANCE_CELL_TO_CELL\"])\n",
    "inter_aisle_dist = float(layout_info[\"DISTANCE_AISLE_TO_AISLE\"])\n",
    "G = nx.Graph()\n",
    "depot=(int(layout_info[\"DEPOT_AISLE\"]),0,0)\n",
    "G.add_node(depot) #depot\n",
    "    \n",
    "start = 1\n",
    "last_aisle_start = (start,1,0)\n",
    "last_aisle_end = (start,2+locations,0)\n",
    "G.add_edge(depot, (7, 1, 0), weight=1.5)\n",
    "for a in range(aisles):\n",
    "    aisle_start = (start, 1, 0)\n",
    "    aisle_end = (start, 2+locations, 0)\n",
    "    G.add_node(aisle_start)\n",
    "    G.add_node(aisle_end)\n",
    "    # if a > 0:\n",
    "    last_mid = aisle_start\n",
    "    for l in range(locations):\n",
    "        location_left = (start-1, l+2, 0)\n",
    "        location_right = (start+1, l+2, 0)\n",
    "        location_mid = (start, l+2, 0)\n",
    "\n",
    "        G.add_node(location_left)\n",
    "        G.add_node(location_right)\n",
    "        G.add_node(location_mid)\n",
    "\n",
    "        G.add_edge(location_left, location_mid, weight=1)\n",
    "        G.add_edge(location_right, location_mid, weight=1)\n",
    "\n",
    "        G.add_edge(last_mid, location_mid, weight=inter_cell_dist)\n",
    "        last_mid = location_mid\n",
    "\n",
    "    G.add_edge(last_mid, aisle_end, weight=1)\n",
    "\n",
    "    G.add_edge(last_aisle_start, aisle_start, weight=inter_aisle_dist)\n",
    "    G.add_edge(last_aisle_end, aisle_end, weight=inter_aisle_dist)\n",
    "    last_aisle_start = aisle_start\n",
    "    last_aisle_end = aisle_end\n",
    "    start += 3"
   ],
   "outputs": [],
   "execution_count": 46
  },
  {
   "cell_type": "code",
   "metadata": {
    "ExecuteTime": {
     "end_time": "2024-07-19T17:41:58.633201Z",
     "start_time": "2024-07-19T17:41:58.629308Z"
    }
   },
   "source": [
    "pos_dict = gen_pos(G)"
   ],
   "outputs": [],
   "execution_count": 47
  },
  {
   "metadata": {
    "ExecuteTime": {
     "end_time": "2024-07-19T17:41:59.139105Z",
     "start_time": "2024-07-19T17:41:59.120355Z"
    }
   },
   "cell_type": "code",
   "source": "pos_dict",
   "outputs": [
    {
     "data": {
      "text/plain": [
       "{(0, 0, 0): array([0, 0, 0]),\n",
       " (7, 1, 0): array([7, 1, 0]),\n",
       " (1, 1, 0): array([1, 1, 0]),\n",
       " (1, 12, 0): array([ 1, 12,  0]),\n",
       " (0, 2, 0): array([0, 2, 0]),\n",
       " (2, 2, 0): array([2, 2, 0]),\n",
       " (1, 2, 0): array([1, 2, 0]),\n",
       " (0, 3, 0): array([0, 3, 0]),\n",
       " (2, 3, 0): array([2, 3, 0]),\n",
       " (1, 3, 0): array([1, 3, 0]),\n",
       " (0, 4, 0): array([0, 4, 0]),\n",
       " (2, 4, 0): array([2, 4, 0]),\n",
       " (1, 4, 0): array([1, 4, 0]),\n",
       " (0, 5, 0): array([0, 5, 0]),\n",
       " (2, 5, 0): array([2, 5, 0]),\n",
       " (1, 5, 0): array([1, 5, 0]),\n",
       " (0, 6, 0): array([0, 6, 0]),\n",
       " (2, 6, 0): array([2, 6, 0]),\n",
       " (1, 6, 0): array([1, 6, 0]),\n",
       " (0, 7, 0): array([0, 7, 0]),\n",
       " (2, 7, 0): array([2, 7, 0]),\n",
       " (1, 7, 0): array([1, 7, 0]),\n",
       " (0, 8, 0): array([0, 8, 0]),\n",
       " (2, 8, 0): array([2, 8, 0]),\n",
       " (1, 8, 0): array([1, 8, 0]),\n",
       " (0, 9, 0): array([0, 9, 0]),\n",
       " (2, 9, 0): array([2, 9, 0]),\n",
       " (1, 9, 0): array([1, 9, 0]),\n",
       " (0, 10, 0): array([ 0, 10,  0]),\n",
       " (2, 10, 0): array([ 2, 10,  0]),\n",
       " (1, 10, 0): array([ 1, 10,  0]),\n",
       " (0, 11, 0): array([ 0, 11,  0]),\n",
       " (2, 11, 0): array([ 2, 11,  0]),\n",
       " (1, 11, 0): array([ 1, 11,  0]),\n",
       " (4, 1, 0): array([4, 1, 0]),\n",
       " (4, 12, 0): array([ 4, 12,  0]),\n",
       " (3, 2, 0): array([3, 2, 0]),\n",
       " (5, 2, 0): array([5, 2, 0]),\n",
       " (4, 2, 0): array([4, 2, 0]),\n",
       " (3, 3, 0): array([3, 3, 0]),\n",
       " (5, 3, 0): array([5, 3, 0]),\n",
       " (4, 3, 0): array([4, 3, 0]),\n",
       " (3, 4, 0): array([3, 4, 0]),\n",
       " (5, 4, 0): array([5, 4, 0]),\n",
       " (4, 4, 0): array([4, 4, 0]),\n",
       " (3, 5, 0): array([3, 5, 0]),\n",
       " (5, 5, 0): array([5, 5, 0]),\n",
       " (4, 5, 0): array([4, 5, 0]),\n",
       " (3, 6, 0): array([3, 6, 0]),\n",
       " (5, 6, 0): array([5, 6, 0]),\n",
       " (4, 6, 0): array([4, 6, 0]),\n",
       " (3, 7, 0): array([3, 7, 0]),\n",
       " (5, 7, 0): array([5, 7, 0]),\n",
       " (4, 7, 0): array([4, 7, 0]),\n",
       " (3, 8, 0): array([3, 8, 0]),\n",
       " (5, 8, 0): array([5, 8, 0]),\n",
       " (4, 8, 0): array([4, 8, 0]),\n",
       " (3, 9, 0): array([3, 9, 0]),\n",
       " (5, 9, 0): array([5, 9, 0]),\n",
       " (4, 9, 0): array([4, 9, 0]),\n",
       " (3, 10, 0): array([ 3, 10,  0]),\n",
       " (5, 10, 0): array([ 5, 10,  0]),\n",
       " (4, 10, 0): array([ 4, 10,  0]),\n",
       " (3, 11, 0): array([ 3, 11,  0]),\n",
       " (5, 11, 0): array([ 5, 11,  0]),\n",
       " (4, 11, 0): array([ 4, 11,  0]),\n",
       " (7, 12, 0): array([ 7, 12,  0]),\n",
       " (6, 2, 0): array([6, 2, 0]),\n",
       " (8, 2, 0): array([8, 2, 0]),\n",
       " (7, 2, 0): array([7, 2, 0]),\n",
       " (6, 3, 0): array([6, 3, 0]),\n",
       " (8, 3, 0): array([8, 3, 0]),\n",
       " (7, 3, 0): array([7, 3, 0]),\n",
       " (6, 4, 0): array([6, 4, 0]),\n",
       " (8, 4, 0): array([8, 4, 0]),\n",
       " (7, 4, 0): array([7, 4, 0]),\n",
       " (6, 5, 0): array([6, 5, 0]),\n",
       " (8, 5, 0): array([8, 5, 0]),\n",
       " (7, 5, 0): array([7, 5, 0]),\n",
       " (6, 6, 0): array([6, 6, 0]),\n",
       " (8, 6, 0): array([8, 6, 0]),\n",
       " (7, 6, 0): array([7, 6, 0]),\n",
       " (6, 7, 0): array([6, 7, 0]),\n",
       " (8, 7, 0): array([8, 7, 0]),\n",
       " (7, 7, 0): array([7, 7, 0]),\n",
       " (6, 8, 0): array([6, 8, 0]),\n",
       " (8, 8, 0): array([8, 8, 0]),\n",
       " (7, 8, 0): array([7, 8, 0]),\n",
       " (6, 9, 0): array([6, 9, 0]),\n",
       " (8, 9, 0): array([8, 9, 0]),\n",
       " (7, 9, 0): array([7, 9, 0]),\n",
       " (6, 10, 0): array([ 6, 10,  0]),\n",
       " (8, 10, 0): array([ 8, 10,  0]),\n",
       " (7, 10, 0): array([ 7, 10,  0]),\n",
       " (6, 11, 0): array([ 6, 11,  0]),\n",
       " (8, 11, 0): array([ 8, 11,  0]),\n",
       " (7, 11, 0): array([ 7, 11,  0]),\n",
       " (10, 1, 0): array([10,  1,  0]),\n",
       " (10, 12, 0): array([10, 12,  0]),\n",
       " (9, 2, 0): array([9, 2, 0]),\n",
       " (11, 2, 0): array([11,  2,  0]),\n",
       " (10, 2, 0): array([10,  2,  0]),\n",
       " (9, 3, 0): array([9, 3, 0]),\n",
       " (11, 3, 0): array([11,  3,  0]),\n",
       " (10, 3, 0): array([10,  3,  0]),\n",
       " (9, 4, 0): array([9, 4, 0]),\n",
       " (11, 4, 0): array([11,  4,  0]),\n",
       " (10, 4, 0): array([10,  4,  0]),\n",
       " (9, 5, 0): array([9, 5, 0]),\n",
       " (11, 5, 0): array([11,  5,  0]),\n",
       " (10, 5, 0): array([10,  5,  0]),\n",
       " (9, 6, 0): array([9, 6, 0]),\n",
       " (11, 6, 0): array([11,  6,  0]),\n",
       " (10, 6, 0): array([10,  6,  0]),\n",
       " (9, 7, 0): array([9, 7, 0]),\n",
       " (11, 7, 0): array([11,  7,  0]),\n",
       " (10, 7, 0): array([10,  7,  0]),\n",
       " (9, 8, 0): array([9, 8, 0]),\n",
       " (11, 8, 0): array([11,  8,  0]),\n",
       " (10, 8, 0): array([10,  8,  0]),\n",
       " (9, 9, 0): array([9, 9, 0]),\n",
       " (11, 9, 0): array([11,  9,  0]),\n",
       " (10, 9, 0): array([10,  9,  0]),\n",
       " (9, 10, 0): array([ 9, 10,  0]),\n",
       " (11, 10, 0): array([11, 10,  0]),\n",
       " (10, 10, 0): array([10, 10,  0]),\n",
       " (9, 11, 0): array([ 9, 11,  0]),\n",
       " (11, 11, 0): array([11, 11,  0]),\n",
       " (10, 11, 0): array([10, 11,  0]),\n",
       " (13, 1, 0): array([13,  1,  0]),\n",
       " (13, 12, 0): array([13, 12,  0]),\n",
       " (12, 2, 0): array([12,  2,  0]),\n",
       " (14, 2, 0): array([14,  2,  0]),\n",
       " (13, 2, 0): array([13,  2,  0]),\n",
       " (12, 3, 0): array([12,  3,  0]),\n",
       " (14, 3, 0): array([14,  3,  0]),\n",
       " (13, 3, 0): array([13,  3,  0]),\n",
       " (12, 4, 0): array([12,  4,  0]),\n",
       " (14, 4, 0): array([14,  4,  0]),\n",
       " (13, 4, 0): array([13,  4,  0]),\n",
       " (12, 5, 0): array([12,  5,  0]),\n",
       " (14, 5, 0): array([14,  5,  0]),\n",
       " (13, 5, 0): array([13,  5,  0]),\n",
       " (12, 6, 0): array([12,  6,  0]),\n",
       " (14, 6, 0): array([14,  6,  0]),\n",
       " (13, 6, 0): array([13,  6,  0]),\n",
       " (12, 7, 0): array([12,  7,  0]),\n",
       " (14, 7, 0): array([14,  7,  0]),\n",
       " (13, 7, 0): array([13,  7,  0]),\n",
       " (12, 8, 0): array([12,  8,  0]),\n",
       " (14, 8, 0): array([14,  8,  0]),\n",
       " (13, 8, 0): array([13,  8,  0]),\n",
       " (12, 9, 0): array([12,  9,  0]),\n",
       " (14, 9, 0): array([14,  9,  0]),\n",
       " (13, 9, 0): array([13,  9,  0]),\n",
       " (12, 10, 0): array([12, 10,  0]),\n",
       " (14, 10, 0): array([14, 10,  0]),\n",
       " (13, 10, 0): array([13, 10,  0]),\n",
       " (12, 11, 0): array([12, 11,  0]),\n",
       " (14, 11, 0): array([14, 11,  0]),\n",
       " (13, 11, 0): array([13, 11,  0]),\n",
       " (16, 1, 0): array([16,  1,  0]),\n",
       " (16, 12, 0): array([16, 12,  0]),\n",
       " (15, 2, 0): array([15,  2,  0]),\n",
       " (17, 2, 0): array([17,  2,  0]),\n",
       " (16, 2, 0): array([16,  2,  0]),\n",
       " (15, 3, 0): array([15,  3,  0]),\n",
       " (17, 3, 0): array([17,  3,  0]),\n",
       " (16, 3, 0): array([16,  3,  0]),\n",
       " (15, 4, 0): array([15,  4,  0]),\n",
       " (17, 4, 0): array([17,  4,  0]),\n",
       " (16, 4, 0): array([16,  4,  0]),\n",
       " (15, 5, 0): array([15,  5,  0]),\n",
       " (17, 5, 0): array([17,  5,  0]),\n",
       " (16, 5, 0): array([16,  5,  0]),\n",
       " (15, 6, 0): array([15,  6,  0]),\n",
       " (17, 6, 0): array([17,  6,  0]),\n",
       " (16, 6, 0): array([16,  6,  0]),\n",
       " (15, 7, 0): array([15,  7,  0]),\n",
       " (17, 7, 0): array([17,  7,  0]),\n",
       " (16, 7, 0): array([16,  7,  0]),\n",
       " (15, 8, 0): array([15,  8,  0]),\n",
       " (17, 8, 0): array([17,  8,  0]),\n",
       " (16, 8, 0): array([16,  8,  0]),\n",
       " (15, 9, 0): array([15,  9,  0]),\n",
       " (17, 9, 0): array([17,  9,  0]),\n",
       " (16, 9, 0): array([16,  9,  0]),\n",
       " (15, 10, 0): array([15, 10,  0]),\n",
       " (17, 10, 0): array([17, 10,  0]),\n",
       " (16, 10, 0): array([16, 10,  0]),\n",
       " (15, 11, 0): array([15, 11,  0]),\n",
       " (17, 11, 0): array([17, 11,  0]),\n",
       " (16, 11, 0): array([16, 11,  0]),\n",
       " (19, 1, 0): array([19,  1,  0]),\n",
       " (19, 12, 0): array([19, 12,  0]),\n",
       " (18, 2, 0): array([18,  2,  0]),\n",
       " (20, 2, 0): array([20,  2,  0]),\n",
       " (19, 2, 0): array([19,  2,  0]),\n",
       " (18, 3, 0): array([18,  3,  0]),\n",
       " (20, 3, 0): array([20,  3,  0]),\n",
       " (19, 3, 0): array([19,  3,  0]),\n",
       " (18, 4, 0): array([18,  4,  0]),\n",
       " (20, 4, 0): array([20,  4,  0]),\n",
       " (19, 4, 0): array([19,  4,  0]),\n",
       " (18, 5, 0): array([18,  5,  0]),\n",
       " (20, 5, 0): array([20,  5,  0]),\n",
       " (19, 5, 0): array([19,  5,  0]),\n",
       " (18, 6, 0): array([18,  6,  0]),\n",
       " (20, 6, 0): array([20,  6,  0]),\n",
       " (19, 6, 0): array([19,  6,  0]),\n",
       " (18, 7, 0): array([18,  7,  0]),\n",
       " (20, 7, 0): array([20,  7,  0]),\n",
       " (19, 7, 0): array([19,  7,  0]),\n",
       " (18, 8, 0): array([18,  8,  0]),\n",
       " (20, 8, 0): array([20,  8,  0]),\n",
       " (19, 8, 0): array([19,  8,  0]),\n",
       " (18, 9, 0): array([18,  9,  0]),\n",
       " (20, 9, 0): array([20,  9,  0]),\n",
       " (19, 9, 0): array([19,  9,  0]),\n",
       " (18, 10, 0): array([18, 10,  0]),\n",
       " (20, 10, 0): array([20, 10,  0]),\n",
       " (19, 10, 0): array([19, 10,  0]),\n",
       " (18, 11, 0): array([18, 11,  0]),\n",
       " (20, 11, 0): array([20, 11,  0]),\n",
       " (19, 11, 0): array([19, 11,  0]),\n",
       " (22, 1, 0): array([22,  1,  0]),\n",
       " (22, 12, 0): array([22, 12,  0]),\n",
       " (21, 2, 0): array([21,  2,  0]),\n",
       " (23, 2, 0): array([23,  2,  0]),\n",
       " (22, 2, 0): array([22,  2,  0]),\n",
       " (21, 3, 0): array([21,  3,  0]),\n",
       " (23, 3, 0): array([23,  3,  0]),\n",
       " (22, 3, 0): array([22,  3,  0]),\n",
       " (21, 4, 0): array([21,  4,  0]),\n",
       " (23, 4, 0): array([23,  4,  0]),\n",
       " (22, 4, 0): array([22,  4,  0]),\n",
       " (21, 5, 0): array([21,  5,  0]),\n",
       " (23, 5, 0): array([23,  5,  0]),\n",
       " (22, 5, 0): array([22,  5,  0]),\n",
       " (21, 6, 0): array([21,  6,  0]),\n",
       " (23, 6, 0): array([23,  6,  0]),\n",
       " (22, 6, 0): array([22,  6,  0]),\n",
       " (21, 7, 0): array([21,  7,  0]),\n",
       " (23, 7, 0): array([23,  7,  0]),\n",
       " (22, 7, 0): array([22,  7,  0]),\n",
       " (21, 8, 0): array([21,  8,  0]),\n",
       " (23, 8, 0): array([23,  8,  0]),\n",
       " (22, 8, 0): array([22,  8,  0]),\n",
       " (21, 9, 0): array([21,  9,  0]),\n",
       " (23, 9, 0): array([23,  9,  0]),\n",
       " (22, 9, 0): array([22,  9,  0]),\n",
       " (21, 10, 0): array([21, 10,  0]),\n",
       " (23, 10, 0): array([23, 10,  0]),\n",
       " (22, 10, 0): array([22, 10,  0]),\n",
       " (21, 11, 0): array([21, 11,  0]),\n",
       " (23, 11, 0): array([23, 11,  0]),\n",
       " (22, 11, 0): array([22, 11,  0]),\n",
       " (25, 1, 0): array([25,  1,  0]),\n",
       " (25, 12, 0): array([25, 12,  0]),\n",
       " (24, 2, 0): array([24,  2,  0]),\n",
       " (26, 2, 0): array([26,  2,  0]),\n",
       " (25, 2, 0): array([25,  2,  0]),\n",
       " (24, 3, 0): array([24,  3,  0]),\n",
       " (26, 3, 0): array([26,  3,  0]),\n",
       " (25, 3, 0): array([25,  3,  0]),\n",
       " (24, 4, 0): array([24,  4,  0]),\n",
       " (26, 4, 0): array([26,  4,  0]),\n",
       " (25, 4, 0): array([25,  4,  0]),\n",
       " (24, 5, 0): array([24,  5,  0]),\n",
       " (26, 5, 0): array([26,  5,  0]),\n",
       " (25, 5, 0): array([25,  5,  0]),\n",
       " (24, 6, 0): array([24,  6,  0]),\n",
       " (26, 6, 0): array([26,  6,  0]),\n",
       " (25, 6, 0): array([25,  6,  0]),\n",
       " (24, 7, 0): array([24,  7,  0]),\n",
       " (26, 7, 0): array([26,  7,  0]),\n",
       " (25, 7, 0): array([25,  7,  0]),\n",
       " (24, 8, 0): array([24,  8,  0]),\n",
       " (26, 8, 0): array([26,  8,  0]),\n",
       " (25, 8, 0): array([25,  8,  0]),\n",
       " (24, 9, 0): array([24,  9,  0]),\n",
       " (26, 9, 0): array([26,  9,  0]),\n",
       " (25, 9, 0): array([25,  9,  0]),\n",
       " (24, 10, 0): array([24, 10,  0]),\n",
       " (26, 10, 0): array([26, 10,  0]),\n",
       " (25, 10, 0): array([25, 10,  0]),\n",
       " (24, 11, 0): array([24, 11,  0]),\n",
       " (26, 11, 0): array([26, 11,  0]),\n",
       " (25, 11, 0): array([25, 11,  0]),\n",
       " (28, 1, 0): array([28,  1,  0]),\n",
       " (28, 12, 0): array([28, 12,  0]),\n",
       " (27, 2, 0): array([27,  2,  0]),\n",
       " (29, 2, 0): array([29,  2,  0]),\n",
       " (28, 2, 0): array([28,  2,  0]),\n",
       " (27, 3, 0): array([27,  3,  0]),\n",
       " (29, 3, 0): array([29,  3,  0]),\n",
       " (28, 3, 0): array([28,  3,  0]),\n",
       " (27, 4, 0): array([27,  4,  0]),\n",
       " (29, 4, 0): array([29,  4,  0]),\n",
       " (28, 4, 0): array([28,  4,  0]),\n",
       " (27, 5, 0): array([27,  5,  0]),\n",
       " (29, 5, 0): array([29,  5,  0]),\n",
       " (28, 5, 0): array([28,  5,  0]),\n",
       " (27, 6, 0): array([27,  6,  0]),\n",
       " (29, 6, 0): array([29,  6,  0]),\n",
       " (28, 6, 0): array([28,  6,  0]),\n",
       " (27, 7, 0): array([27,  7,  0]),\n",
       " (29, 7, 0): array([29,  7,  0]),\n",
       " (28, 7, 0): array([28,  7,  0]),\n",
       " (27, 8, 0): array([27,  8,  0]),\n",
       " (29, 8, 0): array([29,  8,  0]),\n",
       " (28, 8, 0): array([28,  8,  0]),\n",
       " (27, 9, 0): array([27,  9,  0]),\n",
       " (29, 9, 0): array([29,  9,  0]),\n",
       " (28, 9, 0): array([28,  9,  0]),\n",
       " (27, 10, 0): array([27, 10,  0]),\n",
       " (29, 10, 0): array([29, 10,  0]),\n",
       " (28, 10, 0): array([28, 10,  0]),\n",
       " (27, 11, 0): array([27, 11,  0]),\n",
       " (29, 11, 0): array([29, 11,  0]),\n",
       " (28, 11, 0): array([28, 11,  0])}"
      ]
     },
     "execution_count": 48,
     "metadata": {},
     "output_type": "execute_result"
    }
   ],
   "execution_count": 48
  },
  {
   "cell_type": "code",
   "metadata": {
    "ExecuteTime": {
     "end_time": "2024-07-19T17:42:00.127307Z",
     "start_time": "2024-07-19T17:41:59.584370Z"
    }
   },
   "source": [
    "viz_graph(G, pos_dict)"
   ],
   "outputs": [
    {
     "data": {
      "text/plain": [
       "<Figure size 640x480 with 1 Axes>"
      ],
      "image/png": "[encoded data removed]"
     },
     "metadata": {},
     "output_type": "display_data"
    }
   ],
   "execution_count": 49
  },
  {
   "cell_type": "code",
   "metadata": {
    "ExecuteTime": {
     "end_time": "2024-07-19T17:42:00.132453Z",
     "start_time": "2024-07-19T17:42:00.129394Z"
    }
   },
   "source": [
    "import pyomo.environ as pyo "
   ],
   "outputs": [],
   "execution_count": 50
  },
  {
   "cell_type": "code",
   "metadata": {
    "ExecuteTime": {
     "end_time": "2024-07-19T17:42:00.559835Z",
     "start_time": "2024-07-19T17:42:00.555887Z"
    }
   },
   "source": [
    "aisles"
   ],
   "outputs": [
    {
     "data": {
      "text/plain": [
       "10"
      ]
     },
     "execution_count": 51,
     "metadata": {},
     "output_type": "execute_result"
    }
   ],
   "execution_count": 51
  },
  {
   "metadata": {
    "ExecuteTime": {
     "end_time": "2024-07-19T17:42:00.973816Z",
     "start_time": "2024-07-19T17:42:00.967391Z"
    }
   },
   "cell_type": "code",
   "source": "instance.skus",
   "outputs": [
    {
     "data": {
      "text/plain": [
       "{6: {'aisle': 0, 'cell': 5, 'quantity': 1, 'side': 'left'},\n",
       " 15: {'aisle': 0, 'cell': 3, 'quantity': 1, 'side': 'left'},\n",
       " 7: {'aisle': 0, 'cell': 2, 'quantity': 1, 'side': 'left'},\n",
       " 0: {'aisle': 0, 'cell': 1, 'quantity': 1, 'side': 'left'},\n",
       " 14: {'aisle': 2, 'cell': 9, 'quantity': 1, 'side': 'left'},\n",
       " 1: {'aisle': 2, 'cell': 8, 'quantity': 1, 'side': 'left'},\n",
       " 13: {'aisle': 2, 'cell': 5, 'quantity': 1, 'side': 'left'},\n",
       " 10: {'aisle': 3, 'cell': 8, 'quantity': 1, 'side': 'left'},\n",
       " 3: {'aisle': 3, 'cell': 4, 'quantity': 1, 'side': 'left'},\n",
       " 16: {'aisle': 4, 'cell': 8, 'quantity': 1, 'side': 'left'},\n",
       " 4: {'aisle': 4, 'cell': 6, 'quantity': 1, 'side': 'left'},\n",
       " 12: {'aisle': 4, 'cell': 0, 'quantity': 1, 'side': 'left'},\n",
       " 17: {'aisle': 5, 'cell': 8, 'quantity': 2, 'side': 'left'},\n",
       " 8: {'aisle': 5, 'cell': 3, 'quantity': 1, 'side': 'left'},\n",
       " 2: {'aisle': 6, 'cell': 4, 'quantity': 1, 'side': 'left'},\n",
       " 5: {'aisle': 8, 'cell': 4, 'quantity': 1, 'side': 'left'},\n",
       " 11: {'aisle': 9, 'cell': 4, 'quantity': 2, 'side': 'left'},\n",
       " 9: {'aisle': 9, 'cell': 0, 'quantity': 1, 'side': 'left'}}"
      ]
     },
     "execution_count": 52,
     "metadata": {},
     "output_type": "execute_result"
    }
   ],
   "execution_count": 52
  },
  {
   "metadata": {
    "ExecuteTime": {
     "end_time": "2024-07-19T17:42:01.579339Z",
     "start_time": "2024-07-19T17:42:01.576100Z"
    }
   },
   "cell_type": "code",
   "source": "",
   "outputs": [],
   "execution_count": 52
  },
  {
   "metadata": {
    "ExecuteTime": {
     "end_time": "2024-07-19T17:42:02.123969Z",
     "start_time": "2024-07-19T17:42:02.120201Z"
    }
   },
   "cell_type": "code",
   "source": [
    "dik = {}\n",
    "for order_idx, order in enumerate(instance.orders):\n",
    "    dik[order_idx] = []\n",
    "    for line in order:\n",
    "        item = line[0]\n",
    "        quantity = line[1]\n",
    "        aisle = instance.skus[item][\"aisle\"]\n",
    "        cell = instance.skus[item][\"cell\"]\n",
    "        side = instance.skus[item][\"side\"]\n",
    "        dik[order_idx].append((aisle, cell))\n",
    "        \n",
    "    "
   ],
   "outputs": [],
   "execution_count": 53
  },
  {
   "metadata": {
    "ExecuteTime": {
     "end_time": "2024-07-19T17:42:02.544346Z",
     "start_time": "2024-07-19T17:42:02.539887Z"
    }
   },
   "cell_type": "code",
   "source": "instance.general_info",
   "outputs": [
    {
     "data": {
      "text/plain": [
       "{'NAME': 'Pr_20_1_20_Store1_01.txt',\n",
       " 'TYPE': 'Order_batching',\n",
       " 'COMMENT': 'Bahï¿½eci and ï¿½ncan (2021)',\n",
       " 'PICKER_CAPACITY': '20',\n",
       " 'LAYOUT': 'single-block',\n",
       " 'NUM_AISLES': '10',\n",
       " 'NUM_CELLS': '10',\n",
       " 'DEPOT_AISLE': '0',\n",
       " 'DEPOT_LOCATION': 'bottom',\n",
       " 'DISTANCE_AISLE_TO_AISLE': '2.4',\n",
       " 'DISTANCE_CELL_TO_CELL': '1',\n",
       " 'DISTANCE_TOP_TO_CELL': '1',\n",
       " 'DISTANCE_BOTTOM_TO_CELL': '1',\n",
       " 'DISTANCE_TOP_OR_BOTTOM_TO_DEPOT': '0'}"
      ]
     },
     "execution_count": 54,
     "metadata": {},
     "output_type": "execute_result"
    }
   ],
   "execution_count": 54
  },
  {
   "metadata": {
    "ExecuteTime": {
     "end_time": "2024-07-19T17:42:03.133296Z",
     "start_time": "2024-07-19T17:42:03.129187Z"
    }
   },
   "cell_type": "code",
   "source": [
    "dik = {}\n",
    "for order in range(len(instance.orders)):\n",
    "    for aisle in range(int(instance.general_info[\"NUM_AISLES\"])):\n",
    "        dik[(order+1, aisle)] = 0"
   ],
   "outputs": [],
   "execution_count": 55
  },
  {
   "metadata": {
    "ExecuteTime": {
     "end_time": "2024-07-19T17:42:03.687357Z",
     "start_time": "2024-07-19T17:42:03.681802Z"
    }
   },
   "cell_type": "code",
   "source": [
    "max_aisle_dist = {}\n",
    "order_weights = {}\n",
    "for order_idx, order in enumerate(instance.orders):\n",
    "    max_aisle_dist[order_idx+1] = {}\n",
    "    order_weights[order_idx+1] = []\n",
    "    for line in order:\n",
    "        item = line[0]\n",
    "        quantity = line[1]\n",
    "        aisle = instance.skus[item][\"aisle\"]\n",
    "        cell = instance.skus[item][\"cell\"]\n",
    "        side = instance.skus[item][\"side\"]\n",
    "        if aisle not in max_aisle_dist[order_idx+1].keys():\n",
    "            max_aisle_dist[order_idx+1][aisle] = []\n",
    "        max_aisle_dist[order_idx+1][aisle].append(cell)\n",
    "        order_weights[order_idx+1].append(instance.articles[item][\"weight\"])"
   ],
   "outputs": [],
   "execution_count": 56
  },
  {
   "metadata": {
    "ExecuteTime": {
     "end_time": "2024-07-19T17:42:04.249114Z",
     "start_time": "2024-07-19T17:42:04.243005Z"
    }
   },
   "cell_type": "code",
   "source": "order_weights",
   "outputs": [
    {
     "data": {
      "text/plain": [
       "{1: [1, 1],\n",
       " 2: [1, 1, 1],\n",
       " 3: [1, 1],\n",
       " 4: [1, 1, 1],\n",
       " 5: [1, 1],\n",
       " 6: [1, 1, 1],\n",
       " 7: [1, 1],\n",
       " 8: [1, 1]}"
      ]
     },
     "execution_count": 57,
     "metadata": {},
     "output_type": "execute_result"
    }
   ],
   "execution_count": 57
  },
  {
   "metadata": {
    "ExecuteTime": {
     "end_time": "2024-07-19T17:42:05.224772Z",
     "start_time": "2024-07-19T17:42:05.219805Z"
    }
   },
   "cell_type": "code",
   "source": [
    "for order in max_aisle_dist.keys():\n",
    "    for aisle in max_aisle_dist[order].keys():\n",
    "        max_dist = max(max_aisle_dist[order][aisle])\n",
    "        dik[(order, aisle)] = max_dist"
   ],
   "outputs": [],
   "execution_count": 58
  },
  {
   "metadata": {
    "ExecuteTime": {
     "end_time": "2024-07-19T17:42:05.866558Z",
     "start_time": "2024-07-19T17:42:05.864366Z"
    }
   },
   "cell_type": "code",
   "source": "",
   "outputs": [],
   "execution_count": 58
  },
  {
   "metadata": {
    "ExecuteTime": {
     "end_time": "2024-07-19T17:42:06.152518Z",
     "start_time": "2024-07-19T17:42:06.148105Z"
    }
   },
   "cell_type": "code",
   "source": "instance.general_info",
   "outputs": [
    {
     "data": {
      "text/plain": [
       "{'NAME': 'Pr_20_1_20_Store1_01.txt',\n",
       " 'TYPE': 'Order_batching',\n",
       " 'COMMENT': 'Bahï¿½eci and ï¿½ncan (2021)',\n",
       " 'PICKER_CAPACITY': '20',\n",
       " 'LAYOUT': 'single-block',\n",
       " 'NUM_AISLES': '10',\n",
       " 'NUM_CELLS': '10',\n",
       " 'DEPOT_AISLE': '0',\n",
       " 'DEPOT_LOCATION': 'bottom',\n",
       " 'DISTANCE_AISLE_TO_AISLE': '2.4',\n",
       " 'DISTANCE_CELL_TO_CELL': '1',\n",
       " 'DISTANCE_TOP_TO_CELL': '1',\n",
       " 'DISTANCE_BOTTOM_TO_CELL': '1',\n",
       " 'DISTANCE_TOP_OR_BOTTOM_TO_DEPOT': '0'}"
      ]
     },
     "execution_count": 59,
     "metadata": {},
     "output_type": "execute_result"
    }
   ],
   "execution_count": 59
  },
  {
   "metadata": {
    "ExecuteTime": {
     "end_time": "2024-07-19T17:42:06.505667Z",
     "start_time": "2024-07-19T17:42:06.500989Z"
    }
   },
   "cell_type": "code",
   "source": "len(instance.orders)",
   "outputs": [
    {
     "data": {
      "text/plain": [
       "8"
      ]
     },
     "execution_count": 60,
     "metadata": {},
     "output_type": "execute_result"
    }
   ],
   "execution_count": 60
  },
  {
   "metadata": {},
   "cell_type": "code",
   "outputs": [],
   "execution_count": null,
   "source": [
    "n_orders = len(instance.orders)\n",
    "n_batches = 7\n",
    "capacity = int(instance.general_info[\"PICKER_CAPACITY\"])\n",
    "aisles = int(instance.general_info[\"NUM_AISLES\"])\n",
    "inter_aisle_dist = float(instance.general_info[\"DISTANCE_AISLE_TO_AISLE\"])\n",
    "aisle_length = (int(instance.general_info[\"NUM_CELLS\"]) * \n",
    "                int(instance.general_info[\"DISTANCE_CELL_TO_CELL\"]))\n",
    "\n",
    "model = pyo.ConcreteModel(\"BATCHING_TRAVERSAL\")\n",
    "model.Aisles = pyo.RangeSet(0, aisles-1) \n",
    "model.Orders = pyo.RangeSet(1, n_orders)\n",
    "model.Batches = pyo.RangeSet(1, n_batches)\n",
    "\n",
    "weights = []\n",
    "for order in order_weights.keys():\n",
    "    weights.append(sum(order_weights[order]))\n",
    "items_per_order = []\n",
    "for order in order_weights.keys():\n",
    "    items_per_order.append(len(order_weights[order]))\n",
    "model.mi = pyo.Param(model.Orders, initialize=dict(enumerate(items_per_order, start=1)))\n",
    "model.dik = pyo.Param(model.Orders, model.Aisles, initialize=dik)\n",
    "model.M = pyo.Param(within=pyo.NonNegativeReals, initialize=1000)\n",
    "model.vj = pyo.Var(model.Batches, domain=pyo.Integers)\n",
    "\n",
    "model.yjk = pyo.Var(model.Batches, model.Aisles, domain=pyo.Binary)\n",
    "model.pjk = pyo.Var(model.Batches, model.Aisles, domain=pyo.Binary)\n",
    "\n",
    "model.cj = pyo.Var(model.Batches, domain=pyo.Binary)\n",
    "\n",
    "model.xij = pyo.Var(model.Orders, model.Batches, domain=pyo.Binary)\n",
    "model.hjR = pyo.Var(model.Batches, domain=pyo.PositiveReals)\n",
    "model.hjL = pyo.Var(model.Batches, domain=pyo.PositiveReals)\n",
    "model.ujk = pyo.Var(model.Batches, model.Aisles, domain=pyo.PositiveReals)\n",
    "\n",
    "M = 1000\n",
    "\n",
    "def objective(model):\n",
    "    return 2 * pyo.quicksum(\n",
    "        model.ujk[j,k] for j in model.Batches for k in model.Aisles\n",
    "    ) \n",
    "    + 2 * pyo.quicksum(\n",
    "        model.hjR[j] * model.hjL[j] for j in model.Batches\n",
    "    )\n",
    "    + 2 * aisle_length * pyo.quicksum(\n",
    "        model.vj[j] - model.cj[j] for j in model.Batches\n",
    "    )\n",
    "\n",
    "model.obj = pyo.Objective(rule=objective, sense=pyo.minimize)\n",
    "\n",
    "def constraint_batch_assignment(model, i_order):\n",
    "    return pyo.quicksum(model.xij[i_order,j] for j in model.Batches) == 1\n",
    "model.constraint_batch_assignment = pyo.Constraint(model.Orders, rule=constraint_batch_assignment)\n",
    "\n",
    "def constraint_batch_guarantee(model, i_order, j):\n",
    "    return model.xij[i_order,j] <= model.xij[j,j]\n",
    "model.constraint_batch_guarantee = pyo.Constraint(model.Orders, model.Batches, rule=constraint_batch_guarantee)\n",
    "\n",
    "def constraint_batch_capacity(model, j):\n",
    "    return pyo.quicksum(model.mi[i_order] * model.xij[i_order,j] for i_order in model.Orders) <= capacity\n",
    "model.constraint_batch_capacity = pyo.Constraint(model.Batches, rule=constraint_batch_capacity)\n",
    "\n",
    "def constraint_aisle_visit(model, j, k):\n",
    "    return model.yjk[j,k] == pyo.quicksum(model.dik[i,k] * model.xij[i,j] for i in model.Orders)\n",
    "model.constraint_aisle_visit = pyo.Constraint(model.Batches, model.Aisles, rule=constraint_aisle_visit)\n",
    "\n",
    "def constraint_aisle_visit_upper(model, j, k):\n",
    "    return pyo.quicksum(model.dik[i,k] * model.xij[i,j] for i in model.Orders) <= model.M * model.yjk[j,k]\n",
    "model.constraint_aisle_visit_upper = pyo.Constraint(model.Batches, model.Aisles, rule=constraint_aisle_visit_upper)\n",
    "\n",
    "def constraint_horizontal_distance_1(model, j, k):\n",
    "    return ((k+1) - k) * inter_aisle_dist * model.yjk[j,k] <= model.hjR[j]\n",
    "model.constraint_horizontal_distance_1 = pyo.Constraint(model.Batches, model.Aisles, rule=constraint_horizontal_distance_1)\n",
    "\n",
    "def constraint_horizontal_distance_2(model, j, k):\n",
    "    return ((k+1) - k) * inter_aisle_dist * model.yjk[j,k] <= model.hjL[j]\n",
    "model.constraint_horizontal_distance_2 = pyo.Constraint(model.Batches, model.Aisles, rule=constraint_horizontal_distance_2)\n",
    "\n",
    "def constraint_batch_visit(model, j):\n",
    "    return pyo.quicksum(model.yjk[j,k] for k in model.Aisles) + model.cj[j] == 2 * model.vj[j]\n",
    "model.constraint_batch_visit = pyo.Constraint(model.Batches, rule=constraint_batch_visit)"
   ]
  },
  {
   "metadata": {
    "ExecuteTime": {
     "end_time": "2024-07-19T17:43:41.123981Z",
     "start_time": "2024-07-19T17:43:41.119539Z"
    }
   },
   "cell_type": "code",
   "source": "instance.general_info[\"PICKER_CAPACITY\"]",
   "outputs": [
    {
     "data": {
      "text/plain": [
       "'20'"
      ]
     },
     "execution_count": 78,
     "metadata": {},
     "output_type": "execute_result"
    }
   ],
   "execution_count": 78
  },
  {
   "cell_type": "code",
   "metadata": {
    "ExecuteTime": {
     "end_time": "2024-07-19T17:45:55.369950Z",
     "start_time": "2024-07-19T17:45:55.333047Z"
    }
   },
   "source": [
    "n_orders = len(instance.orders)\n",
    "n_batches = 2\n",
    "#capacity = int(instance.general_info[\"PICKER_CAPACITY\"])\n",
    "capacity = 3\n",
    "aisles = int(instance.general_info[\"NUM_AISLES\"])\n",
    "inter_aisle_dist = float(instance.general_info[\"DISTANCE_AISLE_TO_AISLE\"])\n",
    "aisle_length = (int(instance.general_info[\"NUM_CELLS\"]) * \n",
    "                int(instance.general_info[\"DISTANCE_CELL_TO_CELL\"]))\n",
    "\n",
    "model = pyo.ConcreteModel(\"BATCHING_TRAVERSAL\")\n",
    "model.Aisles = pyo.RangeSet(0, aisles-1) \n",
    "model.Orders = pyo.RangeSet(1, n_orders)\n",
    "model.Batches = pyo.RangeSet(1, n_batches)\n",
    "\n",
    "weights = []\n",
    "for order in order_weights.keys():\n",
    "    weights.append(sum(order_weights[order]))\n",
    "items_per_order = []\n",
    "for order in order_weights.keys():\n",
    "    items_per_order.append(len(order_weights[order]))\n",
    "model.mi = pyo.Param(model.Orders, initialize=dict(enumerate(items_per_order, start=1)))\n",
    "model.dik = pyo.Param(model.Orders, model.Aisles, initialize=dik)\n",
    "model.M = pyo.Param(within=pyo.NonNegativeReals, initialize=1000)\n",
    "model.vj = pyo.Var(model.Batches, domain=pyo.Integers)\n",
    "\n",
    "model.yjk = pyo.Var(model.Batches, model.Aisles, domain=pyo.Binary)\n",
    "model.pjk = pyo.Var(model.Batches, model.Aisles, domain=pyo.Binary)\n",
    "\n",
    "model.cj = pyo.Var(model.Batches, domain=pyo.Binary)\n",
    "\n",
    "model.xij = pyo.Var(model.Orders, model.Batches, domain=pyo.Binary)\n",
    "model.hjR = pyo.Var(model.Batches, domain=pyo.PositiveReals)\n",
    "model.hjL = pyo.Var(model.Batches, domain=pyo.PositiveReals)\n",
    "model.ujk = pyo.Var(model.Batches, model.Aisles, domain=pyo.PositiveReals)\n",
    "\n",
    "M = 1000\n",
    "\n",
    "def objective(model):\n",
    "    return 2 * pyo.quicksum(\n",
    "        model.ujk[j,k] for j in model.Batches for k in model.Aisles\n",
    ") \n",
    "+ 2 * pyo.quicksum(\n",
    "    model.hjR[j] * model.hjL[j] for j in model.Batches\n",
    ")\n",
    "+ 2 * aisle_length * pyo.quicksum(\n",
    "    model.vj[j] - model.cj[j] for j in model.Batches\n",
    ")\n",
    "\n",
    "model.obj = pyo.Objective(rule=objective, sense=pyo.minimize)\n",
    "\n",
    "def constraint_batch_assignment(model, i_order):\n",
    "    return pyo.quicksum(model.xij[i_order,j] for j in model.Batches) == 1\n",
    "model.constraint_batch_assignment = pyo.Constraint(model.Orders, rule=constraint_batch_assignment)\n",
    "\n",
    "def constraint_batch_capacity(model, i_order):\n",
    "    return pyo.quicksum(model.mi[i_order]*model.xij[i_order,j] for j in model.Batches) <= capacity\n",
    "model.constraint_batch_capacity = pyo.Constraint(model.Orders, rule=constraint_batch_capacity)\n",
    "\n",
    "def constraint_batch_guarantee(model, i_order, j):\n",
    "    return model.xij[i_order,j] <= model.xij[j,j] \n",
    "model.constraint_batch_guarantee = pyo.Constraint(model.Orders, model.Batches, rule=constraint_batch_guarantee)\n",
    "\n",
    "def constraint_1_1(model, j, k, i): \n",
    "    return model.yjk[j,k] <= pyo.quicksum(\n",
    "        model.dik[i,k] * model.xij[i,j] \n",
    "        for j in model.Batches \n",
    "        for k in model.Aisles)\n",
    "model.constraint_1_1 = pyo.Constraint(model.Batches, model.Aisles, model.Orders, rule=constraint_1_1)\n",
    "\n",
    "def constraint_1_2(model, j, k, i): \n",
    "    return pyo.quicksum(\n",
    "        model.dik[i,k] * model.xij[i,j] \n",
    "        for j in model.Batches \n",
    "        for k in model.Aisles) <= M*model.yjk[j,k]\n",
    "model.constraint_1_2 = pyo.Constraint(model.Batches, model.Aisles, model.Orders, rule=constraint_1_2)\n",
    "\n",
    "def constraint_2(model, k, j):\n",
    "    return ((k+1)-k) * inter_aisle_dist * model.yjk[j,k] <= model.hjR[j]\n",
    "model.constraint_2 = pyo.Constraint(model.Aisles, model.Batches, rule=constraint_2)\n",
    "\n",
    "def constraint_3(model, k, j):\n",
    "    return ((k+1)-k) * inter_aisle_dist * model.yjk[j,k] <= model.hjL[j]\n",
    "model.constraint_3 = pyo.Constraint(model.Aisles, model.Batches, rule=constraint_3)\n",
    "\n",
    "def constraint_4(model, j):\n",
    "    return pyo.quicksum(model.yjk[j,k] + model.cj[j] for k in model.Aisles) == 2 * model.vj[j] \n",
    "model.constraint_4 = pyo.Constraint(model.Batches, rule=constraint_4)\n",
    "\n",
    "def constraint_5(model, j, k, i):\n",
    "    return pyo.quicksum(\n",
    "        model.dik[i,k] * model.xij[i,j] \n",
    "        for j in model.Batches \n",
    "        for k in model.Aisles) <= model.M*model.yjk[j,k]\n",
    "model.constraint_5 = pyo.Constraint(model.Batches, model.Aisles, model.Orders, rule=constraint_5)\n",
    "\n",
    "# def constraint_6(model):\n",
    "#     return model.yjk[j,k] - pyo.quicksum()\n",
    "# model.constraint_6 = pyo.Constraint(rule=constraint_6)"
   ],
   "outputs": [],
   "execution_count": 92
  },
  {
   "cell_type": "code",
   "metadata": {
    "ExecuteTime": {
     "end_time": "2024-07-19T17:45:55.797520Z",
     "start_time": "2024-07-19T17:45:55.752946Z"
    }
   },
   "source": [
    "solver = pyo.SolverFactory('appsi_highs')\n",
    "result = solver.solve(model)"
   ],
   "outputs": [],
   "execution_count": 93
  },
  {
   "metadata": {
    "ExecuteTime": {
     "end_time": "2024-07-19T17:45:56.175731Z",
     "start_time": "2024-07-19T17:45:56.170255Z"
    }
   },
   "cell_type": "code",
   "source": [
    "# Check if the solver found an optimal solution\n",
    "if (result.solver.status == pyo.SolverStatus.ok) and (result.solver.termination_condition == pyo.TerminationCondition.optimal):\n",
    "    # Function to display which order is assigned to which batch\n",
    "    assignments = {}\n",
    "    for order in model.Orders:\n",
    "        for batch in model.Batches:\n",
    "            if pyo.value(model.xij[order, batch]) == 1:\n",
    "                if batch not in assignments:\n",
    "                    assignments[batch] = []\n",
    "                assignments[batch].append(order)\n",
    "                break\n",
    "else:\n",
    "    print(\"No optimal solution found.\")"
   ],
   "outputs": [],
   "execution_count": 94
  },
  {
   "metadata": {
    "ExecuteTime": {
     "end_time": "2024-07-19T17:45:56.807795Z",
     "start_time": "2024-07-19T17:45:56.802808Z"
    }
   },
   "cell_type": "code",
   "source": "assignments",
   "outputs": [
    {
     "data": {
      "text/plain": [
       "{1: [1, 3, 4, 5, 6, 7, 8], 2: [2]}"
      ]
     },
     "execution_count": 95,
     "metadata": {},
     "output_type": "execute_result"
    }
   ],
   "execution_count": 95
  },
  {
   "cell_type": "code",
   "metadata": {
    "ExecuteTime": {
     "end_time": "2024-07-19T17:45:59.088550Z",
     "start_time": "2024-07-19T17:45:59.071461Z"
    }
   },
   "source": [
    "warehouse.nodes_list.index((3,3,0))"
   ],
   "outputs": [
    {
     "ename": "NameError",
     "evalue": "name 'warehouse' is not defined",
     "output_type": "error",
     "traceback": [
      "\u001B[1;31m---------------------------------------------------------------------------\u001B[0m",
      "\u001B[1;31mNameError\u001B[0m                                 Traceback (most recent call last)",
      "Cell \u001B[1;32mIn[96], line 1\u001B[0m\n\u001B[1;32m----> 1\u001B[0m \u001B[43mwarehouse\u001B[49m\u001B[38;5;241m.\u001B[39mnodes_list\u001B[38;5;241m.\u001B[39mindex((\u001B[38;5;241m3\u001B[39m,\u001B[38;5;241m3\u001B[39m,\u001B[38;5;241m0\u001B[39m))\n",
      "\u001B[1;31mNameError\u001B[0m: name 'warehouse' is not defined"
     ]
    }
   ],
   "execution_count": 96
  },
  {
   "cell_type": "code",
   "metadata": {
    "ExecuteTime": {
     "end_time": "2024-07-19T17:41:47.808047Z",
     "start_time": "2024-07-19T17:41:47.805115Z"
    }
   },
   "source": [
    "assignment = [18,30, 42, 21, 33, 45]"
   ],
   "outputs": [],
   "execution_count": 34
  },
  {
   "cell_type": "code",
   "metadata": {
    "ExecuteTime": {
     "end_time": "2024-07-19T17:41:47.866391Z",
     "start_time": "2024-07-19T17:41:47.846440Z"
    }
   },
   "source": [
    "warehouse.add_assignment(assignment)"
   ],
   "outputs": [
    {
     "ename": "NameError",
     "evalue": "name 'warehouse' is not defined",
     "output_type": "error",
     "traceback": [
      "\u001B[1;31m---------------------------------------------------------------------------\u001B[0m",
      "\u001B[1;31mNameError\u001B[0m                                 Traceback (most recent call last)",
      "Cell \u001B[1;32mIn[35], line 1\u001B[0m\n\u001B[1;32m----> 1\u001B[0m \u001B[43mwarehouse\u001B[49m\u001B[38;5;241m.\u001B[39madd_assignment(assignment)\n",
      "\u001B[1;31mNameError\u001B[0m: name 'warehouse' is not defined"
     ]
    }
   ],
   "execution_count": 35
  },
  {
   "cell_type": "code",
   "metadata": {
    "ExecuteTime": {
     "end_time": "2024-07-19T17:41:47.898252Z",
     "start_time": "2024-07-19T17:41:47.894288Z"
    }
   },
   "source": [
    "orders = [[0, 1, 2, 3, 4, 5]]"
   ],
   "outputs": [],
   "execution_count": 36
  },
  {
   "cell_type": "code",
   "metadata": {
    "ExecuteTime": {
     "end_time": "2024-07-19T17:41:47.929323Z",
     "start_time": "2024-07-19T17:41:47.925764Z"
    }
   },
   "source": [
    "product_freq = calc_product_freq([0, 1, 2, 3, 4, 5], orders)"
   ],
   "outputs": [],
   "execution_count": 37
  },
  {
   "cell_type": "code",
   "metadata": {
    "ExecuteTime": {
     "end_time": "2024-07-19T17:41:48.004865Z",
     "start_time": "2024-07-19T17:41:47.987150Z"
    }
   },
   "source": [
    "fig = render_warehouse(warehouse, warehouse.storage_assignment, product_freq)"
   ],
   "outputs": [
    {
     "ename": "NameError",
     "evalue": "name 'warehouse' is not defined",
     "output_type": "error",
     "traceback": [
      "\u001B[1;31m---------------------------------------------------------------------------\u001B[0m",
      "\u001B[1;31mNameError\u001B[0m                                 Traceback (most recent call last)",
      "Cell \u001B[1;32mIn[38], line 1\u001B[0m\n\u001B[1;32m----> 1\u001B[0m fig \u001B[38;5;241m=\u001B[39m render_warehouse(\u001B[43mwarehouse\u001B[49m, warehouse\u001B[38;5;241m.\u001B[39mstorage_assignment, product_freq)\n",
      "\u001B[1;31mNameError\u001B[0m: name 'warehouse' is not defined"
     ]
    }
   ],
   "execution_count": 38
  },
  {
   "cell_type": "code",
   "metadata": {
    "ExecuteTime": {
     "end_time": "2024-07-19T17:41:48.036393Z",
     "start_time": "2024-07-19T17:41:48.018858Z"
    }
   },
   "source": [
    "fig.show()"
   ],
   "outputs": [
    {
     "ename": "NameError",
     "evalue": "name 'fig' is not defined",
     "output_type": "error",
     "traceback": [
      "\u001B[1;31m---------------------------------------------------------------------------\u001B[0m",
      "\u001B[1;31mNameError\u001B[0m                                 Traceback (most recent call last)",
      "Cell \u001B[1;32mIn[39], line 1\u001B[0m\n\u001B[1;32m----> 1\u001B[0m \u001B[43mfig\u001B[49m\u001B[38;5;241m.\u001B[39mshow()\n",
      "\u001B[1;31mNameError\u001B[0m: name 'fig' is not defined"
     ]
    }
   ],
   "execution_count": 39
  },
  {
   "cell_type": "code",
   "metadata": {
    "ExecuteTime": {
     "end_time": "2024-07-19T17:41:48.100544Z",
     "start_time": "2024-07-19T17:41:48.096848Z"
    }
   },
   "source": "from warehouse_model.simulation import aisle_to_sku",
   "outputs": [],
   "execution_count": 40
  },
  {
   "cell_type": "code",
   "metadata": {
    "ExecuteTime": {
     "end_time": "2024-07-19T17:41:48.170257Z",
     "start_time": "2024-07-19T17:41:48.147723Z"
    }
   },
   "source": [
    "route, line, distance, zugriff = sim_loop(\"s_shape\", orders, warehouse, (6,1,0))"
   ],
   "outputs": [
    {
     "ename": "NameError",
     "evalue": "name 'warehouse' is not defined",
     "output_type": "error",
     "traceback": [
      "\u001B[1;31m---------------------------------------------------------------------------\u001B[0m",
      "\u001B[1;31mNameError\u001B[0m                                 Traceback (most recent call last)",
      "Cell \u001B[1;32mIn[41], line 1\u001B[0m\n\u001B[1;32m----> 1\u001B[0m route, line, distance, zugriff \u001B[38;5;241m=\u001B[39m sim_loop(\u001B[38;5;124m\"\u001B[39m\u001B[38;5;124ms_shape\u001B[39m\u001B[38;5;124m\"\u001B[39m, orders, \u001B[43mwarehouse\u001B[49m, (\u001B[38;5;241m6\u001B[39m,\u001B[38;5;241m1\u001B[39m,\u001B[38;5;241m0\u001B[39m))\n",
      "\u001B[1;31mNameError\u001B[0m: name 'warehouse' is not defined"
     ]
    }
   ],
   "execution_count": 41
  },
  {
   "cell_type": "code",
   "metadata": {
    "ExecuteTime": {
     "end_time": "2024-07-19T17:41:48.254966Z",
     "start_time": "2024-07-19T17:41:48.234849Z"
    }
   },
   "source": [
    "distance"
   ],
   "outputs": [
    {
     "ename": "NameError",
     "evalue": "name 'distance' is not defined",
     "output_type": "error",
     "traceback": [
      "\u001B[1;31m---------------------------------------------------------------------------\u001B[0m",
      "\u001B[1;31mNameError\u001B[0m                                 Traceback (most recent call last)",
      "Cell \u001B[1;32mIn[42], line 1\u001B[0m\n\u001B[1;32m----> 1\u001B[0m \u001B[43mdistance\u001B[49m\n",
      "\u001B[1;31mNameError\u001B[0m: name 'distance' is not defined"
     ]
    }
   ],
   "execution_count": 42
  },
  {
   "cell_type": "code",
   "metadata": {
    "ExecuteTime": {
     "end_time": "2024-07-19T17:41:48.306542Z",
     "start_time": "2024-07-19T17:41:48.266102Z"
    }
   },
   "source": [
    "storage_assignment_heuristic = deepcopy(warehouse.layout_grid)\n",
    "walkable_locs = np.where(warehouse.layout_grid == 0)\n",
    "\n",
    "for i, loc in enumerate(assignment):\n",
    "    storage_assignment_heuristic[warehouse.nodes_list[loc]] = i \n"
   ],
   "outputs": [
    {
     "ename": "NameError",
     "evalue": "name 'warehouse' is not defined",
     "output_type": "error",
     "traceback": [
      "\u001B[1;31m---------------------------------------------------------------------------\u001B[0m",
      "\u001B[1;31mNameError\u001B[0m                                 Traceback (most recent call last)",
      "Cell \u001B[1;32mIn[43], line 1\u001B[0m\n\u001B[1;32m----> 1\u001B[0m storage_assignment_heuristic \u001B[38;5;241m=\u001B[39m deepcopy(\u001B[43mwarehouse\u001B[49m\u001B[38;5;241m.\u001B[39mlayout_grid)\n\u001B[0;32m      2\u001B[0m walkable_locs \u001B[38;5;241m=\u001B[39m np\u001B[38;5;241m.\u001B[39mwhere(warehouse\u001B[38;5;241m.\u001B[39mlayout_grid \u001B[38;5;241m==\u001B[39m \u001B[38;5;241m0\u001B[39m)\n\u001B[0;32m      4\u001B[0m \u001B[38;5;28;01mfor\u001B[39;00m i, loc \u001B[38;5;129;01min\u001B[39;00m \u001B[38;5;28menumerate\u001B[39m(assignment):\n",
      "\u001B[1;31mNameError\u001B[0m: name 'warehouse' is not defined"
     ]
    }
   ],
   "execution_count": 43
  },
  {
   "cell_type": "code",
   "metadata": {
    "ExecuteTime": {
     "end_time": "2024-07-19T17:41:48.387912Z",
     "start_time": "2024-07-19T17:41:48.358129Z"
    }
   },
   "source": [
    "route = np.array(route[0])\n",
    "line = np.array(line[0])\n",
    "\n",
    "node_xyz = np.array([warehouse.pos_dict[v] for v in sorted(warehouse.graph)])\n",
    "edge_xyz = np.array([(warehouse.pos_dict[u], warehouse.pos_dict[v]) for u, v in warehouse.graph.edges()])\n",
    "\n",
    "# data = []\n",
    "# for x, y, z in zip(node_xyz.T[0], node_xyz.T[1], node_xyz.T[2]):\n",
    "#     data_point = storage_frequence_heu[x,y,z]\n",
    "#     data.append(data_point)\n",
    "\n",
    "assignment = []\n",
    "for x, y, z in zip(node_xyz.T[0], node_xyz.T[1], node_xyz.T[2]):\n",
    "    assignment_point = storage_assignment_heuristic[x,y,z]\n",
    "    assignment.append(assignment_point)\n",
    "\n",
    "trace = go.Scatter3d(customdata=np.stack((assignment),axis=-1), hovertemplate = 'x: %{x}<br>y: %{y}<br>z: %{z}<br>Cluster<br>Product: %{customdata[1]}',\n",
    "x = node_xyz.T[0], y = node_xyz.T[1], z = node_xyz.T[2],mode = 'markers', marker = dict(\n",
    "    size = 12)\n",
    ")\n",
    "\n",
    "lines = go.Scatter3d(\n",
    "    x=line.T[0],\n",
    "    y=line.T[1],\n",
    "    z=line.T[2],\n",
    "    mode='lines',\n",
    "    line=dict(color='red', width=10),  # Customize line properties\n",
    ")\n",
    "\n",
    "frames=[go.Frame(data=[go.Scatter3d(\n",
    "    x=[route.T[0][i]],\n",
    "    y=[route.T[1][i]],\n",
    "    z=[route.T[2][i]],\n",
    "    mode='markers',\n",
    "    marker=dict(color='blue', size=10),  # Customize line properties\n",
    ") ]) for i in range(len(route.T[0])-1)]\n",
    "\n",
    "layout=go.Layout(\n",
    "        xaxis=dict(range=[0, 40], autorange=False),\n",
    "        yaxis=dict(range=[0, 40], autorange=False),\n",
    "        title=\"Start Title\",\n",
    "        updatemenus=[dict(\n",
    "            type=\"buttons\",\n",
    "            buttons=[dict(label=\"Play\",\n",
    "                          method=\"animate\",\n",
    "                          args=[None])])]\n",
    "    )\n",
    "fig = go.Figure(data = [trace, lines], layout = layout, frames = frames)\n",
    "fig.update_traces(marker_size = 5)\n",
    "fig.show()"
   ],
   "outputs": [
    {
     "ename": "NameError",
     "evalue": "name 'route' is not defined",
     "output_type": "error",
     "traceback": [
      "\u001B[1;31m---------------------------------------------------------------------------\u001B[0m",
      "\u001B[1;31mNameError\u001B[0m                                 Traceback (most recent call last)",
      "Cell \u001B[1;32mIn[44], line 1\u001B[0m\n\u001B[1;32m----> 1\u001B[0m route \u001B[38;5;241m=\u001B[39m np\u001B[38;5;241m.\u001B[39marray(\u001B[43mroute\u001B[49m[\u001B[38;5;241m0\u001B[39m])\n\u001B[0;32m      2\u001B[0m line \u001B[38;5;241m=\u001B[39m np\u001B[38;5;241m.\u001B[39marray(line[\u001B[38;5;241m0\u001B[39m])\n\u001B[0;32m      4\u001B[0m node_xyz \u001B[38;5;241m=\u001B[39m np\u001B[38;5;241m.\u001B[39marray([warehouse\u001B[38;5;241m.\u001B[39mpos_dict[v] \u001B[38;5;28;01mfor\u001B[39;00m v \u001B[38;5;129;01min\u001B[39;00m \u001B[38;5;28msorted\u001B[39m(warehouse\u001B[38;5;241m.\u001B[39mgraph)])\n",
      "\u001B[1;31mNameError\u001B[0m: name 'route' is not defined"
     ]
    }
   ],
   "execution_count": 44
  },
  {
   "cell_type": "code",
   "metadata": {
    "ExecuteTime": {
     "end_time": "2024-07-19T17:41:48.448733Z",
     "start_time": "2024-07-19T17:41:48.405321Z"
    }
   },
   "source": [
    "warehouse_heatmap = px.imshow(warehouse.layout_grid[:,:,0])\n",
    "warehouse_heatmap"
   ],
   "outputs": [
    {
     "ename": "NameError",
     "evalue": "name 'warehouse' is not defined",
     "output_type": "error",
     "traceback": [
      "\u001B[1;31m---------------------------------------------------------------------------\u001B[0m",
      "\u001B[1;31mNameError\u001B[0m                                 Traceback (most recent call last)",
      "Cell \u001B[1;32mIn[45], line 1\u001B[0m\n\u001B[1;32m----> 1\u001B[0m warehouse_heatmap \u001B[38;5;241m=\u001B[39m px\u001B[38;5;241m.\u001B[39mimshow(\u001B[43mwarehouse\u001B[49m\u001B[38;5;241m.\u001B[39mlayout_grid[:,:,\u001B[38;5;241m0\u001B[39m])\n\u001B[0;32m      2\u001B[0m warehouse_heatmap\n",
      "\u001B[1;31mNameError\u001B[0m: name 'warehouse' is not defined"
     ]
    }
   ],
   "execution_count": 45
  },
  {
   "cell_type": "code",
   "metadata": {
    "ExecuteTime": {
     "end_time": "2024-07-19T17:41:48.504387Z",
     "start_time": "2024-07-19T17:41:48.501115Z"
    }
   },
   "source": [],
   "outputs": [],
   "execution_count": 45
  }
 ],
 "metadata": {
  "kernelspec": {
   "display_name": "Python 3",
   "language": "python",
   "name": "python3"
  },
  "language_info": {
   "codemirror_mode": {
    "name": "ipython",
    "version": 3
   },
   "file_extension": ".py",
   "mimetype": "text/x-python",
   "name": "python",
   "nbconvert_exporter": "python",
   "pygments_lexer": "ipython3",
   "version": "3.11.9"
  },
  "orig_nbformat": 4
 },
 "nbformat": 4,
 "nbformat_minor": 2
}
