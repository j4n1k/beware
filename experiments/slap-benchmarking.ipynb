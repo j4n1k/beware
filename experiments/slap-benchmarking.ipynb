{
 "cells": [
  {
   "cell_type": "code",
   "execution_count": 116,
   "metadata": {},
   "outputs": [],
   "source": [
    "import os \n",
    "import random\n",
    "import pickle\n",
    "from copy import deepcopy\n",
    "from collections import defaultdict\n",
    "from typing import Literal\n",
    "\n",
    "import networkx as nx \n",
    "import plotly.graph_objects as go\n",
    "import matplotlib.pyplot as plt\n",
    "import numpy as np\n",
    "import pandas as pd\n",
    "# from sklearn.model_selection import train_test_split\n",
    "# from sklearn.cluster import AgglomerativeClustering\n",
    "import solver.ga as ga\n",
    "from solver.slap_models import SLAP, SLAP_PA\n",
    "import scipy\n",
    "from math import ceil\n",
    "from pulp import *\n",
    "from warehouse_model.layout import Layout\n",
    "from warehouse_model.simulation import Order, OrderPickEvent, run_simulation, Agent, s_shape, stichgang\n",
    "from utils import sort_dict, get_products, prepare_orders, calc_product_affinity, calc_product_freq, render_warehouse\n",
    "import datetime"
   ]
  },
  {
   "cell_type": "markdown",
   "metadata": {},
   "source": [
    "# Orders"
   ]
  },
  {
   "cell_type": "code",
   "execution_count": 117,
   "metadata": {},
   "outputs": [
    {
     "data": {
      "text/plain": [
       "'Use this code to concat all orders to generate a large order set'"
      ]
     },
     "execution_count": 117,
     "metadata": {},
     "output_type": "execute_result"
    }
   ],
   "source": [
    "\"\"\"Use this code to concat all orders to generate a large order set\"\"\"\n",
    "orders = []\n",
    "# Folder containing your text files\n",
    "folder_path = 'data/orders/large'\n",
    "\n",
    "# Get a list of all text files in the folder\n",
    "file_list = [f for f in os.listdir(folder_path)]\n",
    "\n",
    "# Initialize an empty DataFrame to store the data\n",
    "combined_data = pd.DataFrame()\n",
    "\n",
    "# Iterate through each text file and read its contents into a DataFrame\n",
    "for file_name in file_list:\n",
    "    file_path = os.path.join(folder_path, file_name)\n",
    "    with open(file_path, 'r') as file:\n",
    "        lines = file.readlines()\n",
    "\n",
    "    for line in lines[2:]:\n",
    "        orderline = []\n",
    "        items = line.strip().split()[1:]\n",
    "        for i in items[::2]:\n",
    "            orderline.append(int(i))\n",
    "        orders.append(orderline)"
   ]
  },
  {
   "cell_type": "code",
   "execution_count": 118,
   "metadata": {},
   "outputs": [
    {
     "name": "stdout",
     "output_type": "stream",
     "text": [
      "['1', '3', '5', '8', '21', '4']\n",
      "['3', '8', '4']\n",
      "['1', '3', '5', '8', '21', '4', '12', '3', '11', '7']\n",
      "['3', '8', '4', '3', '7']\n",
      "['1', '3', '5', '8', '21', '4', '12', '3', '13', '7']\n",
      "['3', '8', '4', '3', '7']\n",
      "['1', '3', '5', '8', '21', '4', '12', '3', '11', '7']\n",
      "['3', '8', '4', '3', '7']\n"
     ]
    }
   ],
   "source": [
    "# with open('data/orders/large/instances_d1_ord5', 'r') as file:\n",
    "#     lines = file.readlines()\n",
    "\n",
    "# # Extract the total number of products\n",
    "# num_products = int(lines[0].strip())\n",
    "\n",
    "# # Initialize a list to store the data\n",
    "# orders = []\n",
    "\n",
    "# # Loop through the remaining lines to extract product information\n",
    "# for line in lines[2:]:\n",
    "#     orderline = []\n",
    "#     items = line.strip().split()[1:]\n",
    "#     print(items)\n",
    "#     print(items[1::2])\n",
    "#     items_ordered = [int(i) for i in items[::2]]\n",
    "#     quantity_orderd = [int(i) for i in items[1::2]]\n",
    "#     for i, item in enumerate(items_ordered):\n",
    "#         for _ in range(quantity_orderd[i]):\n",
    "#             orderline.append(item)\n",
    "#     orders.append(orderline)"
   ]
  },
  {
   "cell_type": "code",
   "execution_count": 119,
   "metadata": {},
   "outputs": [],
   "source": [
    "products = get_products(orders)"
   ]
  },
  {
   "cell_type": "code",
   "execution_count": 120,
   "metadata": {},
   "outputs": [],
   "source": [
    "products_mapping = {p: i for i, p in enumerate(products)}"
   ]
  },
  {
   "cell_type": "code",
   "execution_count": 121,
   "metadata": {},
   "outputs": [],
   "source": [
    "with open('data/orders/product_description', 'r') as file:\n",
    "    lines = file.readlines()\n",
    "\n",
    "\n",
    "\n",
    "# Extract the total number of products\n",
    "num_products = int(lines[0].strip())\n",
    "\n",
    "# Initialize a list to store the data\n",
    "master_data = pd.DataFrame()\n",
    "# Loop through the remaining lines to extract product information\n",
    "for line in lines[2:]:\n",
    "    l = line.strip().split(\",\")\n",
    "    product_id = int(l[0])\n",
    "    \n",
    "    if product_id in products:\n",
    "        data = {\"Item\": [products_mapping[product_id]], \"Category\": [l[1]], \"ItemName\": [l[5]]}\n",
    "        row = pd.DataFrame(data)\n",
    "        master_data = pd.concat([master_data, row])\n",
    "\n",
    "#master_data.to_csv(\"master_data.csv\", index = False)"
   ]
  },
  {
   "cell_type": "code",
   "execution_count": 122,
   "metadata": {},
   "outputs": [],
   "source": [
    "orders = prepare_orders(orders, products_mapping)\n",
    "products = get_products(orders)\n",
    "n_products = len(products)"
   ]
  },
  {
   "cell_type": "code",
   "execution_count": 123,
   "metadata": {},
   "outputs": [
    {
     "data": {
      "text/plain": [
       "[[0, 0, 0, 1, 1, 1, 1, 1, 1, 1, 1, 2, 2, 2, 2],\n",
       " [0, 0, 0, 1, 1, 1, 1, 1, 1, 1, 1, 2, 2, 2, 2, 3, 3, 3, 4, 4, 4, 4, 4, 4, 4],\n",
       " [0, 0, 0, 1, 1, 1, 1, 1, 1, 1, 1, 2, 2, 2, 2, 3, 3, 3, 5, 5, 5, 5, 5, 5, 5],\n",
       " [0, 0, 0, 1, 1, 1, 1, 1, 1, 1, 1, 2, 2, 2, 2, 3, 3, 3, 4, 4, 4, 4, 4, 4, 4]]"
      ]
     },
     "execution_count": 123,
     "metadata": {},
     "output_type": "execute_result"
    }
   ],
   "source": [
    "orders"
   ]
  },
  {
   "cell_type": "code",
   "execution_count": 124,
   "metadata": {},
   "outputs": [],
   "source": [
    "data = []\n",
    "for order_id, order in enumerate(orders, start=1):\n",
    "    data.extend([{'OrderID': order_id, 'Item': item} for item in order])\n",
    "\n",
    "# Create a pandas DataFrame\n",
    "df_orders = pd.DataFrame(data)\n"
   ]
  },
  {
   "cell_type": "code",
   "execution_count": 125,
   "metadata": {},
   "outputs": [],
   "source": [
    "#df_orders.merge(master_data, on=\"Item\", how=\"left\").to_csv(\"orders_slap_large.csv\", index=False)"
   ]
  },
  {
   "cell_type": "code",
   "execution_count": 126,
   "metadata": {},
   "outputs": [],
   "source": [
    "product_frequency = calc_product_freq(products, orders)"
   ]
  },
  {
   "cell_type": "markdown",
   "metadata": {},
   "source": [
    "# Layout"
   ]
  },
  {
   "cell_type": "code",
   "execution_count": 127,
   "metadata": {},
   "outputs": [
    {
     "data": {
      "text/plain": [
       "6"
      ]
     },
     "execution_count": 127,
     "metadata": {},
     "output_type": "execute_result"
    }
   ],
   "source": [
    "n_products = len(products)\n",
    "n_products"
   ]
  },
  {
   "cell_type": "code",
   "execution_count": 128,
   "metadata": {},
   "outputs": [],
   "source": [
    "x = 3\n",
    "z = 1\n",
    "storage_per_aisle = x \n",
    "y = ceil(n_products / storage_per_aisle / z) * 2"
   ]
  },
  {
   "cell_type": "code",
   "execution_count": 129,
   "metadata": {},
   "outputs": [
    {
     "data": {
      "text/plain": [
       "4"
      ]
     },
     "execution_count": 129,
     "metadata": {},
     "output_type": "execute_result"
    }
   ],
   "source": [
    "y"
   ]
  },
  {
   "cell_type": "code",
   "execution_count": 130,
   "metadata": {},
   "outputs": [],
   "source": [
    "double_deep = False \n",
    "\n",
    "warehouse = Layout(x+2, y, z, double_deep, False, None)\n",
    "\n",
    "path = os.path.join(\"data/cache/dist_mats/\", \"dist_mat_\" + str(warehouse.layout_grid.shape) + \"_\" + str(double_deep) + \".npy\")\n",
    "if os.path.exists(path):\n",
    "    dist_mat = np.load(path)\n",
    "    warehouse.load_dist_mat(dist_mat)\n",
    "else:\n",
    "    dist_mat = warehouse.gen_dist_mat(path)"
   ]
  },
  {
   "cell_type": "code",
   "execution_count": 131,
   "metadata": {},
   "outputs": [],
   "source": [
    "storage_locs = [warehouse.nodes_list.index(loc) for loc in warehouse.storage_locs]"
   ]
  },
  {
   "cell_type": "markdown",
   "metadata": {},
   "source": [
    "# PF PA "
   ]
  },
  {
   "cell_type": "code",
   "execution_count": 132,
   "metadata": {},
   "outputs": [],
   "source": [
    "assignment_heuristic = ga.heuristic_solution(warehouse, product_frequency, n_products, (0,0,0))"
   ]
  },
  {
   "cell_type": "code",
   "execution_count": 133,
   "metadata": {},
   "outputs": [],
   "source": [
    "#initial_population = [ga.generate_genome(products, warehouse) for i in range(100)]\n",
    "initial_population = []\n",
    "for i in range(10):\n",
    "    gen = deepcopy(assignment_heuristic)\n",
    "    initial_population.append(gen)"
   ]
  },
  {
   "cell_type": "code",
   "execution_count": 134,
   "metadata": {},
   "outputs": [],
   "source": [
    "#initial_population = [ga.generate_genome(products, warehouse) for i in range(100)]"
   ]
  },
  {
   "cell_type": "code",
   "execution_count": 135,
   "metadata": {},
   "outputs": [],
   "source": [
    "product_pairs_frequency = calc_product_affinity(orders)"
   ]
  },
  {
   "cell_type": "code",
   "execution_count": 141,
   "metadata": {},
   "outputs": [
    {
     "data": {
      "text/plain": [
       "dict_values([12, 32, 16, 9, 14, 7])"
      ]
     },
     "execution_count": 141,
     "metadata": {},
     "output_type": "execute_result"
    }
   ],
   "source": [
    "product_frequency.values()"
   ]
  },
  {
   "cell_type": "code",
   "execution_count": 142,
   "metadata": {},
   "outputs": [],
   "source": [
    "product_frequency_pf_pa = [0 for i in range(n_products)]\n",
    "for i in list(product_frequency.keys()):\n",
    "    product_frequency_pf_pa[i] += i "
   ]
  },
  {
   "cell_type": "code",
   "execution_count": 143,
   "metadata": {},
   "outputs": [],
   "source": [
    "product_pairs_np = np.zeros((n_products, n_products))"
   ]
  },
  {
   "cell_type": "code",
   "execution_count": 144,
   "metadata": {},
   "outputs": [],
   "source": [
    "for key in product_pairs_frequency.keys():\n",
    "    for pair in product_pairs_frequency[key].keys():\n",
    "        product_pairs_np[key][pair] = product_pairs_frequency[key][pair]"
   ]
  },
  {
   "cell_type": "code",
   "execution_count": 161,
   "metadata": {},
   "outputs": [
    {
     "name": "stdout",
     "output_type": "stream",
     "text": [
      "0 4858.0\n",
      "1 4858.0\n",
      "2 4858.0\n",
      "3 4858.0\n",
      "4 4858.0\n",
      "5 4858.0\n",
      "6 4858.0\n",
      "7 4858.0\n",
      "8 4858.0\n",
      "9 4858.0\n",
      "10 4858.0\n",
      "11 4858.0\n",
      "12 4858.0\n",
      "13 4858.0\n",
      "14 4858.0\n",
      "15 4858.0\n",
      "16 4858.0\n",
      "17 4858.0\n",
      "18 4858.0\n",
      "19 4858.0\n",
      "20 4858.0\n",
      "21 4858.0\n",
      "22 4858.0\n",
      "23 4858.0\n",
      "24 4858.0\n",
      "25 4858.0\n",
      "26 4858.0\n",
      "27 4858.0\n",
      "28 4858.0\n",
      "29 4858.0\n",
      "30 4858.0\n",
      "31 4858.0\n",
      "32 4858.0\n",
      "33 4858.0\n",
      "34 4858.0\n",
      "35 4858.0\n",
      "36 4858.0\n",
      "37 4858.0\n",
      "38 4858.0\n",
      "39 4858.0\n",
      "40 4858.0\n",
      "41 4858.0\n",
      "42 4858.0\n",
      "43 4858.0\n",
      "44 4858.0\n",
      "45 4858.0\n",
      "46 4858.0\n",
      "47 4858.0\n",
      "48 4858.0\n",
      "49 4858.0\n",
      "50 4858.0\n",
      "51 4858.0\n",
      "52 4858.0\n",
      "53 4858.0\n",
      "54 4858.0\n",
      "55 4858.0\n",
      "56 4858.0\n",
      "57 4858.0\n",
      "58 4858.0\n",
      "59 4858.0\n",
      "60 4858.0\n",
      "61 4858.0\n",
      "62 4858.0\n",
      "63 4858.0\n",
      "64 4858.0\n",
      "65 4858.0\n",
      "66 4858.0\n",
      "67 4858.0\n",
      "68 4858.0\n",
      "69 4858.0\n",
      "70 4858.0\n",
      "71 4858.0\n",
      "72 4858.0\n",
      "73 4858.0\n",
      "74 4858.0\n",
      "75 4858.0\n",
      "76 4858.0\n",
      "77 4858.0\n",
      "78 4858.0\n",
      "79 4858.0\n",
      "80 4858.0\n",
      "81 4858.0\n",
      "82 4858.0\n",
      "83 4858.0\n",
      "84 4858.0\n",
      "85 4858.0\n",
      "86 4858.0\n",
      "87 4858.0\n",
      "88 4858.0\n",
      "89 4858.0\n",
      "90 4858.0\n",
      "91 4858.0\n",
      "92 4858.0\n",
      "93 4858.0\n",
      "94 4858.0\n",
      "95 4858.0\n",
      "96 4858.0\n",
      "97 4858.0\n",
      "98 4858.0\n",
      "99 4858.0\n"
     ]
    }
   ],
   "source": [
    "product_frequency_pf_pa = list(product_frequency.values())\n",
    "fitness_tracker_ = []\n",
    "min_fitness = np.inf\n",
    "for g in range(100):\n",
    "    new_pop = []\n",
    "    pop_results = []\n",
    "    \n",
    "   \n",
    "    fitness_result = [ga.fitness_pf_pa(pop, dist_mat, product_frequency_pf_pa, product_pairs_frequency) for pop in initial_population]\n",
    "    print(g, min(fitness_result))\n",
    "    fitness_tracker_.append(min(fitness_result))\n",
    "    for _ in range(100):\n",
    "        selected = ga.selection(initial_population, fitness_result)\n",
    "        child = ga.crossover(selected)\n",
    "        mutated = ga.mutation(child)\n",
    "        new_pop.append(mutated)\n",
    "    initial_population = new_pop\n",
    "\n",
    "min_fitness = min(fitness_result)\n",
    "min_child = initial_population[fitness_result.index(min_fitness)]"
   ]
  },
  {
   "cell_type": "code",
   "execution_count": null,
   "metadata": {},
   "outputs": [],
   "source": [
    "depot = 0\n",
    "slap = SLAP(dist_mat, products, product_frequency, storage_locs, depot)"
   ]
  },
  {
   "cell_type": "code",
   "execution_count": null,
   "metadata": {},
   "outputs": [
    {
     "name": "stdout",
     "output_type": "stream",
     "text": [
      "Gurobi Optimizer version 11.0.0 build v11.0.0rc2 (mac64[x86] - Darwin 21.6.0 21G816)\n",
      "\n",
      "CPU model: Intel(R) Core(TM) i5-7360U CPU @ 2.30GHz\n",
      "Thread count: 2 physical cores, 4 logical processors, using up to 4 threads\n",
      "\n",
      "Optimize a model with 12 rows, 36 columns and 72 nonzeros\n",
      "Model fingerprint: 0x7eb30d82\n",
      "Variable types: 0 continuous, 36 integer (36 binary)\n",
      "Coefficient statistics:\n",
      "  Matrix range     [1e+00, 1e+00]\n",
      "  Objective range  [2e+01, 2e+02]\n",
      "  Bounds range     [1e+00, 1e+00]\n",
      "  RHS range        [1e+00, 1e+00]\n",
      "Found heuristic solution: objective 378.0000000\n",
      "Presolve time: 0.07s\n",
      "Presolved: 12 rows, 36 columns, 72 nonzeros\n",
      "Variable types: 0 continuous, 36 integer (36 binary)\n",
      "\n",
      "Root relaxation: objective 3.280000e+02, 22 iterations, 0.03 seconds (0.00 work units)\n",
      "\n",
      "    Nodes    |    Current Node    |     Objective Bounds      |     Work\n",
      " Expl Unexpl |  Obj  Depth IntInf | Incumbent    BestBd   Gap | It/Node Time\n",
      "\n",
      "*    0     0               0     328.0000000  328.00000  0.00%     -    0s\n",
      "\n",
      "Explored 1 nodes (22 simplex iterations) in 0.20 seconds (0.00 work units)\n",
      "Thread count was 4 (of 4 available processors)\n",
      "\n",
      "Solution count 2: 328 378 \n",
      "\n",
      "Optimal solution found (tolerance 1.00e-04)\n",
      "Best objective 3.280000000000e+02, best bound 3.280000000000e+02, gap 0.0000%\n",
      "Optimal Solution Found:\n",
      "Item 0 stored at storage location 11\n",
      "Item 1 stored at storage location 8\n",
      "Item 2 stored at storage location 7\n",
      "Item 3 stored at storage location 16\n",
      "Item 4 stored at storage location 12\n",
      "Item 5 stored at storage location 15\n"
     ]
    }
   ],
   "source": [
    "slap.report()"
   ]
  },
  {
   "cell_type": "code",
   "execution_count": 156,
   "metadata": {},
   "outputs": [],
   "source": [
    "depot = 0\n",
    "slap = SLAP_PA(dist_mat, products, product_frequency, product_pairs_np, storage_locs, depot)"
   ]
  },
  {
   "cell_type": "code",
   "execution_count": 157,
   "metadata": {},
   "outputs": [
    {
     "name": "stdout",
     "output_type": "stream",
     "text": [
      "Gurobi Optimizer version 11.0.0 build v11.0.0rc2 (mac64[x86] - Darwin 21.6.0 21G816)\n",
      "\n",
      "CPU model: Intel(R) Core(TM) i5-7360U CPU @ 2.30GHz\n",
      "Thread count: 2 physical cores, 4 logical processors, using up to 4 threads\n",
      "\n",
      "Optimize a model with 12 rows, 36 columns and 72 nonzeros\n",
      "Model fingerprint: 0x9e66bbbf\n",
      "Model has 510 quadratic objective terms\n",
      "Variable types: 0 continuous, 36 integer (36 binary)\n",
      "Coefficient statistics:\n",
      "  Matrix range     [1e+00, 1e+00]\n",
      "  Objective range  [2e+01, 2e+02]\n",
      "  QObjective range [1e+02, 4e+03]\n",
      "  Bounds range     [1e+00, 1e+00]\n"
     ]
    },
    {
     "name": "stdout",
     "output_type": "stream",
     "text": [
      "  RHS range        [1e+00, 1e+00]\n",
      "Found heuristic solution: objective 5286.0000000\n",
      "Presolve time: 0.01s\n",
      "Presolved: 522 rows, 546 columns, 1602 nonzeros\n",
      "Variable types: 0 continuous, 546 integer (546 binary)\n",
      "\n",
      "Root relaxation: objective 3.280000e+02, 30 iterations, 0.00 seconds (0.00 work units)\n",
      "\n",
      "    Nodes    |    Current Node    |     Objective Bounds      |     Work\n",
      " Expl Unexpl |  Obj  Depth IntInf | Incumbent    BestBd   Gap | It/Node Time\n",
      "\n",
      "     0     0  328.00000    0   12 5286.00000  328.00000  93.8%     -    0s\n",
      "H    0     0                    5040.0000000  328.00000  93.5%     -    0s\n",
      "     0     0  365.00000    0   12 5040.00000  365.00000  92.8%     -    0s\n",
      "H    0     0                    4944.0000000  365.00000  92.6%     -    0s\n",
      "     0     0  387.00000    0   12 4944.00000  387.00000  92.2%     -    0s\n",
      "     0     0  634.00000    0   12 4944.00000  634.00000  87.2%     -    0s\n",
      "     0     2  899.00000    0   12 4944.00000  899.00000  81.8%     -    0s\n",
      "*   24     6               8    4922.0000000 3743.00000  24.0%  60.2    0s\n",
      "*   37     1               6    4878.0000000 4321.00000  11.4%  50.3    0s\n",
      "*   38     1               6    4872.0000000 4321.00000  11.3%  49.1    0s\n",
      "H   43     0                    4864.0000000 4750.00000  2.34%  46.5    0s\n",
      "*   46     0               6    4858.0000000 4858.00000  0.00%  43.9    0s\n",
      "\n",
      "Cutting planes:\n",
      "  RLT: 160\n",
      "\n",
      "Explored 47 nodes (2106 simplex iterations) in 0.41 seconds (0.14 work units)\n",
      "Thread count was 4 (of 4 available processors)\n",
      "\n",
      "Solution count 8: 4858 4864 4872 ... 5286\n",
      "\n",
      "Optimal solution found (tolerance 1.00e-04)\n",
      "Best objective 4.858000000000e+03, best bound 4.858000000000e+03, gap 0.0000%\n",
      "Optimal Solution Found:\n",
      "Item 0 stored at storage location 7\n",
      "Item 1 stored at storage location 11\n",
      "Item 2 stored at storage location 12\n",
      "Item 3 stored at storage location 15\n",
      "Item 4 stored at storage location 8\n",
      "Item 5 stored at storage location 16\n"
     ]
    }
   ],
   "source": [
    "slap.report()"
   ]
  },
  {
   "cell_type": "code",
   "execution_count": 158,
   "metadata": {},
   "outputs": [
    {
     "data": {
      "text/plain": [
       "4858.0"
      ]
     },
     "execution_count": 158,
     "metadata": {},
     "output_type": "execute_result"
    }
   ],
   "source": [
    "slap.model.objVal"
   ]
  },
  {
   "cell_type": "markdown",
   "metadata": {},
   "source": [
    "# Visualisierung"
   ]
  },
  {
   "cell_type": "code",
   "execution_count": 152,
   "metadata": {},
   "outputs": [],
   "source": [
    "fig = render_warehouse(warehouse, min_child, product_frequency)"
   ]
  },
  {
   "cell_type": "code",
   "execution_count": 153,
   "metadata": {},
   "outputs": [
    {
     "data": {
      "application/vnd.plotly.v1+json": {
       "config": {
        "plotlyServerURL": "https://plot.ly"
       },
       "data": [
        {
         "customdata": [
          [
           0,
           -100
          ],
          [
           0,
           -100
          ],
          [
           0,
           -100
          ],
          [
           0,
           -100
          ],
          [
           32,
           1
          ],
          [
           0,
           -100
          ],
          [
           14,
           4
          ],
          [
           0,
           -100
          ],
          [
           9,
           3
          ],
          [
           0,
           -100
          ],
          [
           16,
           2
          ],
          [
           0,
           -100
          ],
          [
           12,
           0
          ],
          [
           0,
           -100
          ],
          [
           7,
           5
          ],
          [
           0,
           -100
          ],
          [
           0,
           -100
          ],
          [
           0,
           -100
          ],
          [
           0,
           -100
          ],
          [
           0,
           -100
          ]
         ],
         "hovertemplate": "x: %{x}<br>y: %{y}<br>z: %{z}<br>Order Frequency: %{customdata[0]}<br>Product: %{customdata[1]}}",
         "marker": {
          "color": [
           0,
           0,
           0,
           0,
           32,
           0,
           14,
           0,
           9,
           0,
           16,
           0,
           12,
           0,
           7,
           0,
           0,
           0,
           0,
           0
          ],
          "colorscale": [
           [
            0,
            "rgb(3, 35, 51)"
           ],
           [
            0.09090909090909091,
            "rgb(13, 48, 100)"
           ],
           [
            0.18181818181818182,
            "rgb(53, 50, 155)"
           ],
           [
            0.2727272727272727,
            "rgb(93, 62, 153)"
           ],
           [
            0.36363636363636365,
            "rgb(126, 77, 143)"
           ],
           [
            0.45454545454545453,
            "rgb(158, 89, 135)"
           ],
           [
            0.5454545454545454,
            "rgb(193, 100, 121)"
           ],
           [
            0.6363636363636364,
            "rgb(225, 113, 97)"
           ],
           [
            0.7272727272727273,
            "rgb(246, 139, 69)"
           ],
           [
            0.8181818181818182,
            "rgb(251, 173, 60)"
           ],
           [
            0.9090909090909091,
            "rgb(246, 211, 70)"
           ],
           [
            1,
            "rgb(231, 250, 90)"
           ]
          ],
          "size": 5,
          "symbol": "square"
         },
         "mode": "markers",
         "type": "scatter3d",
         "x": [
          0,
          0,
          0,
          0,
          1,
          1,
          1,
          1,
          2,
          2,
          2,
          2,
          3,
          3,
          3,
          3,
          4,
          4,
          4,
          4
         ],
         "y": [
          0,
          1,
          2,
          3,
          0,
          1,
          2,
          3,
          0,
          1,
          2,
          3,
          0,
          1,
          2,
          3,
          0,
          1,
          2,
          3
         ],
         "z": [
          0,
          0,
          0,
          0,
          0,
          0,
          0,
          0,
          0,
          0,
          0,
          0,
          0,
          0,
          0,
          0,
          0,
          0,
          0,
          0
         ]
        }
       ],
       "layout": {
        "template": {
         "data": {
          "bar": [
           {
            "error_x": {
             "color": "#2a3f5f"
            },
            "error_y": {
             "color": "#2a3f5f"
            },
            "marker": {
             "line": {
              "color": "#E5ECF6",
              "width": 0.5
             },
             "pattern": {
              "fillmode": "overlay",
              "size": 10,
              "solidity": 0.2
             }
            },
            "type": "bar"
           }
          ],
          "barpolar": [
           {
            "marker": {
             "line": {
              "color": "#E5ECF6",
              "width": 0.5
             },
             "pattern": {
              "fillmode": "overlay",
              "size": 10,
              "solidity": 0.2
             }
            },
            "type": "barpolar"
           }
          ],
          "carpet": [
           {
            "aaxis": {
             "endlinecolor": "#2a3f5f",
             "gridcolor": "white",
             "linecolor": "white",
             "minorgridcolor": "white",
             "startlinecolor": "#2a3f5f"
            },
            "baxis": {
             "endlinecolor": "#2a3f5f",
             "gridcolor": "white",
             "linecolor": "white",
             "minorgridcolor": "white",
             "startlinecolor": "#2a3f5f"
            },
            "type": "carpet"
           }
          ],
          "choropleth": [
           {
            "colorbar": {
             "outlinewidth": 0,
             "ticks": ""
            },
            "type": "choropleth"
           }
          ],
          "contour": [
           {
            "colorbar": {
             "outlinewidth": 0,
             "ticks": ""
            },
            "colorscale": [
             [
              0,
              "#0d0887"
             ],
             [
              0.1111111111111111,
              "#46039f"
             ],
             [
              0.2222222222222222,
              "#7201a8"
             ],
             [
              0.3333333333333333,
              "#9c179e"
             ],
             [
              0.4444444444444444,
              "#bd3786"
             ],
             [
              0.5555555555555556,
              "#d8576b"
             ],
             [
              0.6666666666666666,
              "#ed7953"
             ],
             [
              0.7777777777777778,
              "#fb9f3a"
             ],
             [
              0.8888888888888888,
              "#fdca26"
             ],
             [
              1,
              "#f0f921"
             ]
            ],
            "type": "contour"
           }
          ],
          "contourcarpet": [
           {
            "colorbar": {
             "outlinewidth": 0,
             "ticks": ""
            },
            "type": "contourcarpet"
           }
          ],
          "heatmap": [
           {
            "colorbar": {
             "outlinewidth": 0,
             "ticks": ""
            },
            "colorscale": [
             [
              0,
              "#0d0887"
             ],
             [
              0.1111111111111111,
              "#46039f"
             ],
             [
              0.2222222222222222,
              "#7201a8"
             ],
             [
              0.3333333333333333,
              "#9c179e"
             ],
             [
              0.4444444444444444,
              "#bd3786"
             ],
             [
              0.5555555555555556,
              "#d8576b"
             ],
             [
              0.6666666666666666,
              "#ed7953"
             ],
             [
              0.7777777777777778,
              "#fb9f3a"
             ],
             [
              0.8888888888888888,
              "#fdca26"
             ],
             [
              1,
              "#f0f921"
             ]
            ],
            "type": "heatmap"
           }
          ],
          "heatmapgl": [
           {
            "colorbar": {
             "outlinewidth": 0,
             "ticks": ""
            },
            "colorscale": [
             [
              0,
              "#0d0887"
             ],
             [
              0.1111111111111111,
              "#46039f"
             ],
             [
              0.2222222222222222,
              "#7201a8"
             ],
             [
              0.3333333333333333,
              "#9c179e"
             ],
             [
              0.4444444444444444,
              "#bd3786"
             ],
             [
              0.5555555555555556,
              "#d8576b"
             ],
             [
              0.6666666666666666,
              "#ed7953"
             ],
             [
              0.7777777777777778,
              "#fb9f3a"
             ],
             [
              0.8888888888888888,
              "#fdca26"
             ],
             [
              1,
              "#f0f921"
             ]
            ],
            "type": "heatmapgl"
           }
          ],
          "histogram": [
           {
            "marker": {
             "pattern": {
              "fillmode": "overlay",
              "size": 10,
              "solidity": 0.2
             }
            },
            "type": "histogram"
           }
          ],
          "histogram2d": [
           {
            "colorbar": {
             "outlinewidth": 0,
             "ticks": ""
            },
            "colorscale": [
             [
              0,
              "#0d0887"
             ],
             [
              0.1111111111111111,
              "#46039f"
             ],
             [
              0.2222222222222222,
              "#7201a8"
             ],
             [
              0.3333333333333333,
              "#9c179e"
             ],
             [
              0.4444444444444444,
              "#bd3786"
             ],
             [
              0.5555555555555556,
              "#d8576b"
             ],
             [
              0.6666666666666666,
              "#ed7953"
             ],
             [
              0.7777777777777778,
              "#fb9f3a"
             ],
             [
              0.8888888888888888,
              "#fdca26"
             ],
             [
              1,
              "#f0f921"
             ]
            ],
            "type": "histogram2d"
           }
          ],
          "histogram2dcontour": [
           {
            "colorbar": {
             "outlinewidth": 0,
             "ticks": ""
            },
            "colorscale": [
             [
              0,
              "#0d0887"
             ],
             [
              0.1111111111111111,
              "#46039f"
             ],
             [
              0.2222222222222222,
              "#7201a8"
             ],
             [
              0.3333333333333333,
              "#9c179e"
             ],
             [
              0.4444444444444444,
              "#bd3786"
             ],
             [
              0.5555555555555556,
              "#d8576b"
             ],
             [
              0.6666666666666666,
              "#ed7953"
             ],
             [
              0.7777777777777778,
              "#fb9f3a"
             ],
             [
              0.8888888888888888,
              "#fdca26"
             ],
             [
              1,
              "#f0f921"
             ]
            ],
            "type": "histogram2dcontour"
           }
          ],
          "mesh3d": [
           {
            "colorbar": {
             "outlinewidth": 0,
             "ticks": ""
            },
            "type": "mesh3d"
           }
          ],
          "parcoords": [
           {
            "line": {
             "colorbar": {
              "outlinewidth": 0,
              "ticks": ""
             }
            },
            "type": "parcoords"
           }
          ],
          "pie": [
           {
            "automargin": true,
            "type": "pie"
           }
          ],
          "scatter": [
           {
            "fillpattern": {
             "fillmode": "overlay",
             "size": 10,
             "solidity": 0.2
            },
            "type": "scatter"
           }
          ],
          "scatter3d": [
           {
            "line": {
             "colorbar": {
              "outlinewidth": 0,
              "ticks": ""
             }
            },
            "marker": {
             "colorbar": {
              "outlinewidth": 0,
              "ticks": ""
             }
            },
            "type": "scatter3d"
           }
          ],
          "scattercarpet": [
           {
            "marker": {
             "colorbar": {
              "outlinewidth": 0,
              "ticks": ""
             }
            },
            "type": "scattercarpet"
           }
          ],
          "scattergeo": [
           {
            "marker": {
             "colorbar": {
              "outlinewidth": 0,
              "ticks": ""
             }
            },
            "type": "scattergeo"
           }
          ],
          "scattergl": [
           {
            "marker": {
             "colorbar": {
              "outlinewidth": 0,
              "ticks": ""
             }
            },
            "type": "scattergl"
           }
          ],
          "scattermapbox": [
           {
            "marker": {
             "colorbar": {
              "outlinewidth": 0,
              "ticks": ""
             }
            },
            "type": "scattermapbox"
           }
          ],
          "scatterpolar": [
           {
            "marker": {
             "colorbar": {
              "outlinewidth": 0,
              "ticks": ""
             }
            },
            "type": "scatterpolar"
           }
          ],
          "scatterpolargl": [
           {
            "marker": {
             "colorbar": {
              "outlinewidth": 0,
              "ticks": ""
             }
            },
            "type": "scatterpolargl"
           }
          ],
          "scatterternary": [
           {
            "marker": {
             "colorbar": {
              "outlinewidth": 0,
              "ticks": ""
             }
            },
            "type": "scatterternary"
           }
          ],
          "surface": [
           {
            "colorbar": {
             "outlinewidth": 0,
             "ticks": ""
            },
            "colorscale": [
             [
              0,
              "#0d0887"
             ],
             [
              0.1111111111111111,
              "#46039f"
             ],
             [
              0.2222222222222222,
              "#7201a8"
             ],
             [
              0.3333333333333333,
              "#9c179e"
             ],
             [
              0.4444444444444444,
              "#bd3786"
             ],
             [
              0.5555555555555556,
              "#d8576b"
             ],
             [
              0.6666666666666666,
              "#ed7953"
             ],
             [
              0.7777777777777778,
              "#fb9f3a"
             ],
             [
              0.8888888888888888,
              "#fdca26"
             ],
             [
              1,
              "#f0f921"
             ]
            ],
            "type": "surface"
           }
          ],
          "table": [
           {
            "cells": {
             "fill": {
              "color": "#EBF0F8"
             },
             "line": {
              "color": "white"
             }
            },
            "header": {
             "fill": {
              "color": "#C8D4E3"
             },
             "line": {
              "color": "white"
             }
            },
            "type": "table"
           }
          ]
         },
         "layout": {
          "annotationdefaults": {
           "arrowcolor": "#2a3f5f",
           "arrowhead": 0,
           "arrowwidth": 1
          },
          "autotypenumbers": "strict",
          "coloraxis": {
           "colorbar": {
            "outlinewidth": 0,
            "ticks": ""
           }
          },
          "colorscale": {
           "diverging": [
            [
             0,
             "#8e0152"
            ],
            [
             0.1,
             "#c51b7d"
            ],
            [
             0.2,
             "#de77ae"
            ],
            [
             0.3,
             "#f1b6da"
            ],
            [
             0.4,
             "#fde0ef"
            ],
            [
             0.5,
             "#f7f7f7"
            ],
            [
             0.6,
             "#e6f5d0"
            ],
            [
             0.7,
             "#b8e186"
            ],
            [
             0.8,
             "#7fbc41"
            ],
            [
             0.9,
             "#4d9221"
            ],
            [
             1,
             "#276419"
            ]
           ],
           "sequential": [
            [
             0,
             "#0d0887"
            ],
            [
             0.1111111111111111,
             "#46039f"
            ],
            [
             0.2222222222222222,
             "#7201a8"
            ],
            [
             0.3333333333333333,
             "#9c179e"
            ],
            [
             0.4444444444444444,
             "#bd3786"
            ],
            [
             0.5555555555555556,
             "#d8576b"
            ],
            [
             0.6666666666666666,
             "#ed7953"
            ],
            [
             0.7777777777777778,
             "#fb9f3a"
            ],
            [
             0.8888888888888888,
             "#fdca26"
            ],
            [
             1,
             "#f0f921"
            ]
           ],
           "sequentialminus": [
            [
             0,
             "#0d0887"
            ],
            [
             0.1111111111111111,
             "#46039f"
            ],
            [
             0.2222222222222222,
             "#7201a8"
            ],
            [
             0.3333333333333333,
             "#9c179e"
            ],
            [
             0.4444444444444444,
             "#bd3786"
            ],
            [
             0.5555555555555556,
             "#d8576b"
            ],
            [
             0.6666666666666666,
             "#ed7953"
            ],
            [
             0.7777777777777778,
             "#fb9f3a"
            ],
            [
             0.8888888888888888,
             "#fdca26"
            ],
            [
             1,
             "#f0f921"
            ]
           ]
          },
          "colorway": [
           "#636efa",
           "#EF553B",
           "#00cc96",
           "#ab63fa",
           "#FFA15A",
           "#19d3f3",
           "#FF6692",
           "#B6E880",
           "#FF97FF",
           "#FECB52"
          ],
          "font": {
           "color": "#2a3f5f"
          },
          "geo": {
           "bgcolor": "white",
           "lakecolor": "white",
           "landcolor": "#E5ECF6",
           "showlakes": true,
           "showland": true,
           "subunitcolor": "white"
          },
          "hoverlabel": {
           "align": "left"
          },
          "hovermode": "closest",
          "mapbox": {
           "style": "light"
          },
          "paper_bgcolor": "white",
          "plot_bgcolor": "#E5ECF6",
          "polar": {
           "angularaxis": {
            "gridcolor": "white",
            "linecolor": "white",
            "ticks": ""
           },
           "bgcolor": "#E5ECF6",
           "radialaxis": {
            "gridcolor": "white",
            "linecolor": "white",
            "ticks": ""
           }
          },
          "scene": {
           "xaxis": {
            "backgroundcolor": "#E5ECF6",
            "gridcolor": "white",
            "gridwidth": 2,
            "linecolor": "white",
            "showbackground": true,
            "ticks": "",
            "zerolinecolor": "white"
           },
           "yaxis": {
            "backgroundcolor": "#E5ECF6",
            "gridcolor": "white",
            "gridwidth": 2,
            "linecolor": "white",
            "showbackground": true,
            "ticks": "",
            "zerolinecolor": "white"
           },
           "zaxis": {
            "backgroundcolor": "#E5ECF6",
            "gridcolor": "white",
            "gridwidth": 2,
            "linecolor": "white",
            "showbackground": true,
            "ticks": "",
            "zerolinecolor": "white"
           }
          },
          "shapedefaults": {
           "line": {
            "color": "#2a3f5f"
           }
          },
          "ternary": {
           "aaxis": {
            "gridcolor": "white",
            "linecolor": "white",
            "ticks": ""
           },
           "baxis": {
            "gridcolor": "white",
            "linecolor": "white",
            "ticks": ""
           },
           "bgcolor": "#E5ECF6",
           "caxis": {
            "gridcolor": "white",
            "linecolor": "white",
            "ticks": ""
           }
          },
          "title": {
           "x": 0.05
          },
          "xaxis": {
           "automargin": true,
           "gridcolor": "white",
           "linecolor": "white",
           "ticks": "",
           "title": {
            "standoff": 15
           },
           "zerolinecolor": "white",
           "zerolinewidth": 2
          },
          "yaxis": {
           "automargin": true,
           "gridcolor": "white",
           "linecolor": "white",
           "ticks": "",
           "title": {
            "standoff": 15
           },
           "zerolinecolor": "white",
           "zerolinewidth": 2
          }
         }
        },
        "title": {
         "text": "Warehouse Visualization"
        }
       }
      }
     },
     "metadata": {},
     "output_type": "display_data"
    }
   ],
   "source": [
    "fig.show()"
   ]
  }
 ],
 "metadata": {
  "kernelspec": {
   "display_name": "Python 3",
   "language": "python",
   "name": "python3"
  },
  "language_info": {
   "codemirror_mode": {
    "name": "ipython",
    "version": 3
   },
   "file_extension": ".py",
   "mimetype": "text/x-python",
   "name": "python",
   "nbconvert_exporter": "python",
   "pygments_lexer": "ipython3",
   "version": "3.11.6"
  },
  "orig_nbformat": 4
 },
 "nbformat": 4,
 "nbformat_minor": 2
}
