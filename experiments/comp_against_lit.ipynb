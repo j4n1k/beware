{
 "cells": [
  {
   "cell_type": "code",
   "metadata": {
    "ExecuteTime": {
     "end_time": "2024-07-16T14:50:21.517802Z",
     "start_time": "2024-07-16T14:50:21.174143Z"
    }
   },
   "source": [
    "from layout_utils.layout import Layout\n",
    "from pulp import *\n",
    "import numpy as np\n",
    "import random\n",
    "from math import ceil\n",
    "from copy import deepcopy\n",
    "import plotly.graph_objects as go\n",
    "import plotly.express as px\n",
    "import matplotlib.pyplot as plt \n",
    "import networkx as nx\n",
    "import pickle\n",
    "import os\n",
    "from solver.slap_models import SLAP, SLAP_PA, SLAP_QA\n",
    "import solver.ga as ga\n",
    "from layout_utils.graph_tools import viz_graph"
   ],
   "outputs": [
    {
     "ename": "ModuleNotFoundError",
     "evalue": "No module named 'layout_utils'",
     "output_type": "error",
     "traceback": [
      "\u001B[1;31m---------------------------------------------------------------------------\u001B[0m",
      "\u001B[1;31mModuleNotFoundError\u001B[0m                       Traceback (most recent call last)",
      "Cell \u001B[1;32mIn[1], line 1\u001B[0m\n\u001B[1;32m----> 1\u001B[0m \u001B[38;5;28;01mfrom\u001B[39;00m \u001B[38;5;21;01mlayout_utils\u001B[39;00m\u001B[38;5;21;01m.\u001B[39;00m\u001B[38;5;21;01mlayout\u001B[39;00m \u001B[38;5;28;01mimport\u001B[39;00m Layout\n\u001B[0;32m      2\u001B[0m \u001B[38;5;28;01mfrom\u001B[39;00m \u001B[38;5;21;01mpulp\u001B[39;00m \u001B[38;5;28;01mimport\u001B[39;00m \u001B[38;5;241m*\u001B[39m\n\u001B[0;32m      3\u001B[0m \u001B[38;5;28;01mimport\u001B[39;00m \u001B[38;5;21;01mnumpy\u001B[39;00m \u001B[38;5;28;01mas\u001B[39;00m \u001B[38;5;21;01mnp\u001B[39;00m\n",
      "\u001B[1;31mModuleNotFoundError\u001B[0m: No module named 'layout_utils'"
     ]
    }
   ],
   "execution_count": 1
  },
  {
   "cell_type": "code",
   "metadata": {},
   "source": [
    "def render_warehouse(warehouse: Layout, assignment, product_frequency):\n",
    "    storage_assignment = deepcopy(warehouse.layout_grid)\n",
    "    walkable_locs = np.where(warehouse.layout_grid == 0)\n",
    "\n",
    "    for x, y, z in zip(walkable_locs[0], walkable_locs[1], walkable_locs[2]):\n",
    "        storage_assignment[x,y,z] = -100\n",
    "\n",
    "    for i, loc in enumerate(assignment):\n",
    "        storage_assignment[warehouse.nodes_list[loc]] = i \n",
    "\n",
    "    storage_frequence = deepcopy(warehouse.layout_grid)\n",
    "    for i, loc in enumerate(assignment):\n",
    "        storage_frequence[warehouse.nodes_list[loc]] = product_frequency[i]\n",
    "    \n",
    "    node_xyz = np.array([warehouse.pos_dict[v] for v in sorted(warehouse.graph)])\n",
    "    edge_xyz = np.array([(warehouse.pos_dict[u], warehouse.pos_dict[v]) for u, v in warehouse.graph.edges()])\n",
    "\n",
    "    data = []\n",
    "    for x, y, z in zip(node_xyz.T[0], node_xyz.T[1], node_xyz.T[2]):\n",
    "        data_point = storage_frequence[x,y,z]\n",
    "        data.append(data_point)\n",
    "\n",
    "    assignment_plt = []\n",
    "    for x, y, z in zip(node_xyz.T[0], node_xyz.T[1], node_xyz.T[2]):\n",
    "        assignment_point = storage_assignment[x,y,z]\n",
    "        assignment_plt.append(assignment_point)\n",
    "\n",
    "    trace = go.Scatter3d(customdata=np.stack((data,assignment_plt),axis=-1), hovertemplate = 'x: %{x}<br>y: %{y}<br>z: %{z}<br>Order Frequency: %{customdata[0]}<br>Product: %{customdata[1]}}',\n",
    "        x = node_xyz.T[0], y = node_xyz.T[1], z = node_xyz.T[2],mode = 'markers', marker = dict(symbol=\"square\",\n",
    "            size = 12,\n",
    "            color = data, # set color to an array/list of desired values\n",
    "            colorscale = 'thermal')\n",
    "        )\n",
    "    layout = go.Layout(title = 'Warehouse Visualization')\n",
    "    fig = go.Figure(data = [trace], layout = layout)\n",
    "    fig.update_traces(marker_size = 5)\n",
    "    return fig"
   ],
   "outputs": [],
   "execution_count": null
  },
  {
   "cell_type": "code",
   "metadata": {},
   "source": [
    "custom_grid = np.ones((7, 12, 1)) * -1\n",
    "custom_grid[:,0,0] = -1\n",
    "custom_grid[:,1,0] = 0\n",
    "custom_grid[:,2,0] = -1\n",
    "custom_grid[:,3,0] = -1\n",
    "\n",
    "custom_grid[:,4,0] = 0\n",
    "custom_grid[:,5,0] = -1\n",
    "custom_grid[:,6,0] = -1\n",
    "\n",
    "custom_grid[:,7,0] = 0\n",
    "custom_grid[:,8,0] = -1\n",
    "custom_grid[:,9,0] = -1\n",
    "\n",
    "custom_grid[:,10,0] = 0\n",
    "custom_grid[:,11,0] = -1\n",
    "custom_grid[:,11,0] = -1\n",
    "custom_grid[0,:] = 0\n",
    "custom_grid[-1,:] = 0\n",
    "\n"
   ],
   "outputs": [],
   "execution_count": null
  },
  {
   "cell_type": "code",
   "metadata": {},
   "source": [
    "custom_grid[:,:,0]"
   ],
   "outputs": [],
   "execution_count": null
  },
  {
   "cell_type": "code",
   "metadata": {},
   "source": [
    "double_deep = True\n",
    "warehouse = Layout(7, 13, 1, True, True, custom_grid)\n",
    "path = os.path.join(\"data\", \"dist_mat_\" + str(warehouse.layout_grid.shape) + \"_\" + str(double_deep) + \".npy\")\n",
    "\n",
    "dist_mat = warehouse.gen_dist_mat(path)"
   ],
   "outputs": [],
   "execution_count": null
  },
  {
   "cell_type": "code",
   "metadata": {},
   "source": [
    "warehouse_heatmap = px.imshow(warehouse.layout_grid[:,:,0])\n",
    "warehouse_heatmap"
   ],
   "outputs": [],
   "execution_count": null
  },
  {
   "cell_type": "code",
   "metadata": {
    "ExecuteTime": {
     "end_time": "2024-07-16T14:36:22.471918Z",
     "start_time": "2024-07-16T14:36:22.173119Z"
    }
   },
   "source": [
    "warehouse_heatmap.write_json(\"render/warehouse_heatmap.json\")"
   ],
   "outputs": [
    {
     "ename": "FileNotFoundError",
     "evalue": "[Errno 2] No such file or directory: 'render\\\\warehouse_heatmap.json'",
     "output_type": "error",
     "traceback": [
      "\u001B[1;31m---------------------------------------------------------------------------\u001B[0m",
      "\u001B[1;31mFileNotFoundError\u001B[0m                         Traceback (most recent call last)",
      "Cell \u001B[1;32mIn[12], line 1\u001B[0m\n\u001B[1;32m----> 1\u001B[0m \u001B[43mwarehouse_heatmap\u001B[49m\u001B[38;5;241;43m.\u001B[39;49m\u001B[43mwrite_json\u001B[49m\u001B[43m(\u001B[49m\u001B[38;5;124;43m\"\u001B[39;49m\u001B[38;5;124;43mrender/warehouse_heatmap.json\u001B[39;49m\u001B[38;5;124;43m\"\u001B[39;49m\u001B[43m)\u001B[49m\n",
      "File \u001B[1;32m~\\Documents\\Projekte\\beware\\venv\\Lib\\site-packages\\plotly\\basedatatypes.py:3507\u001B[0m, in \u001B[0;36mBaseFigure.write_json\u001B[1;34m(self, *args, **kwargs)\u001B[0m\n\u001B[0;32m   3477\u001B[0m \u001B[38;5;250m\u001B[39m\u001B[38;5;124;03m\"\"\"\u001B[39;00m\n\u001B[0;32m   3478\u001B[0m \u001B[38;5;124;03mConvert a figure to JSON and write it to a file or writeable\u001B[39;00m\n\u001B[0;32m   3479\u001B[0m \u001B[38;5;124;03mobject\u001B[39;00m\n\u001B[1;32m   (...)\u001B[0m\n\u001B[0;32m   3503\u001B[0m \u001B[38;5;124;03mNone\u001B[39;00m\n\u001B[0;32m   3504\u001B[0m \u001B[38;5;124;03m\"\"\"\u001B[39;00m\n\u001B[0;32m   3505\u001B[0m \u001B[38;5;28;01mimport\u001B[39;00m \u001B[38;5;21;01mplotly\u001B[39;00m\u001B[38;5;21;01m.\u001B[39;00m\u001B[38;5;21;01mio\u001B[39;00m \u001B[38;5;28;01mas\u001B[39;00m \u001B[38;5;21;01mpio\u001B[39;00m\n\u001B[1;32m-> 3507\u001B[0m \u001B[38;5;28;01mreturn\u001B[39;00m \u001B[43mpio\u001B[49m\u001B[38;5;241;43m.\u001B[39;49m\u001B[43mwrite_json\u001B[49m\u001B[43m(\u001B[49m\u001B[38;5;28;43mself\u001B[39;49m\u001B[43m,\u001B[49m\u001B[43m \u001B[49m\u001B[38;5;241;43m*\u001B[39;49m\u001B[43margs\u001B[49m\u001B[43m,\u001B[49m\u001B[43m \u001B[49m\u001B[38;5;241;43m*\u001B[39;49m\u001B[38;5;241;43m*\u001B[39;49m\u001B[43mkwargs\u001B[49m\u001B[43m)\u001B[49m\n",
      "File \u001B[1;32m~\\Documents\\Projekte\\beware\\venv\\Lib\\site-packages\\plotly\\io\\_json.py:298\u001B[0m, in \u001B[0;36mwrite_json\u001B[1;34m(fig, file, validate, pretty, remove_uids, engine)\u001B[0m\n\u001B[0;32m    288\u001B[0m         \u001B[38;5;28;01mraise\u001B[39;00m \u001B[38;5;167;01mValueError\u001B[39;00m(\n\u001B[0;32m    289\u001B[0m \u001B[38;5;250m            \u001B[39m\u001B[38;5;124;03m\"\"\"\u001B[39;00m\n\u001B[0;32m    290\u001B[0m \u001B[38;5;124;03mThe 'file' argument '{file}' is not a string, pathlib.Path object, or file descriptor.\u001B[39;00m\n\u001B[1;32m   (...)\u001B[0m\n\u001B[0;32m    293\u001B[0m             )\n\u001B[0;32m    294\u001B[0m         )\n\u001B[0;32m    295\u001B[0m     \u001B[38;5;28;01melse\u001B[39;00m:\n\u001B[0;32m    296\u001B[0m         \u001B[38;5;66;03m# We previously succeeded in interpreting `file` as a pathlib object.\u001B[39;00m\n\u001B[0;32m    297\u001B[0m         \u001B[38;5;66;03m# Now we can use `write_bytes()`.\u001B[39;00m\n\u001B[1;32m--> 298\u001B[0m         \u001B[43mpath\u001B[49m\u001B[38;5;241;43m.\u001B[39;49m\u001B[43mwrite_text\u001B[49m\u001B[43m(\u001B[49m\u001B[43mjson_str\u001B[49m\u001B[43m)\u001B[49m\n",
      "File \u001B[1;32m~\\AppData\\Local\\Programs\\Python\\Python311\\Lib\\pathlib.py:1078\u001B[0m, in \u001B[0;36mPath.write_text\u001B[1;34m(self, data, encoding, errors, newline)\u001B[0m\n\u001B[0;32m   1075\u001B[0m     \u001B[38;5;28;01mraise\u001B[39;00m \u001B[38;5;167;01mTypeError\u001B[39;00m(\u001B[38;5;124m'\u001B[39m\u001B[38;5;124mdata must be str, not \u001B[39m\u001B[38;5;132;01m%s\u001B[39;00m\u001B[38;5;124m'\u001B[39m \u001B[38;5;241m%\u001B[39m\n\u001B[0;32m   1076\u001B[0m                     data\u001B[38;5;241m.\u001B[39m\u001B[38;5;18m__class__\u001B[39m\u001B[38;5;241m.\u001B[39m\u001B[38;5;18m__name__\u001B[39m)\n\u001B[0;32m   1077\u001B[0m encoding \u001B[38;5;241m=\u001B[39m io\u001B[38;5;241m.\u001B[39mtext_encoding(encoding)\n\u001B[1;32m-> 1078\u001B[0m \u001B[38;5;28;01mwith\u001B[39;00m \u001B[38;5;28;43mself\u001B[39;49m\u001B[38;5;241;43m.\u001B[39;49m\u001B[43mopen\u001B[49m\u001B[43m(\u001B[49m\u001B[43mmode\u001B[49m\u001B[38;5;241;43m=\u001B[39;49m\u001B[38;5;124;43m'\u001B[39;49m\u001B[38;5;124;43mw\u001B[39;49m\u001B[38;5;124;43m'\u001B[39;49m\u001B[43m,\u001B[49m\u001B[43m \u001B[49m\u001B[43mencoding\u001B[49m\u001B[38;5;241;43m=\u001B[39;49m\u001B[43mencoding\u001B[49m\u001B[43m,\u001B[49m\u001B[43m \u001B[49m\u001B[43merrors\u001B[49m\u001B[38;5;241;43m=\u001B[39;49m\u001B[43merrors\u001B[49m\u001B[43m,\u001B[49m\u001B[43m \u001B[49m\u001B[43mnewline\u001B[49m\u001B[38;5;241;43m=\u001B[39;49m\u001B[43mnewline\u001B[49m\u001B[43m)\u001B[49m \u001B[38;5;28;01mas\u001B[39;00m f:\n\u001B[0;32m   1079\u001B[0m     \u001B[38;5;28;01mreturn\u001B[39;00m f\u001B[38;5;241m.\u001B[39mwrite(data)\n",
      "File \u001B[1;32m~\\AppData\\Local\\Programs\\Python\\Python311\\Lib\\pathlib.py:1044\u001B[0m, in \u001B[0;36mPath.open\u001B[1;34m(self, mode, buffering, encoding, errors, newline)\u001B[0m\n\u001B[0;32m   1042\u001B[0m \u001B[38;5;28;01mif\u001B[39;00m \u001B[38;5;124m\"\u001B[39m\u001B[38;5;124mb\u001B[39m\u001B[38;5;124m\"\u001B[39m \u001B[38;5;129;01mnot\u001B[39;00m \u001B[38;5;129;01min\u001B[39;00m mode:\n\u001B[0;32m   1043\u001B[0m     encoding \u001B[38;5;241m=\u001B[39m io\u001B[38;5;241m.\u001B[39mtext_encoding(encoding)\n\u001B[1;32m-> 1044\u001B[0m \u001B[38;5;28;01mreturn\u001B[39;00m io\u001B[38;5;241m.\u001B[39mopen(\u001B[38;5;28mself\u001B[39m, mode, buffering, encoding, errors, newline)\n",
      "\u001B[1;31mFileNotFoundError\u001B[0m: [Errno 2] No such file or directory: 'render\\\\warehouse_heatmap.json'"
     ]
    }
   ],
   "execution_count": 12
  },
  {
   "cell_type": "code",
   "metadata": {
    "ExecuteTime": {
     "end_time": "2024-07-16T14:36:22.850962Z",
     "start_time": "2024-07-16T14:36:22.845880Z"
    }
   },
   "source": [
    "size = len(warehouse.storage_locs)\n",
    "product_pairs_frequency = np.zeros((size, size))\n",
    "upper_bound = 9\n",
    "for i in range(size):\n",
    "    for j in range(size):\n",
    "        if i == j: \n",
    "            product_pairs_frequency[i][j] = 0\n",
    "        # since problem is a one-one problem, mapping (1,2) == (2,1) so there's no need to create duplicate mappings\n",
    "        #if (j,i) in product_pairs_frequency: continue\n",
    "        else:\n",
    "            product_pairs_frequency[i][j] = random.randrange(0, upper_bound)"
   ],
   "outputs": [],
   "execution_count": 13
  },
  {
   "cell_type": "code",
   "metadata": {
    "ExecuteTime": {
     "end_time": "2024-07-16T14:36:23.763680Z",
     "start_time": "2024-07-16T14:36:23.759884Z"
    }
   },
   "source": [
    "product_frequency = {}\n",
    "for i in range(size):\n",
    "    product_frequency[i] = product_pairs_frequency[i].sum()"
   ],
   "outputs": [],
   "execution_count": 14
  },
  {
   "cell_type": "code",
   "metadata": {
    "ExecuteTime": {
     "end_time": "2024-07-16T14:36:24.247523Z",
     "start_time": "2024-07-16T14:36:24.243577Z"
    }
   },
   "source": [
    "n_storage_locs = len(warehouse.storage_locs)\n",
    "#n_products = len(warehouse.storage_locs)\n",
    "n_products = len(product_frequency.keys())\n",
    "\n",
    "storage_locs = [warehouse.nodes_list.index(loc) for loc in warehouse.storage_locs]\n",
    "products = [p for p in range(n_products)]\n",
    "storage_loc_mapping = {i:loc for i,loc in enumerate(storage_locs)}\n",
    "storage_locs_new = [i for i in storage_loc_mapping.keys()]\n",
    "depot = 0"
   ],
   "outputs": [],
   "execution_count": 15
  },
  {
   "cell_type": "code",
   "metadata": {
    "ExecuteTime": {
     "end_time": "2024-07-16T14:36:24.711138Z",
     "start_time": "2024-07-16T14:36:24.707983Z"
    }
   },
   "source": [
    "assignment = storage_locs"
   ],
   "outputs": [],
   "execution_count": 16
  },
  {
   "cell_type": "code",
   "metadata": {
    "ExecuteTime": {
     "end_time": "2024-07-16T14:36:25.249560Z",
     "start_time": "2024-07-16T14:36:25.245217Z"
    }
   },
   "source": [
    "product_frequency"
   ],
   "outputs": [
    {
     "data": {
      "text/plain": [
       "{0: 152.0,\n",
       " 1: 167.0,\n",
       " 2: 130.0,\n",
       " 3: 141.0,\n",
       " 4: 136.0,\n",
       " 5: 158.0,\n",
       " 6: 153.0,\n",
       " 7: 189.0,\n",
       " 8: 159.0,\n",
       " 9: 158.0,\n",
       " 10: 165.0,\n",
       " 11: 187.0,\n",
       " 12: 157.0,\n",
       " 13: 143.0,\n",
       " 14: 148.0,\n",
       " 15: 156.0,\n",
       " 16: 173.0,\n",
       " 17: 168.0,\n",
       " 18: 137.0,\n",
       " 19: 148.0,\n",
       " 20: 151.0,\n",
       " 21: 165.0,\n",
       " 22: 139.0,\n",
       " 23: 165.0,\n",
       " 24: 188.0,\n",
       " 25: 164.0,\n",
       " 26: 143.0,\n",
       " 27: 164.0,\n",
       " 28: 197.0,\n",
       " 29: 170.0,\n",
       " 30: 171.0,\n",
       " 31: 161.0,\n",
       " 32: 165.0,\n",
       " 33: 166.0,\n",
       " 34: 148.0,\n",
       " 35: 152.0,\n",
       " 36: 142.0,\n",
       " 37: 154.0,\n",
       " 38: 135.0,\n",
       " 39: 174.0}"
      ]
     },
     "execution_count": 17,
     "metadata": {},
     "output_type": "execute_result"
    }
   ],
   "execution_count": 17
  },
  {
   "cell_type": "code",
   "metadata": {
    "ExecuteTime": {
     "end_time": "2024-07-16T14:36:26.163682Z",
     "start_time": "2024-07-16T14:36:26.148545Z"
    }
   },
   "source": [
    "fig = render_warehouse(warehouse, assignment, product_frequency)"
   ],
   "outputs": [],
   "execution_count": 18
  },
  {
   "cell_type": "code",
   "metadata": {
    "ExecuteTime": {
     "end_time": "2024-07-16T14:36:26.870213Z",
     "start_time": "2024-07-16T14:36:26.864029Z"
    }
   },
   "source": [
    "fig.show()"
   ],
   "outputs": [
    {
     "data": {
      "application/vnd.plotly.v1+json": {
       "data": [
        {
         "customdata": [
          [
           0.0,
           -100.0
          ],
          [
           0.0,
           -100.0
          ],
          [
           0.0,
           -100.0
          ],
          [
           0.0,
           -100.0
          ],
          [
           0.0,
           -100.0
          ],
          [
           0.0,
           -100.0
          ],
          [
           0.0,
           -100.0
          ],
          [
           0.0,
           -100.0
          ],
          [
           0.0,
           -100.0
          ],
          [
           0.0,
           -100.0
          ],
          [
           0.0,
           -100.0
          ],
          [
           0.0,
           -100.0
          ],
          [
           152.0,
           0.0
          ],
          [
           0.0,
           -100.0
          ],
          [
           167.0,
           1.0
          ],
          [
           130.0,
           2.0
          ],
          [
           0.0,
           -100.0
          ],
          [
           141.0,
           3.0
          ],
          [
           136.0,
           4.0
          ],
          [
           0.0,
           -100.0
          ],
          [
           158.0,
           5.0
          ],
          [
           153.0,
           6.0
          ],
          [
           0.0,
           -100.0
          ],
          [
           189.0,
           7.0
          ],
          [
           159.0,
           8.0
          ],
          [
           0.0,
           -100.0
          ],
          [
           158.0,
           9.0
          ],
          [
           165.0,
           10.0
          ],
          [
           0.0,
           -100.0
          ],
          [
           187.0,
           11.0
          ],
          [
           157.0,
           12.0
          ],
          [
           0.0,
           -100.0
          ],
          [
           143.0,
           13.0
          ],
          [
           148.0,
           14.0
          ],
          [
           0.0,
           -100.0
          ],
          [
           156.0,
           15.0
          ],
          [
           173.0,
           16.0
          ],
          [
           0.0,
           -100.0
          ],
          [
           168.0,
           17.0
          ],
          [
           137.0,
           18.0
          ],
          [
           0.0,
           -100.0
          ],
          [
           148.0,
           19.0
          ],
          [
           151.0,
           20.0
          ],
          [
           0.0,
           -100.0
          ],
          [
           165.0,
           21.0
          ],
          [
           139.0,
           22.0
          ],
          [
           0.0,
           -100.0
          ],
          [
           165.0,
           23.0
          ],
          [
           188.0,
           24.0
          ],
          [
           0.0,
           -100.0
          ],
          [
           164.0,
           25.0
          ],
          [
           143.0,
           26.0
          ],
          [
           0.0,
           -100.0
          ],
          [
           164.0,
           27.0
          ],
          [
           197.0,
           28.0
          ],
          [
           0.0,
           -100.0
          ],
          [
           170.0,
           29.0
          ],
          [
           171.0,
           30.0
          ],
          [
           0.0,
           -100.0
          ],
          [
           161.0,
           31.0
          ],
          [
           165.0,
           32.0
          ],
          [
           0.0,
           -100.0
          ],
          [
           166.0,
           33.0
          ],
          [
           148.0,
           34.0
          ],
          [
           0.0,
           -100.0
          ],
          [
           152.0,
           35.0
          ],
          [
           142.0,
           36.0
          ],
          [
           0.0,
           -100.0
          ],
          [
           154.0,
           37.0
          ],
          [
           135.0,
           38.0
          ],
          [
           0.0,
           -100.0
          ],
          [
           174.0,
           39.0
          ],
          [
           0.0,
           -100.0
          ],
          [
           0.0,
           -100.0
          ],
          [
           0.0,
           -100.0
          ],
          [
           0.0,
           -100.0
          ],
          [
           0.0,
           -100.0
          ],
          [
           0.0,
           -100.0
          ],
          [
           0.0,
           -100.0
          ],
          [
           0.0,
           -100.0
          ],
          [
           0.0,
           -100.0
          ],
          [
           0.0,
           -100.0
          ],
          [
           0.0,
           -100.0
          ],
          [
           0.0,
           -100.0
          ]
         ],
         "hovertemplate": "x: %{x}<br>y: %{y}<br>z: %{z}<br>Order Frequency: %{customdata[0]}<br>Product: %{customdata[1]}}",
         "marker": {
          "color": [
           0.0,
           0.0,
           0.0,
           0.0,
           0.0,
           0.0,
           0.0,
           0.0,
           0.0,
           0.0,
           0.0,
           0.0,
           152.0,
           0.0,
           167.0,
           130.0,
           0.0,
           141.0,
           136.0,
           0.0,
           158.0,
           153.0,
           0.0,
           189.0,
           159.0,
           0.0,
           158.0,
           165.0,
           0.0,
           187.0,
           157.0,
           0.0,
           143.0,
           148.0,
           0.0,
           156.0,
           173.0,
           0.0,
           168.0,
           137.0,
           0.0,
           148.0,
           151.0,
           0.0,
           165.0,
           139.0,
           0.0,
           165.0,
           188.0,
           0.0,
           164.0,
           143.0,
           0.0,
           164.0,
           197.0,
           0.0,
           170.0,
           171.0,
           0.0,
           161.0,
           165.0,
           0.0,
           166.0,
           148.0,
           0.0,
           152.0,
           142.0,
           0.0,
           154.0,
           135.0,
           0.0,
           174.0,
           0.0,
           0.0,
           0.0,
           0.0,
           0.0,
           0.0,
           0.0,
           0.0,
           0.0,
           0.0,
           0.0,
           0.0
          ],
          "colorscale": [
           [
            0.0,
            "rgb(3, 35, 51)"
           ],
           [
            0.09090909090909091,
            "rgb(13, 48, 100)"
           ],
           [
            0.18181818181818182,
            "rgb(53, 50, 155)"
           ],
           [
            0.2727272727272727,
            "rgb(93, 62, 153)"
           ],
           [
            0.36363636363636365,
            "rgb(126, 77, 143)"
           ],
           [
            0.45454545454545453,
            "rgb(158, 89, 135)"
           ],
           [
            0.5454545454545454,
            "rgb(193, 100, 121)"
           ],
           [
            0.6363636363636364,
            "rgb(225, 113, 97)"
           ],
           [
            0.7272727272727273,
            "rgb(246, 139, 69)"
           ],
           [
            0.8181818181818182,
            "rgb(251, 173, 60)"
           ],
           [
            0.9090909090909091,
            "rgb(246, 211, 70)"
           ],
           [
            1.0,
            "rgb(231, 250, 90)"
           ]
          ],
          "size": 5,
          "symbol": "square"
         },
         "mode": "markers",
         "x": [
          0,
          0,
          0,
          0,
          0,
          0,
          0,
          0,
          0,
          0,
          0,
          0,
          1,
          1,
          1,
          1,
          1,
          1,
          1,
          1,
          1,
          1,
          1,
          1,
          2,
          2,
          2,
          2,
          2,
          2,
          2,
          2,
          2,
          2,
          2,
          2,
          3,
          3,
          3,
          3,
          3,
          3,
          3,
          3,
          3,
          3,
          3,
          3,
          4,
          4,
          4,
          4,
          4,
          4,
          4,
          4,
          4,
          4,
          4,
          4,
          5,
          5,
          5,
          5,
          5,
          5,
          5,
          5,
          5,
          5,
          5,
          5,
          6,
          6,
          6,
          6,
          6,
          6,
          6,
          6,
          6,
          6,
          6,
          6
         ],
         "y": [
          0,
          1,
          2,
          3,
          4,
          5,
          6,
          7,
          8,
          9,
          10,
          11,
          0,
          1,
          2,
          3,
          4,
          5,
          6,
          7,
          8,
          9,
          10,
          11,
          0,
          1,
          2,
          3,
          4,
          5,
          6,
          7,
          8,
          9,
          10,
          11,
          0,
          1,
          2,
          3,
          4,
          5,
          6,
          7,
          8,
          9,
          10,
          11,
          0,
          1,
          2,
          3,
          4,
          5,
          6,
          7,
          8,
          9,
          10,
          11,
          0,
          1,
          2,
          3,
          4,
          5,
          6,
          7,
          8,
          9,
          10,
          11,
          0,
          1,
          2,
          3,
          4,
          5,
          6,
          7,
          8,
          9,
          10,
          11
         ],
         "z": [
          0,
          0,
          0,
          0,
          0,
          0,
          0,
          0,
          0,
          0,
          0,
          0,
          0,
          0,
          0,
          0,
          0,
          0,
          0,
          0,
          0,
          0,
          0,
          0,
          0,
          0,
          0,
          0,
          0,
          0,
          0,
          0,
          0,
          0,
          0,
          0,
          0,
          0,
          0,
          0,
          0,
          0,
          0,
          0,
          0,
          0,
          0,
          0,
          0,
          0,
          0,
          0,
          0,
          0,
          0,
          0,
          0,
          0,
          0,
          0,
          0,
          0,
          0,
          0,
          0,
          0,
          0,
          0,
          0,
          0,
          0,
          0,
          0,
          0,
          0,
          0,
          0,
          0,
          0,
          0,
          0,
          0,
          0,
          0
         ],
         "type": "scatter3d"
        }
       ],
       "layout": {
        "title": {
         "text": "Warehouse Visualization"
        },
        "template": {
         "data": {
          "histogram2dcontour": [
           {
            "type": "histogram2dcontour",
            "colorbar": {
             "outlinewidth": 0,
             "ticks": ""
            },
            "colorscale": [
             [
              0.0,
              "#0d0887"
             ],
             [
              0.1111111111111111,
              "#46039f"
             ],
             [
              0.2222222222222222,
              "#7201a8"
             ],
             [
              0.3333333333333333,
              "#9c179e"
             ],
             [
              0.4444444444444444,
              "#bd3786"
             ],
             [
              0.5555555555555556,
              "#d8576b"
             ],
             [
              0.6666666666666666,
              "#ed7953"
             ],
             [
              0.7777777777777778,
              "#fb9f3a"
             ],
             [
              0.8888888888888888,
              "#fdca26"
             ],
             [
              1.0,
              "#f0f921"
             ]
            ]
           }
          ],
          "choropleth": [
           {
            "type": "choropleth",
            "colorbar": {
             "outlinewidth": 0,
             "ticks": ""
            }
           }
          ],
          "histogram2d": [
           {
            "type": "histogram2d",
            "colorbar": {
             "outlinewidth": 0,
             "ticks": ""
            },
            "colorscale": [
             [
              0.0,
              "#0d0887"
             ],
             [
              0.1111111111111111,
              "#46039f"
             ],
             [
              0.2222222222222222,
              "#7201a8"
             ],
             [
              0.3333333333333333,
              "#9c179e"
             ],
             [
              0.4444444444444444,
              "#bd3786"
             ],
             [
              0.5555555555555556,
              "#d8576b"
             ],
             [
              0.6666666666666666,
              "#ed7953"
             ],
             [
              0.7777777777777778,
              "#fb9f3a"
             ],
             [
              0.8888888888888888,
              "#fdca26"
             ],
             [
              1.0,
              "#f0f921"
             ]
            ]
           }
          ],
          "heatmap": [
           {
            "type": "heatmap",
            "colorbar": {
             "outlinewidth": 0,
             "ticks": ""
            },
            "colorscale": [
             [
              0.0,
              "#0d0887"
             ],
             [
              0.1111111111111111,
              "#46039f"
             ],
             [
              0.2222222222222222,
              "#7201a8"
             ],
             [
              0.3333333333333333,
              "#9c179e"
             ],
             [
              0.4444444444444444,
              "#bd3786"
             ],
             [
              0.5555555555555556,
              "#d8576b"
             ],
             [
              0.6666666666666666,
              "#ed7953"
             ],
             [
              0.7777777777777778,
              "#fb9f3a"
             ],
             [
              0.8888888888888888,
              "#fdca26"
             ],
             [
              1.0,
              "#f0f921"
             ]
            ]
           }
          ],
          "heatmapgl": [
           {
            "type": "heatmapgl",
            "colorbar": {
             "outlinewidth": 0,
             "ticks": ""
            },
            "colorscale": [
             [
              0.0,
              "#0d0887"
             ],
             [
              0.1111111111111111,
              "#46039f"
             ],
             [
              0.2222222222222222,
              "#7201a8"
             ],
             [
              0.3333333333333333,
              "#9c179e"
             ],
             [
              0.4444444444444444,
              "#bd3786"
             ],
             [
              0.5555555555555556,
              "#d8576b"
             ],
             [
              0.6666666666666666,
              "#ed7953"
             ],
             [
              0.7777777777777778,
              "#fb9f3a"
             ],
             [
              0.8888888888888888,
              "#fdca26"
             ],
             [
              1.0,
              "#f0f921"
             ]
            ]
           }
          ],
          "contourcarpet": [
           {
            "type": "contourcarpet",
            "colorbar": {
             "outlinewidth": 0,
             "ticks": ""
            }
           }
          ],
          "contour": [
           {
            "type": "contour",
            "colorbar": {
             "outlinewidth": 0,
             "ticks": ""
            },
            "colorscale": [
             [
              0.0,
              "#0d0887"
             ],
             [
              0.1111111111111111,
              "#46039f"
             ],
             [
              0.2222222222222222,
              "#7201a8"
             ],
             [
              0.3333333333333333,
              "#9c179e"
             ],
             [
              0.4444444444444444,
              "#bd3786"
             ],
             [
              0.5555555555555556,
              "#d8576b"
             ],
             [
              0.6666666666666666,
              "#ed7953"
             ],
             [
              0.7777777777777778,
              "#fb9f3a"
             ],
             [
              0.8888888888888888,
              "#fdca26"
             ],
             [
              1.0,
              "#f0f921"
             ]
            ]
           }
          ],
          "surface": [
           {
            "type": "surface",
            "colorbar": {
             "outlinewidth": 0,
             "ticks": ""
            },
            "colorscale": [
             [
              0.0,
              "#0d0887"
             ],
             [
              0.1111111111111111,
              "#46039f"
             ],
             [
              0.2222222222222222,
              "#7201a8"
             ],
             [
              0.3333333333333333,
              "#9c179e"
             ],
             [
              0.4444444444444444,
              "#bd3786"
             ],
             [
              0.5555555555555556,
              "#d8576b"
             ],
             [
              0.6666666666666666,
              "#ed7953"
             ],
             [
              0.7777777777777778,
              "#fb9f3a"
             ],
             [
              0.8888888888888888,
              "#fdca26"
             ],
             [
              1.0,
              "#f0f921"
             ]
            ]
           }
          ],
          "mesh3d": [
           {
            "type": "mesh3d",
            "colorbar": {
             "outlinewidth": 0,
             "ticks": ""
            }
           }
          ],
          "scatter": [
           {
            "marker": {
             "line": {
              "color": "#283442"
             }
            },
            "type": "scatter"
           }
          ],
          "parcoords": [
           {
            "type": "parcoords",
            "line": {
             "colorbar": {
              "outlinewidth": 0,
              "ticks": ""
             }
            }
           }
          ],
          "scatterpolargl": [
           {
            "type": "scatterpolargl",
            "marker": {
             "colorbar": {
              "outlinewidth": 0,
              "ticks": ""
             }
            }
           }
          ],
          "bar": [
           {
            "error_x": {
             "color": "#f2f5fa"
            },
            "error_y": {
             "color": "#f2f5fa"
            },
            "marker": {
             "line": {
              "color": "rgb(17,17,17)",
              "width": 0.5
             },
             "pattern": {
              "fillmode": "overlay",
              "size": 10,
              "solidity": 0.2
             }
            },
            "type": "bar"
           }
          ],
          "scattergeo": [
           {
            "type": "scattergeo",
            "marker": {
             "colorbar": {
              "outlinewidth": 0,
              "ticks": ""
             }
            }
           }
          ],
          "scatterpolar": [
           {
            "type": "scatterpolar",
            "marker": {
             "colorbar": {
              "outlinewidth": 0,
              "ticks": ""
             }
            }
           }
          ],
          "histogram": [
           {
            "marker": {
             "pattern": {
              "fillmode": "overlay",
              "size": 10,
              "solidity": 0.2
             }
            },
            "type": "histogram"
           }
          ],
          "scattergl": [
           {
            "marker": {
             "line": {
              "color": "#283442"
             }
            },
            "type": "scattergl"
           }
          ],
          "scatter3d": [
           {
            "type": "scatter3d",
            "line": {
             "colorbar": {
              "outlinewidth": 0,
              "ticks": ""
             }
            },
            "marker": {
             "colorbar": {
              "outlinewidth": 0,
              "ticks": ""
             }
            }
           }
          ],
          "scattermapbox": [
           {
            "type": "scattermapbox",
            "marker": {
             "colorbar": {
              "outlinewidth": 0,
              "ticks": ""
             }
            }
           }
          ],
          "scatterternary": [
           {
            "type": "scatterternary",
            "marker": {
             "colorbar": {
              "outlinewidth": 0,
              "ticks": ""
             }
            }
           }
          ],
          "scattercarpet": [
           {
            "type": "scattercarpet",
            "marker": {
             "colorbar": {
              "outlinewidth": 0,
              "ticks": ""
             }
            }
           }
          ],
          "carpet": [
           {
            "aaxis": {
             "endlinecolor": "#A2B1C6",
             "gridcolor": "#506784",
             "linecolor": "#506784",
             "minorgridcolor": "#506784",
             "startlinecolor": "#A2B1C6"
            },
            "baxis": {
             "endlinecolor": "#A2B1C6",
             "gridcolor": "#506784",
             "linecolor": "#506784",
             "minorgridcolor": "#506784",
             "startlinecolor": "#A2B1C6"
            },
            "type": "carpet"
           }
          ],
          "table": [
           {
            "cells": {
             "fill": {
              "color": "#506784"
             },
             "line": {
              "color": "rgb(17,17,17)"
             }
            },
            "header": {
             "fill": {
              "color": "#2a3f5f"
             },
             "line": {
              "color": "rgb(17,17,17)"
             }
            },
            "type": "table"
           }
          ],
          "barpolar": [
           {
            "marker": {
             "line": {
              "color": "rgb(17,17,17)",
              "width": 0.5
             },
             "pattern": {
              "fillmode": "overlay",
              "size": 10,
              "solidity": 0.2
             }
            },
            "type": "barpolar"
           }
          ],
          "pie": [
           {
            "automargin": true,
            "type": "pie"
           }
          ]
         },
         "layout": {
          "autotypenumbers": "strict",
          "colorway": [
           "#636efa",
           "#EF553B",
           "#00cc96",
           "#ab63fa",
           "#FFA15A",
           "#19d3f3",
           "#FF6692",
           "#B6E880",
           "#FF97FF",
           "#FECB52"
          ],
          "font": {
           "color": "#f2f5fa"
          },
          "hovermode": "closest",
          "hoverlabel": {
           "align": "left"
          },
          "paper_bgcolor": "rgb(17,17,17)",
          "plot_bgcolor": "rgb(17,17,17)",
          "polar": {
           "bgcolor": "rgb(17,17,17)",
           "angularaxis": {
            "gridcolor": "#506784",
            "linecolor": "#506784",
            "ticks": ""
           },
           "radialaxis": {
            "gridcolor": "#506784",
            "linecolor": "#506784",
            "ticks": ""
           }
          },
          "ternary": {
           "bgcolor": "rgb(17,17,17)",
           "aaxis": {
            "gridcolor": "#506784",
            "linecolor": "#506784",
            "ticks": ""
           },
           "baxis": {
            "gridcolor": "#506784",
            "linecolor": "#506784",
            "ticks": ""
           },
           "caxis": {
            "gridcolor": "#506784",
            "linecolor": "#506784",
            "ticks": ""
           }
          },
          "coloraxis": {
           "colorbar": {
            "outlinewidth": 0,
            "ticks": ""
           }
          },
          "colorscale": {
           "sequential": [
            [
             0.0,
             "#0d0887"
            ],
            [
             0.1111111111111111,
             "#46039f"
            ],
            [
             0.2222222222222222,
             "#7201a8"
            ],
            [
             0.3333333333333333,
             "#9c179e"
            ],
            [
             0.4444444444444444,
             "#bd3786"
            ],
            [
             0.5555555555555556,
             "#d8576b"
            ],
            [
             0.6666666666666666,
             "#ed7953"
            ],
            [
             0.7777777777777778,
             "#fb9f3a"
            ],
            [
             0.8888888888888888,
             "#fdca26"
            ],
            [
             1.0,
             "#f0f921"
            ]
           ],
           "sequentialminus": [
            [
             0.0,
             "#0d0887"
            ],
            [
             0.1111111111111111,
             "#46039f"
            ],
            [
             0.2222222222222222,
             "#7201a8"
            ],
            [
             0.3333333333333333,
             "#9c179e"
            ],
            [
             0.4444444444444444,
             "#bd3786"
            ],
            [
             0.5555555555555556,
             "#d8576b"
            ],
            [
             0.6666666666666666,
             "#ed7953"
            ],
            [
             0.7777777777777778,
             "#fb9f3a"
            ],
            [
             0.8888888888888888,
             "#fdca26"
            ],
            [
             1.0,
             "#f0f921"
            ]
           ],
           "diverging": [
            [
             0,
             "#8e0152"
            ],
            [
             0.1,
             "#c51b7d"
            ],
            [
             0.2,
             "#de77ae"
            ],
            [
             0.3,
             "#f1b6da"
            ],
            [
             0.4,
             "#fde0ef"
            ],
            [
             0.5,
             "#f7f7f7"
            ],
            [
             0.6,
             "#e6f5d0"
            ],
            [
             0.7,
             "#b8e186"
            ],
            [
             0.8,
             "#7fbc41"
            ],
            [
             0.9,
             "#4d9221"
            ],
            [
             1,
             "#276419"
            ]
           ]
          },
          "xaxis": {
           "gridcolor": "#283442",
           "linecolor": "#506784",
           "ticks": "",
           "title": {
            "standoff": 15
           },
           "zerolinecolor": "#283442",
           "automargin": true,
           "zerolinewidth": 2
          },
          "yaxis": {
           "gridcolor": "#283442",
           "linecolor": "#506784",
           "ticks": "",
           "title": {
            "standoff": 15
           },
           "zerolinecolor": "#283442",
           "automargin": true,
           "zerolinewidth": 2
          },
          "scene": {
           "xaxis": {
            "backgroundcolor": "rgb(17,17,17)",
            "gridcolor": "#506784",
            "linecolor": "#506784",
            "showbackground": true,
            "ticks": "",
            "zerolinecolor": "#C8D4E3",
            "gridwidth": 2
           },
           "yaxis": {
            "backgroundcolor": "rgb(17,17,17)",
            "gridcolor": "#506784",
            "linecolor": "#506784",
            "showbackground": true,
            "ticks": "",
            "zerolinecolor": "#C8D4E3",
            "gridwidth": 2
           },
           "zaxis": {
            "backgroundcolor": "rgb(17,17,17)",
            "gridcolor": "#506784",
            "linecolor": "#506784",
            "showbackground": true,
            "ticks": "",
            "zerolinecolor": "#C8D4E3",
            "gridwidth": 2
           }
          },
          "shapedefaults": {
           "line": {
            "color": "#f2f5fa"
           }
          },
          "annotationdefaults": {
           "arrowcolor": "#f2f5fa",
           "arrowhead": 0,
           "arrowwidth": 1
          },
          "geo": {
           "bgcolor": "rgb(17,17,17)",
           "landcolor": "rgb(17,17,17)",
           "subunitcolor": "#506784",
           "showland": true,
           "showlakes": true,
           "lakecolor": "rgb(17,17,17)"
          },
          "title": {
           "x": 0.05
          },
          "updatemenudefaults": {
           "bgcolor": "#506784",
           "borderwidth": 0
          },
          "sliderdefaults": {
           "bgcolor": "#C8D4E3",
           "borderwidth": 1,
           "bordercolor": "rgb(17,17,17)",
           "tickwidth": 0
          },
          "mapbox": {
           "style": "dark"
          }
         }
        }
       },
       "config": {
        "plotlyServerURL": "https://plot.ly"
       }
      },
      "text/html": [
       "<div>                            <div id=\"81312252-3319-476d-811a-58f2a54ac82d\" class=\"plotly-graph-div\" style=\"height:525px; width:100%;\"></div>            <script type=\"text/javascript\">                require([\"plotly\"], function(Plotly) {                    window.PLOTLYENV=window.PLOTLYENV || {};                                    if (document.getElementById(\"81312252-3319-476d-811a-58f2a54ac82d\")) {                    Plotly.newPlot(                        \"81312252-3319-476d-811a-58f2a54ac82d\",                        [{\"customdata\":[[0.0,-100.0],[0.0,-100.0],[0.0,-100.0],[0.0,-100.0],[0.0,-100.0],[0.0,-100.0],[0.0,-100.0],[0.0,-100.0],[0.0,-100.0],[0.0,-100.0],[0.0,-100.0],[0.0,-100.0],[152.0,0.0],[0.0,-100.0],[167.0,1.0],[130.0,2.0],[0.0,-100.0],[141.0,3.0],[136.0,4.0],[0.0,-100.0],[158.0,5.0],[153.0,6.0],[0.0,-100.0],[189.0,7.0],[159.0,8.0],[0.0,-100.0],[158.0,9.0],[165.0,10.0],[0.0,-100.0],[187.0,11.0],[157.0,12.0],[0.0,-100.0],[143.0,13.0],[148.0,14.0],[0.0,-100.0],[156.0,15.0],[173.0,16.0],[0.0,-100.0],[168.0,17.0],[137.0,18.0],[0.0,-100.0],[148.0,19.0],[151.0,20.0],[0.0,-100.0],[165.0,21.0],[139.0,22.0],[0.0,-100.0],[165.0,23.0],[188.0,24.0],[0.0,-100.0],[164.0,25.0],[143.0,26.0],[0.0,-100.0],[164.0,27.0],[197.0,28.0],[0.0,-100.0],[170.0,29.0],[171.0,30.0],[0.0,-100.0],[161.0,31.0],[165.0,32.0],[0.0,-100.0],[166.0,33.0],[148.0,34.0],[0.0,-100.0],[152.0,35.0],[142.0,36.0],[0.0,-100.0],[154.0,37.0],[135.0,38.0],[0.0,-100.0],[174.0,39.0],[0.0,-100.0],[0.0,-100.0],[0.0,-100.0],[0.0,-100.0],[0.0,-100.0],[0.0,-100.0],[0.0,-100.0],[0.0,-100.0],[0.0,-100.0],[0.0,-100.0],[0.0,-100.0],[0.0,-100.0]],\"hovertemplate\":\"x: %{x}\\u003cbr\\u003ey: %{y}\\u003cbr\\u003ez: %{z}\\u003cbr\\u003eOrder Frequency: %{customdata[0]}\\u003cbr\\u003eProduct: %{customdata[1]}}\",\"marker\":{\"color\":[0.0,0.0,0.0,0.0,0.0,0.0,0.0,0.0,0.0,0.0,0.0,0.0,152.0,0.0,167.0,130.0,0.0,141.0,136.0,0.0,158.0,153.0,0.0,189.0,159.0,0.0,158.0,165.0,0.0,187.0,157.0,0.0,143.0,148.0,0.0,156.0,173.0,0.0,168.0,137.0,0.0,148.0,151.0,0.0,165.0,139.0,0.0,165.0,188.0,0.0,164.0,143.0,0.0,164.0,197.0,0.0,170.0,171.0,0.0,161.0,165.0,0.0,166.0,148.0,0.0,152.0,142.0,0.0,154.0,135.0,0.0,174.0,0.0,0.0,0.0,0.0,0.0,0.0,0.0,0.0,0.0,0.0,0.0,0.0],\"colorscale\":[[0.0,\"rgb(3, 35, 51)\"],[0.09090909090909091,\"rgb(13, 48, 100)\"],[0.18181818181818182,\"rgb(53, 50, 155)\"],[0.2727272727272727,\"rgb(93, 62, 153)\"],[0.36363636363636365,\"rgb(126, 77, 143)\"],[0.45454545454545453,\"rgb(158, 89, 135)\"],[0.5454545454545454,\"rgb(193, 100, 121)\"],[0.6363636363636364,\"rgb(225, 113, 97)\"],[0.7272727272727273,\"rgb(246, 139, 69)\"],[0.8181818181818182,\"rgb(251, 173, 60)\"],[0.9090909090909091,\"rgb(246, 211, 70)\"],[1.0,\"rgb(231, 250, 90)\"]],\"size\":5,\"symbol\":\"square\"},\"mode\":\"markers\",\"x\":[0,0,0,0,0,0,0,0,0,0,0,0,1,1,1,1,1,1,1,1,1,1,1,1,2,2,2,2,2,2,2,2,2,2,2,2,3,3,3,3,3,3,3,3,3,3,3,3,4,4,4,4,4,4,4,4,4,4,4,4,5,5,5,5,5,5,5,5,5,5,5,5,6,6,6,6,6,6,6,6,6,6,6,6],\"y\":[0,1,2,3,4,5,6,7,8,9,10,11,0,1,2,3,4,5,6,7,8,9,10,11,0,1,2,3,4,5,6,7,8,9,10,11,0,1,2,3,4,5,6,7,8,9,10,11,0,1,2,3,4,5,6,7,8,9,10,11,0,1,2,3,4,5,6,7,8,9,10,11,0,1,2,3,4,5,6,7,8,9,10,11],\"z\":[0,0,0,0,0,0,0,0,0,0,0,0,0,0,0,0,0,0,0,0,0,0,0,0,0,0,0,0,0,0,0,0,0,0,0,0,0,0,0,0,0,0,0,0,0,0,0,0,0,0,0,0,0,0,0,0,0,0,0,0,0,0,0,0,0,0,0,0,0,0,0,0,0,0,0,0,0,0,0,0,0,0,0,0],\"type\":\"scatter3d\"}],                        {\"title\":{\"text\":\"Warehouse Visualization\"},\"template\":{\"data\":{\"histogram2dcontour\":[{\"type\":\"histogram2dcontour\",\"colorbar\":{\"outlinewidth\":0,\"ticks\":\"\"},\"colorscale\":[[0.0,\"#0d0887\"],[0.1111111111111111,\"#46039f\"],[0.2222222222222222,\"#7201a8\"],[0.3333333333333333,\"#9c179e\"],[0.4444444444444444,\"#bd3786\"],[0.5555555555555556,\"#d8576b\"],[0.6666666666666666,\"#ed7953\"],[0.7777777777777778,\"#fb9f3a\"],[0.8888888888888888,\"#fdca26\"],[1.0,\"#f0f921\"]]}],\"choropleth\":[{\"type\":\"choropleth\",\"colorbar\":{\"outlinewidth\":0,\"ticks\":\"\"}}],\"histogram2d\":[{\"type\":\"histogram2d\",\"colorbar\":{\"outlinewidth\":0,\"ticks\":\"\"},\"colorscale\":[[0.0,\"#0d0887\"],[0.1111111111111111,\"#46039f\"],[0.2222222222222222,\"#7201a8\"],[0.3333333333333333,\"#9c179e\"],[0.4444444444444444,\"#bd3786\"],[0.5555555555555556,\"#d8576b\"],[0.6666666666666666,\"#ed7953\"],[0.7777777777777778,\"#fb9f3a\"],[0.8888888888888888,\"#fdca26\"],[1.0,\"#f0f921\"]]}],\"heatmap\":[{\"type\":\"heatmap\",\"colorbar\":{\"outlinewidth\":0,\"ticks\":\"\"},\"colorscale\":[[0.0,\"#0d0887\"],[0.1111111111111111,\"#46039f\"],[0.2222222222222222,\"#7201a8\"],[0.3333333333333333,\"#9c179e\"],[0.4444444444444444,\"#bd3786\"],[0.5555555555555556,\"#d8576b\"],[0.6666666666666666,\"#ed7953\"],[0.7777777777777778,\"#fb9f3a\"],[0.8888888888888888,\"#fdca26\"],[1.0,\"#f0f921\"]]}],\"heatmapgl\":[{\"type\":\"heatmapgl\",\"colorbar\":{\"outlinewidth\":0,\"ticks\":\"\"},\"colorscale\":[[0.0,\"#0d0887\"],[0.1111111111111111,\"#46039f\"],[0.2222222222222222,\"#7201a8\"],[0.3333333333333333,\"#9c179e\"],[0.4444444444444444,\"#bd3786\"],[0.5555555555555556,\"#d8576b\"],[0.6666666666666666,\"#ed7953\"],[0.7777777777777778,\"#fb9f3a\"],[0.8888888888888888,\"#fdca26\"],[1.0,\"#f0f921\"]]}],\"contourcarpet\":[{\"type\":\"contourcarpet\",\"colorbar\":{\"outlinewidth\":0,\"ticks\":\"\"}}],\"contour\":[{\"type\":\"contour\",\"colorbar\":{\"outlinewidth\":0,\"ticks\":\"\"},\"colorscale\":[[0.0,\"#0d0887\"],[0.1111111111111111,\"#46039f\"],[0.2222222222222222,\"#7201a8\"],[0.3333333333333333,\"#9c179e\"],[0.4444444444444444,\"#bd3786\"],[0.5555555555555556,\"#d8576b\"],[0.6666666666666666,\"#ed7953\"],[0.7777777777777778,\"#fb9f3a\"],[0.8888888888888888,\"#fdca26\"],[1.0,\"#f0f921\"]]}],\"surface\":[{\"type\":\"surface\",\"colorbar\":{\"outlinewidth\":0,\"ticks\":\"\"},\"colorscale\":[[0.0,\"#0d0887\"],[0.1111111111111111,\"#46039f\"],[0.2222222222222222,\"#7201a8\"],[0.3333333333333333,\"#9c179e\"],[0.4444444444444444,\"#bd3786\"],[0.5555555555555556,\"#d8576b\"],[0.6666666666666666,\"#ed7953\"],[0.7777777777777778,\"#fb9f3a\"],[0.8888888888888888,\"#fdca26\"],[1.0,\"#f0f921\"]]}],\"mesh3d\":[{\"type\":\"mesh3d\",\"colorbar\":{\"outlinewidth\":0,\"ticks\":\"\"}}],\"scatter\":[{\"marker\":{\"line\":{\"color\":\"#283442\"}},\"type\":\"scatter\"}],\"parcoords\":[{\"type\":\"parcoords\",\"line\":{\"colorbar\":{\"outlinewidth\":0,\"ticks\":\"\"}}}],\"scatterpolargl\":[{\"type\":\"scatterpolargl\",\"marker\":{\"colorbar\":{\"outlinewidth\":0,\"ticks\":\"\"}}}],\"bar\":[{\"error_x\":{\"color\":\"#f2f5fa\"},\"error_y\":{\"color\":\"#f2f5fa\"},\"marker\":{\"line\":{\"color\":\"rgb(17,17,17)\",\"width\":0.5},\"pattern\":{\"fillmode\":\"overlay\",\"size\":10,\"solidity\":0.2}},\"type\":\"bar\"}],\"scattergeo\":[{\"type\":\"scattergeo\",\"marker\":{\"colorbar\":{\"outlinewidth\":0,\"ticks\":\"\"}}}],\"scatterpolar\":[{\"type\":\"scatterpolar\",\"marker\":{\"colorbar\":{\"outlinewidth\":0,\"ticks\":\"\"}}}],\"histogram\":[{\"marker\":{\"pattern\":{\"fillmode\":\"overlay\",\"size\":10,\"solidity\":0.2}},\"type\":\"histogram\"}],\"scattergl\":[{\"marker\":{\"line\":{\"color\":\"#283442\"}},\"type\":\"scattergl\"}],\"scatter3d\":[{\"type\":\"scatter3d\",\"line\":{\"colorbar\":{\"outlinewidth\":0,\"ticks\":\"\"}},\"marker\":{\"colorbar\":{\"outlinewidth\":0,\"ticks\":\"\"}}}],\"scattermapbox\":[{\"type\":\"scattermapbox\",\"marker\":{\"colorbar\":{\"outlinewidth\":0,\"ticks\":\"\"}}}],\"scatterternary\":[{\"type\":\"scatterternary\",\"marker\":{\"colorbar\":{\"outlinewidth\":0,\"ticks\":\"\"}}}],\"scattercarpet\":[{\"type\":\"scattercarpet\",\"marker\":{\"colorbar\":{\"outlinewidth\":0,\"ticks\":\"\"}}}],\"carpet\":[{\"aaxis\":{\"endlinecolor\":\"#A2B1C6\",\"gridcolor\":\"#506784\",\"linecolor\":\"#506784\",\"minorgridcolor\":\"#506784\",\"startlinecolor\":\"#A2B1C6\"},\"baxis\":{\"endlinecolor\":\"#A2B1C6\",\"gridcolor\":\"#506784\",\"linecolor\":\"#506784\",\"minorgridcolor\":\"#506784\",\"startlinecolor\":\"#A2B1C6\"},\"type\":\"carpet\"}],\"table\":[{\"cells\":{\"fill\":{\"color\":\"#506784\"},\"line\":{\"color\":\"rgb(17,17,17)\"}},\"header\":{\"fill\":{\"color\":\"#2a3f5f\"},\"line\":{\"color\":\"rgb(17,17,17)\"}},\"type\":\"table\"}],\"barpolar\":[{\"marker\":{\"line\":{\"color\":\"rgb(17,17,17)\",\"width\":0.5},\"pattern\":{\"fillmode\":\"overlay\",\"size\":10,\"solidity\":0.2}},\"type\":\"barpolar\"}],\"pie\":[{\"automargin\":true,\"type\":\"pie\"}]},\"layout\":{\"autotypenumbers\":\"strict\",\"colorway\":[\"#636efa\",\"#EF553B\",\"#00cc96\",\"#ab63fa\",\"#FFA15A\",\"#19d3f3\",\"#FF6692\",\"#B6E880\",\"#FF97FF\",\"#FECB52\"],\"font\":{\"color\":\"#f2f5fa\"},\"hovermode\":\"closest\",\"hoverlabel\":{\"align\":\"left\"},\"paper_bgcolor\":\"rgb(17,17,17)\",\"plot_bgcolor\":\"rgb(17,17,17)\",\"polar\":{\"bgcolor\":\"rgb(17,17,17)\",\"angularaxis\":{\"gridcolor\":\"#506784\",\"linecolor\":\"#506784\",\"ticks\":\"\"},\"radialaxis\":{\"gridcolor\":\"#506784\",\"linecolor\":\"#506784\",\"ticks\":\"\"}},\"ternary\":{\"bgcolor\":\"rgb(17,17,17)\",\"aaxis\":{\"gridcolor\":\"#506784\",\"linecolor\":\"#506784\",\"ticks\":\"\"},\"baxis\":{\"gridcolor\":\"#506784\",\"linecolor\":\"#506784\",\"ticks\":\"\"},\"caxis\":{\"gridcolor\":\"#506784\",\"linecolor\":\"#506784\",\"ticks\":\"\"}},\"coloraxis\":{\"colorbar\":{\"outlinewidth\":0,\"ticks\":\"\"}},\"colorscale\":{\"sequential\":[[0.0,\"#0d0887\"],[0.1111111111111111,\"#46039f\"],[0.2222222222222222,\"#7201a8\"],[0.3333333333333333,\"#9c179e\"],[0.4444444444444444,\"#bd3786\"],[0.5555555555555556,\"#d8576b\"],[0.6666666666666666,\"#ed7953\"],[0.7777777777777778,\"#fb9f3a\"],[0.8888888888888888,\"#fdca26\"],[1.0,\"#f0f921\"]],\"sequentialminus\":[[0.0,\"#0d0887\"],[0.1111111111111111,\"#46039f\"],[0.2222222222222222,\"#7201a8\"],[0.3333333333333333,\"#9c179e\"],[0.4444444444444444,\"#bd3786\"],[0.5555555555555556,\"#d8576b\"],[0.6666666666666666,\"#ed7953\"],[0.7777777777777778,\"#fb9f3a\"],[0.8888888888888888,\"#fdca26\"],[1.0,\"#f0f921\"]],\"diverging\":[[0,\"#8e0152\"],[0.1,\"#c51b7d\"],[0.2,\"#de77ae\"],[0.3,\"#f1b6da\"],[0.4,\"#fde0ef\"],[0.5,\"#f7f7f7\"],[0.6,\"#e6f5d0\"],[0.7,\"#b8e186\"],[0.8,\"#7fbc41\"],[0.9,\"#4d9221\"],[1,\"#276419\"]]},\"xaxis\":{\"gridcolor\":\"#283442\",\"linecolor\":\"#506784\",\"ticks\":\"\",\"title\":{\"standoff\":15},\"zerolinecolor\":\"#283442\",\"automargin\":true,\"zerolinewidth\":2},\"yaxis\":{\"gridcolor\":\"#283442\",\"linecolor\":\"#506784\",\"ticks\":\"\",\"title\":{\"standoff\":15},\"zerolinecolor\":\"#283442\",\"automargin\":true,\"zerolinewidth\":2},\"scene\":{\"xaxis\":{\"backgroundcolor\":\"rgb(17,17,17)\",\"gridcolor\":\"#506784\",\"linecolor\":\"#506784\",\"showbackground\":true,\"ticks\":\"\",\"zerolinecolor\":\"#C8D4E3\",\"gridwidth\":2},\"yaxis\":{\"backgroundcolor\":\"rgb(17,17,17)\",\"gridcolor\":\"#506784\",\"linecolor\":\"#506784\",\"showbackground\":true,\"ticks\":\"\",\"zerolinecolor\":\"#C8D4E3\",\"gridwidth\":2},\"zaxis\":{\"backgroundcolor\":\"rgb(17,17,17)\",\"gridcolor\":\"#506784\",\"linecolor\":\"#506784\",\"showbackground\":true,\"ticks\":\"\",\"zerolinecolor\":\"#C8D4E3\",\"gridwidth\":2}},\"shapedefaults\":{\"line\":{\"color\":\"#f2f5fa\"}},\"annotationdefaults\":{\"arrowcolor\":\"#f2f5fa\",\"arrowhead\":0,\"arrowwidth\":1},\"geo\":{\"bgcolor\":\"rgb(17,17,17)\",\"landcolor\":\"rgb(17,17,17)\",\"subunitcolor\":\"#506784\",\"showland\":true,\"showlakes\":true,\"lakecolor\":\"rgb(17,17,17)\"},\"title\":{\"x\":0.05},\"updatemenudefaults\":{\"bgcolor\":\"#506784\",\"borderwidth\":0},\"sliderdefaults\":{\"bgcolor\":\"#C8D4E3\",\"borderwidth\":1,\"bordercolor\":\"rgb(17,17,17)\",\"tickwidth\":0},\"mapbox\":{\"style\":\"dark\"}}}},                        {\"responsive\": true}                    ).then(function(){\n",
       "                            \n",
       "var gd = document.getElementById('81312252-3319-476d-811a-58f2a54ac82d');\n",
       "var x = new MutationObserver(function (mutations, observer) {{\n",
       "        var display = window.getComputedStyle(gd).display;\n",
       "        if (!display || display === 'none') {{\n",
       "            console.log([gd, 'removed!']);\n",
       "            Plotly.purge(gd);\n",
       "            observer.disconnect();\n",
       "        }}\n",
       "}});\n",
       "\n",
       "// Listen for the removal of the full notebook cells\n",
       "var notebookContainer = gd.closest('#notebook-container');\n",
       "if (notebookContainer) {{\n",
       "    x.observe(notebookContainer, {childList: true});\n",
       "}}\n",
       "\n",
       "// Listen for the clearing of the current output cell\n",
       "var outputEl = gd.closest('.output');\n",
       "if (outputEl) {{\n",
       "    x.observe(outputEl, {childList: true});\n",
       "}}\n",
       "\n",
       "                        })                };                });            </script>        </div>"
      ]
     },
     "metadata": {},
     "output_type": "display_data"
    }
   ],
   "execution_count": 19
  },
  {
   "cell_type": "code",
   "metadata": {
    "ExecuteTime": {
     "end_time": "2024-07-16T14:36:27.511722Z",
     "start_time": "2024-07-16T14:36:27.463526Z"
    }
   },
   "source": [
    "fig.write_json(\"render/warehouse_3d.json\")"
   ],
   "outputs": [
    {
     "ename": "FileNotFoundError",
     "evalue": "[Errno 2] No such file or directory: 'render\\\\warehouse_3d.json'",
     "output_type": "error",
     "traceback": [
      "\u001B[1;31m---------------------------------------------------------------------------\u001B[0m",
      "\u001B[1;31mFileNotFoundError\u001B[0m                         Traceback (most recent call last)",
      "Cell \u001B[1;32mIn[20], line 1\u001B[0m\n\u001B[1;32m----> 1\u001B[0m \u001B[43mfig\u001B[49m\u001B[38;5;241;43m.\u001B[39;49m\u001B[43mwrite_json\u001B[49m\u001B[43m(\u001B[49m\u001B[38;5;124;43m\"\u001B[39;49m\u001B[38;5;124;43mrender/warehouse_3d.json\u001B[39;49m\u001B[38;5;124;43m\"\u001B[39;49m\u001B[43m)\u001B[49m\n",
      "File \u001B[1;32m~\\Documents\\Projekte\\beware\\venv\\Lib\\site-packages\\plotly\\basedatatypes.py:3507\u001B[0m, in \u001B[0;36mBaseFigure.write_json\u001B[1;34m(self, *args, **kwargs)\u001B[0m\n\u001B[0;32m   3477\u001B[0m \u001B[38;5;250m\u001B[39m\u001B[38;5;124;03m\"\"\"\u001B[39;00m\n\u001B[0;32m   3478\u001B[0m \u001B[38;5;124;03mConvert a figure to JSON and write it to a file or writeable\u001B[39;00m\n\u001B[0;32m   3479\u001B[0m \u001B[38;5;124;03mobject\u001B[39;00m\n\u001B[1;32m   (...)\u001B[0m\n\u001B[0;32m   3503\u001B[0m \u001B[38;5;124;03mNone\u001B[39;00m\n\u001B[0;32m   3504\u001B[0m \u001B[38;5;124;03m\"\"\"\u001B[39;00m\n\u001B[0;32m   3505\u001B[0m \u001B[38;5;28;01mimport\u001B[39;00m \u001B[38;5;21;01mplotly\u001B[39;00m\u001B[38;5;21;01m.\u001B[39;00m\u001B[38;5;21;01mio\u001B[39;00m \u001B[38;5;28;01mas\u001B[39;00m \u001B[38;5;21;01mpio\u001B[39;00m\n\u001B[1;32m-> 3507\u001B[0m \u001B[38;5;28;01mreturn\u001B[39;00m \u001B[43mpio\u001B[49m\u001B[38;5;241;43m.\u001B[39;49m\u001B[43mwrite_json\u001B[49m\u001B[43m(\u001B[49m\u001B[38;5;28;43mself\u001B[39;49m\u001B[43m,\u001B[49m\u001B[43m \u001B[49m\u001B[38;5;241;43m*\u001B[39;49m\u001B[43margs\u001B[49m\u001B[43m,\u001B[49m\u001B[43m \u001B[49m\u001B[38;5;241;43m*\u001B[39;49m\u001B[38;5;241;43m*\u001B[39;49m\u001B[43mkwargs\u001B[49m\u001B[43m)\u001B[49m\n",
      "File \u001B[1;32m~\\Documents\\Projekte\\beware\\venv\\Lib\\site-packages\\plotly\\io\\_json.py:298\u001B[0m, in \u001B[0;36mwrite_json\u001B[1;34m(fig, file, validate, pretty, remove_uids, engine)\u001B[0m\n\u001B[0;32m    288\u001B[0m         \u001B[38;5;28;01mraise\u001B[39;00m \u001B[38;5;167;01mValueError\u001B[39;00m(\n\u001B[0;32m    289\u001B[0m \u001B[38;5;250m            \u001B[39m\u001B[38;5;124;03m\"\"\"\u001B[39;00m\n\u001B[0;32m    290\u001B[0m \u001B[38;5;124;03mThe 'file' argument '{file}' is not a string, pathlib.Path object, or file descriptor.\u001B[39;00m\n\u001B[1;32m   (...)\u001B[0m\n\u001B[0;32m    293\u001B[0m             )\n\u001B[0;32m    294\u001B[0m         )\n\u001B[0;32m    295\u001B[0m     \u001B[38;5;28;01melse\u001B[39;00m:\n\u001B[0;32m    296\u001B[0m         \u001B[38;5;66;03m# We previously succeeded in interpreting `file` as a pathlib object.\u001B[39;00m\n\u001B[0;32m    297\u001B[0m         \u001B[38;5;66;03m# Now we can use `write_bytes()`.\u001B[39;00m\n\u001B[1;32m--> 298\u001B[0m         \u001B[43mpath\u001B[49m\u001B[38;5;241;43m.\u001B[39;49m\u001B[43mwrite_text\u001B[49m\u001B[43m(\u001B[49m\u001B[43mjson_str\u001B[49m\u001B[43m)\u001B[49m\n",
      "File \u001B[1;32m~\\AppData\\Local\\Programs\\Python\\Python311\\Lib\\pathlib.py:1078\u001B[0m, in \u001B[0;36mPath.write_text\u001B[1;34m(self, data, encoding, errors, newline)\u001B[0m\n\u001B[0;32m   1075\u001B[0m     \u001B[38;5;28;01mraise\u001B[39;00m \u001B[38;5;167;01mTypeError\u001B[39;00m(\u001B[38;5;124m'\u001B[39m\u001B[38;5;124mdata must be str, not \u001B[39m\u001B[38;5;132;01m%s\u001B[39;00m\u001B[38;5;124m'\u001B[39m \u001B[38;5;241m%\u001B[39m\n\u001B[0;32m   1076\u001B[0m                     data\u001B[38;5;241m.\u001B[39m\u001B[38;5;18m__class__\u001B[39m\u001B[38;5;241m.\u001B[39m\u001B[38;5;18m__name__\u001B[39m)\n\u001B[0;32m   1077\u001B[0m encoding \u001B[38;5;241m=\u001B[39m io\u001B[38;5;241m.\u001B[39mtext_encoding(encoding)\n\u001B[1;32m-> 1078\u001B[0m \u001B[38;5;28;01mwith\u001B[39;00m \u001B[38;5;28;43mself\u001B[39;49m\u001B[38;5;241;43m.\u001B[39;49m\u001B[43mopen\u001B[49m\u001B[43m(\u001B[49m\u001B[43mmode\u001B[49m\u001B[38;5;241;43m=\u001B[39;49m\u001B[38;5;124;43m'\u001B[39;49m\u001B[38;5;124;43mw\u001B[39;49m\u001B[38;5;124;43m'\u001B[39;49m\u001B[43m,\u001B[49m\u001B[43m \u001B[49m\u001B[43mencoding\u001B[49m\u001B[38;5;241;43m=\u001B[39;49m\u001B[43mencoding\u001B[49m\u001B[43m,\u001B[49m\u001B[43m \u001B[49m\u001B[43merrors\u001B[49m\u001B[38;5;241;43m=\u001B[39;49m\u001B[43merrors\u001B[49m\u001B[43m,\u001B[49m\u001B[43m \u001B[49m\u001B[43mnewline\u001B[49m\u001B[38;5;241;43m=\u001B[39;49m\u001B[43mnewline\u001B[49m\u001B[43m)\u001B[49m \u001B[38;5;28;01mas\u001B[39;00m f:\n\u001B[0;32m   1079\u001B[0m     \u001B[38;5;28;01mreturn\u001B[39;00m f\u001B[38;5;241m.\u001B[39mwrite(data)\n",
      "File \u001B[1;32m~\\AppData\\Local\\Programs\\Python\\Python311\\Lib\\pathlib.py:1044\u001B[0m, in \u001B[0;36mPath.open\u001B[1;34m(self, mode, buffering, encoding, errors, newline)\u001B[0m\n\u001B[0;32m   1042\u001B[0m \u001B[38;5;28;01mif\u001B[39;00m \u001B[38;5;124m\"\u001B[39m\u001B[38;5;124mb\u001B[39m\u001B[38;5;124m\"\u001B[39m \u001B[38;5;129;01mnot\u001B[39;00m \u001B[38;5;129;01min\u001B[39;00m mode:\n\u001B[0;32m   1043\u001B[0m     encoding \u001B[38;5;241m=\u001B[39m io\u001B[38;5;241m.\u001B[39mtext_encoding(encoding)\n\u001B[1;32m-> 1044\u001B[0m \u001B[38;5;28;01mreturn\u001B[39;00m io\u001B[38;5;241m.\u001B[39mopen(\u001B[38;5;28mself\u001B[39m, mode, buffering, encoding, errors, newline)\n",
      "\u001B[1;31mFileNotFoundError\u001B[0m: [Errno 2] No such file or directory: 'render\\\\warehouse_3d.json'"
     ]
    }
   ],
   "execution_count": 20
  },
  {
   "cell_type": "code",
   "metadata": {
    "ExecuteTime": {
     "end_time": "2024-07-16T14:36:28.273092Z",
     "start_time": "2024-07-16T14:36:28.091281Z"
    }
   },
   "source": [
    "node_xyz = np.array([warehouse.pos_dict[v] for v in sorted(warehouse.graph)])\n",
    "edge_xyz = np.array([(warehouse.pos_dict[u], warehouse.pos_dict[v]) for u, v in warehouse.graph.edges()])\n",
    "fig = plt.figure()\n",
    "ax = fig.add_subplot(111, projection=\"3d\")\n",
    "\n",
    "#plot nodes\n",
    "ax.scatter(node_xyz.T[0], node_xyz.T[1], node_xyz.T[2], s=10)\n",
    "\n",
    "# Plot the edges\n",
    "for vizedge in edge_xyz:\n",
    "    ax.plot(*vizedge.T, color=\"tab:gray\")\n",
    "\n",
    "ax.set_box_aspect([1,1,1])\n",
    "ax.set_title(\"Graph representation\")\n",
    "ax.set_xlabel('x-axis')\n",
    "ax.set_ylabel('y-axis')\n",
    "ax.set_zlabel('z-axis')"
   ],
   "outputs": [
    {
     "data": {
      "text/plain": [
       "Text(0.5, 0, 'z-axis')"
      ]
     },
     "execution_count": 21,
     "metadata": {},
     "output_type": "execute_result"
    },
    {
     "data": {
      "text/plain": [
       "<Figure size 640x480 with 1 Axes>"
      ],
      "image/png": "[encoded data removed]"
     },
     "metadata": {},
     "output_type": "display_data"
    }
   ],
   "execution_count": 21
  },
  {
   "cell_type": "code",
   "metadata": {
    "ExecuteTime": {
     "end_time": "2024-07-16T14:36:29.044345Z",
     "start_time": "2024-07-16T14:36:29.025246Z"
    }
   },
   "source": [
    "dist_mat_storage = dist_mat[storage_locs][:, storage_locs]"
   ],
   "outputs": [
    {
     "ename": "NameError",
     "evalue": "name 'dist_mat' is not defined",
     "output_type": "error",
     "traceback": [
      "\u001B[1;31m---------------------------------------------------------------------------\u001B[0m",
      "\u001B[1;31mNameError\u001B[0m                                 Traceback (most recent call last)",
      "Cell \u001B[1;32mIn[22], line 1\u001B[0m\n\u001B[1;32m----> 1\u001B[0m dist_mat_storage \u001B[38;5;241m=\u001B[39m \u001B[43mdist_mat\u001B[49m[storage_locs][:, storage_locs]\n",
      "\u001B[1;31mNameError\u001B[0m: name 'dist_mat' is not defined"
     ]
    }
   ],
   "execution_count": 22
  },
  {
   "cell_type": "code",
   "metadata": {
    "ExecuteTime": {
     "end_time": "2024-07-16T14:36:29.697264Z",
     "start_time": "2024-07-16T14:36:29.692687Z"
    }
   },
   "source": [
    "products = [0, 1, 2, 3]\n",
    "storage_locs = [0, 1, 2, 3]\n",
    "w = np.array([[0,3,0,2], \n",
    "     [3,0,0,1], #Flow matrix (between assignees)\n",
    "     [0,0,0,4],\n",
    "     [2,1,4,0]])\n",
    "\n",
    "d = np.array([[0,22,53,53],\n",
    "     [22,0,40,62], #Distance matrix (between assignments)\n",
    "     [53,40,0,55],\n",
    "     [53,62,55,0]])\n",
    "\n",
    "slap = SLAP_QA(d, products, w, storage_locs, depot)"
   ],
   "outputs": [],
   "execution_count": 23
  },
  {
   "cell_type": "code",
   "metadata": {
    "ExecuteTime": {
     "end_time": "2024-07-16T14:36:30.539922Z",
     "start_time": "2024-07-16T14:36:30.477864Z"
    }
   },
   "source": [
    "slap.report()"
   ],
   "outputs": [
    {
     "name": "stdout",
     "output_type": "stream",
     "text": [
      "Restricted license - for non-production use only - expires 2024-10-28\n",
      "Gurobi Optimizer version 10.0.3 build v10.0.3rc0 (win64)\n",
      "\n",
      "CPU model: AMD Ryzen 7 PRO 7840U w/ Radeon 780M Graphics, instruction set [SSE2|AVX|AVX2|AVX512]\n",
      "Thread count: 8 physical cores, 16 logical processors, using up to 16 threads\n",
      "\n",
      "Optimize a model with 8 rows, 16 columns and 32 nonzeros\n",
      "Model fingerprint: 0x93cffeac\n",
      "Model has 48 quadratic objective terms\n",
      "Variable types: 0 continuous, 16 integer (16 binary)\n",
      "Coefficient statistics:\n",
      "  Matrix range     [1e+00, 1e+00]\n",
      "  Objective range  [0e+00, 0e+00]\n",
      "  QObjective range [9e+01, 1e+03]\n",
      "  Bounds range     [1e+00, 1e+00]\n",
      "  RHS range        [1e+00, 1e+00]\n",
      "Found heuristic solution: objective 1022.0000000\n",
      "Presolve time: 0.00s\n",
      "Presolved: 56 rows, 64 columns, 176 nonzeros\n",
      "Variable types: 0 continuous, 64 integer (64 binary)\n",
      "\n",
      "Root relaxation: objective 0.000000e+00, 12 iterations, 0.00 seconds (0.00 work units)\n",
      "\n",
      "    Nodes    |    Current Node    |     Objective Bounds      |     Work\n",
      " Expl Unexpl |  Obj  Depth IntInf | Incumbent    BestBd   Gap | It/Node Time\n",
      "\n",
      "     0     0    0.00000    0    8 1022.00000    0.00000   100%     -    0s\n",
      "H    0     0                    1018.0000000    0.00000   100%     -    0s\n",
      "H    0     0                     990.0000000    0.00000   100%     -    0s\n",
      "     0     0    0.00000    0    8  990.00000    0.00000   100%     -    0s\n",
      "H    0     0                     834.0000000    0.00000   100%     -    0s\n",
      "H    0     0                     824.0000000    0.00000   100%     -    0s\n",
      "H    0     0                     790.0000000    0.00000   100%     -    0s\n",
      "\n",
      "Cutting planes:\n",
      "  Gomory: 4\n",
      "  MIR: 5\n",
      "  Zero half: 8\n",
      "  RLT: 27\n",
      "  BQP: 4\n",
      "\n",
      "Explored 1 nodes (22 simplex iterations) in 0.04 seconds (0.00 work units)\n",
      "Thread count was 16 (of 16 available processors)\n",
      "\n",
      "Solution count 6: 790 824 834 ... 1022\n",
      "\n",
      "Optimal solution found (tolerance 1.00e-04)\n",
      "Best objective 7.900000000000e+02, best bound 7.900000000000e+02, gap 0.0000%\n",
      "Optimal Solution Found:\n",
      "Item 0 stored at storage location 2\n",
      "Item 1 stored at storage location 3\n",
      "Item 2 stored at storage location 0\n",
      "Item 3 stored at storage location 1\n"
     ]
    }
   ],
   "execution_count": 24
  },
  {
   "cell_type": "code",
   "metadata": {
    "ExecuteTime": {
     "end_time": "2024-07-16T14:36:32.178523Z",
     "start_time": "2024-07-16T14:36:32.164022Z"
    }
   },
   "source": [
    "slap = SLAP(dist_mat, products, product_frequency, storage_locs, depot)"
   ],
   "outputs": [
    {
     "ename": "NameError",
     "evalue": "name 'dist_mat' is not defined",
     "output_type": "error",
     "traceback": [
      "\u001B[1;31m---------------------------------------------------------------------------\u001B[0m",
      "\u001B[1;31mNameError\u001B[0m                                 Traceback (most recent call last)",
      "Cell \u001B[1;32mIn[25], line 1\u001B[0m\n\u001B[1;32m----> 1\u001B[0m \u001B[43mdist_mat\u001B[49m\n",
      "\u001B[1;31mNameError\u001B[0m: name 'dist_mat' is not defined"
     ]
    }
   ],
   "execution_count": 25
  },
  {
   "cell_type": "code",
   "metadata": {},
   "source": [
    "slap.report() "
   ],
   "outputs": [],
   "execution_count": null
  },
  {
   "cell_type": "code",
   "metadata": {},
   "source": [
    "slap = SLAP_PA(dist_mat, products, product_frequency, product_pairs_frequency, storage_locs, depot)"
   ],
   "outputs": [],
   "execution_count": null
  },
  {
   "cell_type": "code",
   "metadata": {},
   "source": [
    "slap.report()"
   ],
   "outputs": [],
   "execution_count": null
  },
  {
   "cell_type": "code",
   "metadata": {},
   "source": [
    "fig_new = render_warehouse(warehouse, [11, 12, 6, 9, 8, 5], product_frequency)"
   ],
   "outputs": [],
   "execution_count": null
  },
  {
   "cell_type": "code",
   "metadata": {},
   "source": [
    "fig_new.show()"
   ],
   "outputs": [],
   "execution_count": null
  },
  {
   "cell_type": "code",
   "metadata": {},
   "source": [
    "#fig_new.write_json(\"new_layout.json\") "
   ],
   "outputs": [],
   "execution_count": null
  },
  {
   "cell_type": "code",
   "metadata": {},
   "source": [
    "def generate_genome(products, locations_list):\n",
    "    chromosome = []\n",
    "   \n",
    "    random.shuffle(locations_list)\n",
    "    for i in range(len(products)):\n",
    "        storage_loc = locations_list[i]\n",
    "        chromosome.append(storage_loc)\n",
    "    return chromosome"
   ],
   "outputs": [],
   "execution_count": null
  },
  {
   "cell_type": "code",
   "metadata": {},
   "source": [
    "initial_population = [generate_genome(products, storage_locs) for _ in range(200)]"
   ],
   "outputs": [],
   "execution_count": null
  },
  {
   "cell_type": "code",
   "metadata": {},
   "source": [
    "fitness_tracker = []\n",
    "min_fitness = np.inf\n",
    "for g in range(5000):\n",
    "    new_pop = []\n",
    "    pop_results = []\n",
    "    \n",
    "   \n",
    "    fitness_result = [ga.fitness_qa(pop, d, w) for pop in initial_population]\n",
    "    print(g, min(fitness_result))\n",
    "    fitness_tracker.append(min(fitness_result))\n",
    "    for _ in range(100):\n",
    "        selected = ga.selection(initial_population, fitness_result)\n",
    "        child = ga.crossover(selected)\n",
    "        mutated = ga.mutation(child)\n",
    "        new_pop.append(mutated)\n",
    "    initial_population = new_pop\n",
    "\n",
    "min_fitness = min(fitness_result)\n",
    "min_child = initial_population[fitness_result.index(min_fitness)]"
   ],
   "outputs": [],
   "execution_count": null
  },
  {
   "cell_type": "code",
   "metadata": {},
   "source": [
    "# initial_population = [ga.generate_genome(products, warehouse) for i in range(1000)]\n",
    "\n",
    "    \n",
    "#product_pairs_frequency = calc_product_affinity(orders)\n",
    "# product_frequency_pf_pa = [0 for i in range(len(product_frequency.keys()))]\n",
    "# for i in list(product_frequency.values()):\n",
    "product_frequency_pf_pa = list(product_frequency.values())\n",
    "\n",
    "\n",
    "\n",
    "# product_pairs_np = np.zeros((n_products, n_products))\n",
    "# for key in product_pairs_frequency.keys():\n",
    "#     for pair in product_pairs_frequency[key].keys():\n",
    "#         product_pairs_np[key][pair] = product_pairs_frequency[key][pair]\n",
    "\n",
    "fitness_tracker = []\n",
    "min_fitness = np.inf\n",
    "for g in range(500):\n",
    "    new_pop = []\n",
    "    pop_results = []\n",
    "    \n",
    "   \n",
    "    fitness_result = [ga.fitness_pf_pa(pop, dist_mat, product_frequency_pf_pa, product_pairs_frequency) for pop in initial_population]\n",
    "    print(g, min(fitness_result))\n",
    "    fitness_tracker.append(min(fitness_result))\n",
    "    for _ in range(100):\n",
    "        selected = ga.selection(initial_population, fitness_result)\n",
    "        child = ga.crossover(selected)\n",
    "        mutated = ga.mutation(child)\n",
    "        new_pop.append(mutated)\n",
    "    initial_population = new_pop\n",
    "\n",
    "min_fitness = min(fitness_result)\n",
    "min_child = initial_population[fitness_result.index(min_fitness)]"
   ],
   "outputs": [],
   "execution_count": null
  }
 ],
 "metadata": {
  "kernelspec": {
   "display_name": "Python 3",
   "language": "python",
   "name": "python3"
  },
  "language_info": {
   "codemirror_mode": {
    "name": "ipython",
    "version": 3
   },
   "file_extension": ".py",
   "mimetype": "text/x-python",
   "name": "python",
   "nbconvert_exporter": "python",
   "pygments_lexer": "ipython3",
   "version": "3.11.6"
  },
  "orig_nbformat": 4
 },
 "nbformat": 4,
 "nbformat_minor": 2
}
