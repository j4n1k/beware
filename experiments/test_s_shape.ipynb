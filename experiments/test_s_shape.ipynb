{
 "cells": [
  {
   "cell_type": "code",
   "metadata": {
    "ExecuteTime": {
     "end_time": "2024-07-15T22:17:24.628347Z",
     "start_time": "2024-07-15T22:17:22.758530Z"
    }
   },
   "source": [
    "import os \n",
    "import random\n",
    "import pickle\n",
    "from copy import deepcopy\n",
    "\n",
    "import networkx as nx \n",
    "import plotly.graph_objects as go\n",
    "import plotly.express as px\n",
    "import matplotlib.pyplot as plt\n",
    "import numpy as np\n",
    "import pyomo as pyo\n",
    "import highspy \n",
    "import pandas as pd\n",
    "from pulp import *\n",
    "from warehouse_model.layout import Layout\n",
    "from warehouse_model.simulation import Order, OrderPickEvent, run_simulation, Agent, s_shape\n",
    "import datetime\n",
    "from warehouse_model.simulation import sim_loop\n",
    "from warehouse_model.graph_tools import viz_graph\n",
    "from utils import render_warehouse, calc_product_freq\n",
    "from data.instance_loader import InstanceLoader"
   ],
   "outputs": [],
   "execution_count": 1
  },
  {
   "cell_type": "code",
   "metadata": {
    "ExecuteTime": {
     "end_time": "2024-07-15T22:17:24.634254Z",
     "start_time": "2024-07-15T22:17:24.629360Z"
    }
   },
   "source": [
    "def gen_pos(G: nx.Graph):\n",
    "    pos_dict = {}\n",
    "    for node in G.nodes():\n",
    "        pos_dict[node] = np.array([node[0], node[1], node[2]])\n",
    "    return pos_dict"
   ],
   "outputs": [],
   "execution_count": 2
  },
  {
   "metadata": {
    "ExecuteTime": {
     "end_time": "2024-07-15T22:17:25.270585Z",
     "start_time": "2024-07-15T22:17:25.266025Z"
    }
   },
   "cell_type": "code",
   "source": "h = highspy.Highs()",
   "outputs": [],
   "execution_count": 3
  },
  {
   "metadata": {
    "ExecuteTime": {
     "end_time": "2024-07-15T22:17:25.668534Z",
     "start_time": "2024-07-15T22:17:25.664845Z"
    }
   },
   "cell_type": "code",
   "source": [
    "instance = InstanceLoader()\n",
    "instance.extract_info()"
   ],
   "outputs": [],
   "execution_count": 4
  },
  {
   "metadata": {
    "ExecuteTime": {
     "end_time": "2024-07-15T22:17:26.088056Z",
     "start_time": "2024-07-15T22:17:26.080805Z"
    }
   },
   "cell_type": "code",
   "source": "instance.orders[0]",
   "outputs": [
    {
     "data": {
      "text/plain": [
       "[[0, 1], [1, 1]]"
      ]
     },
     "execution_count": 5,
     "metadata": {},
     "output_type": "execute_result"
    }
   ],
   "execution_count": 5
  },
  {
   "metadata": {
    "ExecuteTime": {
     "end_time": "2024-07-15T22:17:26.424034Z",
     "start_time": "2024-07-15T22:17:26.418622Z"
    }
   },
   "cell_type": "code",
   "source": "instance.skus[instance.orders[0][0][0]]",
   "outputs": [
    {
     "data": {
      "text/plain": [
       "{'aisle': 0, 'cell': 1, 'quantity': 1, 'side': 'left'}"
      ]
     },
     "execution_count": 6,
     "metadata": {},
     "output_type": "execute_result"
    }
   ],
   "execution_count": 6
  },
  {
   "metadata": {
    "ExecuteTime": {
     "end_time": "2024-07-15T22:17:26.807459Z",
     "start_time": "2024-07-15T22:17:26.802632Z"
    }
   },
   "cell_type": "code",
   "source": "instance.general_info",
   "outputs": [
    {
     "data": {
      "text/plain": [
       "{'NAME': 'Pr_20_1_20_Store1_01.txt',\n",
       " 'TYPE': 'Order_batching',\n",
       " 'COMMENT': 'Bahï¿½eci and ï¿½ncan (2021)',\n",
       " 'PICKER_CAPACITY': '20',\n",
       " 'LAYOUT': 'single-block',\n",
       " 'NUM_AISLES': '10',\n",
       " 'NUM_CELLS': '10',\n",
       " 'DEPOT_AISLE': '0',\n",
       " 'DEPOT_LOCATION': 'bottom',\n",
       " 'DISTANCE_AISLE_TO_AISLE': '2.4',\n",
       " 'DISTANCE_CELL_TO_CELL': '1',\n",
       " 'DISTANCE_TOP_TO_CELL': '1',\n",
       " 'DISTANCE_BOTTOM_TO_CELL': '1',\n",
       " 'DISTANCE_TOP_OR_BOTTOM_TO_DEPOT': '0'}"
      ]
     },
     "execution_count": 7,
     "metadata": {},
     "output_type": "execute_result"
    }
   ],
   "execution_count": 7
  },
  {
   "metadata": {
    "ExecuteTime": {
     "end_time": "2024-07-15T22:17:27.176575Z",
     "start_time": "2024-07-15T22:17:27.168200Z"
    }
   },
   "cell_type": "code",
   "source": [
    "layout_info = instance.general_info\n",
    "aisles = int(layout_info[\"NUM_AISLES\"])\n",
    "locations = int(layout_info[\"NUM_CELLS\"])\n",
    "inter_cell_dist = float(layout_info[\"DISTANCE_CELL_TO_CELL\"])\n",
    "inter_aisle_dist = float(layout_info[\"DISTANCE_AISLE_TO_AISLE\"])\n",
    "G = nx.Graph()\n",
    "G.add_node((0,0,0)) #depot\n",
    "G.add_node((1,1,0)) #first aisle\n",
    "G.add_node((1,2+locations,0)) #first aisle\n",
    "last_mid = (1,1,0)\n",
    "for l in range(locations):\n",
    "    location_left= (0, l+2, 0)\n",
    "    location_right = (2, l+2, 0)\n",
    "    location_mid = (1, l+2, 0)\n",
    "\n",
    "    G.add_node(location_left)\n",
    "    G.add_node(location_right)\n",
    "    G.add_node(location_mid)\n",
    "\n",
    "    G.add_edge(location_left, location_mid, weight=1)\n",
    "    G.add_edge(location_right, location_mid, weight=1)\n",
    "\n",
    "    G.add_edge(last_mid, location_mid, weight=1)\n",
    "    last_mid = location_mid\n",
    "G.add_edge(last_mid, (1,2+locations,0), weight=1)\n",
    "    \n",
    "start = 1\n",
    "last_aisle_start = (1,1,0)\n",
    "last_aisle_end = (1,2+locations,0)\n",
    "for a in range(aisles-1):\n",
    "    start += 3\n",
    "    aisle_start = (start, 1, 0)\n",
    "    aisle_end = (start, 2+locations, 0)\n",
    "    G.add_node(aisle_start)\n",
    "    G.add_node(aisle_end)\n",
    "    # if a > 0:\n",
    "    last_mid = aisle_start\n",
    "    for l in range(locations):\n",
    "        location_left = (start-1, l+2, 0)\n",
    "        location_right = (start+1, l+2, 0)\n",
    "        location_mid = (start, l+2, 0)\n",
    "\n",
    "        G.add_node(location_left)\n",
    "        G.add_node(location_right)\n",
    "        G.add_node(location_mid)\n",
    "\n",
    "        G.add_edge(location_left, location_mid, weight=1)\n",
    "        G.add_edge(location_right, location_mid, weight=1)\n",
    "\n",
    "        G.add_edge(last_mid, location_mid, weight=1)\n",
    "        last_mid = location_mid\n",
    "\n",
    "    G.add_edge(last_mid, aisle_end, weight=1)\n",
    "\n",
    "    #G.add_edge(aisle_start, aisle_end, weight=(locations+1)*inter_cell_dist)\n",
    "    G.add_edge(last_aisle_start, aisle_start, weight=inter_aisle_dist)\n",
    "    G.add_edge(last_aisle_end, aisle_end, weight=inter_aisle_dist)\n",
    "    last_aisle_start = aisle_start\n",
    "    last_aisle_end = aisle_end\n",
    "\n"
   ],
   "outputs": [],
   "execution_count": 8
  },
  {
   "metadata": {
    "ExecuteTime": {
     "end_time": "2024-07-15T22:17:27.567862Z",
     "start_time": "2024-07-15T22:17:27.559721Z"
    }
   },
   "cell_type": "code",
   "source": [
    "aisles = 4\n",
    "locations = 5\n",
    "inter_cell_dist = 1\n",
    "inter_aisle_dist = 3\n",
    "G = nx.Graph()\n",
    "G.add_node((0,0,0)) #depot\n",
    "G.add_node((1,1,0)) #first aisle\n",
    "G.add_node((1,2+locations,0)) #first aisle\n",
    "last_mid = (1,1,0)\n",
    "for l in range(locations):\n",
    "    location_left= (0, l+2, 0)\n",
    "    location_right = (2, l+2, 0)\n",
    "    location_mid = (1, l+2, 0)\n",
    "\n",
    "    G.add_node(location_left)\n",
    "    G.add_node(location_right)\n",
    "    G.add_node(location_mid)\n",
    "\n",
    "    G.add_edge(location_left, location_mid, weight=1)\n",
    "    G.add_edge(location_right, location_mid, weight=1)\n",
    "\n",
    "    G.add_edge(last_mid, location_mid, weight=1)\n",
    "    last_mid = location_mid\n",
    "G.add_edge(last_mid, (1,2+locations,0), weight=1)\n",
    "    \n",
    "start = 1\n",
    "last_aisle_start = (1,1,0)\n",
    "last_aisle_end = (1,2+locations,0)\n",
    "for a in range(aisles-1):\n",
    "    start += 3\n",
    "    aisle_start = (start, 1, 0)\n",
    "    aisle_end = (start, 2+locations, 0)\n",
    "    G.add_node(aisle_start)\n",
    "    G.add_node(aisle_end)\n",
    "    # if a > 0:\n",
    "    last_mid = aisle_start\n",
    "    for l in range(locations):\n",
    "        location_left = (start-1, l+2, 0)\n",
    "        location_right = (start+1, l+2, 0)\n",
    "        location_mid = (start, l+2, 0)\n",
    "\n",
    "        G.add_node(location_left)\n",
    "        G.add_node(location_right)\n",
    "        G.add_node(location_mid)\n",
    "\n",
    "        G.add_edge(location_left, location_mid, weight=1)\n",
    "        G.add_edge(location_right, location_mid, weight=1)\n",
    "\n",
    "        G.add_edge(last_mid, location_mid, weight=1)\n",
    "        last_mid = location_mid\n",
    "\n",
    "    G.add_edge(last_mid, aisle_end, weight=1)\n",
    "\n",
    "    #G.add_edge(aisle_start, aisle_end, weight=(locations+1)*inter_cell_dist)\n",
    "    G.add_edge(last_aisle_start, aisle_start, weight=inter_aisle_dist)\n",
    "    G.add_edge(last_aisle_end, aisle_end, weight=inter_aisle_dist)\n",
    "    last_aisle_start = aisle_start\n",
    "    last_aisle_end = aisle_end\n",
    "\n"
   ],
   "outputs": [],
   "execution_count": 9
  },
  {
   "metadata": {
    "ExecuteTime": {
     "end_time": "2024-07-15T22:17:27.962788Z",
     "start_time": "2024-07-15T22:17:27.960108Z"
    }
   },
   "cell_type": "code",
   "source": "pos_dict = gen_pos(G)",
   "outputs": [],
   "execution_count": 10
  },
  {
   "metadata": {
    "ExecuteTime": {
     "end_time": "2024-07-15T22:17:28.661622Z",
     "start_time": "2024-07-15T22:17:28.485538Z"
    }
   },
   "cell_type": "code",
   "source": "viz_graph(G, pos_dict)",
   "outputs": [
    {
     "data": {
      "text/plain": [
       "<Figure size 640x480 with 1 Axes>"
      ],
      "image/png": "[encoded data removed]"
     },
     "metadata": {},
     "output_type": "display_data"
    }
   ],
   "execution_count": 11
  },
  {
   "metadata": {
    "ExecuteTime": {
     "end_time": "2024-07-15T22:17:29.116931Z",
     "start_time": "2024-07-15T22:17:29.111714Z"
    }
   },
   "cell_type": "code",
   "source": "layout_info",
   "outputs": [
    {
     "data": {
      "text/plain": [
       "{'NAME': 'Pr_20_1_20_Store1_01.txt',\n",
       " 'TYPE': 'Order_batching',\n",
       " 'COMMENT': 'Bahï¿½eci and ï¿½ncan (2021)',\n",
       " 'PICKER_CAPACITY': '20',\n",
       " 'LAYOUT': 'single-block',\n",
       " 'NUM_AISLES': '10',\n",
       " 'NUM_CELLS': '10',\n",
       " 'DEPOT_AISLE': '0',\n",
       " 'DEPOT_LOCATION': 'bottom',\n",
       " 'DISTANCE_AISLE_TO_AISLE': '2.4',\n",
       " 'DISTANCE_CELL_TO_CELL': '1',\n",
       " 'DISTANCE_TOP_TO_CELL': '1',\n",
       " 'DISTANCE_BOTTOM_TO_CELL': '1',\n",
       " 'DISTANCE_TOP_OR_BOTTOM_TO_DEPOT': '0'}"
      ]
     },
     "execution_count": 12,
     "metadata": {},
     "output_type": "execute_result"
    }
   ],
   "execution_count": 12
  },
  {
   "metadata": {
    "ExecuteTime": {
     "end_time": "2024-07-15T22:17:29.958840Z",
     "start_time": "2024-07-15T22:17:29.954233Z"
    }
   },
   "cell_type": "code",
   "source": "len(instance.orders)",
   "outputs": [
    {
     "data": {
      "text/plain": [
       "8"
      ]
     },
     "execution_count": 13,
     "metadata": {},
     "output_type": "execute_result"
    }
   ],
   "execution_count": 13
  },
  {
   "metadata": {
    "ExecuteTime": {
     "end_time": "2024-07-15T22:17:31.793994Z",
     "start_time": "2024-07-15T22:17:30.442722Z"
    }
   },
   "cell_type": "code",
   "source": [
    "import pyomo.environ as pyo\n",
    "\n",
    "# Create a model\n",
    "model = pyo.ConcreteModel()\n",
    "n_orders = len(instance.orders)\n",
    "max_batches = 11\n",
    "# Define the set of values\n",
    "model.orders = pyo.RangeSet(1, n_orders)\n",
    "model.batches = pyo.RangeSet(1, max_batches)\n",
    "model.tours = pyo.RangeSet(1, max_batches)\n",
    "  \n",
    "# Parameter a, read from the file 'a.txt'\n",
    "# Assuming 'a.txt' contains one value per line for a[1] to a[11]\n",
    "with open('a.txt') as f:\n",
    "    a_values = [float(line.strip()) for line in f]\n",
    "\n",
    "# Capacities, assuming each batch has the same capacity of 10\n",
    "capacities = [10 for _ in range(max_batches)] \n",
    "\n",
    "# Initialize parameter a\n",
    "model.order_weight = pyo.Param(model.orders, initialize=dict(enumerate(a_values, start=1)))\n",
    "model.capacities = pyo.Param(model.batches, initialize=dict(enumerate(capacities, start=1)))\n",
    "\n",
    "# Binary variable x -> order i in batch j?\n",
    "model.x = pyo.Var(model.orders, model.batches, domain=pyo.Binary)\n",
    "\n",
    "# Binary variable y -> batch j used?\n",
    "model.y = pyo.Var(model.batches, domain=pyo.Binary) \n",
    "\n",
    "# Binary variable y -> tour k used?\n",
    "#model.z = pyo.Var(model.tours, domain=pyo.Binary)\n",
    "\n",
    "# Binary variable tour -> order i in tour k?\n",
    "#model.tour = pyo.Var(model.orders, model.tours, domain=pyo.Binary)\n",
    "\n",
    "# Objective: Minimize the number of batches used\n",
    "def objective(model):\n",
    "    return pyo.summation(model.y) \n",
    "\n",
    "model.objective = pyo.Objective(rule=objective, sense=pyo.minimize)\n",
    "\n",
    "# Constraint: Each order assigned to exactly one batch\n",
    "def constraint_one_batch_max(model, order):\n",
    "    return sum(model.x[order, batch] for batch in model.batches) == 1\n",
    "\n",
    "model.constraint_one_batch_max = pyo.Constraint(model.orders, rule=constraint_one_batch_max)\n",
    "\n",
    "# Constraint: Batch capacity not exceeded\n",
    "def constraint_capacity(model, batch):\n",
    "    return sum(model.x[order, batch] * model.order_weight[order] for order in model.orders) <= model.capacities[batch] * model.y[batch]\n",
    "\n",
    "model.constraint_capacity = pyo.Constraint(model.batches, rule=constraint_capacity)\n",
    "\n",
    "# Constraint: Orders assigned to one tour\n",
    "# def constraint_one_tour_max(model, order):\n",
    "#     return sum(model.tour[order, tour] for tour in model.batches) == 1\n",
    "\n",
    "# model.constraint_one_tour_max = pyo.Constraint(model.orders, rule=constraint_one_tour_max)"
   ],
   "outputs": [
    {
     "ename": "FileNotFoundError",
     "evalue": "[Errno 2] No such file or directory: 'a.txt'",
     "output_type": "error",
     "traceback": [
      "\u001B[1;31m---------------------------------------------------------------------------\u001B[0m",
      "\u001B[1;31mFileNotFoundError\u001B[0m                         Traceback (most recent call last)",
      "Cell \u001B[1;32mIn[14], line 14\u001B[0m\n\u001B[0;32m     10\u001B[0m model\u001B[38;5;241m.\u001B[39mtours \u001B[38;5;241m=\u001B[39m pyo\u001B[38;5;241m.\u001B[39mRangeSet(\u001B[38;5;241m1\u001B[39m, max_batches)\n\u001B[0;32m     12\u001B[0m \u001B[38;5;66;03m# Parameter a, read from the file 'a.txt'\u001B[39;00m\n\u001B[0;32m     13\u001B[0m \u001B[38;5;66;03m# Assuming 'a.txt' contains one value per line for a[1] to a[11]\u001B[39;00m\n\u001B[1;32m---> 14\u001B[0m \u001B[38;5;28;01mwith\u001B[39;00m \u001B[38;5;28;43mopen\u001B[39;49m\u001B[43m(\u001B[49m\u001B[38;5;124;43m'\u001B[39;49m\u001B[38;5;124;43ma.txt\u001B[39;49m\u001B[38;5;124;43m'\u001B[39;49m\u001B[43m)\u001B[49m \u001B[38;5;28;01mas\u001B[39;00m f:\n\u001B[0;32m     15\u001B[0m     a_values \u001B[38;5;241m=\u001B[39m [\u001B[38;5;28mfloat\u001B[39m(line\u001B[38;5;241m.\u001B[39mstrip()) \u001B[38;5;28;01mfor\u001B[39;00m line \u001B[38;5;129;01min\u001B[39;00m f]\n\u001B[0;32m     17\u001B[0m \u001B[38;5;66;03m# Capacities, assuming each batch has the same capacity of 10\u001B[39;00m\n",
      "File \u001B[1;32m~\\Documents\\Projekte\\beware\\venv\\Lib\\site-packages\\IPython\\core\\interactiveshell.py:286\u001B[0m, in \u001B[0;36m_modified_open\u001B[1;34m(file, *args, **kwargs)\u001B[0m\n\u001B[0;32m    279\u001B[0m \u001B[38;5;28;01mif\u001B[39;00m file \u001B[38;5;129;01min\u001B[39;00m {\u001B[38;5;241m0\u001B[39m, \u001B[38;5;241m1\u001B[39m, \u001B[38;5;241m2\u001B[39m}:\n\u001B[0;32m    280\u001B[0m     \u001B[38;5;28;01mraise\u001B[39;00m \u001B[38;5;167;01mValueError\u001B[39;00m(\n\u001B[0;32m    281\u001B[0m         \u001B[38;5;124mf\u001B[39m\u001B[38;5;124m\"\u001B[39m\u001B[38;5;124mIPython won\u001B[39m\u001B[38;5;124m'\u001B[39m\u001B[38;5;124mt let you open fd=\u001B[39m\u001B[38;5;132;01m{\u001B[39;00mfile\u001B[38;5;132;01m}\u001B[39;00m\u001B[38;5;124m by default \u001B[39m\u001B[38;5;124m\"\u001B[39m\n\u001B[0;32m    282\u001B[0m         \u001B[38;5;124m\"\u001B[39m\u001B[38;5;124mas it is likely to crash IPython. If you know what you are doing, \u001B[39m\u001B[38;5;124m\"\u001B[39m\n\u001B[0;32m    283\u001B[0m         \u001B[38;5;124m\"\u001B[39m\u001B[38;5;124myou can use builtins\u001B[39m\u001B[38;5;124m'\u001B[39m\u001B[38;5;124m open.\u001B[39m\u001B[38;5;124m\"\u001B[39m\n\u001B[0;32m    284\u001B[0m     )\n\u001B[1;32m--> 286\u001B[0m \u001B[38;5;28;01mreturn\u001B[39;00m \u001B[43mio_open\u001B[49m\u001B[43m(\u001B[49m\u001B[43mfile\u001B[49m\u001B[43m,\u001B[49m\u001B[43m \u001B[49m\u001B[38;5;241;43m*\u001B[39;49m\u001B[43margs\u001B[49m\u001B[43m,\u001B[49m\u001B[43m \u001B[49m\u001B[38;5;241;43m*\u001B[39;49m\u001B[38;5;241;43m*\u001B[39;49m\u001B[43mkwargs\u001B[49m\u001B[43m)\u001B[49m\n",
      "\u001B[1;31mFileNotFoundError\u001B[0m: [Errno 2] No such file or directory: 'a.txt'"
     ]
    }
   ],
   "execution_count": 14
  },
  {
   "cell_type": "code",
   "metadata": {},
   "source": [
    "layout_info = instance.general_info\n",
    "aisles = int(layout_info[\"NUM_AISLES\"])\n",
    "locations = int(layout_info[\"NUM_CELLS\"])\n",
    "inter_cell_dist = float(layout_info[\"DISTANCE_CELL_TO_CELL\"])\n",
    "inter_aisle_dist = float(layout_info[\"DISTANCE_AISLE_TO_AISLE\"])\n",
    "G = nx.Graph()\n",
    "depot=(int(layout_info[\"DEPOT_AISLE\"]),0,0)\n",
    "G.add_node(depot) #depot\n",
    "    \n",
    "start = 1\n",
    "last_aisle_start = (start,1,0)\n",
    "last_aisle_end = (start,2+locations,0)\n",
    "G.add_edge(depot, (7, 1, 0), weight=1.5)\n",
    "for a in range(aisles):\n",
    "    aisle_start = (start, 1, 0)\n",
    "    aisle_end = (start, 2+locations, 0)\n",
    "    G.add_node(aisle_start)\n",
    "    G.add_node(aisle_end)\n",
    "    # if a > 0:\n",
    "    last_mid = aisle_start\n",
    "    for l in range(locations):\n",
    "        location_left = (start-1, l+2, 0)\n",
    "        location_right = (start+1, l+2, 0)\n",
    "        location_mid = (start, l+2, 0)\n",
    "\n",
    "        G.add_node(location_left)\n",
    "        G.add_node(location_right)\n",
    "        G.add_node(location_mid)\n",
    "\n",
    "        G.add_edge(location_left, location_mid, weight=1)\n",
    "        G.add_edge(location_right, location_mid, weight=1)\n",
    "\n",
    "        G.add_edge(last_mid, location_mid, weight=inter_cell_dist)\n",
    "        last_mid = location_mid\n",
    "\n",
    "    G.add_edge(last_mid, aisle_end, weight=1)\n",
    "\n",
    "    G.add_edge(last_aisle_start, aisle_start, weight=inter_aisle_dist)\n",
    "    G.add_edge(last_aisle_end, aisle_end, weight=inter_aisle_dist)\n",
    "    last_aisle_start = aisle_start\n",
    "    last_aisle_end = aisle_end\n",
    "    start += 3"
   ],
   "outputs": [],
   "execution_count": null
  },
  {
   "cell_type": "code",
   "metadata": {},
   "source": [
    "pos_dict = gen_pos(G)"
   ],
   "outputs": [],
   "execution_count": null
  },
  {
   "cell_type": "code",
   "metadata": {
    "ExecuteTime": {
     "end_time": "2024-07-15T22:17:32.520828Z",
     "start_time": "2024-07-15T22:17:32.377640Z"
    }
   },
   "source": [
    "viz_graph(G, pos_dict)"
   ],
   "outputs": [
    {
     "data": {
      "text/plain": [
       "<Figure size 640x480 with 1 Axes>"
      ],
      "image/png": "[encoded data removed]"
     },
     "metadata": {},
     "output_type": "display_data"
    }
   ],
   "execution_count": 15
  },
  {
   "cell_type": "code",
   "metadata": {
    "ExecuteTime": {
     "end_time": "2024-07-15T22:17:32.995612Z",
     "start_time": "2024-07-15T22:17:32.988739Z"
    }
   },
   "source": [
    "import pyomo.environ as pyo "
   ],
   "outputs": [],
   "execution_count": 16
  },
  {
   "cell_type": "code",
   "metadata": {
    "ExecuteTime": {
     "end_time": "2024-07-15T22:17:33.700252Z",
     "start_time": "2024-07-15T22:17:33.692263Z"
    }
   },
   "source": [
    "aisles"
   ],
   "outputs": [
    {
     "data": {
      "text/plain": [
       "4"
      ]
     },
     "execution_count": 17,
     "metadata": {},
     "output_type": "execute_result"
    }
   ],
   "execution_count": 17
  },
  {
   "metadata": {
    "ExecuteTime": {
     "end_time": "2024-07-16T06:44:24.641921Z",
     "start_time": "2024-07-16T06:44:24.636456Z"
    }
   },
   "cell_type": "code",
   "source": "instance.skus",
   "outputs": [
    {
     "data": {
      "text/plain": [
       "{6: {'aisle': 0, 'cell': 5, 'quantity': 1, 'side': 'left'},\n",
       " 15: {'aisle': 0, 'cell': 3, 'quantity': 1, 'side': 'left'},\n",
       " 7: {'aisle': 0, 'cell': 2, 'quantity': 1, 'side': 'left'},\n",
       " 0: {'aisle': 0, 'cell': 1, 'quantity': 1, 'side': 'left'},\n",
       " 14: {'aisle': 2, 'cell': 9, 'quantity': 1, 'side': 'left'},\n",
       " 1: {'aisle': 2, 'cell': 8, 'quantity': 1, 'side': 'left'},\n",
       " 13: {'aisle': 2, 'cell': 5, 'quantity': 1, 'side': 'left'},\n",
       " 10: {'aisle': 3, 'cell': 8, 'quantity': 1, 'side': 'left'},\n",
       " 3: {'aisle': 3, 'cell': 4, 'quantity': 1, 'side': 'left'},\n",
       " 16: {'aisle': 4, 'cell': 8, 'quantity': 1, 'side': 'left'},\n",
       " 4: {'aisle': 4, 'cell': 6, 'quantity': 1, 'side': 'left'},\n",
       " 12: {'aisle': 4, 'cell': 0, 'quantity': 1, 'side': 'left'},\n",
       " 17: {'aisle': 5, 'cell': 8, 'quantity': 2, 'side': 'left'},\n",
       " 8: {'aisle': 5, 'cell': 3, 'quantity': 1, 'side': 'left'},\n",
       " 2: {'aisle': 6, 'cell': 4, 'quantity': 1, 'side': 'left'},\n",
       " 5: {'aisle': 8, 'cell': 4, 'quantity': 1, 'side': 'left'},\n",
       " 11: {'aisle': 9, 'cell': 4, 'quantity': 2, 'side': 'left'},\n",
       " 9: {'aisle': 9, 'cell': 0, 'quantity': 1, 'side': 'left'}}"
      ]
     },
     "execution_count": 22,
     "metadata": {},
     "output_type": "execute_result"
    }
   ],
   "execution_count": 22
  },
  {
   "metadata": {},
   "cell_type": "code",
   "outputs": [],
   "execution_count": null,
   "source": ""
  },
  {
   "metadata": {
    "ExecuteTime": {
     "end_time": "2024-07-16T07:17:46.116312Z",
     "start_time": "2024-07-16T07:17:46.111662Z"
    }
   },
   "cell_type": "code",
   "source": [
    "dik = {}\n",
    "for order_idx, order in enumerate(instance.orders):\n",
    "    dik[order_idx] = []\n",
    "    for line in order:\n",
    "        item = line[0]\n",
    "        quantity = line[1]\n",
    "        aisle = instance.skus[item][\"aisle\"]\n",
    "        cell = instance.skus[item][\"cell\"]\n",
    "        side = instance.skus[item][\"side\"]\n",
    "        dik[order_idx].append((aisle, cell))\n",
    "        \n",
    "    "
   ],
   "outputs": [],
   "execution_count": 58
  },
  {
   "metadata": {
    "ExecuteTime": {
     "end_time": "2024-07-16T07:17:46.467691Z",
     "start_time": "2024-07-16T07:17:46.463653Z"
    }
   },
   "cell_type": "code",
   "source": "instance.general_info",
   "outputs": [
    {
     "data": {
      "text/plain": [
       "{'NAME': 'Pr_20_1_20_Store1_01.txt',\n",
       " 'TYPE': 'Order_batching',\n",
       " 'COMMENT': 'Bahï¿½eci and ï¿½ncan (2021)',\n",
       " 'PICKER_CAPACITY': '20',\n",
       " 'LAYOUT': 'single-block',\n",
       " 'NUM_AISLES': '10',\n",
       " 'NUM_CELLS': '10',\n",
       " 'DEPOT_AISLE': '0',\n",
       " 'DEPOT_LOCATION': 'bottom',\n",
       " 'DISTANCE_AISLE_TO_AISLE': '2.4',\n",
       " 'DISTANCE_CELL_TO_CELL': '1',\n",
       " 'DISTANCE_TOP_TO_CELL': '1',\n",
       " 'DISTANCE_BOTTOM_TO_CELL': '1',\n",
       " 'DISTANCE_TOP_OR_BOTTOM_TO_DEPOT': '0'}"
      ]
     },
     "execution_count": 59,
     "metadata": {},
     "output_type": "execute_result"
    }
   ],
   "execution_count": 59
  },
  {
   "metadata": {
    "ExecuteTime": {
     "end_time": "2024-07-16T07:17:46.998993Z",
     "start_time": "2024-07-16T07:17:46.995102Z"
    }
   },
   "cell_type": "code",
   "source": [
    "dik = {}\n",
    "for order in range(len(instance.orders)):\n",
    "    for aisle in range(int(instance.general_info[\"NUM_AISLES\"])):\n",
    "        dik[(order+1, aisle)] = 0"
   ],
   "outputs": [],
   "execution_count": 60
  },
  {
   "metadata": {
    "ExecuteTime": {
     "end_time": "2024-07-16T07:20:33.020552Z",
     "start_time": "2024-07-16T07:20:33.015830Z"
    }
   },
   "cell_type": "code",
   "source": [
    "max_aisle_dist = {}\n",
    "order_weights = {}\n",
    "for order_idx, order in enumerate(instance.orders):\n",
    "    max_aisle_dist[order_idx+1] = {}\n",
    "    order_weights[order_idx+1] = []\n",
    "    for line in order:\n",
    "        item = line[0]\n",
    "        quantity = line[1]\n",
    "        aisle = instance.skus[item][\"aisle\"]\n",
    "        cell = instance.skus[item][\"cell\"]\n",
    "        side = instance.skus[item][\"side\"]\n",
    "        if aisle not in max_aisle_dist[order_idx+1].keys():\n",
    "            max_aisle_dist[order_idx+1][aisle] = []\n",
    "        max_aisle_dist[order_idx+1][aisle].append(cell)\n",
    "        order_weights[order_idx+1].append(instance.articles[item][\"weight\"])"
   ],
   "outputs": [],
   "execution_count": 66
  },
  {
   "metadata": {
    "ExecuteTime": {
     "end_time": "2024-07-16T07:20:42.630677Z",
     "start_time": "2024-07-16T07:20:42.626181Z"
    }
   },
   "cell_type": "code",
   "source": "order_weights",
   "outputs": [
    {
     "data": {
      "text/plain": [
       "{1: [1, 1],\n",
       " 2: [1, 1, 1],\n",
       " 3: [1, 1],\n",
       " 4: [1, 1, 1],\n",
       " 5: [1, 1],\n",
       " 6: [1, 1, 1],\n",
       " 7: [1, 1],\n",
       " 8: [1, 1]}"
      ]
     },
     "execution_count": 67,
     "metadata": {},
     "output_type": "execute_result"
    }
   ],
   "execution_count": 67
  },
  {
   "metadata": {
    "ExecuteTime": {
     "end_time": "2024-07-16T07:17:50.524776Z",
     "start_time": "2024-07-16T07:17:50.521102Z"
    }
   },
   "cell_type": "code",
   "source": [
    "for order in max_aisle_dist.keys():\n",
    "    for aisle in max_aisle_dist[order].keys():\n",
    "        max_dist = max(max_aisle_dist[order][aisle])\n",
    "        dik[(order, aisle)] = max_dist"
   ],
   "outputs": [],
   "execution_count": 63
  },
  {
   "metadata": {
    "ExecuteTime": {
     "end_time": "2024-07-16T07:21:34.412847Z",
     "start_time": "2024-07-16T07:21:34.408985Z"
    }
   },
   "cell_type": "code",
   "source": "",
   "outputs": [],
   "execution_count": 68
  },
  {
   "metadata": {
    "ExecuteTime": {
     "end_time": "2024-07-16T07:17:51.710586Z",
     "start_time": "2024-07-16T07:17:51.705778Z"
    }
   },
   "cell_type": "code",
   "source": "instance.general_info",
   "outputs": [
    {
     "data": {
      "text/plain": [
       "{'NAME': 'Pr_20_1_20_Store1_01.txt',\n",
       " 'TYPE': 'Order_batching',\n",
       " 'COMMENT': 'Bahï¿½eci and ï¿½ncan (2021)',\n",
       " 'PICKER_CAPACITY': '20',\n",
       " 'LAYOUT': 'single-block',\n",
       " 'NUM_AISLES': '10',\n",
       " 'NUM_CELLS': '10',\n",
       " 'DEPOT_AISLE': '0',\n",
       " 'DEPOT_LOCATION': 'bottom',\n",
       " 'DISTANCE_AISLE_TO_AISLE': '2.4',\n",
       " 'DISTANCE_CELL_TO_CELL': '1',\n",
       " 'DISTANCE_TOP_TO_CELL': '1',\n",
       " 'DISTANCE_BOTTOM_TO_CELL': '1',\n",
       " 'DISTANCE_TOP_OR_BOTTOM_TO_DEPOT': '0'}"
      ]
     },
     "execution_count": 64,
     "metadata": {},
     "output_type": "execute_result"
    }
   ],
   "execution_count": 64
  },
  {
   "cell_type": "code",
   "metadata": {
    "ExecuteTime": {
     "end_time": "2024-07-16T08:28:20.921060Z",
     "start_time": "2024-07-16T08:28:20.434187Z"
    }
   },
   "source": [
    "n_orders = len(instance.orders)\n",
    "n_batches = 5\n",
    "capacity = int(instance.general_info[\"PICKER_CAPACITY\"])\n",
    "aisles = int(instance.general_info[\"NUM_AISLES\"])\n",
    "inter_aisle_dist = float(instance.general_info[\"DISTANCE_AISLE_TO_AISLE\"])\n",
    "aisle_length = (int(instance.general_info[\"NUM_CELLS\"]) * \n",
    "                int(instance.general_info[\"DISTANCE_CELL_TO_CELL\"]))\n",
    "\n",
    "model = pyo.ConcreteModel(\"BATCHING_TRAVERSAL\")\n",
    "model.Aisles = pyo.RangeSet(0, aisles-1) \n",
    "model.Orders = pyo.RangeSet(1, n_orders)\n",
    "model.Batches = pyo.RangeSet(1, n_batches)\n",
    "\n",
    "weights = []\n",
    "for order in order_weights.keys():\n",
    "    weights.append(sum(order_weights[order]))\n",
    "items_per_order = []\n",
    "for order in order_weights.keys():\n",
    "    items_per_order.append(len(order_weights[order]))\n",
    "model.mi = pyo.Param(model.Orders, initialize=dict(enumerate(items_per_order, start=1)))\n",
    "model.dik = pyo.Param(model.Orders, model.Aisles, initialize=dik)\n",
    "model.M = pyo.Param(within=pyo.NonNegativeReals, initialize=1000)\n",
    "model.vj = pyo.Var(model.Batches, domain=pyo.Integers)\n",
    "\n",
    "model.yjk = pyo.Var(model.Batches, model.Aisles, domain=pyo.Binary)\n",
    "model.pjk = pyo.Var(model.Batches, model.Aisles, domain=pyo.Binary)\n",
    "\n",
    "model.cj = pyo.Var(model.Batches, domain=pyo.Binary)\n",
    "\n",
    "model.xij = pyo.Var(model.Orders, model.Batches, domain=pyo.Binary)\n",
    "model.hjR = pyo.Var(model.Batches, domain=pyo.PositiveReals)\n",
    "model.hjL = pyo.Var(model.Batches, domain=pyo.PositiveReals)\n",
    "model.ujk = pyo.Var(model.Batches, model.Aisles, domain=pyo.PositiveReals)\n",
    "\n",
    "M = 1000\n",
    "\n",
    "def objective(model):\n",
    "    return 2 * pyo.quicksum(\n",
    "        model.ujk[j,k] for j in model.Batches for k in model.Aisles\n",
    ") \n",
    "+ 2 * pyo.quicksum(\n",
    "    model.hjR[j] * model.hjL[j] for j in model.Batches\n",
    ")\n",
    "+ 2 * aisle_length * pyo.quicksum(\n",
    "    model.vj[j] - model.cj[j] for j in model.Batches\n",
    ")\n",
    "\n",
    "model.obj = pyo.Objective(rule=objective, sense=pyo.minimize)\n",
    "\n",
    "def constraint_batch_assignment(model, i_order):\n",
    "    return pyo.quicksum(model.xij[i_order,j] for j in model.Batches) == 1\n",
    "model.constraint_batch_assignment = pyo.Constraint(model.Orders, rule=constraint_batch_assignment)\n",
    "\n",
    "def constraint_batch_capacity(model, i_order):\n",
    "    return pyo.quicksum(model.mi[i_order]*model.xij[i_order,j] for j in model.Batches) <= capacity\n",
    "model.constraint_batch_capacity = pyo.Constraint(model.Orders, rule=constraint_batch_capacity)\n",
    "\n",
    "def constraint_batch_guarantee(model, i_order, j):\n",
    "    return model.xij[i_order,j] <= model.xij[j,j] \n",
    "model.constraint_batch_guarantee = pyo.Constraint(model.Orders, model.Batches, rule=constraint_batch_guarantee)\n",
    "\n",
    "def constraint_1_1(model, j, k, i): \n",
    "    return model.yjk[j,k] <= pyo.quicksum(\n",
    "        model.dik[i,k] * model.xij[i,j] \n",
    "        for j in model.Batches \n",
    "        for k in model.Aisles)\n",
    "model.constraint_1_1 = pyo.Constraint(model.Batches, model.Aisles, model.Orders, rule=constraint_1_1)\n",
    "\n",
    "def constraint_1_2(model, j, k, i): \n",
    "    return pyo.quicksum(\n",
    "        model.dik[i,k] * model.xij[i,j] \n",
    "        for j in model.Batches \n",
    "        for k in model.Aisles) <= M*model.yjk[j,k]\n",
    "model.constraint_1_2 = pyo.Constraint(model.Batches, model.Aisles, model.Orders, rule=constraint_1_2)\n",
    "\n",
    "def constraint_2(model, k, j):\n",
    "    return ((k+1)-k) * inter_aisle_dist * model.yjk[j,k] <= model.hjR[j]\n",
    "model.constraint_2 = pyo.Constraint(model.Aisles, model.Batches, rule=constraint_2)\n",
    "\n",
    "def constraint_3(model, k, j):\n",
    "    return ((k+1)-k) * inter_aisle_dist * model.yjk[j,k] <= model.hjL[j]\n",
    "model.constraint_3 = pyo.Constraint(model.Aisles, model.Batches, rule=constraint_3)\n",
    "\n",
    "def constraint_4(model, j):\n",
    "    return pyo.quicksum(model.yjk[j,k] + model.cj[j] for k in model.Aisles) == 2 * model.vj[j] \n",
    "model.constraint_4 = pyo.Constraint(model.Batches, rule=constraint_4)\n",
    "\n",
    "def constraint_5(model, j, k, i):\n",
    "    return pyo.quicksum(\n",
    "        model.dik[i,k] * model.xij[i,j] \n",
    "        for j in model.Batches \n",
    "        for k in model.Aisles) <= model.M*model.yjk[j,k]\n",
    "model.constraint_5 = pyo.Constraint(model.Batches, model.Aisles, model.Orders, rule=constraint_5)\n",
    "\n",
    "# def constraint_6(model):\n",
    "#     return model.yjk[j,k] - pyo.quicksum()\n",
    "# model.constraint_6 = pyo.Constraint(rule=constraint_6)"
   ],
   "outputs": [],
   "execution_count": 116
  },
  {
   "cell_type": "code",
   "metadata": {
    "ExecuteTime": {
     "end_time": "2024-07-16T08:28:21.618185Z",
     "start_time": "2024-07-16T08:28:21.487908Z"
    }
   },
   "source": [
    "solver = pyo.SolverFactory('appsi_highs')\n",
    "result = solver.solve(model)"
   ],
   "outputs": [],
   "execution_count": 117
  },
  {
   "metadata": {
    "ExecuteTime": {
     "end_time": "2024-07-16T09:24:23.661056Z",
     "start_time": "2024-07-16T09:24:23.629815Z"
    }
   },
   "cell_type": "code",
   "source": "model.write(\"model\", format=\"lp\")",
   "outputs": [
    {
     "data": {
      "text/plain": [
       "('model', 1810110361360)"
      ]
     },
     "execution_count": 122,
     "metadata": {},
     "output_type": "execute_result"
    }
   ],
   "execution_count": 122
  },
  {
   "metadata": {
    "ExecuteTime": {
     "end_time": "2024-07-16T08:28:22.363145Z",
     "start_time": "2024-07-16T08:28:22.358937Z"
    }
   },
   "cell_type": "code",
   "source": "model.xij[1,1].value",
   "outputs": [
    {
     "data": {
      "text/plain": [
       "1.0"
      ]
     },
     "execution_count": 118,
     "metadata": {},
     "output_type": "execute_result"
    }
   ],
   "execution_count": 118
  },
  {
   "metadata": {
    "ExecuteTime": {
     "end_time": "2024-07-16T08:28:23.148777Z",
     "start_time": "2024-07-16T08:28:23.144522Z"
    }
   },
   "cell_type": "code",
   "source": [
    "# Check if the solver found an optimal solution\n",
    "if (result.solver.status == pyo.SolverStatus.ok) and (result.solver.termination_condition == pyo.TerminationCondition.optimal):\n",
    "    # Function to display which order is assigned to which batch\n",
    "    assignments = {}\n",
    "    for order in model.Orders:\n",
    "        for batch in model.Batches:\n",
    "            if pyo.value(model.xij[order, batch]) == 1:\n",
    "                if batch not in assignments:\n",
    "                    assignments[batch] = []\n",
    "                assignments[batch].append(order)\n",
    "                break\n",
    "else:\n",
    "    print(\"No optimal solution found.\")"
   ],
   "outputs": [],
   "execution_count": 119
  },
  {
   "metadata": {
    "ExecuteTime": {
     "end_time": "2024-07-16T08:28:24.030010Z",
     "start_time": "2024-07-16T08:28:24.026271Z"
    }
   },
   "cell_type": "code",
   "source": "assignments",
   "outputs": [
    {
     "data": {
      "text/plain": [
       "{1: [1, 6, 7, 8], 2: [2], 3: [3], 4: [4], 5: [5]}"
      ]
     },
     "execution_count": 120,
     "metadata": {},
     "output_type": "execute_result"
    }
   ],
   "execution_count": 120
  },
  {
   "cell_type": "code",
   "execution_count": 14,
   "metadata": {},
   "outputs": [
    {
     "data": {
      "text/plain": [
       "45"
      ]
     },
     "execution_count": 14,
     "metadata": {},
     "output_type": "execute_result"
    }
   ],
   "source": [
    "warehouse.nodes_list.index((3,3,0))"
   ]
  },
  {
   "cell_type": "code",
   "execution_count": 15,
   "metadata": {},
   "outputs": [],
   "source": [
    "assignment = [18,30, 42, 21, 33, 45]"
   ]
  },
  {
   "cell_type": "code",
   "execution_count": 16,
   "metadata": {},
   "outputs": [],
   "source": [
    "warehouse.add_assignment(assignment)"
   ]
  },
  {
   "cell_type": "code",
   "execution_count": 17,
   "metadata": {},
   "outputs": [],
   "source": [
    "orders = [[0, 1, 2, 3, 4, 5]]"
   ]
  },
  {
   "cell_type": "code",
   "execution_count": 18,
   "metadata": {},
   "outputs": [],
   "source": [
    "product_freq = calc_product_freq([0, 1, 2, 3, 4, 5], orders)"
   ]
  },
  {
   "cell_type": "code",
   "execution_count": 19,
   "metadata": {},
   "outputs": [],
   "source": [
    "fig = render_warehouse(warehouse, warehouse.storage_assignment, product_freq)"
   ]
  },
  {
   "cell_type": "code",
   "execution_count": 20,
   "metadata": {},
   "outputs": [
    {
     "data": {
      "application/vnd.plotly.v1+json": {
       "config": {
        "plotlyServerURL": "https://plot.ly"
       },
       "data": [
        {
         "customdata": [
          [
           0,
           -100
          ],
          [
           0,
           -100
          ],
          [
           0,
           -100
          ],
          [
           0,
           -100
          ],
          [
           0,
           -100
          ],
          [
           0,
           -100
          ],
          [
           0,
           -100
          ],
          [
           0,
           -100
          ],
          [
           0,
           -100
          ],
          [
           0,
           -100
          ],
          [
           0,
           -100
          ],
          [
           0,
           -100
          ],
          [
           1,
           0
          ],
          [
           0,
           -100
          ],
          [
           -1,
           -1
          ],
          [
           1,
           3
          ],
          [
           0,
           -100
          ],
          [
           -1,
           -1
          ],
          [
           -1,
           -1
          ],
          [
           0,
           -100
          ],
          [
           -1,
           -1
          ],
          [
           -1,
           -1
          ],
          [
           0,
           -100
          ],
          [
           -1,
           -1
          ],
          [
           1,
           1
          ],
          [
           0,
           -100
          ],
          [
           -1,
           -1
          ],
          [
           1,
           4
          ],
          [
           0,
           -100
          ],
          [
           -1,
           -1
          ],
          [
           -1,
           -1
          ],
          [
           0,
           -100
          ],
          [
           -1,
           -1
          ],
          [
           -1,
           -1
          ],
          [
           0,
           -100
          ],
          [
           -1,
           -1
          ],
          [
           1,
           2
          ],
          [
           0,
           -100
          ],
          [
           -1,
           -1
          ],
          [
           1,
           5
          ],
          [
           0,
           -100
          ],
          [
           -1,
           -1
          ],
          [
           -1,
           -1
          ],
          [
           0,
           -100
          ],
          [
           -1,
           -1
          ],
          [
           -1,
           -1
          ],
          [
           0,
           -100
          ],
          [
           -1,
           -1
          ],
          [
           -1,
           -1
          ],
          [
           0,
           -100
          ],
          [
           -1,
           -1
          ],
          [
           -1,
           -1
          ],
          [
           0,
           -100
          ],
          [
           -1,
           -1
          ],
          [
           -1,
           -1
          ],
          [
           0,
           -100
          ],
          [
           -1,
           -1
          ],
          [
           -1,
           -1
          ],
          [
           0,
           -100
          ],
          [
           -1,
           -1
          ],
          [
           -1,
           -1
          ],
          [
           0,
           -100
          ],
          [
           -1,
           -1
          ],
          [
           -1,
           -1
          ],
          [
           0,
           -100
          ],
          [
           -1,
           -1
          ],
          [
           -1,
           -1
          ],
          [
           0,
           -100
          ],
          [
           -1,
           -1
          ],
          [
           -1,
           -1
          ],
          [
           0,
           -100
          ],
          [
           -1,
           -1
          ],
          [
           0,
           -100
          ],
          [
           0,
           -100
          ],
          [
           0,
           -100
          ],
          [
           0,
           -100
          ],
          [
           0,
           -100
          ],
          [
           0,
           -100
          ],
          [
           0,
           -100
          ],
          [
           0,
           -100
          ],
          [
           0,
           -100
          ],
          [
           0,
           -100
          ],
          [
           0,
           -100
          ],
          [
           0,
           -100
          ]
         ],
         "hovertemplate": "x: %{x}<br>y: %{y}<br>z: %{z}<br>Order Frequency: %{customdata[0]}<br>Product: %{customdata[1]}}",
         "marker": {
          "color": [
           0,
           0,
           0,
           0,
           0,
           0,
           0,
           0,
           0,
           0,
           0,
           0,
           1,
           0,
           -1,
           1,
           0,
           -1,
           -1,
           0,
           -1,
           -1,
           0,
           -1,
           1,
           0,
           -1,
           1,
           0,
           -1,
           -1,
           0,
           -1,
           -1,
           0,
           -1,
           1,
           0,
           -1,
           1,
           0,
           -1,
           -1,
           0,
           -1,
           -1,
           0,
           -1,
           -1,
           0,
           -1,
           -1,
           0,
           -1,
           -1,
           0,
           -1,
           -1,
           0,
           -1,
           -1,
           0,
           -1,
           -1,
           0,
           -1,
           -1,
           0,
           -1,
           -1,
           0,
           -1,
           0,
           0,
           0,
           0,
           0,
           0,
           0,
           0,
           0,
           0,
           0,
           0
          ],
          "colorscale": [
           [
            0,
            "rgb(3, 35, 51)"
           ],
           [
            0.09090909090909091,
            "rgb(13, 48, 100)"
           ],
           [
            0.18181818181818182,
            "rgb(53, 50, 155)"
           ],
           [
            0.2727272727272727,
            "rgb(93, 62, 153)"
           ],
           [
            0.36363636363636365,
            "rgb(126, 77, 143)"
           ],
           [
            0.45454545454545453,
            "rgb(158, 89, 135)"
           ],
           [
            0.5454545454545454,
            "rgb(193, 100, 121)"
           ],
           [
            0.6363636363636364,
            "rgb(225, 113, 97)"
           ],
           [
            0.7272727272727273,
            "rgb(246, 139, 69)"
           ],
           [
            0.8181818181818182,
            "rgb(251, 173, 60)"
           ],
           [
            0.9090909090909091,
            "rgb(246, 211, 70)"
           ],
           [
            1,
            "rgb(231, 250, 90)"
           ]
          ],
          "size": 5,
          "symbol": "square"
         },
         "mode": "markers",
         "type": "scatter3d",
         "x": [
          0,
          0,
          0,
          0,
          0,
          0,
          0,
          0,
          0,
          0,
          0,
          0,
          1,
          1,
          1,
          1,
          1,
          1,
          1,
          1,
          1,
          1,
          1,
          1,
          2,
          2,
          2,
          2,
          2,
          2,
          2,
          2,
          2,
          2,
          2,
          2,
          3,
          3,
          3,
          3,
          3,
          3,
          3,
          3,
          3,
          3,
          3,
          3,
          4,
          4,
          4,
          4,
          4,
          4,
          4,
          4,
          4,
          4,
          4,
          4,
          5,
          5,
          5,
          5,
          5,
          5,
          5,
          5,
          5,
          5,
          5,
          5,
          6,
          6,
          6,
          6,
          6,
          6,
          6,
          6,
          6,
          6,
          6,
          6
         ],
         "y": [
          0,
          1,
          2,
          3,
          4,
          5,
          6,
          7,
          8,
          9,
          10,
          11,
          0,
          1,
          2,
          3,
          4,
          5,
          6,
          7,
          8,
          9,
          10,
          11,
          0,
          1,
          2,
          3,
          4,
          5,
          6,
          7,
          8,
          9,
          10,
          11,
          0,
          1,
          2,
          3,
          4,
          5,
          6,
          7,
          8,
          9,
          10,
          11,
          0,
          1,
          2,
          3,
          4,
          5,
          6,
          7,
          8,
          9,
          10,
          11,
          0,
          1,
          2,
          3,
          4,
          5,
          6,
          7,
          8,
          9,
          10,
          11,
          0,
          1,
          2,
          3,
          4,
          5,
          6,
          7,
          8,
          9,
          10,
          11
         ],
         "z": [
          0,
          0,
          0,
          0,
          0,
          0,
          0,
          0,
          0,
          0,
          0,
          0,
          0,
          0,
          0,
          0,
          0,
          0,
          0,
          0,
          0,
          0,
          0,
          0,
          0,
          0,
          0,
          0,
          0,
          0,
          0,
          0,
          0,
          0,
          0,
          0,
          0,
          0,
          0,
          0,
          0,
          0,
          0,
          0,
          0,
          0,
          0,
          0,
          0,
          0,
          0,
          0,
          0,
          0,
          0,
          0,
          0,
          0,
          0,
          0,
          0,
          0,
          0,
          0,
          0,
          0,
          0,
          0,
          0,
          0,
          0,
          0,
          0,
          0,
          0,
          0,
          0,
          0,
          0,
          0,
          0,
          0,
          0,
          0
         ]
        }
       ],
       "layout": {
        "template": {
         "data": {
          "bar": [
           {
            "error_x": {
             "color": "#2a3f5f"
            },
            "error_y": {
             "color": "#2a3f5f"
            },
            "marker": {
             "line": {
              "color": "#E5ECF6",
              "width": 0.5
             },
             "pattern": {
              "fillmode": "overlay",
              "size": 10,
              "solidity": 0.2
             }
            },
            "type": "bar"
           }
          ],
          "barpolar": [
           {
            "marker": {
             "line": {
              "color": "#E5ECF6",
              "width": 0.5
             },
             "pattern": {
              "fillmode": "overlay",
              "size": 10,
              "solidity": 0.2
             }
            },
            "type": "barpolar"
           }
          ],
          "carpet": [
           {
            "aaxis": {
             "endlinecolor": "#2a3f5f",
             "gridcolor": "white",
             "linecolor": "white",
             "minorgridcolor": "white",
             "startlinecolor": "#2a3f5f"
            },
            "baxis": {
             "endlinecolor": "#2a3f5f",
             "gridcolor": "white",
             "linecolor": "white",
             "minorgridcolor": "white",
             "startlinecolor": "#2a3f5f"
            },
            "type": "carpet"
           }
          ],
          "choropleth": [
           {
            "colorbar": {
             "outlinewidth": 0,
             "ticks": ""
            },
            "type": "choropleth"
           }
          ],
          "contour": [
           {
            "colorbar": {
             "outlinewidth": 0,
             "ticks": ""
            },
            "colorscale": [
             [
              0,
              "#0d0887"
             ],
             [
              0.1111111111111111,
              "#46039f"
             ],
             [
              0.2222222222222222,
              "#7201a8"
             ],
             [
              0.3333333333333333,
              "#9c179e"
             ],
             [
              0.4444444444444444,
              "#bd3786"
             ],
             [
              0.5555555555555556,
              "#d8576b"
             ],
             [
              0.6666666666666666,
              "#ed7953"
             ],
             [
              0.7777777777777778,
              "#fb9f3a"
             ],
             [
              0.8888888888888888,
              "#fdca26"
             ],
             [
              1,
              "#f0f921"
             ]
            ],
            "type": "contour"
           }
          ],
          "contourcarpet": [
           {
            "colorbar": {
             "outlinewidth": 0,
             "ticks": ""
            },
            "type": "contourcarpet"
           }
          ],
          "heatmap": [
           {
            "colorbar": {
             "outlinewidth": 0,
             "ticks": ""
            },
            "colorscale": [
             [
              0,
              "#0d0887"
             ],
             [
              0.1111111111111111,
              "#46039f"
             ],
             [
              0.2222222222222222,
              "#7201a8"
             ],
             [
              0.3333333333333333,
              "#9c179e"
             ],
             [
              0.4444444444444444,
              "#bd3786"
             ],
             [
              0.5555555555555556,
              "#d8576b"
             ],
             [
              0.6666666666666666,
              "#ed7953"
             ],
             [
              0.7777777777777778,
              "#fb9f3a"
             ],
             [
              0.8888888888888888,
              "#fdca26"
             ],
             [
              1,
              "#f0f921"
             ]
            ],
            "type": "heatmap"
           }
          ],
          "heatmapgl": [
           {
            "colorbar": {
             "outlinewidth": 0,
             "ticks": ""
            },
            "colorscale": [
             [
              0,
              "#0d0887"
             ],
             [
              0.1111111111111111,
              "#46039f"
             ],
             [
              0.2222222222222222,
              "#7201a8"
             ],
             [
              0.3333333333333333,
              "#9c179e"
             ],
             [
              0.4444444444444444,
              "#bd3786"
             ],
             [
              0.5555555555555556,
              "#d8576b"
             ],
             [
              0.6666666666666666,
              "#ed7953"
             ],
             [
              0.7777777777777778,
              "#fb9f3a"
             ],
             [
              0.8888888888888888,
              "#fdca26"
             ],
             [
              1,
              "#f0f921"
             ]
            ],
            "type": "heatmapgl"
           }
          ],
          "histogram": [
           {
            "marker": {
             "pattern": {
              "fillmode": "overlay",
              "size": 10,
              "solidity": 0.2
             }
            },
            "type": "histogram"
           }
          ],
          "histogram2d": [
           {
            "colorbar": {
             "outlinewidth": 0,
             "ticks": ""
            },
            "colorscale": [
             [
              0,
              "#0d0887"
             ],
             [
              0.1111111111111111,
              "#46039f"
             ],
             [
              0.2222222222222222,
              "#7201a8"
             ],
             [
              0.3333333333333333,
              "#9c179e"
             ],
             [
              0.4444444444444444,
              "#bd3786"
             ],
             [
              0.5555555555555556,
              "#d8576b"
             ],
             [
              0.6666666666666666,
              "#ed7953"
             ],
             [
              0.7777777777777778,
              "#fb9f3a"
             ],
             [
              0.8888888888888888,
              "#fdca26"
             ],
             [
              1,
              "#f0f921"
             ]
            ],
            "type": "histogram2d"
           }
          ],
          "histogram2dcontour": [
           {
            "colorbar": {
             "outlinewidth": 0,
             "ticks": ""
            },
            "colorscale": [
             [
              0,
              "#0d0887"
             ],
             [
              0.1111111111111111,
              "#46039f"
             ],
             [
              0.2222222222222222,
              "#7201a8"
             ],
             [
              0.3333333333333333,
              "#9c179e"
             ],
             [
              0.4444444444444444,
              "#bd3786"
             ],
             [
              0.5555555555555556,
              "#d8576b"
             ],
             [
              0.6666666666666666,
              "#ed7953"
             ],
             [
              0.7777777777777778,
              "#fb9f3a"
             ],
             [
              0.8888888888888888,
              "#fdca26"
             ],
             [
              1,
              "#f0f921"
             ]
            ],
            "type": "histogram2dcontour"
           }
          ],
          "mesh3d": [
           {
            "colorbar": {
             "outlinewidth": 0,
             "ticks": ""
            },
            "type": "mesh3d"
           }
          ],
          "parcoords": [
           {
            "line": {
             "colorbar": {
              "outlinewidth": 0,
              "ticks": ""
             }
            },
            "type": "parcoords"
           }
          ],
          "pie": [
           {
            "automargin": true,
            "type": "pie"
           }
          ],
          "scatter": [
           {
            "fillpattern": {
             "fillmode": "overlay",
             "size": 10,
             "solidity": 0.2
            },
            "type": "scatter"
           }
          ],
          "scatter3d": [
           {
            "line": {
             "colorbar": {
              "outlinewidth": 0,
              "ticks": ""
             }
            },
            "marker": {
             "colorbar": {
              "outlinewidth": 0,
              "ticks": ""
             }
            },
            "type": "scatter3d"
           }
          ],
          "scattercarpet": [
           {
            "marker": {
             "colorbar": {
              "outlinewidth": 0,
              "ticks": ""
             }
            },
            "type": "scattercarpet"
           }
          ],
          "scattergeo": [
           {
            "marker": {
             "colorbar": {
              "outlinewidth": 0,
              "ticks": ""
             }
            },
            "type": "scattergeo"
           }
          ],
          "scattergl": [
           {
            "marker": {
             "colorbar": {
              "outlinewidth": 0,
              "ticks": ""
             }
            },
            "type": "scattergl"
           }
          ],
          "scattermapbox": [
           {
            "marker": {
             "colorbar": {
              "outlinewidth": 0,
              "ticks": ""
             }
            },
            "type": "scattermapbox"
           }
          ],
          "scatterpolar": [
           {
            "marker": {
             "colorbar": {
              "outlinewidth": 0,
              "ticks": ""
             }
            },
            "type": "scatterpolar"
           }
          ],
          "scatterpolargl": [
           {
            "marker": {
             "colorbar": {
              "outlinewidth": 0,
              "ticks": ""
             }
            },
            "type": "scatterpolargl"
           }
          ],
          "scatterternary": [
           {
            "marker": {
             "colorbar": {
              "outlinewidth": 0,
              "ticks": ""
             }
            },
            "type": "scatterternary"
           }
          ],
          "surface": [
           {
            "colorbar": {
             "outlinewidth": 0,
             "ticks": ""
            },
            "colorscale": [
             [
              0,
              "#0d0887"
             ],
             [
              0.1111111111111111,
              "#46039f"
             ],
             [
              0.2222222222222222,
              "#7201a8"
             ],
             [
              0.3333333333333333,
              "#9c179e"
             ],
             [
              0.4444444444444444,
              "#bd3786"
             ],
             [
              0.5555555555555556,
              "#d8576b"
             ],
             [
              0.6666666666666666,
              "#ed7953"
             ],
             [
              0.7777777777777778,
              "#fb9f3a"
             ],
             [
              0.8888888888888888,
              "#fdca26"
             ],
             [
              1,
              "#f0f921"
             ]
            ],
            "type": "surface"
           }
          ],
          "table": [
           {
            "cells": {
             "fill": {
              "color": "#EBF0F8"
             },
             "line": {
              "color": "white"
             }
            },
            "header": {
             "fill": {
              "color": "#C8D4E3"
             },
             "line": {
              "color": "white"
             }
            },
            "type": "table"
           }
          ]
         },
         "layout": {
          "annotationdefaults": {
           "arrowcolor": "#2a3f5f",
           "arrowhead": 0,
           "arrowwidth": 1
          },
          "autotypenumbers": "strict",
          "coloraxis": {
           "colorbar": {
            "outlinewidth": 0,
            "ticks": ""
           }
          },
          "colorscale": {
           "diverging": [
            [
             0,
             "#8e0152"
            ],
            [
             0.1,
             "#c51b7d"
            ],
            [
             0.2,
             "#de77ae"
            ],
            [
             0.3,
             "#f1b6da"
            ],
            [
             0.4,
             "#fde0ef"
            ],
            [
             0.5,
             "#f7f7f7"
            ],
            [
             0.6,
             "#e6f5d0"
            ],
            [
             0.7,
             "#b8e186"
            ],
            [
             0.8,
             "#7fbc41"
            ],
            [
             0.9,
             "#4d9221"
            ],
            [
             1,
             "#276419"
            ]
           ],
           "sequential": [
            [
             0,
             "#0d0887"
            ],
            [
             0.1111111111111111,
             "#46039f"
            ],
            [
             0.2222222222222222,
             "#7201a8"
            ],
            [
             0.3333333333333333,
             "#9c179e"
            ],
            [
             0.4444444444444444,
             "#bd3786"
            ],
            [
             0.5555555555555556,
             "#d8576b"
            ],
            [
             0.6666666666666666,
             "#ed7953"
            ],
            [
             0.7777777777777778,
             "#fb9f3a"
            ],
            [
             0.8888888888888888,
             "#fdca26"
            ],
            [
             1,
             "#f0f921"
            ]
           ],
           "sequentialminus": [
            [
             0,
             "#0d0887"
            ],
            [
             0.1111111111111111,
             "#46039f"
            ],
            [
             0.2222222222222222,
             "#7201a8"
            ],
            [
             0.3333333333333333,
             "#9c179e"
            ],
            [
             0.4444444444444444,
             "#bd3786"
            ],
            [
             0.5555555555555556,
             "#d8576b"
            ],
            [
             0.6666666666666666,
             "#ed7953"
            ],
            [
             0.7777777777777778,
             "#fb9f3a"
            ],
            [
             0.8888888888888888,
             "#fdca26"
            ],
            [
             1,
             "#f0f921"
            ]
           ]
          },
          "colorway": [
           "#636efa",
           "#EF553B",
           "#00cc96",
           "#ab63fa",
           "#FFA15A",
           "#19d3f3",
           "#FF6692",
           "#B6E880",
           "#FF97FF",
           "#FECB52"
          ],
          "font": {
           "color": "#2a3f5f"
          },
          "geo": {
           "bgcolor": "white",
           "lakecolor": "white",
           "landcolor": "#E5ECF6",
           "showlakes": true,
           "showland": true,
           "subunitcolor": "white"
          },
          "hoverlabel": {
           "align": "left"
          },
          "hovermode": "closest",
          "mapbox": {
           "style": "light"
          },
          "paper_bgcolor": "white",
          "plot_bgcolor": "#E5ECF6",
          "polar": {
           "angularaxis": {
            "gridcolor": "white",
            "linecolor": "white",
            "ticks": ""
           },
           "bgcolor": "#E5ECF6",
           "radialaxis": {
            "gridcolor": "white",
            "linecolor": "white",
            "ticks": ""
           }
          },
          "scene": {
           "xaxis": {
            "backgroundcolor": "#E5ECF6",
            "gridcolor": "white",
            "gridwidth": 2,
            "linecolor": "white",
            "showbackground": true,
            "ticks": "",
            "zerolinecolor": "white"
           },
           "yaxis": {
            "backgroundcolor": "#E5ECF6",
            "gridcolor": "white",
            "gridwidth": 2,
            "linecolor": "white",
            "showbackground": true,
            "ticks": "",
            "zerolinecolor": "white"
           },
           "zaxis": {
            "backgroundcolor": "#E5ECF6",
            "gridcolor": "white",
            "gridwidth": 2,
            "linecolor": "white",
            "showbackground": true,
            "ticks": "",
            "zerolinecolor": "white"
           }
          },
          "shapedefaults": {
           "line": {
            "color": "#2a3f5f"
           }
          },
          "ternary": {
           "aaxis": {
            "gridcolor": "white",
            "linecolor": "white",
            "ticks": ""
           },
           "baxis": {
            "gridcolor": "white",
            "linecolor": "white",
            "ticks": ""
           },
           "bgcolor": "#E5ECF6",
           "caxis": {
            "gridcolor": "white",
            "linecolor": "white",
            "ticks": ""
           }
          },
          "title": {
           "x": 0.05
          },
          "xaxis": {
           "automargin": true,
           "gridcolor": "white",
           "linecolor": "white",
           "ticks": "",
           "title": {
            "standoff": 15
           },
           "zerolinecolor": "white",
           "zerolinewidth": 2
          },
          "yaxis": {
           "automargin": true,
           "gridcolor": "white",
           "linecolor": "white",
           "ticks": "",
           "title": {
            "standoff": 15
           },
           "zerolinecolor": "white",
           "zerolinewidth": 2
          }
         }
        },
        "title": {
         "text": "Warehouse Visualization"
        }
       }
      }
     },
     "metadata": {},
     "output_type": "display_data"
    }
   ],
   "source": [
    "fig.show()"
   ]
  },
  {
   "cell_type": "code",
   "execution_count": 21,
   "metadata": {},
   "outputs": [],
   "source": "from warehouse_model.simulation import aisle_to_sku"
  },
  {
   "cell_type": "code",
   "execution_count": 81,
   "metadata": {},
   "outputs": [],
   "source": [
    "route, line, distance, zugriff = sim_loop(\"s_shape\", orders, warehouse, (6,1,0))"
   ]
  },
  {
   "cell_type": "code",
   "execution_count": 82,
   "metadata": {},
   "outputs": [
    {
     "data": {
      "text/plain": [
       "30.0"
      ]
     },
     "execution_count": 82,
     "metadata": {},
     "output_type": "execute_result"
    }
   ],
   "source": [
    "distance"
   ]
  },
  {
   "cell_type": "code",
   "execution_count": 83,
   "metadata": {},
   "outputs": [],
   "source": [
    "storage_assignment_heuristic = deepcopy(warehouse.layout_grid)\n",
    "walkable_locs = np.where(warehouse.layout_grid == 0)\n",
    "\n",
    "for i, loc in enumerate(assignment):\n",
    "    storage_assignment_heuristic[warehouse.nodes_list[loc]] = i \n"
   ]
  },
  {
   "cell_type": "code",
   "execution_count": 84,
   "metadata": {},
   "outputs": [
    {
     "data": {
      "application/vnd.plotly.v1+json": {
       "config": {
        "plotlyServerURL": "https://plot.ly"
       },
       "data": [
        {
         "customdata": [
          0,
          0,
          0,
          0,
          0,
          0,
          0,
          0,
          0,
          0,
          0,
          0,
          0,
          0,
          -1,
          3,
          0,
          -1,
          -1,
          0,
          -1,
          -1,
          0,
          -1,
          1,
          0,
          -1,
          4,
          0,
          -1,
          -1,
          0,
          -1,
          -1,
          0,
          -1,
          2,
          0,
          -1,
          5,
          0,
          -1,
          -1,
          0,
          -1,
          -1,
          0,
          -1,
          -1,
          0,
          -1,
          -1,
          0,
          -1,
          -1,
          0,
          -1,
          -1,
          0,
          -1,
          -1,
          0,
          -1,
          -1,
          0,
          -1,
          -1,
          0,
          -1,
          -1,
          0,
          -1,
          0,
          0,
          0,
          0,
          0,
          0,
          0,
          0,
          0,
          0,
          0,
          0
         ],
         "hovertemplate": "x: %{x}<br>y: %{y}<br>z: %{z}<br>Cluster<br>Product: %{customdata[1]}",
         "marker": {
          "size": 5
         },
         "mode": "markers",
         "type": "scatter3d",
         "x": [
          0,
          0,
          0,
          0,
          0,
          0,
          0,
          0,
          0,
          0,
          0,
          0,
          1,
          1,
          1,
          1,
          1,
          1,
          1,
          1,
          1,
          1,
          1,
          1,
          2,
          2,
          2,
          2,
          2,
          2,
          2,
          2,
          2,
          2,
          2,
          2,
          3,
          3,
          3,
          3,
          3,
          3,
          3,
          3,
          3,
          3,
          3,
          3,
          4,
          4,
          4,
          4,
          4,
          4,
          4,
          4,
          4,
          4,
          4,
          4,
          5,
          5,
          5,
          5,
          5,
          5,
          5,
          5,
          5,
          5,
          5,
          5,
          6,
          6,
          6,
          6,
          6,
          6,
          6,
          6,
          6,
          6,
          6,
          6
         ],
         "y": [
          0,
          1,
          2,
          3,
          4,
          5,
          6,
          7,
          8,
          9,
          10,
          11,
          0,
          1,
          2,
          3,
          4,
          5,
          6,
          7,
          8,
          9,
          10,
          11,
          0,
          1,
          2,
          3,
          4,
          5,
          6,
          7,
          8,
          9,
          10,
          11,
          0,
          1,
          2,
          3,
          4,
          5,
          6,
          7,
          8,
          9,
          10,
          11,
          0,
          1,
          2,
          3,
          4,
          5,
          6,
          7,
          8,
          9,
          10,
          11,
          0,
          1,
          2,
          3,
          4,
          5,
          6,
          7,
          8,
          9,
          10,
          11,
          0,
          1,
          2,
          3,
          4,
          5,
          6,
          7,
          8,
          9,
          10,
          11
         ],
         "z": [
          0,
          0,
          0,
          0,
          0,
          0,
          0,
          0,
          0,
          0,
          0,
          0,
          0,
          0,
          0,
          0,
          0,
          0,
          0,
          0,
          0,
          0,
          0,
          0,
          0,
          0,
          0,
          0,
          0,
          0,
          0,
          0,
          0,
          0,
          0,
          0,
          0,
          0,
          0,
          0,
          0,
          0,
          0,
          0,
          0,
          0,
          0,
          0,
          0,
          0,
          0,
          0,
          0,
          0,
          0,
          0,
          0,
          0,
          0,
          0,
          0,
          0,
          0,
          0,
          0,
          0,
          0,
          0,
          0,
          0,
          0,
          0,
          0,
          0,
          0,
          0,
          0,
          0,
          0,
          0,
          0,
          0,
          0,
          0
         ]
        },
        {
         "line": {
          "color": "red",
          "width": 10
         },
         "marker": {
          "size": 5
         },
         "mode": "lines",
         "type": "scatter3d",
         "x": [
          6,
          0,
          1,
          2,
          3,
          6,
          6,
          3,
          2,
          1,
          0,
          6
         ],
         "y": [
          1,
          1,
          1,
          1,
          1,
          1,
          4,
          4,
          4,
          4,
          4,
          1
         ],
         "z": [
          0,
          0,
          0,
          0,
          0,
          0,
          0,
          0,
          0,
          0,
          0,
          0
         ]
        }
       ],
       "frames": [
        {
         "data": [
          {
           "marker": {
            "color": "blue",
            "size": 10
           },
           "mode": "markers",
           "type": "scatter3d",
           "x": [
            6
           ],
           "y": [
            1
           ],
           "z": [
            0
           ]
          }
         ]
        },
        {
         "data": [
          {
           "marker": {
            "color": "blue",
            "size": 10
           },
           "mode": "markers",
           "type": "scatter3d",
           "x": [
            0
           ],
           "y": [
            1
           ],
           "z": [
            0
           ]
          }
         ]
        },
        {
         "data": [
          {
           "marker": {
            "color": "blue",
            "size": 10
           },
           "mode": "markers",
           "type": "scatter3d",
           "x": [
            1
           ],
           "y": [
            1
           ],
           "z": [
            0
           ]
          }
         ]
        },
        {
         "data": [
          {
           "marker": {
            "color": "blue",
            "size": 10
           },
           "mode": "markers",
           "type": "scatter3d",
           "x": [
            1
           ],
           "y": [
            0
           ],
           "z": [
            0
           ]
          }
         ]
        },
        {
         "data": [
          {
           "marker": {
            "color": "blue",
            "size": 10
           },
           "mode": "markers",
           "type": "scatter3d",
           "x": [
            1
           ],
           "y": [
            1
           ],
           "z": [
            0
           ]
          }
         ]
        },
        {
         "data": [
          {
           "marker": {
            "color": "blue",
            "size": 10
           },
           "mode": "markers",
           "type": "scatter3d",
           "x": [
            2
           ],
           "y": [
            1
           ],
           "z": [
            0
           ]
          }
         ]
        },
        {
         "data": [
          {
           "marker": {
            "color": "blue",
            "size": 10
           },
           "mode": "markers",
           "type": "scatter3d",
           "x": [
            2
           ],
           "y": [
            0
           ],
           "z": [
            0
           ]
          }
         ]
        },
        {
         "data": [
          {
           "marker": {
            "color": "blue",
            "size": 10
           },
           "mode": "markers",
           "type": "scatter3d",
           "x": [
            2
           ],
           "y": [
            1
           ],
           "z": [
            0
           ]
          }
         ]
        },
        {
         "data": [
          {
           "marker": {
            "color": "blue",
            "size": 10
           },
           "mode": "markers",
           "type": "scatter3d",
           "x": [
            3
           ],
           "y": [
            1
           ],
           "z": [
            0
           ]
          }
         ]
        },
        {
         "data": [
          {
           "marker": {
            "color": "blue",
            "size": 10
           },
           "mode": "markers",
           "type": "scatter3d",
           "x": [
            3
           ],
           "y": [
            0
           ],
           "z": [
            0
           ]
          }
         ]
        },
        {
         "data": [
          {
           "marker": {
            "color": "blue",
            "size": 10
           },
           "mode": "markers",
           "type": "scatter3d",
           "x": [
            3
           ],
           "y": [
            1
           ],
           "z": [
            0
           ]
          }
         ]
        },
        {
         "data": [
          {
           "marker": {
            "color": "blue",
            "size": 10
           },
           "mode": "markers",
           "type": "scatter3d",
           "x": [
            6
           ],
           "y": [
            1
           ],
           "z": [
            0
           ]
          }
         ]
        },
        {
         "data": [
          {
           "marker": {
            "color": "blue",
            "size": 10
           },
           "mode": "markers",
           "type": "scatter3d",
           "x": [
            6
           ],
           "y": [
            4
           ],
           "z": [
            0
           ]
          }
         ]
        },
        {
         "data": [
          {
           "marker": {
            "color": "blue",
            "size": 10
           },
           "mode": "markers",
           "type": "scatter3d",
           "x": [
            3
           ],
           "y": [
            4
           ],
           "z": [
            0
           ]
          }
         ]
        },
        {
         "data": [
          {
           "marker": {
            "color": "blue",
            "size": 10
           },
           "mode": "markers",
           "type": "scatter3d",
           "x": [
            3
           ],
           "y": [
            3
           ],
           "z": [
            0
           ]
          }
         ]
        },
        {
         "data": [
          {
           "marker": {
            "color": "blue",
            "size": 10
           },
           "mode": "markers",
           "type": "scatter3d",
           "x": [
            3
           ],
           "y": [
            4
           ],
           "z": [
            0
           ]
          }
         ]
        },
        {
         "data": [
          {
           "marker": {
            "color": "blue",
            "size": 10
           },
           "mode": "markers",
           "type": "scatter3d",
           "x": [
            2
           ],
           "y": [
            4
           ],
           "z": [
            0
           ]
          }
         ]
        },
        {
         "data": [
          {
           "marker": {
            "color": "blue",
            "size": 10
           },
           "mode": "markers",
           "type": "scatter3d",
           "x": [
            2
           ],
           "y": [
            3
           ],
           "z": [
            0
           ]
          }
         ]
        },
        {
         "data": [
          {
           "marker": {
            "color": "blue",
            "size": 10
           },
           "mode": "markers",
           "type": "scatter3d",
           "x": [
            2
           ],
           "y": [
            4
           ],
           "z": [
            0
           ]
          }
         ]
        },
        {
         "data": [
          {
           "marker": {
            "color": "blue",
            "size": 10
           },
           "mode": "markers",
           "type": "scatter3d",
           "x": [
            1
           ],
           "y": [
            4
           ],
           "z": [
            0
           ]
          }
         ]
        },
        {
         "data": [
          {
           "marker": {
            "color": "blue",
            "size": 10
           },
           "mode": "markers",
           "type": "scatter3d",
           "x": [
            1
           ],
           "y": [
            3
           ],
           "z": [
            0
           ]
          }
         ]
        },
        {
         "data": [
          {
           "marker": {
            "color": "blue",
            "size": 10
           },
           "mode": "markers",
           "type": "scatter3d",
           "x": [
            1
           ],
           "y": [
            4
           ],
           "z": [
            0
           ]
          }
         ]
        },
        {
         "data": [
          {
           "marker": {
            "color": "blue",
            "size": 10
           },
           "mode": "markers",
           "type": "scatter3d",
           "x": [
            0
           ],
           "y": [
            4
           ],
           "z": [
            0
           ]
          }
         ]
        }
       ],
       "layout": {
        "template": {
         "data": {
          "bar": [
           {
            "error_x": {
             "color": "#2a3f5f"
            },
            "error_y": {
             "color": "#2a3f5f"
            },
            "marker": {
             "line": {
              "color": "#E5ECF6",
              "width": 0.5
             },
             "pattern": {
              "fillmode": "overlay",
              "size": 10,
              "solidity": 0.2
             }
            },
            "type": "bar"
           }
          ],
          "barpolar": [
           {
            "marker": {
             "line": {
              "color": "#E5ECF6",
              "width": 0.5
             },
             "pattern": {
              "fillmode": "overlay",
              "size": 10,
              "solidity": 0.2
             }
            },
            "type": "barpolar"
           }
          ],
          "carpet": [
           {
            "aaxis": {
             "endlinecolor": "#2a3f5f",
             "gridcolor": "white",
             "linecolor": "white",
             "minorgridcolor": "white",
             "startlinecolor": "#2a3f5f"
            },
            "baxis": {
             "endlinecolor": "#2a3f5f",
             "gridcolor": "white",
             "linecolor": "white",
             "minorgridcolor": "white",
             "startlinecolor": "#2a3f5f"
            },
            "type": "carpet"
           }
          ],
          "choropleth": [
           {
            "colorbar": {
             "outlinewidth": 0,
             "ticks": ""
            },
            "type": "choropleth"
           }
          ],
          "contour": [
           {
            "colorbar": {
             "outlinewidth": 0,
             "ticks": ""
            },
            "colorscale": [
             [
              0,
              "#0d0887"
             ],
             [
              0.1111111111111111,
              "#46039f"
             ],
             [
              0.2222222222222222,
              "#7201a8"
             ],
             [
              0.3333333333333333,
              "#9c179e"
             ],
             [
              0.4444444444444444,
              "#bd3786"
             ],
             [
              0.5555555555555556,
              "#d8576b"
             ],
             [
              0.6666666666666666,
              "#ed7953"
             ],
             [
              0.7777777777777778,
              "#fb9f3a"
             ],
             [
              0.8888888888888888,
              "#fdca26"
             ],
             [
              1,
              "#f0f921"
             ]
            ],
            "type": "contour"
           }
          ],
          "contourcarpet": [
           {
            "colorbar": {
             "outlinewidth": 0,
             "ticks": ""
            },
            "type": "contourcarpet"
           }
          ],
          "heatmap": [
           {
            "colorbar": {
             "outlinewidth": 0,
             "ticks": ""
            },
            "colorscale": [
             [
              0,
              "#0d0887"
             ],
             [
              0.1111111111111111,
              "#46039f"
             ],
             [
              0.2222222222222222,
              "#7201a8"
             ],
             [
              0.3333333333333333,
              "#9c179e"
             ],
             [
              0.4444444444444444,
              "#bd3786"
             ],
             [
              0.5555555555555556,
              "#d8576b"
             ],
             [
              0.6666666666666666,
              "#ed7953"
             ],
             [
              0.7777777777777778,
              "#fb9f3a"
             ],
             [
              0.8888888888888888,
              "#fdca26"
             ],
             [
              1,
              "#f0f921"
             ]
            ],
            "type": "heatmap"
           }
          ],
          "heatmapgl": [
           {
            "colorbar": {
             "outlinewidth": 0,
             "ticks": ""
            },
            "colorscale": [
             [
              0,
              "#0d0887"
             ],
             [
              0.1111111111111111,
              "#46039f"
             ],
             [
              0.2222222222222222,
              "#7201a8"
             ],
             [
              0.3333333333333333,
              "#9c179e"
             ],
             [
              0.4444444444444444,
              "#bd3786"
             ],
             [
              0.5555555555555556,
              "#d8576b"
             ],
             [
              0.6666666666666666,
              "#ed7953"
             ],
             [
              0.7777777777777778,
              "#fb9f3a"
             ],
             [
              0.8888888888888888,
              "#fdca26"
             ],
             [
              1,
              "#f0f921"
             ]
            ],
            "type": "heatmapgl"
           }
          ],
          "histogram": [
           {
            "marker": {
             "pattern": {
              "fillmode": "overlay",
              "size": 10,
              "solidity": 0.2
             }
            },
            "type": "histogram"
           }
          ],
          "histogram2d": [
           {
            "colorbar": {
             "outlinewidth": 0,
             "ticks": ""
            },
            "colorscale": [
             [
              0,
              "#0d0887"
             ],
             [
              0.1111111111111111,
              "#46039f"
             ],
             [
              0.2222222222222222,
              "#7201a8"
             ],
             [
              0.3333333333333333,
              "#9c179e"
             ],
             [
              0.4444444444444444,
              "#bd3786"
             ],
             [
              0.5555555555555556,
              "#d8576b"
             ],
             [
              0.6666666666666666,
              "#ed7953"
             ],
             [
              0.7777777777777778,
              "#fb9f3a"
             ],
             [
              0.8888888888888888,
              "#fdca26"
             ],
             [
              1,
              "#f0f921"
             ]
            ],
            "type": "histogram2d"
           }
          ],
          "histogram2dcontour": [
           {
            "colorbar": {
             "outlinewidth": 0,
             "ticks": ""
            },
            "colorscale": [
             [
              0,
              "#0d0887"
             ],
             [
              0.1111111111111111,
              "#46039f"
             ],
             [
              0.2222222222222222,
              "#7201a8"
             ],
             [
              0.3333333333333333,
              "#9c179e"
             ],
             [
              0.4444444444444444,
              "#bd3786"
             ],
             [
              0.5555555555555556,
              "#d8576b"
             ],
             [
              0.6666666666666666,
              "#ed7953"
             ],
             [
              0.7777777777777778,
              "#fb9f3a"
             ],
             [
              0.8888888888888888,
              "#fdca26"
             ],
             [
              1,
              "#f0f921"
             ]
            ],
            "type": "histogram2dcontour"
           }
          ],
          "mesh3d": [
           {
            "colorbar": {
             "outlinewidth": 0,
             "ticks": ""
            },
            "type": "mesh3d"
           }
          ],
          "parcoords": [
           {
            "line": {
             "colorbar": {
              "outlinewidth": 0,
              "ticks": ""
             }
            },
            "type": "parcoords"
           }
          ],
          "pie": [
           {
            "automargin": true,
            "type": "pie"
           }
          ],
          "scatter": [
           {
            "fillpattern": {
             "fillmode": "overlay",
             "size": 10,
             "solidity": 0.2
            },
            "type": "scatter"
           }
          ],
          "scatter3d": [
           {
            "line": {
             "colorbar": {
              "outlinewidth": 0,
              "ticks": ""
             }
            },
            "marker": {
             "colorbar": {
              "outlinewidth": 0,
              "ticks": ""
             }
            },
            "type": "scatter3d"
           }
          ],
          "scattercarpet": [
           {
            "marker": {
             "colorbar": {
              "outlinewidth": 0,
              "ticks": ""
             }
            },
            "type": "scattercarpet"
           }
          ],
          "scattergeo": [
           {
            "marker": {
             "colorbar": {
              "outlinewidth": 0,
              "ticks": ""
             }
            },
            "type": "scattergeo"
           }
          ],
          "scattergl": [
           {
            "marker": {
             "colorbar": {
              "outlinewidth": 0,
              "ticks": ""
             }
            },
            "type": "scattergl"
           }
          ],
          "scattermapbox": [
           {
            "marker": {
             "colorbar": {
              "outlinewidth": 0,
              "ticks": ""
             }
            },
            "type": "scattermapbox"
           }
          ],
          "scatterpolar": [
           {
            "marker": {
             "colorbar": {
              "outlinewidth": 0,
              "ticks": ""
             }
            },
            "type": "scatterpolar"
           }
          ],
          "scatterpolargl": [
           {
            "marker": {
             "colorbar": {
              "outlinewidth": 0,
              "ticks": ""
             }
            },
            "type": "scatterpolargl"
           }
          ],
          "scatterternary": [
           {
            "marker": {
             "colorbar": {
              "outlinewidth": 0,
              "ticks": ""
             }
            },
            "type": "scatterternary"
           }
          ],
          "surface": [
           {
            "colorbar": {
             "outlinewidth": 0,
             "ticks": ""
            },
            "colorscale": [
             [
              0,
              "#0d0887"
             ],
             [
              0.1111111111111111,
              "#46039f"
             ],
             [
              0.2222222222222222,
              "#7201a8"
             ],
             [
              0.3333333333333333,
              "#9c179e"
             ],
             [
              0.4444444444444444,
              "#bd3786"
             ],
             [
              0.5555555555555556,
              "#d8576b"
             ],
             [
              0.6666666666666666,
              "#ed7953"
             ],
             [
              0.7777777777777778,
              "#fb9f3a"
             ],
             [
              0.8888888888888888,
              "#fdca26"
             ],
             [
              1,
              "#f0f921"
             ]
            ],
            "type": "surface"
           }
          ],
          "table": [
           {
            "cells": {
             "fill": {
              "color": "#EBF0F8"
             },
             "line": {
              "color": "white"
             }
            },
            "header": {
             "fill": {
              "color": "#C8D4E3"
             },
             "line": {
              "color": "white"
             }
            },
            "type": "table"
           }
          ]
         },
         "layout": {
          "annotationdefaults": {
           "arrowcolor": "#2a3f5f",
           "arrowhead": 0,
           "arrowwidth": 1
          },
          "autotypenumbers": "strict",
          "coloraxis": {
           "colorbar": {
            "outlinewidth": 0,
            "ticks": ""
           }
          },
          "colorscale": {
           "diverging": [
            [
             0,
             "#8e0152"
            ],
            [
             0.1,
             "#c51b7d"
            ],
            [
             0.2,
             "#de77ae"
            ],
            [
             0.3,
             "#f1b6da"
            ],
            [
             0.4,
             "#fde0ef"
            ],
            [
             0.5,
             "#f7f7f7"
            ],
            [
             0.6,
             "#e6f5d0"
            ],
            [
             0.7,
             "#b8e186"
            ],
            [
             0.8,
             "#7fbc41"
            ],
            [
             0.9,
             "#4d9221"
            ],
            [
             1,
             "#276419"
            ]
           ],
           "sequential": [
            [
             0,
             "#0d0887"
            ],
            [
             0.1111111111111111,
             "#46039f"
            ],
            [
             0.2222222222222222,
             "#7201a8"
            ],
            [
             0.3333333333333333,
             "#9c179e"
            ],
            [
             0.4444444444444444,
             "#bd3786"
            ],
            [
             0.5555555555555556,
             "#d8576b"
            ],
            [
             0.6666666666666666,
             "#ed7953"
            ],
            [
             0.7777777777777778,
             "#fb9f3a"
            ],
            [
             0.8888888888888888,
             "#fdca26"
            ],
            [
             1,
             "#f0f921"
            ]
           ],
           "sequentialminus": [
            [
             0,
             "#0d0887"
            ],
            [
             0.1111111111111111,
             "#46039f"
            ],
            [
             0.2222222222222222,
             "#7201a8"
            ],
            [
             0.3333333333333333,
             "#9c179e"
            ],
            [
             0.4444444444444444,
             "#bd3786"
            ],
            [
             0.5555555555555556,
             "#d8576b"
            ],
            [
             0.6666666666666666,
             "#ed7953"
            ],
            [
             0.7777777777777778,
             "#fb9f3a"
            ],
            [
             0.8888888888888888,
             "#fdca26"
            ],
            [
             1,
             "#f0f921"
            ]
           ]
          },
          "colorway": [
           "#636efa",
           "#EF553B",
           "#00cc96",
           "#ab63fa",
           "#FFA15A",
           "#19d3f3",
           "#FF6692",
           "#B6E880",
           "#FF97FF",
           "#FECB52"
          ],
          "font": {
           "color": "#2a3f5f"
          },
          "geo": {
           "bgcolor": "white",
           "lakecolor": "white",
           "landcolor": "#E5ECF6",
           "showlakes": true,
           "showland": true,
           "subunitcolor": "white"
          },
          "hoverlabel": {
           "align": "left"
          },
          "hovermode": "closest",
          "mapbox": {
           "style": "light"
          },
          "paper_bgcolor": "white",
          "plot_bgcolor": "#E5ECF6",
          "polar": {
           "angularaxis": {
            "gridcolor": "white",
            "linecolor": "white",
            "ticks": ""
           },
           "bgcolor": "#E5ECF6",
           "radialaxis": {
            "gridcolor": "white",
            "linecolor": "white",
            "ticks": ""
           }
          },
          "scene": {
           "xaxis": {
            "backgroundcolor": "#E5ECF6",
            "gridcolor": "white",
            "gridwidth": 2,
            "linecolor": "white",
            "showbackground": true,
            "ticks": "",
            "zerolinecolor": "white"
           },
           "yaxis": {
            "backgroundcolor": "#E5ECF6",
            "gridcolor": "white",
            "gridwidth": 2,
            "linecolor": "white",
            "showbackground": true,
            "ticks": "",
            "zerolinecolor": "white"
           },
           "zaxis": {
            "backgroundcolor": "#E5ECF6",
            "gridcolor": "white",
            "gridwidth": 2,
            "linecolor": "white",
            "showbackground": true,
            "ticks": "",
            "zerolinecolor": "white"
           }
          },
          "shapedefaults": {
           "line": {
            "color": "#2a3f5f"
           }
          },
          "ternary": {
           "aaxis": {
            "gridcolor": "white",
            "linecolor": "white",
            "ticks": ""
           },
           "baxis": {
            "gridcolor": "white",
            "linecolor": "white",
            "ticks": ""
           },
           "bgcolor": "#E5ECF6",
           "caxis": {
            "gridcolor": "white",
            "linecolor": "white",
            "ticks": ""
           }
          },
          "title": {
           "x": 0.05
          },
          "xaxis": {
           "automargin": true,
           "gridcolor": "white",
           "linecolor": "white",
           "ticks": "",
           "title": {
            "standoff": 15
           },
           "zerolinecolor": "white",
           "zerolinewidth": 2
          },
          "yaxis": {
           "automargin": true,
           "gridcolor": "white",
           "linecolor": "white",
           "ticks": "",
           "title": {
            "standoff": 15
           },
           "zerolinecolor": "white",
           "zerolinewidth": 2
          }
         }
        },
        "title": {
         "text": "Start Title"
        },
        "updatemenus": [
         {
          "buttons": [
           {
            "args": [
             null
            ],
            "label": "Play",
            "method": "animate"
           }
          ],
          "type": "buttons"
         }
        ],
        "xaxis": {
         "autorange": false,
         "range": [
          0,
          40
         ]
        },
        "yaxis": {
         "autorange": false,
         "range": [
          0,
          40
         ]
        }
       }
      }
     },
     "metadata": {},
     "output_type": "display_data"
    }
   ],
   "source": [
    "route = np.array(route[0])\n",
    "line = np.array(line[0])\n",
    "\n",
    "node_xyz = np.array([warehouse.pos_dict[v] for v in sorted(warehouse.graph)])\n",
    "edge_xyz = np.array([(warehouse.pos_dict[u], warehouse.pos_dict[v]) for u, v in warehouse.graph.edges()])\n",
    "\n",
    "# data = []\n",
    "# for x, y, z in zip(node_xyz.T[0], node_xyz.T[1], node_xyz.T[2]):\n",
    "#     data_point = storage_frequence_heu[x,y,z]\n",
    "#     data.append(data_point)\n",
    "\n",
    "assignment = []\n",
    "for x, y, z in zip(node_xyz.T[0], node_xyz.T[1], node_xyz.T[2]):\n",
    "    assignment_point = storage_assignment_heuristic[x,y,z]\n",
    "    assignment.append(assignment_point)\n",
    "\n",
    "trace = go.Scatter3d(customdata=np.stack((assignment),axis=-1), hovertemplate = 'x: %{x}<br>y: %{y}<br>z: %{z}<br>Cluster<br>Product: %{customdata[1]}',\n",
    "x = node_xyz.T[0], y = node_xyz.T[1], z = node_xyz.T[2],mode = 'markers', marker = dict(\n",
    "    size = 12)\n",
    ")\n",
    "\n",
    "lines = go.Scatter3d(\n",
    "    x=line.T[0],\n",
    "    y=line.T[1],\n",
    "    z=line.T[2],\n",
    "    mode='lines',\n",
    "    line=dict(color='red', width=10),  # Customize line properties\n",
    ")\n",
    "\n",
    "frames=[go.Frame(data=[go.Scatter3d(\n",
    "    x=[route.T[0][i]],\n",
    "    y=[route.T[1][i]],\n",
    "    z=[route.T[2][i]],\n",
    "    mode='markers',\n",
    "    marker=dict(color='blue', size=10),  # Customize line properties\n",
    ") ]) for i in range(len(route.T[0])-1)]\n",
    "\n",
    "layout=go.Layout(\n",
    "        xaxis=dict(range=[0, 40], autorange=False),\n",
    "        yaxis=dict(range=[0, 40], autorange=False),\n",
    "        title=\"Start Title\",\n",
    "        updatemenus=[dict(\n",
    "            type=\"buttons\",\n",
    "            buttons=[dict(label=\"Play\",\n",
    "                          method=\"animate\",\n",
    "                          args=[None])])]\n",
    "    )\n",
    "fig = go.Figure(data = [trace, lines], layout = layout, frames = frames)\n",
    "fig.update_traces(marker_size = 5)\n",
    "fig.show()"
   ]
  },
  {
   "cell_type": "code",
   "execution_count": 85,
   "metadata": {},
   "outputs": [
    {
     "data": {
      "application/vnd.plotly.v1+json": {
       "config": {
        "plotlyServerURL": "https://plot.ly"
       },
       "data": [
        {
         "coloraxis": "coloraxis",
         "hovertemplate": "x: %{x}<br>y: %{y}<br>color: %{z}<extra></extra>",
         "name": "0",
         "type": "heatmap",
         "xaxis": "x",
         "yaxis": "y",
         "z": [
          [
           0,
           0,
           0,
           0,
           0,
           0,
           0,
           0,
           0,
           0,
           0,
           0
          ],
          [
           -1,
           0,
           -1,
           -1,
           0,
           -1,
           -1,
           0,
           -1,
           -1,
           0,
           -1
          ],
          [
           -1,
           0,
           -1,
           -1,
           0,
           -1,
           -1,
           0,
           -1,
           -1,
           0,
           -1
          ],
          [
           -1,
           0,
           -1,
           -1,
           0,
           -1,
           -1,
           0,
           -1,
           -1,
           0,
           -1
          ],
          [
           -1,
           0,
           -1,
           -1,
           0,
           -1,
           -1,
           0,
           -1,
           -1,
           0,
           -1
          ],
          [
           -1,
           0,
           -1,
           -1,
           0,
           -1,
           -1,
           0,
           -1,
           -1,
           0,
           -1
          ],
          [
           0,
           0,
           0,
           0,
           0,
           0,
           0,
           0,
           0,
           0,
           0,
           0
          ]
         ]
        }
       ],
       "layout": {
        "coloraxis": {
         "colorscale": [
          [
           0,
           "#0d0887"
          ],
          [
           0.1111111111111111,
           "#46039f"
          ],
          [
           0.2222222222222222,
           "#7201a8"
          ],
          [
           0.3333333333333333,
           "#9c179e"
          ],
          [
           0.4444444444444444,
           "#bd3786"
          ],
          [
           0.5555555555555556,
           "#d8576b"
          ],
          [
           0.6666666666666666,
           "#ed7953"
          ],
          [
           0.7777777777777778,
           "#fb9f3a"
          ],
          [
           0.8888888888888888,
           "#fdca26"
          ],
          [
           1,
           "#f0f921"
          ]
         ]
        },
        "margin": {
         "t": 60
        },
        "template": {
         "data": {
          "bar": [
           {
            "error_x": {
             "color": "#2a3f5f"
            },
            "error_y": {
             "color": "#2a3f5f"
            },
            "marker": {
             "line": {
              "color": "#E5ECF6",
              "width": 0.5
             },
             "pattern": {
              "fillmode": "overlay",
              "size": 10,
              "solidity": 0.2
             }
            },
            "type": "bar"
           }
          ],
          "barpolar": [
           {
            "marker": {
             "line": {
              "color": "#E5ECF6",
              "width": 0.5
             },
             "pattern": {
              "fillmode": "overlay",
              "size": 10,
              "solidity": 0.2
             }
            },
            "type": "barpolar"
           }
          ],
          "carpet": [
           {
            "aaxis": {
             "endlinecolor": "#2a3f5f",
             "gridcolor": "white",
             "linecolor": "white",
             "minorgridcolor": "white",
             "startlinecolor": "#2a3f5f"
            },
            "baxis": {
             "endlinecolor": "#2a3f5f",
             "gridcolor": "white",
             "linecolor": "white",
             "minorgridcolor": "white",
             "startlinecolor": "#2a3f5f"
            },
            "type": "carpet"
           }
          ],
          "choropleth": [
           {
            "colorbar": {
             "outlinewidth": 0,
             "ticks": ""
            },
            "type": "choropleth"
           }
          ],
          "contour": [
           {
            "colorbar": {
             "outlinewidth": 0,
             "ticks": ""
            },
            "colorscale": [
             [
              0,
              "#0d0887"
             ],
             [
              0.1111111111111111,
              "#46039f"
             ],
             [
              0.2222222222222222,
              "#7201a8"
             ],
             [
              0.3333333333333333,
              "#9c179e"
             ],
             [
              0.4444444444444444,
              "#bd3786"
             ],
             [
              0.5555555555555556,
              "#d8576b"
             ],
             [
              0.6666666666666666,
              "#ed7953"
             ],
             [
              0.7777777777777778,
              "#fb9f3a"
             ],
             [
              0.8888888888888888,
              "#fdca26"
             ],
             [
              1,
              "#f0f921"
             ]
            ],
            "type": "contour"
           }
          ],
          "contourcarpet": [
           {
            "colorbar": {
             "outlinewidth": 0,
             "ticks": ""
            },
            "type": "contourcarpet"
           }
          ],
          "heatmap": [
           {
            "colorbar": {
             "outlinewidth": 0,
             "ticks": ""
            },
            "colorscale": [
             [
              0,
              "#0d0887"
             ],
             [
              0.1111111111111111,
              "#46039f"
             ],
             [
              0.2222222222222222,
              "#7201a8"
             ],
             [
              0.3333333333333333,
              "#9c179e"
             ],
             [
              0.4444444444444444,
              "#bd3786"
             ],
             [
              0.5555555555555556,
              "#d8576b"
             ],
             [
              0.6666666666666666,
              "#ed7953"
             ],
             [
              0.7777777777777778,
              "#fb9f3a"
             ],
             [
              0.8888888888888888,
              "#fdca26"
             ],
             [
              1,
              "#f0f921"
             ]
            ],
            "type": "heatmap"
           }
          ],
          "heatmapgl": [
           {
            "colorbar": {
             "outlinewidth": 0,
             "ticks": ""
            },
            "colorscale": [
             [
              0,
              "#0d0887"
             ],
             [
              0.1111111111111111,
              "#46039f"
             ],
             [
              0.2222222222222222,
              "#7201a8"
             ],
             [
              0.3333333333333333,
              "#9c179e"
             ],
             [
              0.4444444444444444,
              "#bd3786"
             ],
             [
              0.5555555555555556,
              "#d8576b"
             ],
             [
              0.6666666666666666,
              "#ed7953"
             ],
             [
              0.7777777777777778,
              "#fb9f3a"
             ],
             [
              0.8888888888888888,
              "#fdca26"
             ],
             [
              1,
              "#f0f921"
             ]
            ],
            "type": "heatmapgl"
           }
          ],
          "histogram": [
           {
            "marker": {
             "pattern": {
              "fillmode": "overlay",
              "size": 10,
              "solidity": 0.2
             }
            },
            "type": "histogram"
           }
          ],
          "histogram2d": [
           {
            "colorbar": {
             "outlinewidth": 0,
             "ticks": ""
            },
            "colorscale": [
             [
              0,
              "#0d0887"
             ],
             [
              0.1111111111111111,
              "#46039f"
             ],
             [
              0.2222222222222222,
              "#7201a8"
             ],
             [
              0.3333333333333333,
              "#9c179e"
             ],
             [
              0.4444444444444444,
              "#bd3786"
             ],
             [
              0.5555555555555556,
              "#d8576b"
             ],
             [
              0.6666666666666666,
              "#ed7953"
             ],
             [
              0.7777777777777778,
              "#fb9f3a"
             ],
             [
              0.8888888888888888,
              "#fdca26"
             ],
             [
              1,
              "#f0f921"
             ]
            ],
            "type": "histogram2d"
           }
          ],
          "histogram2dcontour": [
           {
            "colorbar": {
             "outlinewidth": 0,
             "ticks": ""
            },
            "colorscale": [
             [
              0,
              "#0d0887"
             ],
             [
              0.1111111111111111,
              "#46039f"
             ],
             [
              0.2222222222222222,
              "#7201a8"
             ],
             [
              0.3333333333333333,
              "#9c179e"
             ],
             [
              0.4444444444444444,
              "#bd3786"
             ],
             [
              0.5555555555555556,
              "#d8576b"
             ],
             [
              0.6666666666666666,
              "#ed7953"
             ],
             [
              0.7777777777777778,
              "#fb9f3a"
             ],
             [
              0.8888888888888888,
              "#fdca26"
             ],
             [
              1,
              "#f0f921"
             ]
            ],
            "type": "histogram2dcontour"
           }
          ],
          "mesh3d": [
           {
            "colorbar": {
             "outlinewidth": 0,
             "ticks": ""
            },
            "type": "mesh3d"
           }
          ],
          "parcoords": [
           {
            "line": {
             "colorbar": {
              "outlinewidth": 0,
              "ticks": ""
             }
            },
            "type": "parcoords"
           }
          ],
          "pie": [
           {
            "automargin": true,
            "type": "pie"
           }
          ],
          "scatter": [
           {
            "fillpattern": {
             "fillmode": "overlay",
             "size": 10,
             "solidity": 0.2
            },
            "type": "scatter"
           }
          ],
          "scatter3d": [
           {
            "line": {
             "colorbar": {
              "outlinewidth": 0,
              "ticks": ""
             }
            },
            "marker": {
             "colorbar": {
              "outlinewidth": 0,
              "ticks": ""
             }
            },
            "type": "scatter3d"
           }
          ],
          "scattercarpet": [
           {
            "marker": {
             "colorbar": {
              "outlinewidth": 0,
              "ticks": ""
             }
            },
            "type": "scattercarpet"
           }
          ],
          "scattergeo": [
           {
            "marker": {
             "colorbar": {
              "outlinewidth": 0,
              "ticks": ""
             }
            },
            "type": "scattergeo"
           }
          ],
          "scattergl": [
           {
            "marker": {
             "colorbar": {
              "outlinewidth": 0,
              "ticks": ""
             }
            },
            "type": "scattergl"
           }
          ],
          "scattermapbox": [
           {
            "marker": {
             "colorbar": {
              "outlinewidth": 0,
              "ticks": ""
             }
            },
            "type": "scattermapbox"
           }
          ],
          "scatterpolar": [
           {
            "marker": {
             "colorbar": {
              "outlinewidth": 0,
              "ticks": ""
             }
            },
            "type": "scatterpolar"
           }
          ],
          "scatterpolargl": [
           {
            "marker": {
             "colorbar": {
              "outlinewidth": 0,
              "ticks": ""
             }
            },
            "type": "scatterpolargl"
           }
          ],
          "scatterternary": [
           {
            "marker": {
             "colorbar": {
              "outlinewidth": 0,
              "ticks": ""
             }
            },
            "type": "scatterternary"
           }
          ],
          "surface": [
           {
            "colorbar": {
             "outlinewidth": 0,
             "ticks": ""
            },
            "colorscale": [
             [
              0,
              "#0d0887"
             ],
             [
              0.1111111111111111,
              "#46039f"
             ],
             [
              0.2222222222222222,
              "#7201a8"
             ],
             [
              0.3333333333333333,
              "#9c179e"
             ],
             [
              0.4444444444444444,
              "#bd3786"
             ],
             [
              0.5555555555555556,
              "#d8576b"
             ],
             [
              0.6666666666666666,
              "#ed7953"
             ],
             [
              0.7777777777777778,
              "#fb9f3a"
             ],
             [
              0.8888888888888888,
              "#fdca26"
             ],
             [
              1,
              "#f0f921"
             ]
            ],
            "type": "surface"
           }
          ],
          "table": [
           {
            "cells": {
             "fill": {
              "color": "#EBF0F8"
             },
             "line": {
              "color": "white"
             }
            },
            "header": {
             "fill": {
              "color": "#C8D4E3"
             },
             "line": {
              "color": "white"
             }
            },
            "type": "table"
           }
          ]
         },
         "layout": {
          "annotationdefaults": {
           "arrowcolor": "#2a3f5f",
           "arrowhead": 0,
           "arrowwidth": 1
          },
          "autotypenumbers": "strict",
          "coloraxis": {
           "colorbar": {
            "outlinewidth": 0,
            "ticks": ""
           }
          },
          "colorscale": {
           "diverging": [
            [
             0,
             "#8e0152"
            ],
            [
             0.1,
             "#c51b7d"
            ],
            [
             0.2,
             "#de77ae"
            ],
            [
             0.3,
             "#f1b6da"
            ],
            [
             0.4,
             "#fde0ef"
            ],
            [
             0.5,
             "#f7f7f7"
            ],
            [
             0.6,
             "#e6f5d0"
            ],
            [
             0.7,
             "#b8e186"
            ],
            [
             0.8,
             "#7fbc41"
            ],
            [
             0.9,
             "#4d9221"
            ],
            [
             1,
             "#276419"
            ]
           ],
           "sequential": [
            [
             0,
             "#0d0887"
            ],
            [
             0.1111111111111111,
             "#46039f"
            ],
            [
             0.2222222222222222,
             "#7201a8"
            ],
            [
             0.3333333333333333,
             "#9c179e"
            ],
            [
             0.4444444444444444,
             "#bd3786"
            ],
            [
             0.5555555555555556,
             "#d8576b"
            ],
            [
             0.6666666666666666,
             "#ed7953"
            ],
            [
             0.7777777777777778,
             "#fb9f3a"
            ],
            [
             0.8888888888888888,
             "#fdca26"
            ],
            [
             1,
             "#f0f921"
            ]
           ],
           "sequentialminus": [
            [
             0,
             "#0d0887"
            ],
            [
             0.1111111111111111,
             "#46039f"
            ],
            [
             0.2222222222222222,
             "#7201a8"
            ],
            [
             0.3333333333333333,
             "#9c179e"
            ],
            [
             0.4444444444444444,
             "#bd3786"
            ],
            [
             0.5555555555555556,
             "#d8576b"
            ],
            [
             0.6666666666666666,
             "#ed7953"
            ],
            [
             0.7777777777777778,
             "#fb9f3a"
            ],
            [
             0.8888888888888888,
             "#fdca26"
            ],
            [
             1,
             "#f0f921"
            ]
           ]
          },
          "colorway": [
           "#636efa",
           "#EF553B",
           "#00cc96",
           "#ab63fa",
           "#FFA15A",
           "#19d3f3",
           "#FF6692",
           "#B6E880",
           "#FF97FF",
           "#FECB52"
          ],
          "font": {
           "color": "#2a3f5f"
          },
          "geo": {
           "bgcolor": "white",
           "lakecolor": "white",
           "landcolor": "#E5ECF6",
           "showlakes": true,
           "showland": true,
           "subunitcolor": "white"
          },
          "hoverlabel": {
           "align": "left"
          },
          "hovermode": "closest",
          "mapbox": {
           "style": "light"
          },
          "paper_bgcolor": "white",
          "plot_bgcolor": "#E5ECF6",
          "polar": {
           "angularaxis": {
            "gridcolor": "white",
            "linecolor": "white",
            "ticks": ""
           },
           "bgcolor": "#E5ECF6",
           "radialaxis": {
            "gridcolor": "white",
            "linecolor": "white",
            "ticks": ""
           }
          },
          "scene": {
           "xaxis": {
            "backgroundcolor": "#E5ECF6",
            "gridcolor": "white",
            "gridwidth": 2,
            "linecolor": "white",
            "showbackground": true,
            "ticks": "",
            "zerolinecolor": "white"
           },
           "yaxis": {
            "backgroundcolor": "#E5ECF6",
            "gridcolor": "white",
            "gridwidth": 2,
            "linecolor": "white",
            "showbackground": true,
            "ticks": "",
            "zerolinecolor": "white"
           },
           "zaxis": {
            "backgroundcolor": "#E5ECF6",
            "gridcolor": "white",
            "gridwidth": 2,
            "linecolor": "white",
            "showbackground": true,
            "ticks": "",
            "zerolinecolor": "white"
           }
          },
          "shapedefaults": {
           "line": {
            "color": "#2a3f5f"
           }
          },
          "ternary": {
           "aaxis": {
            "gridcolor": "white",
            "linecolor": "white",
            "ticks": ""
           },
           "baxis": {
            "gridcolor": "white",
            "linecolor": "white",
            "ticks": ""
           },
           "bgcolor": "#E5ECF6",
           "caxis": {
            "gridcolor": "white",
            "linecolor": "white",
            "ticks": ""
           }
          },
          "title": {
           "x": 0.05
          },
          "xaxis": {
           "automargin": true,
           "gridcolor": "white",
           "linecolor": "white",
           "ticks": "",
           "title": {
            "standoff": 15
           },
           "zerolinecolor": "white",
           "zerolinewidth": 2
          },
          "yaxis": {
           "automargin": true,
           "gridcolor": "white",
           "linecolor": "white",
           "ticks": "",
           "title": {
            "standoff": 15
           },
           "zerolinecolor": "white",
           "zerolinewidth": 2
          }
         }
        },
        "xaxis": {
         "anchor": "y",
         "constrain": "domain",
         "domain": [
          0,
          1
         ],
         "scaleanchor": "y"
        },
        "yaxis": {
         "anchor": "x",
         "autorange": "reversed",
         "constrain": "domain",
         "domain": [
          0,
          1
         ]
        }
       }
      }
     },
     "metadata": {},
     "output_type": "display_data"
    }
   ],
   "source": [
    "warehouse_heatmap = px.imshow(warehouse.layout_grid[:,:,0])\n",
    "warehouse_heatmap"
   ]
  },
  {
   "cell_type": "code",
   "execution_count": null,
   "metadata": {},
   "outputs": [],
   "source": []
  }
 ],
 "metadata": {
  "kernelspec": {
   "display_name": "Python 3",
   "language": "python",
   "name": "python3"
  },
  "language_info": {
   "codemirror_mode": {
    "name": "ipython",
    "version": 3
   },
   "file_extension": ".py",
   "mimetype": "text/x-python",
   "name": "python",
   "nbconvert_exporter": "python",
   "pygments_lexer": "ipython3",
   "version": "3.11.9"
  },
  "orig_nbformat": 4
 },
 "nbformat": 4,
 "nbformat_minor": 2
}
